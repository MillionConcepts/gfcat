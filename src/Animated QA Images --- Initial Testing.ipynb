{
 "cells": [
  {
   "cell_type": "code",
   "execution_count": 1,
   "id": "df1ec777",
   "metadata": {},
   "outputs": [
    {
     "name": "stdout",
     "output_type": "stream",
     "text": [
      "Using matplotlib backend: <object object at 0x10925e1f0>\n",
      "%pylab is deprecated, use %matplotlib inline and import the required libraries.\n",
      "Populating the interactive namespace from numpy and matplotlib\n"
     ]
    }
   ],
   "source": [
    "%pylab\n",
    "%matplotlib inline"
   ]
  },
  {
   "cell_type": "code",
   "execution_count": 2,
   "id": "a579694e",
   "metadata": {},
   "outputs": [],
   "source": [
    "from gfcat_utils import *"
   ]
  },
  {
   "cell_type": "code",
   "execution_count": 3,
   "id": "786308f1",
   "metadata": {},
   "outputs": [],
   "source": [
    "import numpy as np\n",
    "from astropy.io import fits as pyfits\n",
    "from astropy import wcs as pywcs\n",
    "from astropy.visualization import simple_norm, ZScaleInterval\n",
    "import imageio"
   ]
  },
  {
   "cell_type": "code",
   "execution_count": 4,
   "id": "0e142c42",
   "metadata": {},
   "outputs": [],
   "source": [
    "if not sys.warnoptions:\n",
    "    import warnings\n",
    "    warnings.simplefilter(\"ignore\")"
   ]
  },
  {
   "cell_type": "code",
   "execution_count": 5,
   "id": "3240f73d",
   "metadata": {},
   "outputs": [],
   "source": [
    "tmpdir = \"/Users/cm/GFCAT/gfcat/tmp/\""
   ]
  },
  {
   "cell_type": "code",
   "execution_count": 6,
   "id": "a01a352d",
   "metadata": {},
   "outputs": [
    {
     "data": {
      "text/html": [
       "<pre style=\"white-space:pre;overflow-x:auto;line-height:normal;font-family:Menlo,'DejaVu Sans Mono',consolas,'Courier New',monospace\">e20728\n",
       "</pre>\n"
      ],
      "text/plain": [
       "e20728\n"
      ]
     },
     "metadata": {},
     "output_type": "display_data"
    }
   ],
   "source": [
    "#fn = '/Users/cm/GFCAT/data/e42907/e42907-nd-full.fits.gz'\n",
    "fn = '/Users/cm/github/gphoton_working/test_data/e46635/e46635-nd-30s.fits.gz'\n",
    "fn = '/Users/cm/github/gphoton_working/test_data/e20728/e20728-nd-30s.fits.gz'\n",
    "eclipse = fn.split('/')[-1].split('-')[0][1:]\n",
    "print(f\"e{eclipse}\")"
   ]
  },
  {
   "cell_type": "code",
   "execution_count": 8,
   "id": "83e66f86",
   "metadata": {},
   "outputs": [
    {
     "data": {
      "text/html": [
       "<pre style=\"white-space:pre;overflow-x:auto;line-height:normal;font-family:Menlo,'DejaVu Sans Mono',consolas,'Courier New',monospace\"><span style=\"font-weight: bold\">(</span><span style=\"color: #008080; text-decoration-color: #008080; font-weight: bold\">6</span>, <span style=\"color: #008080; text-decoration-color: #008080; font-weight: bold\">3087</span>, <span style=\"color: #008080; text-decoration-color: #008080; font-weight: bold\">3120</span><span style=\"font-weight: bold\">)</span>\n",
       "<span style=\"font-weight: bold\">(</span><span style=\"color: #008080; text-decoration-color: #008080; font-weight: bold\">6</span>, <span style=\"color: #008080; text-decoration-color: #008080; font-weight: bold\">3087</span>, <span style=\"color: #008080; text-decoration-color: #008080; font-weight: bold\">3120</span><span style=\"font-weight: bold\">)</span>\n",
       "<span style=\"font-weight: bold\">(</span><span style=\"color: #008080; text-decoration-color: #008080; font-weight: bold\">6</span>, <span style=\"color: #008080; text-decoration-color: #008080; font-weight: bold\">3087</span>, <span style=\"color: #008080; text-decoration-color: #008080; font-weight: bold\">3120</span><span style=\"font-weight: bold\">)</span>\n",
       "</pre>\n"
      ],
      "text/plain": [
       "\u001b[1m(\u001b[0m\u001b[1;36m6\u001b[0m, \u001b[1;36m3087\u001b[0m, \u001b[1;36m3120\u001b[0m\u001b[1m)\u001b[0m\n",
       "\u001b[1m(\u001b[0m\u001b[1;36m6\u001b[0m, \u001b[1;36m3087\u001b[0m, \u001b[1;36m3120\u001b[0m\u001b[1m)\u001b[0m\n",
       "\u001b[1m(\u001b[0m\u001b[1;36m6\u001b[0m, \u001b[1;36m3087\u001b[0m, \u001b[1;36m3120\u001b[0m\u001b[1m)\u001b[0m\n"
      ]
     },
     "metadata": {},
     "output_type": "display_data"
    }
   ],
   "source": [
    "movmap,flagmap,edgemap,wcs,tranges,exptimes=read_image(fn)\n",
    "movmap[np.where(np.isinf(movmap))]=0 # because it pops out with inf values... IDK\n",
    "print(np.shape(movmap),np.shape(edgemap),np.shape(flagmap))"
   ]
  },
  {
   "cell_type": "code",
   "execution_count": 11,
   "id": "9d2d364a",
   "metadata": {
    "scrolled": false
   },
   "outputs": [
    {
     "data": {
      "text/html": [
       "<pre style=\"white-space:pre;overflow-x:auto;line-height:normal;font-family:Menlo,'DejaVu Sans Mono',consolas,'Courier New',monospace\"><span style=\"font-weight: bold\">(</span><span style=\"color: #008080; text-decoration-color: #008080; font-weight: bold\">3087</span>, <span style=\"color: #008080; text-decoration-color: #008080; font-weight: bold\">3120</span><span style=\"font-weight: bold\">)</span>\n",
       "</pre>\n"
      ],
      "text/plain": [
       "\u001b[1m(\u001b[0m\u001b[1;36m3087\u001b[0m, \u001b[1;36m3120\u001b[0m\u001b[1m)\u001b[0m\n"
      ]
     },
     "metadata": {},
     "output_type": "display_data"
    },
    {
     "data": {
      "text/html": [
       "<pre style=\"white-space:pre;overflow-x:auto;line-height:normal;font-family:Menlo,'DejaVu Sans Mono',consolas,'Courier New',monospace\"><span style=\"font-weight: bold\">(</span><span style=\"color: #008080; text-decoration-color: #008080; font-weight: bold\">3087</span>, <span style=\"color: #008080; text-decoration-color: #008080; font-weight: bold\">3120</span><span style=\"font-weight: bold\">)</span>\n",
       "</pre>\n"
      ],
      "text/plain": [
       "\u001b[1m(\u001b[0m\u001b[1;36m3087\u001b[0m, \u001b[1;36m3120\u001b[0m\u001b[1m)\u001b[0m\n"
      ]
     },
     "metadata": {},
     "output_type": "display_data"
    },
    {
     "data": {
      "text/html": [
       "<pre style=\"white-space:pre;overflow-x:auto;line-height:normal;font-family:Menlo,'DejaVu Sans Mono',consolas,'Courier New',monospace\"><span style=\"font-weight: bold\">(</span><span style=\"color: #008080; text-decoration-color: #008080; font-weight: bold\">3087</span>, <span style=\"color: #008080; text-decoration-color: #008080; font-weight: bold\">3120</span><span style=\"font-weight: bold\">)</span>\n",
       "</pre>\n"
      ],
      "text/plain": [
       "\u001b[1m(\u001b[0m\u001b[1;36m3087\u001b[0m, \u001b[1;36m3120\u001b[0m\u001b[1m)\u001b[0m\n"
      ]
     },
     "metadata": {},
     "output_type": "display_data"
    },
    {
     "data": {
      "text/html": [
       "<pre style=\"white-space:pre;overflow-x:auto;line-height:normal;font-family:Menlo,'DejaVu Sans Mono',consolas,'Courier New',monospace\"><span style=\"font-weight: bold\">(</span><span style=\"color: #008080; text-decoration-color: #008080; font-weight: bold\">3087</span>, <span style=\"color: #008080; text-decoration-color: #008080; font-weight: bold\">3120</span><span style=\"font-weight: bold\">)</span>\n",
       "</pre>\n"
      ],
      "text/plain": [
       "\u001b[1m(\u001b[0m\u001b[1;36m3087\u001b[0m, \u001b[1;36m3120\u001b[0m\u001b[1m)\u001b[0m\n"
      ]
     },
     "metadata": {},
     "output_type": "display_data"
    }
   ],
   "source": [
    "# write individual frames of the animated gif\n",
    "for i,frame in enumerate(movmap[1:-1]): # probably eliminate the first / last frame, which always has lower exposure\n",
    "    plt.figure(figsize=(8,8));\n",
    "    plt.xticks([])\n",
    "    plt.yticks([])\n",
    "    plt.tight_layout()\n",
    "    plt.imshow(ZScaleInterval()(frame),cmap=\"Greys_r\",origin=\"lower\")\n",
    "    plt.savefig(f'{tmpdir}/e{eclipse}_movie_{str(i).zfill(2)}')\n",
    "    plt.close()"
   ]
  },
  {
   "cell_type": "code",
   "execution_count": 15,
   "id": "bf41f696",
   "metadata": {},
   "outputs": [],
   "source": [
    "# write the animated gif\n",
    "with imageio.get_writer(f'{tmpdir}/e{eclipse}.gif', mode='I', fps=3) as writer:\n",
    "    for filename in os.listdir('/Users/cm/GFCAT/gfcat/tmp/'):\n",
    "        if not 'movie' in filename:\n",
    "            continue\n",
    "        image = imageio.imread(f'{tmpdir}/{filename}')\n",
    "        writer.append_data(image)"
   ]
  },
  {
   "cell_type": "code",
   "execution_count": null,
   "id": "bac1ae30",
   "metadata": {},
   "outputs": [],
   "source": []
  }
 ],
 "metadata": {
  "kernelspec": {
   "display_name": "Python 3 (ipykernel)",
   "language": "python",
   "name": "python3"
  },
  "language_info": {
   "codemirror_mode": {
    "name": "ipython",
    "version": 3
   },
   "file_extension": ".py",
   "mimetype": "text/x-python",
   "name": "python",
   "nbconvert_exporter": "python",
   "pygments_lexer": "ipython3",
   "version": "3.9.13"
  }
 },
 "nbformat": 4,
 "nbformat_minor": 5
}
