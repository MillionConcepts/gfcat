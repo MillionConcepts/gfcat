{
 "cells": [
  {
   "cell_type": "code",
   "execution_count": 1,
   "id": "132cb6e5",
   "metadata": {},
   "outputs": [],
   "source": [
    "%matplotlib inline\n",
    "import matplotlib.pyplot as plt\n",
    "import numpy as np\n",
    "import pyarrow.parquet as pq\n",
    "import pandas as pd\n",
    "from rich import print\n",
    "import warnings\n",
    "import datetime\n",
    "from astropy.time import Time\n",
    "import os"
   ]
  },
  {
   "cell_type": "code",
   "execution_count": 2,
   "id": "618804d9",
   "metadata": {},
   "outputs": [],
   "source": [
    "def counts2mag(cps, band):\n",
    "    scale = 18.82 if band == 'FUV' else 20.08\n",
    "    with np.errstate(invalid='ignore'):\n",
    "        with warnings.catch_warnings():\n",
    "            warnings.simplefilter(\"ignore\")\n",
    "            mag = -2.5 * np.log10(cps) + scale\n",
    "    return mag"
   ]
  },
  {
   "cell_type": "code",
   "execution_count": 3,
   "id": "aa811175",
   "metadata": {},
   "outputs": [],
   "source": [
    "header_data = pd.read_csv('../ref/mislike_image_header_table.csv')\n",
    "catalog_filename = '../ref/catalog_nd_daostarfinder.parquet'\n",
    "catalog_file = pq.ParquetFile(catalog_filename)"
   ]
  },
  {
   "cell_type": "code",
   "execution_count": 4,
   "id": "0e20cc86",
   "metadata": {},
   "outputs": [
    {
     "data": {
      "text/html": [
       "<pre style=\"white-space:pre;overflow-x:auto;line-height:normal;font-family:Menlo,'DejaVu Sans Mono',consolas,'Courier New',monospace\"><span style=\"color: #008080; text-decoration-color: #008080; font-weight: bold\">528</span>\n",
       "</pre>\n"
      ],
      "text/plain": [
       "\u001b[1;36m528\u001b[0m\n"
      ]
     },
     "metadata": {},
     "output_type": "display_data"
    }
   ],
   "source": [
    "flare_gifs = !ls /Users/cm/GFCAT/gfcat/test_gifs/sorted/flare/*\n",
    "print(len(flare_gifs))"
   ]
  },
  {
   "cell_type": "code",
   "execution_count": 5,
   "id": "ecb9527f",
   "metadata": {},
   "outputs": [],
   "source": [
    "def make_target_table(fn_list):\n",
    "    table = pd.DataFrame()\n",
    "    for fn_list in fn:\n",
    "        eclipse = int(fn.split('/')[-1].split('-')[0][1:])\n",
    "        obj_id = int(fn.split('/')[-1].split('-')[1])\n",
    "        this_star = pq.read_table(catalog_filename,filters =\n",
    "                                  [('eclipse','=',eclipse),\n",
    "                                   ('obj_id','=',obj_id)]).to_pandas()\n",
    "        table = pd.concat([table,this_star[[\"eclipse\",\"obj_id\",\"ra\",\"dec\",]]])\n"
   ]
  },
  {
   "cell_type": "code",
   "execution_count": 6,
   "id": "4e0c39eb",
   "metadata": {},
   "outputs": [
    {
     "data": {
      "text/html": [
       "<pre style=\"white-space:pre;overflow-x:auto;line-height:normal;font-family:Menlo,'DejaVu Sans Mono',consolas,'Courier New',monospace\"><span style=\"font-weight: bold\">[</span>\n",
       "    <span style=\"color: #008000; text-decoration-color: #008000\">'marginal'</span>,\n",
       "    <span style=\"color: #008000; text-decoration-color: #008000\">'adjust'</span>,\n",
       "    <span style=\"color: #008000; text-decoration-color: #008000\">'.DS_Store'</span>,\n",
       "    <span style=\"color: #008000; text-decoration-color: #008000\">'eclipse'</span>,\n",
       "    <span style=\"color: #008000; text-decoration-color: #008000\">'trend'</span>,\n",
       "    <span style=\"color: #008000; text-decoration-color: #008000\">'moving'</span>,\n",
       "    <span style=\"color: #008000; text-decoration-color: #008000\">'adjust2'</span>,\n",
       "    <span style=\"color: #008000; text-decoration-color: #008000\">'flares_adjust'</span>,\n",
       "    <span style=\"color: #008000; text-decoration-color: #008000\">'artifact'</span>,\n",
       "    <span style=\"color: #008000; text-decoration-color: #008000\">'unk variable'</span>,\n",
       "    <span style=\"color: #008000; text-decoration-color: #008000\">'flare'</span>\n",
       "<span style=\"font-weight: bold\">]</span>\n",
       "</pre>\n"
      ],
      "text/plain": [
       "\u001b[1m[\u001b[0m\n",
       "    \u001b[32m'marginal'\u001b[0m,\n",
       "    \u001b[32m'adjust'\u001b[0m,\n",
       "    \u001b[32m'.DS_Store'\u001b[0m,\n",
       "    \u001b[32m'eclipse'\u001b[0m,\n",
       "    \u001b[32m'trend'\u001b[0m,\n",
       "    \u001b[32m'moving'\u001b[0m,\n",
       "    \u001b[32m'adjust2'\u001b[0m,\n",
       "    \u001b[32m'flares_adjust'\u001b[0m,\n",
       "    \u001b[32m'artifact'\u001b[0m,\n",
       "    \u001b[32m'unk variable'\u001b[0m,\n",
       "    \u001b[32m'flare'\u001b[0m\n",
       "\u001b[1m]\u001b[0m\n"
      ]
     },
     "metadata": {},
     "output_type": "display_data"
    }
   ],
   "source": [
    "['marginal','eclipse','trend','flare','unk variable','moving']\n",
    "print(os.listdir(\"/Users/cm/GFCAT/gfcat/test_gifs/sorted/\"))"
   ]
  },
  {
   "cell_type": "code",
   "execution_count": 12,
   "id": "8374f025",
   "metadata": {},
   "outputs": [],
   "source": [
    "flare_gifs = !ls /Users/cm/GFCAT/gfcat/test_gifs/sorted/flare/*\n",
    "flare_table = pd.DataFrame()\n",
    "for flare_gif in flare_gifs:\n",
    "    eclipse = int(flare_gif.split('/')[-1].split('-')[0][1:])\n",
    "    obj_id = int(flare_gif.split('/')[-1].split('-')[1])\n",
    "    this_star = pq.read_table(catalog_filename,filters =\n",
    "                              [('eclipse','=',eclipse),\n",
    "                               ('obj_id','=',obj_id)]).to_pandas()\n",
    "    flare_table = pd.concat([flare_table,this_star[[\"eclipse\",\"obj_id\",\"ra\",\"dec\",]]])\n",
    "flare_table.to_csv('flare_table.csv',index=None)"
   ]
  },
  {
   "cell_type": "code",
   "execution_count": 13,
   "id": "86982d49",
   "metadata": {},
   "outputs": [
    {
     "data": {
      "text/html": [
       "<pre style=\"white-space:pre;overflow-x:auto;line-height:normal;font-family:Menlo,'DejaVu Sans Mono',consolas,'Courier New',monospace\">    eclipse      obj_id          ra        dec\n",
       "<span style=\"color: #008080; text-decoration-color: #008080; font-weight: bold\">0</span>      <span style=\"color: #008080; text-decoration-color: #008080; font-weight: bold\">1413</span>  <span style=\"color: #008080; text-decoration-color: #008080; font-weight: bold\">1953301413</span>  <span style=\"color: #008080; text-decoration-color: #008080; font-weight: bold\">311.565113</span>  <span style=\"color: #008080; text-decoration-color: #008080; font-weight: bold\">-4.930670</span>\n",
       "<span style=\"color: #008080; text-decoration-color: #008080; font-weight: bold\">0</span>      <span style=\"color: #008080; text-decoration-color: #008080; font-weight: bold\">1420</span>  <span style=\"color: #008080; text-decoration-color: #008080; font-weight: bold\">1468701420</span>  <span style=\"color: #008080; text-decoration-color: #008080; font-weight: bold\">315.935391</span>  <span style=\"color: #008080; text-decoration-color: #008080; font-weight: bold\">-7.379244</span>\n",
       "<span style=\"color: #008080; text-decoration-color: #008080; font-weight: bold\">0</span>      <span style=\"color: #008080; text-decoration-color: #008080; font-weight: bold\">1422</span>  <span style=\"color: #008080; text-decoration-color: #008080; font-weight: bold\">1479501422</span>  <span style=\"color: #008080; text-decoration-color: #008080; font-weight: bold\">343.352654</span> <span style=\"color: #008080; text-decoration-color: #008080; font-weight: bold\">-39.793072</span>\n",
       "<span style=\"color: #008080; text-decoration-color: #008080; font-weight: bold\">0</span>      <span style=\"color: #008080; text-decoration-color: #008080; font-weight: bold\">1623</span>  <span style=\"color: #008080; text-decoration-color: #008080; font-weight: bold\">1417401623</span>  <span style=\"color: #008080; text-decoration-color: #008080; font-weight: bold\">259.204219</span>  <span style=\"color: #008080; text-decoration-color: #008080; font-weight: bold\">60.039535</span>\n",
       "<span style=\"color: #008080; text-decoration-color: #008080; font-weight: bold\">0</span>      <span style=\"color: #008080; text-decoration-color: #008080; font-weight: bold\">1640</span>  <span style=\"color: #008080; text-decoration-color: #008080; font-weight: bold\">1297001640</span>  <span style=\"color: #008080; text-decoration-color: #008080; font-weight: bold\">260.307220</span>  <span style=\"color: #008080; text-decoration-color: #008080; font-weight: bold\">58.102305</span>\n",
       "..      <span style=\"color: #808000; text-decoration-color: #808000\">...</span>         <span style=\"color: #808000; text-decoration-color: #808000\">...</span>         <span style=\"color: #808000; text-decoration-color: #808000\">...</span>        <span style=\"color: #808000; text-decoration-color: #808000\">...</span>\n",
       "<span style=\"color: #008080; text-decoration-color: #008080; font-weight: bold\">0</span>     <span style=\"color: #008080; text-decoration-color: #008080; font-weight: bold\">45702</span>  <span style=\"color: #008080; text-decoration-color: #008080; font-weight: bold\">1401745702</span>   <span style=\"color: #008080; text-decoration-color: #008080; font-weight: bold\">25.245244</span>  <span style=\"color: #008080; text-decoration-color: #008080; font-weight: bold\">34.078142</span>\n",
       "<span style=\"color: #008080; text-decoration-color: #008080; font-weight: bold\">0</span>     <span style=\"color: #008080; text-decoration-color: #008080; font-weight: bold\">45730</span>  <span style=\"color: #008080; text-decoration-color: #008080; font-weight: bold\">1513045730</span>   <span style=\"color: #008080; text-decoration-color: #008080; font-weight: bold\">27.571128</span>  <span style=\"color: #008080; text-decoration-color: #008080; font-weight: bold\">31.047408</span>\n",
       "<span style=\"color: #008080; text-decoration-color: #008080; font-weight: bold\">0</span>     <span style=\"color: #008080; text-decoration-color: #008080; font-weight: bold\">45856</span>  <span style=\"color: #008080; text-decoration-color: #008080; font-weight: bold\">1995745856</span>  <span style=\"color: #008080; text-decoration-color: #008080; font-weight: bold\">354.573904</span> <span style=\"color: #008080; text-decoration-color: #008080; font-weight: bold\">-41.518851</span>\n",
       "<span style=\"color: #008080; text-decoration-color: #008080; font-weight: bold\">0</span>     <span style=\"color: #008080; text-decoration-color: #008080; font-weight: bold\">46287</span>   <span style=\"color: #008080; text-decoration-color: #008080; font-weight: bold\">637246287</span>   <span style=\"color: #008080; text-decoration-color: #008080; font-weight: bold\">35.457369</span>  <span style=\"color: #008080; text-decoration-color: #008080; font-weight: bold\">74.264867</span>\n",
       "<span style=\"color: #008080; text-decoration-color: #008080; font-weight: bold\">0</span>     <span style=\"color: #008080; text-decoration-color: #008080; font-weight: bold\">46657</span>  <span style=\"color: #008080; text-decoration-color: #008080; font-weight: bold\">4738446657</span>  <span style=\"color: #008080; text-decoration-color: #008080; font-weight: bold\">135.403098</span> <span style=\"color: #008080; text-decoration-color: #008080; font-weight: bold\">-33.594075</span>\n",
       "\n",
       "<span style=\"font-weight: bold\">[</span><span style=\"color: #008080; text-decoration-color: #008080; font-weight: bold\">528</span> rows x <span style=\"color: #008080; text-decoration-color: #008080; font-weight: bold\">4</span> columns<span style=\"font-weight: bold\">]</span>\n",
       "</pre>\n"
      ],
      "text/plain": [
       "    eclipse      obj_id          ra        dec\n",
       "\u001b[1;36m0\u001b[0m      \u001b[1;36m1413\u001b[0m  \u001b[1;36m1953301413\u001b[0m  \u001b[1;36m311.565113\u001b[0m  \u001b[1;36m-4.930670\u001b[0m\n",
       "\u001b[1;36m0\u001b[0m      \u001b[1;36m1420\u001b[0m  \u001b[1;36m1468701420\u001b[0m  \u001b[1;36m315.935391\u001b[0m  \u001b[1;36m-7.379244\u001b[0m\n",
       "\u001b[1;36m0\u001b[0m      \u001b[1;36m1422\u001b[0m  \u001b[1;36m1479501422\u001b[0m  \u001b[1;36m343.352654\u001b[0m \u001b[1;36m-39.793072\u001b[0m\n",
       "\u001b[1;36m0\u001b[0m      \u001b[1;36m1623\u001b[0m  \u001b[1;36m1417401623\u001b[0m  \u001b[1;36m259.204219\u001b[0m  \u001b[1;36m60.039535\u001b[0m\n",
       "\u001b[1;36m0\u001b[0m      \u001b[1;36m1640\u001b[0m  \u001b[1;36m1297001640\u001b[0m  \u001b[1;36m260.307220\u001b[0m  \u001b[1;36m58.102305\u001b[0m\n",
       "..      \u001b[33m...\u001b[0m         \u001b[33m...\u001b[0m         \u001b[33m...\u001b[0m        \u001b[33m...\u001b[0m\n",
       "\u001b[1;36m0\u001b[0m     \u001b[1;36m45702\u001b[0m  \u001b[1;36m1401745702\u001b[0m   \u001b[1;36m25.245244\u001b[0m  \u001b[1;36m34.078142\u001b[0m\n",
       "\u001b[1;36m0\u001b[0m     \u001b[1;36m45730\u001b[0m  \u001b[1;36m1513045730\u001b[0m   \u001b[1;36m27.571128\u001b[0m  \u001b[1;36m31.047408\u001b[0m\n",
       "\u001b[1;36m0\u001b[0m     \u001b[1;36m45856\u001b[0m  \u001b[1;36m1995745856\u001b[0m  \u001b[1;36m354.573904\u001b[0m \u001b[1;36m-41.518851\u001b[0m\n",
       "\u001b[1;36m0\u001b[0m     \u001b[1;36m46287\u001b[0m   \u001b[1;36m637246287\u001b[0m   \u001b[1;36m35.457369\u001b[0m  \u001b[1;36m74.264867\u001b[0m\n",
       "\u001b[1;36m0\u001b[0m     \u001b[1;36m46657\u001b[0m  \u001b[1;36m4738446657\u001b[0m  \u001b[1;36m135.403098\u001b[0m \u001b[1;36m-33.594075\u001b[0m\n",
       "\n",
       "\u001b[1m[\u001b[0m\u001b[1;36m528\u001b[0m rows x \u001b[1;36m4\u001b[0m columns\u001b[1m]\u001b[0m\n"
      ]
     },
     "metadata": {},
     "output_type": "display_data"
    }
   ],
   "source": [
    "print(flare_table)"
   ]
  },
  {
   "cell_type": "code",
   "execution_count": 82,
   "id": "0d72d06c",
   "metadata": {
    "scrolled": false
   },
   "outputs": [
    {
     "data": {
      "text/html": [
       "<pre style=\"white-space:pre;overflow-x:auto;line-height:normal;font-family:Menlo,'DejaVu Sans Mono',consolas,'Courier New',monospace\">        obj_id          ra        dec  eclipse    NUVmag  NUVmag_err_1  \\\n",
       "<span style=\"color: #008080; text-decoration-color: #008080; font-weight: bold\">0</span>   <span style=\"color: #008080; text-decoration-color: #008080; font-weight: bold\">1953301413</span>  <span style=\"color: #008080; text-decoration-color: #008080; font-weight: bold\">311.565113</span>  <span style=\"color: #008080; text-decoration-color: #008080; font-weight: bold\">-4.930670</span>     <span style=\"color: #008080; text-decoration-color: #008080; font-weight: bold\">1413</span>  <span style=\"color: #008080; text-decoration-color: #008080; font-weight: bold\">0.010390</span>      <span style=\"color: #008080; text-decoration-color: #008080; font-weight: bold\">0.010390</span>   \n",
       "<span style=\"color: #008080; text-decoration-color: #008080; font-weight: bold\">0</span>   <span style=\"color: #008080; text-decoration-color: #008080; font-weight: bold\">1468701420</span>  <span style=\"color: #008080; text-decoration-color: #008080; font-weight: bold\">315.935391</span>  <span style=\"color: #008080; text-decoration-color: #008080; font-weight: bold\">-7.379244</span>     <span style=\"color: #008080; text-decoration-color: #008080; font-weight: bold\">1420</span>  <span style=\"color: #008080; text-decoration-color: #008080; font-weight: bold\">0.021507</span>      <span style=\"color: #008080; text-decoration-color: #008080; font-weight: bold\">0.021507</span>   \n",
       "<span style=\"color: #008080; text-decoration-color: #008080; font-weight: bold\">0</span>   <span style=\"color: #008080; text-decoration-color: #008080; font-weight: bold\">1479501422</span>  <span style=\"color: #008080; text-decoration-color: #008080; font-weight: bold\">343.352654</span> <span style=\"color: #008080; text-decoration-color: #008080; font-weight: bold\">-39.793072</span>     <span style=\"color: #008080; text-decoration-color: #008080; font-weight: bold\">1422</span>  <span style=\"color: #008080; text-decoration-color: #008080; font-weight: bold\">0.039535</span>      <span style=\"color: #008080; text-decoration-color: #008080; font-weight: bold\">0.039535</span>   \n",
       "<span style=\"color: #008080; text-decoration-color: #008080; font-weight: bold\">0</span>   <span style=\"color: #008080; text-decoration-color: #008080; font-weight: bold\">1417401623</span>  <span style=\"color: #008080; text-decoration-color: #008080; font-weight: bold\">259.204219</span>  <span style=\"color: #008080; text-decoration-color: #008080; font-weight: bold\">60.039535</span>     <span style=\"color: #008080; text-decoration-color: #008080; font-weight: bold\">1623</span>  <span style=\"color: #008080; text-decoration-color: #008080; font-weight: bold\">0.038897</span>      <span style=\"color: #008080; text-decoration-color: #008080; font-weight: bold\">0.038897</span>   \n",
       "<span style=\"color: #008080; text-decoration-color: #008080; font-weight: bold\">0</span>   <span style=\"color: #008080; text-decoration-color: #008080; font-weight: bold\">1297001640</span>  <span style=\"color: #008080; text-decoration-color: #008080; font-weight: bold\">260.307220</span>  <span style=\"color: #008080; text-decoration-color: #008080; font-weight: bold\">58.102305</span>     <span style=\"color: #008080; text-decoration-color: #008080; font-weight: bold\">1640</span>  <span style=\"color: #008080; text-decoration-color: #008080; font-weight: bold\">0.030795</span>      <span style=\"color: #008080; text-decoration-color: #008080; font-weight: bold\">0.030795</span>   \n",
       "..         <span style=\"color: #808000; text-decoration-color: #808000\">...</span>         <span style=\"color: #808000; text-decoration-color: #808000\">...</span>        <span style=\"color: #808000; text-decoration-color: #808000\">...</span>      <span style=\"color: #808000; text-decoration-color: #808000\">...</span>       <span style=\"color: #808000; text-decoration-color: #808000\">...</span>           <span style=\"color: #808000; text-decoration-color: #808000\">...</span>   \n",
       "<span style=\"color: #008080; text-decoration-color: #008080; font-weight: bold\">0</span>   <span style=\"color: #008080; text-decoration-color: #008080; font-weight: bold\">1401745702</span>   <span style=\"color: #008080; text-decoration-color: #008080; font-weight: bold\">25.245244</span>  <span style=\"color: #008080; text-decoration-color: #008080; font-weight: bold\">34.078142</span>    <span style=\"color: #008080; text-decoration-color: #008080; font-weight: bold\">45702</span>  <span style=\"color: #008080; text-decoration-color: #008080; font-weight: bold\">0.024567</span>      <span style=\"color: #008080; text-decoration-color: #008080; font-weight: bold\">0.024567</span>   \n",
       "<span style=\"color: #008080; text-decoration-color: #008080; font-weight: bold\">0</span>   <span style=\"color: #008080; text-decoration-color: #008080; font-weight: bold\">1513045730</span>   <span style=\"color: #008080; text-decoration-color: #008080; font-weight: bold\">27.571128</span>  <span style=\"color: #008080; text-decoration-color: #008080; font-weight: bold\">31.047408</span>    <span style=\"color: #008080; text-decoration-color: #008080; font-weight: bold\">45730</span>  <span style=\"color: #008080; text-decoration-color: #008080; font-weight: bold\">0.016177</span>      <span style=\"color: #008080; text-decoration-color: #008080; font-weight: bold\">0.016177</span>   \n",
       "<span style=\"color: #008080; text-decoration-color: #008080; font-weight: bold\">0</span>   <span style=\"color: #008080; text-decoration-color: #008080; font-weight: bold\">1995745856</span>  <span style=\"color: #008080; text-decoration-color: #008080; font-weight: bold\">354.573904</span> <span style=\"color: #008080; text-decoration-color: #008080; font-weight: bold\">-41.518851</span>    <span style=\"color: #008080; text-decoration-color: #008080; font-weight: bold\">45856</span>  <span style=\"color: #008080; text-decoration-color: #008080; font-weight: bold\">0.022697</span>      <span style=\"color: #008080; text-decoration-color: #008080; font-weight: bold\">0.022697</span>   \n",
       "<span style=\"color: #008080; text-decoration-color: #008080; font-weight: bold\">0</span>    <span style=\"color: #008080; text-decoration-color: #008080; font-weight: bold\">637246287</span>   <span style=\"color: #008080; text-decoration-color: #008080; font-weight: bold\">35.457369</span>  <span style=\"color: #008080; text-decoration-color: #008080; font-weight: bold\">74.264867</span>    <span style=\"color: #008080; text-decoration-color: #008080; font-weight: bold\">46287</span>  <span style=\"color: #008080; text-decoration-color: #008080; font-weight: bold\">0.024948</span>      <span style=\"color: #008080; text-decoration-color: #008080; font-weight: bold\">0.024948</span>   \n",
       "<span style=\"color: #008080; text-decoration-color: #008080; font-weight: bold\">0</span>   <span style=\"color: #008080; text-decoration-color: #008080; font-weight: bold\">4738446657</span>  <span style=\"color: #008080; text-decoration-color: #008080; font-weight: bold\">135.403098</span> <span style=\"color: #008080; text-decoration-color: #008080; font-weight: bold\">-33.594075</span>    <span style=\"color: #008080; text-decoration-color: #008080; font-weight: bold\">46657</span>  <span style=\"color: #008080; text-decoration-color: #008080; font-weight: bold\">0.025355</span>      <span style=\"color: #008080; text-decoration-color: #008080; font-weight: bold\">0.025355</span>   \n",
       "\n",
       "    NUVmag_err_2  \n",
       "<span style=\"color: #008080; text-decoration-color: #008080; font-weight: bold\">0</span>       <span style=\"color: #008080; text-decoration-color: #008080; font-weight: bold\">0.010491</span>  \n",
       "<span style=\"color: #008080; text-decoration-color: #008080; font-weight: bold\">0</span>       <span style=\"color: #008080; text-decoration-color: #008080; font-weight: bold\">0.021941</span>  \n",
       "<span style=\"color: #008080; text-decoration-color: #008080; font-weight: bold\">0</span>       <span style=\"color: #008080; text-decoration-color: #008080; font-weight: bold\">0.041029</span>  \n",
       "<span style=\"color: #008080; text-decoration-color: #008080; font-weight: bold\">0</span>       <span style=\"color: #008080; text-decoration-color: #008080; font-weight: bold\">0.040342</span>  \n",
       "<span style=\"color: #008080; text-decoration-color: #008080; font-weight: bold\">0</span>       <span style=\"color: #008080; text-decoration-color: #008080; font-weight: bold\">0.031694</span>  \n",
       "..           <span style=\"color: #808000; text-decoration-color: #808000\">...</span>  \n",
       "<span style=\"color: #008080; text-decoration-color: #008080; font-weight: bold\">0</span>       <span style=\"color: #008080; text-decoration-color: #008080; font-weight: bold\">0.025136</span>  \n",
       "<span style=\"color: #008080; text-decoration-color: #008080; font-weight: bold\">0</span>       <span style=\"color: #008080; text-decoration-color: #008080; font-weight: bold\">0.016422</span>  \n",
       "<span style=\"color: #008080; text-decoration-color: #008080; font-weight: bold\">0</span>       <span style=\"color: #008080; text-decoration-color: #008080; font-weight: bold\">0.023181</span>  \n",
       "<span style=\"color: #008080; text-decoration-color: #008080; font-weight: bold\">0</span>       <span style=\"color: #008080; text-decoration-color: #008080; font-weight: bold\">0.025535</span>  \n",
       "<span style=\"color: #008080; text-decoration-color: #008080; font-weight: bold\">0</span>       <span style=\"color: #008080; text-decoration-color: #008080; font-weight: bold\">0.025961</span>  \n",
       "\n",
       "<span style=\"font-weight: bold\">[</span><span style=\"color: #008080; text-decoration-color: #008080; font-weight: bold\">545</span> rows x <span style=\"color: #008080; text-decoration-color: #008080; font-weight: bold\">7</span> columns<span style=\"font-weight: bold\">]</span>\n",
       "</pre>\n"
      ],
      "text/plain": [
       "        obj_id          ra        dec  eclipse    NUVmag  NUVmag_err_1  \\\n",
       "\u001b[1;36m0\u001b[0m   \u001b[1;36m1953301413\u001b[0m  \u001b[1;36m311.565113\u001b[0m  \u001b[1;36m-4.930670\u001b[0m     \u001b[1;36m1413\u001b[0m  \u001b[1;36m0.010390\u001b[0m      \u001b[1;36m0.010390\u001b[0m   \n",
       "\u001b[1;36m0\u001b[0m   \u001b[1;36m1468701420\u001b[0m  \u001b[1;36m315.935391\u001b[0m  \u001b[1;36m-7.379244\u001b[0m     \u001b[1;36m1420\u001b[0m  \u001b[1;36m0.021507\u001b[0m      \u001b[1;36m0.021507\u001b[0m   \n",
       "\u001b[1;36m0\u001b[0m   \u001b[1;36m1479501422\u001b[0m  \u001b[1;36m343.352654\u001b[0m \u001b[1;36m-39.793072\u001b[0m     \u001b[1;36m1422\u001b[0m  \u001b[1;36m0.039535\u001b[0m      \u001b[1;36m0.039535\u001b[0m   \n",
       "\u001b[1;36m0\u001b[0m   \u001b[1;36m1417401623\u001b[0m  \u001b[1;36m259.204219\u001b[0m  \u001b[1;36m60.039535\u001b[0m     \u001b[1;36m1623\u001b[0m  \u001b[1;36m0.038897\u001b[0m      \u001b[1;36m0.038897\u001b[0m   \n",
       "\u001b[1;36m0\u001b[0m   \u001b[1;36m1297001640\u001b[0m  \u001b[1;36m260.307220\u001b[0m  \u001b[1;36m58.102305\u001b[0m     \u001b[1;36m1640\u001b[0m  \u001b[1;36m0.030795\u001b[0m      \u001b[1;36m0.030795\u001b[0m   \n",
       "..         \u001b[33m...\u001b[0m         \u001b[33m...\u001b[0m        \u001b[33m...\u001b[0m      \u001b[33m...\u001b[0m       \u001b[33m...\u001b[0m           \u001b[33m...\u001b[0m   \n",
       "\u001b[1;36m0\u001b[0m   \u001b[1;36m1401745702\u001b[0m   \u001b[1;36m25.245244\u001b[0m  \u001b[1;36m34.078142\u001b[0m    \u001b[1;36m45702\u001b[0m  \u001b[1;36m0.024567\u001b[0m      \u001b[1;36m0.024567\u001b[0m   \n",
       "\u001b[1;36m0\u001b[0m   \u001b[1;36m1513045730\u001b[0m   \u001b[1;36m27.571128\u001b[0m  \u001b[1;36m31.047408\u001b[0m    \u001b[1;36m45730\u001b[0m  \u001b[1;36m0.016177\u001b[0m      \u001b[1;36m0.016177\u001b[0m   \n",
       "\u001b[1;36m0\u001b[0m   \u001b[1;36m1995745856\u001b[0m  \u001b[1;36m354.573904\u001b[0m \u001b[1;36m-41.518851\u001b[0m    \u001b[1;36m45856\u001b[0m  \u001b[1;36m0.022697\u001b[0m      \u001b[1;36m0.022697\u001b[0m   \n",
       "\u001b[1;36m0\u001b[0m    \u001b[1;36m637246287\u001b[0m   \u001b[1;36m35.457369\u001b[0m  \u001b[1;36m74.264867\u001b[0m    \u001b[1;36m46287\u001b[0m  \u001b[1;36m0.024948\u001b[0m      \u001b[1;36m0.024948\u001b[0m   \n",
       "\u001b[1;36m0\u001b[0m   \u001b[1;36m4738446657\u001b[0m  \u001b[1;36m135.403098\u001b[0m \u001b[1;36m-33.594075\u001b[0m    \u001b[1;36m46657\u001b[0m  \u001b[1;36m0.025355\u001b[0m      \u001b[1;36m0.025355\u001b[0m   \n",
       "\n",
       "    NUVmag_err_2  \n",
       "\u001b[1;36m0\u001b[0m       \u001b[1;36m0.010491\u001b[0m  \n",
       "\u001b[1;36m0\u001b[0m       \u001b[1;36m0.021941\u001b[0m  \n",
       "\u001b[1;36m0\u001b[0m       \u001b[1;36m0.041029\u001b[0m  \n",
       "\u001b[1;36m0\u001b[0m       \u001b[1;36m0.040342\u001b[0m  \n",
       "\u001b[1;36m0\u001b[0m       \u001b[1;36m0.031694\u001b[0m  \n",
       "..           \u001b[33m...\u001b[0m  \n",
       "\u001b[1;36m0\u001b[0m       \u001b[1;36m0.025136\u001b[0m  \n",
       "\u001b[1;36m0\u001b[0m       \u001b[1;36m0.016422\u001b[0m  \n",
       "\u001b[1;36m0\u001b[0m       \u001b[1;36m0.023181\u001b[0m  \n",
       "\u001b[1;36m0\u001b[0m       \u001b[1;36m0.025535\u001b[0m  \n",
       "\u001b[1;36m0\u001b[0m       \u001b[1;36m0.025961\u001b[0m  \n",
       "\n",
       "\u001b[1m[\u001b[0m\u001b[1;36m545\u001b[0m rows x \u001b[1;36m7\u001b[0m columns\u001b[1m]\u001b[0m\n"
      ]
     },
     "metadata": {},
     "output_type": "display_data"
    }
   ],
   "source": [
    "def make_variable_target_table(gif_fns):\n",
    "    variable_table = pd.DataFrame()\n",
    "    for gif_fn in gif_fns:\n",
    "        eclipse = int(flare_gif.split('/')[-1].split('-')[0][1:])\n",
    "        obj_id = int(flare_gif.split('/')[-1].split('-')[1])\n",
    "        this_star = pq.read_table(catalog_filename,filters =\n",
    "                                  [('eclipse','=',eclipse),\n",
    "                                   ('obj_id','=',obj_id)]).to_pandas()\n",
    "        expt = header_data.loc[header_data['ECLIPSE']==eclipse].loc[header_data['BAND']=='NUV']['EXPT_0']\n",
    "        cps = this_star[\"aperture_sum_n_12_8\"].tolist()[0]/expt.tolist()[0]\n",
    "        cps_err = np.sqrt(this_star[\"aperture_sum_n_12_8\"].tolist()[0])/expt.tolist()[0]\n",
    "        mag = counts2mag(cps,'NUV')\n",
    "        mag_err_1 = mag-counts2mag(cps+cps_err,'NUV')\n",
    "        mag_err_2 = counts2mag(cps-cps_err,'NUV')-mag # this one is always larger\n",
    "        this_star['cps'] = cps\n",
    "        this_star['cps_err'] = cps_err\n",
    "        this_star['NUVmag'] = mag_err_1\n",
    "        this_star['NUVmag_err_1'] = mag_err_1\n",
    "        this_star['NUVmag_err_2'] = mag_err_2\n",
    "        variable_table = pd.concat([variable_table,\n",
    "                                 this_star[\n",
    "                                    [\"obj_id\",\"ra\",\"dec\",\"eclipse\",\"NUVmag\",\"NUVmag_err_1\",\"NUVmag_err_2\",]]])\n",
    "    return variable_table\n"
   ]
  },
  {
   "cell_type": "code",
   "execution_count": null,
   "id": "360ae47a",
   "metadata": {},
   "outputs": [],
   "source": [
    "#ID, ra, dec, epoch_GALEX , [FUVmag , NUVmag, FUVmagerr, NUVmagerr ]"
   ]
  },
  {
   "cell_type": "code",
   "execution_count": 76,
   "id": "d538aa07",
   "metadata": {},
   "outputs": [
    {
     "data": {
      "text/html": [
       "<div>\n",
       "<style scoped>\n",
       "    .dataframe tbody tr th:only-of-type {\n",
       "        vertical-align: middle;\n",
       "    }\n",
       "\n",
       "    .dataframe tbody tr th {\n",
       "        vertical-align: top;\n",
       "    }\n",
       "\n",
       "    .dataframe thead th {\n",
       "        text-align: right;\n",
       "    }\n",
       "</style>\n",
       "<table border=\"1\" class=\"dataframe\">\n",
       "  <thead>\n",
       "    <tr style=\"text-align: right;\">\n",
       "      <th></th>\n",
       "      <th>eclipse</th>\n",
       "      <th>obj_id</th>\n",
       "      <th>ra</th>\n",
       "      <th>dec</th>\n",
       "      <th>mag</th>\n",
       "      <th>mag_err_1</th>\n",
       "      <th>mag_err_2</th>\n",
       "      <th>cps</th>\n",
       "      <th>cps_err</th>\n",
       "    </tr>\n",
       "  </thead>\n",
       "  <tbody>\n",
       "    <tr>\n",
       "      <th>0</th>\n",
       "      <td>1640</td>\n",
       "      <td>1297001640</td>\n",
       "      <td>260.30722</td>\n",
       "      <td>58.102305</td>\n",
       "      <td>0.030795</td>\n",
       "      <td>0.030795</td>\n",
       "      <td>0.031694</td>\n",
       "      <td>0.995405</td>\n",
       "      <td>0.028637</td>\n",
       "    </tr>\n",
       "  </tbody>\n",
       "</table>\n",
       "</div>"
      ],
      "text/plain": [
       "   eclipse      obj_id         ra        dec       mag  mag_err_1  mag_err_2  \\\n",
       "0     1640  1297001640  260.30722  58.102305  0.030795   0.030795   0.031694   \n",
       "\n",
       "        cps   cps_err  \n",
       "0  0.995405  0.028637  "
      ]
     },
     "execution_count": 76,
     "metadata": {},
     "output_type": "execute_result"
    }
   ],
   "source": [
    "this_star[[\"obj_id\",\"ra\",\"dec\",\"eclipse\",\"NUVmag\",\"NUVmag_err_1\",\"NUVmag_err_2\",]]"
   ]
  },
  {
   "cell_type": "code",
   "execution_count": 50,
   "id": "14e4420e",
   "metadata": {},
   "outputs": [],
   "source": [
    "expt = header_data.loc[header_data['ECLIPSE']==eclipse].loc[header_data['BAND']=='NUV']['EXPT_0']"
   ]
  },
  {
   "cell_type": "code",
   "execution_count": 57,
   "id": "16075b2b",
   "metadata": {},
   "outputs": [
    {
     "data": {
      "text/plain": [
       "0.9954052112383378"
      ]
     },
     "execution_count": 57,
     "metadata": {},
     "output_type": "execute_result"
    }
   ],
   "source": [
    "cps = this_star[\"aperture_sum_n_12_8\"].tolist()[0]/expt.tolist()[0]"
   ]
  },
  {
   "cell_type": "code",
   "execution_count": 56,
   "id": "20cfad24",
   "metadata": {},
   "outputs": [
    {
     "data": {
      "text/plain": [
       "1213.79600832833"
      ]
     },
     "execution_count": 56,
     "metadata": {},
     "output_type": "execute_result"
    }
   ],
   "source": [
    "expt.tolist()[0]"
   ]
  },
  {
   "cell_type": "code",
   "execution_count": 29,
   "id": "dc941d69",
   "metadata": {},
   "outputs": [
    {
     "data": {
      "text/plain": [
       "0    20\n",
       "Name: mag, dtype: int64"
      ]
     },
     "execution_count": 29,
     "metadata": {},
     "output_type": "execute_result"
    }
   ],
   "source": [
    "this_star['mag']"
   ]
  },
  {
   "cell_type": "code",
   "execution_count": 83,
   "id": "80d39848",
   "metadata": {},
   "outputs": [],
   "source": [
    "    this_star = pq.read_table(catalog_filename,filters =\n",
    "                              [('eclipse','=',eclipse),\n",
    "                               ('obj_id','=',obj_id)]).to_pandas()\n"
   ]
  },
  {
   "cell_type": "code",
   "execution_count": 105,
   "id": "dfbe7716",
   "metadata": {},
   "outputs": [
    {
     "data": {
      "text/html": [
       "<pre style=\"white-space:pre;overflow-x:auto;line-height:normal;font-family:Menlo,'DejaVu Sans Mono',consolas,'Courier New',monospace\"><span style=\"color: #008080; text-decoration-color: #008080; font-weight: bold\">1054985779.995</span>\n",
       "</pre>\n"
      ],
      "text/plain": [
       "\u001b[1;36m1054985779.995\u001b[0m\n"
      ]
     },
     "metadata": {},
     "output_type": "display_data"
    }
   ],
   "source": [
    "GPSSECS = 315532800+432000\n",
    "t = header_data['T0_0'].iloc[0]+GPSSECS\n",
    "print(t)\n",
    "dt = datetime.datetime.fromtimestamp(t)"
   ]
  },
  {
   "cell_type": "code",
   "execution_count": 109,
   "id": "4966162e",
   "metadata": {},
   "outputs": [
    {
     "data": {
      "text/plain": [
       "'2003-06-07T07:36:19'"
      ]
     },
     "execution_count": 109,
     "metadata": {},
     "output_type": "execute_result"
    }
   ],
   "source": [
    "dt.isoformat().split('.')[0]"
   ]
  },
  {
   "cell_type": "code",
   "execution_count": 112,
   "id": "73a1dc50",
   "metadata": {},
   "outputs": [
    {
     "data": {
      "text/plain": [
       "2003.4310052002472"
      ]
     },
     "execution_count": 112,
     "metadata": {},
     "output_type": "execute_result"
    }
   ],
   "source": [
    "Time(dt,format='datetime').decimalyear"
   ]
  },
  {
   "cell_type": "code",
   "execution_count": null,
   "id": "2183192c",
   "metadata": {},
   "outputs": [],
   "source": []
  }
 ],
 "metadata": {
  "kernelspec": {
   "display_name": "Python 3 (ipykernel)",
   "language": "python",
   "name": "python3"
  },
  "language_info": {
   "codemirror_mode": {
    "name": "ipython",
    "version": 3
   },
   "file_extension": ".py",
   "mimetype": "text/x-python",
   "name": "python",
   "nbconvert_exporter": "python",
   "pygments_lexer": "ipython3",
   "version": "3.9.13"
  }
 },
 "nbformat": 4,
 "nbformat_minor": 5
}
