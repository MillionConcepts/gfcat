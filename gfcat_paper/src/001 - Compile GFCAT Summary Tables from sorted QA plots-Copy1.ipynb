{
 "cells": [
  {
   "cell_type": "code",
   "execution_count": 2,
   "id": "132cb6e5",
   "metadata": {},
   "outputs": [
    {
     "ename": "ModuleNotFoundError",
     "evalue": "No module named 'pyarrow'",
     "output_type": "error",
     "traceback": [
      "\u001b[0;31m---------------------------------------------------------------------------\u001b[0m",
      "\u001b[0;31mModuleNotFoundError\u001b[0m                       Traceback (most recent call last)",
      "Cell \u001b[0;32mIn[2], line 4\u001b[0m\n\u001b[1;32m      2\u001b[0m \u001b[38;5;28;01mimport\u001b[39;00m \u001b[38;5;21;01mmatplotlib\u001b[39;00m\u001b[38;5;21;01m.\u001b[39;00m\u001b[38;5;21;01mpyplot\u001b[39;00m \u001b[38;5;28;01mas\u001b[39;00m \u001b[38;5;21;01mplt\u001b[39;00m\n\u001b[1;32m      3\u001b[0m \u001b[38;5;28;01mimport\u001b[39;00m \u001b[38;5;21;01mnumpy\u001b[39;00m \u001b[38;5;28;01mas\u001b[39;00m \u001b[38;5;21;01mnp\u001b[39;00m\n\u001b[0;32m----> 4\u001b[0m \u001b[38;5;28;01mimport\u001b[39;00m \u001b[38;5;21;01mpyarrow\u001b[39;00m\u001b[38;5;21;01m.\u001b[39;00m\u001b[38;5;21;01mparquet\u001b[39;00m \u001b[38;5;28;01mas\u001b[39;00m \u001b[38;5;21;01mpq\u001b[39;00m\n\u001b[1;32m      5\u001b[0m \u001b[38;5;28;01mimport\u001b[39;00m \u001b[38;5;21;01mpandas\u001b[39;00m \u001b[38;5;28;01mas\u001b[39;00m \u001b[38;5;21;01mpd\u001b[39;00m\n\u001b[1;32m      6\u001b[0m \u001b[38;5;28;01mfrom\u001b[39;00m \u001b[38;5;21;01mrich\u001b[39;00m \u001b[38;5;28;01mimport\u001b[39;00m \u001b[38;5;28mprint\u001b[39m\n",
      "\u001b[0;31mModuleNotFoundError\u001b[0m: No module named 'pyarrow'"
     ]
    }
   ],
   "source": [
    "%matplotlib inline\n",
    "import matplotlib.pyplot as plt\n",
    "import numpy as np\n",
    "import pyarrow.parquet as pq\n",
    "import pandas as pd\n",
    "from rich import print\n",
    "import warnings\n",
    "import datetime\n",
    "from astropy.time import Time\n",
    "import os"
   ]
  },
  {
   "cell_type": "code",
   "execution_count": 2,
   "id": "618804d9",
   "metadata": {},
   "outputs": [],
   "source": [
    "def counts2mag(cps, band):\n",
    "    scale = 18.82 if band == 'FUV' else 20.08\n",
    "    with np.errstate(invalid='ignore'):\n",
    "        with warnings.catch_warnings():\n",
    "            warnings.simplefilter(\"ignore\")\n",
    "            mag = -2.5 * np.log10(cps) + scale\n",
    "    return mag"
   ]
  },
  {
   "cell_type": "code",
   "execution_count": 3,
   "id": "f627eeae",
   "metadata": {},
   "outputs": [],
   "source": [
    "def angularSeparation(ra1, dec1, ra2, dec2):\n",
    "\n",
    "    d2r = np.pi/180.\n",
    "    ra2deg = 1./d2r\n",
    "\n",
    "    d1 = dec1*d2r\n",
    "    d2 = dec2*d2r\n",
    "\n",
    "    r1 = ra1*d2r\n",
    "    r2 = ra2*d2r\n",
    "\n",
    "    a = np.sin((d2-d1)/2.)**2.+np.cos(d1)*np.cos(d2)*np.sin((r2-r1)/2.)**2.\n",
    "    r = 2*np.arcsin(np.sqrt(a))\n",
    "\n",
    "    return r*ra2deg"
   ]
  },
  {
   "cell_type": "code",
   "execution_count": 4,
   "id": "aa811175",
   "metadata": {},
   "outputs": [],
   "source": [
    "header_data = pd.read_csv('../ref/mislike_image_header_table.csv')\n",
    "catalog_filename = '../ref/catalog_nd_daostarfinder.parquet'\n",
    "catalog_file = pq.ParquetFile(catalog_filename)"
   ]
  },
  {
   "cell_type": "code",
   "execution_count": 5,
   "id": "ecb9527f",
   "metadata": {},
   "outputs": [],
   "source": [
    "def make_target_table(objid_list,morphology=''):\n",
    "    table = pd.DataFrame()\n",
    "    for objid in objid_list:\n",
    "        eclipse = int(str(objid)[-5:])\n",
    "        this_star = pq.read_table(catalog_filename,filters =\n",
    "                                  [('eclipse','=',eclipse),\n",
    "                                   ('obj_id','=',objid)]).to_pandas()\n",
    "        this_star['morphology'] = morphology\n",
    "        table = pd.concat([table,this_star[[\"eclipse\",\"obj_id\",\"ra\",\"dec\",\"morphology\"]]])\n",
    "    return table"
   ]
  },
  {
   "cell_type": "code",
   "execution_count": 6,
   "id": "86defa77",
   "metadata": {},
   "outputs": [
    {
     "data": {
      "text/html": [
       "<pre style=\"white-space:pre;overflow-x:auto;line-height:normal;font-family:Menlo,'DejaVu Sans Mono',consolas,'Courier New',monospace\"><span style=\"color: #008080; text-decoration-color: #008080; font-weight: bold\">865</span> sources found in general search\n",
       "</pre>\n"
      ],
      "text/plain": [
       "\u001b[1;36m865\u001b[0m sources found in general search\n"
      ]
     },
     "metadata": {},
     "output_type": "display_data"
    },
    {
     "data": {
      "text/html": [
       "<pre style=\"white-space:pre;overflow-x:auto;line-height:normal;font-family:Menlo,'DejaVu Sans Mono',consolas,'Courier New',monospace\"><span style=\"color: #008080; text-decoration-color: #008080; font-weight: bold\">654</span> sources found in targeted search\n",
       "</pre>\n"
      ],
      "text/plain": [
       "\u001b[1;36m654\u001b[0m sources found in targeted search\n"
      ]
     },
     "metadata": {},
     "output_type": "display_data"
    },
    {
     "data": {
      "text/html": [
       "<pre style=\"white-space:pre;overflow-x:auto;line-height:normal;font-family:Menlo,'DejaVu Sans Mono',consolas,'Courier New',monospace\"><span style=\"color: #008080; text-decoration-color: #008080; font-weight: bold\">281</span> sources found in matched FUV targets\n",
       "</pre>\n"
      ],
      "text/plain": [
       "\u001b[1;36m281\u001b[0m sources found in matched FUV targets\n"
      ]
     },
     "metadata": {},
     "output_type": "display_data"
    }
   ],
   "source": [
    "gfcat_corpus = pd.DataFrame()\n",
    "path = \"/Users/cm/GFCAT/gfcat/test_gifs/sorted/\"\n",
    "for d in ['flare','eclipse','trend','unk variable']:\n",
    "    targets = []\n",
    "    for fn in os.listdir(f\"{path}{d}/\"):\n",
    "        try:\n",
    "            targets+=[int(fn.split('-')[1])]\n",
    "        except IndexError:\n",
    "            continue\n",
    "    table = make_target_table(targets,morphology=d.upper()[0])\n",
    "    gfcat_corpus = pd.concat([gfcat_corpus,table])\n",
    "print(f'{len(gfcat_corpus)} sources found in general search')\n",
    "\n",
    "gfcat_targeted = pd.DataFrame()\n",
    "path = \"/Users/cm/GFCAT/gfcat/test_known_jpg/sorted/\"\n",
    "for d in ['flare','eclipse','trend','unk variable']:\n",
    "    targets = []\n",
    "    for fn in os.listdir(f\"{path}{d}/\"):\n",
    "        try:\n",
    "            targets+=[int(fn.split('-')[1])]\n",
    "        except IndexError:\n",
    "            continue\n",
    "    table = make_target_table(targets,morphology=d.upper()[0])\n",
    "    gfcat_targeted = pd.concat([gfcat_targeted,table])\n",
    "print(f'{len(gfcat_targeted)} sources found in targeted search')\n",
    "\n",
    "gfcat_fuv_matched = pd.DataFrame()\n",
    "path = \"/Users/cm/GFCAT/gfcat/test_fuv_matched/sorted/\"\n",
    "for d in ['flare','eclipse','trend','unk variable']:\n",
    "    targets = []\n",
    "    for fn in os.listdir(f\"{path}{d}/\"):\n",
    "        try:\n",
    "            targets+=[int(fn.split('-')[1])]\n",
    "        except IndexError:\n",
    "            continue\n",
    "    table = make_target_table(targets,morphology=d.upper()[0])\n",
    "    gfcat_fuv_matched = pd.concat([gfcat_fuv_matched,table])\n",
    "print(f'{len(gfcat_fuv_matched)} sources found in matched FUV targets')\n",
    "\n"
   ]
  },
  {
   "cell_type": "code",
   "execution_count": 7,
   "id": "0d72d06c",
   "metadata": {
    "scrolled": false
   },
   "outputs": [],
   "source": [
    "def make_variable_target_table(obj_ids):\n",
    "    variable_table = pd.DataFrame()\n",
    "    for obj_id in obj_ids:\n",
    "        eclipse = int(str(obj_id)[-5:])\n",
    "        #obj_id = int(objid)\n",
    "        this_star = pq.read_table(catalog_filename,filters =\n",
    "                                  [('eclipse','=',eclipse),\n",
    "                                   ('obj_id','=',obj_id)]).to_pandas()\n",
    "        expt = header_data.loc[header_data['ECLIPSE']==eclipse].loc[header_data['BAND']=='NUV']['EXPT_0']\n",
    "        cps = this_star[\"aperture_sum_n_12_8\"].tolist()[0]/expt.tolist()[0]\n",
    "        cps_err = np.sqrt(this_star[\"aperture_sum_n_12_8\"].tolist()[0])/expt.tolist()[0]\n",
    "        mag = counts2mag(cps,'NUV')\n",
    "        mag_err_1 = mag-counts2mag(cps+cps_err,'NUV')\n",
    "        mag_err_2 = counts2mag(cps-cps_err,'NUV')-mag # this one is always larger\n",
    "        this_star['cps'] = cps\n",
    "        this_star['cps_err'] = cps_err\n",
    "        this_star['NUVmag'] = mag\n",
    "        this_star['NUVmag_err_1'] = mag_err_1\n",
    "        this_star['NUVmag_err_2'] = mag_err_2\n",
    "        variable_table = pd.concat([variable_table,\n",
    "                                 this_star[\n",
    "                                    [\"obj_id\",\"ra\",\"dec\",\"eclipse\",\"NUVmag\",\"NUVmag_err_1\",\"NUVmag_err_2\",]]])\n",
    "    return variable_table\n"
   ]
  },
  {
   "cell_type": "code",
   "execution_count": 8,
   "id": "bdeaae18",
   "metadata": {},
   "outputs": [],
   "source": [
    "# define manually adjusted source positions\n",
    "mpt = \"\"\"06882 99999906882 310.03898  -0.86965 F \n",
    "15112 99999915112 173.68275  45.53918 F\n",
    "29166 99999929166 355.72871   1.65753 F\n",
    "29390 99999929390  10.92245 -42.34763 U\n",
    "29643 99999929643  53.06506 -29.51007 U\n",
    "43201 99999943201 217.15856  57.75332 U\n",
    "03858 99999903858 135.96049  52.35710 F\n",
    "04028 99999904028 189.00277  62.49956 F\n",
    "07940 99999907940   6.43415  17.08139 F\n",
    "09709 99999909709 164.46273  -3.76613 U\n",
    "13533 99999913533  16.65372  45.38989 F\n",
    "13656 99999913656  24.76303 -17.94913 F\n",
    "16497 99999916497 219.53099  33.10083 F\n",
    "18081 99999918081 358.46939 -10.54433 F\n",
    "18380 99999918380   7.70821 -71.84528 F\n",
    "18753 99999918753  51.26207 -17.21407 F\n",
    "23505 99999923505  13.11492   0.09855 F\n",
    "26488 99999926488 212.80185   6.83090 F\n",
    "28619 99999928619 326.15289   0.70565 F\n",
    "30122 99999930122  53.00912 -27.04739 F\n",
    "30668 99999930668 133.73297   2.57409 F\n",
    "31274 99999931274 120.70829  36.45803 F\n",
    "36705 99999936705 146.54298  15.54300 F\n",
    "40521 99999940521  29.19705  -0.35408 F\n",
    "40930 99999940930  70.63517  18.43965 F\n",
    "42499 99999942499 165.10157  12.73207 F\n",
    "43238 99999943238 243.41123  54.66503 F\n",
    "43828 99999943828 338.34099 -60.93026 F\n",
    "44684 99999944684 308.13204   7.97132 F\n",
    "45629 99999945629 160.64052  76.02885 F\"\"\"\n",
    "\n",
    "gfcat_adjusted = pd.DataFrame(\n",
    "    {'eclipse':np.array(np.array([t.split() for t in mpt.split('\\n')])[:,0],dtype='int'),\n",
    "     'obj_id':np.array(np.array([t.split() for t in mpt.split('\\n')])[:,1],dtype='int64'),\n",
    "     'ra':np.array(np.array([t.split() for t in mpt.split('\\n')])[:,2],dtype='float'),\n",
    "     'dec':np.array(np.array([t.split() for t in mpt.split('\\n')])[:,3],dtype='float'),\n",
    "     'morphology':np.array(np.array([t.split() for t in mpt.split('\\n')])[:,4],dtype='str')})"
   ]
  },
  {
   "cell_type": "code",
   "execution_count": 9,
   "id": "27ffd130",
   "metadata": {},
   "outputs": [],
   "source": [
    "# compile both targeted and untargeted sources\n",
    "#gfcat_draft = pd.concat([make_variable_target_table(gfcat_corpus['obj_id'].values),\n",
    "#                         make_variable_target_table(gfcat_targeted['obj_id'].values),\n",
    "#                         make_variable_target_table(gfcat_fuv_matched['obj_id'].values),\n",
    "#                         gfcat_adjusted])\n",
    "#print(len(gfcat_draft))"
   ]
  },
  {
   "cell_type": "code",
   "execution_count": 17,
   "id": "a102f0f4",
   "metadata": {},
   "outputs": [
    {
     "data": {
      "text/html": [
       "<div>\n",
       "<style scoped>\n",
       "    .dataframe tbody tr th:only-of-type {\n",
       "        vertical-align: middle;\n",
       "    }\n",
       "\n",
       "    .dataframe tbody tr th {\n",
       "        vertical-align: top;\n",
       "    }\n",
       "\n",
       "    .dataframe thead th {\n",
       "        text-align: right;\n",
       "    }\n",
       "</style>\n",
       "<table border=\"1\" class=\"dataframe\">\n",
       "  <thead>\n",
       "    <tr style=\"text-align: right;\">\n",
       "      <th></th>\n",
       "      <th>eclipse</th>\n",
       "      <th>obj_id</th>\n",
       "      <th>ra</th>\n",
       "      <th>dec</th>\n",
       "      <th>morphology</th>\n",
       "    </tr>\n",
       "  </thead>\n",
       "  <tbody>\n",
       "    <tr>\n",
       "      <th>534</th>\n",
       "      <td>15133</td>\n",
       "      <td>9.999992e+10</td>\n",
       "      <td>204.17073</td>\n",
       "      <td>51.91460</td>\n",
       "      <td>E</td>\n",
       "    </tr>\n",
       "    <tr>\n",
       "      <th>535</th>\n",
       "      <td>4276</td>\n",
       "      <td>9.999990e+10</td>\n",
       "      <td>149.84515</td>\n",
       "      <td>2.96435</td>\n",
       "      <td>F</td>\n",
       "    </tr>\n",
       "    <tr>\n",
       "      <th>536</th>\n",
       "      <td>24237</td>\n",
       "      <td>9.999992e+10</td>\n",
       "      <td>358.90042</td>\n",
       "      <td>0.69566</td>\n",
       "      <td>F</td>\n",
       "    </tr>\n",
       "    <tr>\n",
       "      <th>537</th>\n",
       "      <td>21750</td>\n",
       "      <td>9.999992e+10</td>\n",
       "      <td>202.73628</td>\n",
       "      <td>65.71721</td>\n",
       "      <td>U</td>\n",
       "    </tr>\n",
       "    <tr>\n",
       "      <th>538</th>\n",
       "      <td>9939</td>\n",
       "      <td>9.999991e+10</td>\n",
       "      <td>215.08597</td>\n",
       "      <td>52.26377</td>\n",
       "      <td>E</td>\n",
       "    </tr>\n",
       "    <tr>\n",
       "      <th>539</th>\n",
       "      <td>7471</td>\n",
       "      <td>9.999991e+10</td>\n",
       "      <td>346.70626</td>\n",
       "      <td>-0.61413</td>\n",
       "      <td>T</td>\n",
       "    </tr>\n",
       "    <tr>\n",
       "      <th>540</th>\n",
       "      <td>7545</td>\n",
       "      <td>9.999991e+10</td>\n",
       "      <td>21.95165</td>\n",
       "      <td>-28.89494</td>\n",
       "      <td>F</td>\n",
       "    </tr>\n",
       "    <tr>\n",
       "      <th>541</th>\n",
       "      <td>30574</td>\n",
       "      <td>9.999993e+10</td>\n",
       "      <td>127.88794</td>\n",
       "      <td>32.46371</td>\n",
       "      <td>U</td>\n",
       "    </tr>\n",
       "    <tr>\n",
       "      <th>542</th>\n",
       "      <td>28449</td>\n",
       "      <td>9.999993e+10</td>\n",
       "      <td>351.76689</td>\n",
       "      <td>7.36030</td>\n",
       "      <td>T</td>\n",
       "    </tr>\n",
       "    <tr>\n",
       "      <th>543</th>\n",
       "      <td>15251</td>\n",
       "      <td>9.999992e+10</td>\n",
       "      <td>194.85851</td>\n",
       "      <td>27.35632</td>\n",
       "      <td>U</td>\n",
       "    </tr>\n",
       "    <tr>\n",
       "      <th>544</th>\n",
       "      <td>23279</td>\n",
       "      <td>9.999992e+10</td>\n",
       "      <td>4.65498</td>\n",
       "      <td>16.34135</td>\n",
       "      <td>F</td>\n",
       "    </tr>\n",
       "    <tr>\n",
       "      <th>545</th>\n",
       "      <td>38424</td>\n",
       "      <td>9.999994e+10</td>\n",
       "      <td>269.38236</td>\n",
       "      <td>-68.54370</td>\n",
       "      <td>U</td>\n",
       "    </tr>\n",
       "  </tbody>\n",
       "</table>\n",
       "</div>"
      ],
      "text/plain": [
       "     eclipse        obj_id         ra       dec morphology\n",
       "534    15133  9.999992e+10  204.17073  51.91460          E\n",
       "535     4276  9.999990e+10  149.84515   2.96435          F\n",
       "536    24237  9.999992e+10  358.90042   0.69566          F\n",
       "537    21750  9.999992e+10  202.73628  65.71721          U\n",
       "538     9939  9.999991e+10  215.08597  52.26377          E\n",
       "539     7471  9.999991e+10  346.70626  -0.61413          T\n",
       "540     7545  9.999991e+10   21.95165 -28.89494          F\n",
       "541    30574  9.999993e+10  127.88794  32.46371          U\n",
       "542    28449  9.999993e+10  351.76689   7.36030          T\n",
       "543    15251  9.999992e+10  194.85851  27.35632          U\n",
       "544    23279  9.999992e+10    4.65498  16.34135          F\n",
       "545    38424  9.999994e+10  269.38236 -68.54370          U"
      ]
     },
     "execution_count": 17,
     "metadata": {},
     "output_type": "execute_result"
    }
   ],
   "source": [
    "gfcat_old_finds = pd.read_csv('missing_gfcat_visits_221218.csv',index_col=None)\n",
    "gfcat_old_finds.iloc[-12:]"
   ]
  },
  {
   "cell_type": "code",
   "execution_count": 38,
   "id": "234fadd0",
   "metadata": {},
   "outputs": [
    {
     "data": {
      "text/html": [
       "<pre style=\"white-space:pre;overflow-x:auto;line-height:normal;font-family:Menlo,'DejaVu Sans Mono',consolas,'Courier New',monospace\">Starting with <span style=\"color: #008080; text-decoration-color: #008080; font-weight: bold\">1842</span> identified variable source-visits\n",
       "</pre>\n"
      ],
      "text/plain": [
       "Starting with \u001b[1;36m1842\u001b[0m identified variable source-visits\n"
      ]
     },
     "metadata": {},
     "output_type": "display_data"
    }
   ],
   "source": [
    "gfcat_combined = pd.concat([gfcat_corpus,gfcat_targeted,gfcat_adjusted,gfcat_fuv_matched,\n",
    "                            gfcat_old_finds.iloc[-12:]]) # just the repointed ones\n",
    "print(f\"Starting with {len(gfcat_combined)} identified variable source-visits\")\n",
    "gfcat_combined.to_csv('/Users/cm/Downloads/temp.csv')"
   ]
  },
  {
   "cell_type": "code",
   "execution_count": 34,
   "id": "9ed84174",
   "metadata": {},
   "outputs": [
    {
     "data": {
      "text/html": [
       "<div>\n",
       "<style scoped>\n",
       "    .dataframe tbody tr th:only-of-type {\n",
       "        vertical-align: middle;\n",
       "    }\n",
       "\n",
       "    .dataframe tbody tr th {\n",
       "        vertical-align: top;\n",
       "    }\n",
       "\n",
       "    .dataframe thead th {\n",
       "        text-align: right;\n",
       "    }\n",
       "</style>\n",
       "<table border=\"1\" class=\"dataframe\">\n",
       "  <thead>\n",
       "    <tr style=\"text-align: right;\">\n",
       "      <th></th>\n",
       "      <th>index</th>\n",
       "      <th>eclipse</th>\n",
       "      <th>obj_id</th>\n",
       "      <th>ra</th>\n",
       "      <th>dec</th>\n",
       "      <th>morphology</th>\n",
       "    </tr>\n",
       "  </thead>\n",
       "  <tbody>\n",
       "    <tr>\n",
       "      <th>0</th>\n",
       "      <td>0</td>\n",
       "      <td>1422</td>\n",
       "      <td>1.479501e+09</td>\n",
       "      <td>343.352654</td>\n",
       "      <td>-39.793072</td>\n",
       "      <td>F</td>\n",
       "    </tr>\n",
       "    <tr>\n",
       "      <th>1</th>\n",
       "      <td>0</td>\n",
       "      <td>12992</td>\n",
       "      <td>1.301613e+09</td>\n",
       "      <td>352.094400</td>\n",
       "      <td>0.477522</td>\n",
       "      <td>F</td>\n",
       "    </tr>\n",
       "    <tr>\n",
       "      <th>2</th>\n",
       "      <td>0</td>\n",
       "      <td>1640</td>\n",
       "      <td>1.297002e+09</td>\n",
       "      <td>260.307220</td>\n",
       "      <td>58.102305</td>\n",
       "      <td>F</td>\n",
       "    </tr>\n",
       "    <tr>\n",
       "      <th>3</th>\n",
       "      <td>0</td>\n",
       "      <td>15994</td>\n",
       "      <td>2.368216e+09</td>\n",
       "      <td>195.957862</td>\n",
       "      <td>-17.314252</td>\n",
       "      <td>F</td>\n",
       "    </tr>\n",
       "    <tr>\n",
       "      <th>4</th>\n",
       "      <td>0</td>\n",
       "      <td>28450</td>\n",
       "      <td>1.340328e+09</td>\n",
       "      <td>333.819312</td>\n",
       "      <td>1.061756</td>\n",
       "      <td>F</td>\n",
       "    </tr>\n",
       "    <tr>\n",
       "      <th>...</th>\n",
       "      <td>...</td>\n",
       "      <td>...</td>\n",
       "      <td>...</td>\n",
       "      <td>...</td>\n",
       "      <td>...</td>\n",
       "      <td>...</td>\n",
       "    </tr>\n",
       "    <tr>\n",
       "      <th>1837</th>\n",
       "      <td>541</td>\n",
       "      <td>30574</td>\n",
       "      <td>9.999993e+10</td>\n",
       "      <td>127.887940</td>\n",
       "      <td>32.463710</td>\n",
       "      <td>U</td>\n",
       "    </tr>\n",
       "    <tr>\n",
       "      <th>1838</th>\n",
       "      <td>542</td>\n",
       "      <td>28449</td>\n",
       "      <td>9.999993e+10</td>\n",
       "      <td>351.766890</td>\n",
       "      <td>7.360300</td>\n",
       "      <td>T</td>\n",
       "    </tr>\n",
       "    <tr>\n",
       "      <th>1839</th>\n",
       "      <td>543</td>\n",
       "      <td>15251</td>\n",
       "      <td>9.999992e+10</td>\n",
       "      <td>194.858510</td>\n",
       "      <td>27.356320</td>\n",
       "      <td>U</td>\n",
       "    </tr>\n",
       "    <tr>\n",
       "      <th>1840</th>\n",
       "      <td>544</td>\n",
       "      <td>23279</td>\n",
       "      <td>9.999992e+10</td>\n",
       "      <td>4.654980</td>\n",
       "      <td>16.341350</td>\n",
       "      <td>F</td>\n",
       "    </tr>\n",
       "    <tr>\n",
       "      <th>1841</th>\n",
       "      <td>545</td>\n",
       "      <td>38424</td>\n",
       "      <td>9.999994e+10</td>\n",
       "      <td>269.382360</td>\n",
       "      <td>-68.543700</td>\n",
       "      <td>U</td>\n",
       "    </tr>\n",
       "  </tbody>\n",
       "</table>\n",
       "<p>1842 rows × 6 columns</p>\n",
       "</div>"
      ],
      "text/plain": [
       "      index  eclipse        obj_id          ra        dec morphology\n",
       "0         0     1422  1.479501e+09  343.352654 -39.793072          F\n",
       "1         0    12992  1.301613e+09  352.094400   0.477522          F\n",
       "2         0     1640  1.297002e+09  260.307220  58.102305          F\n",
       "3         0    15994  2.368216e+09  195.957862 -17.314252          F\n",
       "4         0    28450  1.340328e+09  333.819312   1.061756          F\n",
       "...     ...      ...           ...         ...        ...        ...\n",
       "1837    541    30574  9.999993e+10  127.887940  32.463710          U\n",
       "1838    542    28449  9.999993e+10  351.766890   7.360300          T\n",
       "1839    543    15251  9.999992e+10  194.858510  27.356320          U\n",
       "1840    544    23279  9.999992e+10    4.654980  16.341350          F\n",
       "1841    545    38424  9.999994e+10  269.382360 -68.543700          U\n",
       "\n",
       "[1842 rows x 6 columns]"
      ]
     },
     "execution_count": 34,
     "metadata": {},
     "output_type": "execute_result"
    }
   ],
   "source": [
    "un,ix=np.unique(gfcat_combined['obj_id'],return_index=True)\n",
    "gfcat_visits = gfcat_combined.reset_index()\n",
    "gfcat_visits"
   ]
  },
  {
   "cell_type": "code",
   "execution_count": 90,
   "id": "a2b094cc",
   "metadata": {
    "scrolled": false
   },
   "outputs": [
    {
     "data": {
      "text/html": [
       "<pre style=\"white-space:pre;overflow-x:auto;line-height:normal;font-family:Menlo,'DejaVu Sans Mono',consolas,'Courier New',monospace\"><span style=\"font-weight: bold\">[</span><span style=\"color: #008080; text-decoration-color: #008080; font-weight: bold\">0.00379558</span> <span style=\"color: #008080; text-decoration-color: #008080; font-weight: bold\">0.00379559</span><span style=\"font-weight: bold\">]</span>\n",
       "</pre>\n"
      ],
      "text/plain": [
       "\u001b[1m[\u001b[0m\u001b[1;36m0.00379558\u001b[0m \u001b[1;36m0.00379559\u001b[0m\u001b[1m]\u001b[0m\n"
      ]
     },
     "metadata": {},
     "output_type": "display_data"
    },
    {
     "data": {
      "text/html": [
       "<pre style=\"white-space:pre;overflow-x:auto;line-height:normal;font-family:Menlo,'DejaVu Sans Mono',consolas,'Courier New',monospace\">     eclipse        obj_id          ra       dec morphology\n",
       "<span style=\"color: #008080; text-decoration-color: #008080; font-weight: bold\">291</span>     <span style=\"color: #008080; text-decoration-color: #008080; font-weight: bold\">7784</span>  <span style=\"color: #008080; text-decoration-color: #008080; font-weight: bold\">1.243108e+09</span>  <span style=\"color: #008080; text-decoration-color: #008080; font-weight: bold\">352.933228</span> <span style=\"color: #008080; text-decoration-color: #008080; font-weight: bold\">-2.750752</span>          F\n",
       "<span style=\"color: #008080; text-decoration-color: #008080; font-weight: bold\">292</span>     <span style=\"color: #008080; text-decoration-color: #008080; font-weight: bold\">7784</span>  <span style=\"color: #008080; text-decoration-color: #008080; font-weight: bold\">1.248908e+09</span>  <span style=\"color: #008080; text-decoration-color: #008080; font-weight: bold\">352.937941</span> <span style=\"color: #008080; text-decoration-color: #008080; font-weight: bold\">-2.744797</span>          F\n",
       "</pre>\n"
      ],
      "text/plain": [
       "     eclipse        obj_id          ra       dec morphology\n",
       "\u001b[1;36m291\u001b[0m     \u001b[1;36m7784\u001b[0m  \u001b[1;36m1.243108e+09\u001b[0m  \u001b[1;36m352.933228\u001b[0m \u001b[1;36m-2.750752\u001b[0m          F\n",
       "\u001b[1;36m292\u001b[0m     \u001b[1;36m7784\u001b[0m  \u001b[1;36m1.248908e+09\u001b[0m  \u001b[1;36m352.937941\u001b[0m \u001b[1;36m-2.744797\u001b[0m          F\n"
      ]
     },
     "metadata": {},
     "output_type": "display_data"
    },
    {
     "data": {
      "text/html": [
       "<pre style=\"white-space:pre;overflow-x:auto;line-height:normal;font-family:Menlo,'DejaVu Sans Mono',consolas,'Courier New',monospace\"><span style=\"font-weight: bold\">[</span><span style=\"color: #008080; text-decoration-color: #008080; font-weight: bold\">0.00137792</span> <span style=\"color: #008080; text-decoration-color: #008080; font-weight: bold\">0.00137792</span><span style=\"font-weight: bold\">]</span>\n",
       "</pre>\n"
      ],
      "text/plain": [
       "\u001b[1m[\u001b[0m\u001b[1;36m0.00137792\u001b[0m \u001b[1;36m0.00137792\u001b[0m\u001b[1m]\u001b[0m\n"
      ]
     },
     "metadata": {},
     "output_type": "display_data"
    },
    {
     "data": {
      "text/html": [
       "<pre style=\"white-space:pre;overflow-x:auto;line-height:normal;font-family:Menlo,'DejaVu Sans Mono',consolas,'Courier New',monospace\">     eclipse       obj_id          ra        dec morphology\n",
       "<span style=\"color: #008080; text-decoration-color: #008080; font-weight: bold\">414</span>     <span style=\"color: #008080; text-decoration-color: #008080; font-weight: bold\">9625</span>  <span style=\"color: #008080; text-decoration-color: #008080; font-weight: bold\">656109625.0</span>  <span style=\"color: #008080; text-decoration-color: #008080; font-weight: bold\">127.906110</span>  <span style=\"color: #008080; text-decoration-color: #008080; font-weight: bold\">19.396568</span>          F\n",
       "<span style=\"color: #008080; text-decoration-color: #008080; font-weight: bold\">415</span>     <span style=\"color: #008080; text-decoration-color: #008080; font-weight: bold\">9625</span>  <span style=\"color: #008080; text-decoration-color: #008080; font-weight: bold\">657809625.0</span>  <span style=\"color: #008080; text-decoration-color: #008080; font-weight: bold\">127.906743</span>  <span style=\"color: #008080; text-decoration-color: #008080; font-weight: bold\">19.393878</span>          F\n",
       "</pre>\n"
      ],
      "text/plain": [
       "     eclipse       obj_id          ra        dec morphology\n",
       "\u001b[1;36m414\u001b[0m     \u001b[1;36m9625\u001b[0m  \u001b[1;36m656109625.0\u001b[0m  \u001b[1;36m127.906110\u001b[0m  \u001b[1;36m19.396568\u001b[0m          F\n",
       "\u001b[1;36m415\u001b[0m     \u001b[1;36m9625\u001b[0m  \u001b[1;36m657809625.0\u001b[0m  \u001b[1;36m127.906743\u001b[0m  \u001b[1;36m19.393878\u001b[0m          F\n"
      ]
     },
     "metadata": {},
     "output_type": "display_data"
    },
    {
     "data": {
      "text/html": [
       "<pre style=\"white-space:pre;overflow-x:auto;line-height:normal;font-family:Menlo,'DejaVu Sans Mono',consolas,'Courier New',monospace\"><span style=\"font-weight: bold\">[</span><span style=\"color: #008080; text-decoration-color: #008080; font-weight: bold\">0.001283</span> <span style=\"color: #008080; text-decoration-color: #008080; font-weight: bold\">0.001283</span><span style=\"font-weight: bold\">]</span>\n",
       "</pre>\n"
      ],
      "text/plain": [
       "\u001b[1m[\u001b[0m\u001b[1;36m0.001283\u001b[0m \u001b[1;36m0.001283\u001b[0m\u001b[1m]\u001b[0m\n"
      ]
     },
     "metadata": {},
     "output_type": "display_data"
    },
    {
     "data": {
      "text/html": [
       "<pre style=\"white-space:pre;overflow-x:auto;line-height:normal;font-family:Menlo,'DejaVu Sans Mono',consolas,'Courier New',monospace\">     eclipse       obj_id          ra        dec morphology\n",
       "<span style=\"color: #008080; text-decoration-color: #008080; font-weight: bold\">970</span>    <span style=\"color: #008080; text-decoration-color: #008080; font-weight: bold\">19732</span>  <span style=\"color: #008080; text-decoration-color: #008080; font-weight: bold\">598719732.0</span>  <span style=\"color: #008080; text-decoration-color: #008080; font-weight: bold\">127.906071</span>  <span style=\"color: #008080; text-decoration-color: #008080; font-weight: bold\">19.396205</span>          F\n",
       "<span style=\"color: #008080; text-decoration-color: #008080; font-weight: bold\">971</span>    <span style=\"color: #008080; text-decoration-color: #008080; font-weight: bold\">19732</span>  <span style=\"color: #008080; text-decoration-color: #008080; font-weight: bold\">599519732.0</span>  <span style=\"color: #008080; text-decoration-color: #008080; font-weight: bold\">127.906535</span>  <span style=\"color: #008080; text-decoration-color: #008080; font-weight: bold\">19.393677</span>          F\n",
       "</pre>\n"
      ],
      "text/plain": [
       "     eclipse       obj_id          ra        dec morphology\n",
       "\u001b[1;36m970\u001b[0m    \u001b[1;36m19732\u001b[0m  \u001b[1;36m598719732.0\u001b[0m  \u001b[1;36m127.906071\u001b[0m  \u001b[1;36m19.396205\u001b[0m          F\n",
       "\u001b[1;36m971\u001b[0m    \u001b[1;36m19732\u001b[0m  \u001b[1;36m599519732.0\u001b[0m  \u001b[1;36m127.906535\u001b[0m  \u001b[1;36m19.393677\u001b[0m          F\n"
      ]
     },
     "metadata": {},
     "output_type": "display_data"
    },
    {
     "data": {
      "text/html": [
       "<pre style=\"white-space:pre;overflow-x:auto;line-height:normal;font-family:Menlo,'DejaVu Sans Mono',consolas,'Courier New',monospace\"><span style=\"font-weight: bold\">[</span><span style=\"color: #008080; text-decoration-color: #008080; font-weight: bold\">0.00135907</span> <span style=\"color: #008080; text-decoration-color: #008080; font-weight: bold\">0.00135908</span><span style=\"font-weight: bold\">]</span>\n",
       "</pre>\n"
      ],
      "text/plain": [
       "\u001b[1m[\u001b[0m\u001b[1;36m0.00135907\u001b[0m \u001b[1;36m0.00135908\u001b[0m\u001b[1m]\u001b[0m\n"
      ]
     },
     "metadata": {},
     "output_type": "display_data"
    },
    {
     "data": {
      "text/html": [
       "<pre style=\"white-space:pre;overflow-x:auto;line-height:normal;font-family:Menlo,'DejaVu Sans Mono',consolas,'Courier New',monospace\">      eclipse        obj_id          ra        dec morphology\n",
       "<span style=\"color: #008080; text-decoration-color: #008080; font-weight: bold\">1062</span>    <span style=\"color: #008080; text-decoration-color: #008080; font-weight: bold\">22274</span>  <span style=\"color: #008080; text-decoration-color: #008080; font-weight: bold\">2.833422e+09</span>  <span style=\"color: #008080; text-decoration-color: #008080; font-weight: bold\">249.707971</span>  <span style=\"color: #008080; text-decoration-color: #008080; font-weight: bold\">40.914823</span>          F\n",
       "<span style=\"color: #008080; text-decoration-color: #008080; font-weight: bold\">1063</span>    <span style=\"color: #008080; text-decoration-color: #008080; font-weight: bold\">22274</span>  <span style=\"color: #008080; text-decoration-color: #008080; font-weight: bold\">2.838122e+09</span>  <span style=\"color: #008080; text-decoration-color: #008080; font-weight: bold\">249.710640</span>  <span style=\"color: #008080; text-decoration-color: #008080; font-weight: bold\">40.913001</span>          F\n",
       "</pre>\n"
      ],
      "text/plain": [
       "      eclipse        obj_id          ra        dec morphology\n",
       "\u001b[1;36m1062\u001b[0m    \u001b[1;36m22274\u001b[0m  \u001b[1;36m2.833422e+09\u001b[0m  \u001b[1;36m249.707971\u001b[0m  \u001b[1;36m40.914823\u001b[0m          F\n",
       "\u001b[1;36m1063\u001b[0m    \u001b[1;36m22274\u001b[0m  \u001b[1;36m2.838122e+09\u001b[0m  \u001b[1;36m249.710640\u001b[0m  \u001b[1;36m40.913001\u001b[0m          F\n"
      ]
     },
     "metadata": {},
     "output_type": "display_data"
    },
    {
     "data": {
      "text/html": [
       "<pre style=\"white-space:pre;overflow-x:auto;line-height:normal;font-family:Menlo,'DejaVu Sans Mono',consolas,'Courier New',monospace\"><span style=\"font-weight: bold\">[</span><span style=\"color: #008080; text-decoration-color: #008080; font-weight: bold\">0.00227928</span> <span style=\"color: #008080; text-decoration-color: #008080; font-weight: bold\">0.00227928</span><span style=\"font-weight: bold\">]</span>\n",
       "</pre>\n"
      ],
      "text/plain": [
       "\u001b[1m[\u001b[0m\u001b[1;36m0.00227928\u001b[0m \u001b[1;36m0.00227928\u001b[0m\u001b[1m]\u001b[0m\n"
      ]
     },
     "metadata": {},
     "output_type": "display_data"
    },
    {
     "data": {
      "text/html": [
       "<pre style=\"white-space:pre;overflow-x:auto;line-height:normal;font-family:Menlo,'DejaVu Sans Mono',consolas,'Courier New',monospace\">      eclipse       obj_id          ra        dec morphology\n",
       "<span style=\"color: #008080; text-decoration-color: #008080; font-weight: bold\">1251</span>    <span style=\"color: #008080; text-decoration-color: #008080; font-weight: bold\">27109</span>  <span style=\"color: #008080; text-decoration-color: #008080; font-weight: bold\">825627109.0</span>  <span style=\"color: #008080; text-decoration-color: #008080; font-weight: bold\">259.975935</span>  <span style=\"color: #008080; text-decoration-color: #008080; font-weight: bold\">26.501314</span>          F\n",
       "<span style=\"color: #008080; text-decoration-color: #008080; font-weight: bold\">1252</span>    <span style=\"color: #008080; text-decoration-color: #008080; font-weight: bold\">27109</span>  <span style=\"color: #008080; text-decoration-color: #008080; font-weight: bold\">814227109.0</span>  <span style=\"color: #008080; text-decoration-color: #008080; font-weight: bold\">259.970842</span>  <span style=\"color: #008080; text-decoration-color: #008080; font-weight: bold\">26.501225</span>          F\n",
       "</pre>\n"
      ],
      "text/plain": [
       "      eclipse       obj_id          ra        dec morphology\n",
       "\u001b[1;36m1251\u001b[0m    \u001b[1;36m27109\u001b[0m  \u001b[1;36m825627109.0\u001b[0m  \u001b[1;36m259.975935\u001b[0m  \u001b[1;36m26.501314\u001b[0m          F\n",
       "\u001b[1;36m1252\u001b[0m    \u001b[1;36m27109\u001b[0m  \u001b[1;36m814227109.0\u001b[0m  \u001b[1;36m259.970842\u001b[0m  \u001b[1;36m26.501225\u001b[0m          F\n"
      ]
     },
     "metadata": {},
     "output_type": "display_data"
    },
    {
     "data": {
      "text/html": [
       "<pre style=\"white-space:pre;overflow-x:auto;line-height:normal;font-family:Menlo,'DejaVu Sans Mono',consolas,'Courier New',monospace\"><span style=\"font-weight: bold\">[</span><span style=\"color: #008080; text-decoration-color: #008080; font-weight: bold\">0.00133431</span> <span style=\"color: #008080; text-decoration-color: #008080; font-weight: bold\">0.00133431</span><span style=\"font-weight: bold\">]</span>\n",
       "</pre>\n"
      ],
      "text/plain": [
       "\u001b[1m[\u001b[0m\u001b[1;36m0.00133431\u001b[0m \u001b[1;36m0.00133431\u001b[0m\u001b[1m]\u001b[0m\n"
      ]
     },
     "metadata": {},
     "output_type": "display_data"
    },
    {
     "data": {
      "text/html": [
       "<pre style=\"white-space:pre;overflow-x:auto;line-height:normal;font-family:Menlo,'DejaVu Sans Mono',consolas,'Courier New',monospace\">      eclipse       obj_id          ra        dec morphology\n",
       "<span style=\"color: #008080; text-decoration-color: #008080; font-weight: bold\">1546</span>    <span style=\"color: #008080; text-decoration-color: #008080; font-weight: bold\">35599</span>  <span style=\"color: #008080; text-decoration-color: #008080; font-weight: bold\">743035599.0</span>  <span style=\"color: #008080; text-decoration-color: #008080; font-weight: bold\">127.905891</span>  <span style=\"color: #008080; text-decoration-color: #008080; font-weight: bold\">19.396187</span>          F\n",
       "<span style=\"color: #008080; text-decoration-color: #008080; font-weight: bold\">1547</span>    <span style=\"color: #008080; text-decoration-color: #008080; font-weight: bold\">35599</span>  <span style=\"color: #008080; text-decoration-color: #008080; font-weight: bold\">744235599.0</span>  <span style=\"color: #008080; text-decoration-color: #008080; font-weight: bold\">127.906492</span>  <span style=\"color: #008080; text-decoration-color: #008080; font-weight: bold\">19.393580</span>          F\n",
       "</pre>\n"
      ],
      "text/plain": [
       "      eclipse       obj_id          ra        dec morphology\n",
       "\u001b[1;36m1546\u001b[0m    \u001b[1;36m35599\u001b[0m  \u001b[1;36m743035599.0\u001b[0m  \u001b[1;36m127.905891\u001b[0m  \u001b[1;36m19.396187\u001b[0m          F\n",
       "\u001b[1;36m1547\u001b[0m    \u001b[1;36m35599\u001b[0m  \u001b[1;36m744235599.0\u001b[0m  \u001b[1;36m127.906492\u001b[0m  \u001b[1;36m19.393580\u001b[0m          F\n"
      ]
     },
     "metadata": {},
     "output_type": "display_data"
    }
   ],
   "source": [
    "gfcat_visits = gfcat_combined.sort_values('eclipse').reset_index()[['eclipse','obj_id','ra','dec','morphology']]\n",
    "gfcat_visits\n",
    "for e in np.unique(gfcat_combined['eclipse']):\n",
    "    visits = gfcat_visits[gfcat_visits['eclipse']==e]\n",
    "    # if there is only one source in the eclipse, move on\n",
    "    if len(visits)==1:\n",
    "        continue\n",
    "    d = angularSeparation(visits['ra'].values.mean(),\n",
    "                          visits['dec'].values.mean(),\n",
    "                          visits['ra'].values,visits['dec'].values)\n",
    "    # only keep one of each unique pointing in the eclipse\n",
    "    d_all = np.unique(d)\n",
    "    for d_u in d_all:\n",
    "        ix = np.where(d==d_u)\n",
    "        if len(ix[0])==1:\n",
    "            continue\n",
    "        gfcat_visits.drop(visits.iloc[ix].index[1:],inplace=True)\n",
    "        \n",
    "    visits = gfcat_visits[gfcat_visits['eclipse']==e]\n",
    "    # if there is now only one source in the eclipse, move on\n",
    "    if len(visits)==1:\n",
    "        continue\n",
    "        \n",
    "    d = angularSeparation(visits['ra'].values.mean(),\n",
    "                          visits['dec'].values.mean(),\n",
    "                          visits['ra'].values,visits['dec'].values)\n",
    "    if len(visits)==2:\n",
    "        # there are only two objects and they are far apart, so separate\n",
    "        if all(d>35/60/60):\n",
    "            continue\n",
    "        # if the object is repointed, use the repointed one\n",
    "        adj_test = [obj_id.startswith('999999') for obj_id in visits['obj_id'].astype('str').values]\n",
    "        if any(adj_test):\n",
    "            for v in visits.iterrows():\n",
    "                if str(v[1]['obj_id']).startswith('999999'):\n",
    "                    pass\n",
    "                else:\n",
    "                    gfcat_visits.drop(v[0],inplace=True)\n",
    "            continue\n",
    "    # manual confirmed to be different sources\n",
    "    if e in [7500,15895,23102,30868]:\n",
    "        continue\n",
    "    elif e==23279:\n",
    "        gfcat_visits.drop(1098,inplace=True)\n",
    "        continue\n",
    "    print(d)\n",
    "    print(gfcat_visits[gfcat_visits['eclipse']==e])\n",
    "gfcat_visits = pd.concat([gfcat_visits,gfcat_old_finds.iloc[:-12]])"
   ]
  },
  {
   "cell_type": "code",
   "execution_count": 95,
   "id": "aaa620e3",
   "metadata": {},
   "outputs": [],
   "source": [
    "# This is the observation of Ross 867 & 868 that flare within a few minutes of each other\n",
    "# Overzealous crossmatching would merge this. So ensure that it does not!\n",
    "assert len(gfcat_visits[gfcat_visits['eclipse']==27109])==2"
   ]
  },
  {
   "cell_type": "code",
   "execution_count": 100,
   "id": "429aac5c",
   "metadata": {},
   "outputs": [],
   "source": [
    "gfcat_visits.reset_index()[['eclipse','obj_id','ra','dec','morphology']].to_csv(\n",
    "    'gfcat_visit_table_positions.csv')#,index=None)"
   ]
  },
  {
   "cell_type": "code",
   "execution_count": 99,
   "id": "5efd27d7",
   "metadata": {},
   "outputs": [
    {
     "data": {
      "text/html": [
       "<div>\n",
       "<style scoped>\n",
       "    .dataframe tbody tr th:only-of-type {\n",
       "        vertical-align: middle;\n",
       "    }\n",
       "\n",
       "    .dataframe tbody tr th {\n",
       "        vertical-align: top;\n",
       "    }\n",
       "\n",
       "    .dataframe thead th {\n",
       "        text-align: right;\n",
       "    }\n",
       "</style>\n",
       "<table border=\"1\" class=\"dataframe\">\n",
       "  <thead>\n",
       "    <tr style=\"text-align: right;\">\n",
       "      <th></th>\n",
       "      <th>index</th>\n",
       "      <th>eclipse</th>\n",
       "      <th>obj_id</th>\n",
       "      <th>ra</th>\n",
       "      <th>dec</th>\n",
       "      <th>morphology</th>\n",
       "    </tr>\n",
       "  </thead>\n",
       "  <tbody>\n",
       "    <tr>\n",
       "      <th>0</th>\n",
       "      <td>0</td>\n",
       "      <td>927</td>\n",
       "      <td>3.715901e+09</td>\n",
       "      <td>249.909813</td>\n",
       "      <td>41.112522</td>\n",
       "      <td>U</td>\n",
       "    </tr>\n",
       "    <tr>\n",
       "      <th>1</th>\n",
       "      <td>1</td>\n",
       "      <td>1413</td>\n",
       "      <td>1.953301e+09</td>\n",
       "      <td>311.565113</td>\n",
       "      <td>-4.930670</td>\n",
       "      <td>F</td>\n",
       "    </tr>\n",
       "    <tr>\n",
       "      <th>2</th>\n",
       "      <td>2</td>\n",
       "      <td>1420</td>\n",
       "      <td>1.468701e+09</td>\n",
       "      <td>315.935391</td>\n",
       "      <td>-7.379244</td>\n",
       "      <td>F</td>\n",
       "    </tr>\n",
       "    <tr>\n",
       "      <th>3</th>\n",
       "      <td>3</td>\n",
       "      <td>1422</td>\n",
       "      <td>1.479501e+09</td>\n",
       "      <td>343.352654</td>\n",
       "      <td>-39.793072</td>\n",
       "      <td>F</td>\n",
       "    </tr>\n",
       "    <tr>\n",
       "      <th>4</th>\n",
       "      <td>4</td>\n",
       "      <td>1534</td>\n",
       "      <td>1.091702e+09</td>\n",
       "      <td>259.445075</td>\n",
       "      <td>59.689607</td>\n",
       "      <td>F</td>\n",
       "    </tr>\n",
       "    <tr>\n",
       "      <th>...</th>\n",
       "      <td>...</td>\n",
       "      <td>...</td>\n",
       "      <td>...</td>\n",
       "      <td>...</td>\n",
       "      <td>...</td>\n",
       "      <td>...</td>\n",
       "    </tr>\n",
       "    <tr>\n",
       "      <th>2060</th>\n",
       "      <td>529</td>\n",
       "      <td>46807</td>\n",
       "      <td>NaN</td>\n",
       "      <td>183.176317</td>\n",
       "      <td>-26.926904</td>\n",
       "      <td>U</td>\n",
       "    </tr>\n",
       "    <tr>\n",
       "      <th>2061</th>\n",
       "      <td>530</td>\n",
       "      <td>46818</td>\n",
       "      <td>NaN</td>\n",
       "      <td>184.069175</td>\n",
       "      <td>-30.364380</td>\n",
       "      <td>U</td>\n",
       "    </tr>\n",
       "    <tr>\n",
       "      <th>2062</th>\n",
       "      <td>531</td>\n",
       "      <td>46828</td>\n",
       "      <td>NaN</td>\n",
       "      <td>183.706376</td>\n",
       "      <td>-32.431746</td>\n",
       "      <td>F</td>\n",
       "    </tr>\n",
       "    <tr>\n",
       "      <th>2063</th>\n",
       "      <td>532</td>\n",
       "      <td>46828</td>\n",
       "      <td>NaN</td>\n",
       "      <td>183.710681</td>\n",
       "      <td>-32.431776</td>\n",
       "      <td>F</td>\n",
       "    </tr>\n",
       "    <tr>\n",
       "      <th>2064</th>\n",
       "      <td>533</td>\n",
       "      <td>46832</td>\n",
       "      <td>NaN</td>\n",
       "      <td>184.133959</td>\n",
       "      <td>-33.856107</td>\n",
       "      <td>U</td>\n",
       "    </tr>\n",
       "  </tbody>\n",
       "</table>\n",
       "<p>2065 rows × 6 columns</p>\n",
       "</div>"
      ],
      "text/plain": [
       "      index  eclipse        obj_id          ra        dec morphology\n",
       "0         0      927  3.715901e+09  249.909813  41.112522          U\n",
       "1         1     1413  1.953301e+09  311.565113  -4.930670          F\n",
       "2         2     1420  1.468701e+09  315.935391  -7.379244          F\n",
       "3         3     1422  1.479501e+09  343.352654 -39.793072          F\n",
       "4         4     1534  1.091702e+09  259.445075  59.689607          F\n",
       "...     ...      ...           ...         ...        ...        ...\n",
       "2060    529    46807           NaN  183.176317 -26.926904          U\n",
       "2061    530    46818           NaN  184.069175 -30.364380          U\n",
       "2062    531    46828           NaN  183.706376 -32.431746          F\n",
       "2063    532    46828           NaN  183.710681 -32.431776          F\n",
       "2064    533    46832           NaN  184.133959 -33.856107          U\n",
       "\n",
       "[2065 rows x 6 columns]"
      ]
     },
     "execution_count": 99,
     "metadata": {},
     "output_type": "execute_result"
    }
   ],
   "source": []
  },
  {
   "cell_type": "code",
   "execution_count": null,
   "id": "f85ff299",
   "metadata": {},
   "outputs": [],
   "source": []
  }
 ],
 "metadata": {
  "kernelspec": {
   "display_name": "Python 3 (ipykernel)",
   "language": "python",
   "name": "python3"
  },
  "language_info": {
   "codemirror_mode": {
    "name": "ipython",
    "version": 3
   },
   "file_extension": ".py",
   "mimetype": "text/x-python",
   "name": "python",
   "nbconvert_exporter": "python",
   "pygments_lexer": "ipython3",
   "version": "3.9.15"
  }
 },
 "nbformat": 4,
 "nbformat_minor": 5
}
