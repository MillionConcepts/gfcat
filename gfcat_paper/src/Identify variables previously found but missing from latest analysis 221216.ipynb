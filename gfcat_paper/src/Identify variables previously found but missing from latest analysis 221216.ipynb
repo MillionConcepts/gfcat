{
 "cells": [
  {
   "cell_type": "code",
   "execution_count": 1,
   "id": "7e53e591",
   "metadata": {},
   "outputs": [],
   "source": [
    "import pyarrow.parquet as pq\n",
    "import pandas as pd\n",
    "import numpy as np\n",
    "import sqlite3\n",
    "import os\n",
    "from rich import print"
   ]
  },
  {
   "cell_type": "code",
   "execution_count": 2,
   "id": "64d057da",
   "metadata": {},
   "outputs": [],
   "source": [
    "new_sample = []\n",
    "for fn in os.listdir('/Users/cm/github/gfcat_paper/data/final_qa_plots/'):\n",
    "    if \"Store\" in fn:\n",
    "        continue\n",
    "    new_sample += [int(fn.split('_')[1])]"
   ]
  },
  {
   "cell_type": "code",
   "execution_count": 3,
   "id": "7836a4c8",
   "metadata": {},
   "outputs": [],
   "source": [
    "old_sample_01 = []\n",
    "for d in ['other variable',#'artifacts','marginal','moving','nonlinearity',\n",
    "          'eclipses','flares']:\n",
    "    for fn in os.listdir(f\"/Users/cm/GFCAT/GFCAT_2202.1/plots_sorted/{d}\"):\n",
    "        if \"Store\" in fn:\n",
    "            continue\n",
    "        #new_sample += [int(fn.split('_')[1])]\n",
    "        e = int(fn.split('-')[0][1:])\n",
    "        obj = int(fn.split('-')[-1][:-4])\n",
    "        old_sample_01 += [e]#,obj,{'flares':'F','eclipses':'E','other variable':'U'}[d]]"
   ]
  },
  {
   "cell_type": "code",
   "execution_count": 4,
   "id": "cef3d4f2",
   "metadata": {},
   "outputs": [],
   "source": [
    "old_sample_02 = []\n",
    "for d in ['other variable',#'artifacts','marginal','moving','nonlinearity',\n",
    "          'eclipses','flares']:\n",
    "    for fn in os.listdir(f\"/Users/cm/GFCAT/GFCAT_2207.2/plots_sorted/{d}\"):\n",
    "        if \"Store\" in fn:\n",
    "            continue\n",
    "        #new_sample += [int(fn.split('_')[1])]\n",
    "        e = int(fn.split('-')[0][1:])\n",
    "        obj = int(fn.split('-')[-1][:-4])\n",
    "        old_sample_02 += [e]#,obj,{'flares':'F','eclipses':'E','other variable':'U'}[d]]"
   ]
  },
  {
   "cell_type": "code",
   "execution_count": 5,
   "id": "6c1e91c5",
   "metadata": {},
   "outputs": [
    {
     "data": {
      "text/html": [
       "<pre style=\"white-space:pre;overflow-x:auto;line-height:normal;font-family:Menlo,'DejaVu Sans Mono',consolas,'Courier New',monospace\"><span style=\"color: #008080; text-decoration-color: #008080; font-weight: bold\">734</span>\n",
       "</pre>\n"
      ],
      "text/plain": [
       "\u001b[1;36m734\u001b[0m\n"
      ]
     },
     "metadata": {},
     "output_type": "display_data"
    },
    {
     "data": {
      "text/html": [
       "<pre style=\"white-space:pre;overflow-x:auto;line-height:normal;font-family:Menlo,'DejaVu Sans Mono',consolas,'Courier New',monospace\"><span style=\"font-weight: bold\">[</span>\n",
       "    <span style=\"color: #008080; text-decoration-color: #008080; font-weight: bold\">1414</span>,\n",
       "    <span style=\"color: #008080; text-decoration-color: #008080; font-weight: bold\">1586</span>,\n",
       "    <span style=\"color: #008080; text-decoration-color: #008080; font-weight: bold\">1607</span>,\n",
       "    <span style=\"color: #008080; text-decoration-color: #008080; font-weight: bold\">1754</span>,\n",
       "    <span style=\"color: #008080; text-decoration-color: #008080; font-weight: bold\">1759</span>,\n",
       "    <span style=\"color: #008080; text-decoration-color: #008080; font-weight: bold\">1937</span>,\n",
       "    <span style=\"color: #008080; text-decoration-color: #008080; font-weight: bold\">1939</span>,\n",
       "    <span style=\"color: #008080; text-decoration-color: #008080; font-weight: bold\">2102</span>,\n",
       "    <span style=\"color: #008080; text-decoration-color: #008080; font-weight: bold\">2173</span>,\n",
       "    <span style=\"color: #008080; text-decoration-color: #008080; font-weight: bold\">2609</span>,\n",
       "    <span style=\"color: #008080; text-decoration-color: #008080; font-weight: bold\">2890</span>,\n",
       "    <span style=\"color: #008080; text-decoration-color: #008080; font-weight: bold\">3032</span>,\n",
       "    <span style=\"color: #008080; text-decoration-color: #008080; font-weight: bold\">3094</span>,\n",
       "    <span style=\"color: #008080; text-decoration-color: #008080; font-weight: bold\">3788</span>,\n",
       "    <span style=\"color: #008080; text-decoration-color: #008080; font-weight: bold\">3859</span>,\n",
       "    <span style=\"color: #008080; text-decoration-color: #008080; font-weight: bold\">3908</span>,\n",
       "    <span style=\"color: #008080; text-decoration-color: #008080; font-weight: bold\">3999</span>,\n",
       "    <span style=\"color: #008080; text-decoration-color: #008080; font-weight: bold\">4022</span>,\n",
       "    <span style=\"color: #008080; text-decoration-color: #008080; font-weight: bold\">4042</span>,\n",
       "    <span style=\"color: #008080; text-decoration-color: #008080; font-weight: bold\">4158</span>,\n",
       "    <span style=\"color: #008080; text-decoration-color: #008080; font-weight: bold\">4274</span>,\n",
       "    <span style=\"color: #008080; text-decoration-color: #008080; font-weight: bold\">4310</span>,\n",
       "    <span style=\"color: #008080; text-decoration-color: #008080; font-weight: bold\">4560</span>,\n",
       "    <span style=\"color: #008080; text-decoration-color: #008080; font-weight: bold\">5474</span>,\n",
       "    <span style=\"color: #008080; text-decoration-color: #008080; font-weight: bold\">6042</span>,\n",
       "    <span style=\"color: #008080; text-decoration-color: #008080; font-weight: bold\">6074</span>,\n",
       "    <span style=\"color: #008080; text-decoration-color: #008080; font-weight: bold\">6079</span>,\n",
       "    <span style=\"color: #008080; text-decoration-color: #008080; font-weight: bold\">6165</span>,\n",
       "    <span style=\"color: #008080; text-decoration-color: #008080; font-weight: bold\">6279</span>,\n",
       "    <span style=\"color: #008080; text-decoration-color: #008080; font-weight: bold\">6348</span>,\n",
       "    <span style=\"color: #008080; text-decoration-color: #008080; font-weight: bold\">6434</span>,\n",
       "    <span style=\"color: #008080; text-decoration-color: #008080; font-weight: bold\">6435</span>,\n",
       "    <span style=\"color: #008080; text-decoration-color: #008080; font-weight: bold\">6513</span>,\n",
       "    <span style=\"color: #008080; text-decoration-color: #008080; font-weight: bold\">6536</span>,\n",
       "    <span style=\"color: #008080; text-decoration-color: #008080; font-weight: bold\">6734</span>,\n",
       "    <span style=\"color: #008080; text-decoration-color: #008080; font-weight: bold\">6745</span>,\n",
       "    <span style=\"color: #008080; text-decoration-color: #008080; font-weight: bold\">6842</span>,\n",
       "    <span style=\"color: #008080; text-decoration-color: #008080; font-weight: bold\">6888</span>,\n",
       "    <span style=\"color: #008080; text-decoration-color: #008080; font-weight: bold\">7063</span>,\n",
       "    <span style=\"color: #008080; text-decoration-color: #008080; font-weight: bold\">7130</span>,\n",
       "    <span style=\"color: #008080; text-decoration-color: #008080; font-weight: bold\">7154</span>,\n",
       "    <span style=\"color: #008080; text-decoration-color: #008080; font-weight: bold\">7254</span>,\n",
       "    <span style=\"color: #008080; text-decoration-color: #008080; font-weight: bold\">7261</span>,\n",
       "    <span style=\"color: #008080; text-decoration-color: #008080; font-weight: bold\">7286</span>,\n",
       "    <span style=\"color: #008080; text-decoration-color: #008080; font-weight: bold\">7315</span>,\n",
       "    <span style=\"color: #008080; text-decoration-color: #008080; font-weight: bold\">7521</span>,\n",
       "    <span style=\"color: #008080; text-decoration-color: #008080; font-weight: bold\">7526</span>,\n",
       "    <span style=\"color: #008080; text-decoration-color: #008080; font-weight: bold\">7541</span>,\n",
       "    <span style=\"color: #008080; text-decoration-color: #008080; font-weight: bold\">7550</span>,\n",
       "    <span style=\"color: #008080; text-decoration-color: #008080; font-weight: bold\">7602</span>,\n",
       "    <span style=\"color: #008080; text-decoration-color: #008080; font-weight: bold\">7615</span>,\n",
       "    <span style=\"color: #008080; text-decoration-color: #008080; font-weight: bold\">7620</span>,\n",
       "    <span style=\"color: #008080; text-decoration-color: #008080; font-weight: bold\">7795</span>,\n",
       "    <span style=\"color: #008080; text-decoration-color: #008080; font-weight: bold\">7835</span>,\n",
       "    <span style=\"color: #008080; text-decoration-color: #008080; font-weight: bold\">8090</span>,\n",
       "    <span style=\"color: #008080; text-decoration-color: #008080; font-weight: bold\">8117</span>,\n",
       "    <span style=\"color: #008080; text-decoration-color: #008080; font-weight: bold\">8201</span>,\n",
       "    <span style=\"color: #008080; text-decoration-color: #008080; font-weight: bold\">8226</span>,\n",
       "    <span style=\"color: #008080; text-decoration-color: #008080; font-weight: bold\">8308</span>,\n",
       "    <span style=\"color: #008080; text-decoration-color: #008080; font-weight: bold\">8573</span>,\n",
       "    <span style=\"color: #008080; text-decoration-color: #008080; font-weight: bold\">8586</span>,\n",
       "    <span style=\"color: #008080; text-decoration-color: #008080; font-weight: bold\">8590</span>,\n",
       "    <span style=\"color: #008080; text-decoration-color: #008080; font-weight: bold\">8645</span>,\n",
       "    <span style=\"color: #008080; text-decoration-color: #008080; font-weight: bold\">8715</span>,\n",
       "    <span style=\"color: #008080; text-decoration-color: #008080; font-weight: bold\">8830</span>,\n",
       "    <span style=\"color: #008080; text-decoration-color: #008080; font-weight: bold\">8831</span>,\n",
       "    <span style=\"color: #008080; text-decoration-color: #008080; font-weight: bold\">8833</span>,\n",
       "    <span style=\"color: #008080; text-decoration-color: #008080; font-weight: bold\">8839</span>,\n",
       "    <span style=\"color: #008080; text-decoration-color: #008080; font-weight: bold\">8845</span>,\n",
       "    <span style=\"color: #008080; text-decoration-color: #008080; font-weight: bold\">8888</span>,\n",
       "    <span style=\"color: #008080; text-decoration-color: #008080; font-weight: bold\">8895</span>,\n",
       "    <span style=\"color: #008080; text-decoration-color: #008080; font-weight: bold\">8915</span>,\n",
       "    <span style=\"color: #008080; text-decoration-color: #008080; font-weight: bold\">9001</span>,\n",
       "    <span style=\"color: #008080; text-decoration-color: #008080; font-weight: bold\">9004</span>,\n",
       "    <span style=\"color: #008080; text-decoration-color: #008080; font-weight: bold\">9023</span>,\n",
       "    <span style=\"color: #008080; text-decoration-color: #008080; font-weight: bold\">9044</span>,\n",
       "    <span style=\"color: #008080; text-decoration-color: #008080; font-weight: bold\">9055</span>,\n",
       "    <span style=\"color: #008080; text-decoration-color: #008080; font-weight: bold\">9085</span>,\n",
       "    <span style=\"color: #008080; text-decoration-color: #008080; font-weight: bold\">9137</span>,\n",
       "    <span style=\"color: #008080; text-decoration-color: #008080; font-weight: bold\">9204</span>,\n",
       "    <span style=\"color: #008080; text-decoration-color: #008080; font-weight: bold\">9208</span>,\n",
       "    <span style=\"color: #008080; text-decoration-color: #008080; font-weight: bold\">9231</span>,\n",
       "    <span style=\"color: #008080; text-decoration-color: #008080; font-weight: bold\">9264</span>,\n",
       "    <span style=\"color: #008080; text-decoration-color: #008080; font-weight: bold\">9293</span>,\n",
       "    <span style=\"color: #008080; text-decoration-color: #008080; font-weight: bold\">9378</span>,\n",
       "    <span style=\"color: #008080; text-decoration-color: #008080; font-weight: bold\">9419</span>,\n",
       "    <span style=\"color: #008080; text-decoration-color: #008080; font-weight: bold\">9427</span>,\n",
       "    <span style=\"color: #008080; text-decoration-color: #008080; font-weight: bold\">9443</span>,\n",
       "    <span style=\"color: #008080; text-decoration-color: #008080; font-weight: bold\">9445</span>,\n",
       "    <span style=\"color: #008080; text-decoration-color: #008080; font-weight: bold\">9461</span>,\n",
       "    <span style=\"color: #008080; text-decoration-color: #008080; font-weight: bold\">9592</span>,\n",
       "    <span style=\"color: #008080; text-decoration-color: #008080; font-weight: bold\">9708</span>,\n",
       "    <span style=\"color: #008080; text-decoration-color: #008080; font-weight: bold\">9722</span>,\n",
       "    <span style=\"color: #008080; text-decoration-color: #008080; font-weight: bold\">9756</span>,\n",
       "    <span style=\"color: #008080; text-decoration-color: #008080; font-weight: bold\">9768</span>,\n",
       "    <span style=\"color: #008080; text-decoration-color: #008080; font-weight: bold\">9893</span>,\n",
       "    <span style=\"color: #008080; text-decoration-color: #008080; font-weight: bold\">9969</span>,\n",
       "    <span style=\"color: #008080; text-decoration-color: #008080; font-weight: bold\">10038</span>,\n",
       "    <span style=\"color: #008080; text-decoration-color: #008080; font-weight: bold\">10509</span>,\n",
       "    <span style=\"color: #008080; text-decoration-color: #008080; font-weight: bold\">10545</span>,\n",
       "    <span style=\"color: #008080; text-decoration-color: #008080; font-weight: bold\">10565</span>,\n",
       "    <span style=\"color: #008080; text-decoration-color: #008080; font-weight: bold\">10678</span>,\n",
       "    <span style=\"color: #008080; text-decoration-color: #008080; font-weight: bold\">10725</span>,\n",
       "    <span style=\"color: #008080; text-decoration-color: #008080; font-weight: bold\">10726</span>,\n",
       "    <span style=\"color: #008080; text-decoration-color: #008080; font-weight: bold\">10795</span>,\n",
       "    <span style=\"color: #008080; text-decoration-color: #008080; font-weight: bold\">10822</span>,\n",
       "    <span style=\"color: #008080; text-decoration-color: #008080; font-weight: bold\">10875</span>,\n",
       "    <span style=\"color: #008080; text-decoration-color: #008080; font-weight: bold\">10961</span>,\n",
       "    <span style=\"color: #008080; text-decoration-color: #008080; font-weight: bold\">11092</span>,\n",
       "    <span style=\"color: #008080; text-decoration-color: #008080; font-weight: bold\">11095</span>,\n",
       "    <span style=\"color: #008080; text-decoration-color: #008080; font-weight: bold\">11451</span>,\n",
       "    <span style=\"color: #008080; text-decoration-color: #008080; font-weight: bold\">11482</span>,\n",
       "    <span style=\"color: #008080; text-decoration-color: #008080; font-weight: bold\">11526</span>,\n",
       "    <span style=\"color: #008080; text-decoration-color: #008080; font-weight: bold\">11625</span>,\n",
       "    <span style=\"color: #008080; text-decoration-color: #008080; font-weight: bold\">11873</span>,\n",
       "    <span style=\"color: #008080; text-decoration-color: #008080; font-weight: bold\">11946</span>,\n",
       "    <span style=\"color: #008080; text-decoration-color: #008080; font-weight: bold\">12016</span>,\n",
       "    <span style=\"color: #008080; text-decoration-color: #008080; font-weight: bold\">12030</span>,\n",
       "    <span style=\"color: #008080; text-decoration-color: #008080; font-weight: bold\">12068</span>,\n",
       "    <span style=\"color: #008080; text-decoration-color: #008080; font-weight: bold\">12069</span>,\n",
       "    <span style=\"color: #008080; text-decoration-color: #008080; font-weight: bold\">12100</span>,\n",
       "    <span style=\"color: #008080; text-decoration-color: #008080; font-weight: bold\">12188</span>,\n",
       "    <span style=\"color: #008080; text-decoration-color: #008080; font-weight: bold\">12300</span>,\n",
       "    <span style=\"color: #008080; text-decoration-color: #008080; font-weight: bold\">12482</span>,\n",
       "    <span style=\"color: #008080; text-decoration-color: #008080; font-weight: bold\">12484</span>,\n",
       "    <span style=\"color: #008080; text-decoration-color: #008080; font-weight: bold\">12494</span>,\n",
       "    <span style=\"color: #008080; text-decoration-color: #008080; font-weight: bold\">12661</span>,\n",
       "    <span style=\"color: #008080; text-decoration-color: #008080; font-weight: bold\">12751</span>,\n",
       "    <span style=\"color: #008080; text-decoration-color: #008080; font-weight: bold\">12764</span>,\n",
       "    <span style=\"color: #008080; text-decoration-color: #008080; font-weight: bold\">12799</span>,\n",
       "    <span style=\"color: #008080; text-decoration-color: #008080; font-weight: bold\">12958</span>,\n",
       "    <span style=\"color: #008080; text-decoration-color: #008080; font-weight: bold\">13020</span>,\n",
       "    <span style=\"color: #008080; text-decoration-color: #008080; font-weight: bold\">13115</span>,\n",
       "    <span style=\"color: #008080; text-decoration-color: #008080; font-weight: bold\">13124</span>,\n",
       "    <span style=\"color: #008080; text-decoration-color: #008080; font-weight: bold\">13130</span>,\n",
       "    <span style=\"color: #008080; text-decoration-color: #008080; font-weight: bold\">13500</span>,\n",
       "    <span style=\"color: #008080; text-decoration-color: #008080; font-weight: bold\">13549</span>,\n",
       "    <span style=\"color: #008080; text-decoration-color: #008080; font-weight: bold\">13691</span>,\n",
       "    <span style=\"color: #008080; text-decoration-color: #008080; font-weight: bold\">13853</span>,\n",
       "    <span style=\"color: #008080; text-decoration-color: #008080; font-weight: bold\">14098</span>,\n",
       "    <span style=\"color: #008080; text-decoration-color: #008080; font-weight: bold\">14102</span>,\n",
       "    <span style=\"color: #008080; text-decoration-color: #008080; font-weight: bold\">14122</span>,\n",
       "    <span style=\"color: #008080; text-decoration-color: #008080; font-weight: bold\">14198</span>,\n",
       "    <span style=\"color: #008080; text-decoration-color: #008080; font-weight: bold\">14335</span>,\n",
       "    <span style=\"color: #008080; text-decoration-color: #008080; font-weight: bold\">14446</span>,\n",
       "    <span style=\"color: #008080; text-decoration-color: #008080; font-weight: bold\">14560</span>,\n",
       "    <span style=\"color: #008080; text-decoration-color: #008080; font-weight: bold\">14825</span>,\n",
       "    <span style=\"color: #008080; text-decoration-color: #008080; font-weight: bold\">14850</span>,\n",
       "    <span style=\"color: #008080; text-decoration-color: #008080; font-weight: bold\">15375</span>,\n",
       "    <span style=\"color: #008080; text-decoration-color: #008080; font-weight: bold\">15422</span>,\n",
       "    <span style=\"color: #008080; text-decoration-color: #008080; font-weight: bold\">15549</span>,\n",
       "    <span style=\"color: #008080; text-decoration-color: #008080; font-weight: bold\">15723</span>,\n",
       "    <span style=\"color: #008080; text-decoration-color: #008080; font-weight: bold\">15731</span>,\n",
       "    <span style=\"color: #008080; text-decoration-color: #008080; font-weight: bold\">15755</span>,\n",
       "    <span style=\"color: #008080; text-decoration-color: #008080; font-weight: bold\">15883</span>,\n",
       "    <span style=\"color: #008080; text-decoration-color: #008080; font-weight: bold\">15884</span>,\n",
       "    <span style=\"color: #008080; text-decoration-color: #008080; font-weight: bold\">16023</span>,\n",
       "    <span style=\"color: #008080; text-decoration-color: #008080; font-weight: bold\">16121</span>,\n",
       "    <span style=\"color: #008080; text-decoration-color: #008080; font-weight: bold\">16123</span>,\n",
       "    <span style=\"color: #008080; text-decoration-color: #008080; font-weight: bold\">16163</span>,\n",
       "    <span style=\"color: #008080; text-decoration-color: #008080; font-weight: bold\">16176</span>,\n",
       "    <span style=\"color: #008080; text-decoration-color: #008080; font-weight: bold\">16207</span>,\n",
       "    <span style=\"color: #008080; text-decoration-color: #008080; font-weight: bold\">16263</span>,\n",
       "    <span style=\"color: #008080; text-decoration-color: #008080; font-weight: bold\">16350</span>,\n",
       "    <span style=\"color: #008080; text-decoration-color: #008080; font-weight: bold\">16366</span>,\n",
       "    <span style=\"color: #008080; text-decoration-color: #008080; font-weight: bold\">16367</span>,\n",
       "    <span style=\"color: #008080; text-decoration-color: #008080; font-weight: bold\">16492</span>,\n",
       "    <span style=\"color: #008080; text-decoration-color: #008080; font-weight: bold\">16508</span>,\n",
       "    <span style=\"color: #008080; text-decoration-color: #008080; font-weight: bold\">16515</span>,\n",
       "    <span style=\"color: #008080; text-decoration-color: #008080; font-weight: bold\">16530</span>,\n",
       "    <span style=\"color: #008080; text-decoration-color: #008080; font-weight: bold\">16561</span>,\n",
       "    <span style=\"color: #008080; text-decoration-color: #008080; font-weight: bold\">16567</span>,\n",
       "    <span style=\"color: #008080; text-decoration-color: #008080; font-weight: bold\">16603</span>,\n",
       "    <span style=\"color: #008080; text-decoration-color: #008080; font-weight: bold\">16609</span>,\n",
       "    <span style=\"color: #008080; text-decoration-color: #008080; font-weight: bold\">16632</span>,\n",
       "    <span style=\"color: #008080; text-decoration-color: #008080; font-weight: bold\">16642</span>,\n",
       "    <span style=\"color: #008080; text-decoration-color: #008080; font-weight: bold\">16643</span>,\n",
       "    <span style=\"color: #008080; text-decoration-color: #008080; font-weight: bold\">16652</span>,\n",
       "    <span style=\"color: #008080; text-decoration-color: #008080; font-weight: bold\">16654</span>,\n",
       "    <span style=\"color: #008080; text-decoration-color: #008080; font-weight: bold\">16671</span>,\n",
       "    <span style=\"color: #008080; text-decoration-color: #008080; font-weight: bold\">16678</span>,\n",
       "    <span style=\"color: #008080; text-decoration-color: #008080; font-weight: bold\">16686</span>,\n",
       "    <span style=\"color: #008080; text-decoration-color: #008080; font-weight: bold\">16687</span>,\n",
       "    <span style=\"color: #008080; text-decoration-color: #008080; font-weight: bold\">16803</span>,\n",
       "    <span style=\"color: #008080; text-decoration-color: #008080; font-weight: bold\">16848</span>,\n",
       "    <span style=\"color: #008080; text-decoration-color: #008080; font-weight: bold\">16849</span>,\n",
       "    <span style=\"color: #008080; text-decoration-color: #008080; font-weight: bold\">16853</span>,\n",
       "    <span style=\"color: #008080; text-decoration-color: #008080; font-weight: bold\">16862</span>,\n",
       "    <span style=\"color: #008080; text-decoration-color: #008080; font-weight: bold\">16940</span>,\n",
       "    <span style=\"color: #008080; text-decoration-color: #008080; font-weight: bold\">16941</span>,\n",
       "    <span style=\"color: #008080; text-decoration-color: #008080; font-weight: bold\">16955</span>,\n",
       "    <span style=\"color: #008080; text-decoration-color: #008080; font-weight: bold\">17099</span>,\n",
       "    <span style=\"color: #008080; text-decoration-color: #008080; font-weight: bold\">17102</span>,\n",
       "    <span style=\"color: #008080; text-decoration-color: #008080; font-weight: bold\">17105</span>,\n",
       "    <span style=\"color: #008080; text-decoration-color: #008080; font-weight: bold\">17126</span>,\n",
       "    <span style=\"color: #008080; text-decoration-color: #008080; font-weight: bold\">17136</span>,\n",
       "    <span style=\"color: #008080; text-decoration-color: #008080; font-weight: bold\">17167</span>,\n",
       "    <span style=\"color: #008080; text-decoration-color: #008080; font-weight: bold\">17168</span>,\n",
       "    <span style=\"color: #008080; text-decoration-color: #008080; font-weight: bold\">17206</span>,\n",
       "    <span style=\"color: #008080; text-decoration-color: #008080; font-weight: bold\">17228</span>,\n",
       "    <span style=\"color: #008080; text-decoration-color: #008080; font-weight: bold\">17264</span>,\n",
       "    <span style=\"color: #008080; text-decoration-color: #008080; font-weight: bold\">17392</span>,\n",
       "    <span style=\"color: #008080; text-decoration-color: #008080; font-weight: bold\">17409</span>,\n",
       "    <span style=\"color: #008080; text-decoration-color: #008080; font-weight: bold\">17410</span>,\n",
       "    <span style=\"color: #008080; text-decoration-color: #008080; font-weight: bold\">17474</span>,\n",
       "    <span style=\"color: #008080; text-decoration-color: #008080; font-weight: bold\">17636</span>,\n",
       "    <span style=\"color: #008080; text-decoration-color: #008080; font-weight: bold\">17685</span>,\n",
       "    <span style=\"color: #008080; text-decoration-color: #008080; font-weight: bold\">17790</span>,\n",
       "    <span style=\"color: #008080; text-decoration-color: #008080; font-weight: bold\">17907</span>,\n",
       "    <span style=\"color: #008080; text-decoration-color: #008080; font-weight: bold\">17928</span>,\n",
       "    <span style=\"color: #008080; text-decoration-color: #008080; font-weight: bold\">17970</span>,\n",
       "    <span style=\"color: #008080; text-decoration-color: #008080; font-weight: bold\">17974</span>,\n",
       "    <span style=\"color: #008080; text-decoration-color: #008080; font-weight: bold\">17987</span>,\n",
       "    <span style=\"color: #008080; text-decoration-color: #008080; font-weight: bold\">18029</span>,\n",
       "    <span style=\"color: #008080; text-decoration-color: #008080; font-weight: bold\">18076</span>,\n",
       "    <span style=\"color: #008080; text-decoration-color: #008080; font-weight: bold\">18080</span>,\n",
       "    <span style=\"color: #008080; text-decoration-color: #008080; font-weight: bold\">18117</span>,\n",
       "    <span style=\"color: #008080; text-decoration-color: #008080; font-weight: bold\">18124</span>,\n",
       "    <span style=\"color: #008080; text-decoration-color: #008080; font-weight: bold\">18144</span>,\n",
       "    <span style=\"color: #008080; text-decoration-color: #008080; font-weight: bold\">18161</span>,\n",
       "    <span style=\"color: #008080; text-decoration-color: #008080; font-weight: bold\">18241</span>,\n",
       "    <span style=\"color: #008080; text-decoration-color: #008080; font-weight: bold\">18248</span>,\n",
       "    <span style=\"color: #008080; text-decoration-color: #008080; font-weight: bold\">18263</span>,\n",
       "    <span style=\"color: #008080; text-decoration-color: #008080; font-weight: bold\">18329</span>,\n",
       "    <span style=\"color: #008080; text-decoration-color: #008080; font-weight: bold\">18589</span>,\n",
       "    <span style=\"color: #008080; text-decoration-color: #008080; font-weight: bold\">18620</span>,\n",
       "    <span style=\"color: #008080; text-decoration-color: #008080; font-weight: bold\">18674</span>,\n",
       "    <span style=\"color: #008080; text-decoration-color: #008080; font-weight: bold\">18855</span>,\n",
       "    <span style=\"color: #008080; text-decoration-color: #008080; font-weight: bold\">18897</span>,\n",
       "    <span style=\"color: #008080; text-decoration-color: #008080; font-weight: bold\">18905</span>,\n",
       "    <span style=\"color: #008080; text-decoration-color: #008080; font-weight: bold\">18915</span>,\n",
       "    <span style=\"color: #008080; text-decoration-color: #008080; font-weight: bold\">18964</span>,\n",
       "    <span style=\"color: #008080; text-decoration-color: #008080; font-weight: bold\">18975</span>,\n",
       "    <span style=\"color: #008080; text-decoration-color: #008080; font-weight: bold\">18984</span>,\n",
       "    <span style=\"color: #008080; text-decoration-color: #008080; font-weight: bold\">18998</span>,\n",
       "    <span style=\"color: #008080; text-decoration-color: #008080; font-weight: bold\">19013</span>,\n",
       "    <span style=\"color: #008080; text-decoration-color: #008080; font-weight: bold\">19129</span>,\n",
       "    <span style=\"color: #008080; text-decoration-color: #008080; font-weight: bold\">19139</span>,\n",
       "    <span style=\"color: #008080; text-decoration-color: #008080; font-weight: bold\">19259</span>,\n",
       "    <span style=\"color: #008080; text-decoration-color: #008080; font-weight: bold\">19579</span>,\n",
       "    <span style=\"color: #008080; text-decoration-color: #008080; font-weight: bold\">19591</span>,\n",
       "    <span style=\"color: #008080; text-decoration-color: #008080; font-weight: bold\">19618</span>,\n",
       "    <span style=\"color: #008080; text-decoration-color: #008080; font-weight: bold\">19643</span>,\n",
       "    <span style=\"color: #008080; text-decoration-color: #008080; font-weight: bold\">19665</span>,\n",
       "    <span style=\"color: #008080; text-decoration-color: #008080; font-weight: bold\">19723</span>,\n",
       "    <span style=\"color: #008080; text-decoration-color: #008080; font-weight: bold\">19966</span>,\n",
       "    <span style=\"color: #008080; text-decoration-color: #008080; font-weight: bold\">20408</span>,\n",
       "    <span style=\"color: #008080; text-decoration-color: #008080; font-weight: bold\">20600</span>,\n",
       "    <span style=\"color: #008080; text-decoration-color: #008080; font-weight: bold\">21539</span>,\n",
       "    <span style=\"color: #008080; text-decoration-color: #008080; font-weight: bold\">21682</span>,\n",
       "    <span style=\"color: #008080; text-decoration-color: #008080; font-weight: bold\">21900</span>,\n",
       "    <span style=\"color: #008080; text-decoration-color: #008080; font-weight: bold\">21910</span>,\n",
       "    <span style=\"color: #008080; text-decoration-color: #008080; font-weight: bold\">22372</span>,\n",
       "    <span style=\"color: #008080; text-decoration-color: #008080; font-weight: bold\">23124</span>,\n",
       "    <span style=\"color: #008080; text-decoration-color: #008080; font-weight: bold\">23150</span>,\n",
       "    <span style=\"color: #008080; text-decoration-color: #008080; font-weight: bold\">23231</span>,\n",
       "    <span style=\"color: #008080; text-decoration-color: #008080; font-weight: bold\">23330</span>,\n",
       "    <span style=\"color: #008080; text-decoration-color: #008080; font-weight: bold\">23427</span>,\n",
       "    <span style=\"color: #008080; text-decoration-color: #008080; font-weight: bold\">23479</span>,\n",
       "    <span style=\"color: #008080; text-decoration-color: #008080; font-weight: bold\">23493</span>,\n",
       "    <span style=\"color: #008080; text-decoration-color: #008080; font-weight: bold\">23668</span>,\n",
       "    <span style=\"color: #008080; text-decoration-color: #008080; font-weight: bold\">23745</span>,\n",
       "    <span style=\"color: #008080; text-decoration-color: #008080; font-weight: bold\">23838</span>,\n",
       "    <span style=\"color: #008080; text-decoration-color: #008080; font-weight: bold\">23944</span>,\n",
       "    <span style=\"color: #008080; text-decoration-color: #008080; font-weight: bold\">24156</span>,\n",
       "    <span style=\"color: #008080; text-decoration-color: #008080; font-weight: bold\">24329</span>,\n",
       "    <span style=\"color: #008080; text-decoration-color: #008080; font-weight: bold\">24432</span>,\n",
       "    <span style=\"color: #008080; text-decoration-color: #008080; font-weight: bold\">24501</span>,\n",
       "    <span style=\"color: #008080; text-decoration-color: #008080; font-weight: bold\">24999</span>,\n",
       "    <span style=\"color: #008080; text-decoration-color: #008080; font-weight: bold\">25210</span>,\n",
       "    <span style=\"color: #008080; text-decoration-color: #008080; font-weight: bold\">25287</span>,\n",
       "    <span style=\"color: #008080; text-decoration-color: #008080; font-weight: bold\">25405</span>,\n",
       "    <span style=\"color: #008080; text-decoration-color: #008080; font-weight: bold\">25603</span>,\n",
       "    <span style=\"color: #008080; text-decoration-color: #008080; font-weight: bold\">25790</span>,\n",
       "    <span style=\"color: #008080; text-decoration-color: #008080; font-weight: bold\">26121</span>,\n",
       "    <span style=\"color: #008080; text-decoration-color: #008080; font-weight: bold\">26134</span>,\n",
       "    <span style=\"color: #008080; text-decoration-color: #008080; font-weight: bold\">26155</span>,\n",
       "    <span style=\"color: #008080; text-decoration-color: #008080; font-weight: bold\">26189</span>,\n",
       "    <span style=\"color: #008080; text-decoration-color: #008080; font-weight: bold\">26237</span>,\n",
       "    <span style=\"color: #008080; text-decoration-color: #008080; font-weight: bold\">26434</span>,\n",
       "    <span style=\"color: #008080; text-decoration-color: #008080; font-weight: bold\">26607</span>,\n",
       "    <span style=\"color: #008080; text-decoration-color: #008080; font-weight: bold\">26620</span>,\n",
       "    <span style=\"color: #008080; text-decoration-color: #008080; font-weight: bold\">26646</span>,\n",
       "    <span style=\"color: #008080; text-decoration-color: #008080; font-weight: bold\">26660</span>,\n",
       "    <span style=\"color: #008080; text-decoration-color: #008080; font-weight: bold\">26689</span>,\n",
       "    <span style=\"color: #008080; text-decoration-color: #008080; font-weight: bold\">26752</span>,\n",
       "    <span style=\"color: #008080; text-decoration-color: #008080; font-weight: bold\">26770</span>,\n",
       "    <span style=\"color: #008080; text-decoration-color: #008080; font-weight: bold\">26779</span>,\n",
       "    <span style=\"color: #008080; text-decoration-color: #008080; font-weight: bold\">26797</span>,\n",
       "    <span style=\"color: #008080; text-decoration-color: #008080; font-weight: bold\">26852</span>,\n",
       "    <span style=\"color: #008080; text-decoration-color: #008080; font-weight: bold\">26857</span>,\n",
       "    <span style=\"color: #008080; text-decoration-color: #008080; font-weight: bold\">26916</span>,\n",
       "    <span style=\"color: #008080; text-decoration-color: #008080; font-weight: bold\">27029</span>,\n",
       "    <span style=\"color: #008080; text-decoration-color: #008080; font-weight: bold\">27040</span>,\n",
       "    <span style=\"color: #008080; text-decoration-color: #008080; font-weight: bold\">27066</span>,\n",
       "    <span style=\"color: #008080; text-decoration-color: #008080; font-weight: bold\">27072</span>,\n",
       "    <span style=\"color: #008080; text-decoration-color: #008080; font-weight: bold\">27075</span>,\n",
       "    <span style=\"color: #008080; text-decoration-color: #008080; font-weight: bold\">27118</span>,\n",
       "    <span style=\"color: #008080; text-decoration-color: #008080; font-weight: bold\">27152</span>,\n",
       "    <span style=\"color: #008080; text-decoration-color: #008080; font-weight: bold\">27176</span>,\n",
       "    <span style=\"color: #008080; text-decoration-color: #008080; font-weight: bold\">27193</span>,\n",
       "    <span style=\"color: #008080; text-decoration-color: #008080; font-weight: bold\">27693</span>,\n",
       "    <span style=\"color: #008080; text-decoration-color: #008080; font-weight: bold\">27753</span>,\n",
       "    <span style=\"color: #008080; text-decoration-color: #008080; font-weight: bold\">28248</span>,\n",
       "    <span style=\"color: #008080; text-decoration-color: #008080; font-weight: bold\">28287</span>,\n",
       "    <span style=\"color: #008080; text-decoration-color: #008080; font-weight: bold\">28333</span>,\n",
       "    <span style=\"color: #008080; text-decoration-color: #008080; font-weight: bold\">28335</span>,\n",
       "    <span style=\"color: #008080; text-decoration-color: #008080; font-weight: bold\">28407</span>,\n",
       "    <span style=\"color: #008080; text-decoration-color: #008080; font-weight: bold\">28425</span>,\n",
       "    <span style=\"color: #008080; text-decoration-color: #008080; font-weight: bold\">28455</span>,\n",
       "    <span style=\"color: #008080; text-decoration-color: #008080; font-weight: bold\">28469</span>,\n",
       "    <span style=\"color: #008080; text-decoration-color: #008080; font-weight: bold\">28483</span>,\n",
       "    <span style=\"color: #008080; text-decoration-color: #008080; font-weight: bold\">28502</span>,\n",
       "    <span style=\"color: #008080; text-decoration-color: #008080; font-weight: bold\">28503</span>,\n",
       "    <span style=\"color: #008080; text-decoration-color: #008080; font-weight: bold\">28566</span>,\n",
       "    <span style=\"color: #008080; text-decoration-color: #008080; font-weight: bold\">28592</span>,\n",
       "    <span style=\"color: #008080; text-decoration-color: #008080; font-weight: bold\">28638</span>,\n",
       "    <span style=\"color: #008080; text-decoration-color: #008080; font-weight: bold\">28648</span>,\n",
       "    <span style=\"color: #008080; text-decoration-color: #008080; font-weight: bold\">28650</span>,\n",
       "    <span style=\"color: #008080; text-decoration-color: #008080; font-weight: bold\">28924</span>,\n",
       "    <span style=\"color: #008080; text-decoration-color: #008080; font-weight: bold\">28977</span>,\n",
       "    <span style=\"color: #008080; text-decoration-color: #008080; font-weight: bold\">29103</span>,\n",
       "    <span style=\"color: #008080; text-decoration-color: #008080; font-weight: bold\">29184</span>,\n",
       "    <span style=\"color: #008080; text-decoration-color: #008080; font-weight: bold\">29538</span>,\n",
       "    <span style=\"color: #008080; text-decoration-color: #008080; font-weight: bold\">30558</span>,\n",
       "    <span style=\"color: #008080; text-decoration-color: #008080; font-weight: bold\">30602</span>,\n",
       "    <span style=\"color: #008080; text-decoration-color: #008080; font-weight: bold\">30630</span>,\n",
       "    <span style=\"color: #008080; text-decoration-color: #008080; font-weight: bold\">30673</span>,\n",
       "    <span style=\"color: #008080; text-decoration-color: #008080; font-weight: bold\">30730</span>,\n",
       "    <span style=\"color: #008080; text-decoration-color: #008080; font-weight: bold\">30742</span>,\n",
       "    <span style=\"color: #008080; text-decoration-color: #008080; font-weight: bold\">30901</span>,\n",
       "    <span style=\"color: #008080; text-decoration-color: #008080; font-weight: bold\">30905</span>,\n",
       "    <span style=\"color: #008080; text-decoration-color: #008080; font-weight: bold\">30918</span>,\n",
       "    <span style=\"color: #008080; text-decoration-color: #008080; font-weight: bold\">31174</span>,\n",
       "    <span style=\"color: #008080; text-decoration-color: #008080; font-weight: bold\">31191</span>,\n",
       "    <span style=\"color: #008080; text-decoration-color: #008080; font-weight: bold\">31278</span>,\n",
       "    <span style=\"color: #008080; text-decoration-color: #008080; font-weight: bold\">31334</span>,\n",
       "    <span style=\"color: #008080; text-decoration-color: #008080; font-weight: bold\">31401</span>,\n",
       "    <span style=\"color: #008080; text-decoration-color: #008080; font-weight: bold\">31778</span>,\n",
       "    <span style=\"color: #008080; text-decoration-color: #008080; font-weight: bold\">31936</span>,\n",
       "    <span style=\"color: #008080; text-decoration-color: #008080; font-weight: bold\">32055</span>,\n",
       "    <span style=\"color: #008080; text-decoration-color: #008080; font-weight: bold\">32164</span>,\n",
       "    <span style=\"color: #008080; text-decoration-color: #008080; font-weight: bold\">32283</span>,\n",
       "    <span style=\"color: #008080; text-decoration-color: #008080; font-weight: bold\">32537</span>,\n",
       "    <span style=\"color: #008080; text-decoration-color: #008080; font-weight: bold\">32545</span>,\n",
       "    <span style=\"color: #008080; text-decoration-color: #008080; font-weight: bold\">32633</span>,\n",
       "    <span style=\"color: #008080; text-decoration-color: #008080; font-weight: bold\">32725</span>,\n",
       "    <span style=\"color: #008080; text-decoration-color: #008080; font-weight: bold\">32726</span>,\n",
       "    <span style=\"color: #008080; text-decoration-color: #008080; font-weight: bold\">32770</span>,\n",
       "    <span style=\"color: #008080; text-decoration-color: #008080; font-weight: bold\">33001</span>,\n",
       "    <span style=\"color: #008080; text-decoration-color: #008080; font-weight: bold\">33208</span>,\n",
       "    <span style=\"color: #008080; text-decoration-color: #008080; font-weight: bold\">33309</span>,\n",
       "    <span style=\"color: #008080; text-decoration-color: #008080; font-weight: bold\">33746</span>,\n",
       "    <span style=\"color: #008080; text-decoration-color: #008080; font-weight: bold\">33820</span>,\n",
       "    <span style=\"color: #008080; text-decoration-color: #008080; font-weight: bold\">33950</span>,\n",
       "    <span style=\"color: #008080; text-decoration-color: #008080; font-weight: bold\">33994</span>,\n",
       "    <span style=\"color: #008080; text-decoration-color: #008080; font-weight: bold\">33998</span>,\n",
       "    <span style=\"color: #008080; text-decoration-color: #008080; font-weight: bold\">34101</span>,\n",
       "    <span style=\"color: #008080; text-decoration-color: #008080; font-weight: bold\">34209</span>,\n",
       "    <span style=\"color: #008080; text-decoration-color: #008080; font-weight: bold\">34210</span>,\n",
       "    <span style=\"color: #008080; text-decoration-color: #008080; font-weight: bold\">34229</span>,\n",
       "    <span style=\"color: #008080; text-decoration-color: #008080; font-weight: bold\">34249</span>,\n",
       "    <span style=\"color: #008080; text-decoration-color: #008080; font-weight: bold\">34272</span>,\n",
       "    <span style=\"color: #008080; text-decoration-color: #008080; font-weight: bold\">34316</span>,\n",
       "    <span style=\"color: #008080; text-decoration-color: #008080; font-weight: bold\">34385</span>,\n",
       "    <span style=\"color: #008080; text-decoration-color: #008080; font-weight: bold\">34413</span>,\n",
       "    <span style=\"color: #008080; text-decoration-color: #008080; font-weight: bold\">34426</span>,\n",
       "    <span style=\"color: #008080; text-decoration-color: #008080; font-weight: bold\">34465</span>,\n",
       "    <span style=\"color: #008080; text-decoration-color: #008080; font-weight: bold\">34782</span>,\n",
       "    <span style=\"color: #008080; text-decoration-color: #008080; font-weight: bold\">34800</span>,\n",
       "    <span style=\"color: #008080; text-decoration-color: #008080; font-weight: bold\">34934</span>,\n",
       "    <span style=\"color: #008080; text-decoration-color: #008080; font-weight: bold\">35086</span>,\n",
       "    <span style=\"color: #008080; text-decoration-color: #008080; font-weight: bold\">35158</span>,\n",
       "    <span style=\"color: #008080; text-decoration-color: #008080; font-weight: bold\">35166</span>,\n",
       "    <span style=\"color: #008080; text-decoration-color: #008080; font-weight: bold\">35211</span>,\n",
       "    <span style=\"color: #008080; text-decoration-color: #008080; font-weight: bold\">35213</span>,\n",
       "    <span style=\"color: #008080; text-decoration-color: #008080; font-weight: bold\">35264</span>,\n",
       "    <span style=\"color: #008080; text-decoration-color: #008080; font-weight: bold\">35287</span>,\n",
       "    <span style=\"color: #008080; text-decoration-color: #008080; font-weight: bold\">35299</span>,\n",
       "    <span style=\"color: #008080; text-decoration-color: #008080; font-weight: bold\">35326</span>,\n",
       "    <span style=\"color: #008080; text-decoration-color: #008080; font-weight: bold\">35354</span>,\n",
       "    <span style=\"color: #008080; text-decoration-color: #008080; font-weight: bold\">35357</span>,\n",
       "    <span style=\"color: #008080; text-decoration-color: #008080; font-weight: bold\">35374</span>,\n",
       "    <span style=\"color: #008080; text-decoration-color: #008080; font-weight: bold\">35400</span>,\n",
       "    <span style=\"color: #008080; text-decoration-color: #008080; font-weight: bold\">35414</span>,\n",
       "    <span style=\"color: #008080; text-decoration-color: #008080; font-weight: bold\">35445</span>,\n",
       "    <span style=\"color: #008080; text-decoration-color: #008080; font-weight: bold\">35516</span>,\n",
       "    <span style=\"color: #008080; text-decoration-color: #008080; font-weight: bold\">35518</span>,\n",
       "    <span style=\"color: #008080; text-decoration-color: #008080; font-weight: bold\">35531</span>,\n",
       "    <span style=\"color: #008080; text-decoration-color: #008080; font-weight: bold\">35532</span>,\n",
       "    <span style=\"color: #008080; text-decoration-color: #008080; font-weight: bold\">35589</span>,\n",
       "    <span style=\"color: #008080; text-decoration-color: #008080; font-weight: bold\">35616</span>,\n",
       "    <span style=\"color: #008080; text-decoration-color: #008080; font-weight: bold\">35630</span>,\n",
       "    <span style=\"color: #008080; text-decoration-color: #008080; font-weight: bold\">35632</span>,\n",
       "    <span style=\"color: #008080; text-decoration-color: #008080; font-weight: bold\">35633</span>,\n",
       "    <span style=\"color: #008080; text-decoration-color: #008080; font-weight: bold\">35634</span>,\n",
       "    <span style=\"color: #008080; text-decoration-color: #008080; font-weight: bold\">35688</span>,\n",
       "    <span style=\"color: #008080; text-decoration-color: #008080; font-weight: bold\">35707</span>,\n",
       "    <span style=\"color: #008080; text-decoration-color: #008080; font-weight: bold\">35708</span>,\n",
       "    <span style=\"color: #008080; text-decoration-color: #008080; font-weight: bold\">35713</span>,\n",
       "    <span style=\"color: #008080; text-decoration-color: #008080; font-weight: bold\">35727</span>,\n",
       "    <span style=\"color: #008080; text-decoration-color: #008080; font-weight: bold\">35730</span>,\n",
       "    <span style=\"color: #008080; text-decoration-color: #008080; font-weight: bold\">35737</span>,\n",
       "    <span style=\"color: #008080; text-decoration-color: #008080; font-weight: bold\">35783</span>,\n",
       "    <span style=\"color: #008080; text-decoration-color: #008080; font-weight: bold\">35811</span>,\n",
       "    <span style=\"color: #008080; text-decoration-color: #008080; font-weight: bold\">35881</span>,\n",
       "    <span style=\"color: #008080; text-decoration-color: #008080; font-weight: bold\">35969</span>,\n",
       "    <span style=\"color: #008080; text-decoration-color: #008080; font-weight: bold\">35994</span>,\n",
       "    <span style=\"color: #008080; text-decoration-color: #008080; font-weight: bold\">36015</span>,\n",
       "    <span style=\"color: #008080; text-decoration-color: #008080; font-weight: bold\">36019</span>,\n",
       "    <span style=\"color: #008080; text-decoration-color: #008080; font-weight: bold\">36037</span>,\n",
       "    <span style=\"color: #008080; text-decoration-color: #008080; font-weight: bold\">36056</span>,\n",
       "    <span style=\"color: #008080; text-decoration-color: #008080; font-weight: bold\">36095</span>,\n",
       "    <span style=\"color: #008080; text-decoration-color: #008080; font-weight: bold\">36100</span>,\n",
       "    <span style=\"color: #008080; text-decoration-color: #008080; font-weight: bold\">36108</span>,\n",
       "    <span style=\"color: #008080; text-decoration-color: #008080; font-weight: bold\">36115</span>,\n",
       "    <span style=\"color: #008080; text-decoration-color: #008080; font-weight: bold\">36393</span>,\n",
       "    <span style=\"color: #008080; text-decoration-color: #008080; font-weight: bold\">36404</span>,\n",
       "    <span style=\"color: #008080; text-decoration-color: #008080; font-weight: bold\">36423</span>,\n",
       "    <span style=\"color: #008080; text-decoration-color: #008080; font-weight: bold\">36559</span>,\n",
       "    <span style=\"color: #008080; text-decoration-color: #008080; font-weight: bold\">36601</span>,\n",
       "    <span style=\"color: #008080; text-decoration-color: #008080; font-weight: bold\">36602</span>,\n",
       "    <span style=\"color: #008080; text-decoration-color: #008080; font-weight: bold\">36612</span>,\n",
       "    <span style=\"color: #008080; text-decoration-color: #008080; font-weight: bold\">36616</span>,\n",
       "    <span style=\"color: #008080; text-decoration-color: #008080; font-weight: bold\">36637</span>,\n",
       "    <span style=\"color: #008080; text-decoration-color: #008080; font-weight: bold\">36674</span>,\n",
       "    <span style=\"color: #008080; text-decoration-color: #008080; font-weight: bold\">36746</span>,\n",
       "    <span style=\"color: #008080; text-decoration-color: #008080; font-weight: bold\">36834</span>,\n",
       "    <span style=\"color: #008080; text-decoration-color: #008080; font-weight: bold\">37209</span>,\n",
       "    <span style=\"color: #008080; text-decoration-color: #008080; font-weight: bold\">37269</span>,\n",
       "    <span style=\"color: #008080; text-decoration-color: #008080; font-weight: bold\">37284</span>,\n",
       "    <span style=\"color: #008080; text-decoration-color: #008080; font-weight: bold\">37332</span>,\n",
       "    <span style=\"color: #008080; text-decoration-color: #008080; font-weight: bold\">37359</span>,\n",
       "    <span style=\"color: #008080; text-decoration-color: #008080; font-weight: bold\">38081</span>,\n",
       "    <span style=\"color: #008080; text-decoration-color: #008080; font-weight: bold\">38092</span>,\n",
       "    <span style=\"color: #008080; text-decoration-color: #008080; font-weight: bold\">38167</span>,\n",
       "    <span style=\"color: #008080; text-decoration-color: #008080; font-weight: bold\">38169</span>,\n",
       "    <span style=\"color: #008080; text-decoration-color: #008080; font-weight: bold\">38256</span>,\n",
       "    <span style=\"color: #008080; text-decoration-color: #008080; font-weight: bold\">38292</span>,\n",
       "    <span style=\"color: #008080; text-decoration-color: #008080; font-weight: bold\">38295</span>,\n",
       "    <span style=\"color: #008080; text-decoration-color: #008080; font-weight: bold\">38325</span>,\n",
       "    <span style=\"color: #008080; text-decoration-color: #008080; font-weight: bold\">38359</span>,\n",
       "    <span style=\"color: #008080; text-decoration-color: #008080; font-weight: bold\">38408</span>,\n",
       "    <span style=\"color: #008080; text-decoration-color: #008080; font-weight: bold\">38419</span>,\n",
       "    <span style=\"color: #008080; text-decoration-color: #008080; font-weight: bold\">38494</span>,\n",
       "    <span style=\"color: #008080; text-decoration-color: #008080; font-weight: bold\">38566</span>,\n",
       "    <span style=\"color: #008080; text-decoration-color: #008080; font-weight: bold\">38627</span>,\n",
       "    <span style=\"color: #008080; text-decoration-color: #008080; font-weight: bold\">38715</span>,\n",
       "    <span style=\"color: #008080; text-decoration-color: #008080; font-weight: bold\">38719</span>,\n",
       "    <span style=\"color: #008080; text-decoration-color: #008080; font-weight: bold\">38793</span>,\n",
       "    <span style=\"color: #008080; text-decoration-color: #008080; font-weight: bold\">38820</span>,\n",
       "    <span style=\"color: #008080; text-decoration-color: #008080; font-weight: bold\">38844</span>,\n",
       "    <span style=\"color: #008080; text-decoration-color: #008080; font-weight: bold\">38896</span>,\n",
       "    <span style=\"color: #008080; text-decoration-color: #008080; font-weight: bold\">38925</span>,\n",
       "    <span style=\"color: #008080; text-decoration-color: #008080; font-weight: bold\">38940</span>,\n",
       "    <span style=\"color: #008080; text-decoration-color: #008080; font-weight: bold\">38967</span>,\n",
       "    <span style=\"color: #008080; text-decoration-color: #008080; font-weight: bold\">39416</span>,\n",
       "    <span style=\"color: #008080; text-decoration-color: #008080; font-weight: bold\">39563</span>,\n",
       "    <span style=\"color: #008080; text-decoration-color: #008080; font-weight: bold\">39907</span>,\n",
       "    <span style=\"color: #008080; text-decoration-color: #008080; font-weight: bold\">39923</span>,\n",
       "    <span style=\"color: #008080; text-decoration-color: #008080; font-weight: bold\">39924</span>,\n",
       "    <span style=\"color: #008080; text-decoration-color: #008080; font-weight: bold\">39981</span>,\n",
       "    <span style=\"color: #008080; text-decoration-color: #008080; font-weight: bold\">40053</span>,\n",
       "    <span style=\"color: #008080; text-decoration-color: #008080; font-weight: bold\">40058</span>,\n",
       "    <span style=\"color: #008080; text-decoration-color: #008080; font-weight: bold\">40169</span>,\n",
       "    <span style=\"color: #008080; text-decoration-color: #008080; font-weight: bold\">40175</span>,\n",
       "    <span style=\"color: #008080; text-decoration-color: #008080; font-weight: bold\">40221</span>,\n",
       "    <span style=\"color: #008080; text-decoration-color: #008080; font-weight: bold\">40244</span>,\n",
       "    <span style=\"color: #008080; text-decoration-color: #008080; font-weight: bold\">40261</span>,\n",
       "    <span style=\"color: #008080; text-decoration-color: #008080; font-weight: bold\">40276</span>,\n",
       "    <span style=\"color: #008080; text-decoration-color: #008080; font-weight: bold\">40284</span>,\n",
       "    <span style=\"color: #008080; text-decoration-color: #008080; font-weight: bold\">40288</span>,\n",
       "    <span style=\"color: #008080; text-decoration-color: #008080; font-weight: bold\">40314</span>,\n",
       "    <span style=\"color: #008080; text-decoration-color: #008080; font-weight: bold\">40323</span>,\n",
       "    <span style=\"color: #008080; text-decoration-color: #008080; font-weight: bold\">40324</span>,\n",
       "    <span style=\"color: #008080; text-decoration-color: #008080; font-weight: bold\">40330</span>,\n",
       "    <span style=\"color: #008080; text-decoration-color: #008080; font-weight: bold\">40332</span>,\n",
       "    <span style=\"color: #008080; text-decoration-color: #008080; font-weight: bold\">40350</span>,\n",
       "    <span style=\"color: #008080; text-decoration-color: #008080; font-weight: bold\">40353</span>,\n",
       "    <span style=\"color: #008080; text-decoration-color: #008080; font-weight: bold\">40368</span>,\n",
       "    <span style=\"color: #008080; text-decoration-color: #008080; font-weight: bold\">40372</span>,\n",
       "    <span style=\"color: #008080; text-decoration-color: #008080; font-weight: bold\">40460</span>,\n",
       "    <span style=\"color: #008080; text-decoration-color: #008080; font-weight: bold\">40483</span>,\n",
       "    <span style=\"color: #008080; text-decoration-color: #008080; font-weight: bold\">40489</span>,\n",
       "    <span style=\"color: #008080; text-decoration-color: #008080; font-weight: bold\">40514</span>,\n",
       "    <span style=\"color: #008080; text-decoration-color: #008080; font-weight: bold\">40519</span>,\n",
       "    <span style=\"color: #008080; text-decoration-color: #008080; font-weight: bold\">40530</span>,\n",
       "    <span style=\"color: #008080; text-decoration-color: #008080; font-weight: bold\">40552</span>,\n",
       "    <span style=\"color: #008080; text-decoration-color: #008080; font-weight: bold\">40582</span>,\n",
       "    <span style=\"color: #008080; text-decoration-color: #008080; font-weight: bold\">40584</span>,\n",
       "    <span style=\"color: #008080; text-decoration-color: #008080; font-weight: bold\">40593</span>,\n",
       "    <span style=\"color: #008080; text-decoration-color: #008080; font-weight: bold\">40595</span>,\n",
       "    <span style=\"color: #008080; text-decoration-color: #008080; font-weight: bold\">40612</span>,\n",
       "    <span style=\"color: #008080; text-decoration-color: #008080; font-weight: bold\">40627</span>,\n",
       "    <span style=\"color: #008080; text-decoration-color: #008080; font-weight: bold\">40712</span>,\n",
       "    <span style=\"color: #008080; text-decoration-color: #008080; font-weight: bold\">40790</span>,\n",
       "    <span style=\"color: #008080; text-decoration-color: #008080; font-weight: bold\">40800</span>,\n",
       "    <span style=\"color: #008080; text-decoration-color: #008080; font-weight: bold\">40832</span>,\n",
       "    <span style=\"color: #008080; text-decoration-color: #008080; font-weight: bold\">40844</span>,\n",
       "    <span style=\"color: #008080; text-decoration-color: #008080; font-weight: bold\">40859</span>,\n",
       "    <span style=\"color: #008080; text-decoration-color: #008080; font-weight: bold\">40866</span>,\n",
       "    <span style=\"color: #008080; text-decoration-color: #008080; font-weight: bold\">40876</span>,\n",
       "    <span style=\"color: #008080; text-decoration-color: #008080; font-weight: bold\">40877</span>,\n",
       "    <span style=\"color: #008080; text-decoration-color: #008080; font-weight: bold\">40879</span>,\n",
       "    <span style=\"color: #008080; text-decoration-color: #008080; font-weight: bold\">40962</span>,\n",
       "    <span style=\"color: #008080; text-decoration-color: #008080; font-weight: bold\">40981</span>,\n",
       "    <span style=\"color: #008080; text-decoration-color: #008080; font-weight: bold\">40996</span>,\n",
       "    <span style=\"color: #008080; text-decoration-color: #008080; font-weight: bold\">40998</span>,\n",
       "    <span style=\"color: #008080; text-decoration-color: #008080; font-weight: bold\">41039</span>,\n",
       "    <span style=\"color: #008080; text-decoration-color: #008080; font-weight: bold\">41053</span>,\n",
       "    <span style=\"color: #008080; text-decoration-color: #008080; font-weight: bold\">41054</span>,\n",
       "    <span style=\"color: #008080; text-decoration-color: #008080; font-weight: bold\">41058</span>,\n",
       "    <span style=\"color: #008080; text-decoration-color: #008080; font-weight: bold\">41090</span>,\n",
       "    <span style=\"color: #008080; text-decoration-color: #008080; font-weight: bold\">41092</span>,\n",
       "    <span style=\"color: #008080; text-decoration-color: #008080; font-weight: bold\">41105</span>,\n",
       "    <span style=\"color: #008080; text-decoration-color: #008080; font-weight: bold\">41113</span>,\n",
       "    <span style=\"color: #008080; text-decoration-color: #008080; font-weight: bold\">41125</span>,\n",
       "    <span style=\"color: #008080; text-decoration-color: #008080; font-weight: bold\">41132</span>,\n",
       "    <span style=\"color: #008080; text-decoration-color: #008080; font-weight: bold\">41149</span>,\n",
       "    <span style=\"color: #008080; text-decoration-color: #008080; font-weight: bold\">41158</span>,\n",
       "    <span style=\"color: #008080; text-decoration-color: #008080; font-weight: bold\">41174</span>,\n",
       "    <span style=\"color: #008080; text-decoration-color: #008080; font-weight: bold\">41188</span>,\n",
       "    <span style=\"color: #008080; text-decoration-color: #008080; font-weight: bold\">41197</span>,\n",
       "    <span style=\"color: #008080; text-decoration-color: #008080; font-weight: bold\">41237</span>,\n",
       "    <span style=\"color: #008080; text-decoration-color: #008080; font-weight: bold\">41374</span>,\n",
       "    <span style=\"color: #008080; text-decoration-color: #008080; font-weight: bold\">41414</span>,\n",
       "    <span style=\"color: #008080; text-decoration-color: #008080; font-weight: bold\">41416</span>,\n",
       "    <span style=\"color: #008080; text-decoration-color: #008080; font-weight: bold\">41507</span>,\n",
       "    <span style=\"color: #008080; text-decoration-color: #008080; font-weight: bold\">41578</span>,\n",
       "    <span style=\"color: #008080; text-decoration-color: #008080; font-weight: bold\">41587</span>,\n",
       "    <span style=\"color: #008080; text-decoration-color: #008080; font-weight: bold\">41588</span>,\n",
       "    <span style=\"color: #008080; text-decoration-color: #008080; font-weight: bold\">41615</span>,\n",
       "    <span style=\"color: #008080; text-decoration-color: #008080; font-weight: bold\">41665</span>,\n",
       "    <span style=\"color: #008080; text-decoration-color: #008080; font-weight: bold\">41690</span>,\n",
       "    <span style=\"color: #008080; text-decoration-color: #008080; font-weight: bold\">41726</span>,\n",
       "    <span style=\"color: #008080; text-decoration-color: #008080; font-weight: bold\">41753</span>,\n",
       "    <span style=\"color: #008080; text-decoration-color: #008080; font-weight: bold\">41792</span>,\n",
       "    <span style=\"color: #008080; text-decoration-color: #008080; font-weight: bold\">41811</span>,\n",
       "    <span style=\"color: #008080; text-decoration-color: #008080; font-weight: bold\">41894</span>,\n",
       "    <span style=\"color: #008080; text-decoration-color: #008080; font-weight: bold\">41895</span>,\n",
       "    <span style=\"color: #008080; text-decoration-color: #008080; font-weight: bold\">41897</span>,\n",
       "    <span style=\"color: #008080; text-decoration-color: #008080; font-weight: bold\">41903</span>,\n",
       "    <span style=\"color: #008080; text-decoration-color: #008080; font-weight: bold\">41910</span>,\n",
       "    <span style=\"color: #008080; text-decoration-color: #008080; font-weight: bold\">41917</span>,\n",
       "    <span style=\"color: #008080; text-decoration-color: #008080; font-weight: bold\">41957</span>,\n",
       "    <span style=\"color: #008080; text-decoration-color: #008080; font-weight: bold\">41960</span>,\n",
       "    <span style=\"color: #008080; text-decoration-color: #008080; font-weight: bold\">42009</span>,\n",
       "    <span style=\"color: #008080; text-decoration-color: #008080; font-weight: bold\">42141</span>,\n",
       "    <span style=\"color: #008080; text-decoration-color: #008080; font-weight: bold\">42149</span>,\n",
       "    <span style=\"color: #008080; text-decoration-color: #008080; font-weight: bold\">42155</span>,\n",
       "    <span style=\"color: #008080; text-decoration-color: #008080; font-weight: bold\">42173</span>,\n",
       "    <span style=\"color: #008080; text-decoration-color: #008080; font-weight: bold\">42265</span>,\n",
       "    <span style=\"color: #008080; text-decoration-color: #008080; font-weight: bold\">42308</span>,\n",
       "    <span style=\"color: #008080; text-decoration-color: #008080; font-weight: bold\">42309</span>,\n",
       "    <span style=\"color: #008080; text-decoration-color: #008080; font-weight: bold\">42365</span>,\n",
       "    <span style=\"color: #008080; text-decoration-color: #008080; font-weight: bold\">42404</span>,\n",
       "    <span style=\"color: #008080; text-decoration-color: #008080; font-weight: bold\">42529</span>,\n",
       "    <span style=\"color: #008080; text-decoration-color: #008080; font-weight: bold\">42559</span>,\n",
       "    <span style=\"color: #008080; text-decoration-color: #008080; font-weight: bold\">42577</span>,\n",
       "    <span style=\"color: #008080; text-decoration-color: #008080; font-weight: bold\">42593</span>,\n",
       "    <span style=\"color: #008080; text-decoration-color: #008080; font-weight: bold\">42635</span>,\n",
       "    <span style=\"color: #008080; text-decoration-color: #008080; font-weight: bold\">42762</span>,\n",
       "    <span style=\"color: #008080; text-decoration-color: #008080; font-weight: bold\">42773</span>,\n",
       "    <span style=\"color: #008080; text-decoration-color: #008080; font-weight: bold\">42798</span>,\n",
       "    <span style=\"color: #008080; text-decoration-color: #008080; font-weight: bold\">42813</span>,\n",
       "    <span style=\"color: #008080; text-decoration-color: #008080; font-weight: bold\">42821</span>,\n",
       "    <span style=\"color: #008080; text-decoration-color: #008080; font-weight: bold\">42903</span>,\n",
       "    <span style=\"color: #008080; text-decoration-color: #008080; font-weight: bold\">42907</span>,\n",
       "    <span style=\"color: #008080; text-decoration-color: #008080; font-weight: bold\">42924</span>,\n",
       "    <span style=\"color: #008080; text-decoration-color: #008080; font-weight: bold\">42932</span>,\n",
       "    <span style=\"color: #008080; text-decoration-color: #008080; font-weight: bold\">42978</span>,\n",
       "    <span style=\"color: #008080; text-decoration-color: #008080; font-weight: bold\">42989</span>,\n",
       "    <span style=\"color: #008080; text-decoration-color: #008080; font-weight: bold\">43009</span>,\n",
       "    <span style=\"color: #008080; text-decoration-color: #008080; font-weight: bold\">43066</span>,\n",
       "    <span style=\"color: #008080; text-decoration-color: #008080; font-weight: bold\">43093</span>,\n",
       "    <span style=\"color: #008080; text-decoration-color: #008080; font-weight: bold\">43107</span>,\n",
       "    <span style=\"color: #008080; text-decoration-color: #008080; font-weight: bold\">43151</span>,\n",
       "    <span style=\"color: #008080; text-decoration-color: #008080; font-weight: bold\">43161</span>,\n",
       "    <span style=\"color: #008080; text-decoration-color: #008080; font-weight: bold\">43215</span>,\n",
       "    <span style=\"color: #008080; text-decoration-color: #008080; font-weight: bold\">43300</span>,\n",
       "    <span style=\"color: #008080; text-decoration-color: #008080; font-weight: bold\">43396</span>,\n",
       "    <span style=\"color: #008080; text-decoration-color: #008080; font-weight: bold\">43397</span>,\n",
       "    <span style=\"color: #008080; text-decoration-color: #008080; font-weight: bold\">43449</span>,\n",
       "    <span style=\"color: #008080; text-decoration-color: #008080; font-weight: bold\">43647</span>,\n",
       "    <span style=\"color: #008080; text-decoration-color: #008080; font-weight: bold\">43905</span>,\n",
       "    <span style=\"color: #008080; text-decoration-color: #008080; font-weight: bold\">44006</span>,\n",
       "    <span style=\"color: #008080; text-decoration-color: #008080; font-weight: bold\">44021</span>,\n",
       "    <span style=\"color: #008080; text-decoration-color: #008080; font-weight: bold\">44059</span>,\n",
       "    <span style=\"color: #008080; text-decoration-color: #008080; font-weight: bold\">44078</span>,\n",
       "    <span style=\"color: #008080; text-decoration-color: #008080; font-weight: bold\">44098</span>,\n",
       "    <span style=\"color: #008080; text-decoration-color: #008080; font-weight: bold\">44108</span>,\n",
       "    <span style=\"color: #008080; text-decoration-color: #008080; font-weight: bold\">44150</span>,\n",
       "    <span style=\"color: #008080; text-decoration-color: #008080; font-weight: bold\">44226</span>,\n",
       "    <span style=\"color: #008080; text-decoration-color: #008080; font-weight: bold\">44240</span>,\n",
       "    <span style=\"color: #008080; text-decoration-color: #008080; font-weight: bold\">44246</span>,\n",
       "    <span style=\"color: #008080; text-decoration-color: #008080; font-weight: bold\">44270</span>,\n",
       "    <span style=\"color: #008080; text-decoration-color: #008080; font-weight: bold\">44335</span>,\n",
       "    <span style=\"color: #008080; text-decoration-color: #008080; font-weight: bold\">44348</span>,\n",
       "    <span style=\"color: #008080; text-decoration-color: #008080; font-weight: bold\">44349</span>,\n",
       "    <span style=\"color: #008080; text-decoration-color: #008080; font-weight: bold\">44354</span>,\n",
       "    <span style=\"color: #008080; text-decoration-color: #008080; font-weight: bold\">44368</span>,\n",
       "    <span style=\"color: #008080; text-decoration-color: #008080; font-weight: bold\">44383</span>,\n",
       "    <span style=\"color: #008080; text-decoration-color: #008080; font-weight: bold\">44407</span>,\n",
       "    <span style=\"color: #008080; text-decoration-color: #008080; font-weight: bold\">44414</span>,\n",
       "    <span style=\"color: #008080; text-decoration-color: #008080; font-weight: bold\">44427</span>,\n",
       "    <span style=\"color: #008080; text-decoration-color: #008080; font-weight: bold\">44454</span>,\n",
       "    <span style=\"color: #008080; text-decoration-color: #008080; font-weight: bold\">44572</span>,\n",
       "    <span style=\"color: #008080; text-decoration-color: #008080; font-weight: bold\">44631</span>,\n",
       "    <span style=\"color: #008080; text-decoration-color: #008080; font-weight: bold\">44680</span>,\n",
       "    <span style=\"color: #008080; text-decoration-color: #008080; font-weight: bold\">44705</span>,\n",
       "    <span style=\"color: #008080; text-decoration-color: #008080; font-weight: bold\">44707</span>,\n",
       "    <span style=\"color: #008080; text-decoration-color: #008080; font-weight: bold\">44708</span>,\n",
       "    <span style=\"color: #008080; text-decoration-color: #008080; font-weight: bold\">44717</span>,\n",
       "    <span style=\"color: #008080; text-decoration-color: #008080; font-weight: bold\">44722</span>,\n",
       "    <span style=\"color: #008080; text-decoration-color: #008080; font-weight: bold\">44726</span>,\n",
       "    <span style=\"color: #008080; text-decoration-color: #008080; font-weight: bold\">44732</span>,\n",
       "    <span style=\"color: #008080; text-decoration-color: #008080; font-weight: bold\">44746</span>,\n",
       "    <span style=\"color: #008080; text-decoration-color: #008080; font-weight: bold\">44751</span>,\n",
       "    <span style=\"color: #008080; text-decoration-color: #008080; font-weight: bold\">44769</span>,\n",
       "    <span style=\"color: #008080; text-decoration-color: #008080; font-weight: bold\">44773</span>,\n",
       "    <span style=\"color: #008080; text-decoration-color: #008080; font-weight: bold\">44776</span>,\n",
       "    <span style=\"color: #008080; text-decoration-color: #008080; font-weight: bold\">44777</span>,\n",
       "    <span style=\"color: #008080; text-decoration-color: #008080; font-weight: bold\">44787</span>,\n",
       "    <span style=\"color: #008080; text-decoration-color: #008080; font-weight: bold\">44795</span>,\n",
       "    <span style=\"color: #008080; text-decoration-color: #008080; font-weight: bold\">44810</span>,\n",
       "    <span style=\"color: #008080; text-decoration-color: #008080; font-weight: bold\">44818</span>,\n",
       "    <span style=\"color: #008080; text-decoration-color: #008080; font-weight: bold\">44819</span>,\n",
       "    <span style=\"color: #008080; text-decoration-color: #008080; font-weight: bold\">44839</span>,\n",
       "    <span style=\"color: #008080; text-decoration-color: #008080; font-weight: bold\">44864</span>,\n",
       "    <span style=\"color: #008080; text-decoration-color: #008080; font-weight: bold\">44913</span>,\n",
       "    <span style=\"color: #008080; text-decoration-color: #008080; font-weight: bold\">44963</span>,\n",
       "    <span style=\"color: #008080; text-decoration-color: #008080; font-weight: bold\">44969</span>,\n",
       "    <span style=\"color: #008080; text-decoration-color: #008080; font-weight: bold\">45026</span>,\n",
       "    <span style=\"color: #008080; text-decoration-color: #008080; font-weight: bold\">45034</span>,\n",
       "    <span style=\"color: #008080; text-decoration-color: #008080; font-weight: bold\">45040</span>,\n",
       "    <span style=\"color: #008080; text-decoration-color: #008080; font-weight: bold\">45041</span>,\n",
       "    <span style=\"color: #008080; text-decoration-color: #008080; font-weight: bold\">45079</span>,\n",
       "    <span style=\"color: #008080; text-decoration-color: #008080; font-weight: bold\">45156</span>,\n",
       "    <span style=\"color: #008080; text-decoration-color: #008080; font-weight: bold\">45170</span>,\n",
       "    <span style=\"color: #008080; text-decoration-color: #008080; font-weight: bold\">45363</span>,\n",
       "    <span style=\"color: #008080; text-decoration-color: #008080; font-weight: bold\">45364</span>,\n",
       "    <span style=\"color: #008080; text-decoration-color: #008080; font-weight: bold\">45372</span>,\n",
       "    <span style=\"color: #008080; text-decoration-color: #008080; font-weight: bold\">45376</span>,\n",
       "    <span style=\"color: #008080; text-decoration-color: #008080; font-weight: bold\">45379</span>,\n",
       "    <span style=\"color: #008080; text-decoration-color: #008080; font-weight: bold\">45418</span>,\n",
       "    <span style=\"color: #008080; text-decoration-color: #008080; font-weight: bold\">45475</span>,\n",
       "    <span style=\"color: #008080; text-decoration-color: #008080; font-weight: bold\">45476</span>,\n",
       "    <span style=\"color: #008080; text-decoration-color: #008080; font-weight: bold\">45496</span>,\n",
       "    <span style=\"color: #008080; text-decoration-color: #008080; font-weight: bold\">45497</span>,\n",
       "    <span style=\"color: #008080; text-decoration-color: #008080; font-weight: bold\">45502</span>,\n",
       "    <span style=\"color: #008080; text-decoration-color: #008080; font-weight: bold\">45543</span>,\n",
       "    <span style=\"color: #008080; text-decoration-color: #008080; font-weight: bold\">45547</span>,\n",
       "    <span style=\"color: #008080; text-decoration-color: #008080; font-weight: bold\">45567</span>,\n",
       "    <span style=\"color: #008080; text-decoration-color: #008080; font-weight: bold\">45572</span>,\n",
       "    <span style=\"color: #008080; text-decoration-color: #008080; font-weight: bold\">45575</span>,\n",
       "    <span style=\"color: #008080; text-decoration-color: #008080; font-weight: bold\">45588</span>,\n",
       "    <span style=\"color: #008080; text-decoration-color: #008080; font-weight: bold\">45604</span>,\n",
       "    <span style=\"color: #008080; text-decoration-color: #008080; font-weight: bold\">45633</span>,\n",
       "    <span style=\"color: #008080; text-decoration-color: #008080; font-weight: bold\">45648</span>,\n",
       "    <span style=\"color: #008080; text-decoration-color: #008080; font-weight: bold\">45649</span>,\n",
       "    <span style=\"color: #008080; text-decoration-color: #008080; font-weight: bold\">45659</span>,\n",
       "    <span style=\"color: #008080; text-decoration-color: #008080; font-weight: bold\">45661</span>,\n",
       "    <span style=\"color: #008080; text-decoration-color: #008080; font-weight: bold\">45669</span>,\n",
       "    <span style=\"color: #008080; text-decoration-color: #008080; font-weight: bold\">45671</span>,\n",
       "    <span style=\"color: #008080; text-decoration-color: #008080; font-weight: bold\">45674</span>,\n",
       "    <span style=\"color: #008080; text-decoration-color: #008080; font-weight: bold\">45681</span>,\n",
       "    <span style=\"color: #008080; text-decoration-color: #008080; font-weight: bold\">45703</span>,\n",
       "    <span style=\"color: #008080; text-decoration-color: #008080; font-weight: bold\">45705</span>,\n",
       "    <span style=\"color: #008080; text-decoration-color: #008080; font-weight: bold\">45718</span>,\n",
       "    <span style=\"color: #008080; text-decoration-color: #008080; font-weight: bold\">45724</span>,\n",
       "    <span style=\"color: #008080; text-decoration-color: #008080; font-weight: bold\">45734</span>,\n",
       "    <span style=\"color: #008080; text-decoration-color: #008080; font-weight: bold\">45735</span>,\n",
       "    <span style=\"color: #008080; text-decoration-color: #008080; font-weight: bold\">45772</span>,\n",
       "    <span style=\"color: #008080; text-decoration-color: #008080; font-weight: bold\">45779</span>,\n",
       "    <span style=\"color: #008080; text-decoration-color: #008080; font-weight: bold\">45784</span>,\n",
       "    <span style=\"color: #008080; text-decoration-color: #008080; font-weight: bold\">45809</span>,\n",
       "    <span style=\"color: #008080; text-decoration-color: #008080; font-weight: bold\">45814</span>,\n",
       "    <span style=\"color: #008080; text-decoration-color: #008080; font-weight: bold\">45815</span>,\n",
       "    <span style=\"color: #008080; text-decoration-color: #008080; font-weight: bold\">45817</span>,\n",
       "    <span style=\"color: #008080; text-decoration-color: #008080; font-weight: bold\">45826</span>,\n",
       "    <span style=\"color: #008080; text-decoration-color: #008080; font-weight: bold\">45827</span>,\n",
       "    <span style=\"color: #008080; text-decoration-color: #008080; font-weight: bold\">45837</span>,\n",
       "    <span style=\"color: #008080; text-decoration-color: #008080; font-weight: bold\">45961</span>,\n",
       "    <span style=\"color: #008080; text-decoration-color: #008080; font-weight: bold\">45998</span>,\n",
       "    <span style=\"color: #008080; text-decoration-color: #008080; font-weight: bold\">46006</span>,\n",
       "    <span style=\"color: #008080; text-decoration-color: #008080; font-weight: bold\">46015</span>,\n",
       "    <span style=\"color: #008080; text-decoration-color: #008080; font-weight: bold\">46017</span>,\n",
       "    <span style=\"color: #008080; text-decoration-color: #008080; font-weight: bold\">46029</span>,\n",
       "    <span style=\"color: #008080; text-decoration-color: #008080; font-weight: bold\">46035</span>,\n",
       "    <span style=\"color: #008080; text-decoration-color: #008080; font-weight: bold\">46049</span>,\n",
       "    <span style=\"color: #008080; text-decoration-color: #008080; font-weight: bold\">46067</span>,\n",
       "    <span style=\"color: #008080; text-decoration-color: #008080; font-weight: bold\">46075</span>,\n",
       "    <span style=\"color: #008080; text-decoration-color: #008080; font-weight: bold\">46077</span>,\n",
       "    <span style=\"color: #008080; text-decoration-color: #008080; font-weight: bold\">46089</span>,\n",
       "    <span style=\"color: #008080; text-decoration-color: #008080; font-weight: bold\">46098</span>,\n",
       "    <span style=\"color: #008080; text-decoration-color: #008080; font-weight: bold\">46116</span>,\n",
       "    <span style=\"color: #008080; text-decoration-color: #008080; font-weight: bold\">46117</span>,\n",
       "    <span style=\"color: #008080; text-decoration-color: #008080; font-weight: bold\">46126</span>,\n",
       "    <span style=\"color: #008080; text-decoration-color: #008080; font-weight: bold\">46140</span>,\n",
       "    <span style=\"color: #008080; text-decoration-color: #008080; font-weight: bold\">46141</span>,\n",
       "    <span style=\"color: #008080; text-decoration-color: #008080; font-weight: bold\">46144</span>,\n",
       "    <span style=\"color: #008080; text-decoration-color: #008080; font-weight: bold\">46246</span>,\n",
       "    <span style=\"color: #008080; text-decoration-color: #008080; font-weight: bold\">46332</span>,\n",
       "    <span style=\"color: #008080; text-decoration-color: #008080; font-weight: bold\">46342</span>,\n",
       "    <span style=\"color: #008080; text-decoration-color: #008080; font-weight: bold\">46350</span>,\n",
       "    <span style=\"color: #008080; text-decoration-color: #008080; font-weight: bold\">46375</span>,\n",
       "    <span style=\"color: #008080; text-decoration-color: #008080; font-weight: bold\">46388</span>,\n",
       "    <span style=\"color: #008080; text-decoration-color: #008080; font-weight: bold\">46423</span>,\n",
       "    <span style=\"color: #008080; text-decoration-color: #008080; font-weight: bold\">46434</span>,\n",
       "    <span style=\"color: #008080; text-decoration-color: #008080; font-weight: bold\">46438</span>,\n",
       "    <span style=\"color: #008080; text-decoration-color: #008080; font-weight: bold\">46533</span>,\n",
       "    <span style=\"color: #008080; text-decoration-color: #008080; font-weight: bold\">46539</span>,\n",
       "    <span style=\"color: #008080; text-decoration-color: #008080; font-weight: bold\">46554</span>,\n",
       "    <span style=\"color: #008080; text-decoration-color: #008080; font-weight: bold\">46557</span>,\n",
       "    <span style=\"color: #008080; text-decoration-color: #008080; font-weight: bold\">46560</span>,\n",
       "    <span style=\"color: #008080; text-decoration-color: #008080; font-weight: bold\">46569</span>,\n",
       "    <span style=\"color: #008080; text-decoration-color: #008080; font-weight: bold\">46601</span>,\n",
       "    <span style=\"color: #008080; text-decoration-color: #008080; font-weight: bold\">46616</span>,\n",
       "    <span style=\"color: #008080; text-decoration-color: #008080; font-weight: bold\">46662</span>,\n",
       "    <span style=\"color: #008080; text-decoration-color: #008080; font-weight: bold\">46670</span>,\n",
       "    <span style=\"color: #008080; text-decoration-color: #008080; font-weight: bold\">46676</span>,\n",
       "    <span style=\"color: #008080; text-decoration-color: #008080; font-weight: bold\">46677</span>,\n",
       "    <span style=\"color: #008080; text-decoration-color: #008080; font-weight: bold\">46688</span>,\n",
       "    <span style=\"color: #008080; text-decoration-color: #008080; font-weight: bold\">46751</span>,\n",
       "    <span style=\"color: #008080; text-decoration-color: #008080; font-weight: bold\">46767</span>,\n",
       "    <span style=\"color: #008080; text-decoration-color: #008080; font-weight: bold\">46775</span>,\n",
       "    <span style=\"color: #008080; text-decoration-color: #008080; font-weight: bold\">46779</span>,\n",
       "    <span style=\"color: #008080; text-decoration-color: #008080; font-weight: bold\">46790</span>,\n",
       "    <span style=\"color: #008080; text-decoration-color: #008080; font-weight: bold\">46793</span>,\n",
       "    <span style=\"color: #008080; text-decoration-color: #008080; font-weight: bold\">46803</span>,\n",
       "    <span style=\"color: #008080; text-decoration-color: #008080; font-weight: bold\">46807</span>,\n",
       "    <span style=\"color: #008080; text-decoration-color: #008080; font-weight: bold\">46818</span>,\n",
       "    <span style=\"color: #008080; text-decoration-color: #008080; font-weight: bold\">46828</span>,\n",
       "    <span style=\"color: #008080; text-decoration-color: #008080; font-weight: bold\">46832</span>\n",
       "<span style=\"font-weight: bold\">]</span>\n",
       "</pre>\n"
      ],
      "text/plain": [
       "\u001b[1m[\u001b[0m\n",
       "    \u001b[1;36m1414\u001b[0m,\n",
       "    \u001b[1;36m1586\u001b[0m,\n",
       "    \u001b[1;36m1607\u001b[0m,\n",
       "    \u001b[1;36m1754\u001b[0m,\n",
       "    \u001b[1;36m1759\u001b[0m,\n",
       "    \u001b[1;36m1937\u001b[0m,\n",
       "    \u001b[1;36m1939\u001b[0m,\n",
       "    \u001b[1;36m2102\u001b[0m,\n",
       "    \u001b[1;36m2173\u001b[0m,\n",
       "    \u001b[1;36m2609\u001b[0m,\n",
       "    \u001b[1;36m2890\u001b[0m,\n",
       "    \u001b[1;36m3032\u001b[0m,\n",
       "    \u001b[1;36m3094\u001b[0m,\n",
       "    \u001b[1;36m3788\u001b[0m,\n",
       "    \u001b[1;36m3859\u001b[0m,\n",
       "    \u001b[1;36m3908\u001b[0m,\n",
       "    \u001b[1;36m3999\u001b[0m,\n",
       "    \u001b[1;36m4022\u001b[0m,\n",
       "    \u001b[1;36m4042\u001b[0m,\n",
       "    \u001b[1;36m4158\u001b[0m,\n",
       "    \u001b[1;36m4274\u001b[0m,\n",
       "    \u001b[1;36m4310\u001b[0m,\n",
       "    \u001b[1;36m4560\u001b[0m,\n",
       "    \u001b[1;36m5474\u001b[0m,\n",
       "    \u001b[1;36m6042\u001b[0m,\n",
       "    \u001b[1;36m6074\u001b[0m,\n",
       "    \u001b[1;36m6079\u001b[0m,\n",
       "    \u001b[1;36m6165\u001b[0m,\n",
       "    \u001b[1;36m6279\u001b[0m,\n",
       "    \u001b[1;36m6348\u001b[0m,\n",
       "    \u001b[1;36m6434\u001b[0m,\n",
       "    \u001b[1;36m6435\u001b[0m,\n",
       "    \u001b[1;36m6513\u001b[0m,\n",
       "    \u001b[1;36m6536\u001b[0m,\n",
       "    \u001b[1;36m6734\u001b[0m,\n",
       "    \u001b[1;36m6745\u001b[0m,\n",
       "    \u001b[1;36m6842\u001b[0m,\n",
       "    \u001b[1;36m6888\u001b[0m,\n",
       "    \u001b[1;36m7063\u001b[0m,\n",
       "    \u001b[1;36m7130\u001b[0m,\n",
       "    \u001b[1;36m7154\u001b[0m,\n",
       "    \u001b[1;36m7254\u001b[0m,\n",
       "    \u001b[1;36m7261\u001b[0m,\n",
       "    \u001b[1;36m7286\u001b[0m,\n",
       "    \u001b[1;36m7315\u001b[0m,\n",
       "    \u001b[1;36m7521\u001b[0m,\n",
       "    \u001b[1;36m7526\u001b[0m,\n",
       "    \u001b[1;36m7541\u001b[0m,\n",
       "    \u001b[1;36m7550\u001b[0m,\n",
       "    \u001b[1;36m7602\u001b[0m,\n",
       "    \u001b[1;36m7615\u001b[0m,\n",
       "    \u001b[1;36m7620\u001b[0m,\n",
       "    \u001b[1;36m7795\u001b[0m,\n",
       "    \u001b[1;36m7835\u001b[0m,\n",
       "    \u001b[1;36m8090\u001b[0m,\n",
       "    \u001b[1;36m8117\u001b[0m,\n",
       "    \u001b[1;36m8201\u001b[0m,\n",
       "    \u001b[1;36m8226\u001b[0m,\n",
       "    \u001b[1;36m8308\u001b[0m,\n",
       "    \u001b[1;36m8573\u001b[0m,\n",
       "    \u001b[1;36m8586\u001b[0m,\n",
       "    \u001b[1;36m8590\u001b[0m,\n",
       "    \u001b[1;36m8645\u001b[0m,\n",
       "    \u001b[1;36m8715\u001b[0m,\n",
       "    \u001b[1;36m8830\u001b[0m,\n",
       "    \u001b[1;36m8831\u001b[0m,\n",
       "    \u001b[1;36m8833\u001b[0m,\n",
       "    \u001b[1;36m8839\u001b[0m,\n",
       "    \u001b[1;36m8845\u001b[0m,\n",
       "    \u001b[1;36m8888\u001b[0m,\n",
       "    \u001b[1;36m8895\u001b[0m,\n",
       "    \u001b[1;36m8915\u001b[0m,\n",
       "    \u001b[1;36m9001\u001b[0m,\n",
       "    \u001b[1;36m9004\u001b[0m,\n",
       "    \u001b[1;36m9023\u001b[0m,\n",
       "    \u001b[1;36m9044\u001b[0m,\n",
       "    \u001b[1;36m9055\u001b[0m,\n",
       "    \u001b[1;36m9085\u001b[0m,\n",
       "    \u001b[1;36m9137\u001b[0m,\n",
       "    \u001b[1;36m9204\u001b[0m,\n",
       "    \u001b[1;36m9208\u001b[0m,\n",
       "    \u001b[1;36m9231\u001b[0m,\n",
       "    \u001b[1;36m9264\u001b[0m,\n",
       "    \u001b[1;36m9293\u001b[0m,\n",
       "    \u001b[1;36m9378\u001b[0m,\n",
       "    \u001b[1;36m9419\u001b[0m,\n",
       "    \u001b[1;36m9427\u001b[0m,\n",
       "    \u001b[1;36m9443\u001b[0m,\n",
       "    \u001b[1;36m9445\u001b[0m,\n",
       "    \u001b[1;36m9461\u001b[0m,\n",
       "    \u001b[1;36m9592\u001b[0m,\n",
       "    \u001b[1;36m9708\u001b[0m,\n",
       "    \u001b[1;36m9722\u001b[0m,\n",
       "    \u001b[1;36m9756\u001b[0m,\n",
       "    \u001b[1;36m9768\u001b[0m,\n",
       "    \u001b[1;36m9893\u001b[0m,\n",
       "    \u001b[1;36m9969\u001b[0m,\n",
       "    \u001b[1;36m10038\u001b[0m,\n",
       "    \u001b[1;36m10509\u001b[0m,\n",
       "    \u001b[1;36m10545\u001b[0m,\n",
       "    \u001b[1;36m10565\u001b[0m,\n",
       "    \u001b[1;36m10678\u001b[0m,\n",
       "    \u001b[1;36m10725\u001b[0m,\n",
       "    \u001b[1;36m10726\u001b[0m,\n",
       "    \u001b[1;36m10795\u001b[0m,\n",
       "    \u001b[1;36m10822\u001b[0m,\n",
       "    \u001b[1;36m10875\u001b[0m,\n",
       "    \u001b[1;36m10961\u001b[0m,\n",
       "    \u001b[1;36m11092\u001b[0m,\n",
       "    \u001b[1;36m11095\u001b[0m,\n",
       "    \u001b[1;36m11451\u001b[0m,\n",
       "    \u001b[1;36m11482\u001b[0m,\n",
       "    \u001b[1;36m11526\u001b[0m,\n",
       "    \u001b[1;36m11625\u001b[0m,\n",
       "    \u001b[1;36m11873\u001b[0m,\n",
       "    \u001b[1;36m11946\u001b[0m,\n",
       "    \u001b[1;36m12016\u001b[0m,\n",
       "    \u001b[1;36m12030\u001b[0m,\n",
       "    \u001b[1;36m12068\u001b[0m,\n",
       "    \u001b[1;36m12069\u001b[0m,\n",
       "    \u001b[1;36m12100\u001b[0m,\n",
       "    \u001b[1;36m12188\u001b[0m,\n",
       "    \u001b[1;36m12300\u001b[0m,\n",
       "    \u001b[1;36m12482\u001b[0m,\n",
       "    \u001b[1;36m12484\u001b[0m,\n",
       "    \u001b[1;36m12494\u001b[0m,\n",
       "    \u001b[1;36m12661\u001b[0m,\n",
       "    \u001b[1;36m12751\u001b[0m,\n",
       "    \u001b[1;36m12764\u001b[0m,\n",
       "    \u001b[1;36m12799\u001b[0m,\n",
       "    \u001b[1;36m12958\u001b[0m,\n",
       "    \u001b[1;36m13020\u001b[0m,\n",
       "    \u001b[1;36m13115\u001b[0m,\n",
       "    \u001b[1;36m13124\u001b[0m,\n",
       "    \u001b[1;36m13130\u001b[0m,\n",
       "    \u001b[1;36m13500\u001b[0m,\n",
       "    \u001b[1;36m13549\u001b[0m,\n",
       "    \u001b[1;36m13691\u001b[0m,\n",
       "    \u001b[1;36m13853\u001b[0m,\n",
       "    \u001b[1;36m14098\u001b[0m,\n",
       "    \u001b[1;36m14102\u001b[0m,\n",
       "    \u001b[1;36m14122\u001b[0m,\n",
       "    \u001b[1;36m14198\u001b[0m,\n",
       "    \u001b[1;36m14335\u001b[0m,\n",
       "    \u001b[1;36m14446\u001b[0m,\n",
       "    \u001b[1;36m14560\u001b[0m,\n",
       "    \u001b[1;36m14825\u001b[0m,\n",
       "    \u001b[1;36m14850\u001b[0m,\n",
       "    \u001b[1;36m15375\u001b[0m,\n",
       "    \u001b[1;36m15422\u001b[0m,\n",
       "    \u001b[1;36m15549\u001b[0m,\n",
       "    \u001b[1;36m15723\u001b[0m,\n",
       "    \u001b[1;36m15731\u001b[0m,\n",
       "    \u001b[1;36m15755\u001b[0m,\n",
       "    \u001b[1;36m15883\u001b[0m,\n",
       "    \u001b[1;36m15884\u001b[0m,\n",
       "    \u001b[1;36m16023\u001b[0m,\n",
       "    \u001b[1;36m16121\u001b[0m,\n",
       "    \u001b[1;36m16123\u001b[0m,\n",
       "    \u001b[1;36m16163\u001b[0m,\n",
       "    \u001b[1;36m16176\u001b[0m,\n",
       "    \u001b[1;36m16207\u001b[0m,\n",
       "    \u001b[1;36m16263\u001b[0m,\n",
       "    \u001b[1;36m16350\u001b[0m,\n",
       "    \u001b[1;36m16366\u001b[0m,\n",
       "    \u001b[1;36m16367\u001b[0m,\n",
       "    \u001b[1;36m16492\u001b[0m,\n",
       "    \u001b[1;36m16508\u001b[0m,\n",
       "    \u001b[1;36m16515\u001b[0m,\n",
       "    \u001b[1;36m16530\u001b[0m,\n",
       "    \u001b[1;36m16561\u001b[0m,\n",
       "    \u001b[1;36m16567\u001b[0m,\n",
       "    \u001b[1;36m16603\u001b[0m,\n",
       "    \u001b[1;36m16609\u001b[0m,\n",
       "    \u001b[1;36m16632\u001b[0m,\n",
       "    \u001b[1;36m16642\u001b[0m,\n",
       "    \u001b[1;36m16643\u001b[0m,\n",
       "    \u001b[1;36m16652\u001b[0m,\n",
       "    \u001b[1;36m16654\u001b[0m,\n",
       "    \u001b[1;36m16671\u001b[0m,\n",
       "    \u001b[1;36m16678\u001b[0m,\n",
       "    \u001b[1;36m16686\u001b[0m,\n",
       "    \u001b[1;36m16687\u001b[0m,\n",
       "    \u001b[1;36m16803\u001b[0m,\n",
       "    \u001b[1;36m16848\u001b[0m,\n",
       "    \u001b[1;36m16849\u001b[0m,\n",
       "    \u001b[1;36m16853\u001b[0m,\n",
       "    \u001b[1;36m16862\u001b[0m,\n",
       "    \u001b[1;36m16940\u001b[0m,\n",
       "    \u001b[1;36m16941\u001b[0m,\n",
       "    \u001b[1;36m16955\u001b[0m,\n",
       "    \u001b[1;36m17099\u001b[0m,\n",
       "    \u001b[1;36m17102\u001b[0m,\n",
       "    \u001b[1;36m17105\u001b[0m,\n",
       "    \u001b[1;36m17126\u001b[0m,\n",
       "    \u001b[1;36m17136\u001b[0m,\n",
       "    \u001b[1;36m17167\u001b[0m,\n",
       "    \u001b[1;36m17168\u001b[0m,\n",
       "    \u001b[1;36m17206\u001b[0m,\n",
       "    \u001b[1;36m17228\u001b[0m,\n",
       "    \u001b[1;36m17264\u001b[0m,\n",
       "    \u001b[1;36m17392\u001b[0m,\n",
       "    \u001b[1;36m17409\u001b[0m,\n",
       "    \u001b[1;36m17410\u001b[0m,\n",
       "    \u001b[1;36m17474\u001b[0m,\n",
       "    \u001b[1;36m17636\u001b[0m,\n",
       "    \u001b[1;36m17685\u001b[0m,\n",
       "    \u001b[1;36m17790\u001b[0m,\n",
       "    \u001b[1;36m17907\u001b[0m,\n",
       "    \u001b[1;36m17928\u001b[0m,\n",
       "    \u001b[1;36m17970\u001b[0m,\n",
       "    \u001b[1;36m17974\u001b[0m,\n",
       "    \u001b[1;36m17987\u001b[0m,\n",
       "    \u001b[1;36m18029\u001b[0m,\n",
       "    \u001b[1;36m18076\u001b[0m,\n",
       "    \u001b[1;36m18080\u001b[0m,\n",
       "    \u001b[1;36m18117\u001b[0m,\n",
       "    \u001b[1;36m18124\u001b[0m,\n",
       "    \u001b[1;36m18144\u001b[0m,\n",
       "    \u001b[1;36m18161\u001b[0m,\n",
       "    \u001b[1;36m18241\u001b[0m,\n",
       "    \u001b[1;36m18248\u001b[0m,\n",
       "    \u001b[1;36m18263\u001b[0m,\n",
       "    \u001b[1;36m18329\u001b[0m,\n",
       "    \u001b[1;36m18589\u001b[0m,\n",
       "    \u001b[1;36m18620\u001b[0m,\n",
       "    \u001b[1;36m18674\u001b[0m,\n",
       "    \u001b[1;36m18855\u001b[0m,\n",
       "    \u001b[1;36m18897\u001b[0m,\n",
       "    \u001b[1;36m18905\u001b[0m,\n",
       "    \u001b[1;36m18915\u001b[0m,\n",
       "    \u001b[1;36m18964\u001b[0m,\n",
       "    \u001b[1;36m18975\u001b[0m,\n",
       "    \u001b[1;36m18984\u001b[0m,\n",
       "    \u001b[1;36m18998\u001b[0m,\n",
       "    \u001b[1;36m19013\u001b[0m,\n",
       "    \u001b[1;36m19129\u001b[0m,\n",
       "    \u001b[1;36m19139\u001b[0m,\n",
       "    \u001b[1;36m19259\u001b[0m,\n",
       "    \u001b[1;36m19579\u001b[0m,\n",
       "    \u001b[1;36m19591\u001b[0m,\n",
       "    \u001b[1;36m19618\u001b[0m,\n",
       "    \u001b[1;36m19643\u001b[0m,\n",
       "    \u001b[1;36m19665\u001b[0m,\n",
       "    \u001b[1;36m19723\u001b[0m,\n",
       "    \u001b[1;36m19966\u001b[0m,\n",
       "    \u001b[1;36m20408\u001b[0m,\n",
       "    \u001b[1;36m20600\u001b[0m,\n",
       "    \u001b[1;36m21539\u001b[0m,\n",
       "    \u001b[1;36m21682\u001b[0m,\n",
       "    \u001b[1;36m21900\u001b[0m,\n",
       "    \u001b[1;36m21910\u001b[0m,\n",
       "    \u001b[1;36m22372\u001b[0m,\n",
       "    \u001b[1;36m23124\u001b[0m,\n",
       "    \u001b[1;36m23150\u001b[0m,\n",
       "    \u001b[1;36m23231\u001b[0m,\n",
       "    \u001b[1;36m23330\u001b[0m,\n",
       "    \u001b[1;36m23427\u001b[0m,\n",
       "    \u001b[1;36m23479\u001b[0m,\n",
       "    \u001b[1;36m23493\u001b[0m,\n",
       "    \u001b[1;36m23668\u001b[0m,\n",
       "    \u001b[1;36m23745\u001b[0m,\n",
       "    \u001b[1;36m23838\u001b[0m,\n",
       "    \u001b[1;36m23944\u001b[0m,\n",
       "    \u001b[1;36m24156\u001b[0m,\n",
       "    \u001b[1;36m24329\u001b[0m,\n",
       "    \u001b[1;36m24432\u001b[0m,\n",
       "    \u001b[1;36m24501\u001b[0m,\n",
       "    \u001b[1;36m24999\u001b[0m,\n",
       "    \u001b[1;36m25210\u001b[0m,\n",
       "    \u001b[1;36m25287\u001b[0m,\n",
       "    \u001b[1;36m25405\u001b[0m,\n",
       "    \u001b[1;36m25603\u001b[0m,\n",
       "    \u001b[1;36m25790\u001b[0m,\n",
       "    \u001b[1;36m26121\u001b[0m,\n",
       "    \u001b[1;36m26134\u001b[0m,\n",
       "    \u001b[1;36m26155\u001b[0m,\n",
       "    \u001b[1;36m26189\u001b[0m,\n",
       "    \u001b[1;36m26237\u001b[0m,\n",
       "    \u001b[1;36m26434\u001b[0m,\n",
       "    \u001b[1;36m26607\u001b[0m,\n",
       "    \u001b[1;36m26620\u001b[0m,\n",
       "    \u001b[1;36m26646\u001b[0m,\n",
       "    \u001b[1;36m26660\u001b[0m,\n",
       "    \u001b[1;36m26689\u001b[0m,\n",
       "    \u001b[1;36m26752\u001b[0m,\n",
       "    \u001b[1;36m26770\u001b[0m,\n",
       "    \u001b[1;36m26779\u001b[0m,\n",
       "    \u001b[1;36m26797\u001b[0m,\n",
       "    \u001b[1;36m26852\u001b[0m,\n",
       "    \u001b[1;36m26857\u001b[0m,\n",
       "    \u001b[1;36m26916\u001b[0m,\n",
       "    \u001b[1;36m27029\u001b[0m,\n",
       "    \u001b[1;36m27040\u001b[0m,\n",
       "    \u001b[1;36m27066\u001b[0m,\n",
       "    \u001b[1;36m27072\u001b[0m,\n",
       "    \u001b[1;36m27075\u001b[0m,\n",
       "    \u001b[1;36m27118\u001b[0m,\n",
       "    \u001b[1;36m27152\u001b[0m,\n",
       "    \u001b[1;36m27176\u001b[0m,\n",
       "    \u001b[1;36m27193\u001b[0m,\n",
       "    \u001b[1;36m27693\u001b[0m,\n",
       "    \u001b[1;36m27753\u001b[0m,\n",
       "    \u001b[1;36m28248\u001b[0m,\n",
       "    \u001b[1;36m28287\u001b[0m,\n",
       "    \u001b[1;36m28333\u001b[0m,\n",
       "    \u001b[1;36m28335\u001b[0m,\n",
       "    \u001b[1;36m28407\u001b[0m,\n",
       "    \u001b[1;36m28425\u001b[0m,\n",
       "    \u001b[1;36m28455\u001b[0m,\n",
       "    \u001b[1;36m28469\u001b[0m,\n",
       "    \u001b[1;36m28483\u001b[0m,\n",
       "    \u001b[1;36m28502\u001b[0m,\n",
       "    \u001b[1;36m28503\u001b[0m,\n",
       "    \u001b[1;36m28566\u001b[0m,\n",
       "    \u001b[1;36m28592\u001b[0m,\n",
       "    \u001b[1;36m28638\u001b[0m,\n",
       "    \u001b[1;36m28648\u001b[0m,\n",
       "    \u001b[1;36m28650\u001b[0m,\n",
       "    \u001b[1;36m28924\u001b[0m,\n",
       "    \u001b[1;36m28977\u001b[0m,\n",
       "    \u001b[1;36m29103\u001b[0m,\n",
       "    \u001b[1;36m29184\u001b[0m,\n",
       "    \u001b[1;36m29538\u001b[0m,\n",
       "    \u001b[1;36m30558\u001b[0m,\n",
       "    \u001b[1;36m30602\u001b[0m,\n",
       "    \u001b[1;36m30630\u001b[0m,\n",
       "    \u001b[1;36m30673\u001b[0m,\n",
       "    \u001b[1;36m30730\u001b[0m,\n",
       "    \u001b[1;36m30742\u001b[0m,\n",
       "    \u001b[1;36m30901\u001b[0m,\n",
       "    \u001b[1;36m30905\u001b[0m,\n",
       "    \u001b[1;36m30918\u001b[0m,\n",
       "    \u001b[1;36m31174\u001b[0m,\n",
       "    \u001b[1;36m31191\u001b[0m,\n",
       "    \u001b[1;36m31278\u001b[0m,\n",
       "    \u001b[1;36m31334\u001b[0m,\n",
       "    \u001b[1;36m31401\u001b[0m,\n",
       "    \u001b[1;36m31778\u001b[0m,\n",
       "    \u001b[1;36m31936\u001b[0m,\n",
       "    \u001b[1;36m32055\u001b[0m,\n",
       "    \u001b[1;36m32164\u001b[0m,\n",
       "    \u001b[1;36m32283\u001b[0m,\n",
       "    \u001b[1;36m32537\u001b[0m,\n",
       "    \u001b[1;36m32545\u001b[0m,\n",
       "    \u001b[1;36m32633\u001b[0m,\n",
       "    \u001b[1;36m32725\u001b[0m,\n",
       "    \u001b[1;36m32726\u001b[0m,\n",
       "    \u001b[1;36m32770\u001b[0m,\n",
       "    \u001b[1;36m33001\u001b[0m,\n",
       "    \u001b[1;36m33208\u001b[0m,\n",
       "    \u001b[1;36m33309\u001b[0m,\n",
       "    \u001b[1;36m33746\u001b[0m,\n",
       "    \u001b[1;36m33820\u001b[0m,\n",
       "    \u001b[1;36m33950\u001b[0m,\n",
       "    \u001b[1;36m33994\u001b[0m,\n",
       "    \u001b[1;36m33998\u001b[0m,\n",
       "    \u001b[1;36m34101\u001b[0m,\n",
       "    \u001b[1;36m34209\u001b[0m,\n",
       "    \u001b[1;36m34210\u001b[0m,\n",
       "    \u001b[1;36m34229\u001b[0m,\n",
       "    \u001b[1;36m34249\u001b[0m,\n",
       "    \u001b[1;36m34272\u001b[0m,\n",
       "    \u001b[1;36m34316\u001b[0m,\n",
       "    \u001b[1;36m34385\u001b[0m,\n",
       "    \u001b[1;36m34413\u001b[0m,\n",
       "    \u001b[1;36m34426\u001b[0m,\n",
       "    \u001b[1;36m34465\u001b[0m,\n",
       "    \u001b[1;36m34782\u001b[0m,\n",
       "    \u001b[1;36m34800\u001b[0m,\n",
       "    \u001b[1;36m34934\u001b[0m,\n",
       "    \u001b[1;36m35086\u001b[0m,\n",
       "    \u001b[1;36m35158\u001b[0m,\n",
       "    \u001b[1;36m35166\u001b[0m,\n",
       "    \u001b[1;36m35211\u001b[0m,\n",
       "    \u001b[1;36m35213\u001b[0m,\n",
       "    \u001b[1;36m35264\u001b[0m,\n",
       "    \u001b[1;36m35287\u001b[0m,\n",
       "    \u001b[1;36m35299\u001b[0m,\n",
       "    \u001b[1;36m35326\u001b[0m,\n",
       "    \u001b[1;36m35354\u001b[0m,\n",
       "    \u001b[1;36m35357\u001b[0m,\n",
       "    \u001b[1;36m35374\u001b[0m,\n",
       "    \u001b[1;36m35400\u001b[0m,\n",
       "    \u001b[1;36m35414\u001b[0m,\n",
       "    \u001b[1;36m35445\u001b[0m,\n",
       "    \u001b[1;36m35516\u001b[0m,\n",
       "    \u001b[1;36m35518\u001b[0m,\n",
       "    \u001b[1;36m35531\u001b[0m,\n",
       "    \u001b[1;36m35532\u001b[0m,\n",
       "    \u001b[1;36m35589\u001b[0m,\n",
       "    \u001b[1;36m35616\u001b[0m,\n",
       "    \u001b[1;36m35630\u001b[0m,\n",
       "    \u001b[1;36m35632\u001b[0m,\n",
       "    \u001b[1;36m35633\u001b[0m,\n",
       "    \u001b[1;36m35634\u001b[0m,\n",
       "    \u001b[1;36m35688\u001b[0m,\n",
       "    \u001b[1;36m35707\u001b[0m,\n",
       "    \u001b[1;36m35708\u001b[0m,\n",
       "    \u001b[1;36m35713\u001b[0m,\n",
       "    \u001b[1;36m35727\u001b[0m,\n",
       "    \u001b[1;36m35730\u001b[0m,\n",
       "    \u001b[1;36m35737\u001b[0m,\n",
       "    \u001b[1;36m35783\u001b[0m,\n",
       "    \u001b[1;36m35811\u001b[0m,\n",
       "    \u001b[1;36m35881\u001b[0m,\n",
       "    \u001b[1;36m35969\u001b[0m,\n",
       "    \u001b[1;36m35994\u001b[0m,\n",
       "    \u001b[1;36m36015\u001b[0m,\n",
       "    \u001b[1;36m36019\u001b[0m,\n",
       "    \u001b[1;36m36037\u001b[0m,\n",
       "    \u001b[1;36m36056\u001b[0m,\n",
       "    \u001b[1;36m36095\u001b[0m,\n",
       "    \u001b[1;36m36100\u001b[0m,\n",
       "    \u001b[1;36m36108\u001b[0m,\n",
       "    \u001b[1;36m36115\u001b[0m,\n",
       "    \u001b[1;36m36393\u001b[0m,\n",
       "    \u001b[1;36m36404\u001b[0m,\n",
       "    \u001b[1;36m36423\u001b[0m,\n",
       "    \u001b[1;36m36559\u001b[0m,\n",
       "    \u001b[1;36m36601\u001b[0m,\n",
       "    \u001b[1;36m36602\u001b[0m,\n",
       "    \u001b[1;36m36612\u001b[0m,\n",
       "    \u001b[1;36m36616\u001b[0m,\n",
       "    \u001b[1;36m36637\u001b[0m,\n",
       "    \u001b[1;36m36674\u001b[0m,\n",
       "    \u001b[1;36m36746\u001b[0m,\n",
       "    \u001b[1;36m36834\u001b[0m,\n",
       "    \u001b[1;36m37209\u001b[0m,\n",
       "    \u001b[1;36m37269\u001b[0m,\n",
       "    \u001b[1;36m37284\u001b[0m,\n",
       "    \u001b[1;36m37332\u001b[0m,\n",
       "    \u001b[1;36m37359\u001b[0m,\n",
       "    \u001b[1;36m38081\u001b[0m,\n",
       "    \u001b[1;36m38092\u001b[0m,\n",
       "    \u001b[1;36m38167\u001b[0m,\n",
       "    \u001b[1;36m38169\u001b[0m,\n",
       "    \u001b[1;36m38256\u001b[0m,\n",
       "    \u001b[1;36m38292\u001b[0m,\n",
       "    \u001b[1;36m38295\u001b[0m,\n",
       "    \u001b[1;36m38325\u001b[0m,\n",
       "    \u001b[1;36m38359\u001b[0m,\n",
       "    \u001b[1;36m38408\u001b[0m,\n",
       "    \u001b[1;36m38419\u001b[0m,\n",
       "    \u001b[1;36m38494\u001b[0m,\n",
       "    \u001b[1;36m38566\u001b[0m,\n",
       "    \u001b[1;36m38627\u001b[0m,\n",
       "    \u001b[1;36m38715\u001b[0m,\n",
       "    \u001b[1;36m38719\u001b[0m,\n",
       "    \u001b[1;36m38793\u001b[0m,\n",
       "    \u001b[1;36m38820\u001b[0m,\n",
       "    \u001b[1;36m38844\u001b[0m,\n",
       "    \u001b[1;36m38896\u001b[0m,\n",
       "    \u001b[1;36m38925\u001b[0m,\n",
       "    \u001b[1;36m38940\u001b[0m,\n",
       "    \u001b[1;36m38967\u001b[0m,\n",
       "    \u001b[1;36m39416\u001b[0m,\n",
       "    \u001b[1;36m39563\u001b[0m,\n",
       "    \u001b[1;36m39907\u001b[0m,\n",
       "    \u001b[1;36m39923\u001b[0m,\n",
       "    \u001b[1;36m39924\u001b[0m,\n",
       "    \u001b[1;36m39981\u001b[0m,\n",
       "    \u001b[1;36m40053\u001b[0m,\n",
       "    \u001b[1;36m40058\u001b[0m,\n",
       "    \u001b[1;36m40169\u001b[0m,\n",
       "    \u001b[1;36m40175\u001b[0m,\n",
       "    \u001b[1;36m40221\u001b[0m,\n",
       "    \u001b[1;36m40244\u001b[0m,\n",
       "    \u001b[1;36m40261\u001b[0m,\n",
       "    \u001b[1;36m40276\u001b[0m,\n",
       "    \u001b[1;36m40284\u001b[0m,\n",
       "    \u001b[1;36m40288\u001b[0m,\n",
       "    \u001b[1;36m40314\u001b[0m,\n",
       "    \u001b[1;36m40323\u001b[0m,\n",
       "    \u001b[1;36m40324\u001b[0m,\n",
       "    \u001b[1;36m40330\u001b[0m,\n",
       "    \u001b[1;36m40332\u001b[0m,\n",
       "    \u001b[1;36m40350\u001b[0m,\n",
       "    \u001b[1;36m40353\u001b[0m,\n",
       "    \u001b[1;36m40368\u001b[0m,\n",
       "    \u001b[1;36m40372\u001b[0m,\n",
       "    \u001b[1;36m40460\u001b[0m,\n",
       "    \u001b[1;36m40483\u001b[0m,\n",
       "    \u001b[1;36m40489\u001b[0m,\n",
       "    \u001b[1;36m40514\u001b[0m,\n",
       "    \u001b[1;36m40519\u001b[0m,\n",
       "    \u001b[1;36m40530\u001b[0m,\n",
       "    \u001b[1;36m40552\u001b[0m,\n",
       "    \u001b[1;36m40582\u001b[0m,\n",
       "    \u001b[1;36m40584\u001b[0m,\n",
       "    \u001b[1;36m40593\u001b[0m,\n",
       "    \u001b[1;36m40595\u001b[0m,\n",
       "    \u001b[1;36m40612\u001b[0m,\n",
       "    \u001b[1;36m40627\u001b[0m,\n",
       "    \u001b[1;36m40712\u001b[0m,\n",
       "    \u001b[1;36m40790\u001b[0m,\n",
       "    \u001b[1;36m40800\u001b[0m,\n",
       "    \u001b[1;36m40832\u001b[0m,\n",
       "    \u001b[1;36m40844\u001b[0m,\n",
       "    \u001b[1;36m40859\u001b[0m,\n",
       "    \u001b[1;36m40866\u001b[0m,\n",
       "    \u001b[1;36m40876\u001b[0m,\n",
       "    \u001b[1;36m40877\u001b[0m,\n",
       "    \u001b[1;36m40879\u001b[0m,\n",
       "    \u001b[1;36m40962\u001b[0m,\n",
       "    \u001b[1;36m40981\u001b[0m,\n",
       "    \u001b[1;36m40996\u001b[0m,\n",
       "    \u001b[1;36m40998\u001b[0m,\n",
       "    \u001b[1;36m41039\u001b[0m,\n",
       "    \u001b[1;36m41053\u001b[0m,\n",
       "    \u001b[1;36m41054\u001b[0m,\n",
       "    \u001b[1;36m41058\u001b[0m,\n",
       "    \u001b[1;36m41090\u001b[0m,\n",
       "    \u001b[1;36m41092\u001b[0m,\n",
       "    \u001b[1;36m41105\u001b[0m,\n",
       "    \u001b[1;36m41113\u001b[0m,\n",
       "    \u001b[1;36m41125\u001b[0m,\n",
       "    \u001b[1;36m41132\u001b[0m,\n",
       "    \u001b[1;36m41149\u001b[0m,\n",
       "    \u001b[1;36m41158\u001b[0m,\n",
       "    \u001b[1;36m41174\u001b[0m,\n",
       "    \u001b[1;36m41188\u001b[0m,\n",
       "    \u001b[1;36m41197\u001b[0m,\n",
       "    \u001b[1;36m41237\u001b[0m,\n",
       "    \u001b[1;36m41374\u001b[0m,\n",
       "    \u001b[1;36m41414\u001b[0m,\n",
       "    \u001b[1;36m41416\u001b[0m,\n",
       "    \u001b[1;36m41507\u001b[0m,\n",
       "    \u001b[1;36m41578\u001b[0m,\n",
       "    \u001b[1;36m41587\u001b[0m,\n",
       "    \u001b[1;36m41588\u001b[0m,\n",
       "    \u001b[1;36m41615\u001b[0m,\n",
       "    \u001b[1;36m41665\u001b[0m,\n",
       "    \u001b[1;36m41690\u001b[0m,\n",
       "    \u001b[1;36m41726\u001b[0m,\n",
       "    \u001b[1;36m41753\u001b[0m,\n",
       "    \u001b[1;36m41792\u001b[0m,\n",
       "    \u001b[1;36m41811\u001b[0m,\n",
       "    \u001b[1;36m41894\u001b[0m,\n",
       "    \u001b[1;36m41895\u001b[0m,\n",
       "    \u001b[1;36m41897\u001b[0m,\n",
       "    \u001b[1;36m41903\u001b[0m,\n",
       "    \u001b[1;36m41910\u001b[0m,\n",
       "    \u001b[1;36m41917\u001b[0m,\n",
       "    \u001b[1;36m41957\u001b[0m,\n",
       "    \u001b[1;36m41960\u001b[0m,\n",
       "    \u001b[1;36m42009\u001b[0m,\n",
       "    \u001b[1;36m42141\u001b[0m,\n",
       "    \u001b[1;36m42149\u001b[0m,\n",
       "    \u001b[1;36m42155\u001b[0m,\n",
       "    \u001b[1;36m42173\u001b[0m,\n",
       "    \u001b[1;36m42265\u001b[0m,\n",
       "    \u001b[1;36m42308\u001b[0m,\n",
       "    \u001b[1;36m42309\u001b[0m,\n",
       "    \u001b[1;36m42365\u001b[0m,\n",
       "    \u001b[1;36m42404\u001b[0m,\n",
       "    \u001b[1;36m42529\u001b[0m,\n",
       "    \u001b[1;36m42559\u001b[0m,\n",
       "    \u001b[1;36m42577\u001b[0m,\n",
       "    \u001b[1;36m42593\u001b[0m,\n",
       "    \u001b[1;36m42635\u001b[0m,\n",
       "    \u001b[1;36m42762\u001b[0m,\n",
       "    \u001b[1;36m42773\u001b[0m,\n",
       "    \u001b[1;36m42798\u001b[0m,\n",
       "    \u001b[1;36m42813\u001b[0m,\n",
       "    \u001b[1;36m42821\u001b[0m,\n",
       "    \u001b[1;36m42903\u001b[0m,\n",
       "    \u001b[1;36m42907\u001b[0m,\n",
       "    \u001b[1;36m42924\u001b[0m,\n",
       "    \u001b[1;36m42932\u001b[0m,\n",
       "    \u001b[1;36m42978\u001b[0m,\n",
       "    \u001b[1;36m42989\u001b[0m,\n",
       "    \u001b[1;36m43009\u001b[0m,\n",
       "    \u001b[1;36m43066\u001b[0m,\n",
       "    \u001b[1;36m43093\u001b[0m,\n",
       "    \u001b[1;36m43107\u001b[0m,\n",
       "    \u001b[1;36m43151\u001b[0m,\n",
       "    \u001b[1;36m43161\u001b[0m,\n",
       "    \u001b[1;36m43215\u001b[0m,\n",
       "    \u001b[1;36m43300\u001b[0m,\n",
       "    \u001b[1;36m43396\u001b[0m,\n",
       "    \u001b[1;36m43397\u001b[0m,\n",
       "    \u001b[1;36m43449\u001b[0m,\n",
       "    \u001b[1;36m43647\u001b[0m,\n",
       "    \u001b[1;36m43905\u001b[0m,\n",
       "    \u001b[1;36m44006\u001b[0m,\n",
       "    \u001b[1;36m44021\u001b[0m,\n",
       "    \u001b[1;36m44059\u001b[0m,\n",
       "    \u001b[1;36m44078\u001b[0m,\n",
       "    \u001b[1;36m44098\u001b[0m,\n",
       "    \u001b[1;36m44108\u001b[0m,\n",
       "    \u001b[1;36m44150\u001b[0m,\n",
       "    \u001b[1;36m44226\u001b[0m,\n",
       "    \u001b[1;36m44240\u001b[0m,\n",
       "    \u001b[1;36m44246\u001b[0m,\n",
       "    \u001b[1;36m44270\u001b[0m,\n",
       "    \u001b[1;36m44335\u001b[0m,\n",
       "    \u001b[1;36m44348\u001b[0m,\n",
       "    \u001b[1;36m44349\u001b[0m,\n",
       "    \u001b[1;36m44354\u001b[0m,\n",
       "    \u001b[1;36m44368\u001b[0m,\n",
       "    \u001b[1;36m44383\u001b[0m,\n",
       "    \u001b[1;36m44407\u001b[0m,\n",
       "    \u001b[1;36m44414\u001b[0m,\n",
       "    \u001b[1;36m44427\u001b[0m,\n",
       "    \u001b[1;36m44454\u001b[0m,\n",
       "    \u001b[1;36m44572\u001b[0m,\n",
       "    \u001b[1;36m44631\u001b[0m,\n",
       "    \u001b[1;36m44680\u001b[0m,\n",
       "    \u001b[1;36m44705\u001b[0m,\n",
       "    \u001b[1;36m44707\u001b[0m,\n",
       "    \u001b[1;36m44708\u001b[0m,\n",
       "    \u001b[1;36m44717\u001b[0m,\n",
       "    \u001b[1;36m44722\u001b[0m,\n",
       "    \u001b[1;36m44726\u001b[0m,\n",
       "    \u001b[1;36m44732\u001b[0m,\n",
       "    \u001b[1;36m44746\u001b[0m,\n",
       "    \u001b[1;36m44751\u001b[0m,\n",
       "    \u001b[1;36m44769\u001b[0m,\n",
       "    \u001b[1;36m44773\u001b[0m,\n",
       "    \u001b[1;36m44776\u001b[0m,\n",
       "    \u001b[1;36m44777\u001b[0m,\n",
       "    \u001b[1;36m44787\u001b[0m,\n",
       "    \u001b[1;36m44795\u001b[0m,\n",
       "    \u001b[1;36m44810\u001b[0m,\n",
       "    \u001b[1;36m44818\u001b[0m,\n",
       "    \u001b[1;36m44819\u001b[0m,\n",
       "    \u001b[1;36m44839\u001b[0m,\n",
       "    \u001b[1;36m44864\u001b[0m,\n",
       "    \u001b[1;36m44913\u001b[0m,\n",
       "    \u001b[1;36m44963\u001b[0m,\n",
       "    \u001b[1;36m44969\u001b[0m,\n",
       "    \u001b[1;36m45026\u001b[0m,\n",
       "    \u001b[1;36m45034\u001b[0m,\n",
       "    \u001b[1;36m45040\u001b[0m,\n",
       "    \u001b[1;36m45041\u001b[0m,\n",
       "    \u001b[1;36m45079\u001b[0m,\n",
       "    \u001b[1;36m45156\u001b[0m,\n",
       "    \u001b[1;36m45170\u001b[0m,\n",
       "    \u001b[1;36m45363\u001b[0m,\n",
       "    \u001b[1;36m45364\u001b[0m,\n",
       "    \u001b[1;36m45372\u001b[0m,\n",
       "    \u001b[1;36m45376\u001b[0m,\n",
       "    \u001b[1;36m45379\u001b[0m,\n",
       "    \u001b[1;36m45418\u001b[0m,\n",
       "    \u001b[1;36m45475\u001b[0m,\n",
       "    \u001b[1;36m45476\u001b[0m,\n",
       "    \u001b[1;36m45496\u001b[0m,\n",
       "    \u001b[1;36m45497\u001b[0m,\n",
       "    \u001b[1;36m45502\u001b[0m,\n",
       "    \u001b[1;36m45543\u001b[0m,\n",
       "    \u001b[1;36m45547\u001b[0m,\n",
       "    \u001b[1;36m45567\u001b[0m,\n",
       "    \u001b[1;36m45572\u001b[0m,\n",
       "    \u001b[1;36m45575\u001b[0m,\n",
       "    \u001b[1;36m45588\u001b[0m,\n",
       "    \u001b[1;36m45604\u001b[0m,\n",
       "    \u001b[1;36m45633\u001b[0m,\n",
       "    \u001b[1;36m45648\u001b[0m,\n",
       "    \u001b[1;36m45649\u001b[0m,\n",
       "    \u001b[1;36m45659\u001b[0m,\n",
       "    \u001b[1;36m45661\u001b[0m,\n",
       "    \u001b[1;36m45669\u001b[0m,\n",
       "    \u001b[1;36m45671\u001b[0m,\n",
       "    \u001b[1;36m45674\u001b[0m,\n",
       "    \u001b[1;36m45681\u001b[0m,\n",
       "    \u001b[1;36m45703\u001b[0m,\n",
       "    \u001b[1;36m45705\u001b[0m,\n",
       "    \u001b[1;36m45718\u001b[0m,\n",
       "    \u001b[1;36m45724\u001b[0m,\n",
       "    \u001b[1;36m45734\u001b[0m,\n",
       "    \u001b[1;36m45735\u001b[0m,\n",
       "    \u001b[1;36m45772\u001b[0m,\n",
       "    \u001b[1;36m45779\u001b[0m,\n",
       "    \u001b[1;36m45784\u001b[0m,\n",
       "    \u001b[1;36m45809\u001b[0m,\n",
       "    \u001b[1;36m45814\u001b[0m,\n",
       "    \u001b[1;36m45815\u001b[0m,\n",
       "    \u001b[1;36m45817\u001b[0m,\n",
       "    \u001b[1;36m45826\u001b[0m,\n",
       "    \u001b[1;36m45827\u001b[0m,\n",
       "    \u001b[1;36m45837\u001b[0m,\n",
       "    \u001b[1;36m45961\u001b[0m,\n",
       "    \u001b[1;36m45998\u001b[0m,\n",
       "    \u001b[1;36m46006\u001b[0m,\n",
       "    \u001b[1;36m46015\u001b[0m,\n",
       "    \u001b[1;36m46017\u001b[0m,\n",
       "    \u001b[1;36m46029\u001b[0m,\n",
       "    \u001b[1;36m46035\u001b[0m,\n",
       "    \u001b[1;36m46049\u001b[0m,\n",
       "    \u001b[1;36m46067\u001b[0m,\n",
       "    \u001b[1;36m46075\u001b[0m,\n",
       "    \u001b[1;36m46077\u001b[0m,\n",
       "    \u001b[1;36m46089\u001b[0m,\n",
       "    \u001b[1;36m46098\u001b[0m,\n",
       "    \u001b[1;36m46116\u001b[0m,\n",
       "    \u001b[1;36m46117\u001b[0m,\n",
       "    \u001b[1;36m46126\u001b[0m,\n",
       "    \u001b[1;36m46140\u001b[0m,\n",
       "    \u001b[1;36m46141\u001b[0m,\n",
       "    \u001b[1;36m46144\u001b[0m,\n",
       "    \u001b[1;36m46246\u001b[0m,\n",
       "    \u001b[1;36m46332\u001b[0m,\n",
       "    \u001b[1;36m46342\u001b[0m,\n",
       "    \u001b[1;36m46350\u001b[0m,\n",
       "    \u001b[1;36m46375\u001b[0m,\n",
       "    \u001b[1;36m46388\u001b[0m,\n",
       "    \u001b[1;36m46423\u001b[0m,\n",
       "    \u001b[1;36m46434\u001b[0m,\n",
       "    \u001b[1;36m46438\u001b[0m,\n",
       "    \u001b[1;36m46533\u001b[0m,\n",
       "    \u001b[1;36m46539\u001b[0m,\n",
       "    \u001b[1;36m46554\u001b[0m,\n",
       "    \u001b[1;36m46557\u001b[0m,\n",
       "    \u001b[1;36m46560\u001b[0m,\n",
       "    \u001b[1;36m46569\u001b[0m,\n",
       "    \u001b[1;36m46601\u001b[0m,\n",
       "    \u001b[1;36m46616\u001b[0m,\n",
       "    \u001b[1;36m46662\u001b[0m,\n",
       "    \u001b[1;36m46670\u001b[0m,\n",
       "    \u001b[1;36m46676\u001b[0m,\n",
       "    \u001b[1;36m46677\u001b[0m,\n",
       "    \u001b[1;36m46688\u001b[0m,\n",
       "    \u001b[1;36m46751\u001b[0m,\n",
       "    \u001b[1;36m46767\u001b[0m,\n",
       "    \u001b[1;36m46775\u001b[0m,\n",
       "    \u001b[1;36m46779\u001b[0m,\n",
       "    \u001b[1;36m46790\u001b[0m,\n",
       "    \u001b[1;36m46793\u001b[0m,\n",
       "    \u001b[1;36m46803\u001b[0m,\n",
       "    \u001b[1;36m46807\u001b[0m,\n",
       "    \u001b[1;36m46818\u001b[0m,\n",
       "    \u001b[1;36m46828\u001b[0m,\n",
       "    \u001b[1;36m46832\u001b[0m\n",
       "\u001b[1m]\u001b[0m\n"
      ]
     },
     "metadata": {},
     "output_type": "display_data"
    }
   ],
   "source": [
    "missing_eclipses_01 = set(old_sample_01).difference(new_sample)\n",
    "missing_eclipses_02 = set(old_sample_02).difference(new_sample)\n",
    "print(len(set(list(missing_eclipses_01)+list(missing_eclipses_02))))\n",
    "print(missing_eclipses:=list(np.sort(np.unique(list(missing_eclipses_01)+list(missing_eclipses_02)))))"
   ]
  },
  {
   "cell_type": "code",
   "execution_count": 6,
   "id": "9afc8a9a",
   "metadata": {},
   "outputs": [],
   "source": [
    "missing_sample = []\n",
    "for d in ['other variable',#'artifacts','marginal','moving','nonlinearity',\n",
    "          'eclipses','flares']:\n",
    "    for fn in os.listdir(f\"/Users/cm/GFCAT/GFCAT_2202.1/plots_sorted/{d}\"):\n",
    "        if \"Store\" in fn:\n",
    "            continue\n",
    "        e = int(fn.split('-')[0][1:])\n",
    "        if e in missing_eclipses:\n",
    "            obj = int(fn.split('-')[-1][:-4])\n",
    "            missing_sample += [(e,obj,{'flares':'F','eclipses':'E','other variable':'U'}[d])]\n",
    "for d in ['other variable',#'artifacts','marginal','moving','nonlinearity',\n",
    "          'eclipses','flares']:\n",
    "    for fn in os.listdir(f\"/Users/cm/GFCAT/GFCAT_2207.2/plots_sorted/{d}\"):\n",
    "        if \"Store\" in fn:\n",
    "            continue\n",
    "        e = int(fn.split('-')[0][1:])\n",
    "        if e in missing_eclipses:\n",
    "            obj = int(fn.split('-')[-1][:-4])\n",
    "            missing_sample += [(e,obj,{'flares':'F','eclipses':'E','other variable':'U'}[d])]"
   ]
  },
  {
   "cell_type": "code",
   "execution_count": 15,
   "id": "3e0b9ef3",
   "metadata": {},
   "outputs": [
    {
     "data": {
      "text/plain": [
       "1044"
      ]
     },
     "execution_count": 15,
     "metadata": {},
     "output_type": "execute_result"
    }
   ],
   "source": [
    "#missing_sample+=[(38424,20817,'U')] # add strong pulsator\n",
    "len(missing_sample)"
   ]
  },
  {
   "cell_type": "code",
   "execution_count": 16,
   "id": "6169bd47",
   "metadata": {},
   "outputs": [
    {
     "data": {
      "text/plain": [
       "[(17928, 1049, 'U'),\n",
       " (6074, 1178, 'U'),\n",
       " (23493, 1709, 'U'),\n",
       " (40276, 1160, 'U'),\n",
       " (16263, 668, 'U'),\n",
       " (46662, 2255, 'U'),\n",
       " (9085, 974, 'U'),\n",
       " (34249, 1591, 'U'),\n",
       " (41125, 1376, 'U'),\n",
       " (26770, 629, 'U'),\n",
       " (36108, 422, 'U'),\n",
       " (16530, 1572, 'U'),\n",
       " (9204, 206, 'U'),\n",
       " (16642, 1043, 'U'),\n",
       " (8201, 1172, 'U'),\n",
       " (44354, 363, 'U'),\n",
       " (35532, 1829, 'U'),\n",
       " (19643, 833, 'U'),\n",
       " (45588, 1752, 'U'),\n",
       " (46017, 7453, 'U'),\n",
       " (46049, 1269, 'U'),\n",
       " (16678, 2449, 'U'),\n",
       " (46141, 2122, 'U'),\n",
       " (41753, 86, 'U'),\n",
       " (1939, 1308, 'U'),\n",
       " (34209, 1195, 'U'),\n",
       " (44746, 855, 'U'),\n",
       " (9264, 1339, 'U'),\n",
       " (46807, 1166, 'U'),\n",
       " (41174, 513, 'U'),\n",
       " (41414, 540, 'U'),\n",
       " (44270, 1045, 'U'),\n",
       " (28287, 4432, 'U'),\n",
       " (16508, 1483, 'U'),\n",
       " (46140, 3832, 'U'),\n",
       " (46677, 1986, 'U'),\n",
       " (44819, 1286, 'U'),\n",
       " (16350, 475, 'U'),\n",
       " (33998, 1553, 'U'),\n",
       " (35516, 908, 'U'),\n",
       " (40175, 1054, 'U'),\n",
       " (16654, 1128, 'U'),\n",
       " (35713, 2623, 'U'),\n",
       " (40244, 464, 'U'),\n",
       " (46017, 10771, 'U'),\n",
       " (8845, 2239, 'U'),\n",
       " (10038, 1483, 'U'),\n",
       " (26689, 980, 'U'),\n",
       " (41053, 109, 'U'),\n",
       " (10726, 1552, 'U'),\n",
       " (45364, 885, 'U'),\n",
       " (28566, 1317, 'U'),\n",
       " (9044, 1582, 'U'),\n",
       " (15422, 951, 'U'),\n",
       " (40053, 795, 'U'),\n",
       " (15723, 920, 'U'),\n",
       " (44726, 482, 'U'),\n",
       " (9378, 274, 'U'),\n",
       " (46006, 3216, 'U'),\n",
       " (23479, 1518, 'U'),\n",
       " (34800, 131, 'U'),\n",
       " (26779, 2335, 'U'),\n",
       " (40288, 1388, 'U'),\n",
       " (44098, 337, 'U'),\n",
       " (7550, 470, 'U'),\n",
       " (45734, 1464, 'U'),\n",
       " (16561, 930, 'U'),\n",
       " (45827, 1474, 'U'),\n",
       " (18674, 883, 'U'),\n",
       " (46015, 1214, 'U'),\n",
       " (36393, 1165, 'U'),\n",
       " (46077, 1749, 'U'),\n",
       " (46793, 2761, 'U'),\n",
       " (9427, 3240, 'U'),\n",
       " (42149, 1955, 'U'),\n",
       " (45837, 1875, 'U'),\n",
       " (46818, 1338, 'U'),\n",
       " (44349, 5505, 'U'),\n",
       " (8839, 1155, 'U'),\n",
       " (43396, 880, 'U'),\n",
       " (46075, 4370, 'U'),\n",
       " (41960, 1208, 'U'),\n",
       " (19665, 972, 'U'),\n",
       " (46017, 16298, 'U'),\n",
       " (35589, 2727, 'U'),\n",
       " (46775, 1586, 'U'),\n",
       " (43107, 1545, 'U'),\n",
       " (27066, 482, 'U'),\n",
       " (45809, 1610, 'U'),\n",
       " (8226, 3554, 'U'),\n",
       " (16176, 182, 'U'),\n",
       " (44335, 4118, 'U'),\n",
       " (46601, 14032, 'U'),\n",
       " (36115, 1143, 'U'),\n",
       " (35211, 1150, 'U'),\n",
       " (35354, 1204, 'U'),\n",
       " (35531, 534, 'U'),\n",
       " (46601, 12912, 'U'),\n",
       " (35634, 7578, 'U'),\n",
       " (46803, 2879, 'U'),\n",
       " (41092, 798, 'U'),\n",
       " (16163, 1007, 'U'),\n",
       " (45817, 737, 'U'),\n",
       " (17264, 1404, 'U'),\n",
       " (17790, 2097, 'U'),\n",
       " (44407, 884, 'U'),\n",
       " (46533, 14680, 'U'),\n",
       " (28483, 2164, 'U'),\n",
       " (44572, 914, 'U'),\n",
       " (46676, 6320, 'U'),\n",
       " (41039, 1182, 'U'),\n",
       " (9378, 1457, 'U'),\n",
       " (7550, 616, 'U'),\n",
       " (36616, 1339, 'U'),\n",
       " (40712, 131, 'U'),\n",
       " (45572, 743, 'U'),\n",
       " (26607, 677, 'U'),\n",
       " (18329, 814, 'U'),\n",
       " (17136, 584, 'U'),\n",
       " (40998, 1587, 'U'),\n",
       " (9231, 1602, 'U'),\n",
       " (45669, 175, 'U'),\n",
       " (46790, 494, 'U'),\n",
       " (45649, 624, 'U'),\n",
       " (41894, 115, 'U'),\n",
       " (46554, 8432, 'U'),\n",
       " (36674, 1539, 'U'),\n",
       " (46790, 1788, 'U'),\n",
       " (35783, 1672, 'U'),\n",
       " (17987, 1185, 'U'),\n",
       " (45671, 1025, 'U'),\n",
       " (40595, 1353, 'U'),\n",
       " (7602, 267, 'U'),\n",
       " (8573, 1244, 'U'),\n",
       " (40221, 1537, 'U'),\n",
       " (45671, 1794, 'U'),\n",
       " (16803, 3813, 'U'),\n",
       " (42798, 93, 'U'),\n",
       " (42155, 505, 'U'),\n",
       " (18144, 1493, 'U'),\n",
       " (46670, 392, 'U'),\n",
       " (19643, 338, 'U'),\n",
       " (41237, 719, 'U'),\n",
       " (46662, 5176, 'U'),\n",
       " (28335, 2526, 'U'),\n",
       " (16492, 270, 'U'),\n",
       " (36423, 934, 'U'),\n",
       " (19579, 259, 'U'),\n",
       " (19139, 1279, 'U'),\n",
       " (40519, 929, 'U'),\n",
       " (41188, 800, 'U'),\n",
       " (16367, 611, 'U'),\n",
       " (35811, 264, 'U'),\n",
       " (40582, 1360, 'U'),\n",
       " (40790, 1313, 'U'),\n",
       " (46375, 925, 'U'),\n",
       " (17105, 763, 'U'),\n",
       " (44969, 1186, 'U'),\n",
       " (35166, 1396, 'U'),\n",
       " (44963, 628, 'U'),\n",
       " (34210, 1225, 'U'),\n",
       " (45826, 1029, 'U'),\n",
       " (34316, 138, 'U'),\n",
       " (45674, 3406, 'U'),\n",
       " (17974, 163, 'U'),\n",
       " (46126, 1243, 'U'),\n",
       " (46807, 2233, 'U'),\n",
       " (35518, 2508, 'U'),\n",
       " (44631, 5141, 'U'),\n",
       " (36601, 1898, 'U'),\n",
       " (43647, 566, 'U'),\n",
       " (45372, 391, 'U'),\n",
       " (16848, 2003, 'U'),\n",
       " (45041, 711, 'U'),\n",
       " (10565, 331, 'U'),\n",
       " (8888, 3215, 'U'),\n",
       " (42978, 587, 'U'),\n",
       " (28566, 241, 'U'),\n",
       " (45648, 553, 'U'),\n",
       " (35299, 1108, 'U'),\n",
       " (44270, 2717, 'U'),\n",
       " (45718, 1687, 'U'),\n",
       " (16207, 1472, 'U'),\n",
       " (43107, 1491, 'U'),\n",
       " (45815, 311, 'U'),\n",
       " (17392, 2163, 'U'),\n",
       " (44969, 1397, 'U'),\n",
       " (45575, 800, 'U'),\n",
       " (35630, 533, 'U'),\n",
       " (45659, 558, 'U'),\n",
       " (45543, 1711, 'U'),\n",
       " (18975, 1521, 'U'),\n",
       " (40998, 1385, 'U'),\n",
       " (45961, 537, 'U'),\n",
       " (44368, 4310, 'U'),\n",
       " (41917, 1496, 'U'),\n",
       " (19013, 450, 'U'),\n",
       " (40353, 184, 'U'),\n",
       " (35708, 5392, 'U'),\n",
       " (44108, 866, 'U'),\n",
       " (46246, 719, 'U'),\n",
       " (41811, 1319, 'U'),\n",
       " (18263, 1199, 'U'),\n",
       " (28638, 1162, 'U'),\n",
       " (28333, 1563, 'U'),\n",
       " (23150, 1801, 'U'),\n",
       " (44864, 1322, 'U'),\n",
       " (44795, 643, 'U'),\n",
       " (19643, 713, 'U'),\n",
       " (41690, 903, 'U'),\n",
       " (40169, 751, 'U'),\n",
       " (44717, 1516, 'U'),\n",
       " (28648, 1221, 'U'),\n",
       " (44348, 7597, 'U'),\n",
       " (26620, 502, 'U'),\n",
       " (41615, 574, 'U'),\n",
       " (46539, 1897, 'U'),\n",
       " (42009, 821, 'U'),\n",
       " (16643, 898, 'U'),\n",
       " (45547, 345, 'U'),\n",
       " (36095, 1435, 'U'),\n",
       " (35589, 1533, 'U'),\n",
       " (17228, 1487, 'U'),\n",
       " (35414, 200, 'U'),\n",
       " (7261, 1104, 'U'),\n",
       " (41897, 1154, 'U'),\n",
       " (8586, 1599, 'U'),\n",
       " (41792, 1039, 'U'),\n",
       " (15549, 1286, 'U'),\n",
       " (3908, 1426, 'U'),\n",
       " (34101, 412, 'U'),\n",
       " (46116, 2027, 'U'),\n",
       " (18964, 559, 'U'),\n",
       " (45703, 1551, 'U'),\n",
       " (28455, 535, 'U'),\n",
       " (40330, 1280, 'U'),\n",
       " (17685, 1550, 'U'),\n",
       " (35616, 1770, 'U'),\n",
       " (5474, 1490, 'U'),\n",
       " (46049, 531, 'U'),\n",
       " (44751, 1044, 'U'),\n",
       " (44427, 1557, 'U'),\n",
       " (16023, 672, 'U'),\n",
       " (18905, 146, 'U'),\n",
       " (46688, 4248, 'U'),\n",
       " (18620, 593, 'U'),\n",
       " (34782, 1355, 'U'),\n",
       " (35326, 1510, 'U'),\n",
       " (17168, 1746, 'U'),\n",
       " (40460, 2220, 'U'),\n",
       " (45567, 1053, 'U'),\n",
       " (17126, 1258, 'U'),\n",
       " (16940, 1609, 'U'),\n",
       " (40514, 628, 'U'),\n",
       " (16121, 2682, 'U'),\n",
       " (42978, 616, 'U'),\n",
       " (45476, 989, 'U'),\n",
       " (17409, 1049, 'U'),\n",
       " (44098, 774, 'U'),\n",
       " (17636, 228, 'U'),\n",
       " (35969, 946, 'U'),\n",
       " (1607, 995, 'U'),\n",
       " (16632, 899, 'U'),\n",
       " (44708, 1231, 'U'),\n",
       " (45784, 620, 'U'),\n",
       " (46662, 4300, 'U'),\n",
       " (19618, 1045, 'U'),\n",
       " (45735, 662, 'U'),\n",
       " (41587, 227, 'U'),\n",
       " (46017, 4297, 'U'),\n",
       " (27072, 758, 'U'),\n",
       " (2102, 674, 'U'),\n",
       " (27075, 412, 'U'),\n",
       " (45633, 1345, 'U'),\n",
       " (7541, 957, 'U'),\n",
       " (46557, 3365, 'U'),\n",
       " (27072, 1297, 'U'),\n",
       " (40866, 2478, 'U'),\n",
       " (6079, 1173, 'U'),\n",
       " (40314, 788, 'U'),\n",
       " (34229, 428, 'U'),\n",
       " (6734, 1895, 'U'),\n",
       " (17228, 1325, 'U'),\n",
       " (8117, 450, 'U'),\n",
       " (44773, 833, 'U'),\n",
       " (9055, 2599, 'U'),\n",
       " (44722, 1728, 'U'),\n",
       " (6435, 640, 'U'),\n",
       " (39924, 37, 'U'),\n",
       " (44572, 891, 'U'),\n",
       " (40612, 660, 'U'),\n",
       " (17167, 1676, 'U'),\n",
       " (18124, 1331, 'U'),\n",
       " (44722, 797, 'U'),\n",
       " (3788, 1728, 'U'),\n",
       " (42155, 697, 'U'),\n",
       " (42813, 509, 'U'),\n",
       " (16671, 2460, 'U'),\n",
       " (26752, 252, 'U'),\n",
       " (39923, 586, 'U'),\n",
       " (45779, 1287, 'U'),\n",
       " (17907, 1496, 'U'),\n",
       " (45661, 1346, 'U'),\n",
       " (34209, 1528, 'U'),\n",
       " (44810, 1469, 'U'),\n",
       " (44705, 2771, 'U'),\n",
       " (1754, 1085, 'U'),\n",
       " (44776, 2190, 'U'),\n",
       " (44098, 174, 'U'),\n",
       " (40350, 1502, 'U'),\n",
       " (6279, 1301, 'U'),\n",
       " (41897, 105, 'U'),\n",
       " (42773, 138, 'U'),\n",
       " (44777, 1677, 'U'),\n",
       " (6745, 1705, 'U'),\n",
       " (4274, 1636, 'U'),\n",
       " (27118, 451, 'U'),\n",
       " (35633, 2330, 'U'),\n",
       " (40284, 465, 'U'),\n",
       " (45170, 791, 'U'),\n",
       " (45475, 1354, 'U'),\n",
       " (44913, 1358, 'U'),\n",
       " (45547, 1428, 'U'),\n",
       " (18897, 1331, 'U'),\n",
       " (44839, 589, 'U'),\n",
       " (18984, 818, 'U'),\n",
       " (7602, 781, 'U'),\n",
       " (35633, 2169, 'U'),\n",
       " (45418, 225, 'U'),\n",
       " (18080, 1470, 'U'),\n",
       " (46144, 242, 'U'),\n",
       " (40058, 665, 'U'),\n",
       " (40350, 337, 'U'),\n",
       " (40832, 1503, 'U'),\n",
       " (33994, 381, 'U'),\n",
       " (9443, 751, 'U'),\n",
       " (40879, 2490, 'U'),\n",
       " (10726, 911, 'U'),\n",
       " (40962, 165, 'U'),\n",
       " (19723, 1097, 'U'),\n",
       " (10678, 342, 'U'),\n",
       " (42309, 558, 'U'),\n",
       " (18998, 81, 'U'),\n",
       " (9461, 1502, 'U'),\n",
       " (8645, 634, 'U'),\n",
       " (16678, 1798, 'U'),\n",
       " (27040, 497, 'U'),\n",
       " (6435, 1467, 'U'),\n",
       " (44454, 31908, 'U'),\n",
       " (8895, 1573, 'U'),\n",
       " (19618, 1009, 'U'),\n",
       " (46017, 17228, 'U'),\n",
       " (17636, 289, 'U'),\n",
       " (44368, 4988, 'U'),\n",
       " (46035, 6179, 'U'),\n",
       " (16687, 1163, 'U'),\n",
       " (42978, 112, 'U'),\n",
       " (15731, 2733, 'U'),\n",
       " (46116, 3358, 'U'),\n",
       " (26857, 1722, 'U'),\n",
       " (41058, 2174, 'U'),\n",
       " (3094, 548, 'U'),\n",
       " (46067, 3028, 'U'),\n",
       " (17099, 1997, 'U'),\n",
       " (16567, 720, 'U'),\n",
       " (46601, 4413, 'U'),\n",
       " (41039, 974, 'U'),\n",
       " (17970, 1596, 'U'),\n",
       " (40859, 2300, 'U'),\n",
       " (15883, 633, 'U'),\n",
       " (40627, 1472, 'U'),\n",
       " (23231, 1816, 'U'),\n",
       " (46832, 130, 'U'),\n",
       " (23427, 2450, 'U'),\n",
       " (40593, 1920, 'U'),\n",
       " (42762, 975, 'U'),\n",
       " (17410, 779, 'U'),\n",
       " (46790, 2573, 'U'),\n",
       " (45034, 1453, 'U'),\n",
       " (19591, 167, 'U'),\n",
       " (18117, 2469, 'U'),\n",
       " (46569, 2264, 'U'),\n",
       " (46779, 1665, 'U'),\n",
       " (42173, 943, 'U'),\n",
       " (36015, 871, 'U'),\n",
       " (18161, 123, 'U'),\n",
       " (45026, 764, 'U'),\n",
       " (45379, 173, 'U'),\n",
       " (16686, 1954, 'U'),\n",
       " (45497, 1460, 'U'),\n",
       " (8090, 103, 'U'),\n",
       " (40876, 767, 'U'),\n",
       " (18241, 177, 'U'),\n",
       " (45588, 2916, 'U'),\n",
       " (45724, 621, 'U'),\n",
       " (40998, 2141, 'U'),\n",
       " (46144, 245, 'U'),\n",
       " (18855, 894, 'U'),\n",
       " (44787, 1870, 'U'),\n",
       " (8590, 614, 'U'),\n",
       " (41090, 164, 'U'),\n",
       " (44383, 911, 'U'),\n",
       " (26646, 1107, 'U'),\n",
       " (45604, 1097, 'U'),\n",
       " (46601, 13804, 'U'),\n",
       " (46616, 708, 'U'),\n",
       " (19129, 58, 'U'),\n",
       " (45364, 858, 'U'),\n",
       " (6042, 888, 'U'),\n",
       " (35532, 2257, 'U'),\n",
       " (26797, 938, 'U'),\n",
       " (28407, 156, 'U'),\n",
       " (1586, 287, 'U'),\n",
       " (40288, 513, 'U'),\n",
       " (40981, 1239, 'U'),\n",
       " (40552, 138, 'U'),\n",
       " (46098, 3588, 'U'),\n",
       " (16121, 2433, 'U'),\n",
       " (41578, 1561, 'U'),\n",
       " (45998, 3872, 'U'),\n",
       " (46017, 13869, 'U'),\n",
       " (35445, 509, 'U'),\n",
       " (45363, 1158, 'U'),\n",
       " (39981, 759, 'U'),\n",
       " (15755, 41, 'U'),\n",
       " (33820, 2642, 'U'),\n",
       " (41158, 1456, 'U'),\n",
       " (17228, 885, 'U'),\n",
       " (40332, 3005, 'U'),\n",
       " (40368, 570, 'U'),\n",
       " (40483, 545, 'E'),\n",
       " (35400, 731, 'E'),\n",
       " (7254, 492, 'E'),\n",
       " (35713, 1562, 'E'),\n",
       " (44383, 1538, 'E'),\n",
       " (44078, 2648, 'E'),\n",
       " (45040, 256, 'E'),\n",
       " (19259, 462, 'E'),\n",
       " (41726, 550, 'E'),\n",
       " (28592, 161, 'E'),\n",
       " (2609, 1545, 'E'),\n",
       " (40552, 1147, 'E'),\n",
       " (35713, 3486, 'E'),\n",
       " (42907, 996, 'F'),\n",
       " (16515, 734, 'F'),\n",
       " (9137, 255, 'F'),\n",
       " (19966, 565, 'F'),\n",
       " (46388, 1467, 'F'),\n",
       " (7526, 663, 'F'),\n",
       " (36100, 852, 'F'),\n",
       " (36037, 310, 'F'),\n",
       " (35264, 1002, 'F'),\n",
       " (40584, 192, 'F'),\n",
       " (44773, 1376, 'F'),\n",
       " (45681, 898, 'F'),\n",
       " (46350, 1863, 'F'),\n",
       " (42821, 792, 'F'),\n",
       " (43009, 1716, 'F'),\n",
       " (18248, 505, 'F'),\n",
       " (35727, 951, 'F'),\n",
       " (41374, 1681, 'F'),\n",
       " (46434, 412, 'F'),\n",
       " (36637, 328, 'F'),\n",
       " (6842, 1179, 'F'),\n",
       " (7620, 1296, 'F'),\n",
       " (41665, 2521, 'F'),\n",
       " (41507, 609, 'F'),\n",
       " (7286, 172, 'F'),\n",
       " (40323, 308, 'F'),\n",
       " (26852, 826, 'F'),\n",
       " (35086, 664, 'F'),\n",
       " (46560, 1247, 'F'),\n",
       " (41105, 104, 'F'),\n",
       " (4310, 2026, 'F'),\n",
       " (44839, 2541, 'F'),\n",
       " (1759, 1464, 'F'),\n",
       " (6165, 1204, 'F'),\n",
       " (26660, 234, 'F'),\n",
       " (35730, 1462, 'F'),\n",
       " (36559, 316, 'F'),\n",
       " (16123, 340, 'F'),\n",
       " (9969, 1267, 'F'),\n",
       " (35357, 717, 'F'),\n",
       " (44707, 2065, 'F'),\n",
       " (4042, 1377, 'F'),\n",
       " (16652, 1328, 'F'),\n",
       " (28469, 462, 'F'),\n",
       " (15375, 1665, 'F'),\n",
       " (45079, 1563, 'F'),\n",
       " (7835, 1321, 'F'),\n",
       " (40877, 434, 'F'),\n",
       " (2173, 1887, 'F'),\n",
       " (46089, 1956, 'F'),\n",
       " (45156, 1277, 'F'),\n",
       " (4158, 1127, 'F'),\n",
       " (35374, 1179, 'F'),\n",
       " (35287, 439, 'F'),\n",
       " (9419, 2043, 'F'),\n",
       " (44732, 1847, 'F'),\n",
       " (7130, 325, 'F'),\n",
       " (40489, 1306, 'F'),\n",
       " (27029, 3231, 'F'),\n",
       " (36019, 666, 'F'),\n",
       " (40844, 1225, 'F'),\n",
       " (46342, 670, 'F'),\n",
       " (1607, 394, 'F'),\n",
       " (26916, 1576, 'F'),\n",
       " (17474, 1020, 'F'),\n",
       " (41054, 804, 'F'),\n",
       " (42308, 45, 'F'),\n",
       " (28502, 457, 'F'),\n",
       " (41910, 1080, 'F'),\n",
       " (41113, 1512, 'F'),\n",
       " (23124, 2052, 'F'),\n",
       " (7615, 1349, 'F'),\n",
       " (46751, 2002, 'F'),\n",
       " (41149, 76, 'F'),\n",
       " (16609, 1644, 'F'),\n",
       " (44006, 1532, 'F'),\n",
       " (16366, 38, 'F'),\n",
       " (8915, 12051, 'F'),\n",
       " (7795, 3735, 'F'),\n",
       " (18620, 1646, 'F'),\n",
       " (44818, 1234, 'F'),\n",
       " (17102, 777, 'F'),\n",
       " (16848, 771, 'F'),\n",
       " (40876, 867, 'F'),\n",
       " (18029, 929, 'F'),\n",
       " (40530, 1538, 'F'),\n",
       " (35158, 1699, 'F'),\n",
       " (36602, 581, 'F'),\n",
       " (15755, 821, 'F'),\n",
       " (41197, 297, 'F'),\n",
       " (28248, 2009, 'F'),\n",
       " (36612, 162, 'F'),\n",
       " (18674, 766, 'F'),\n",
       " (16941, 3412, 'F'),\n",
       " (45772, 2094, 'F'),\n",
       " (44769, 893, 'F'),\n",
       " (35707, 1215, 'F'),\n",
       " (28425, 71, 'F'),\n",
       " (45376, 1710, 'F'),\n",
       " (41588, 1036, 'F'),\n",
       " (16686, 2008, 'F'),\n",
       " (44680, 1030, 'F'),\n",
       " (16955, 1391, 'F'),\n",
       " (16654, 473, 'F'),\n",
       " (9001, 3479, 'F'),\n",
       " (10725, 1284, 'F'),\n",
       " (45502, 1042, 'F'),\n",
       " (43449, 1132, 'F'),\n",
       " (46767, 1475, 'F'),\n",
       " (44006, 1507, 'F'),\n",
       " (7063, 715, 'F'),\n",
       " (44246, 3571, 'F'),\n",
       " (1937, 2808, 'F'),\n",
       " (8833, 1007, 'F'),\n",
       " (35213, 1309, 'F'),\n",
       " (44226, 670, 'F'),\n",
       " (8830, 463, 'F'),\n",
       " (44226, 937, 'F'),\n",
       " (40996, 363, 'F'),\n",
       " (40372, 222, 'F'),\n",
       " (3859, 647, 'F'),\n",
       " (46423, 275, 'F'),\n",
       " (40324, 607, 'F'),\n",
       " (9722, 1295, 'F'),\n",
       " (10545, 327, 'F'),\n",
       " (44414, 1038, 'F'),\n",
       " (45814, 900, 'F'),\n",
       " (42141, 732, 'F'),\n",
       " (28503, 1233, 'F'),\n",
       " (18589, 689, 'F'),\n",
       " (35688, 1432, 'F'),\n",
       " (41132, 1504, 'F'),\n",
       " (6513, 307, 'F'),\n",
       " (35994, 422, 'F'),\n",
       " (23330, 704, 'F'),\n",
       " (46029, 613, 'F'),\n",
       " (20600, 899, 'F'),\n",
       " (35632, 1103, 'F'),\n",
       " (46035, 2686, 'F'),\n",
       " (18915, 505, 'F'),\n",
       " (42907, 1128, 'F'),\n",
       " (45705, 1131, 'F'),\n",
       " (34272, 580, 'F'),\n",
       " (16603, 421, 'F'),\n",
       " (41957, 724, 'F'),\n",
       " (2173, 1096, 'F'),\n",
       " (7521, 939, 'F'),\n",
       " (39907, 864, 'F'),\n",
       " (9893, 169, 'F'),\n",
       " (18076, 1540, 'F'),\n",
       " (41895, 344, 'F'),\n",
       " (1414, 3093, 'F'),\n",
       " (46434, 427, 'F'),\n",
       " (15884, 1101, 'F'),\n",
       " (42635, 1876, 'F'),\n",
       " (36095, 612, 'F'),\n",
       " (46332, 221, 'F'),\n",
       " (8831, 2204, 'F'),\n",
       " (3999, 1022, 'F'),\n",
       " (41903, 679, 'F'),\n",
       " (23745, 225, 'F'),\n",
       " (45496, 1856, 'F'),\n",
       " (36404, 167, 'F'),\n",
       " (9208, 493, 'F'),\n",
       " (36056, 489, 'F'),\n",
       " (28650, 1590, 'F'),\n",
       " (16862, 1446, 'F'),\n",
       " (16849, 3979, 'F'),\n",
       " (40800, 1684, 'F'),\n",
       " (46828, 1296, 'F'),\n",
       " (46017, 24418, 'F'),\n",
       " (4022, 1217, 'F'),\n",
       " (46438, 938, 'F'),\n",
       " (17928, 1049, 'U'),\n",
       " (16263, 668, 'U'),\n",
       " (43905, 22913, 'U'),\n",
       " (9085, 974, 'U'),\n",
       " (9004, 1181, 'U'),\n",
       " (44354, 363, 'U'),\n",
       " (37209, 386, 'U'),\n",
       " (29184, 498, 'U'),\n",
       " (41414, 540, 'U'),\n",
       " (28287, 4432, 'U'),\n",
       " (16508, 1483, 'U'),\n",
       " (38793, 5260, 'U'),\n",
       " (28566, 1317, 'U'),\n",
       " (9044, 1582, 'U'),\n",
       " (35086, 664, 'U'),\n",
       " (30918, 1350, 'U'),\n",
       " (38793, 1214, 'U'),\n",
       " (33309, 529, 'U'),\n",
       " (26779, 2335, 'U'),\n",
       " (33001, 2446, 'U'),\n",
       " (7550, 470, 'U'),\n",
       " (46793, 2761, 'U'),\n",
       " (42149, 1955, 'U'),\n",
       " (39563, 1446, 'U'),\n",
       " (9592, 73, 'U'),\n",
       " (23668, 326, 'U'),\n",
       " (46569, 530, 'U'),\n",
       " (16176, 182, 'U'),\n",
       " (44335, 4118, 'U'),\n",
       " (13549, 551, 'U'),\n",
       " (46601, 12912, 'U'),\n",
       " (37269, 809, 'U'),\n",
       " (6434, 2575, 'U'),\n",
       " (7315, 136, 'U'),\n",
       " (41092, 798, 'U'),\n",
       " (6888, 1462, 'U'),\n",
       " (33746, 236, 'U'),\n",
       " (38566, 2037, 'U'),\n",
       " (7550, 616, 'U'),\n",
       " (12494, 2543, 'U'),\n",
       " (35737, 1003, 'U'),\n",
       " (3032, 1299, 'U'),\n",
       " (14098, 3371, 'U'),\n",
       " (7602, 267, 'U'),\n",
       " (8573, 1244, 'U'),\n",
       " (28924, 203, 'U'),\n",
       " (46751, 2002, 'U'),\n",
       " (44059, 2897, 'U'),\n",
       " (14102, 486, 'U'),\n",
       " (19643, 338, 'U'),\n",
       " (10795, 139, 'U'),\n",
       " (36423, 934, 'U'),\n",
       " (16367, 611, 'U'),\n",
       " (10509, 202, 'U'),\n",
       " (12300, 892, 'U'),\n",
       " (37359, 60, 'U'),\n",
       " (30905, 656, 'U'),\n",
       " (46807, 2233, 'U'),\n",
       " (36601, 1898, 'U'),\n",
       " (43647, 566, 'U'),\n",
       " (9293, 638, 'U'),\n",
       " (32537, 1649, 'U'),\n",
       " (42265, 348, 'U'),\n",
       " (10565, 331, 'U'),\n",
       " (8888, 3215, 'U'),\n",
       " (42978, 587, 'U'),\n",
       " (40261, 764, 'U'),\n",
       " (38256, 6859, 'U'),\n",
       " (16207, 1472, 'U'),\n",
       " (12751, 191, 'U'),\n",
       " (32770, 240, 'U'),\n",
       " (2890, 206, 'U'),\n",
       " (41917, 1496, 'U'),\n",
       " (46117, 773, 'U'),\n",
       " (23150, 1801, 'U'),\n",
       " (21539, 332, 'U'),\n",
       " (38295, 3789, 'U'),\n",
       " (38940, 660, 'U'),\n",
       " (28977, 1531, 'U'),\n",
       " (30901, 1349, 'U'),\n",
       " (17228, 1487, 'U'),\n",
       " (8586, 1599, 'U'),\n",
       " (41792, 1039, 'U'),\n",
       " (3908, 1426, 'U'),\n",
       " (6348, 1921, 'U'),\n",
       " (40330, 1280, 'U'),\n",
       " (42529, 1417, 'U'),\n",
       " (11092, 829, 'U'),\n",
       " (5474, 1490, 'U'),\n",
       " (11625, 1971, 'U'),\n",
       " (26155, 1159, 'U'),\n",
       " (42813, 94, 'U'),\n",
       " (31936, 1712, 'U'),\n",
       " (27693, 1550, 'U'),\n",
       " (45040, 256, 'U'),\n",
       " (42978, 616, 'U'),\n",
       " (42932, 664, 'U'),\n",
       " (17636, 228, 'U'),\n",
       " (44708, 1231, 'U'),\n",
       " (19259, 462, 'U'),\n",
       " (8715, 1192, 'U'),\n",
       " (38820, 1782, 'U'),\n",
       " (2102, 674, 'U'),\n",
       " (43161, 1045, 'U'),\n",
       " (31174, 770, 'U'),\n",
       " (4560, 103, 'U'),\n",
       " (27693, 662, 'U'),\n",
       " (14198, 1035, 'U'),\n",
       " (6734, 1895, 'U'),\n",
       " (11873, 2043, 'U'),\n",
       " (8117, 450, 'U'),\n",
       " (41416, 657, 'U'),\n",
       " (43300, 1775, 'U'),\n",
       " (38719, 552, 'U'),\n",
       " (3788, 1728, 'U'),\n",
       " (8308, 322, 'U'),\n",
       " (30602, 1193, 'U'),\n",
       " (12016, 944, 'U'),\n",
       " (9708, 330, 'U'),\n",
       " (31334, 1191, 'U'),\n",
       " (14560, 604, 'U'),\n",
       " (35688, 1432, 'U'),\n",
       " (27118, 451, 'U'),\n",
       " (44913, 1358, 'U'),\n",
       " (38408, 1086, 'U'),\n",
       " (38844, 1440, 'U'),\n",
       " (42903, 1257, 'U'),\n",
       " (31778, 5226, 'U'),\n",
       " (38494, 1735, 'U'),\n",
       " (34465, 2214, 'U'),\n",
       " (9756, 2092, 'U'),\n",
       " (40962, 165, 'U'),\n",
       " (21910, 2994, 'U'),\n",
       " (31191, 379, 'U'),\n",
       " (10961, 1995, 'U'),\n",
       " (39907, 864, 'U'),\n",
       " (42989, 382, 'U'),\n",
       " (20408, 1395, 'U'),\n",
       " (42404, 1152, 'U'),\n",
       " (18076, 1540, 'U'),\n",
       " (30630, 2224, 'U'),\n",
       " (16687, 1163, 'U'),\n",
       " (42978, 112, 'U'),\n",
       " (38169, 697, 'U'),\n",
       " (12764, 479, 'U'),\n",
       " (46601, 4413, 'U'),\n",
       " (31401, 631, 'U'),\n",
       " (38359, 2380, 'U'),\n",
       " (13115, 1302, 'U'),\n",
       " (27753, 644, 'U'),\n",
       " (32055, 404, 'U'),\n",
       " (14098, 9184, 'U'),\n",
       " (46790, 2573, 'U'),\n",
       " (42365, 1165, 'U'),\n",
       " (12188, 1010, 'U'),\n",
       " (42173, 943, 'U'),\n",
       " (45379, 173, 'U'),\n",
       " (16853, 1718, 'U'),\n",
       " (38167, 1496, 'U'),\n",
       " (27193, 3646, 'U'),\n",
       " (42593, 372, 'U'),\n",
       " (26646, 1107, 'U'),\n",
       " (6042, 888, 'U'),\n",
       " (26797, 938, 'U'),\n",
       " (38292, 1693, 'U'),\n",
       " (7154, 823, 'U'),\n",
       " (39981, 759, 'U'),\n",
       " (15755, 41, 'U'),\n",
       " (14850, 1041, 'U'),\n",
       " (40483, 545, 'E'),\n",
       " (7254, 492, 'E'),\n",
       " (12958, 1009, 'E'),\n",
       " (38967, 2318, 'E'),\n",
       " (44383, 1538, 'E'),\n",
       " (44078, 2648, 'E'),\n",
       " (17167, 1676, 'E'),\n",
       " (41726, 550, 'E'),\n",
       " (28592, 161, 'E'),\n",
       " (2609, 1545, 'E'),\n",
       " (32725, 166, 'E'),\n",
       " (40552, 1147, 'E'),\n",
       " (30742, 2157, 'F'),\n",
       " (42907, 996, 'F'),\n",
       " (16515, 734, 'F'),\n",
       " (9137, 255, 'F'),\n",
       " (14825, 1866, 'F'),\n",
       " (32283, 1303, 'F'),\n",
       " (19966, 565, 'F'),\n",
       " (46388, 1467, 'F'),\n",
       " (7526, 663, 'F'),\n",
       " (36037, 310, 'F'),\n",
       " (35881, 662, 'F'),\n",
       " (40584, 192, 'F'),\n",
       " (26134, 36, 'F'),\n",
       " (44773, 1376, 'F'),\n",
       " (45681, 898, 'F'),\n",
       " (6536, 3288, 'F'),\n",
       " (12482, 1803, 'F'),\n",
       " (46350, 1863, 'F'),\n",
       " (42821, 792, 'F'),\n",
       " (43009, 1716, 'F'),\n",
       " (18248, 505, 'F'),\n",
       " (38566, 319, 'F'),\n",
       " (10875, 301, 'F'),\n",
       " (41374, 1681, 'F'),\n",
       " (46434, 412, 'F'),\n",
       " (36637, 328, 'F'),\n",
       " (6842, 1179, 'F'),\n",
       " (7620, 1296, 'F'),\n",
       " (41665, 2521, 'F'),\n",
       " (41507, 609, 'F'),\n",
       " (21682, 1422, 'F'),\n",
       " (7286, 172, 'F'),\n",
       " (26852, 826, 'F'),\n",
       " (44150, 1001, 'F'),\n",
       " (46560, 1247, 'F'),\n",
       " (14122, 2015, 'F'),\n",
       " (4310, 2026, 'F'),\n",
       " (24501, 2726, 'F'),\n",
       " (1759, 1464, 'F'),\n",
       " (6165, 1204, 'F'),\n",
       " (26660, 234, 'F'),\n",
       " (35730, 1462, 'F'),\n",
       " (36559, 316, 'F'),\n",
       " (16123, 340, 'F'),\n",
       " (30673, 580, 'F'),\n",
       " (35357, 717, 'F'),\n",
       " (44707, 2065, 'F'),\n",
       " (16652, 1328, 'F'),\n",
       " (23838, 1437, 'F'),\n",
       " (36746, 1220, 'F'),\n",
       " (43151, 914, 'F'),\n",
       " (28469, 462, 'F'),\n",
       " (15375, 1665, 'F'),\n",
       " (45079, 1563, 'F'),\n",
       " (32164, 1699, 'F'),\n",
       " (7835, 1321, 'F'),\n",
       " (38925, 1691, 'F'),\n",
       " (43066, 69, 'F'),\n",
       " (40877, 434, 'F'),\n",
       " (2173, 1887, 'F'),\n",
       " (46089, 1956, 'F'),\n",
       " (45156, 1277, 'F'),\n",
       " (35374, 1179, 'F'),\n",
       " (35287, 439, 'F'),\n",
       " (34385, 912, 'F'),\n",
       " (32726, 715, 'F'),\n",
       " (44732, 1847, 'F'),\n",
       " (7130, 325, 'F'),\n",
       " (40489, 1306, 'F'),\n",
       " (36019, 666, 'F'),\n",
       " (40844, 1225, 'F'),\n",
       " (1607, 394, 'F'),\n",
       " (26916, 1576, 'F'),\n",
       " (17474, 1020, 'F'),\n",
       " (41054, 804, 'F'),\n",
       " (42308, 45, 'F'),\n",
       " (28502, 457, 'F'),\n",
       " (25790, 1416, 'F'),\n",
       " (41910, 1080, 'F'),\n",
       " (41113, 1512, 'F'),\n",
       " (26237, 956, 'F'),\n",
       " (23124, 2052, 'F'),\n",
       " (13130, 1219, 'F'),\n",
       " (7615, 1349, 'F'),\n",
       " (24329, 250, 'F'),\n",
       " (12100, 1906, 'F'),\n",
       " (41149, 76, 'F'),\n",
       " (28335, 2526, 'F'),\n",
       " (16609, 1644, 'F'),\n",
       " (25405, 1546, 'F'),\n",
       " (13853, 1196, 'F'),\n",
       " (44006, 1532, 'F'),\n",
       " (8915, 12051, 'F'),\n",
       " (21900, 3384, 'F'),\n",
       " (42577, 1455, 'F'),\n",
       " (7795, 3735, 'F'),\n",
       " (18620, 1646, 'F'),\n",
       " (38081, 184, 'F'),\n",
       " (44818, 1234, 'F'),\n",
       " (17102, 777, 'F'),\n",
       " (16848, 771, 'F'),\n",
       " (40876, 867, 'F'),\n",
       " (18029, 929, 'F'),\n",
       " (35166, 1396, 'F'),\n",
       " (24432, 2017, 'F'),\n",
       " (42559, 893, 'F'),\n",
       " (14446, 202, 'F'),\n",
       " (38325, 199, 'F'),\n",
       " (12068, 1226, 'F'),\n",
       " (43215, 704, 'F'),\n",
       " (43397, 3875, 'F'),\n",
       " (9445, 1034, 'F'),\n",
       " (12484, 1902, 'F'),\n",
       " (25210, 1974, 'F'),\n",
       " (29103, 718, 'F'),\n",
       " (35158, 1699, 'F'),\n",
       " (32633, 111, 'F'),\n",
       " (36602, 581, 'F'),\n",
       " (27152, 1284, 'F'),\n",
       " (15755, 821, 'F'),\n",
       " (41197, 297, 'F'),\n",
       " (11526, 2589, 'F'),\n",
       " (26434, 1074, 'F'),\n",
       " (28248, 2009, 'F'),\n",
       " (13500, 1284, 'F'),\n",
       " (36612, 162, 'F'),\n",
       " (14335, 187, 'F'),\n",
       " (18674, 766, 'F'),\n",
       " (31174, 752, 'F'),\n",
       " (25603, 415, 'F'),\n",
       " (44769, 893, 'F'),\n",
       " (35707, 1215, 'F'),\n",
       " (28425, 71, 'F'),\n",
       " (38715, 3766, 'F'),\n",
       " (45376, 1710, 'F'),\n",
       " (13691, 32, 'F'),\n",
       " (41588, 1036, 'F'),\n",
       " (16686, 2008, 'F'),\n",
       " (44240, 2509, 'F'),\n",
       " (11451, 434, 'F'),\n",
       " (16955, 1391, 'F'),\n",
       " (12300, 1014, 'F'),\n",
       " (16654, 473, 'F'),\n",
       " (9001, 3479, 'F'),\n",
       " (10725, 1284, 'F'),\n",
       " (34426, 2484, 'F'),\n",
       " (43449, 1132, 'F'),\n",
       " (24999, 281, 'F'),\n",
       " (46767, 1475, 'F'),\n",
       " (44006, 1507, 'F'),\n",
       " (30558, 445, 'F'),\n",
       " (22372, 1772, 'F'),\n",
       " (13124, 1559, 'F'),\n",
       " (30730, 86, 'F'),\n",
       " (1937, 2808, 'F'),\n",
       " (8833, 1007, 'F'),\n",
       " (25287, 816, 'F'),\n",
       " (35213, 1309, 'F'),\n",
       " (36834, 1297, 'F'),\n",
       " (44226, 670, 'F'),\n",
       " (8830, 463, 'F'),\n",
       " (37332, 822, 'F'),\n",
       " (44226, 937, 'F'),\n",
       " (44021, 1939, 'F'),\n",
       " (40996, 363, 'F'),\n",
       " (11946, 883, 'F'),\n",
       " (27176, 556, 'F'),\n",
       " (40372, 222, 'F'),\n",
       " (3859, 647, 'F'),\n",
       " (23944, 124, 'F'),\n",
       " (46423, 275, 'F'),\n",
       " (38896, 1058, 'F'),\n",
       " (40324, 607, 'F'),\n",
       " (44722, 797, 'F'),\n",
       " (9722, 1295, 'F'),\n",
       " (37284, 518, 'F'),\n",
       " (10545, 327, 'F'),\n",
       " (9023, 1481, 'F'),\n",
       " (33950, 209, 'F'),\n",
       " (44414, 1038, 'F'),\n",
       " (45814, 900, 'F'),\n",
       " (42141, 732, 'F'),\n",
       " (28503, 1233, 'F'),\n",
       " (18589, 689, 'F'),\n",
       " (6513, 307, 'F'),\n",
       " (29538, 1150, 'F'),\n",
       " (42924, 119, 'F'),\n",
       " (35994, 422, 'F'),\n",
       " (23330, 704, 'F'),\n",
       " (11095, 687, 'F'),\n",
       " (46029, 613, 'F'),\n",
       " (20600, 899, 'F'),\n",
       " (35632, 1103, 'F'),\n",
       " (39416, 940, 'F'),\n",
       " (24156, 958, 'F'),\n",
       " (34413, 366, 'F'),\n",
       " (46035, 2686, 'F'),\n",
       " (18915, 505, 'F'),\n",
       " (45705, 1131, 'F'),\n",
       " (34272, 580, 'F'),\n",
       " (16603, 421, 'F'),\n",
       " (41957, 724, 'F'),\n",
       " (7521, 939, 'F'),\n",
       " ...]"
      ]
     },
     "execution_count": 16,
     "metadata": {},
     "output_type": "execute_result"
    }
   ],
   "source": [
    "missing_sample"
   ]
  },
  {
   "cell_type": "code",
   "execution_count": 17,
   "id": "d6c53ff0",
   "metadata": {},
   "outputs": [],
   "source": [
    "conn = sqlite3.connect('/Users/cm/GFCAT/catalog_old.db')\n",
    "c = conn.cursor()"
   ]
  },
  {
   "cell_type": "code",
   "execution_count": 19,
   "id": "4eb4823b",
   "metadata": {
    "scrolled": true
   },
   "outputs": [
    {
     "data": {
      "text/html": [
       "<pre style=\"white-space:pre;overflow-x:auto;line-height:normal;font-family:Menlo,'DejaVu Sans Mono',consolas,'Courier New',monospace\"><span style=\"color: #008080; text-decoration-color: #008080; font-weight: bold\">17928</span>,<span style=\"color: #008080; text-decoration-color: #008080; font-weight: bold\">259.9548606227927</span>,<span style=\"color: #008080; text-decoration-color: #008080; font-weight: bold\">60.78525520128241</span>,U\n",
       "</pre>\n"
      ],
      "text/plain": [
       "\u001b[1;36m17928\u001b[0m,\u001b[1;36m259.9548606227927\u001b[0m,\u001b[1;36m60.78525520128241\u001b[0m,U\n"
      ]
     },
     "metadata": {},
     "output_type": "display_data"
    },
    {
     "data": {
      "text/html": [
       "<pre style=\"white-space:pre;overflow-x:auto;line-height:normal;font-family:Menlo,'DejaVu Sans Mono',consolas,'Courier New',monospace\"><span style=\"color: #008080; text-decoration-color: #008080; font-weight: bold\">6074</span>,<span style=\"color: #008080; text-decoration-color: #008080; font-weight: bold\">217.58727136661344</span>,<span style=\"color: #008080; text-decoration-color: #008080; font-weight: bold\">35.52239500924196</span>,U\n",
       "</pre>\n"
      ],
      "text/plain": [
       "\u001b[1;36m6074\u001b[0m,\u001b[1;36m217.58727136661344\u001b[0m,\u001b[1;36m35.52239500924196\u001b[0m,U\n"
      ]
     },
     "metadata": {},
     "output_type": "display_data"
    },
    {
     "data": {
      "text/html": [
       "<pre style=\"white-space:pre;overflow-x:auto;line-height:normal;font-family:Menlo,'DejaVu Sans Mono',consolas,'Courier New',monospace\"><span style=\"color: #008080; text-decoration-color: #008080; font-weight: bold\">23493</span>,<span style=\"color: #008080; text-decoration-color: #008080; font-weight: bold\">6.949013259982467</span>,<span style=\"color: #008080; text-decoration-color: #008080; font-weight: bold\">0.0015033276630685</span>,U\n",
       "</pre>\n"
      ],
      "text/plain": [
       "\u001b[1;36m23493\u001b[0m,\u001b[1;36m6.949013259982467\u001b[0m,\u001b[1;36m0.0015033276630685\u001b[0m,U\n"
      ]
     },
     "metadata": {},
     "output_type": "display_data"
    },
    {
     "data": {
      "text/html": [
       "<pre style=\"white-space:pre;overflow-x:auto;line-height:normal;font-family:Menlo,'DejaVu Sans Mono',consolas,'Courier New',monospace\"><span style=\"color: #008080; text-decoration-color: #008080; font-weight: bold\">40276</span>,<span style=\"color: #008080; text-decoration-color: #008080; font-weight: bold\">31.208466084678623</span>,<span style=\"color: #008080; text-decoration-color: #008080; font-weight: bold\">-4.441282806410497</span>,U\n",
       "</pre>\n"
      ],
      "text/plain": [
       "\u001b[1;36m40276\u001b[0m,\u001b[1;36m31.208466084678623\u001b[0m,\u001b[1;36m-4.441282806410497\u001b[0m,U\n"
      ]
     },
     "metadata": {},
     "output_type": "display_data"
    },
    {
     "data": {
      "text/html": [
       "<pre style=\"white-space:pre;overflow-x:auto;line-height:normal;font-family:Menlo,'DejaVu Sans Mono',consolas,'Courier New',monospace\"><span style=\"color: #008080; text-decoration-color: #008080; font-weight: bold\">16263</span>,<span style=\"color: #008080; text-decoration-color: #008080; font-weight: bold\">218.5062465089261</span>,<span style=\"color: #008080; text-decoration-color: #008080; font-weight: bold\">33.855922213547586</span>,U\n",
       "</pre>\n"
      ],
      "text/plain": [
       "\u001b[1;36m16263\u001b[0m,\u001b[1;36m218.5062465089261\u001b[0m,\u001b[1;36m33.855922213547586\u001b[0m,U\n"
      ]
     },
     "metadata": {},
     "output_type": "display_data"
    },
    {
     "data": {
      "text/html": [
       "<pre style=\"white-space:pre;overflow-x:auto;line-height:normal;font-family:Menlo,'DejaVu Sans Mono',consolas,'Courier New',monospace\"><span style=\"color: #008080; text-decoration-color: #008080; font-weight: bold\">46662</span>,<span style=\"color: #008080; text-decoration-color: #008080; font-weight: bold\">128.8958254697485</span>,<span style=\"color: #008080; text-decoration-color: #008080; font-weight: bold\">-20.913239915554414</span>,U\n",
       "</pre>\n"
      ],
      "text/plain": [
       "\u001b[1;36m46662\u001b[0m,\u001b[1;36m128.8958254697485\u001b[0m,\u001b[1;36m-20.913239915554414\u001b[0m,U\n"
      ]
     },
     "metadata": {},
     "output_type": "display_data"
    },
    {
     "data": {
      "text/html": [
       "<pre style=\"white-space:pre;overflow-x:auto;line-height:normal;font-family:Menlo,'DejaVu Sans Mono',consolas,'Courier New',monospace\"><span style=\"color: #008080; text-decoration-color: #008080; font-weight: bold\">9085</span>,<span style=\"color: #008080; text-decoration-color: #008080; font-weight: bold\">127.09877950995008</span>,<span style=\"color: #008080; text-decoration-color: #008080; font-weight: bold\">47.00009573101372</span>,U\n",
       "</pre>\n"
      ],
      "text/plain": [
       "\u001b[1;36m9085\u001b[0m,\u001b[1;36m127.09877950995008\u001b[0m,\u001b[1;36m47.00009573101372\u001b[0m,U\n"
      ]
     },
     "metadata": {},
     "output_type": "display_data"
    },
    {
     "data": {
      "text/html": [
       "<pre style=\"white-space:pre;overflow-x:auto;line-height:normal;font-family:Menlo,'DejaVu Sans Mono',consolas,'Courier New',monospace\"><span style=\"color: #008080; text-decoration-color: #008080; font-weight: bold\">34249</span>,<span style=\"color: #008080; text-decoration-color: #008080; font-weight: bold\">331.30263734862046</span>,<span style=\"color: #008080; text-decoration-color: #008080; font-weight: bold\">1.6097149665287884</span>,U\n",
       "</pre>\n"
      ],
      "text/plain": [
       "\u001b[1;36m34249\u001b[0m,\u001b[1;36m331.30263734862046\u001b[0m,\u001b[1;36m1.6097149665287884\u001b[0m,U\n"
      ]
     },
     "metadata": {},
     "output_type": "display_data"
    },
    {
     "data": {
      "text/html": [
       "<pre style=\"white-space:pre;overflow-x:auto;line-height:normal;font-family:Menlo,'DejaVu Sans Mono',consolas,'Courier New',monospace\"><span style=\"color: #008080; text-decoration-color: #008080; font-weight: bold\">41125</span>,<span style=\"color: #008080; text-decoration-color: #008080; font-weight: bold\">251.76737441108517</span>,<span style=\"color: #008080; text-decoration-color: #008080; font-weight: bold\">81.3158353320057</span>,U\n",
       "</pre>\n"
      ],
      "text/plain": [
       "\u001b[1;36m41125\u001b[0m,\u001b[1;36m251.76737441108517\u001b[0m,\u001b[1;36m81.3158353320057\u001b[0m,U\n"
      ]
     },
     "metadata": {},
     "output_type": "display_data"
    },
    {
     "data": {
      "text/html": [
       "<pre style=\"white-space:pre;overflow-x:auto;line-height:normal;font-family:Menlo,'DejaVu Sans Mono',consolas,'Courier New',monospace\"><span style=\"color: #008080; text-decoration-color: #008080; font-weight: bold\">26770</span>,<span style=\"color: #008080; text-decoration-color: #008080; font-weight: bold\">187.22258625165503</span>,<span style=\"color: #008080; text-decoration-color: #008080; font-weight: bold\">1.1449011648704264</span>,U\n",
       "</pre>\n"
      ],
      "text/plain": [
       "\u001b[1;36m26770\u001b[0m,\u001b[1;36m187.22258625165503\u001b[0m,\u001b[1;36m1.1449011648704264\u001b[0m,U\n"
      ]
     },
     "metadata": {},
     "output_type": "display_data"
    },
    {
     "data": {
      "text/html": [
       "<pre style=\"white-space:pre;overflow-x:auto;line-height:normal;font-family:Menlo,'DejaVu Sans Mono',consolas,'Courier New',monospace\"><span style=\"color: #008080; text-decoration-color: #008080; font-weight: bold\">36108</span>,<span style=\"color: #008080; text-decoration-color: #008080; font-weight: bold\">132.3190016740403</span>,<span style=\"color: #008080; text-decoration-color: #008080; font-weight: bold\">-7.106904669877434</span>,U\n",
       "</pre>\n"
      ],
      "text/plain": [
       "\u001b[1;36m36108\u001b[0m,\u001b[1;36m132.3190016740403\u001b[0m,\u001b[1;36m-7.106904669877434\u001b[0m,U\n"
      ]
     },
     "metadata": {},
     "output_type": "display_data"
    },
    {
     "data": {
      "text/html": [
       "<pre style=\"white-space:pre;overflow-x:auto;line-height:normal;font-family:Menlo,'DejaVu Sans Mono',consolas,'Courier New',monospace\"><span style=\"color: #008080; text-decoration-color: #008080; font-weight: bold\">16530</span>,<span style=\"color: #008080; text-decoration-color: #008080; font-weight: bold\">216.1298727448656</span>,<span style=\"color: #008080; text-decoration-color: #008080; font-weight: bold\">33.7203986935811</span>,U\n",
       "</pre>\n"
      ],
      "text/plain": [
       "\u001b[1;36m16530\u001b[0m,\u001b[1;36m216.1298727448656\u001b[0m,\u001b[1;36m33.7203986935811\u001b[0m,U\n"
      ]
     },
     "metadata": {},
     "output_type": "display_data"
    },
    {
     "data": {
      "text/html": [
       "<pre style=\"white-space:pre;overflow-x:auto;line-height:normal;font-family:Menlo,'DejaVu Sans Mono',consolas,'Courier New',monospace\"><span style=\"color: #008080; text-decoration-color: #008080; font-weight: bold\">9204</span>,<span style=\"color: #008080; text-decoration-color: #008080; font-weight: bold\">140.69216285472777</span>,<span style=\"color: #008080; text-decoration-color: #008080; font-weight: bold\">70.20749498251092</span>,U\n",
       "</pre>\n"
      ],
      "text/plain": [
       "\u001b[1;36m9204\u001b[0m,\u001b[1;36m140.69216285472777\u001b[0m,\u001b[1;36m70.20749498251092\u001b[0m,U\n"
      ]
     },
     "metadata": {},
     "output_type": "display_data"
    },
    {
     "data": {
      "text/html": [
       "<pre style=\"white-space:pre;overflow-x:auto;line-height:normal;font-family:Menlo,'DejaVu Sans Mono',consolas,'Courier New',monospace\"><span style=\"color: #008080; text-decoration-color: #008080; font-weight: bold\">16642</span>,<span style=\"color: #008080; text-decoration-color: #008080; font-weight: bold\">258.3315001311768</span>,<span style=\"color: #008080; text-decoration-color: #008080; font-weight: bold\">60.43404521307353</span>,U\n",
       "</pre>\n"
      ],
      "text/plain": [
       "\u001b[1;36m16642\u001b[0m,\u001b[1;36m258.3315001311768\u001b[0m,\u001b[1;36m60.43404521307353\u001b[0m,U\n"
      ]
     },
     "metadata": {},
     "output_type": "display_data"
    },
    {
     "data": {
      "text/html": [
       "<pre style=\"white-space:pre;overflow-x:auto;line-height:normal;font-family:Menlo,'DejaVu Sans Mono',consolas,'Courier New',monospace\"><span style=\"color: #008080; text-decoration-color: #008080; font-weight: bold\">8201</span>,<span style=\"color: #008080; text-decoration-color: #008080; font-weight: bold\">20.407236996712367</span>,<span style=\"color: #008080; text-decoration-color: #008080; font-weight: bold\">12.512894629384318</span>,U\n",
       "</pre>\n"
      ],
      "text/plain": [
       "\u001b[1;36m8201\u001b[0m,\u001b[1;36m20.407236996712367\u001b[0m,\u001b[1;36m12.512894629384318\u001b[0m,U\n"
      ]
     },
     "metadata": {},
     "output_type": "display_data"
    },
    {
     "data": {
      "text/html": [
       "<pre style=\"white-space:pre;overflow-x:auto;line-height:normal;font-family:Menlo,'DejaVu Sans Mono',consolas,'Courier New',monospace\"><span style=\"color: #008080; text-decoration-color: #008080; font-weight: bold\">44354</span>,<span style=\"color: #008080; text-decoration-color: #008080; font-weight: bold\">289.78497806718553</span>,<span style=\"color: #008080; text-decoration-color: #008080; font-weight: bold\">-29.1808543794336</span>,U\n",
       "</pre>\n"
      ],
      "text/plain": [
       "\u001b[1;36m44354\u001b[0m,\u001b[1;36m289.78497806718553\u001b[0m,\u001b[1;36m-29.1808543794336\u001b[0m,U\n"
      ]
     },
     "metadata": {},
     "output_type": "display_data"
    },
    {
     "data": {
      "text/html": [
       "<pre style=\"white-space:pre;overflow-x:auto;line-height:normal;font-family:Menlo,'DejaVu Sans Mono',consolas,'Courier New',monospace\"><span style=\"color: #008080; text-decoration-color: #008080; font-weight: bold\">35532</span>,<span style=\"color: #008080; text-decoration-color: #008080; font-weight: bold\">53.50302316117209</span>,<span style=\"color: #008080; text-decoration-color: #008080; font-weight: bold\">-28.10448114974166</span>,U\n",
       "</pre>\n"
      ],
      "text/plain": [
       "\u001b[1;36m35532\u001b[0m,\u001b[1;36m53.50302316117209\u001b[0m,\u001b[1;36m-28.10448114974166\u001b[0m,U\n"
      ]
     },
     "metadata": {},
     "output_type": "display_data"
    },
    {
     "data": {
      "text/html": [
       "<pre style=\"white-space:pre;overflow-x:auto;line-height:normal;font-family:Menlo,'DejaVu Sans Mono',consolas,'Courier New',monospace\"><span style=\"color: #008080; text-decoration-color: #008080; font-weight: bold\">19643</span>,<span style=\"color: #008080; text-decoration-color: #008080; font-weight: bold\">146.8441417153111</span>,<span style=\"color: #008080; text-decoration-color: #008080; font-weight: bold\">60.09068069380143</span>,U\n",
       "</pre>\n"
      ],
      "text/plain": [
       "\u001b[1;36m19643\u001b[0m,\u001b[1;36m146.8441417153111\u001b[0m,\u001b[1;36m60.09068069380143\u001b[0m,U\n"
      ]
     },
     "metadata": {},
     "output_type": "display_data"
    },
    {
     "data": {
      "text/html": [
       "<pre style=\"white-space:pre;overflow-x:auto;line-height:normal;font-family:Menlo,'DejaVu Sans Mono',consolas,'Courier New',monospace\"><span style=\"color: #008080; text-decoration-color: #008080; font-weight: bold\">45588</span>,<span style=\"color: #008080; text-decoration-color: #008080; font-weight: bold\">60.37487300305004</span>,<span style=\"color: #008080; text-decoration-color: #008080; font-weight: bold\">-2.6454041037424485</span>,U\n",
       "</pre>\n"
      ],
      "text/plain": [
       "\u001b[1;36m45588\u001b[0m,\u001b[1;36m60.37487300305004\u001b[0m,\u001b[1;36m-2.6454041037424485\u001b[0m,U\n"
      ]
     },
     "metadata": {},
     "output_type": "display_data"
    },
    {
     "data": {
      "text/html": [
       "<pre style=\"white-space:pre;overflow-x:auto;line-height:normal;font-family:Menlo,'DejaVu Sans Mono',consolas,'Courier New',monospace\"><span style=\"color: #008080; text-decoration-color: #008080; font-weight: bold\">46017</span>,<span style=\"color: #008080; text-decoration-color: #008080; font-weight: bold\">108.21585629968426</span>,<span style=\"color: #008080; text-decoration-color: #008080; font-weight: bold\">-52.75940458207536</span>,U\n",
       "</pre>\n"
      ],
      "text/plain": [
       "\u001b[1;36m46017\u001b[0m,\u001b[1;36m108.21585629968426\u001b[0m,\u001b[1;36m-52.75940458207536\u001b[0m,U\n"
      ]
     },
     "metadata": {},
     "output_type": "display_data"
    },
    {
     "data": {
      "text/html": [
       "<pre style=\"white-space:pre;overflow-x:auto;line-height:normal;font-family:Menlo,'DejaVu Sans Mono',consolas,'Courier New',monospace\"><span style=\"color: #008080; text-decoration-color: #008080; font-weight: bold\">46049</span>,<span style=\"color: #008080; text-decoration-color: #008080; font-weight: bold\">126.67211343760002</span>,<span style=\"color: #008080; text-decoration-color: #008080; font-weight: bold\">-11.717784878069258</span>,U\n",
       "</pre>\n"
      ],
      "text/plain": [
       "\u001b[1;36m46049\u001b[0m,\u001b[1;36m126.67211343760002\u001b[0m,\u001b[1;36m-11.717784878069258\u001b[0m,U\n"
      ]
     },
     "metadata": {},
     "output_type": "display_data"
    },
    {
     "data": {
      "text/html": [
       "<pre style=\"white-space:pre;overflow-x:auto;line-height:normal;font-family:Menlo,'DejaVu Sans Mono',consolas,'Courier New',monospace\"><span style=\"color: #008080; text-decoration-color: #008080; font-weight: bold\">16678</span>,<span style=\"color: #008080; text-decoration-color: #008080; font-weight: bold\">236.6550378844817</span>,<span style=\"color: #008080; text-decoration-color: #008080; font-weight: bold\">-12.927971134470592</span>,U\n",
       "</pre>\n"
      ],
      "text/plain": [
       "\u001b[1;36m16678\u001b[0m,\u001b[1;36m236.6550378844817\u001b[0m,\u001b[1;36m-12.927971134470592\u001b[0m,U\n"
      ]
     },
     "metadata": {},
     "output_type": "display_data"
    },
    {
     "data": {
      "text/html": [
       "<pre style=\"white-space:pre;overflow-x:auto;line-height:normal;font-family:Menlo,'DejaVu Sans Mono',consolas,'Courier New',monospace\"><span style=\"color: #008080; text-decoration-color: #008080; font-weight: bold\">46141</span>,<span style=\"color: #008080; text-decoration-color: #008080; font-weight: bold\">83.34860898675079</span>,<span style=\"color: #008080; text-decoration-color: #008080; font-weight: bold\">-26.140980082815226</span>,U\n",
       "</pre>\n"
      ],
      "text/plain": [
       "\u001b[1;36m46141\u001b[0m,\u001b[1;36m83.34860898675079\u001b[0m,\u001b[1;36m-26.140980082815226\u001b[0m,U\n"
      ]
     },
     "metadata": {},
     "output_type": "display_data"
    },
    {
     "data": {
      "text/html": [
       "<pre style=\"white-space:pre;overflow-x:auto;line-height:normal;font-family:Menlo,'DejaVu Sans Mono',consolas,'Courier New',monospace\"><span style=\"color: #008080; text-decoration-color: #008080; font-weight: bold\">41753</span>,<span style=\"color: #008080; text-decoration-color: #008080; font-weight: bold\">156.84965412148298</span>,<span style=\"color: #008080; text-decoration-color: #008080; font-weight: bold\">30.29420247807893</span>,U\n",
       "</pre>\n"
      ],
      "text/plain": [
       "\u001b[1;36m41753\u001b[0m,\u001b[1;36m156.84965412148298\u001b[0m,\u001b[1;36m30.29420247807893\u001b[0m,U\n"
      ]
     },
     "metadata": {},
     "output_type": "display_data"
    },
    {
     "data": {
      "text/html": [
       "<pre style=\"white-space:pre;overflow-x:auto;line-height:normal;font-family:Menlo,'DejaVu Sans Mono',consolas,'Courier New',monospace\"><span style=\"color: #008080; text-decoration-color: #008080; font-weight: bold\">1939</span>,<span style=\"color: #008080; text-decoration-color: #008080; font-weight: bold\">5.118525843165594</span>,<span style=\"color: #008080; text-decoration-color: #008080; font-weight: bold\">0.5196898085693427</span>,U\n",
       "</pre>\n"
      ],
      "text/plain": [
       "\u001b[1;36m1939\u001b[0m,\u001b[1;36m5.118525843165594\u001b[0m,\u001b[1;36m0.5196898085693427\u001b[0m,U\n"
      ]
     },
     "metadata": {},
     "output_type": "display_data"
    },
    {
     "data": {
      "text/html": [
       "<pre style=\"white-space:pre;overflow-x:auto;line-height:normal;font-family:Menlo,'DejaVu Sans Mono',consolas,'Courier New',monospace\"><span style=\"color: #008080; text-decoration-color: #008080; font-weight: bold\">34209</span>,<span style=\"color: #008080; text-decoration-color: #008080; font-weight: bold\">334.1079932722056</span>,<span style=\"color: #008080; text-decoration-color: #008080; font-weight: bold\">1.39471767029704</span>,U\n",
       "</pre>\n"
      ],
      "text/plain": [
       "\u001b[1;36m34209\u001b[0m,\u001b[1;36m334.1079932722056\u001b[0m,\u001b[1;36m1.39471767029704\u001b[0m,U\n"
      ]
     },
     "metadata": {},
     "output_type": "display_data"
    },
    {
     "data": {
      "text/html": [
       "<pre style=\"white-space:pre;overflow-x:auto;line-height:normal;font-family:Menlo,'DejaVu Sans Mono',consolas,'Courier New',monospace\"><span style=\"color: #008080; text-decoration-color: #008080; font-weight: bold\">44746</span>,<span style=\"color: #008080; text-decoration-color: #008080; font-weight: bold\">9.429939199742847</span>,<span style=\"color: #008080; text-decoration-color: #008080; font-weight: bold\">-26.56386573393801</span>,U\n",
       "</pre>\n"
      ],
      "text/plain": [
       "\u001b[1;36m44746\u001b[0m,\u001b[1;36m9.429939199742847\u001b[0m,\u001b[1;36m-26.56386573393801\u001b[0m,U\n"
      ]
     },
     "metadata": {},
     "output_type": "display_data"
    },
    {
     "data": {
      "text/html": [
       "<pre style=\"white-space:pre;overflow-x:auto;line-height:normal;font-family:Menlo,'DejaVu Sans Mono',consolas,'Courier New',monospace\"><span style=\"color: #008080; text-decoration-color: #008080; font-weight: bold\">9264</span>,<span style=\"color: #008080; text-decoration-color: #008080; font-weight: bold\">131.57889400924404</span>,<span style=\"color: #008080; text-decoration-color: #008080; font-weight: bold\">55.18679141277384</span>,U\n",
       "</pre>\n"
      ],
      "text/plain": [
       "\u001b[1;36m9264\u001b[0m,\u001b[1;36m131.57889400924404\u001b[0m,\u001b[1;36m55.18679141277384\u001b[0m,U\n"
      ]
     },
     "metadata": {},
     "output_type": "display_data"
    },
    {
     "data": {
      "text/html": [
       "<pre style=\"white-space:pre;overflow-x:auto;line-height:normal;font-family:Menlo,'DejaVu Sans Mono',consolas,'Courier New',monospace\"><span style=\"color: #008080; text-decoration-color: #008080; font-weight: bold\">46807</span>,<span style=\"color: #008080; text-decoration-color: #008080; font-weight: bold\">183.2477161718747</span>,<span style=\"color: #008080; text-decoration-color: #008080; font-weight: bold\">-27.50910157657359</span>,U\n",
       "</pre>\n"
      ],
      "text/plain": [
       "\u001b[1;36m46807\u001b[0m,\u001b[1;36m183.2477161718747\u001b[0m,\u001b[1;36m-27.50910157657359\u001b[0m,U\n"
      ]
     },
     "metadata": {},
     "output_type": "display_data"
    },
    {
     "data": {
      "text/html": [
       "<pre style=\"white-space:pre;overflow-x:auto;line-height:normal;font-family:Menlo,'DejaVu Sans Mono',consolas,'Courier New',monospace\"><span style=\"color: #008080; text-decoration-color: #008080; font-weight: bold\">41174</span>,<span style=\"color: #008080; text-decoration-color: #008080; font-weight: bold\">146.14069908939734</span>,<span style=\"color: #008080; text-decoration-color: #008080; font-weight: bold\">36.60387444264699</span>,U\n",
       "</pre>\n"
      ],
      "text/plain": [
       "\u001b[1;36m41174\u001b[0m,\u001b[1;36m146.14069908939734\u001b[0m,\u001b[1;36m36.60387444264699\u001b[0m,U\n"
      ]
     },
     "metadata": {},
     "output_type": "display_data"
    },
    {
     "data": {
      "text/html": [
       "<pre style=\"white-space:pre;overflow-x:auto;line-height:normal;font-family:Menlo,'DejaVu Sans Mono',consolas,'Courier New',monospace\"><span style=\"color: #008080; text-decoration-color: #008080; font-weight: bold\">41414</span>,<span style=\"color: #008080; text-decoration-color: #008080; font-weight: bold\">154.58073847757638</span>,<span style=\"color: #008080; text-decoration-color: #008080; font-weight: bold\">8.30264515508273</span>,U\n",
       "</pre>\n"
      ],
      "text/plain": [
       "\u001b[1;36m41414\u001b[0m,\u001b[1;36m154.58073847757638\u001b[0m,\u001b[1;36m8.30264515508273\u001b[0m,U\n"
      ]
     },
     "metadata": {},
     "output_type": "display_data"
    },
    {
     "data": {
      "text/html": [
       "<pre style=\"white-space:pre;overflow-x:auto;line-height:normal;font-family:Menlo,'DejaVu Sans Mono',consolas,'Courier New',monospace\"><span style=\"color: #008080; text-decoration-color: #008080; font-weight: bold\">44270</span>,<span style=\"color: #008080; text-decoration-color: #008080; font-weight: bold\">305.23216921577733</span>,<span style=\"color: #008080; text-decoration-color: #008080; font-weight: bold\">-18.89563535338283</span>,U\n",
       "</pre>\n"
      ],
      "text/plain": [
       "\u001b[1;36m44270\u001b[0m,\u001b[1;36m305.23216921577733\u001b[0m,\u001b[1;36m-18.89563535338283\u001b[0m,U\n"
      ]
     },
     "metadata": {},
     "output_type": "display_data"
    },
    {
     "data": {
      "text/html": [
       "<pre style=\"white-space:pre;overflow-x:auto;line-height:normal;font-family:Menlo,'DejaVu Sans Mono',consolas,'Courier New',monospace\"><span style=\"color: #008080; text-decoration-color: #008080; font-weight: bold\">28287</span>,<span style=\"color: #008080; text-decoration-color: #008080; font-weight: bold\">289.0040291037638</span>,<span style=\"color: #008080; text-decoration-color: #008080; font-weight: bold\">41.360969471473055</span>,U\n",
       "</pre>\n"
      ],
      "text/plain": [
       "\u001b[1;36m28287\u001b[0m,\u001b[1;36m289.0040291037638\u001b[0m,\u001b[1;36m41.360969471473055\u001b[0m,U\n"
      ]
     },
     "metadata": {},
     "output_type": "display_data"
    },
    {
     "data": {
      "text/html": [
       "<pre style=\"white-space:pre;overflow-x:auto;line-height:normal;font-family:Menlo,'DejaVu Sans Mono',consolas,'Courier New',monospace\"><span style=\"color: #008080; text-decoration-color: #008080; font-weight: bold\">16508</span>,<span style=\"color: #008080; text-decoration-color: #008080; font-weight: bold\">201.2861374307373</span>,<span style=\"color: #008080; text-decoration-color: #008080; font-weight: bold\">27.98210541669074</span>,U\n",
       "</pre>\n"
      ],
      "text/plain": [
       "\u001b[1;36m16508\u001b[0m,\u001b[1;36m201.2861374307373\u001b[0m,\u001b[1;36m27.98210541669074\u001b[0m,U\n"
      ]
     },
     "metadata": {},
     "output_type": "display_data"
    },
    {
     "data": {
      "text/html": [
       "<pre style=\"white-space:pre;overflow-x:auto;line-height:normal;font-family:Menlo,'DejaVu Sans Mono',consolas,'Courier New',monospace\"><span style=\"color: #008080; text-decoration-color: #008080; font-weight: bold\">46140</span>,<span style=\"color: #008080; text-decoration-color: #008080; font-weight: bold\">97.02074583732832</span>,<span style=\"color: #008080; text-decoration-color: #008080; font-weight: bold\">44.5650672431764</span>,U\n",
       "</pre>\n"
      ],
      "text/plain": [
       "\u001b[1;36m46140\u001b[0m,\u001b[1;36m97.02074583732832\u001b[0m,\u001b[1;36m44.5650672431764\u001b[0m,U\n"
      ]
     },
     "metadata": {},
     "output_type": "display_data"
    },
    {
     "data": {
      "text/html": [
       "<pre style=\"white-space:pre;overflow-x:auto;line-height:normal;font-family:Menlo,'DejaVu Sans Mono',consolas,'Courier New',monospace\"><span style=\"color: #008080; text-decoration-color: #008080; font-weight: bold\">46677</span>,<span style=\"color: #008080; text-decoration-color: #008080; font-weight: bold\">74.17225932340415</span>,<span style=\"color: #008080; text-decoration-color: #008080; font-weight: bold\">-54.79697699705024</span>,U\n",
       "</pre>\n"
      ],
      "text/plain": [
       "\u001b[1;36m46677\u001b[0m,\u001b[1;36m74.17225932340415\u001b[0m,\u001b[1;36m-54.79697699705024\u001b[0m,U\n"
      ]
     },
     "metadata": {},
     "output_type": "display_data"
    },
    {
     "data": {
      "text/html": [
       "<pre style=\"white-space:pre;overflow-x:auto;line-height:normal;font-family:Menlo,'DejaVu Sans Mono',consolas,'Courier New',monospace\"><span style=\"color: #008080; text-decoration-color: #008080; font-weight: bold\">44819</span>,<span style=\"color: #008080; text-decoration-color: #008080; font-weight: bold\">323.0613538726789</span>,<span style=\"color: #008080; text-decoration-color: #008080; font-weight: bold\">17.695123601771204</span>,U\n",
       "</pre>\n"
      ],
      "text/plain": [
       "\u001b[1;36m44819\u001b[0m,\u001b[1;36m323.0613538726789\u001b[0m,\u001b[1;36m17.695123601771204\u001b[0m,U\n"
      ]
     },
     "metadata": {},
     "output_type": "display_data"
    },
    {
     "data": {
      "text/html": [
       "<pre style=\"white-space:pre;overflow-x:auto;line-height:normal;font-family:Menlo,'DejaVu Sans Mono',consolas,'Courier New',monospace\"><span style=\"color: #008080; text-decoration-color: #008080; font-weight: bold\">16350</span>,<span style=\"color: #008080; text-decoration-color: #008080; font-weight: bold\">218.24664831838865</span>,<span style=\"color: #008080; text-decoration-color: #008080; font-weight: bold\">33.71661052390689</span>,U\n",
       "</pre>\n"
      ],
      "text/plain": [
       "\u001b[1;36m16350\u001b[0m,\u001b[1;36m218.24664831838865\u001b[0m,\u001b[1;36m33.71661052390689\u001b[0m,U\n"
      ]
     },
     "metadata": {},
     "output_type": "display_data"
    },
    {
     "data": {
      "text/html": [
       "<pre style=\"white-space:pre;overflow-x:auto;line-height:normal;font-family:Menlo,'DejaVu Sans Mono',consolas,'Courier New',monospace\"><span style=\"color: #008080; text-decoration-color: #008080; font-weight: bold\">33998</span>,<span style=\"color: #008080; text-decoration-color: #008080; font-weight: bold\">331.8192406192526</span>,<span style=\"color: #008080; text-decoration-color: #008080; font-weight: bold\">3.705666738954802</span>,U\n",
       "</pre>\n"
      ],
      "text/plain": [
       "\u001b[1;36m33998\u001b[0m,\u001b[1;36m331.8192406192526\u001b[0m,\u001b[1;36m3.705666738954802\u001b[0m,U\n"
      ]
     },
     "metadata": {},
     "output_type": "display_data"
    },
    {
     "data": {
      "text/html": [
       "<pre style=\"white-space:pre;overflow-x:auto;line-height:normal;font-family:Menlo,'DejaVu Sans Mono',consolas,'Courier New',monospace\"><span style=\"color: #008080; text-decoration-color: #008080; font-weight: bold\">35516</span>,<span style=\"color: #008080; text-decoration-color: #008080; font-weight: bold\">120.08065301121424</span>,<span style=\"color: #008080; text-decoration-color: #008080; font-weight: bold\">14.541203894587214</span>,U\n",
       "</pre>\n"
      ],
      "text/plain": [
       "\u001b[1;36m35516\u001b[0m,\u001b[1;36m120.08065301121424\u001b[0m,\u001b[1;36m14.541203894587214\u001b[0m,U\n"
      ]
     },
     "metadata": {},
     "output_type": "display_data"
    },
    {
     "data": {
      "text/html": [
       "<pre style=\"white-space:pre;overflow-x:auto;line-height:normal;font-family:Menlo,'DejaVu Sans Mono',consolas,'Courier New',monospace\"><span style=\"color: #008080; text-decoration-color: #008080; font-weight: bold\">40175</span>,<span style=\"color: #008080; text-decoration-color: #008080; font-weight: bold\">36.08009890564158</span>,<span style=\"color: #008080; text-decoration-color: #008080; font-weight: bold\">-5.011664604037849</span>,U\n",
       "</pre>\n"
      ],
      "text/plain": [
       "\u001b[1;36m40175\u001b[0m,\u001b[1;36m36.08009890564158\u001b[0m,\u001b[1;36m-5.011664604037849\u001b[0m,U\n"
      ]
     },
     "metadata": {},
     "output_type": "display_data"
    },
    {
     "data": {
      "text/html": [
       "<pre style=\"white-space:pre;overflow-x:auto;line-height:normal;font-family:Menlo,'DejaVu Sans Mono',consolas,'Courier New',monospace\"><span style=\"color: #008080; text-decoration-color: #008080; font-weight: bold\">16654</span>,<span style=\"color: #008080; text-decoration-color: #008080; font-weight: bold\">259.8829125793507</span>,<span style=\"color: #008080; text-decoration-color: #008080; font-weight: bold\">58.52972657400005</span>,U\n",
       "</pre>\n"
      ],
      "text/plain": [
       "\u001b[1;36m16654\u001b[0m,\u001b[1;36m259.8829125793507\u001b[0m,\u001b[1;36m58.52972657400005\u001b[0m,U\n"
      ]
     },
     "metadata": {},
     "output_type": "display_data"
    },
    {
     "data": {
      "text/html": [
       "<pre style=\"white-space:pre;overflow-x:auto;line-height:normal;font-family:Menlo,'DejaVu Sans Mono',consolas,'Courier New',monospace\"><span style=\"color: #008080; text-decoration-color: #008080; font-weight: bold\">35713</span>,<span style=\"color: #008080; text-decoration-color: #008080; font-weight: bold\">118.99712045257633</span>,<span style=\"color: #008080; text-decoration-color: #008080; font-weight: bold\">9.79778958388728</span>,U\n",
       "</pre>\n"
      ],
      "text/plain": [
       "\u001b[1;36m35713\u001b[0m,\u001b[1;36m118.99712045257633\u001b[0m,\u001b[1;36m9.79778958388728\u001b[0m,U\n"
      ]
     },
     "metadata": {},
     "output_type": "display_data"
    },
    {
     "data": {
      "text/html": [
       "<pre style=\"white-space:pre;overflow-x:auto;line-height:normal;font-family:Menlo,'DejaVu Sans Mono',consolas,'Courier New',monospace\"><span style=\"color: #008080; text-decoration-color: #008080; font-weight: bold\">40244</span>,<span style=\"color: #008080; text-decoration-color: #008080; font-weight: bold\">14.018258508585893</span>,<span style=\"color: #008080; text-decoration-color: #008080; font-weight: bold\">26.01058986415545</span>,U\n",
       "</pre>\n"
      ],
      "text/plain": [
       "\u001b[1;36m40244\u001b[0m,\u001b[1;36m14.018258508585893\u001b[0m,\u001b[1;36m26.01058986415545\u001b[0m,U\n"
      ]
     },
     "metadata": {},
     "output_type": "display_data"
    },
    {
     "data": {
      "text/html": [
       "<pre style=\"white-space:pre;overflow-x:auto;line-height:normal;font-family:Menlo,'DejaVu Sans Mono',consolas,'Courier New',monospace\"><span style=\"color: #008080; text-decoration-color: #008080; font-weight: bold\">46017</span>,<span style=\"color: #008080; text-decoration-color: #008080; font-weight: bold\">108.1645126984194</span>,<span style=\"color: #008080; text-decoration-color: #008080; font-weight: bold\">-52.64716332604204</span>,U\n",
       "</pre>\n"
      ],
      "text/plain": [
       "\u001b[1;36m46017\u001b[0m,\u001b[1;36m108.1645126984194\u001b[0m,\u001b[1;36m-52.64716332604204\u001b[0m,U\n"
      ]
     },
     "metadata": {},
     "output_type": "display_data"
    },
    {
     "data": {
      "text/html": [
       "<pre style=\"white-space:pre;overflow-x:auto;line-height:normal;font-family:Menlo,'DejaVu Sans Mono',consolas,'Courier New',monospace\"><span style=\"color: #008080; text-decoration-color: #008080; font-weight: bold\">8845</span>,<span style=\"color: #008080; text-decoration-color: #008080; font-weight: bold\">79.80117955174202</span>,<span style=\"color: #008080; text-decoration-color: #008080; font-weight: bold\">-31.68449478115914</span>,U\n",
       "</pre>\n"
      ],
      "text/plain": [
       "\u001b[1;36m8845\u001b[0m,\u001b[1;36m79.80117955174202\u001b[0m,\u001b[1;36m-31.68449478115914\u001b[0m,U\n"
      ]
     },
     "metadata": {},
     "output_type": "display_data"
    },
    {
     "data": {
      "text/html": [
       "<pre style=\"white-space:pre;overflow-x:auto;line-height:normal;font-family:Menlo,'DejaVu Sans Mono',consolas,'Courier New',monospace\"><span style=\"color: #008080; text-decoration-color: #008080; font-weight: bold\">10038</span>,<span style=\"color: #008080; text-decoration-color: #008080; font-weight: bold\">155.45796207164514</span>,<span style=\"color: #008080; text-decoration-color: #008080; font-weight: bold\">8.453043097931086</span>,U\n",
       "</pre>\n"
      ],
      "text/plain": [
       "\u001b[1;36m10038\u001b[0m,\u001b[1;36m155.45796207164514\u001b[0m,\u001b[1;36m8.453043097931086\u001b[0m,U\n"
      ]
     },
     "metadata": {},
     "output_type": "display_data"
    },
    {
     "data": {
      "text/html": [
       "<pre style=\"white-space:pre;overflow-x:auto;line-height:normal;font-family:Menlo,'DejaVu Sans Mono',consolas,'Courier New',monospace\"><span style=\"color: #008080; text-decoration-color: #008080; font-weight: bold\">26689</span>,<span style=\"color: #008080; text-decoration-color: #008080; font-weight: bold\">215.1688678516297</span>,<span style=\"color: #008080; text-decoration-color: #008080; font-weight: bold\">-26.81963793832925</span>,U\n",
       "</pre>\n"
      ],
      "text/plain": [
       "\u001b[1;36m26689\u001b[0m,\u001b[1;36m215.1688678516297\u001b[0m,\u001b[1;36m-26.81963793832925\u001b[0m,U\n"
      ]
     },
     "metadata": {},
     "output_type": "display_data"
    },
    {
     "data": {
      "text/html": [
       "<pre style=\"white-space:pre;overflow-x:auto;line-height:normal;font-family:Menlo,'DejaVu Sans Mono',consolas,'Courier New',monospace\"><span style=\"color: #008080; text-decoration-color: #008080; font-weight: bold\">41053</span>,<span style=\"color: #008080; text-decoration-color: #008080; font-weight: bold\">355.2055480217029</span>,<span style=\"color: #008080; text-decoration-color: #008080; font-weight: bold\">78.47929915303926</span>,U\n",
       "</pre>\n"
      ],
      "text/plain": [
       "\u001b[1;36m41053\u001b[0m,\u001b[1;36m355.2055480217029\u001b[0m,\u001b[1;36m78.47929915303926\u001b[0m,U\n"
      ]
     },
     "metadata": {},
     "output_type": "display_data"
    },
    {
     "data": {
      "text/html": [
       "<pre style=\"white-space:pre;overflow-x:auto;line-height:normal;font-family:Menlo,'DejaVu Sans Mono',consolas,'Courier New',monospace\"><span style=\"color: #008080; text-decoration-color: #008080; font-weight: bold\">10726</span>,<span style=\"color: #008080; text-decoration-color: #008080; font-weight: bold\">241.0027580322127</span>,<span style=\"color: #008080; text-decoration-color: #008080; font-weight: bold\">54.79047943738277</span>,U\n",
       "</pre>\n"
      ],
      "text/plain": [
       "\u001b[1;36m10726\u001b[0m,\u001b[1;36m241.0027580322127\u001b[0m,\u001b[1;36m54.79047943738277\u001b[0m,U\n"
      ]
     },
     "metadata": {},
     "output_type": "display_data"
    },
    {
     "data": {
      "text/html": [
       "<pre style=\"white-space:pre;overflow-x:auto;line-height:normal;font-family:Menlo,'DejaVu Sans Mono',consolas,'Courier New',monospace\"><span style=\"color: #008080; text-decoration-color: #008080; font-weight: bold\">45364</span>,<span style=\"color: #008080; text-decoration-color: #008080; font-weight: bold\">34.21301710297504</span>,<span style=\"color: #008080; text-decoration-color: #008080; font-weight: bold\">-36.43307809302163</span>,U\n",
       "</pre>\n"
      ],
      "text/plain": [
       "\u001b[1;36m45364\u001b[0m,\u001b[1;36m34.21301710297504\u001b[0m,\u001b[1;36m-36.43307809302163\u001b[0m,U\n"
      ]
     },
     "metadata": {},
     "output_type": "display_data"
    },
    {
     "data": {
      "text/html": [
       "<pre style=\"white-space:pre;overflow-x:auto;line-height:normal;font-family:Menlo,'DejaVu Sans Mono',consolas,'Courier New',monospace\"><span style=\"color: #008080; text-decoration-color: #008080; font-weight: bold\">28566</span>,<span style=\"color: #008080; text-decoration-color: #008080; font-weight: bold\">358.8037881955012</span>,<span style=\"color: #008080; text-decoration-color: #008080; font-weight: bold\">-12.09872922397089</span>,U\n",
       "</pre>\n"
      ],
      "text/plain": [
       "\u001b[1;36m28566\u001b[0m,\u001b[1;36m358.8037881955012\u001b[0m,\u001b[1;36m-12.09872922397089\u001b[0m,U\n"
      ]
     },
     "metadata": {},
     "output_type": "display_data"
    },
    {
     "data": {
      "text/html": [
       "<pre style=\"white-space:pre;overflow-x:auto;line-height:normal;font-family:Menlo,'DejaVu Sans Mono',consolas,'Courier New',monospace\"><span style=\"color: #008080; text-decoration-color: #008080; font-weight: bold\">9044</span>,<span style=\"color: #008080; text-decoration-color: #008080; font-weight: bold\">109.81394446385764</span>,<span style=\"color: #008080; text-decoration-color: #008080; font-weight: bold\">69.05394062886899</span>,U\n",
       "</pre>\n"
      ],
      "text/plain": [
       "\u001b[1;36m9044\u001b[0m,\u001b[1;36m109.81394446385764\u001b[0m,\u001b[1;36m69.05394062886899\u001b[0m,U\n"
      ]
     },
     "metadata": {},
     "output_type": "display_data"
    },
    {
     "data": {
      "text/html": [
       "<pre style=\"white-space:pre;overflow-x:auto;line-height:normal;font-family:Menlo,'DejaVu Sans Mono',consolas,'Courier New',monospace\"><span style=\"color: #008080; text-decoration-color: #008080; font-weight: bold\">15422</span>,<span style=\"color: #008080; text-decoration-color: #008080; font-weight: bold\">149.3105033958753</span>,<span style=\"color: #008080; text-decoration-color: #008080; font-weight: bold\">2.4482968209954348</span>,U\n",
       "</pre>\n"
      ],
      "text/plain": [
       "\u001b[1;36m15422\u001b[0m,\u001b[1;36m149.3105033958753\u001b[0m,\u001b[1;36m2.4482968209954348\u001b[0m,U\n"
      ]
     },
     "metadata": {},
     "output_type": "display_data"
    },
    {
     "data": {
      "text/html": [
       "<pre style=\"white-space:pre;overflow-x:auto;line-height:normal;font-family:Menlo,'DejaVu Sans Mono',consolas,'Courier New',monospace\"><span style=\"color: #008080; text-decoration-color: #008080; font-weight: bold\">40053</span>,<span style=\"color: #008080; text-decoration-color: #008080; font-weight: bold\">36.8104928546104</span>,<span style=\"color: #008080; text-decoration-color: #008080; font-weight: bold\">-4.448492930117262</span>,U\n",
       "</pre>\n"
      ],
      "text/plain": [
       "\u001b[1;36m40053\u001b[0m,\u001b[1;36m36.8104928546104\u001b[0m,\u001b[1;36m-4.448492930117262\u001b[0m,U\n"
      ]
     },
     "metadata": {},
     "output_type": "display_data"
    },
    {
     "data": {
      "text/html": [
       "<pre style=\"white-space:pre;overflow-x:auto;line-height:normal;font-family:Menlo,'DejaVu Sans Mono',consolas,'Courier New',monospace\"><span style=\"color: #008080; text-decoration-color: #008080; font-weight: bold\">15723</span>,<span style=\"color: #008080; text-decoration-color: #008080; font-weight: bold\">194.5003689379095</span>,<span style=\"color: #008080; text-decoration-color: #008080; font-weight: bold\">-12.364476837120032</span>,U\n",
       "</pre>\n"
      ],
      "text/plain": [
       "\u001b[1;36m15723\u001b[0m,\u001b[1;36m194.5003689379095\u001b[0m,\u001b[1;36m-12.364476837120032\u001b[0m,U\n"
      ]
     },
     "metadata": {},
     "output_type": "display_data"
    },
    {
     "data": {
      "text/html": [
       "<pre style=\"white-space:pre;overflow-x:auto;line-height:normal;font-family:Menlo,'DejaVu Sans Mono',consolas,'Courier New',monospace\"><span style=\"color: #008080; text-decoration-color: #008080; font-weight: bold\">44726</span>,<span style=\"color: #008080; text-decoration-color: #008080; font-weight: bold\">310.567448714797</span>,<span style=\"color: #008080; text-decoration-color: #008080; font-weight: bold\">12.435395838641714</span>,U\n",
       "</pre>\n"
      ],
      "text/plain": [
       "\u001b[1;36m44726\u001b[0m,\u001b[1;36m310.567448714797\u001b[0m,\u001b[1;36m12.435395838641714\u001b[0m,U\n"
      ]
     },
     "metadata": {},
     "output_type": "display_data"
    },
    {
     "data": {
      "text/html": [
       "<pre style=\"white-space:pre;overflow-x:auto;line-height:normal;font-family:Menlo,'DejaVu Sans Mono',consolas,'Courier New',monospace\"><span style=\"color: #008080; text-decoration-color: #008080; font-weight: bold\">9378</span>,<span style=\"color: #008080; text-decoration-color: #008080; font-weight: bold\">78.73202487036914</span>,<span style=\"color: #008080; text-decoration-color: #008080; font-weight: bold\">-37.46211059958107</span>,U\n",
       "</pre>\n"
      ],
      "text/plain": [
       "\u001b[1;36m9378\u001b[0m,\u001b[1;36m78.73202487036914\u001b[0m,\u001b[1;36m-37.46211059958107\u001b[0m,U\n"
      ]
     },
     "metadata": {},
     "output_type": "display_data"
    },
    {
     "data": {
      "text/html": [
       "<pre style=\"white-space:pre;overflow-x:auto;line-height:normal;font-family:Menlo,'DejaVu Sans Mono',consolas,'Courier New',monospace\"><span style=\"color: #008080; text-decoration-color: #008080; font-weight: bold\">46006</span>,<span style=\"color: #008080; text-decoration-color: #008080; font-weight: bold\">60.37377073245501</span>,<span style=\"color: #008080; text-decoration-color: #008080; font-weight: bold\">-2.6478050626567238</span>,U\n",
       "</pre>\n"
      ],
      "text/plain": [
       "\u001b[1;36m46006\u001b[0m,\u001b[1;36m60.37377073245501\u001b[0m,\u001b[1;36m-2.6478050626567238\u001b[0m,U\n"
      ]
     },
     "metadata": {},
     "output_type": "display_data"
    },
    {
     "data": {
      "text/html": [
       "<pre style=\"white-space:pre;overflow-x:auto;line-height:normal;font-family:Menlo,'DejaVu Sans Mono',consolas,'Courier New',monospace\"><span style=\"color: #008080; text-decoration-color: #008080; font-weight: bold\">23479</span>,<span style=\"color: #008080; text-decoration-color: #008080; font-weight: bold\">7.243225545136507</span>,<span style=\"color: #008080; text-decoration-color: #008080; font-weight: bold\">1.5936859701170585</span>,U\n",
       "</pre>\n"
      ],
      "text/plain": [
       "\u001b[1;36m23479\u001b[0m,\u001b[1;36m7.243225545136507\u001b[0m,\u001b[1;36m1.5936859701170585\u001b[0m,U\n"
      ]
     },
     "metadata": {},
     "output_type": "display_data"
    },
    {
     "data": {
      "text/html": [
       "<pre style=\"white-space:pre;overflow-x:auto;line-height:normal;font-family:Menlo,'DejaVu Sans Mono',consolas,'Courier New',monospace\"><span style=\"color: #008080; text-decoration-color: #008080; font-weight: bold\">34800</span>,<span style=\"color: #008080; text-decoration-color: #008080; font-weight: bold\">51.657107884438425</span>,<span style=\"color: #008080; text-decoration-color: #008080; font-weight: bold\">-27.542222322463545</span>,U\n",
       "</pre>\n"
      ],
      "text/plain": [
       "\u001b[1;36m34800\u001b[0m,\u001b[1;36m51.657107884438425\u001b[0m,\u001b[1;36m-27.542222322463545\u001b[0m,U\n"
      ]
     },
     "metadata": {},
     "output_type": "display_data"
    },
    {
     "data": {
      "text/html": [
       "<pre style=\"white-space:pre;overflow-x:auto;line-height:normal;font-family:Menlo,'DejaVu Sans Mono',consolas,'Courier New',monospace\"><span style=\"color: #008080; text-decoration-color: #008080; font-weight: bold\">26779</span>,<span style=\"color: #008080; text-decoration-color: #008080; font-weight: bold\">205.23618034829684</span>,<span style=\"color: #008080; text-decoration-color: #008080; font-weight: bold\">-31.498731833234487</span>,U\n",
       "</pre>\n"
      ],
      "text/plain": [
       "\u001b[1;36m26779\u001b[0m,\u001b[1;36m205.23618034829684\u001b[0m,\u001b[1;36m-31.498731833234487\u001b[0m,U\n"
      ]
     },
     "metadata": {},
     "output_type": "display_data"
    },
    {
     "data": {
      "text/html": [
       "<pre style=\"white-space:pre;overflow-x:auto;line-height:normal;font-family:Menlo,'DejaVu Sans Mono',consolas,'Courier New',monospace\"><span style=\"color: #008080; text-decoration-color: #008080; font-weight: bold\">40288</span>,<span style=\"color: #008080; text-decoration-color: #008080; font-weight: bold\">32.30607830224685</span>,<span style=\"color: #008080; text-decoration-color: #008080; font-weight: bold\">-5.015375030178947</span>,U\n",
       "</pre>\n"
      ],
      "text/plain": [
       "\u001b[1;36m40288\u001b[0m,\u001b[1;36m32.30607830224685\u001b[0m,\u001b[1;36m-5.015375030178947\u001b[0m,U\n"
      ]
     },
     "metadata": {},
     "output_type": "display_data"
    },
    {
     "data": {
      "text/html": [
       "<pre style=\"white-space:pre;overflow-x:auto;line-height:normal;font-family:Menlo,'DejaVu Sans Mono',consolas,'Courier New',monospace\"><span style=\"color: #008080; text-decoration-color: #008080; font-weight: bold\">44098</span>,<span style=\"color: #008080; text-decoration-color: #008080; font-weight: bold\">271.01069631983563</span>,<span style=\"color: #008080; text-decoration-color: #008080; font-weight: bold\">55.26604431904134</span>,U\n",
       "</pre>\n"
      ],
      "text/plain": [
       "\u001b[1;36m44098\u001b[0m,\u001b[1;36m271.01069631983563\u001b[0m,\u001b[1;36m55.26604431904134\u001b[0m,U\n"
      ]
     },
     "metadata": {},
     "output_type": "display_data"
    },
    {
     "data": {
      "text/html": [
       "<pre style=\"white-space:pre;overflow-x:auto;line-height:normal;font-family:Menlo,'DejaVu Sans Mono',consolas,'Courier New',monospace\"><span style=\"color: #008080; text-decoration-color: #008080; font-weight: bold\">7550</span>,<span style=\"color: #008080; text-decoration-color: #008080; font-weight: bold\">22.129355706632</span>,<span style=\"color: #008080; text-decoration-color: #008080; font-weight: bold\">-35.510801450695794</span>,U\n",
       "</pre>\n"
      ],
      "text/plain": [
       "\u001b[1;36m7550\u001b[0m,\u001b[1;36m22.129355706632\u001b[0m,\u001b[1;36m-35.510801450695794\u001b[0m,U\n"
      ]
     },
     "metadata": {},
     "output_type": "display_data"
    },
    {
     "data": {
      "text/html": [
       "<pre style=\"white-space:pre;overflow-x:auto;line-height:normal;font-family:Menlo,'DejaVu Sans Mono',consolas,'Courier New',monospace\"><span style=\"color: #008080; text-decoration-color: #008080; font-weight: bold\">45734</span>,<span style=\"color: #008080; text-decoration-color: #008080; font-weight: bold\">14.473280216123785</span>,<span style=\"color: #008080; text-decoration-color: #008080; font-weight: bold\">-43.46621815245325</span>,U\n",
       "</pre>\n"
      ],
      "text/plain": [
       "\u001b[1;36m45734\u001b[0m,\u001b[1;36m14.473280216123785\u001b[0m,\u001b[1;36m-43.46621815245325\u001b[0m,U\n"
      ]
     },
     "metadata": {},
     "output_type": "display_data"
    },
    {
     "data": {
      "text/html": [
       "<pre style=\"white-space:pre;overflow-x:auto;line-height:normal;font-family:Menlo,'DejaVu Sans Mono',consolas,'Courier New',monospace\"><span style=\"color: #008080; text-decoration-color: #008080; font-weight: bold\">16561</span>,<span style=\"color: #008080; text-decoration-color: #008080; font-weight: bold\">217.2671906546336</span>,<span style=\"color: #008080; text-decoration-color: #008080; font-weight: bold\">33.635755813872336</span>,U\n",
       "</pre>\n"
      ],
      "text/plain": [
       "\u001b[1;36m16561\u001b[0m,\u001b[1;36m217.2671906546336\u001b[0m,\u001b[1;36m33.635755813872336\u001b[0m,U\n"
      ]
     },
     "metadata": {},
     "output_type": "display_data"
    },
    {
     "data": {
      "text/html": [
       "<pre style=\"white-space:pre;overflow-x:auto;line-height:normal;font-family:Menlo,'DejaVu Sans Mono',consolas,'Courier New',monospace\"><span style=\"color: #008080; text-decoration-color: #008080; font-weight: bold\">45827</span>,<span style=\"color: #008080; text-decoration-color: #008080; font-weight: bold\">70.75783734562805</span>,<span style=\"color: #008080; text-decoration-color: #008080; font-weight: bold\">-1.3436170598700572</span>,U\n",
       "</pre>\n"
      ],
      "text/plain": [
       "\u001b[1;36m45827\u001b[0m,\u001b[1;36m70.75783734562805\u001b[0m,\u001b[1;36m-1.3436170598700572\u001b[0m,U\n"
      ]
     },
     "metadata": {},
     "output_type": "display_data"
    },
    {
     "data": {
      "text/html": [
       "<pre style=\"white-space:pre;overflow-x:auto;line-height:normal;font-family:Menlo,'DejaVu Sans Mono',consolas,'Courier New',monospace\"><span style=\"color: #008080; text-decoration-color: #008080; font-weight: bold\">18674</span>,<span style=\"color: #008080; text-decoration-color: #008080; font-weight: bold\">33.71993555933986</span>,<span style=\"color: #008080; text-decoration-color: #008080; font-weight: bold\">-5.776591104133809</span>,U\n",
       "</pre>\n"
      ],
      "text/plain": [
       "\u001b[1;36m18674\u001b[0m,\u001b[1;36m33.71993555933986\u001b[0m,\u001b[1;36m-5.776591104133809\u001b[0m,U\n"
      ]
     },
     "metadata": {},
     "output_type": "display_data"
    },
    {
     "data": {
      "text/html": [
       "<pre style=\"white-space:pre;overflow-x:auto;line-height:normal;font-family:Menlo,'DejaVu Sans Mono',consolas,'Courier New',monospace\"><span style=\"color: #008080; text-decoration-color: #008080; font-weight: bold\">46015</span>,<span style=\"color: #008080; text-decoration-color: #008080; font-weight: bold\">95.24229035353146</span>,<span style=\"color: #008080; text-decoration-color: #008080; font-weight: bold\">-50.00770927936948</span>,U\n",
       "</pre>\n"
      ],
      "text/plain": [
       "\u001b[1;36m46015\u001b[0m,\u001b[1;36m95.24229035353146\u001b[0m,\u001b[1;36m-50.00770927936948\u001b[0m,U\n"
      ]
     },
     "metadata": {},
     "output_type": "display_data"
    },
    {
     "data": {
      "text/html": [
       "<pre style=\"white-space:pre;overflow-x:auto;line-height:normal;font-family:Menlo,'DejaVu Sans Mono',consolas,'Courier New',monospace\"><span style=\"color: #008080; text-decoration-color: #008080; font-weight: bold\">36393</span>,<span style=\"color: #008080; text-decoration-color: #008080; font-weight: bold\">149.1356263550675</span>,<span style=\"color: #008080; text-decoration-color: #008080; font-weight: bold\">1.4194577428826352</span>,U\n",
       "</pre>\n"
      ],
      "text/plain": [
       "\u001b[1;36m36393\u001b[0m,\u001b[1;36m149.1356263550675\u001b[0m,\u001b[1;36m1.4194577428826352\u001b[0m,U\n"
      ]
     },
     "metadata": {},
     "output_type": "display_data"
    },
    {
     "data": {
      "text/html": [
       "<pre style=\"white-space:pre;overflow-x:auto;line-height:normal;font-family:Menlo,'DejaVu Sans Mono',consolas,'Courier New',monospace\"><span style=\"color: #008080; text-decoration-color: #008080; font-weight: bold\">46077</span>,<span style=\"color: #008080; text-decoration-color: #008080; font-weight: bold\">92.86769700728296</span>,<span style=\"color: #008080; text-decoration-color: #008080; font-weight: bold\">-47.381022124782966</span>,U\n",
       "</pre>\n"
      ],
      "text/plain": [
       "\u001b[1;36m46077\u001b[0m,\u001b[1;36m92.86769700728296\u001b[0m,\u001b[1;36m-47.381022124782966\u001b[0m,U\n"
      ]
     },
     "metadata": {},
     "output_type": "display_data"
    },
    {
     "data": {
      "text/html": [
       "<pre style=\"white-space:pre;overflow-x:auto;line-height:normal;font-family:Menlo,'DejaVu Sans Mono',consolas,'Courier New',monospace\"><span style=\"color: #008080; text-decoration-color: #008080; font-weight: bold\">46793</span>,<span style=\"color: #008080; text-decoration-color: #008080; font-weight: bold\">192.24254898259224</span>,<span style=\"color: #008080; text-decoration-color: #008080; font-weight: bold\">-42.2692211996664</span>,U\n",
       "</pre>\n"
      ],
      "text/plain": [
       "\u001b[1;36m46793\u001b[0m,\u001b[1;36m192.24254898259224\u001b[0m,\u001b[1;36m-42.2692211996664\u001b[0m,U\n"
      ]
     },
     "metadata": {},
     "output_type": "display_data"
    },
    {
     "data": {
      "text/html": [
       "<pre style=\"white-space:pre;overflow-x:auto;line-height:normal;font-family:Menlo,'DejaVu Sans Mono',consolas,'Courier New',monospace\"><span style=\"color: #008080; text-decoration-color: #008080; font-weight: bold\">9427</span>,<span style=\"color: #008080; text-decoration-color: #008080; font-weight: bold\">78.88699188476753</span>,<span style=\"color: #008080; text-decoration-color: #008080; font-weight: bold\">-49.26523347787346</span>,U\n",
       "</pre>\n"
      ],
      "text/plain": [
       "\u001b[1;36m9427\u001b[0m,\u001b[1;36m78.88699188476753\u001b[0m,\u001b[1;36m-49.26523347787346\u001b[0m,U\n"
      ]
     },
     "metadata": {},
     "output_type": "display_data"
    },
    {
     "data": {
      "text/html": [
       "<pre style=\"white-space:pre;overflow-x:auto;line-height:normal;font-family:Menlo,'DejaVu Sans Mono',consolas,'Courier New',monospace\"><span style=\"color: #008080; text-decoration-color: #008080; font-weight: bold\">42149</span>,<span style=\"color: #008080; text-decoration-color: #008080; font-weight: bold\">107.32530893290134</span>,<span style=\"color: #008080; text-decoration-color: #008080; font-weight: bold\">-61.28922776356079</span>,U\n",
       "</pre>\n"
      ],
      "text/plain": [
       "\u001b[1;36m42149\u001b[0m,\u001b[1;36m107.32530893290134\u001b[0m,\u001b[1;36m-61.28922776356079\u001b[0m,U\n"
      ]
     },
     "metadata": {},
     "output_type": "display_data"
    },
    {
     "data": {
      "text/html": [
       "<pre style=\"white-space:pre;overflow-x:auto;line-height:normal;font-family:Menlo,'DejaVu Sans Mono',consolas,'Courier New',monospace\"><span style=\"color: #008080; text-decoration-color: #008080; font-weight: bold\">45837</span>,<span style=\"color: #008080; text-decoration-color: #008080; font-weight: bold\">62.347599540221175</span>,<span style=\"color: #008080; text-decoration-color: #008080; font-weight: bold\">-49.09682320915719</span>,U\n",
       "</pre>\n"
      ],
      "text/plain": [
       "\u001b[1;36m45837\u001b[0m,\u001b[1;36m62.347599540221175\u001b[0m,\u001b[1;36m-49.09682320915719\u001b[0m,U\n"
      ]
     },
     "metadata": {},
     "output_type": "display_data"
    },
    {
     "data": {
      "text/html": [
       "<pre style=\"white-space:pre;overflow-x:auto;line-height:normal;font-family:Menlo,'DejaVu Sans Mono',consolas,'Courier New',monospace\"><span style=\"color: #008080; text-decoration-color: #008080; font-weight: bold\">46818</span>,<span style=\"color: #008080; text-decoration-color: #008080; font-weight: bold\">184.06917504442663</span>,<span style=\"color: #008080; text-decoration-color: #008080; font-weight: bold\">-30.36438025874726</span>,U\n",
       "</pre>\n"
      ],
      "text/plain": [
       "\u001b[1;36m46818\u001b[0m,\u001b[1;36m184.06917504442663\u001b[0m,\u001b[1;36m-30.36438025874726\u001b[0m,U\n"
      ]
     },
     "metadata": {},
     "output_type": "display_data"
    },
    {
     "data": {
      "text/html": [
       "<pre style=\"white-space:pre;overflow-x:auto;line-height:normal;font-family:Menlo,'DejaVu Sans Mono',consolas,'Courier New',monospace\"><span style=\"color: #008080; text-decoration-color: #008080; font-weight: bold\">44349</span>,<span style=\"color: #008080; text-decoration-color: #008080; font-weight: bold\">237.7079474991918</span>,<span style=\"color: #008080; text-decoration-color: #008080; font-weight: bold\">-69.64713467755197</span>,U\n",
       "</pre>\n"
      ],
      "text/plain": [
       "\u001b[1;36m44349\u001b[0m,\u001b[1;36m237.7079474991918\u001b[0m,\u001b[1;36m-69.64713467755197\u001b[0m,U\n"
      ]
     },
     "metadata": {},
     "output_type": "display_data"
    },
    {
     "data": {
      "text/html": [
       "<pre style=\"white-space:pre;overflow-x:auto;line-height:normal;font-family:Menlo,'DejaVu Sans Mono',consolas,'Courier New',monospace\"><span style=\"color: #008080; text-decoration-color: #008080; font-weight: bold\">8839</span>,<span style=\"color: #008080; text-decoration-color: #008080; font-weight: bold\">78.41222168985435</span>,<span style=\"color: #008080; text-decoration-color: #008080; font-weight: bold\">-33.02185739281076</span>,U\n",
       "</pre>\n"
      ],
      "text/plain": [
       "\u001b[1;36m8839\u001b[0m,\u001b[1;36m78.41222168985435\u001b[0m,\u001b[1;36m-33.02185739281076\u001b[0m,U\n"
      ]
     },
     "metadata": {},
     "output_type": "display_data"
    },
    {
     "data": {
      "text/html": [
       "<pre style=\"white-space:pre;overflow-x:auto;line-height:normal;font-family:Menlo,'DejaVu Sans Mono',consolas,'Courier New',monospace\"><span style=\"color: #008080; text-decoration-color: #008080; font-weight: bold\">43396</span>,<span style=\"color: #008080; text-decoration-color: #008080; font-weight: bold\">294.71464787509086</span>,<span style=\"color: #008080; text-decoration-color: #008080; font-weight: bold\">51.833350683319566</span>,U\n",
       "</pre>\n"
      ],
      "text/plain": [
       "\u001b[1;36m43396\u001b[0m,\u001b[1;36m294.71464787509086\u001b[0m,\u001b[1;36m51.833350683319566\u001b[0m,U\n"
      ]
     },
     "metadata": {},
     "output_type": "display_data"
    },
    {
     "data": {
      "text/html": [
       "<pre style=\"white-space:pre;overflow-x:auto;line-height:normal;font-family:Menlo,'DejaVu Sans Mono',consolas,'Courier New',monospace\"><span style=\"color: #008080; text-decoration-color: #008080; font-weight: bold\">46075</span>,<span style=\"color: #008080; text-decoration-color: #008080; font-weight: bold\">108.7338154983674</span>,<span style=\"color: #008080; text-decoration-color: #008080; font-weight: bold\">-54.94004924567613</span>,U\n",
       "</pre>\n"
      ],
      "text/plain": [
       "\u001b[1;36m46075\u001b[0m,\u001b[1;36m108.7338154983674\u001b[0m,\u001b[1;36m-54.94004924567613\u001b[0m,U\n"
      ]
     },
     "metadata": {},
     "output_type": "display_data"
    },
    {
     "data": {
      "text/html": [
       "<pre style=\"white-space:pre;overflow-x:auto;line-height:normal;font-family:Menlo,'DejaVu Sans Mono',consolas,'Courier New',monospace\"><span style=\"color: #008080; text-decoration-color: #008080; font-weight: bold\">41960</span>,<span style=\"color: #008080; text-decoration-color: #008080; font-weight: bold\">209.1483926524562</span>,<span style=\"color: #008080; text-decoration-color: #008080; font-weight: bold\">38.86852439237789</span>,U\n",
       "</pre>\n"
      ],
      "text/plain": [
       "\u001b[1;36m41960\u001b[0m,\u001b[1;36m209.1483926524562\u001b[0m,\u001b[1;36m38.86852439237789\u001b[0m,U\n"
      ]
     },
     "metadata": {},
     "output_type": "display_data"
    },
    {
     "data": {
      "text/html": [
       "<pre style=\"white-space:pre;overflow-x:auto;line-height:normal;font-family:Menlo,'DejaVu Sans Mono',consolas,'Courier New',monospace\"><span style=\"color: #008080; text-decoration-color: #008080; font-weight: bold\">19665</span>,<span style=\"color: #008080; text-decoration-color: #008080; font-weight: bold\">150.05225683623198</span>,<span style=\"color: #008080; text-decoration-color: #008080; font-weight: bold\">61.872147613543625</span>,U\n",
       "</pre>\n"
      ],
      "text/plain": [
       "\u001b[1;36m19665\u001b[0m,\u001b[1;36m150.05225683623198\u001b[0m,\u001b[1;36m61.872147613543625\u001b[0m,U\n"
      ]
     },
     "metadata": {},
     "output_type": "display_data"
    },
    {
     "data": {
      "text/html": [
       "<pre style=\"white-space:pre;overflow-x:auto;line-height:normal;font-family:Menlo,'DejaVu Sans Mono',consolas,'Courier New',monospace\"><span style=\"color: #008080; text-decoration-color: #008080; font-weight: bold\">46017</span>,<span style=\"color: #008080; text-decoration-color: #008080; font-weight: bold\">108.47951550789276</span>,<span style=\"color: #008080; text-decoration-color: #008080; font-weight: bold\">-52.45636988577696</span>,U\n",
       "</pre>\n"
      ],
      "text/plain": [
       "\u001b[1;36m46017\u001b[0m,\u001b[1;36m108.47951550789276\u001b[0m,\u001b[1;36m-52.45636988577696\u001b[0m,U\n"
      ]
     },
     "metadata": {},
     "output_type": "display_data"
    },
    {
     "data": {
      "text/html": [
       "<pre style=\"white-space:pre;overflow-x:auto;line-height:normal;font-family:Menlo,'DejaVu Sans Mono',consolas,'Courier New',monospace\"><span style=\"color: #008080; text-decoration-color: #008080; font-weight: bold\">35589</span>,<span style=\"color: #008080; text-decoration-color: #008080; font-weight: bold\">103.4183463085328</span>,<span style=\"color: #008080; text-decoration-color: #008080; font-weight: bold\">28.6753162065978</span>,U\n",
       "</pre>\n"
      ],
      "text/plain": [
       "\u001b[1;36m35589\u001b[0m,\u001b[1;36m103.4183463085328\u001b[0m,\u001b[1;36m28.6753162065978\u001b[0m,U\n"
      ]
     },
     "metadata": {},
     "output_type": "display_data"
    },
    {
     "data": {
      "text/html": [
       "<pre style=\"white-space:pre;overflow-x:auto;line-height:normal;font-family:Menlo,'DejaVu Sans Mono',consolas,'Courier New',monospace\"><span style=\"color: #008080; text-decoration-color: #008080; font-weight: bold\">46775</span>,<span style=\"color: #008080; text-decoration-color: #008080; font-weight: bold\">188.96933933526023</span>,<span style=\"color: #008080; text-decoration-color: #008080; font-weight: bold\">-35.213690592993565</span>,U\n",
       "</pre>\n"
      ],
      "text/plain": [
       "\u001b[1;36m46775\u001b[0m,\u001b[1;36m188.96933933526023\u001b[0m,\u001b[1;36m-35.213690592993565\u001b[0m,U\n"
      ]
     },
     "metadata": {},
     "output_type": "display_data"
    },
    {
     "data": {
      "text/html": [
       "<pre style=\"white-space:pre;overflow-x:auto;line-height:normal;font-family:Menlo,'DejaVu Sans Mono',consolas,'Courier New',monospace\"><span style=\"color: #008080; text-decoration-color: #008080; font-weight: bold\">43107</span>,<span style=\"color: #008080; text-decoration-color: #008080; font-weight: bold\">229.63383918059148</span>,<span style=\"color: #008080; text-decoration-color: #008080; font-weight: bold\">-24.985334147195804</span>,U\n",
       "</pre>\n"
      ],
      "text/plain": [
       "\u001b[1;36m43107\u001b[0m,\u001b[1;36m229.63383918059148\u001b[0m,\u001b[1;36m-24.985334147195804\u001b[0m,U\n"
      ]
     },
     "metadata": {},
     "output_type": "display_data"
    },
    {
     "data": {
      "text/html": [
       "<pre style=\"white-space:pre;overflow-x:auto;line-height:normal;font-family:Menlo,'DejaVu Sans Mono',consolas,'Courier New',monospace\"><span style=\"color: #008080; text-decoration-color: #008080; font-weight: bold\">27066</span>,<span style=\"color: #008080; text-decoration-color: #008080; font-weight: bold\">268.1881643364159</span>,<span style=\"color: #008080; text-decoration-color: #008080; font-weight: bold\">66.39434410948495</span>,U\n",
       "</pre>\n"
      ],
      "text/plain": [
       "\u001b[1;36m27066\u001b[0m,\u001b[1;36m268.1881643364159\u001b[0m,\u001b[1;36m66.39434410948495\u001b[0m,U\n"
      ]
     },
     "metadata": {},
     "output_type": "display_data"
    },
    {
     "data": {
      "text/html": [
       "<pre style=\"white-space:pre;overflow-x:auto;line-height:normal;font-family:Menlo,'DejaVu Sans Mono',consolas,'Courier New',monospace\"><span style=\"color: #008080; text-decoration-color: #008080; font-weight: bold\">45809</span>,<span style=\"color: #008080; text-decoration-color: #008080; font-weight: bold\">63.62313074481273</span>,<span style=\"color: #008080; text-decoration-color: #008080; font-weight: bold\">1.6600842536093374</span>,U\n",
       "</pre>\n"
      ],
      "text/plain": [
       "\u001b[1;36m45809\u001b[0m,\u001b[1;36m63.62313074481273\u001b[0m,\u001b[1;36m1.6600842536093374\u001b[0m,U\n"
      ]
     },
     "metadata": {},
     "output_type": "display_data"
    },
    {
     "data": {
      "text/html": [
       "<pre style=\"white-space:pre;overflow-x:auto;line-height:normal;font-family:Menlo,'DejaVu Sans Mono',consolas,'Courier New',monospace\"><span style=\"color: #008080; text-decoration-color: #008080; font-weight: bold\">8226</span>,<span style=\"color: #008080; text-decoration-color: #008080; font-weight: bold\">50.50958532705795</span>,<span style=\"color: #008080; text-decoration-color: #008080; font-weight: bold\">41.638984384606026</span>,U\n",
       "</pre>\n"
      ],
      "text/plain": [
       "\u001b[1;36m8226\u001b[0m,\u001b[1;36m50.50958532705795\u001b[0m,\u001b[1;36m41.638984384606026\u001b[0m,U\n"
      ]
     },
     "metadata": {},
     "output_type": "display_data"
    },
    {
     "data": {
      "text/html": [
       "<pre style=\"white-space:pre;overflow-x:auto;line-height:normal;font-family:Menlo,'DejaVu Sans Mono',consolas,'Courier New',monospace\"><span style=\"color: #008080; text-decoration-color: #008080; font-weight: bold\">16176</span>,<span style=\"color: #008080; text-decoration-color: #008080; font-weight: bold\">216.68102191693697</span>,<span style=\"color: #008080; text-decoration-color: #008080; font-weight: bold\">31.870448094899267</span>,U\n",
       "</pre>\n"
      ],
      "text/plain": [
       "\u001b[1;36m16176\u001b[0m,\u001b[1;36m216.68102191693697\u001b[0m,\u001b[1;36m31.870448094899267\u001b[0m,U\n"
      ]
     },
     "metadata": {},
     "output_type": "display_data"
    },
    {
     "data": {
      "text/html": [
       "<pre style=\"white-space:pre;overflow-x:auto;line-height:normal;font-family:Menlo,'DejaVu Sans Mono',consolas,'Courier New',monospace\"><span style=\"color: #008080; text-decoration-color: #008080; font-weight: bold\">44335</span>,<span style=\"color: #008080; text-decoration-color: #008080; font-weight: bold\">305.75208854341594</span>,<span style=\"color: #008080; text-decoration-color: #008080; font-weight: bold\">6.5283377422811535</span>,U\n",
       "</pre>\n"
      ],
      "text/plain": [
       "\u001b[1;36m44335\u001b[0m,\u001b[1;36m305.75208854341594\u001b[0m,\u001b[1;36m6.5283377422811535\u001b[0m,U\n"
      ]
     },
     "metadata": {},
     "output_type": "display_data"
    },
    {
     "data": {
      "text/html": [
       "<pre style=\"white-space:pre;overflow-x:auto;line-height:normal;font-family:Menlo,'DejaVu Sans Mono',consolas,'Courier New',monospace\"><span style=\"color: #008080; text-decoration-color: #008080; font-weight: bold\">46601</span>,<span style=\"color: #008080; text-decoration-color: #008080; font-weight: bold\">123.0897245095153</span>,<span style=\"color: #008080; text-decoration-color: #008080; font-weight: bold\">-57.47602873984753</span>,U\n",
       "</pre>\n"
      ],
      "text/plain": [
       "\u001b[1;36m46601\u001b[0m,\u001b[1;36m123.0897245095153\u001b[0m,\u001b[1;36m-57.47602873984753\u001b[0m,U\n"
      ]
     },
     "metadata": {},
     "output_type": "display_data"
    },
    {
     "data": {
      "text/html": [
       "<pre style=\"white-space:pre;overflow-x:auto;line-height:normal;font-family:Menlo,'DejaVu Sans Mono',consolas,'Courier New',monospace\"><span style=\"color: #008080; text-decoration-color: #008080; font-weight: bold\">36115</span>,<span style=\"color: #008080; text-decoration-color: #008080; font-weight: bold\">138.0595222084074</span>,<span style=\"color: #008080; text-decoration-color: #008080; font-weight: bold\">22.80204639648185</span>,U\n",
       "</pre>\n"
      ],
      "text/plain": [
       "\u001b[1;36m36115\u001b[0m,\u001b[1;36m138.0595222084074\u001b[0m,\u001b[1;36m22.80204639648185\u001b[0m,U\n"
      ]
     },
     "metadata": {},
     "output_type": "display_data"
    },
    {
     "data": {
      "text/html": [
       "<pre style=\"white-space:pre;overflow-x:auto;line-height:normal;font-family:Menlo,'DejaVu Sans Mono',consolas,'Courier New',monospace\"><span style=\"color: #008080; text-decoration-color: #008080; font-weight: bold\">35211</span>,<span style=\"color: #008080; text-decoration-color: #008080; font-weight: bold\">51.679733925288105</span>,<span style=\"color: #008080; text-decoration-color: #008080; font-weight: bold\">-27.02400540689587</span>,U\n",
       "</pre>\n"
      ],
      "text/plain": [
       "\u001b[1;36m35211\u001b[0m,\u001b[1;36m51.679733925288105\u001b[0m,\u001b[1;36m-27.02400540689587\u001b[0m,U\n"
      ]
     },
     "metadata": {},
     "output_type": "display_data"
    },
    {
     "data": {
      "text/html": [
       "<pre style=\"white-space:pre;overflow-x:auto;line-height:normal;font-family:Menlo,'DejaVu Sans Mono',consolas,'Courier New',monospace\"><span style=\"color: #008080; text-decoration-color: #008080; font-weight: bold\">35354</span>,<span style=\"color: #008080; text-decoration-color: #008080; font-weight: bold\">53.33413357642433</span>,<span style=\"color: #008080; text-decoration-color: #008080; font-weight: bold\">-26.60384706614288</span>,U\n",
       "</pre>\n"
      ],
      "text/plain": [
       "\u001b[1;36m35354\u001b[0m,\u001b[1;36m53.33413357642433\u001b[0m,\u001b[1;36m-26.60384706614288\u001b[0m,U\n"
      ]
     },
     "metadata": {},
     "output_type": "display_data"
    },
    {
     "data": {
      "text/html": [
       "<pre style=\"white-space:pre;overflow-x:auto;line-height:normal;font-family:Menlo,'DejaVu Sans Mono',consolas,'Courier New',monospace\"><span style=\"color: #008080; text-decoration-color: #008080; font-weight: bold\">35531</span>,<span style=\"color: #008080; text-decoration-color: #008080; font-weight: bold\">51.92790916180476</span>,<span style=\"color: #008080; text-decoration-color: #008080; font-weight: bold\">-27.411533639893243</span>,U\n",
       "</pre>\n"
      ],
      "text/plain": [
       "\u001b[1;36m35531\u001b[0m,\u001b[1;36m51.92790916180476\u001b[0m,\u001b[1;36m-27.411533639893243\u001b[0m,U\n"
      ]
     },
     "metadata": {},
     "output_type": "display_data"
    },
    {
     "data": {
      "text/html": [
       "<pre style=\"white-space:pre;overflow-x:auto;line-height:normal;font-family:Menlo,'DejaVu Sans Mono',consolas,'Courier New',monospace\"><span style=\"color: #008080; text-decoration-color: #008080; font-weight: bold\">46601</span>,<span style=\"color: #008080; text-decoration-color: #008080; font-weight: bold\">122.37567248466378</span>,<span style=\"color: #008080; text-decoration-color: #008080; font-weight: bold\">-57.57819142891011</span>,U\n",
       "</pre>\n"
      ],
      "text/plain": [
       "\u001b[1;36m46601\u001b[0m,\u001b[1;36m122.37567248466378\u001b[0m,\u001b[1;36m-57.57819142891011\u001b[0m,U\n"
      ]
     },
     "metadata": {},
     "output_type": "display_data"
    },
    {
     "data": {
      "text/html": [
       "<pre style=\"white-space:pre;overflow-x:auto;line-height:normal;font-family:Menlo,'DejaVu Sans Mono',consolas,'Courier New',monospace\"><span style=\"color: #008080; text-decoration-color: #008080; font-weight: bold\">35634</span>,<span style=\"color: #008080; text-decoration-color: #008080; font-weight: bold\">81.07122090818673</span>,<span style=\"color: #008080; text-decoration-color: #008080; font-weight: bold\">19.685011364971288</span>,U\n",
       "</pre>\n"
      ],
      "text/plain": [
       "\u001b[1;36m35634\u001b[0m,\u001b[1;36m81.07122090818673\u001b[0m,\u001b[1;36m19.685011364971288\u001b[0m,U\n"
      ]
     },
     "metadata": {},
     "output_type": "display_data"
    },
    {
     "data": {
      "text/html": [
       "<pre style=\"white-space:pre;overflow-x:auto;line-height:normal;font-family:Menlo,'DejaVu Sans Mono',consolas,'Courier New',monospace\"><span style=\"color: #008080; text-decoration-color: #008080; font-weight: bold\">46803</span>,<span style=\"color: #008080; text-decoration-color: #008080; font-weight: bold\">189.19395670292056</span>,<span style=\"color: #008080; text-decoration-color: #008080; font-weight: bold\">-37.71342492521558</span>,U\n",
       "</pre>\n"
      ],
      "text/plain": [
       "\u001b[1;36m46803\u001b[0m,\u001b[1;36m189.19395670292056\u001b[0m,\u001b[1;36m-37.71342492521558\u001b[0m,U\n"
      ]
     },
     "metadata": {},
     "output_type": "display_data"
    },
    {
     "data": {
      "text/html": [
       "<pre style=\"white-space:pre;overflow-x:auto;line-height:normal;font-family:Menlo,'DejaVu Sans Mono',consolas,'Courier New',monospace\"><span style=\"color: #008080; text-decoration-color: #008080; font-weight: bold\">41092</span>,<span style=\"color: #008080; text-decoration-color: #008080; font-weight: bold\">145.64643534106585</span>,<span style=\"color: #008080; text-decoration-color: #008080; font-weight: bold\">69.00938651675317</span>,U\n",
       "</pre>\n"
      ],
      "text/plain": [
       "\u001b[1;36m41092\u001b[0m,\u001b[1;36m145.64643534106585\u001b[0m,\u001b[1;36m69.00938651675317\u001b[0m,U\n"
      ]
     },
     "metadata": {},
     "output_type": "display_data"
    },
    {
     "data": {
      "text/html": [
       "<pre style=\"white-space:pre;overflow-x:auto;line-height:normal;font-family:Menlo,'DejaVu Sans Mono',consolas,'Courier New',monospace\"><span style=\"color: #008080; text-decoration-color: #008080; font-weight: bold\">16163</span>,<span style=\"color: #008080; text-decoration-color: #008080; font-weight: bold\">219.58113883571255</span>,<span style=\"color: #008080; text-decoration-color: #008080; font-weight: bold\">36.89022542507461</span>,U\n",
       "</pre>\n"
      ],
      "text/plain": [
       "\u001b[1;36m16163\u001b[0m,\u001b[1;36m219.58113883571255\u001b[0m,\u001b[1;36m36.89022542507461\u001b[0m,U\n"
      ]
     },
     "metadata": {},
     "output_type": "display_data"
    },
    {
     "data": {
      "text/html": [
       "<pre style=\"white-space:pre;overflow-x:auto;line-height:normal;font-family:Menlo,'DejaVu Sans Mono',consolas,'Courier New',monospace\"><span style=\"color: #008080; text-decoration-color: #008080; font-weight: bold\">45817</span>,<span style=\"color: #008080; text-decoration-color: #008080; font-weight: bold\">62.71605663177645</span>,<span style=\"color: #008080; text-decoration-color: #008080; font-weight: bold\">-38.12401706428551</span>,U\n",
       "</pre>\n"
      ],
      "text/plain": [
       "\u001b[1;36m45817\u001b[0m,\u001b[1;36m62.71605663177645\u001b[0m,\u001b[1;36m-38.12401706428551\u001b[0m,U\n"
      ]
     },
     "metadata": {},
     "output_type": "display_data"
    },
    {
     "data": {
      "text/html": [
       "<pre style=\"white-space:pre;overflow-x:auto;line-height:normal;font-family:Menlo,'DejaVu Sans Mono',consolas,'Courier New',monospace\"><span style=\"color: #008080; text-decoration-color: #008080; font-weight: bold\">17264</span>,<span style=\"color: #008080; text-decoration-color: #008080; font-weight: bold\">244.3096187066052</span>,<span style=\"color: #008080; text-decoration-color: #008080; font-weight: bold\">55.99994062270193</span>,U\n",
       "</pre>\n"
      ],
      "text/plain": [
       "\u001b[1;36m17264\u001b[0m,\u001b[1;36m244.3096187066052\u001b[0m,\u001b[1;36m55.99994062270193\u001b[0m,U\n"
      ]
     },
     "metadata": {},
     "output_type": "display_data"
    },
    {
     "data": {
      "text/html": [
       "<pre style=\"white-space:pre;overflow-x:auto;line-height:normal;font-family:Menlo,'DejaVu Sans Mono',consolas,'Courier New',monospace\"><span style=\"color: #008080; text-decoration-color: #008080; font-weight: bold\">17790</span>,<span style=\"color: #008080; text-decoration-color: #008080; font-weight: bold\">337.4527726317166</span>,<span style=\"color: #008080; text-decoration-color: #008080; font-weight: bold\">-60.273547478460976</span>,U\n",
       "</pre>\n"
      ],
      "text/plain": [
       "\u001b[1;36m17790\u001b[0m,\u001b[1;36m337.4527726317166\u001b[0m,\u001b[1;36m-60.273547478460976\u001b[0m,U\n"
      ]
     },
     "metadata": {},
     "output_type": "display_data"
    },
    {
     "data": {
      "text/html": [
       "<pre style=\"white-space:pre;overflow-x:auto;line-height:normal;font-family:Menlo,'DejaVu Sans Mono',consolas,'Courier New',monospace\"><span style=\"color: #008080; text-decoration-color: #008080; font-weight: bold\">44407</span>,<span style=\"color: #008080; text-decoration-color: #008080; font-weight: bold\">339.8439621476267</span>,<span style=\"color: #008080; text-decoration-color: #008080; font-weight: bold\">-29.297759683826943</span>,U\n",
       "</pre>\n"
      ],
      "text/plain": [
       "\u001b[1;36m44407\u001b[0m,\u001b[1;36m339.8439621476267\u001b[0m,\u001b[1;36m-29.297759683826943\u001b[0m,U\n"
      ]
     },
     "metadata": {},
     "output_type": "display_data"
    },
    {
     "data": {
      "text/html": [
       "<pre style=\"white-space:pre;overflow-x:auto;line-height:normal;font-family:Menlo,'DejaVu Sans Mono',consolas,'Courier New',monospace\"><span style=\"color: #008080; text-decoration-color: #008080; font-weight: bold\">46533</span>,<span style=\"color: #008080; text-decoration-color: #008080; font-weight: bold\">104.73771644415542</span>,<span style=\"color: #008080; text-decoration-color: #008080; font-weight: bold\">-44.20759214404882</span>,U\n",
       "</pre>\n"
      ],
      "text/plain": [
       "\u001b[1;36m46533\u001b[0m,\u001b[1;36m104.73771644415542\u001b[0m,\u001b[1;36m-44.20759214404882\u001b[0m,U\n"
      ]
     },
     "metadata": {},
     "output_type": "display_data"
    },
    {
     "data": {
      "text/html": [
       "<pre style=\"white-space:pre;overflow-x:auto;line-height:normal;font-family:Menlo,'DejaVu Sans Mono',consolas,'Courier New',monospace\"><span style=\"color: #008080; text-decoration-color: #008080; font-weight: bold\">28483</span>,<span style=\"color: #008080; text-decoration-color: #008080; font-weight: bold\">311.218706579852</span>,<span style=\"color: #008080; text-decoration-color: #008080; font-weight: bold\">-4.910431029603596</span>,U\n",
       "</pre>\n"
      ],
      "text/plain": [
       "\u001b[1;36m28483\u001b[0m,\u001b[1;36m311.218706579852\u001b[0m,\u001b[1;36m-4.910431029603596\u001b[0m,U\n"
      ]
     },
     "metadata": {},
     "output_type": "display_data"
    },
    {
     "data": {
      "text/html": [
       "<pre style=\"white-space:pre;overflow-x:auto;line-height:normal;font-family:Menlo,'DejaVu Sans Mono',consolas,'Courier New',monospace\"><span style=\"color: #008080; text-decoration-color: #008080; font-weight: bold\">44572</span>,<span style=\"color: #008080; text-decoration-color: #008080; font-weight: bold\">359.44105467592243</span>,<span style=\"color: #008080; text-decoration-color: #008080; font-weight: bold\">-36.489974100453885</span>,U\n",
       "</pre>\n"
      ],
      "text/plain": [
       "\u001b[1;36m44572\u001b[0m,\u001b[1;36m359.44105467592243\u001b[0m,\u001b[1;36m-36.489974100453885\u001b[0m,U\n"
      ]
     },
     "metadata": {},
     "output_type": "display_data"
    },
    {
     "data": {
      "text/html": [
       "<pre style=\"white-space:pre;overflow-x:auto;line-height:normal;font-family:Menlo,'DejaVu Sans Mono',consolas,'Courier New',monospace\"><span style=\"color: #008080; text-decoration-color: #008080; font-weight: bold\">46676</span>,<span style=\"color: #008080; text-decoration-color: #008080; font-weight: bold\">181.50534189962585</span>,<span style=\"color: #008080; text-decoration-color: #008080; font-weight: bold\">-47.39105802844339</span>,U\n",
       "</pre>\n"
      ],
      "text/plain": [
       "\u001b[1;36m46676\u001b[0m,\u001b[1;36m181.50534189962585\u001b[0m,\u001b[1;36m-47.39105802844339\u001b[0m,U\n"
      ]
     },
     "metadata": {},
     "output_type": "display_data"
    },
    {
     "data": {
      "text/html": [
       "<pre style=\"white-space:pre;overflow-x:auto;line-height:normal;font-family:Menlo,'DejaVu Sans Mono',consolas,'Courier New',monospace\"><span style=\"color: #008080; text-decoration-color: #008080; font-weight: bold\">41039</span>,<span style=\"color: #008080; text-decoration-color: #008080; font-weight: bold\">27.98018310504929</span>,<span style=\"color: #008080; text-decoration-color: #008080; font-weight: bold\">74.37606107277819</span>,U\n",
       "</pre>\n"
      ],
      "text/plain": [
       "\u001b[1;36m41039\u001b[0m,\u001b[1;36m27.98018310504929\u001b[0m,\u001b[1;36m74.37606107277819\u001b[0m,U\n"
      ]
     },
     "metadata": {},
     "output_type": "display_data"
    },
    {
     "data": {
      "text/html": [
       "<pre style=\"white-space:pre;overflow-x:auto;line-height:normal;font-family:Menlo,'DejaVu Sans Mono',consolas,'Courier New',monospace\"><span style=\"color: #008080; text-decoration-color: #008080; font-weight: bold\">9378</span>,<span style=\"color: #008080; text-decoration-color: #008080; font-weight: bold\">78.67666729174022</span>,<span style=\"color: #008080; text-decoration-color: #008080; font-weight: bold\">-36.81185295781306</span>,U\n",
       "</pre>\n"
      ],
      "text/plain": [
       "\u001b[1;36m9378\u001b[0m,\u001b[1;36m78.67666729174022\u001b[0m,\u001b[1;36m-36.81185295781306\u001b[0m,U\n"
      ]
     },
     "metadata": {},
     "output_type": "display_data"
    },
    {
     "data": {
      "text/html": [
       "<pre style=\"white-space:pre;overflow-x:auto;line-height:normal;font-family:Menlo,'DejaVu Sans Mono',consolas,'Courier New',monospace\"><span style=\"color: #008080; text-decoration-color: #008080; font-weight: bold\">7550</span>,<span style=\"color: #008080; text-decoration-color: #008080; font-weight: bold\">22.311278501334392</span>,<span style=\"color: #008080; text-decoration-color: #008080; font-weight: bold\">-35.42694117675955</span>,U\n",
       "</pre>\n"
      ],
      "text/plain": [
       "\u001b[1;36m7550\u001b[0m,\u001b[1;36m22.311278501334392\u001b[0m,\u001b[1;36m-35.42694117675955\u001b[0m,U\n"
      ]
     },
     "metadata": {},
     "output_type": "display_data"
    },
    {
     "data": {
      "text/html": [
       "<pre style=\"white-space:pre;overflow-x:auto;line-height:normal;font-family:Menlo,'DejaVu Sans Mono',consolas,'Courier New',monospace\"><span style=\"color: #008080; text-decoration-color: #008080; font-weight: bold\">36616</span>,<span style=\"color: #008080; text-decoration-color: #008080; font-weight: bold\">130.81380088481407</span>,<span style=\"color: #008080; text-decoration-color: #008080; font-weight: bold\">29.99498503988638</span>,U\n",
       "</pre>\n"
      ],
      "text/plain": [
       "\u001b[1;36m36616\u001b[0m,\u001b[1;36m130.81380088481407\u001b[0m,\u001b[1;36m29.99498503988638\u001b[0m,U\n"
      ]
     },
     "metadata": {},
     "output_type": "display_data"
    },
    {
     "data": {
      "text/html": [
       "<pre style=\"white-space:pre;overflow-x:auto;line-height:normal;font-family:Menlo,'DejaVu Sans Mono',consolas,'Courier New',monospace\"><span style=\"color: #008080; text-decoration-color: #008080; font-weight: bold\">40712</span>,<span style=\"color: #008080; text-decoration-color: #008080; font-weight: bold\">14.728353203619225</span>,<span style=\"color: #008080; text-decoration-color: #008080; font-weight: bold\">-39.76352169929566</span>,U\n",
       "</pre>\n"
      ],
      "text/plain": [
       "\u001b[1;36m40712\u001b[0m,\u001b[1;36m14.728353203619225\u001b[0m,\u001b[1;36m-39.76352169929566\u001b[0m,U\n"
      ]
     },
     "metadata": {},
     "output_type": "display_data"
    },
    {
     "data": {
      "text/html": [
       "<pre style=\"white-space:pre;overflow-x:auto;line-height:normal;font-family:Menlo,'DejaVu Sans Mono',consolas,'Courier New',monospace\"><span style=\"color: #008080; text-decoration-color: #008080; font-weight: bold\">45572</span>,<span style=\"color: #008080; text-decoration-color: #008080; font-weight: bold\">220.41440246130563</span>,<span style=\"color: #008080; text-decoration-color: #008080; font-weight: bold\">79.8017267236829</span>,U\n",
       "</pre>\n"
      ],
      "text/plain": [
       "\u001b[1;36m45572\u001b[0m,\u001b[1;36m220.41440246130563\u001b[0m,\u001b[1;36m79.8017267236829\u001b[0m,U\n"
      ]
     },
     "metadata": {},
     "output_type": "display_data"
    },
    {
     "data": {
      "text/html": [
       "<pre style=\"white-space:pre;overflow-x:auto;line-height:normal;font-family:Menlo,'DejaVu Sans Mono',consolas,'Courier New',monospace\"><span style=\"color: #008080; text-decoration-color: #008080; font-weight: bold\">26607</span>,<span style=\"color: #008080; text-decoration-color: #008080; font-weight: bold\">192.73126338947972</span>,<span style=\"color: #008080; text-decoration-color: #008080; font-weight: bold\">12.024974416978951</span>,U\n",
       "</pre>\n"
      ],
      "text/plain": [
       "\u001b[1;36m26607\u001b[0m,\u001b[1;36m192.73126338947972\u001b[0m,\u001b[1;36m12.024974416978951\u001b[0m,U\n"
      ]
     },
     "metadata": {},
     "output_type": "display_data"
    },
    {
     "data": {
      "text/html": [
       "<pre style=\"white-space:pre;overflow-x:auto;line-height:normal;font-family:Menlo,'DejaVu Sans Mono',consolas,'Courier New',monospace\"><span style=\"color: #008080; text-decoration-color: #008080; font-weight: bold\">18329</span>,<span style=\"color: #008080; text-decoration-color: #008080; font-weight: bold\">23.229016004863876</span>,<span style=\"color: #008080; text-decoration-color: #008080; font-weight: bold\">-0.6027570382997652</span>,U\n",
       "</pre>\n"
      ],
      "text/plain": [
       "\u001b[1;36m18329\u001b[0m,\u001b[1;36m23.229016004863876\u001b[0m,\u001b[1;36m-0.6027570382997652\u001b[0m,U\n"
      ]
     },
     "metadata": {},
     "output_type": "display_data"
    },
    {
     "data": {
      "text/html": [
       "<pre style=\"white-space:pre;overflow-x:auto;line-height:normal;font-family:Menlo,'DejaVu Sans Mono',consolas,'Courier New',monospace\"><span style=\"color: #008080; text-decoration-color: #008080; font-weight: bold\">17136</span>,<span style=\"color: #008080; text-decoration-color: #008080; font-weight: bold\">240.37211997701016</span>,<span style=\"color: #008080; text-decoration-color: #008080; font-weight: bold\">25.8268583596468</span>,U\n",
       "</pre>\n"
      ],
      "text/plain": [
       "\u001b[1;36m17136\u001b[0m,\u001b[1;36m240.37211997701016\u001b[0m,\u001b[1;36m25.8268583596468\u001b[0m,U\n"
      ]
     },
     "metadata": {},
     "output_type": "display_data"
    },
    {
     "data": {
      "text/html": [
       "<pre style=\"white-space:pre;overflow-x:auto;line-height:normal;font-family:Menlo,'DejaVu Sans Mono',consolas,'Courier New',monospace\"><span style=\"color: #008080; text-decoration-color: #008080; font-weight: bold\">40998</span>,<span style=\"color: #008080; text-decoration-color: #008080; font-weight: bold\">74.3785459333417</span>,<span style=\"color: #008080; text-decoration-color: #008080; font-weight: bold\">19.019423016975335</span>,U\n",
       "</pre>\n"
      ],
      "text/plain": [
       "\u001b[1;36m40998\u001b[0m,\u001b[1;36m74.3785459333417\u001b[0m,\u001b[1;36m19.019423016975335\u001b[0m,U\n"
      ]
     },
     "metadata": {},
     "output_type": "display_data"
    },
    {
     "data": {
      "text/html": [
       "<pre style=\"white-space:pre;overflow-x:auto;line-height:normal;font-family:Menlo,'DejaVu Sans Mono',consolas,'Courier New',monospace\"><span style=\"color: #008080; text-decoration-color: #008080; font-weight: bold\">9231</span>,<span style=\"color: #008080; text-decoration-color: #008080; font-weight: bold\">159.44621387533132</span>,<span style=\"color: #008080; text-decoration-color: #008080; font-weight: bold\">56.919096145533125</span>,U\n",
       "</pre>\n"
      ],
      "text/plain": [
       "\u001b[1;36m9231\u001b[0m,\u001b[1;36m159.44621387533132\u001b[0m,\u001b[1;36m56.919096145533125\u001b[0m,U\n"
      ]
     },
     "metadata": {},
     "output_type": "display_data"
    },
    {
     "data": {
      "text/html": [
       "<pre style=\"white-space:pre;overflow-x:auto;line-height:normal;font-family:Menlo,'DejaVu Sans Mono',consolas,'Courier New',monospace\"><span style=\"color: #008080; text-decoration-color: #008080; font-weight: bold\">45669</span>,<span style=\"color: #008080; text-decoration-color: #008080; font-weight: bold\">131.1206274664027</span>,<span style=\"color: #008080; text-decoration-color: #008080; font-weight: bold\">70.80889868432486</span>,U\n",
       "</pre>\n"
      ],
      "text/plain": [
       "\u001b[1;36m45669\u001b[0m,\u001b[1;36m131.1206274664027\u001b[0m,\u001b[1;36m70.80889868432486\u001b[0m,U\n"
      ]
     },
     "metadata": {},
     "output_type": "display_data"
    },
    {
     "data": {
      "text/html": [
       "<pre style=\"white-space:pre;overflow-x:auto;line-height:normal;font-family:Menlo,'DejaVu Sans Mono',consolas,'Courier New',monospace\"><span style=\"color: #008080; text-decoration-color: #008080; font-weight: bold\">46790</span>,<span style=\"color: #008080; text-decoration-color: #008080; font-weight: bold\">189.3504734854539</span>,<span style=\"color: #008080; text-decoration-color: #008080; font-weight: bold\">-37.49176085846767</span>,U\n",
       "</pre>\n"
      ],
      "text/plain": [
       "\u001b[1;36m46790\u001b[0m,\u001b[1;36m189.3504734854539\u001b[0m,\u001b[1;36m-37.49176085846767\u001b[0m,U\n"
      ]
     },
     "metadata": {},
     "output_type": "display_data"
    },
    {
     "data": {
      "text/html": [
       "<pre style=\"white-space:pre;overflow-x:auto;line-height:normal;font-family:Menlo,'DejaVu Sans Mono',consolas,'Courier New',monospace\"><span style=\"color: #008080; text-decoration-color: #008080; font-weight: bold\">45649</span>,<span style=\"color: #008080; text-decoration-color: #008080; font-weight: bold\">20.25361843674143</span>,<span style=\"color: #008080; text-decoration-color: #008080; font-weight: bold\">-31.1860664547432</span>,U\n",
       "</pre>\n"
      ],
      "text/plain": [
       "\u001b[1;36m45649\u001b[0m,\u001b[1;36m20.25361843674143\u001b[0m,\u001b[1;36m-31.1860664547432\u001b[0m,U\n"
      ]
     },
     "metadata": {},
     "output_type": "display_data"
    },
    {
     "data": {
      "text/html": [
       "<pre style=\"white-space:pre;overflow-x:auto;line-height:normal;font-family:Menlo,'DejaVu Sans Mono',consolas,'Courier New',monospace\"><span style=\"color: #008080; text-decoration-color: #008080; font-weight: bold\">41894</span>,<span style=\"color: #008080; text-decoration-color: #008080; font-weight: bold\">151.7543303159161</span>,<span style=\"color: #008080; text-decoration-color: #008080; font-weight: bold\">67.54622980211441</span>,U\n",
       "</pre>\n"
      ],
      "text/plain": [
       "\u001b[1;36m41894\u001b[0m,\u001b[1;36m151.7543303159161\u001b[0m,\u001b[1;36m67.54622980211441\u001b[0m,U\n"
      ]
     },
     "metadata": {},
     "output_type": "display_data"
    },
    {
     "data": {
      "text/html": [
       "<pre style=\"white-space:pre;overflow-x:auto;line-height:normal;font-family:Menlo,'DejaVu Sans Mono',consolas,'Courier New',monospace\"><span style=\"color: #008080; text-decoration-color: #008080; font-weight: bold\">46554</span>,<span style=\"color: #008080; text-decoration-color: #008080; font-weight: bold\">107.58772404248612</span>,<span style=\"color: #008080; text-decoration-color: #008080; font-weight: bold\">-52.35435438089812</span>,U\n",
       "</pre>\n"
      ],
      "text/plain": [
       "\u001b[1;36m46554\u001b[0m,\u001b[1;36m107.58772404248612\u001b[0m,\u001b[1;36m-52.35435438089812\u001b[0m,U\n"
      ]
     },
     "metadata": {},
     "output_type": "display_data"
    },
    {
     "data": {
      "text/html": [
       "<pre style=\"white-space:pre;overflow-x:auto;line-height:normal;font-family:Menlo,'DejaVu Sans Mono',consolas,'Courier New',monospace\"><span style=\"color: #008080; text-decoration-color: #008080; font-weight: bold\">36674</span>,<span style=\"color: #008080; text-decoration-color: #008080; font-weight: bold\">212.5010370453599</span>,<span style=\"color: #008080; text-decoration-color: #008080; font-weight: bold\">53.2622455942748</span>,U\n",
       "</pre>\n"
      ],
      "text/plain": [
       "\u001b[1;36m36674\u001b[0m,\u001b[1;36m212.5010370453599\u001b[0m,\u001b[1;36m53.2622455942748\u001b[0m,U\n"
      ]
     },
     "metadata": {},
     "output_type": "display_data"
    },
    {
     "data": {
      "text/html": [
       "<pre style=\"white-space:pre;overflow-x:auto;line-height:normal;font-family:Menlo,'DejaVu Sans Mono',consolas,'Courier New',monospace\"><span style=\"color: #008080; text-decoration-color: #008080; font-weight: bold\">46790</span>,<span style=\"color: #008080; text-decoration-color: #008080; font-weight: bold\">189.328434219605</span>,<span style=\"color: #008080; text-decoration-color: #008080; font-weight: bold\">-37.10476055952584</span>,U\n",
       "</pre>\n"
      ],
      "text/plain": [
       "\u001b[1;36m46790\u001b[0m,\u001b[1;36m189.328434219605\u001b[0m,\u001b[1;36m-37.10476055952584\u001b[0m,U\n"
      ]
     },
     "metadata": {},
     "output_type": "display_data"
    },
    {
     "data": {
      "text/html": [
       "<pre style=\"white-space:pre;overflow-x:auto;line-height:normal;font-family:Menlo,'DejaVu Sans Mono',consolas,'Courier New',monospace\"><span style=\"color: #008080; text-decoration-color: #008080; font-weight: bold\">35783</span>,<span style=\"color: #008080; text-decoration-color: #008080; font-weight: bold\">107.9163397073196</span>,<span style=\"color: #008080; text-decoration-color: #008080; font-weight: bold\">39.390057835721045</span>,U\n",
       "</pre>\n"
      ],
      "text/plain": [
       "\u001b[1;36m35783\u001b[0m,\u001b[1;36m107.9163397073196\u001b[0m,\u001b[1;36m39.390057835721045\u001b[0m,U\n"
      ]
     },
     "metadata": {},
     "output_type": "display_data"
    },
    {
     "data": {
      "text/html": [
       "<pre style=\"white-space:pre;overflow-x:auto;line-height:normal;font-family:Menlo,'DejaVu Sans Mono',consolas,'Courier New',monospace\"><span style=\"color: #008080; text-decoration-color: #008080; font-weight: bold\">17987</span>,<span style=\"color: #008080; text-decoration-color: #008080; font-weight: bold\">353.32744585147464</span>,<span style=\"color: #008080; text-decoration-color: #008080; font-weight: bold\">0.6414671224760933</span>,U\n",
       "</pre>\n"
      ],
      "text/plain": [
       "\u001b[1;36m17987\u001b[0m,\u001b[1;36m353.32744585147464\u001b[0m,\u001b[1;36m0.6414671224760933\u001b[0m,U\n"
      ]
     },
     "metadata": {},
     "output_type": "display_data"
    },
    {
     "data": {
      "text/html": [
       "<pre style=\"white-space:pre;overflow-x:auto;line-height:normal;font-family:Menlo,'DejaVu Sans Mono',consolas,'Courier New',monospace\"><span style=\"color: #008080; text-decoration-color: #008080; font-weight: bold\">45671</span>,<span style=\"color: #008080; text-decoration-color: #008080; font-weight: bold\">23.56430259225215</span>,<span style=\"color: #008080; text-decoration-color: #008080; font-weight: bold\">34.00959135392097</span>,U\n",
       "</pre>\n"
      ],
      "text/plain": [
       "\u001b[1;36m45671\u001b[0m,\u001b[1;36m23.56430259225215\u001b[0m,\u001b[1;36m34.00959135392097\u001b[0m,U\n"
      ]
     },
     "metadata": {},
     "output_type": "display_data"
    },
    {
     "data": {
      "text/html": [
       "<pre style=\"white-space:pre;overflow-x:auto;line-height:normal;font-family:Menlo,'DejaVu Sans Mono',consolas,'Courier New',monospace\"><span style=\"color: #008080; text-decoration-color: #008080; font-weight: bold\">40595</span>,<span style=\"color: #008080; text-decoration-color: #008080; font-weight: bold\">44.063131424098046</span>,<span style=\"color: #008080; text-decoration-color: #008080; font-weight: bold\">-54.06506365570917</span>,U\n",
       "</pre>\n"
      ],
      "text/plain": [
       "\u001b[1;36m40595\u001b[0m,\u001b[1;36m44.063131424098046\u001b[0m,\u001b[1;36m-54.06506365570917\u001b[0m,U\n"
      ]
     },
     "metadata": {},
     "output_type": "display_data"
    },
    {
     "data": {
      "text/html": [
       "<pre style=\"white-space:pre;overflow-x:auto;line-height:normal;font-family:Menlo,'DejaVu Sans Mono',consolas,'Courier New',monospace\"><span style=\"color: #008080; text-decoration-color: #008080; font-weight: bold\">7602</span>,<span style=\"color: #008080; text-decoration-color: #008080; font-weight: bold\">343.56495585857533</span>,<span style=\"color: #008080; text-decoration-color: #008080; font-weight: bold\">-0.9901818050482892</span>,U\n",
       "</pre>\n"
      ],
      "text/plain": [
       "\u001b[1;36m7602\u001b[0m,\u001b[1;36m343.56495585857533\u001b[0m,\u001b[1;36m-0.9901818050482892\u001b[0m,U\n"
      ]
     },
     "metadata": {},
     "output_type": "display_data"
    },
    {
     "data": {
      "text/html": [
       "<pre style=\"white-space:pre;overflow-x:auto;line-height:normal;font-family:Menlo,'DejaVu Sans Mono',consolas,'Courier New',monospace\"><span style=\"color: #008080; text-decoration-color: #008080; font-weight: bold\">8573</span>,<span style=\"color: #008080; text-decoration-color: #008080; font-weight: bold\">17.055146434614333</span>,<span style=\"color: #008080; text-decoration-color: #008080; font-weight: bold\">-16.59816605805258</span>,U\n",
       "</pre>\n"
      ],
      "text/plain": [
       "\u001b[1;36m8573\u001b[0m,\u001b[1;36m17.055146434614333\u001b[0m,\u001b[1;36m-16.59816605805258\u001b[0m,U\n"
      ]
     },
     "metadata": {},
     "output_type": "display_data"
    },
    {
     "data": {
      "text/html": [
       "<pre style=\"white-space:pre;overflow-x:auto;line-height:normal;font-family:Menlo,'DejaVu Sans Mono',consolas,'Courier New',monospace\"><span style=\"color: #008080; text-decoration-color: #008080; font-weight: bold\">40221</span>,<span style=\"color: #008080; text-decoration-color: #008080; font-weight: bold\">31.663375834947505</span>,<span style=\"color: #008080; text-decoration-color: #008080; font-weight: bold\">-4.183433979067532</span>,U\n",
       "</pre>\n"
      ],
      "text/plain": [
       "\u001b[1;36m40221\u001b[0m,\u001b[1;36m31.663375834947505\u001b[0m,\u001b[1;36m-4.183433979067532\u001b[0m,U\n"
      ]
     },
     "metadata": {},
     "output_type": "display_data"
    },
    {
     "data": {
      "text/html": [
       "<pre style=\"white-space:pre;overflow-x:auto;line-height:normal;font-family:Menlo,'DejaVu Sans Mono',consolas,'Courier New',monospace\"><span style=\"color: #008080; text-decoration-color: #008080; font-weight: bold\">45671</span>,<span style=\"color: #008080; text-decoration-color: #008080; font-weight: bold\">24.12528805693919</span>,<span style=\"color: #008080; text-decoration-color: #008080; font-weight: bold\">34.374140485055385</span>,U\n",
       "</pre>\n"
      ],
      "text/plain": [
       "\u001b[1;36m45671\u001b[0m,\u001b[1;36m24.12528805693919\u001b[0m,\u001b[1;36m34.374140485055385\u001b[0m,U\n"
      ]
     },
     "metadata": {},
     "output_type": "display_data"
    },
    {
     "data": {
      "text/html": [
       "<pre style=\"white-space:pre;overflow-x:auto;line-height:normal;font-family:Menlo,'DejaVu Sans Mono',consolas,'Courier New',monospace\"><span style=\"color: #008080; text-decoration-color: #008080; font-weight: bold\">16803</span>,<span style=\"color: #008080; text-decoration-color: #008080; font-weight: bold\">273.04395087812367</span>,<span style=\"color: #008080; text-decoration-color: #008080; font-weight: bold\">15.334247386803936</span>,U\n",
       "</pre>\n"
      ],
      "text/plain": [
       "\u001b[1;36m16803\u001b[0m,\u001b[1;36m273.04395087812367\u001b[0m,\u001b[1;36m15.334247386803936\u001b[0m,U\n"
      ]
     },
     "metadata": {},
     "output_type": "display_data"
    },
    {
     "data": {
      "text/html": [
       "<pre style=\"white-space:pre;overflow-x:auto;line-height:normal;font-family:Menlo,'DejaVu Sans Mono',consolas,'Courier New',monospace\"><span style=\"color: #008080; text-decoration-color: #008080; font-weight: bold\">42798</span>,<span style=\"color: #008080; text-decoration-color: #008080; font-weight: bold\">246.761648652078</span>,<span style=\"color: #008080; text-decoration-color: #008080; font-weight: bold\">34.001429546056265</span>,U\n",
       "</pre>\n"
      ],
      "text/plain": [
       "\u001b[1;36m42798\u001b[0m,\u001b[1;36m246.761648652078\u001b[0m,\u001b[1;36m34.001429546056265\u001b[0m,U\n"
      ]
     },
     "metadata": {},
     "output_type": "display_data"
    },
    {
     "data": {
      "text/html": [
       "<pre style=\"white-space:pre;overflow-x:auto;line-height:normal;font-family:Menlo,'DejaVu Sans Mono',consolas,'Courier New',monospace\"><span style=\"color: #008080; text-decoration-color: #008080; font-weight: bold\">42155</span>,<span style=\"color: #008080; text-decoration-color: #008080; font-weight: bold\">195.2301070500401</span>,<span style=\"color: #008080; text-decoration-color: #008080; font-weight: bold\">31.61607883410738</span>,U\n",
       "</pre>\n"
      ],
      "text/plain": [
       "\u001b[1;36m42155\u001b[0m,\u001b[1;36m195.2301070500401\u001b[0m,\u001b[1;36m31.61607883410738\u001b[0m,U\n"
      ]
     },
     "metadata": {},
     "output_type": "display_data"
    },
    {
     "data": {
      "text/html": [
       "<pre style=\"white-space:pre;overflow-x:auto;line-height:normal;font-family:Menlo,'DejaVu Sans Mono',consolas,'Courier New',monospace\"><span style=\"color: #008080; text-decoration-color: #008080; font-weight: bold\">18144</span>,<span style=\"color: #008080; text-decoration-color: #008080; font-weight: bold\">340.49059312347885</span>,<span style=\"color: #008080; text-decoration-color: #008080; font-weight: bold\">14.51775463046936</span>,U\n",
       "</pre>\n"
      ],
      "text/plain": [
       "\u001b[1;36m18144\u001b[0m,\u001b[1;36m340.49059312347885\u001b[0m,\u001b[1;36m14.51775463046936\u001b[0m,U\n"
      ]
     },
     "metadata": {},
     "output_type": "display_data"
    },
    {
     "data": {
      "text/html": [
       "<pre style=\"white-space:pre;overflow-x:auto;line-height:normal;font-family:Menlo,'DejaVu Sans Mono',consolas,'Courier New',monospace\"><span style=\"color: #008080; text-decoration-color: #008080; font-weight: bold\">46670</span>,<span style=\"color: #008080; text-decoration-color: #008080; font-weight: bold\">160.2334073121864</span>,<span style=\"color: #008080; text-decoration-color: #008080; font-weight: bold\">-4.299013503122708</span>,U\n",
       "</pre>\n"
      ],
      "text/plain": [
       "\u001b[1;36m46670\u001b[0m,\u001b[1;36m160.2334073121864\u001b[0m,\u001b[1;36m-4.299013503122708\u001b[0m,U\n"
      ]
     },
     "metadata": {},
     "output_type": "display_data"
    },
    {
     "data": {
      "text/html": [
       "<pre style=\"white-space:pre;overflow-x:auto;line-height:normal;font-family:Menlo,'DejaVu Sans Mono',consolas,'Courier New',monospace\"><span style=\"color: #008080; text-decoration-color: #008080; font-weight: bold\">19643</span>,<span style=\"color: #008080; text-decoration-color: #008080; font-weight: bold\">145.8507263745896</span>,<span style=\"color: #008080; text-decoration-color: #008080; font-weight: bold\">59.77087028941676</span>,U\n",
       "</pre>\n"
      ],
      "text/plain": [
       "\u001b[1;36m19643\u001b[0m,\u001b[1;36m145.8507263745896\u001b[0m,\u001b[1;36m59.77087028941676\u001b[0m,U\n"
      ]
     },
     "metadata": {},
     "output_type": "display_data"
    },
    {
     "data": {
      "text/html": [
       "<pre style=\"white-space:pre;overflow-x:auto;line-height:normal;font-family:Menlo,'DejaVu Sans Mono',consolas,'Courier New',monospace\"><span style=\"color: #008080; text-decoration-color: #008080; font-weight: bold\">41237</span>,<span style=\"color: #008080; text-decoration-color: #008080; font-weight: bold\">183.10954005565492</span>,<span style=\"color: #008080; text-decoration-color: #008080; font-weight: bold\">65.42631632381408</span>,U\n",
       "</pre>\n"
      ],
      "text/plain": [
       "\u001b[1;36m41237\u001b[0m,\u001b[1;36m183.10954005565492\u001b[0m,\u001b[1;36m65.42631632381408\u001b[0m,U\n"
      ]
     },
     "metadata": {},
     "output_type": "display_data"
    },
    {
     "data": {
      "text/html": [
       "<pre style=\"white-space:pre;overflow-x:auto;line-height:normal;font-family:Menlo,'DejaVu Sans Mono',consolas,'Courier New',monospace\"><span style=\"color: #008080; text-decoration-color: #008080; font-weight: bold\">46662</span>,<span style=\"color: #008080; text-decoration-color: #008080; font-weight: bold\">129.6937751815351</span>,<span style=\"color: #008080; text-decoration-color: #008080; font-weight: bold\">-20.55314936622449</span>,U\n",
       "</pre>\n"
      ],
      "text/plain": [
       "\u001b[1;36m46662\u001b[0m,\u001b[1;36m129.6937751815351\u001b[0m,\u001b[1;36m-20.55314936622449\u001b[0m,U\n"
      ]
     },
     "metadata": {},
     "output_type": "display_data"
    },
    {
     "data": {
      "text/html": [
       "<pre style=\"white-space:pre;overflow-x:auto;line-height:normal;font-family:Menlo,'DejaVu Sans Mono',consolas,'Courier New',monospace\"><span style=\"color: #008080; text-decoration-color: #008080; font-weight: bold\">28335</span>,<span style=\"color: #008080; text-decoration-color: #008080; font-weight: bold\">322.3437685563494</span>,<span style=\"color: #008080; text-decoration-color: #008080; font-weight: bold\">1.826444648034856</span>,U\n",
       "</pre>\n"
      ],
      "text/plain": [
       "\u001b[1;36m28335\u001b[0m,\u001b[1;36m322.3437685563494\u001b[0m,\u001b[1;36m1.826444648034856\u001b[0m,U\n"
      ]
     },
     "metadata": {},
     "output_type": "display_data"
    },
    {
     "data": {
      "text/html": [
       "<pre style=\"white-space:pre;overflow-x:auto;line-height:normal;font-family:Menlo,'DejaVu Sans Mono',consolas,'Courier New',monospace\"><span style=\"color: #008080; text-decoration-color: #008080; font-weight: bold\">16492</span>,<span style=\"color: #008080; text-decoration-color: #008080; font-weight: bold\">216.84835701871148</span>,<span style=\"color: #008080; text-decoration-color: #008080; font-weight: bold\">31.89765866558305</span>,U\n",
       "</pre>\n"
      ],
      "text/plain": [
       "\u001b[1;36m16492\u001b[0m,\u001b[1;36m216.84835701871148\u001b[0m,\u001b[1;36m31.89765866558305\u001b[0m,U\n"
      ]
     },
     "metadata": {},
     "output_type": "display_data"
    },
    {
     "data": {
      "text/html": [
       "<pre style=\"white-space:pre;overflow-x:auto;line-height:normal;font-family:Menlo,'DejaVu Sans Mono',consolas,'Courier New',monospace\"><span style=\"color: #008080; text-decoration-color: #008080; font-weight: bold\">36423</span>,<span style=\"color: #008080; text-decoration-color: #008080; font-weight: bold\">126.32090967718224</span>,<span style=\"color: #008080; text-decoration-color: #008080; font-weight: bold\">4.252887247214012</span>,U\n",
       "</pre>\n"
      ],
      "text/plain": [
       "\u001b[1;36m36423\u001b[0m,\u001b[1;36m126.32090967718224\u001b[0m,\u001b[1;36m4.252887247214012\u001b[0m,U\n"
      ]
     },
     "metadata": {},
     "output_type": "display_data"
    },
    {
     "data": {
      "text/html": [
       "<pre style=\"white-space:pre;overflow-x:auto;line-height:normal;font-family:Menlo,'DejaVu Sans Mono',consolas,'Courier New',monospace\"><span style=\"color: #008080; text-decoration-color: #008080; font-weight: bold\">19579</span>,<span style=\"color: #008080; text-decoration-color: #008080; font-weight: bold\">136.4400966906092</span>,<span style=\"color: #008080; text-decoration-color: #008080; font-weight: bold\">56.36558566291438</span>,U\n",
       "</pre>\n"
      ],
      "text/plain": [
       "\u001b[1;36m19579\u001b[0m,\u001b[1;36m136.4400966906092\u001b[0m,\u001b[1;36m56.36558566291438\u001b[0m,U\n"
      ]
     },
     "metadata": {},
     "output_type": "display_data"
    },
    {
     "data": {
      "text/html": [
       "<pre style=\"white-space:pre;overflow-x:auto;line-height:normal;font-family:Menlo,'DejaVu Sans Mono',consolas,'Courier New',monospace\"><span style=\"color: #008080; text-decoration-color: #008080; font-weight: bold\">19139</span>,<span style=\"color: #008080; text-decoration-color: #008080; font-weight: bold\">33.173351170055355</span>,<span style=\"color: #008080; text-decoration-color: #008080; font-weight: bold\">-3.4502319849714493</span>,U\n",
       "</pre>\n"
      ],
      "text/plain": [
       "\u001b[1;36m19139\u001b[0m,\u001b[1;36m33.173351170055355\u001b[0m,\u001b[1;36m-3.4502319849714493\u001b[0m,U\n"
      ]
     },
     "metadata": {},
     "output_type": "display_data"
    },
    {
     "data": {
      "text/html": [
       "<pre style=\"white-space:pre;overflow-x:auto;line-height:normal;font-family:Menlo,'DejaVu Sans Mono',consolas,'Courier New',monospace\"><span style=\"color: #008080; text-decoration-color: #008080; font-weight: bold\">40519</span>,<span style=\"color: #008080; text-decoration-color: #008080; font-weight: bold\">28.24422531862041</span>,<span style=\"color: #008080; text-decoration-color: #008080; font-weight: bold\">1.473804087507875</span>,U\n",
       "</pre>\n"
      ],
      "text/plain": [
       "\u001b[1;36m40519\u001b[0m,\u001b[1;36m28.24422531862041\u001b[0m,\u001b[1;36m1.473804087507875\u001b[0m,U\n"
      ]
     },
     "metadata": {},
     "output_type": "display_data"
    },
    {
     "data": {
      "text/html": [
       "<pre style=\"white-space:pre;overflow-x:auto;line-height:normal;font-family:Menlo,'DejaVu Sans Mono',consolas,'Courier New',monospace\"><span style=\"color: #008080; text-decoration-color: #008080; font-weight: bold\">41188</span>,<span style=\"color: #008080; text-decoration-color: #008080; font-weight: bold\">147.1472955038268</span>,<span style=\"color: #008080; text-decoration-color: #008080; font-weight: bold\">76.16639354788265</span>,U\n",
       "</pre>\n"
      ],
      "text/plain": [
       "\u001b[1;36m41188\u001b[0m,\u001b[1;36m147.1472955038268\u001b[0m,\u001b[1;36m76.16639354788265\u001b[0m,U\n"
      ]
     },
     "metadata": {},
     "output_type": "display_data"
    },
    {
     "data": {
      "text/html": [
       "<pre style=\"white-space:pre;overflow-x:auto;line-height:normal;font-family:Menlo,'DejaVu Sans Mono',consolas,'Courier New',monospace\"><span style=\"color: #008080; text-decoration-color: #008080; font-weight: bold\">16367</span>,<span style=\"color: #008080; text-decoration-color: #008080; font-weight: bold\">219.6251015231373</span>,<span style=\"color: #008080; text-decoration-color: #008080; font-weight: bold\">35.06758621308767</span>,U\n",
       "</pre>\n"
      ],
      "text/plain": [
       "\u001b[1;36m16367\u001b[0m,\u001b[1;36m219.6251015231373\u001b[0m,\u001b[1;36m35.06758621308767\u001b[0m,U\n"
      ]
     },
     "metadata": {},
     "output_type": "display_data"
    },
    {
     "data": {
      "text/html": [
       "<pre style=\"white-space:pre;overflow-x:auto;line-height:normal;font-family:Menlo,'DejaVu Sans Mono',consolas,'Courier New',monospace\"><span style=\"color: #008080; text-decoration-color: #008080; font-weight: bold\">35811</span>,<span style=\"color: #008080; text-decoration-color: #008080; font-weight: bold\">126.7468783083457</span>,<span style=\"color: #008080; text-decoration-color: #008080; font-weight: bold\">53.62614880465417</span>,U\n",
       "</pre>\n"
      ],
      "text/plain": [
       "\u001b[1;36m35811\u001b[0m,\u001b[1;36m126.7468783083457\u001b[0m,\u001b[1;36m53.62614880465417\u001b[0m,U\n"
      ]
     },
     "metadata": {},
     "output_type": "display_data"
    },
    {
     "data": {
      "text/html": [
       "<pre style=\"white-space:pre;overflow-x:auto;line-height:normal;font-family:Menlo,'DejaVu Sans Mono',consolas,'Courier New',monospace\"><span style=\"color: #008080; text-decoration-color: #008080; font-weight: bold\">40582</span>,<span style=\"color: #008080; text-decoration-color: #008080; font-weight: bold\">53.06733966697663</span>,<span style=\"color: #008080; text-decoration-color: #008080; font-weight: bold\">-26.483228779812407</span>,U\n",
       "</pre>\n"
      ],
      "text/plain": [
       "\u001b[1;36m40582\u001b[0m,\u001b[1;36m53.06733966697663\u001b[0m,\u001b[1;36m-26.483228779812407\u001b[0m,U\n"
      ]
     },
     "metadata": {},
     "output_type": "display_data"
    },
    {
     "data": {
      "text/html": [
       "<pre style=\"white-space:pre;overflow-x:auto;line-height:normal;font-family:Menlo,'DejaVu Sans Mono',consolas,'Courier New',monospace\"><span style=\"color: #008080; text-decoration-color: #008080; font-weight: bold\">40790</span>,<span style=\"color: #008080; text-decoration-color: #008080; font-weight: bold\">61.14817347845526</span>,<span style=\"color: #008080; text-decoration-color: #008080; font-weight: bold\">-31.06390148207493</span>,U\n",
       "</pre>\n"
      ],
      "text/plain": [
       "\u001b[1;36m40790\u001b[0m,\u001b[1;36m61.14817347845526\u001b[0m,\u001b[1;36m-31.06390148207493\u001b[0m,U\n"
      ]
     },
     "metadata": {},
     "output_type": "display_data"
    },
    {
     "data": {
      "text/html": [
       "<pre style=\"white-space:pre;overflow-x:auto;line-height:normal;font-family:Menlo,'DejaVu Sans Mono',consolas,'Courier New',monospace\"><span style=\"color: #008080; text-decoration-color: #008080; font-weight: bold\">46375</span>,<span style=\"color: #008080; text-decoration-color: #008080; font-weight: bold\">154.64160727005788</span>,<span style=\"color: #008080; text-decoration-color: #008080; font-weight: bold\">59.193729956466335</span>,U\n",
       "</pre>\n"
      ],
      "text/plain": [
       "\u001b[1;36m46375\u001b[0m,\u001b[1;36m154.64160727005788\u001b[0m,\u001b[1;36m59.193729956466335\u001b[0m,U\n"
      ]
     },
     "metadata": {},
     "output_type": "display_data"
    },
    {
     "data": {
      "text/html": [
       "<pre style=\"white-space:pre;overflow-x:auto;line-height:normal;font-family:Menlo,'DejaVu Sans Mono',consolas,'Courier New',monospace\"><span style=\"color: #008080; text-decoration-color: #008080; font-weight: bold\">17105</span>,<span style=\"color: #008080; text-decoration-color: #008080; font-weight: bold\">247.8285872558148</span>,<span style=\"color: #008080; text-decoration-color: #008080; font-weight: bold\">40.8645602705782</span>,U\n",
       "</pre>\n"
      ],
      "text/plain": [
       "\u001b[1;36m17105\u001b[0m,\u001b[1;36m247.8285872558148\u001b[0m,\u001b[1;36m40.8645602705782\u001b[0m,U\n"
      ]
     },
     "metadata": {},
     "output_type": "display_data"
    },
    {
     "data": {
      "text/html": [
       "<pre style=\"white-space:pre;overflow-x:auto;line-height:normal;font-family:Menlo,'DejaVu Sans Mono',consolas,'Courier New',monospace\"><span style=\"color: #008080; text-decoration-color: #008080; font-weight: bold\">44969</span>,<span style=\"color: #008080; text-decoration-color: #008080; font-weight: bold\">339.79171604936977</span>,<span style=\"color: #008080; text-decoration-color: #008080; font-weight: bold\">16.462817934041627</span>,U\n",
       "</pre>\n"
      ],
      "text/plain": [
       "\u001b[1;36m44969\u001b[0m,\u001b[1;36m339.79171604936977\u001b[0m,\u001b[1;36m16.462817934041627\u001b[0m,U\n"
      ]
     },
     "metadata": {},
     "output_type": "display_data"
    },
    {
     "data": {
      "text/html": [
       "<pre style=\"white-space:pre;overflow-x:auto;line-height:normal;font-family:Menlo,'DejaVu Sans Mono',consolas,'Courier New',monospace\"><span style=\"color: #008080; text-decoration-color: #008080; font-weight: bold\">35166</span>,<span style=\"color: #008080; text-decoration-color: #008080; font-weight: bold\">54.29252067368935</span>,<span style=\"color: #008080; text-decoration-color: #008080; font-weight: bold\">-34.96038564697507</span>,U\n",
       "</pre>\n"
      ],
      "text/plain": [
       "\u001b[1;36m35166\u001b[0m,\u001b[1;36m54.29252067368935\u001b[0m,\u001b[1;36m-34.96038564697507\u001b[0m,U\n"
      ]
     },
     "metadata": {},
     "output_type": "display_data"
    },
    {
     "data": {
      "text/html": [
       "<pre style=\"white-space:pre;overflow-x:auto;line-height:normal;font-family:Menlo,'DejaVu Sans Mono',consolas,'Courier New',monospace\"><span style=\"color: #008080; text-decoration-color: #008080; font-weight: bold\">44963</span>,<span style=\"color: #008080; text-decoration-color: #008080; font-weight: bold\">345.2616124813083</span>,<span style=\"color: #008080; text-decoration-color: #008080; font-weight: bold\">28.68837973588415</span>,U\n",
       "</pre>\n"
      ],
      "text/plain": [
       "\u001b[1;36m44963\u001b[0m,\u001b[1;36m345.2616124813083\u001b[0m,\u001b[1;36m28.68837973588415\u001b[0m,U\n"
      ]
     },
     "metadata": {},
     "output_type": "display_data"
    },
    {
     "data": {
      "text/html": [
       "<pre style=\"white-space:pre;overflow-x:auto;line-height:normal;font-family:Menlo,'DejaVu Sans Mono',consolas,'Courier New',monospace\"><span style=\"color: #008080; text-decoration-color: #008080; font-weight: bold\">34210</span>,<span style=\"color: #008080; text-decoration-color: #008080; font-weight: bold\">333.0497984878986</span>,<span style=\"color: #008080; text-decoration-color: #008080; font-weight: bold\">0.8709898911648987</span>,U\n",
       "</pre>\n"
      ],
      "text/plain": [
       "\u001b[1;36m34210\u001b[0m,\u001b[1;36m333.0497984878986\u001b[0m,\u001b[1;36m0.8709898911648987\u001b[0m,U\n"
      ]
     },
     "metadata": {},
     "output_type": "display_data"
    },
    {
     "data": {
      "text/html": [
       "<pre style=\"white-space:pre;overflow-x:auto;line-height:normal;font-family:Menlo,'DejaVu Sans Mono',consolas,'Courier New',monospace\"><span style=\"color: #008080; text-decoration-color: #008080; font-weight: bold\">45826</span>,<span style=\"color: #008080; text-decoration-color: #008080; font-weight: bold\">62.06725185712196</span>,<span style=\"color: #008080; text-decoration-color: #008080; font-weight: bold\">-43.0927697334507</span>,U\n",
       "</pre>\n"
      ],
      "text/plain": [
       "\u001b[1;36m45826\u001b[0m,\u001b[1;36m62.06725185712196\u001b[0m,\u001b[1;36m-43.0927697334507\u001b[0m,U\n"
      ]
     },
     "metadata": {},
     "output_type": "display_data"
    },
    {
     "data": {
      "text/html": [
       "<pre style=\"white-space:pre;overflow-x:auto;line-height:normal;font-family:Menlo,'DejaVu Sans Mono',consolas,'Courier New',monospace\"><span style=\"color: #008080; text-decoration-color: #008080; font-weight: bold\">34316</span>,<span style=\"color: #008080; text-decoration-color: #008080; font-weight: bold\">9.000932449234881</span>,<span style=\"color: #008080; text-decoration-color: #008080; font-weight: bold\">41.22688583695137</span>,U\n",
       "</pre>\n"
      ],
      "text/plain": [
       "\u001b[1;36m34316\u001b[0m,\u001b[1;36m9.000932449234881\u001b[0m,\u001b[1;36m41.22688583695137\u001b[0m,U\n"
      ]
     },
     "metadata": {},
     "output_type": "display_data"
    },
    {
     "data": {
      "text/html": [
       "<pre style=\"white-space:pre;overflow-x:auto;line-height:normal;font-family:Menlo,'DejaVu Sans Mono',consolas,'Courier New',monospace\"><span style=\"color: #008080; text-decoration-color: #008080; font-weight: bold\">45674</span>,<span style=\"color: #008080; text-decoration-color: #008080; font-weight: bold\">27.21137046584893</span>,<span style=\"color: #008080; text-decoration-color: #008080; font-weight: bold\">42.25265602742328</span>,U\n",
       "</pre>\n"
      ],
      "text/plain": [
       "\u001b[1;36m45674\u001b[0m,\u001b[1;36m27.21137046584893\u001b[0m,\u001b[1;36m42.25265602742328\u001b[0m,U\n"
      ]
     },
     "metadata": {},
     "output_type": "display_data"
    },
    {
     "data": {
      "text/html": [
       "<pre style=\"white-space:pre;overflow-x:auto;line-height:normal;font-family:Menlo,'DejaVu Sans Mono',consolas,'Courier New',monospace\"><span style=\"color: #008080; text-decoration-color: #008080; font-weight: bold\">17974</span>,<span style=\"color: #008080; text-decoration-color: #008080; font-weight: bold\">340.08922568552265</span>,<span style=\"color: #008080; text-decoration-color: #008080; font-weight: bold\">13.879106130889898</span>,U\n",
       "</pre>\n"
      ],
      "text/plain": [
       "\u001b[1;36m17974\u001b[0m,\u001b[1;36m340.08922568552265\u001b[0m,\u001b[1;36m13.879106130889898\u001b[0m,U\n"
      ]
     },
     "metadata": {},
     "output_type": "display_data"
    },
    {
     "data": {
      "text/html": [
       "<pre style=\"white-space:pre;overflow-x:auto;line-height:normal;font-family:Menlo,'DejaVu Sans Mono',consolas,'Courier New',monospace\"><span style=\"color: #008080; text-decoration-color: #008080; font-weight: bold\">46126</span>,<span style=\"color: #008080; text-decoration-color: #008080; font-weight: bold\">81.99020597246593</span>,<span style=\"color: #008080; text-decoration-color: #008080; font-weight: bold\">-25.650565517633005</span>,U\n",
       "</pre>\n"
      ],
      "text/plain": [
       "\u001b[1;36m46126\u001b[0m,\u001b[1;36m81.99020597246593\u001b[0m,\u001b[1;36m-25.650565517633005\u001b[0m,U\n"
      ]
     },
     "metadata": {},
     "output_type": "display_data"
    },
    {
     "data": {
      "text/html": [
       "<pre style=\"white-space:pre;overflow-x:auto;line-height:normal;font-family:Menlo,'DejaVu Sans Mono',consolas,'Courier New',monospace\"><span style=\"color: #008080; text-decoration-color: #008080; font-weight: bold\">46807</span>,<span style=\"color: #008080; text-decoration-color: #008080; font-weight: bold\">183.1763167012841</span>,<span style=\"color: #008080; text-decoration-color: #008080; font-weight: bold\">-26.926904089339533</span>,U\n",
       "</pre>\n"
      ],
      "text/plain": [
       "\u001b[1;36m46807\u001b[0m,\u001b[1;36m183.1763167012841\u001b[0m,\u001b[1;36m-26.926904089339533\u001b[0m,U\n"
      ]
     },
     "metadata": {},
     "output_type": "display_data"
    },
    {
     "data": {
      "text/html": [
       "<pre style=\"white-space:pre;overflow-x:auto;line-height:normal;font-family:Menlo,'DejaVu Sans Mono',consolas,'Courier New',monospace\"><span style=\"color: #008080; text-decoration-color: #008080; font-weight: bold\">35518</span>,<span style=\"color: #008080; text-decoration-color: #008080; font-weight: bold\">121.32369802552977</span>,<span style=\"color: #008080; text-decoration-color: #008080; font-weight: bold\">14.66623199708012</span>,U\n",
       "</pre>\n"
      ],
      "text/plain": [
       "\u001b[1;36m35518\u001b[0m,\u001b[1;36m121.32369802552977\u001b[0m,\u001b[1;36m14.66623199708012\u001b[0m,U\n"
      ]
     },
     "metadata": {},
     "output_type": "display_data"
    },
    {
     "data": {
      "text/html": [
       "<pre style=\"white-space:pre;overflow-x:auto;line-height:normal;font-family:Menlo,'DejaVu Sans Mono',consolas,'Courier New',monospace\"><span style=\"color: #008080; text-decoration-color: #008080; font-weight: bold\">44631</span>,<span style=\"color: #008080; text-decoration-color: #008080; font-weight: bold\">305.9783334420057</span>,<span style=\"color: #008080; text-decoration-color: #008080; font-weight: bold\">17.92405146410748</span>,U\n",
       "</pre>\n"
      ],
      "text/plain": [
       "\u001b[1;36m44631\u001b[0m,\u001b[1;36m305.9783334420057\u001b[0m,\u001b[1;36m17.92405146410748\u001b[0m,U\n"
      ]
     },
     "metadata": {},
     "output_type": "display_data"
    },
    {
     "data": {
      "text/html": [
       "<pre style=\"white-space:pre;overflow-x:auto;line-height:normal;font-family:Menlo,'DejaVu Sans Mono',consolas,'Courier New',monospace\"><span style=\"color: #008080; text-decoration-color: #008080; font-weight: bold\">36601</span>,<span style=\"color: #008080; text-decoration-color: #008080; font-weight: bold\">105.55763963621727</span>,<span style=\"color: #008080; text-decoration-color: #008080; font-weight: bold\">64.20431763443663</span>,U\n",
       "</pre>\n"
      ],
      "text/plain": [
       "\u001b[1;36m36601\u001b[0m,\u001b[1;36m105.55763963621727\u001b[0m,\u001b[1;36m64.20431763443663\u001b[0m,U\n"
      ]
     },
     "metadata": {},
     "output_type": "display_data"
    },
    {
     "data": {
      "text/html": [
       "<pre style=\"white-space:pre;overflow-x:auto;line-height:normal;font-family:Menlo,'DejaVu Sans Mono',consolas,'Courier New',monospace\"><span style=\"color: #008080; text-decoration-color: #008080; font-weight: bold\">43647</span>,<span style=\"color: #008080; text-decoration-color: #008080; font-weight: bold\">153.54732473979243</span>,<span style=\"color: #008080; text-decoration-color: #008080; font-weight: bold\">-76.12701701175645</span>,U\n",
       "</pre>\n"
      ],
      "text/plain": [
       "\u001b[1;36m43647\u001b[0m,\u001b[1;36m153.54732473979243\u001b[0m,\u001b[1;36m-76.12701701175645\u001b[0m,U\n"
      ]
     },
     "metadata": {},
     "output_type": "display_data"
    },
    {
     "data": {
      "text/html": [
       "<pre style=\"white-space:pre;overflow-x:auto;line-height:normal;font-family:Menlo,'DejaVu Sans Mono',consolas,'Courier New',monospace\"><span style=\"color: #008080; text-decoration-color: #008080; font-weight: bold\">45372</span>,<span style=\"color: #008080; text-decoration-color: #008080; font-weight: bold\">25.440914995554493</span>,<span style=\"color: #008080; text-decoration-color: #008080; font-weight: bold\">-32.253782617478805</span>,U\n",
       "</pre>\n"
      ],
      "text/plain": [
       "\u001b[1;36m45372\u001b[0m,\u001b[1;36m25.440914995554493\u001b[0m,\u001b[1;36m-32.253782617478805\u001b[0m,U\n"
      ]
     },
     "metadata": {},
     "output_type": "display_data"
    },
    {
     "data": {
      "text/html": [
       "<pre style=\"white-space:pre;overflow-x:auto;line-height:normal;font-family:Menlo,'DejaVu Sans Mono',consolas,'Courier New',monospace\"><span style=\"color: #008080; text-decoration-color: #008080; font-weight: bold\">16848</span>,<span style=\"color: #008080; text-decoration-color: #008080; font-weight: bold\">271.49591390113807</span>,<span style=\"color: #008080; text-decoration-color: #008080; font-weight: bold\">16.44291603367753</span>,U\n",
       "</pre>\n"
      ],
      "text/plain": [
       "\u001b[1;36m16848\u001b[0m,\u001b[1;36m271.49591390113807\u001b[0m,\u001b[1;36m16.44291603367753\u001b[0m,U\n"
      ]
     },
     "metadata": {},
     "output_type": "display_data"
    },
    {
     "data": {
      "text/html": [
       "<pre style=\"white-space:pre;overflow-x:auto;line-height:normal;font-family:Menlo,'DejaVu Sans Mono',consolas,'Courier New',monospace\"><span style=\"color: #008080; text-decoration-color: #008080; font-weight: bold\">45041</span>,<span style=\"color: #008080; text-decoration-color: #008080; font-weight: bold\">344.6987271289836</span>,<span style=\"color: #008080; text-decoration-color: #008080; font-weight: bold\">18.913100604854264</span>,U\n",
       "</pre>\n"
      ],
      "text/plain": [
       "\u001b[1;36m45041\u001b[0m,\u001b[1;36m344.6987271289836\u001b[0m,\u001b[1;36m18.913100604854264\u001b[0m,U\n"
      ]
     },
     "metadata": {},
     "output_type": "display_data"
    },
    {
     "data": {
      "text/html": [
       "<pre style=\"white-space:pre;overflow-x:auto;line-height:normal;font-family:Menlo,'DejaVu Sans Mono',consolas,'Courier New',monospace\"><span style=\"color: #008080; text-decoration-color: #008080; font-weight: bold\">10565</span>,<span style=\"color: #008080; text-decoration-color: #008080; font-weight: bold\">162.8797101181917</span>,<span style=\"color: #008080; text-decoration-color: #008080; font-weight: bold\">57.5772376637936</span>,U\n",
       "</pre>\n"
      ],
      "text/plain": [
       "\u001b[1;36m10565\u001b[0m,\u001b[1;36m162.8797101181917\u001b[0m,\u001b[1;36m57.5772376637936\u001b[0m,U\n"
      ]
     },
     "metadata": {},
     "output_type": "display_data"
    },
    {
     "data": {
      "text/html": [
       "<pre style=\"white-space:pre;overflow-x:auto;line-height:normal;font-family:Menlo,'DejaVu Sans Mono',consolas,'Courier New',monospace\"><span style=\"color: #008080; text-decoration-color: #008080; font-weight: bold\">8888</span>,<span style=\"color: #008080; text-decoration-color: #008080; font-weight: bold\">75.44377424661705</span>,<span style=\"color: #008080; text-decoration-color: #008080; font-weight: bold\">-3.9893136478907096</span>,U\n",
       "</pre>\n"
      ],
      "text/plain": [
       "\u001b[1;36m8888\u001b[0m,\u001b[1;36m75.44377424661705\u001b[0m,\u001b[1;36m-3.9893136478907096\u001b[0m,U\n"
      ]
     },
     "metadata": {},
     "output_type": "display_data"
    },
    {
     "data": {
      "text/html": [
       "<pre style=\"white-space:pre;overflow-x:auto;line-height:normal;font-family:Menlo,'DejaVu Sans Mono',consolas,'Courier New',monospace\"><span style=\"color: #008080; text-decoration-color: #008080; font-weight: bold\">42978</span>,<span style=\"color: #008080; text-decoration-color: #008080; font-weight: bold\">228.7551089749806</span>,<span style=\"color: #008080; text-decoration-color: #008080; font-weight: bold\">19.44291394512373</span>,U\n",
       "</pre>\n"
      ],
      "text/plain": [
       "\u001b[1;36m42978\u001b[0m,\u001b[1;36m228.7551089749806\u001b[0m,\u001b[1;36m19.44291394512373\u001b[0m,U\n"
      ]
     },
     "metadata": {},
     "output_type": "display_data"
    },
    {
     "data": {
      "text/html": [
       "<pre style=\"white-space:pre;overflow-x:auto;line-height:normal;font-family:Menlo,'DejaVu Sans Mono',consolas,'Courier New',monospace\"><span style=\"color: #008080; text-decoration-color: #008080; font-weight: bold\">28566</span>,<span style=\"color: #008080; text-decoration-color: #008080; font-weight: bold\">358.5495977661544</span>,<span style=\"color: #008080; text-decoration-color: #008080; font-weight: bold\">-12.875779047308477</span>,U\n",
       "</pre>\n"
      ],
      "text/plain": [
       "\u001b[1;36m28566\u001b[0m,\u001b[1;36m358.5495977661544\u001b[0m,\u001b[1;36m-12.875779047308477\u001b[0m,U\n"
      ]
     },
     "metadata": {},
     "output_type": "display_data"
    },
    {
     "data": {
      "text/html": [
       "<pre style=\"white-space:pre;overflow-x:auto;line-height:normal;font-family:Menlo,'DejaVu Sans Mono',consolas,'Courier New',monospace\"><span style=\"color: #008080; text-decoration-color: #008080; font-weight: bold\">45648</span>,<span style=\"color: #008080; text-decoration-color: #008080; font-weight: bold\">135.74022941442516</span>,<span style=\"color: #008080; text-decoration-color: #008080; font-weight: bold\">75.64726629707846</span>,U\n",
       "</pre>\n"
      ],
      "text/plain": [
       "\u001b[1;36m45648\u001b[0m,\u001b[1;36m135.74022941442516\u001b[0m,\u001b[1;36m75.64726629707846\u001b[0m,U\n"
      ]
     },
     "metadata": {},
     "output_type": "display_data"
    },
    {
     "data": {
      "text/html": [
       "<pre style=\"white-space:pre;overflow-x:auto;line-height:normal;font-family:Menlo,'DejaVu Sans Mono',consolas,'Courier New',monospace\"><span style=\"color: #008080; text-decoration-color: #008080; font-weight: bold\">35299</span>,<span style=\"color: #008080; text-decoration-color: #008080; font-weight: bold\">51.67941246642054</span>,<span style=\"color: #008080; text-decoration-color: #008080; font-weight: bold\">-27.02385816324512</span>,U\n",
       "</pre>\n"
      ],
      "text/plain": [
       "\u001b[1;36m35299\u001b[0m,\u001b[1;36m51.67941246642054\u001b[0m,\u001b[1;36m-27.02385816324512\u001b[0m,U\n"
      ]
     },
     "metadata": {},
     "output_type": "display_data"
    },
    {
     "data": {
      "text/html": [
       "<pre style=\"white-space:pre;overflow-x:auto;line-height:normal;font-family:Menlo,'DejaVu Sans Mono',consolas,'Courier New',monospace\"><span style=\"color: #008080; text-decoration-color: #008080; font-weight: bold\">44270</span>,<span style=\"color: #008080; text-decoration-color: #008080; font-weight: bold\">305.23680186976765</span>,<span style=\"color: #008080; text-decoration-color: #008080; font-weight: bold\">-18.474872135503627</span>,U\n",
       "</pre>\n"
      ],
      "text/plain": [
       "\u001b[1;36m44270\u001b[0m,\u001b[1;36m305.23680186976765\u001b[0m,\u001b[1;36m-18.474872135503627\u001b[0m,U\n"
      ]
     },
     "metadata": {},
     "output_type": "display_data"
    },
    {
     "data": {
      "text/html": [
       "<pre style=\"white-space:pre;overflow-x:auto;line-height:normal;font-family:Menlo,'DejaVu Sans Mono',consolas,'Courier New',monospace\"><span style=\"color: #008080; text-decoration-color: #008080; font-weight: bold\">45718</span>,<span style=\"color: #008080; text-decoration-color: #008080; font-weight: bold\">14.968906513304256</span>,<span style=\"color: #008080; text-decoration-color: #008080; font-weight: bold\">-30.36261515327606</span>,U\n",
       "</pre>\n"
      ],
      "text/plain": [
       "\u001b[1;36m45718\u001b[0m,\u001b[1;36m14.968906513304256\u001b[0m,\u001b[1;36m-30.36261515327606\u001b[0m,U\n"
      ]
     },
     "metadata": {},
     "output_type": "display_data"
    },
    {
     "data": {
      "text/html": [
       "<pre style=\"white-space:pre;overflow-x:auto;line-height:normal;font-family:Menlo,'DejaVu Sans Mono',consolas,'Courier New',monospace\"><span style=\"color: #008080; text-decoration-color: #008080; font-weight: bold\">16207</span>,<span style=\"color: #008080; text-decoration-color: #008080; font-weight: bold\">218.60224527818656</span>,<span style=\"color: #008080; text-decoration-color: #008080; font-weight: bold\">34.30503522695452</span>,U\n",
       "</pre>\n"
      ],
      "text/plain": [
       "\u001b[1;36m16207\u001b[0m,\u001b[1;36m218.60224527818656\u001b[0m,\u001b[1;36m34.30503522695452\u001b[0m,U\n"
      ]
     },
     "metadata": {},
     "output_type": "display_data"
    },
    {
     "data": {
      "text/html": [
       "<pre style=\"white-space:pre;overflow-x:auto;line-height:normal;font-family:Menlo,'DejaVu Sans Mono',consolas,'Courier New',monospace\"><span style=\"color: #008080; text-decoration-color: #008080; font-weight: bold\">43107</span>,<span style=\"color: #008080; text-decoration-color: #008080; font-weight: bold\">229.6475766250295</span>,<span style=\"color: #008080; text-decoration-color: #008080; font-weight: bold\">-24.997479637298312</span>,U\n",
       "</pre>\n"
      ],
      "text/plain": [
       "\u001b[1;36m43107\u001b[0m,\u001b[1;36m229.6475766250295\u001b[0m,\u001b[1;36m-24.997479637298312\u001b[0m,U\n"
      ]
     },
     "metadata": {},
     "output_type": "display_data"
    },
    {
     "data": {
      "text/html": [
       "<pre style=\"white-space:pre;overflow-x:auto;line-height:normal;font-family:Menlo,'DejaVu Sans Mono',consolas,'Courier New',monospace\"><span style=\"color: #008080; text-decoration-color: #008080; font-weight: bold\">45815</span>,<span style=\"color: #008080; text-decoration-color: #008080; font-weight: bold\">13.55723041901064</span>,<span style=\"color: #008080; text-decoration-color: #008080; font-weight: bold\">-50.47312718180448</span>,U\n",
       "</pre>\n"
      ],
      "text/plain": [
       "\u001b[1;36m45815\u001b[0m,\u001b[1;36m13.55723041901064\u001b[0m,\u001b[1;36m-50.47312718180448\u001b[0m,U\n"
      ]
     },
     "metadata": {},
     "output_type": "display_data"
    },
    {
     "data": {
      "text/html": [
       "<pre style=\"white-space:pre;overflow-x:auto;line-height:normal;font-family:Menlo,'DejaVu Sans Mono',consolas,'Courier New',monospace\"><span style=\"color: #008080; text-decoration-color: #008080; font-weight: bold\">17392</span>,<span style=\"color: #008080; text-decoration-color: #008080; font-weight: bold\">326.58046586372524</span>,<span style=\"color: #008080; text-decoration-color: #008080; font-weight: bold\">-20.80088865223546</span>,U\n",
       "</pre>\n"
      ],
      "text/plain": [
       "\u001b[1;36m17392\u001b[0m,\u001b[1;36m326.58046586372524\u001b[0m,\u001b[1;36m-20.80088865223546\u001b[0m,U\n"
      ]
     },
     "metadata": {},
     "output_type": "display_data"
    },
    {
     "data": {
      "text/html": [
       "<pre style=\"white-space:pre;overflow-x:auto;line-height:normal;font-family:Menlo,'DejaVu Sans Mono',consolas,'Courier New',monospace\"><span style=\"color: #008080; text-decoration-color: #008080; font-weight: bold\">44969</span>,<span style=\"color: #008080; text-decoration-color: #008080; font-weight: bold\">340.1646536484475</span>,<span style=\"color: #008080; text-decoration-color: #008080; font-weight: bold\">16.628501321656803</span>,U\n",
       "</pre>\n"
      ],
      "text/plain": [
       "\u001b[1;36m44969\u001b[0m,\u001b[1;36m340.1646536484475\u001b[0m,\u001b[1;36m16.628501321656803\u001b[0m,U\n"
      ]
     },
     "metadata": {},
     "output_type": "display_data"
    },
    {
     "data": {
      "text/html": [
       "<pre style=\"white-space:pre;overflow-x:auto;line-height:normal;font-family:Menlo,'DejaVu Sans Mono',consolas,'Courier New',monospace\"><span style=\"color: #008080; text-decoration-color: #008080; font-weight: bold\">45575</span>,<span style=\"color: #008080; text-decoration-color: #008080; font-weight: bold\">23.893933910190977</span>,<span style=\"color: #008080; text-decoration-color: #008080; font-weight: bold\">44.68448169678933</span>,U\n",
       "</pre>\n"
      ],
      "text/plain": [
       "\u001b[1;36m45575\u001b[0m,\u001b[1;36m23.893933910190977\u001b[0m,\u001b[1;36m44.68448169678933\u001b[0m,U\n"
      ]
     },
     "metadata": {},
     "output_type": "display_data"
    },
    {
     "data": {
      "text/html": [
       "<pre style=\"white-space:pre;overflow-x:auto;line-height:normal;font-family:Menlo,'DejaVu Sans Mono',consolas,'Courier New',monospace\"><span style=\"color: #008080; text-decoration-color: #008080; font-weight: bold\">35630</span>,<span style=\"color: #008080; text-decoration-color: #008080; font-weight: bold\">132.01845290551606</span>,<span style=\"color: #008080; text-decoration-color: #008080; font-weight: bold\">-6.421741590626621</span>,U\n",
       "</pre>\n"
      ],
      "text/plain": [
       "\u001b[1;36m35630\u001b[0m,\u001b[1;36m132.01845290551606\u001b[0m,\u001b[1;36m-6.421741590626621\u001b[0m,U\n"
      ]
     },
     "metadata": {},
     "output_type": "display_data"
    },
    {
     "data": {
      "text/html": [
       "<pre style=\"white-space:pre;overflow-x:auto;line-height:normal;font-family:Menlo,'DejaVu Sans Mono',consolas,'Courier New',monospace\"><span style=\"color: #008080; text-decoration-color: #008080; font-weight: bold\">45659</span>,<span style=\"color: #008080; text-decoration-color: #008080; font-weight: bold\">21.393774811444224</span>,<span style=\"color: #008080; text-decoration-color: #008080; font-weight: bold\">27.86530287261166</span>,U\n",
       "</pre>\n"
      ],
      "text/plain": [
       "\u001b[1;36m45659\u001b[0m,\u001b[1;36m21.393774811444224\u001b[0m,\u001b[1;36m27.86530287261166\u001b[0m,U\n"
      ]
     },
     "metadata": {},
     "output_type": "display_data"
    },
    {
     "data": {
      "text/html": [
       "<pre style=\"white-space:pre;overflow-x:auto;line-height:normal;font-family:Menlo,'DejaVu Sans Mono',consolas,'Courier New',monospace\"><span style=\"color: #008080; text-decoration-color: #008080; font-weight: bold\">45543</span>,<span style=\"color: #008080; text-decoration-color: #008080; font-weight: bold\">261.39244589472696</span>,<span style=\"color: #008080; text-decoration-color: #008080; font-weight: bold\">79.25534735015606</span>,U\n",
       "</pre>\n"
      ],
      "text/plain": [
       "\u001b[1;36m45543\u001b[0m,\u001b[1;36m261.39244589472696\u001b[0m,\u001b[1;36m79.25534735015606\u001b[0m,U\n"
      ]
     },
     "metadata": {},
     "output_type": "display_data"
    },
    {
     "data": {
      "text/html": [
       "<pre style=\"white-space:pre;overflow-x:auto;line-height:normal;font-family:Menlo,'DejaVu Sans Mono',consolas,'Courier New',monospace\"><span style=\"color: #008080; text-decoration-color: #008080; font-weight: bold\">18975</span>,<span style=\"color: #008080; text-decoration-color: #008080; font-weight: bold\">35.05972252151389</span>,<span style=\"color: #008080; text-decoration-color: #008080; font-weight: bold\">-2.8674104592547267</span>,U\n",
       "</pre>\n"
      ],
      "text/plain": [
       "\u001b[1;36m18975\u001b[0m,\u001b[1;36m35.05972252151389\u001b[0m,\u001b[1;36m-2.8674104592547267\u001b[0m,U\n"
      ]
     },
     "metadata": {},
     "output_type": "display_data"
    },
    {
     "data": {
      "text/html": [
       "<pre style=\"white-space:pre;overflow-x:auto;line-height:normal;font-family:Menlo,'DejaVu Sans Mono',consolas,'Courier New',monospace\"><span style=\"color: #008080; text-decoration-color: #008080; font-weight: bold\">40998</span>,<span style=\"color: #008080; text-decoration-color: #008080; font-weight: bold\">74.42189409943707</span>,<span style=\"color: #008080; text-decoration-color: #008080; font-weight: bold\">18.935160397836142</span>,U\n",
       "</pre>\n"
      ],
      "text/plain": [
       "\u001b[1;36m40998\u001b[0m,\u001b[1;36m74.42189409943707\u001b[0m,\u001b[1;36m18.935160397836142\u001b[0m,U\n"
      ]
     },
     "metadata": {},
     "output_type": "display_data"
    },
    {
     "data": {
      "text/html": [
       "<pre style=\"white-space:pre;overflow-x:auto;line-height:normal;font-family:Menlo,'DejaVu Sans Mono',consolas,'Courier New',monospace\"><span style=\"color: #008080; text-decoration-color: #008080; font-weight: bold\">45961</span>,<span style=\"color: #008080; text-decoration-color: #008080; font-weight: bold\">30.78621814399079</span>,<span style=\"color: #008080; text-decoration-color: #008080; font-weight: bold\">-48.795540427988094</span>,U\n",
       "</pre>\n"
      ],
      "text/plain": [
       "\u001b[1;36m45961\u001b[0m,\u001b[1;36m30.78621814399079\u001b[0m,\u001b[1;36m-48.795540427988094\u001b[0m,U\n"
      ]
     },
     "metadata": {},
     "output_type": "display_data"
    },
    {
     "data": {
      "text/html": [
       "<pre style=\"white-space:pre;overflow-x:auto;line-height:normal;font-family:Menlo,'DejaVu Sans Mono',consolas,'Courier New',monospace\"><span style=\"color: #008080; text-decoration-color: #008080; font-weight: bold\">44368</span>,<span style=\"color: #008080; text-decoration-color: #008080; font-weight: bold\">257.7310381993032</span>,<span style=\"color: #008080; text-decoration-color: #008080; font-weight: bold\">-64.86355299601928</span>,U\n",
       "</pre>\n"
      ],
      "text/plain": [
       "\u001b[1;36m44368\u001b[0m,\u001b[1;36m257.7310381993032\u001b[0m,\u001b[1;36m-64.86355299601928\u001b[0m,U\n"
      ]
     },
     "metadata": {},
     "output_type": "display_data"
    },
    {
     "data": {
      "text/html": [
       "<pre style=\"white-space:pre;overflow-x:auto;line-height:normal;font-family:Menlo,'DejaVu Sans Mono',consolas,'Courier New',monospace\"><span style=\"color: #008080; text-decoration-color: #008080; font-weight: bold\">41917</span>,<span style=\"color: #008080; text-decoration-color: #008080; font-weight: bold\">140.4245045982683</span>,<span style=\"color: #008080; text-decoration-color: #008080; font-weight: bold\">31.466854619113136</span>,U\n",
       "</pre>\n"
      ],
      "text/plain": [
       "\u001b[1;36m41917\u001b[0m,\u001b[1;36m140.4245045982683\u001b[0m,\u001b[1;36m31.466854619113136\u001b[0m,U\n"
      ]
     },
     "metadata": {},
     "output_type": "display_data"
    },
    {
     "data": {
      "text/html": [
       "<pre style=\"white-space:pre;overflow-x:auto;line-height:normal;font-family:Menlo,'DejaVu Sans Mono',consolas,'Courier New',monospace\"><span style=\"color: #008080; text-decoration-color: #008080; font-weight: bold\">19013</span>,<span style=\"color: #008080; text-decoration-color: #008080; font-weight: bold\">33.90026045615598</span>,<span style=\"color: #008080; text-decoration-color: #008080; font-weight: bold\">-6.023132752424272</span>,U\n",
       "</pre>\n"
      ],
      "text/plain": [
       "\u001b[1;36m19013\u001b[0m,\u001b[1;36m33.90026045615598\u001b[0m,\u001b[1;36m-6.023132752424272\u001b[0m,U\n"
      ]
     },
     "metadata": {},
     "output_type": "display_data"
    },
    {
     "data": {
      "text/html": [
       "<pre style=\"white-space:pre;overflow-x:auto;line-height:normal;font-family:Menlo,'DejaVu Sans Mono',consolas,'Courier New',monospace\"><span style=\"color: #008080; text-decoration-color: #008080; font-weight: bold\">40353</span>,<span style=\"color: #008080; text-decoration-color: #008080; font-weight: bold\">37.42815019193501</span>,<span style=\"color: #008080; text-decoration-color: #008080; font-weight: bold\">-6.173222968981982</span>,U\n",
       "</pre>\n"
      ],
      "text/plain": [
       "\u001b[1;36m40353\u001b[0m,\u001b[1;36m37.42815019193501\u001b[0m,\u001b[1;36m-6.173222968981982\u001b[0m,U\n"
      ]
     },
     "metadata": {},
     "output_type": "display_data"
    },
    {
     "data": {
      "text/html": [
       "<pre style=\"white-space:pre;overflow-x:auto;line-height:normal;font-family:Menlo,'DejaVu Sans Mono',consolas,'Courier New',monospace\"><span style=\"color: #008080; text-decoration-color: #008080; font-weight: bold\">35708</span>,<span style=\"color: #008080; text-decoration-color: #008080; font-weight: bold\">111.25999330307924</span>,<span style=\"color: #008080; text-decoration-color: #008080; font-weight: bold\">5.071943647489048</span>,U\n",
       "</pre>\n"
      ],
      "text/plain": [
       "\u001b[1;36m35708\u001b[0m,\u001b[1;36m111.25999330307924\u001b[0m,\u001b[1;36m5.071943647489048\u001b[0m,U\n"
      ]
     },
     "metadata": {},
     "output_type": "display_data"
    },
    {
     "data": {
      "text/html": [
       "<pre style=\"white-space:pre;overflow-x:auto;line-height:normal;font-family:Menlo,'DejaVu Sans Mono',consolas,'Courier New',monospace\"><span style=\"color: #008080; text-decoration-color: #008080; font-weight: bold\">44108</span>,<span style=\"color: #008080; text-decoration-color: #008080; font-weight: bold\">277.13124445041484</span>,<span style=\"color: #008080; text-decoration-color: #008080; font-weight: bold\">68.37151908012213</span>,U\n",
       "</pre>\n"
      ],
      "text/plain": [
       "\u001b[1;36m44108\u001b[0m,\u001b[1;36m277.13124445041484\u001b[0m,\u001b[1;36m68.37151908012213\u001b[0m,U\n"
      ]
     },
     "metadata": {},
     "output_type": "display_data"
    },
    {
     "data": {
      "text/html": [
       "<pre style=\"white-space:pre;overflow-x:auto;line-height:normal;font-family:Menlo,'DejaVu Sans Mono',consolas,'Courier New',monospace\"><span style=\"color: #008080; text-decoration-color: #008080; font-weight: bold\">46246</span>,<span style=\"color: #008080; text-decoration-color: #008080; font-weight: bold\">350.0513894224645</span>,<span style=\"color: #008080; text-decoration-color: #008080; font-weight: bold\">76.09032557524569</span>,U\n",
       "</pre>\n"
      ],
      "text/plain": [
       "\u001b[1;36m46246\u001b[0m,\u001b[1;36m350.0513894224645\u001b[0m,\u001b[1;36m76.09032557524569\u001b[0m,U\n"
      ]
     },
     "metadata": {},
     "output_type": "display_data"
    },
    {
     "data": {
      "text/html": [
       "<pre style=\"white-space:pre;overflow-x:auto;line-height:normal;font-family:Menlo,'DejaVu Sans Mono',consolas,'Courier New',monospace\"><span style=\"color: #008080; text-decoration-color: #008080; font-weight: bold\">41811</span>,<span style=\"color: #008080; text-decoration-color: #008080; font-weight: bold\">184.96756587453595</span>,<span style=\"color: #008080; text-decoration-color: #008080; font-weight: bold\">60.9606294403218</span>,U\n",
       "</pre>\n"
      ],
      "text/plain": [
       "\u001b[1;36m41811\u001b[0m,\u001b[1;36m184.96756587453595\u001b[0m,\u001b[1;36m60.9606294403218\u001b[0m,U\n"
      ]
     },
     "metadata": {},
     "output_type": "display_data"
    },
    {
     "data": {
      "text/html": [
       "<pre style=\"white-space:pre;overflow-x:auto;line-height:normal;font-family:Menlo,'DejaVu Sans Mono',consolas,'Courier New',monospace\"><span style=\"color: #008080; text-decoration-color: #008080; font-weight: bold\">18263</span>,<span style=\"color: #008080; text-decoration-color: #008080; font-weight: bold\">350.6662889657744</span>,<span style=\"color: #008080; text-decoration-color: #008080; font-weight: bold\">-3.2780607207612253</span>,U\n",
       "</pre>\n"
      ],
      "text/plain": [
       "\u001b[1;36m18263\u001b[0m,\u001b[1;36m350.6662889657744\u001b[0m,\u001b[1;36m-3.2780607207612253\u001b[0m,U\n"
      ]
     },
     "metadata": {},
     "output_type": "display_data"
    },
    {
     "data": {
      "text/html": [
       "<pre style=\"white-space:pre;overflow-x:auto;line-height:normal;font-family:Menlo,'DejaVu Sans Mono',consolas,'Courier New',monospace\"><span style=\"color: #008080; text-decoration-color: #008080; font-weight: bold\">28638</span>,<span style=\"color: #008080; text-decoration-color: #008080; font-weight: bold\">10.4612315680584</span>,<span style=\"color: #008080; text-decoration-color: #008080; font-weight: bold\">4.927011478240367</span>,U\n",
       "</pre>\n"
      ],
      "text/plain": [
       "\u001b[1;36m28638\u001b[0m,\u001b[1;36m10.4612315680584\u001b[0m,\u001b[1;36m4.927011478240367\u001b[0m,U\n"
      ]
     },
     "metadata": {},
     "output_type": "display_data"
    },
    {
     "data": {
      "text/html": [
       "<pre style=\"white-space:pre;overflow-x:auto;line-height:normal;font-family:Menlo,'DejaVu Sans Mono',consolas,'Courier New',monospace\"><span style=\"color: #008080; text-decoration-color: #008080; font-weight: bold\">28333</span>,<span style=\"color: #008080; text-decoration-color: #008080; font-weight: bold\">313.4945630595323</span>,<span style=\"color: #008080; text-decoration-color: #008080; font-weight: bold\">1.158069073349119</span>,U\n",
       "</pre>\n"
      ],
      "text/plain": [
       "\u001b[1;36m28333\u001b[0m,\u001b[1;36m313.4945630595323\u001b[0m,\u001b[1;36m1.158069073349119\u001b[0m,U\n"
      ]
     },
     "metadata": {},
     "output_type": "display_data"
    },
    {
     "data": {
      "text/html": [
       "<pre style=\"white-space:pre;overflow-x:auto;line-height:normal;font-family:Menlo,'DejaVu Sans Mono',consolas,'Courier New',monospace\"><span style=\"color: #008080; text-decoration-color: #008080; font-weight: bold\">23150</span>,<span style=\"color: #008080; text-decoration-color: #008080; font-weight: bold\">261.1382623325816</span>,<span style=\"color: #008080; text-decoration-color: #008080; font-weight: bold\">61.09137129394121</span>,U\n",
       "</pre>\n"
      ],
      "text/plain": [
       "\u001b[1;36m23150\u001b[0m,\u001b[1;36m261.1382623325816\u001b[0m,\u001b[1;36m61.09137129394121\u001b[0m,U\n"
      ]
     },
     "metadata": {},
     "output_type": "display_data"
    },
    {
     "data": {
      "text/html": [
       "<pre style=\"white-space:pre;overflow-x:auto;line-height:normal;font-family:Menlo,'DejaVu Sans Mono',consolas,'Courier New',monospace\"><span style=\"color: #008080; text-decoration-color: #008080; font-weight: bold\">44864</span>,<span style=\"color: #008080; text-decoration-color: #008080; font-weight: bold\">330.8976025441035</span>,<span style=\"color: #008080; text-decoration-color: #008080; font-weight: bold\">37.93398085749948</span>,U\n",
       "</pre>\n"
      ],
      "text/plain": [
       "\u001b[1;36m44864\u001b[0m,\u001b[1;36m330.8976025441035\u001b[0m,\u001b[1;36m37.93398085749948\u001b[0m,U\n"
      ]
     },
     "metadata": {},
     "output_type": "display_data"
    },
    {
     "data": {
      "text/html": [
       "<pre style=\"white-space:pre;overflow-x:auto;line-height:normal;font-family:Menlo,'DejaVu Sans Mono',consolas,'Courier New',monospace\"><span style=\"color: #008080; text-decoration-color: #008080; font-weight: bold\">44795</span>,<span style=\"color: #008080; text-decoration-color: #008080; font-weight: bold\">273.1787387817029</span>,<span style=\"color: #008080; text-decoration-color: #008080; font-weight: bold\">72.39322821817234</span>,U\n",
       "</pre>\n"
      ],
      "text/plain": [
       "\u001b[1;36m44795\u001b[0m,\u001b[1;36m273.1787387817029\u001b[0m,\u001b[1;36m72.39322821817234\u001b[0m,U\n"
      ]
     },
     "metadata": {},
     "output_type": "display_data"
    },
    {
     "data": {
      "text/html": [
       "<pre style=\"white-space:pre;overflow-x:auto;line-height:normal;font-family:Menlo,'DejaVu Sans Mono',consolas,'Courier New',monospace\"><span style=\"color: #008080; text-decoration-color: #008080; font-weight: bold\">19643</span>,<span style=\"color: #008080; text-decoration-color: #008080; font-weight: bold\">146.8950600260484</span>,<span style=\"color: #008080; text-decoration-color: #008080; font-weight: bold\">60.02857410582172</span>,U\n",
       "</pre>\n"
      ],
      "text/plain": [
       "\u001b[1;36m19643\u001b[0m,\u001b[1;36m146.8950600260484\u001b[0m,\u001b[1;36m60.02857410582172\u001b[0m,U\n"
      ]
     },
     "metadata": {},
     "output_type": "display_data"
    },
    {
     "data": {
      "text/html": [
       "<pre style=\"white-space:pre;overflow-x:auto;line-height:normal;font-family:Menlo,'DejaVu Sans Mono',consolas,'Courier New',monospace\"><span style=\"color: #008080; text-decoration-color: #008080; font-weight: bold\">41690</span>,<span style=\"color: #008080; text-decoration-color: #008080; font-weight: bold\">139.81397734265394</span>,<span style=\"color: #008080; text-decoration-color: #008080; font-weight: bold\">30.3332388188221</span>,U\n",
       "</pre>\n"
      ],
      "text/plain": [
       "\u001b[1;36m41690\u001b[0m,\u001b[1;36m139.81397734265394\u001b[0m,\u001b[1;36m30.3332388188221\u001b[0m,U\n"
      ]
     },
     "metadata": {},
     "output_type": "display_data"
    },
    {
     "data": {
      "text/html": [
       "<pre style=\"white-space:pre;overflow-x:auto;line-height:normal;font-family:Menlo,'DejaVu Sans Mono',consolas,'Courier New',monospace\"><span style=\"color: #008080; text-decoration-color: #008080; font-weight: bold\">40169</span>,<span style=\"color: #008080; text-decoration-color: #008080; font-weight: bold\">35.98747922749092</span>,<span style=\"color: #008080; text-decoration-color: #008080; font-weight: bold\">-3.1824703729321104</span>,U\n",
       "</pre>\n"
      ],
      "text/plain": [
       "\u001b[1;36m40169\u001b[0m,\u001b[1;36m35.98747922749092\u001b[0m,\u001b[1;36m-3.1824703729321104\u001b[0m,U\n"
      ]
     },
     "metadata": {},
     "output_type": "display_data"
    },
    {
     "data": {
      "text/html": [
       "<pre style=\"white-space:pre;overflow-x:auto;line-height:normal;font-family:Menlo,'DejaVu Sans Mono',consolas,'Courier New',monospace\"><span style=\"color: #008080; text-decoration-color: #008080; font-weight: bold\">44717</span>,<span style=\"color: #008080; text-decoration-color: #008080; font-weight: bold\">278.50862371850985</span>,<span style=\"color: #008080; text-decoration-color: #008080; font-weight: bold\">54.60639715389936</span>,U\n",
       "</pre>\n"
      ],
      "text/plain": [
       "\u001b[1;36m44717\u001b[0m,\u001b[1;36m278.50862371850985\u001b[0m,\u001b[1;36m54.60639715389936\u001b[0m,U\n"
      ]
     },
     "metadata": {},
     "output_type": "display_data"
    },
    {
     "data": {
      "text/html": [
       "<pre style=\"white-space:pre;overflow-x:auto;line-height:normal;font-family:Menlo,'DejaVu Sans Mono',consolas,'Courier New',monospace\"><span style=\"color: #008080; text-decoration-color: #008080; font-weight: bold\">28648</span>,<span style=\"color: #008080; text-decoration-color: #008080; font-weight: bold\">8.2375978607811</span>,<span style=\"color: #008080; text-decoration-color: #008080; font-weight: bold\">3.094386728363082</span>,U\n",
       "</pre>\n"
      ],
      "text/plain": [
       "\u001b[1;36m28648\u001b[0m,\u001b[1;36m8.2375978607811\u001b[0m,\u001b[1;36m3.094386728363082\u001b[0m,U\n"
      ]
     },
     "metadata": {},
     "output_type": "display_data"
    },
    {
     "data": {
      "text/html": [
       "<pre style=\"white-space:pre;overflow-x:auto;line-height:normal;font-family:Menlo,'DejaVu Sans Mono',consolas,'Courier New',monospace\"><span style=\"color: #008080; text-decoration-color: #008080; font-weight: bold\">44348</span>,<span style=\"color: #008080; text-decoration-color: #008080; font-weight: bold\">287.9351527295743</span>,<span style=\"color: #008080; text-decoration-color: #008080; font-weight: bold\">-30.4463641276544</span>,U\n",
       "</pre>\n"
      ],
      "text/plain": [
       "\u001b[1;36m44348\u001b[0m,\u001b[1;36m287.9351527295743\u001b[0m,\u001b[1;36m-30.4463641276544\u001b[0m,U\n"
      ]
     },
     "metadata": {},
     "output_type": "display_data"
    },
    {
     "data": {
      "text/html": [
       "<pre style=\"white-space:pre;overflow-x:auto;line-height:normal;font-family:Menlo,'DejaVu Sans Mono',consolas,'Courier New',monospace\"><span style=\"color: #008080; text-decoration-color: #008080; font-weight: bold\">26620</span>,<span style=\"color: #008080; text-decoration-color: #008080; font-weight: bold\">208.8698464943145</span>,<span style=\"color: #008080; text-decoration-color: #008080; font-weight: bold\">4.004245032658469</span>,U\n",
       "</pre>\n"
      ],
      "text/plain": [
       "\u001b[1;36m26620\u001b[0m,\u001b[1;36m208.8698464943145\u001b[0m,\u001b[1;36m4.004245032658469\u001b[0m,U\n"
      ]
     },
     "metadata": {},
     "output_type": "display_data"
    },
    {
     "data": {
      "text/html": [
       "<pre style=\"white-space:pre;overflow-x:auto;line-height:normal;font-family:Menlo,'DejaVu Sans Mono',consolas,'Courier New',monospace\"><span style=\"color: #008080; text-decoration-color: #008080; font-weight: bold\">41615</span>,<span style=\"color: #008080; text-decoration-color: #008080; font-weight: bold\">146.19432280693226</span>,<span style=\"color: #008080; text-decoration-color: #008080; font-weight: bold\">21.05185963013945</span>,U\n",
       "</pre>\n"
      ],
      "text/plain": [
       "\u001b[1;36m41615\u001b[0m,\u001b[1;36m146.19432280693226\u001b[0m,\u001b[1;36m21.05185963013945\u001b[0m,U\n"
      ]
     },
     "metadata": {},
     "output_type": "display_data"
    },
    {
     "data": {
      "text/html": [
       "<pre style=\"white-space:pre;overflow-x:auto;line-height:normal;font-family:Menlo,'DejaVu Sans Mono',consolas,'Courier New',monospace\"><span style=\"color: #008080; text-decoration-color: #008080; font-weight: bold\">46539</span>,<span style=\"color: #008080; text-decoration-color: #008080; font-weight: bold\">55.812768412752</span>,<span style=\"color: #008080; text-decoration-color: #008080; font-weight: bold\">-54.70326196119717</span>,U\n",
       "</pre>\n"
      ],
      "text/plain": [
       "\u001b[1;36m46539\u001b[0m,\u001b[1;36m55.812768412752\u001b[0m,\u001b[1;36m-54.70326196119717\u001b[0m,U\n"
      ]
     },
     "metadata": {},
     "output_type": "display_data"
    },
    {
     "data": {
      "text/html": [
       "<pre style=\"white-space:pre;overflow-x:auto;line-height:normal;font-family:Menlo,'DejaVu Sans Mono',consolas,'Courier New',monospace\"><span style=\"color: #008080; text-decoration-color: #008080; font-weight: bold\">42009</span>,<span style=\"color: #008080; text-decoration-color: #008080; font-weight: bold\">193.995363386626</span>,<span style=\"color: #008080; text-decoration-color: #008080; font-weight: bold\">7.952863461621983</span>,U\n",
       "</pre>\n"
      ],
      "text/plain": [
       "\u001b[1;36m42009\u001b[0m,\u001b[1;36m193.995363386626\u001b[0m,\u001b[1;36m7.952863461621983\u001b[0m,U\n"
      ]
     },
     "metadata": {},
     "output_type": "display_data"
    },
    {
     "data": {
      "text/html": [
       "<pre style=\"white-space:pre;overflow-x:auto;line-height:normal;font-family:Menlo,'DejaVu Sans Mono',consolas,'Courier New',monospace\"><span style=\"color: #008080; text-decoration-color: #008080; font-weight: bold\">16643</span>,<span style=\"color: #008080; text-decoration-color: #008080; font-weight: bold\">261.00116258115065</span>,<span style=\"color: #008080; text-decoration-color: #008080; font-weight: bold\">60.7472647829546</span>,U\n",
       "</pre>\n"
      ],
      "text/plain": [
       "\u001b[1;36m16643\u001b[0m,\u001b[1;36m261.00116258115065\u001b[0m,\u001b[1;36m60.7472647829546\u001b[0m,U\n"
      ]
     },
     "metadata": {},
     "output_type": "display_data"
    },
    {
     "data": {
      "text/html": [
       "<pre style=\"white-space:pre;overflow-x:auto;line-height:normal;font-family:Menlo,'DejaVu Sans Mono',consolas,'Courier New',monospace\"><span style=\"color: #008080; text-decoration-color: #008080; font-weight: bold\">45547</span>,<span style=\"color: #008080; text-decoration-color: #008080; font-weight: bold\">2.302682976645546</span>,<span style=\"color: #008080; text-decoration-color: #008080; font-weight: bold\">42.96255238460342</span>,U\n",
       "</pre>\n"
      ],
      "text/plain": [
       "\u001b[1;36m45547\u001b[0m,\u001b[1;36m2.302682976645546\u001b[0m,\u001b[1;36m42.96255238460342\u001b[0m,U\n"
      ]
     },
     "metadata": {},
     "output_type": "display_data"
    },
    {
     "data": {
      "text/html": [
       "<pre style=\"white-space:pre;overflow-x:auto;line-height:normal;font-family:Menlo,'DejaVu Sans Mono',consolas,'Courier New',monospace\"><span style=\"color: #008080; text-decoration-color: #008080; font-weight: bold\">36095</span>,<span style=\"color: #008080; text-decoration-color: #008080; font-weight: bold\">146.3478747698348</span>,<span style=\"color: #008080; text-decoration-color: #008080; font-weight: bold\">4.133736897047474</span>,U\n",
       "</pre>\n"
      ],
      "text/plain": [
       "\u001b[1;36m36095\u001b[0m,\u001b[1;36m146.3478747698348\u001b[0m,\u001b[1;36m4.133736897047474\u001b[0m,U\n"
      ]
     },
     "metadata": {},
     "output_type": "display_data"
    },
    {
     "data": {
      "text/html": [
       "<pre style=\"white-space:pre;overflow-x:auto;line-height:normal;font-family:Menlo,'DejaVu Sans Mono',consolas,'Courier New',monospace\"><span style=\"color: #008080; text-decoration-color: #008080; font-weight: bold\">35589</span>,<span style=\"color: #008080; text-decoration-color: #008080; font-weight: bold\">103.45694204532536</span>,<span style=\"color: #008080; text-decoration-color: #008080; font-weight: bold\">28.45974812473312</span>,U\n",
       "</pre>\n"
      ],
      "text/plain": [
       "\u001b[1;36m35589\u001b[0m,\u001b[1;36m103.45694204532536\u001b[0m,\u001b[1;36m28.45974812473312\u001b[0m,U\n"
      ]
     },
     "metadata": {},
     "output_type": "display_data"
    },
    {
     "data": {
      "text/html": [
       "<pre style=\"white-space:pre;overflow-x:auto;line-height:normal;font-family:Menlo,'DejaVu Sans Mono',consolas,'Courier New',monospace\"><span style=\"color: #008080; text-decoration-color: #008080; font-weight: bold\">17228</span>,<span style=\"color: #008080; text-decoration-color: #008080; font-weight: bold\">258.3287023472059</span>,<span style=\"color: #008080; text-decoration-color: #008080; font-weight: bold\">60.62081889231657</span>,U\n",
       "</pre>\n"
      ],
      "text/plain": [
       "\u001b[1;36m17228\u001b[0m,\u001b[1;36m258.3287023472059\u001b[0m,\u001b[1;36m60.62081889231657\u001b[0m,U\n"
      ]
     },
     "metadata": {},
     "output_type": "display_data"
    },
    {
     "data": {
      "text/html": [
       "<pre style=\"white-space:pre;overflow-x:auto;line-height:normal;font-family:Menlo,'DejaVu Sans Mono',consolas,'Courier New',monospace\"><span style=\"color: #008080; text-decoration-color: #008080; font-weight: bold\">35414</span>,<span style=\"color: #008080; text-decoration-color: #008080; font-weight: bold\">52.19067606387046</span>,<span style=\"color: #008080; text-decoration-color: #008080; font-weight: bold\">-27.633541803192283</span>,U\n",
       "</pre>\n"
      ],
      "text/plain": [
       "\u001b[1;36m35414\u001b[0m,\u001b[1;36m52.19067606387046\u001b[0m,\u001b[1;36m-27.633541803192283\u001b[0m,U\n"
      ]
     },
     "metadata": {},
     "output_type": "display_data"
    },
    {
     "data": {
      "text/html": [
       "<pre style=\"white-space:pre;overflow-x:auto;line-height:normal;font-family:Menlo,'DejaVu Sans Mono',consolas,'Courier New',monospace\"><span style=\"color: #008080; text-decoration-color: #008080; font-weight: bold\">7261</span>,<span style=\"color: #008080; text-decoration-color: #008080; font-weight: bold\">351.3566120579024</span>,<span style=\"color: #008080; text-decoration-color: #008080; font-weight: bold\">15.686129514742603</span>,U\n",
       "</pre>\n"
      ],
      "text/plain": [
       "\u001b[1;36m7261\u001b[0m,\u001b[1;36m351.3566120579024\u001b[0m,\u001b[1;36m15.686129514742603\u001b[0m,U\n"
      ]
     },
     "metadata": {},
     "output_type": "display_data"
    },
    {
     "data": {
      "text/html": [
       "<pre style=\"white-space:pre;overflow-x:auto;line-height:normal;font-family:Menlo,'DejaVu Sans Mono',consolas,'Courier New',monospace\"><span style=\"color: #008080; text-decoration-color: #008080; font-weight: bold\">41897</span>,<span style=\"color: #008080; text-decoration-color: #008080; font-weight: bold\">152.35332372524337</span>,<span style=\"color: #008080; text-decoration-color: #008080; font-weight: bold\">68.49665277343203</span>,U\n",
       "</pre>\n"
      ],
      "text/plain": [
       "\u001b[1;36m41897\u001b[0m,\u001b[1;36m152.35332372524337\u001b[0m,\u001b[1;36m68.49665277343203\u001b[0m,U\n"
      ]
     },
     "metadata": {},
     "output_type": "display_data"
    },
    {
     "data": {
      "text/html": [
       "<pre style=\"white-space:pre;overflow-x:auto;line-height:normal;font-family:Menlo,'DejaVu Sans Mono',consolas,'Courier New',monospace\"><span style=\"color: #008080; text-decoration-color: #008080; font-weight: bold\">8586</span>,<span style=\"color: #008080; text-decoration-color: #008080; font-weight: bold\">7.180129246061991</span>,<span style=\"color: #008080; text-decoration-color: #008080; font-weight: bold\">-44.00662854637874</span>,U\n",
       "</pre>\n"
      ],
      "text/plain": [
       "\u001b[1;36m8586\u001b[0m,\u001b[1;36m7.180129246061991\u001b[0m,\u001b[1;36m-44.00662854637874\u001b[0m,U\n"
      ]
     },
     "metadata": {},
     "output_type": "display_data"
    },
    {
     "data": {
      "text/html": [
       "<pre style=\"white-space:pre;overflow-x:auto;line-height:normal;font-family:Menlo,'DejaVu Sans Mono',consolas,'Courier New',monospace\"><span style=\"color: #008080; text-decoration-color: #008080; font-weight: bold\">41792</span>,<span style=\"color: #008080; text-decoration-color: #008080; font-weight: bold\">138.86321778347653</span>,<span style=\"color: #008080; text-decoration-color: #008080; font-weight: bold\">30.63508998449288</span>,U\n",
       "</pre>\n"
      ],
      "text/plain": [
       "\u001b[1;36m41792\u001b[0m,\u001b[1;36m138.86321778347653\u001b[0m,\u001b[1;36m30.63508998449288\u001b[0m,U\n"
      ]
     },
     "metadata": {},
     "output_type": "display_data"
    },
    {
     "data": {
      "text/html": [
       "<pre style=\"white-space:pre;overflow-x:auto;line-height:normal;font-family:Menlo,'DejaVu Sans Mono',consolas,'Courier New',monospace\"><span style=\"color: #008080; text-decoration-color: #008080; font-weight: bold\">15549</span>,<span style=\"color: #008080; text-decoration-color: #008080; font-weight: bold\">179.57353695426423</span>,<span style=\"color: #008080; text-decoration-color: #008080; font-weight: bold\">30.55128985412531</span>,U\n",
       "</pre>\n"
      ],
      "text/plain": [
       "\u001b[1;36m15549\u001b[0m,\u001b[1;36m179.57353695426423\u001b[0m,\u001b[1;36m30.55128985412531\u001b[0m,U\n"
      ]
     },
     "metadata": {},
     "output_type": "display_data"
    },
    {
     "data": {
      "text/html": [
       "<pre style=\"white-space:pre;overflow-x:auto;line-height:normal;font-family:Menlo,'DejaVu Sans Mono',consolas,'Courier New',monospace\"><span style=\"color: #008080; text-decoration-color: #008080; font-weight: bold\">3908</span>,<span style=\"color: #008080; text-decoration-color: #008080; font-weight: bold\">142.60100371773277</span>,<span style=\"color: #008080; text-decoration-color: #008080; font-weight: bold\">61.34232869334704</span>,U\n",
       "</pre>\n"
      ],
      "text/plain": [
       "\u001b[1;36m3908\u001b[0m,\u001b[1;36m142.60100371773277\u001b[0m,\u001b[1;36m61.34232869334704\u001b[0m,U\n"
      ]
     },
     "metadata": {},
     "output_type": "display_data"
    },
    {
     "data": {
      "text/html": [
       "<pre style=\"white-space:pre;overflow-x:auto;line-height:normal;font-family:Menlo,'DejaVu Sans Mono',consolas,'Courier New',monospace\"><span style=\"color: #008080; text-decoration-color: #008080; font-weight: bold\">34101</span>,<span style=\"color: #008080; text-decoration-color: #008080; font-weight: bold\">8.145720769165608</span>,<span style=\"color: #008080; text-decoration-color: #008080; font-weight: bold\">7.490325669700807</span>,U\n",
       "</pre>\n"
      ],
      "text/plain": [
       "\u001b[1;36m34101\u001b[0m,\u001b[1;36m8.145720769165608\u001b[0m,\u001b[1;36m7.490325669700807\u001b[0m,U\n"
      ]
     },
     "metadata": {},
     "output_type": "display_data"
    },
    {
     "data": {
      "text/html": [
       "<pre style=\"white-space:pre;overflow-x:auto;line-height:normal;font-family:Menlo,'DejaVu Sans Mono',consolas,'Courier New',monospace\"><span style=\"color: #008080; text-decoration-color: #008080; font-weight: bold\">46116</span>,<span style=\"color: #008080; text-decoration-color: #008080; font-weight: bold\">122.04976273528438</span>,<span style=\"color: #008080; text-decoration-color: #008080; font-weight: bold\">-4.066853697242553</span>,U\n",
       "</pre>\n"
      ],
      "text/plain": [
       "\u001b[1;36m46116\u001b[0m,\u001b[1;36m122.04976273528438\u001b[0m,\u001b[1;36m-4.066853697242553\u001b[0m,U\n"
      ]
     },
     "metadata": {},
     "output_type": "display_data"
    },
    {
     "data": {
      "text/html": [
       "<pre style=\"white-space:pre;overflow-x:auto;line-height:normal;font-family:Menlo,'DejaVu Sans Mono',consolas,'Courier New',monospace\"><span style=\"color: #008080; text-decoration-color: #008080; font-weight: bold\">18964</span>,<span style=\"color: #008080; text-decoration-color: #008080; font-weight: bold\">35.35155625731123</span>,<span style=\"color: #008080; text-decoration-color: #008080; font-weight: bold\">-6.469105313305599</span>,U\n",
       "</pre>\n"
      ],
      "text/plain": [
       "\u001b[1;36m18964\u001b[0m,\u001b[1;36m35.35155625731123\u001b[0m,\u001b[1;36m-6.469105313305599\u001b[0m,U\n"
      ]
     },
     "metadata": {},
     "output_type": "display_data"
    },
    {
     "data": {
      "text/html": [
       "<pre style=\"white-space:pre;overflow-x:auto;line-height:normal;font-family:Menlo,'DejaVu Sans Mono',consolas,'Courier New',monospace\"><span style=\"color: #008080; text-decoration-color: #008080; font-weight: bold\">45703</span>,<span style=\"color: #008080; text-decoration-color: #008080; font-weight: bold\">25.607032395299356</span>,<span style=\"color: #008080; text-decoration-color: #008080; font-weight: bold\">34.308805837275386</span>,U\n",
       "</pre>\n"
      ],
      "text/plain": [
       "\u001b[1;36m45703\u001b[0m,\u001b[1;36m25.607032395299356\u001b[0m,\u001b[1;36m34.308805837275386\u001b[0m,U\n"
      ]
     },
     "metadata": {},
     "output_type": "display_data"
    },
    {
     "data": {
      "text/html": [
       "<pre style=\"white-space:pre;overflow-x:auto;line-height:normal;font-family:Menlo,'DejaVu Sans Mono',consolas,'Courier New',monospace\"><span style=\"color: #008080; text-decoration-color: #008080; font-weight: bold\">28455</span>,<span style=\"color: #008080; text-decoration-color: #008080; font-weight: bold\">333.8436447674139</span>,<span style=\"color: #008080; text-decoration-color: #008080; font-weight: bold\">-0.7569329774757283</span>,U\n",
       "</pre>\n"
      ],
      "text/plain": [
       "\u001b[1;36m28455\u001b[0m,\u001b[1;36m333.8436447674139\u001b[0m,\u001b[1;36m-0.7569329774757283\u001b[0m,U\n"
      ]
     },
     "metadata": {},
     "output_type": "display_data"
    },
    {
     "data": {
      "text/html": [
       "<pre style=\"white-space:pre;overflow-x:auto;line-height:normal;font-family:Menlo,'DejaVu Sans Mono',consolas,'Courier New',monospace\"><span style=\"color: #008080; text-decoration-color: #008080; font-weight: bold\">40330</span>,<span style=\"color: #008080; text-decoration-color: #008080; font-weight: bold\">37.13590319791115</span>,<span style=\"color: #008080; text-decoration-color: #008080; font-weight: bold\">-8.358677009380436</span>,U\n",
       "</pre>\n"
      ],
      "text/plain": [
       "\u001b[1;36m40330\u001b[0m,\u001b[1;36m37.13590319791115\u001b[0m,\u001b[1;36m-8.358677009380436\u001b[0m,U\n"
      ]
     },
     "metadata": {},
     "output_type": "display_data"
    },
    {
     "data": {
      "text/html": [
       "<pre style=\"white-space:pre;overflow-x:auto;line-height:normal;font-family:Menlo,'DejaVu Sans Mono',consolas,'Courier New',monospace\"><span style=\"color: #008080; text-decoration-color: #008080; font-weight: bold\">17685</span>,<span style=\"color: #008080; text-decoration-color: #008080; font-weight: bold\">4.71181870825974</span>,<span style=\"color: #008080; text-decoration-color: #008080; font-weight: bold\">-72.34827589856516</span>,U\n",
       "</pre>\n"
      ],
      "text/plain": [
       "\u001b[1;36m17685\u001b[0m,\u001b[1;36m4.71181870825974\u001b[0m,\u001b[1;36m-72.34827589856516\u001b[0m,U\n"
      ]
     },
     "metadata": {},
     "output_type": "display_data"
    },
    {
     "data": {
      "text/html": [
       "<pre style=\"white-space:pre;overflow-x:auto;line-height:normal;font-family:Menlo,'DejaVu Sans Mono',consolas,'Courier New',monospace\"><span style=\"color: #008080; text-decoration-color: #008080; font-weight: bold\">35616</span>,<span style=\"color: #008080; text-decoration-color: #008080; font-weight: bold\">133.6222146904125</span>,<span style=\"color: #008080; text-decoration-color: #008080; font-weight: bold\">-6.98335463567248</span>,U\n",
       "</pre>\n"
      ],
      "text/plain": [
       "\u001b[1;36m35616\u001b[0m,\u001b[1;36m133.6222146904125\u001b[0m,\u001b[1;36m-6.98335463567248\u001b[0m,U\n"
      ]
     },
     "metadata": {},
     "output_type": "display_data"
    },
    {
     "data": {
      "text/html": [
       "<pre style=\"white-space:pre;overflow-x:auto;line-height:normal;font-family:Menlo,'DejaVu Sans Mono',consolas,'Courier New',monospace\"><span style=\"color: #008080; text-decoration-color: #008080; font-weight: bold\">5474</span>,<span style=\"color: #008080; text-decoration-color: #008080; font-weight: bold\">225.1483346608821</span>,<span style=\"color: #008080; text-decoration-color: #008080; font-weight: bold\">4.755177796333291</span>,U\n",
       "</pre>\n"
      ],
      "text/plain": [
       "\u001b[1;36m5474\u001b[0m,\u001b[1;36m225.1483346608821\u001b[0m,\u001b[1;36m4.755177796333291\u001b[0m,U\n"
      ]
     },
     "metadata": {},
     "output_type": "display_data"
    },
    {
     "data": {
      "text/html": [
       "<pre style=\"white-space:pre;overflow-x:auto;line-height:normal;font-family:Menlo,'DejaVu Sans Mono',consolas,'Courier New',monospace\"><span style=\"color: #008080; text-decoration-color: #008080; font-weight: bold\">46049</span>,<span style=\"color: #008080; text-decoration-color: #008080; font-weight: bold\">126.70368956906285</span>,<span style=\"color: #008080; text-decoration-color: #008080; font-weight: bold\">-11.91065778417307</span>,U\n",
       "</pre>\n"
      ],
      "text/plain": [
       "\u001b[1;36m46049\u001b[0m,\u001b[1;36m126.70368956906285\u001b[0m,\u001b[1;36m-11.91065778417307\u001b[0m,U\n"
      ]
     },
     "metadata": {},
     "output_type": "display_data"
    },
    {
     "data": {
      "text/html": [
       "<pre style=\"white-space:pre;overflow-x:auto;line-height:normal;font-family:Menlo,'DejaVu Sans Mono',consolas,'Courier New',monospace\"><span style=\"color: #008080; text-decoration-color: #008080; font-weight: bold\">44751</span>,<span style=\"color: #008080; text-decoration-color: #008080; font-weight: bold\">8.084178248321535</span>,<span style=\"color: #008080; text-decoration-color: #008080; font-weight: bold\">-39.00044264308015</span>,U\n",
       "</pre>\n"
      ],
      "text/plain": [
       "\u001b[1;36m44751\u001b[0m,\u001b[1;36m8.084178248321535\u001b[0m,\u001b[1;36m-39.00044264308015\u001b[0m,U\n"
      ]
     },
     "metadata": {},
     "output_type": "display_data"
    },
    {
     "data": {
      "text/html": [
       "<pre style=\"white-space:pre;overflow-x:auto;line-height:normal;font-family:Menlo,'DejaVu Sans Mono',consolas,'Courier New',monospace\"><span style=\"color: #008080; text-decoration-color: #008080; font-weight: bold\">44427</span>,<span style=\"color: #008080; text-decoration-color: #008080; font-weight: bold\">292.66873197044646</span>,<span style=\"color: #008080; text-decoration-color: #008080; font-weight: bold\">-38.42967684322696</span>,U\n",
       "</pre>\n"
      ],
      "text/plain": [
       "\u001b[1;36m44427\u001b[0m,\u001b[1;36m292.66873197044646\u001b[0m,\u001b[1;36m-38.42967684322696\u001b[0m,U\n"
      ]
     },
     "metadata": {},
     "output_type": "display_data"
    },
    {
     "data": {
      "text/html": [
       "<pre style=\"white-space:pre;overflow-x:auto;line-height:normal;font-family:Menlo,'DejaVu Sans Mono',consolas,'Courier New',monospace\"><span style=\"color: #008080; text-decoration-color: #008080; font-weight: bold\">16023</span>,<span style=\"color: #008080; text-decoration-color: #008080; font-weight: bold\">194.7751649363026</span>,<span style=\"color: #008080; text-decoration-color: #008080; font-weight: bold\">-5.492892059888846</span>,U\n",
       "</pre>\n"
      ],
      "text/plain": [
       "\u001b[1;36m16023\u001b[0m,\u001b[1;36m194.7751649363026\u001b[0m,\u001b[1;36m-5.492892059888846\u001b[0m,U\n"
      ]
     },
     "metadata": {},
     "output_type": "display_data"
    },
    {
     "data": {
      "text/html": [
       "<pre style=\"white-space:pre;overflow-x:auto;line-height:normal;font-family:Menlo,'DejaVu Sans Mono',consolas,'Courier New',monospace\"><span style=\"color: #008080; text-decoration-color: #008080; font-weight: bold\">18905</span>,<span style=\"color: #008080; text-decoration-color: #008080; font-weight: bold\">33.98996120473042</span>,<span style=\"color: #008080; text-decoration-color: #008080; font-weight: bold\">-4.095752936119224</span>,U\n",
       "</pre>\n"
      ],
      "text/plain": [
       "\u001b[1;36m18905\u001b[0m,\u001b[1;36m33.98996120473042\u001b[0m,\u001b[1;36m-4.095752936119224\u001b[0m,U\n"
      ]
     },
     "metadata": {},
     "output_type": "display_data"
    },
    {
     "data": {
      "text/html": [
       "<pre style=\"white-space:pre;overflow-x:auto;line-height:normal;font-family:Menlo,'DejaVu Sans Mono',consolas,'Courier New',monospace\"><span style=\"color: #008080; text-decoration-color: #008080; font-weight: bold\">46688</span>,<span style=\"color: #008080; text-decoration-color: #008080; font-weight: bold\">116.70905915321435</span>,<span style=\"color: #008080; text-decoration-color: #008080; font-weight: bold\">8.401517046219036</span>,U\n",
       "</pre>\n"
      ],
      "text/plain": [
       "\u001b[1;36m46688\u001b[0m,\u001b[1;36m116.70905915321435\u001b[0m,\u001b[1;36m8.401517046219036\u001b[0m,U\n"
      ]
     },
     "metadata": {},
     "output_type": "display_data"
    },
    {
     "data": {
      "text/html": [
       "<pre style=\"white-space:pre;overflow-x:auto;line-height:normal;font-family:Menlo,'DejaVu Sans Mono',consolas,'Courier New',monospace\"><span style=\"color: #008080; text-decoration-color: #008080; font-weight: bold\">18620</span>,<span style=\"color: #008080; text-decoration-color: #008080; font-weight: bold\">35.365988158608694</span>,<span style=\"color: #008080; text-decoration-color: #008080; font-weight: bold\">-4.792672373677391</span>,U\n",
       "</pre>\n"
      ],
      "text/plain": [
       "\u001b[1;36m18620\u001b[0m,\u001b[1;36m35.365988158608694\u001b[0m,\u001b[1;36m-4.792672373677391\u001b[0m,U\n"
      ]
     },
     "metadata": {},
     "output_type": "display_data"
    },
    {
     "data": {
      "text/html": [
       "<pre style=\"white-space:pre;overflow-x:auto;line-height:normal;font-family:Menlo,'DejaVu Sans Mono',consolas,'Courier New',monospace\"><span style=\"color: #008080; text-decoration-color: #008080; font-weight: bold\">34782</span>,<span style=\"color: #008080; text-decoration-color: #008080; font-weight: bold\">36.09699234243891</span>,<span style=\"color: #008080; text-decoration-color: #008080; font-weight: bold\">-3.102381143548942</span>,U\n",
       "</pre>\n"
      ],
      "text/plain": [
       "\u001b[1;36m34782\u001b[0m,\u001b[1;36m36.09699234243891\u001b[0m,\u001b[1;36m-3.102381143548942\u001b[0m,U\n"
      ]
     },
     "metadata": {},
     "output_type": "display_data"
    },
    {
     "data": {
      "text/html": [
       "<pre style=\"white-space:pre;overflow-x:auto;line-height:normal;font-family:Menlo,'DejaVu Sans Mono',consolas,'Courier New',monospace\"><span style=\"color: #008080; text-decoration-color: #008080; font-weight: bold\">35326</span>,<span style=\"color: #008080; text-decoration-color: #008080; font-weight: bold\">52.60157835140196</span>,<span style=\"color: #008080; text-decoration-color: #008080; font-weight: bold\">-28.48586897811899</span>,U\n",
       "</pre>\n"
      ],
      "text/plain": [
       "\u001b[1;36m35326\u001b[0m,\u001b[1;36m52.60157835140196\u001b[0m,\u001b[1;36m-28.48586897811899\u001b[0m,U\n"
      ]
     },
     "metadata": {},
     "output_type": "display_data"
    },
    {
     "data": {
      "text/html": [
       "<pre style=\"white-space:pre;overflow-x:auto;line-height:normal;font-family:Menlo,'DejaVu Sans Mono',consolas,'Courier New',monospace\"><span style=\"color: #008080; text-decoration-color: #008080; font-weight: bold\">17168</span>,<span style=\"color: #008080; text-decoration-color: #008080; font-weight: bold\">250.54533304169564</span>,<span style=\"color: #008080; text-decoration-color: #008080; font-weight: bold\">25.427091923650316</span>,U\n",
       "</pre>\n"
      ],
      "text/plain": [
       "\u001b[1;36m17168\u001b[0m,\u001b[1;36m250.54533304169564\u001b[0m,\u001b[1;36m25.427091923650316\u001b[0m,U\n"
      ]
     },
     "metadata": {},
     "output_type": "display_data"
    },
    {
     "data": {
      "text/html": [
       "<pre style=\"white-space:pre;overflow-x:auto;line-height:normal;font-family:Menlo,'DejaVu Sans Mono',consolas,'Courier New',monospace\"><span style=\"color: #008080; text-decoration-color: #008080; font-weight: bold\">40460</span>,<span style=\"color: #008080; text-decoration-color: #008080; font-weight: bold\">33.85707081564704</span>,<span style=\"color: #008080; text-decoration-color: #008080; font-weight: bold\">38.65203773465102</span>,U\n",
       "</pre>\n"
      ],
      "text/plain": [
       "\u001b[1;36m40460\u001b[0m,\u001b[1;36m33.85707081564704\u001b[0m,\u001b[1;36m38.65203773465102\u001b[0m,U\n"
      ]
     },
     "metadata": {},
     "output_type": "display_data"
    },
    {
     "data": {
      "text/html": [
       "<pre style=\"white-space:pre;overflow-x:auto;line-height:normal;font-family:Menlo,'DejaVu Sans Mono',consolas,'Courier New',monospace\"><span style=\"color: #008080; text-decoration-color: #008080; font-weight: bold\">45567</span>,<span style=\"color: #008080; text-decoration-color: #008080; font-weight: bold\">223.88500908510613</span>,<span style=\"color: #008080; text-decoration-color: #008080; font-weight: bold\">79.55707017117226</span>,U\n",
       "</pre>\n"
      ],
      "text/plain": [
       "\u001b[1;36m45567\u001b[0m,\u001b[1;36m223.88500908510613\u001b[0m,\u001b[1;36m79.55707017117226\u001b[0m,U\n"
      ]
     },
     "metadata": {},
     "output_type": "display_data"
    },
    {
     "data": {
      "text/html": [
       "<pre style=\"white-space:pre;overflow-x:auto;line-height:normal;font-family:Menlo,'DejaVu Sans Mono',consolas,'Courier New',monospace\"><span style=\"color: #008080; text-decoration-color: #008080; font-weight: bold\">17126</span>,<span style=\"color: #008080; text-decoration-color: #008080; font-weight: bold\">240.4059418409891</span>,<span style=\"color: #008080; text-decoration-color: #008080; font-weight: bold\">53.85711868865859</span>,U\n",
       "</pre>\n"
      ],
      "text/plain": [
       "\u001b[1;36m17126\u001b[0m,\u001b[1;36m240.4059418409891\u001b[0m,\u001b[1;36m53.85711868865859\u001b[0m,U\n"
      ]
     },
     "metadata": {},
     "output_type": "display_data"
    },
    {
     "data": {
      "text/html": [
       "<pre style=\"white-space:pre;overflow-x:auto;line-height:normal;font-family:Menlo,'DejaVu Sans Mono',consolas,'Courier New',monospace\"><span style=\"color: #008080; text-decoration-color: #008080; font-weight: bold\">16940</span>,<span style=\"color: #008080; text-decoration-color: #008080; font-weight: bold\">258.1540954486905</span>,<span style=\"color: #008080; text-decoration-color: #008080; font-weight: bold\">16.127434232916308</span>,U\n",
       "</pre>\n"
      ],
      "text/plain": [
       "\u001b[1;36m16940\u001b[0m,\u001b[1;36m258.1540954486905\u001b[0m,\u001b[1;36m16.127434232916308\u001b[0m,U\n"
      ]
     },
     "metadata": {},
     "output_type": "display_data"
    },
    {
     "data": {
      "text/html": [
       "<pre style=\"white-space:pre;overflow-x:auto;line-height:normal;font-family:Menlo,'DejaVu Sans Mono',consolas,'Courier New',monospace\"><span style=\"color: #008080; text-decoration-color: #008080; font-weight: bold\">40514</span>,<span style=\"color: #008080; text-decoration-color: #008080; font-weight: bold\">36.57381477864681</span>,<span style=\"color: #008080; text-decoration-color: #008080; font-weight: bold\">33.33405484500671</span>,U\n",
       "</pre>\n"
      ],
      "text/plain": [
       "\u001b[1;36m40514\u001b[0m,\u001b[1;36m36.57381477864681\u001b[0m,\u001b[1;36m33.33405484500671\u001b[0m,U\n"
      ]
     },
     "metadata": {},
     "output_type": "display_data"
    },
    {
     "data": {
      "text/html": [
       "<pre style=\"white-space:pre;overflow-x:auto;line-height:normal;font-family:Menlo,'DejaVu Sans Mono',consolas,'Courier New',monospace\"><span style=\"color: #008080; text-decoration-color: #008080; font-weight: bold\">16121</span>,<span style=\"color: #008080; text-decoration-color: #008080; font-weight: bold\">206.53231370189596</span>,<span style=\"color: #008080; text-decoration-color: #008080; font-weight: bold\">-30.208013577561832</span>,U\n",
       "</pre>\n"
      ],
      "text/plain": [
       "\u001b[1;36m16121\u001b[0m,\u001b[1;36m206.53231370189596\u001b[0m,\u001b[1;36m-30.208013577561832\u001b[0m,U\n"
      ]
     },
     "metadata": {},
     "output_type": "display_data"
    },
    {
     "data": {
      "text/html": [
       "<pre style=\"white-space:pre;overflow-x:auto;line-height:normal;font-family:Menlo,'DejaVu Sans Mono',consolas,'Courier New',monospace\"><span style=\"color: #008080; text-decoration-color: #008080; font-weight: bold\">42978</span>,<span style=\"color: #008080; text-decoration-color: #008080; font-weight: bold\">228.75390252900613</span>,<span style=\"color: #008080; text-decoration-color: #008080; font-weight: bold\">19.461202568835997</span>,U\n",
       "</pre>\n"
      ],
      "text/plain": [
       "\u001b[1;36m42978\u001b[0m,\u001b[1;36m228.75390252900613\u001b[0m,\u001b[1;36m19.461202568835997\u001b[0m,U\n"
      ]
     },
     "metadata": {},
     "output_type": "display_data"
    },
    {
     "data": {
      "text/html": [
       "<pre style=\"white-space:pre;overflow-x:auto;line-height:normal;font-family:Menlo,'DejaVu Sans Mono',consolas,'Courier New',monospace\"><span style=\"color: #008080; text-decoration-color: #008080; font-weight: bold\">45476</span>,<span style=\"color: #008080; text-decoration-color: #008080; font-weight: bold\">1.2358089948833308</span>,<span style=\"color: #008080; text-decoration-color: #008080; font-weight: bold\">32.63534586659768</span>,U\n",
       "</pre>\n"
      ],
      "text/plain": [
       "\u001b[1;36m45476\u001b[0m,\u001b[1;36m1.2358089948833308\u001b[0m,\u001b[1;36m32.63534586659768\u001b[0m,U\n"
      ]
     },
     "metadata": {},
     "output_type": "display_data"
    },
    {
     "data": {
      "text/html": [
       "<pre style=\"white-space:pre;overflow-x:auto;line-height:normal;font-family:Menlo,'DejaVu Sans Mono',consolas,'Courier New',monospace\"><span style=\"color: #008080; text-decoration-color: #008080; font-weight: bold\">17409</span>,<span style=\"color: #008080; text-decoration-color: #008080; font-weight: bold\">321.9470127386325</span>,<span style=\"color: #008080; text-decoration-color: #008080; font-weight: bold\">-2.101538855850659</span>,U\n",
       "</pre>\n"
      ],
      "text/plain": [
       "\u001b[1;36m17409\u001b[0m,\u001b[1;36m321.9470127386325\u001b[0m,\u001b[1;36m-2.101538855850659\u001b[0m,U\n"
      ]
     },
     "metadata": {},
     "output_type": "display_data"
    },
    {
     "data": {
      "text/html": [
       "<pre style=\"white-space:pre;overflow-x:auto;line-height:normal;font-family:Menlo,'DejaVu Sans Mono',consolas,'Courier New',monospace\"><span style=\"color: #008080; text-decoration-color: #008080; font-weight: bold\">44098</span>,<span style=\"color: #008080; text-decoration-color: #008080; font-weight: bold\">270.4920982616213</span>,<span style=\"color: #008080; text-decoration-color: #008080; font-weight: bold\">55.42741135680072</span>,U\n",
       "</pre>\n"
      ],
      "text/plain": [
       "\u001b[1;36m44098\u001b[0m,\u001b[1;36m270.4920982616213\u001b[0m,\u001b[1;36m55.42741135680072\u001b[0m,U\n"
      ]
     },
     "metadata": {},
     "output_type": "display_data"
    },
    {
     "data": {
      "text/html": [
       "<pre style=\"white-space:pre;overflow-x:auto;line-height:normal;font-family:Menlo,'DejaVu Sans Mono',consolas,'Courier New',monospace\"><span style=\"color: #008080; text-decoration-color: #008080; font-weight: bold\">17636</span>,<span style=\"color: #008080; text-decoration-color: #008080; font-weight: bold\">326.2222208859231</span>,<span style=\"color: #008080; text-decoration-color: #008080; font-weight: bold\">4.361580908033786</span>,U\n",
       "</pre>\n"
      ],
      "text/plain": [
       "\u001b[1;36m17636\u001b[0m,\u001b[1;36m326.2222208859231\u001b[0m,\u001b[1;36m4.361580908033786\u001b[0m,U\n"
      ]
     },
     "metadata": {},
     "output_type": "display_data"
    },
    {
     "data": {
      "text/html": [
       "<pre style=\"white-space:pre;overflow-x:auto;line-height:normal;font-family:Menlo,'DejaVu Sans Mono',consolas,'Courier New',monospace\"><span style=\"color: #008080; text-decoration-color: #008080; font-weight: bold\">35969</span>,<span style=\"color: #008080; text-decoration-color: #008080; font-weight: bold\">122.98017692794708</span>,<span style=\"color: #008080; text-decoration-color: #008080; font-weight: bold\">41.96403534959816</span>,U\n",
       "</pre>\n"
      ],
      "text/plain": [
       "\u001b[1;36m35969\u001b[0m,\u001b[1;36m122.98017692794708\u001b[0m,\u001b[1;36m41.96403534959816\u001b[0m,U\n"
      ]
     },
     "metadata": {},
     "output_type": "display_data"
    },
    {
     "data": {
      "text/html": [
       "<pre style=\"white-space:pre;overflow-x:auto;line-height:normal;font-family:Menlo,'DejaVu Sans Mono',consolas,'Courier New',monospace\"><span style=\"color: #008080; text-decoration-color: #008080; font-weight: bold\">1607</span>,<span style=\"color: #008080; text-decoration-color: #008080; font-weight: bold\">261.4211518367144</span>,<span style=\"color: #008080; text-decoration-color: #008080; font-weight: bold\">59.25799353495475</span>,U\n",
       "</pre>\n"
      ],
      "text/plain": [
       "\u001b[1;36m1607\u001b[0m,\u001b[1;36m261.4211518367144\u001b[0m,\u001b[1;36m59.25799353495475\u001b[0m,U\n"
      ]
     },
     "metadata": {},
     "output_type": "display_data"
    },
    {
     "data": {
      "text/html": [
       "<pre style=\"white-space:pre;overflow-x:auto;line-height:normal;font-family:Menlo,'DejaVu Sans Mono',consolas,'Courier New',monospace\"><span style=\"color: #008080; text-decoration-color: #008080; font-weight: bold\">16632</span>,<span style=\"color: #008080; text-decoration-color: #008080; font-weight: bold\">253.19518835349987</span>,<span style=\"color: #008080; text-decoration-color: #008080; font-weight: bold\">34.80823673172835</span>,U\n",
       "</pre>\n"
      ],
      "text/plain": [
       "\u001b[1;36m16632\u001b[0m,\u001b[1;36m253.19518835349987\u001b[0m,\u001b[1;36m34.80823673172835\u001b[0m,U\n"
      ]
     },
     "metadata": {},
     "output_type": "display_data"
    },
    {
     "data": {
      "text/html": [
       "<pre style=\"white-space:pre;overflow-x:auto;line-height:normal;font-family:Menlo,'DejaVu Sans Mono',consolas,'Courier New',monospace\"><span style=\"color: #008080; text-decoration-color: #008080; font-weight: bold\">44708</span>,<span style=\"color: #008080; text-decoration-color: #008080; font-weight: bold\">316.99252698518904</span>,<span style=\"color: #008080; text-decoration-color: #008080; font-weight: bold\">-5.295146711546521</span>,U\n",
       "</pre>\n"
      ],
      "text/plain": [
       "\u001b[1;36m44708\u001b[0m,\u001b[1;36m316.99252698518904\u001b[0m,\u001b[1;36m-5.295146711546521\u001b[0m,U\n"
      ]
     },
     "metadata": {},
     "output_type": "display_data"
    },
    {
     "data": {
      "text/html": [
       "<pre style=\"white-space:pre;overflow-x:auto;line-height:normal;font-family:Menlo,'DejaVu Sans Mono',consolas,'Courier New',monospace\"><span style=\"color: #008080; text-decoration-color: #008080; font-weight: bold\">45784</span>,<span style=\"color: #008080; text-decoration-color: #008080; font-weight: bold\">352.6843077651393</span>,<span style=\"color: #008080; text-decoration-color: #008080; font-weight: bold\">-48.15367818099313</span>,U\n",
       "</pre>\n"
      ],
      "text/plain": [
       "\u001b[1;36m45784\u001b[0m,\u001b[1;36m352.6843077651393\u001b[0m,\u001b[1;36m-48.15367818099313\u001b[0m,U\n"
      ]
     },
     "metadata": {},
     "output_type": "display_data"
    },
    {
     "data": {
      "text/html": [
       "<pre style=\"white-space:pre;overflow-x:auto;line-height:normal;font-family:Menlo,'DejaVu Sans Mono',consolas,'Courier New',monospace\"><span style=\"color: #008080; text-decoration-color: #008080; font-weight: bold\">46662</span>,<span style=\"color: #008080; text-decoration-color: #008080; font-weight: bold\">129.13110412256623</span>,<span style=\"color: #008080; text-decoration-color: #008080; font-weight: bold\">-20.66237777003712</span>,U\n",
       "</pre>\n"
      ],
      "text/plain": [
       "\u001b[1;36m46662\u001b[0m,\u001b[1;36m129.13110412256623\u001b[0m,\u001b[1;36m-20.66237777003712\u001b[0m,U\n"
      ]
     },
     "metadata": {},
     "output_type": "display_data"
    },
    {
     "data": {
      "text/html": [
       "<pre style=\"white-space:pre;overflow-x:auto;line-height:normal;font-family:Menlo,'DejaVu Sans Mono',consolas,'Courier New',monospace\"><span style=\"color: #008080; text-decoration-color: #008080; font-weight: bold\">19618</span>,<span style=\"color: #008080; text-decoration-color: #008080; font-weight: bold\">142.5432190076599</span>,<span style=\"color: #008080; text-decoration-color: #008080; font-weight: bold\">78.79752340979896</span>,U\n",
       "</pre>\n"
      ],
      "text/plain": [
       "\u001b[1;36m19618\u001b[0m,\u001b[1;36m142.5432190076599\u001b[0m,\u001b[1;36m78.79752340979896\u001b[0m,U\n"
      ]
     },
     "metadata": {},
     "output_type": "display_data"
    },
    {
     "data": {
      "text/html": [
       "<pre style=\"white-space:pre;overflow-x:auto;line-height:normal;font-family:Menlo,'DejaVu Sans Mono',consolas,'Courier New',monospace\"><span style=\"color: #008080; text-decoration-color: #008080; font-weight: bold\">45735</span>,<span style=\"color: #008080; text-decoration-color: #008080; font-weight: bold\">19.266976863245034</span>,<span style=\"color: #008080; text-decoration-color: #008080; font-weight: bold\">18.75201876091834</span>,U\n",
       "</pre>\n"
      ],
      "text/plain": [
       "\u001b[1;36m45735\u001b[0m,\u001b[1;36m19.266976863245034\u001b[0m,\u001b[1;36m18.75201876091834\u001b[0m,U\n"
      ]
     },
     "metadata": {},
     "output_type": "display_data"
    },
    {
     "data": {
      "text/html": [
       "<pre style=\"white-space:pre;overflow-x:auto;line-height:normal;font-family:Menlo,'DejaVu Sans Mono',consolas,'Courier New',monospace\"><span style=\"color: #008080; text-decoration-color: #008080; font-weight: bold\">41587</span>,<span style=\"color: #008080; text-decoration-color: #008080; font-weight: bold\">140.38669267703048</span>,<span style=\"color: #008080; text-decoration-color: #008080; font-weight: bold\">18.34544215139788</span>,U\n",
       "</pre>\n"
      ],
      "text/plain": [
       "\u001b[1;36m41587\u001b[0m,\u001b[1;36m140.38669267703048\u001b[0m,\u001b[1;36m18.34544215139788\u001b[0m,U\n"
      ]
     },
     "metadata": {},
     "output_type": "display_data"
    },
    {
     "data": {
      "text/html": [
       "<pre style=\"white-space:pre;overflow-x:auto;line-height:normal;font-family:Menlo,'DejaVu Sans Mono',consolas,'Courier New',monospace\"><span style=\"color: #008080; text-decoration-color: #008080; font-weight: bold\">46017</span>,<span style=\"color: #008080; text-decoration-color: #008080; font-weight: bold\">108.39705840365065</span>,<span style=\"color: #008080; text-decoration-color: #008080; font-weight: bold\">-52.88839287528064</span>,U\n",
       "</pre>\n"
      ],
      "text/plain": [
       "\u001b[1;36m46017\u001b[0m,\u001b[1;36m108.39705840365065\u001b[0m,\u001b[1;36m-52.88839287528064\u001b[0m,U\n"
      ]
     },
     "metadata": {},
     "output_type": "display_data"
    },
    {
     "data": {
      "text/html": [
       "<pre style=\"white-space:pre;overflow-x:auto;line-height:normal;font-family:Menlo,'DejaVu Sans Mono',consolas,'Courier New',monospace\"><span style=\"color: #008080; text-decoration-color: #008080; font-weight: bold\">27072</span>,<span style=\"color: #008080; text-decoration-color: #008080; font-weight: bold\">229.877085737224</span>,<span style=\"color: #008080; text-decoration-color: #008080; font-weight: bold\">29.340629128180588</span>,U\n",
       "</pre>\n"
      ],
      "text/plain": [
       "\u001b[1;36m27072\u001b[0m,\u001b[1;36m229.877085737224\u001b[0m,\u001b[1;36m29.340629128180588\u001b[0m,U\n"
      ]
     },
     "metadata": {},
     "output_type": "display_data"
    },
    {
     "data": {
      "text/html": [
       "<pre style=\"white-space:pre;overflow-x:auto;line-height:normal;font-family:Menlo,'DejaVu Sans Mono',consolas,'Courier New',monospace\"><span style=\"color: #008080; text-decoration-color: #008080; font-weight: bold\">2102</span>,<span style=\"color: #008080; text-decoration-color: #008080; font-weight: bold\">5.129592069622395</span>,<span style=\"color: #008080; text-decoration-color: #008080; font-weight: bold\">-9.859987365337904</span>,U\n",
       "</pre>\n"
      ],
      "text/plain": [
       "\u001b[1;36m2102\u001b[0m,\u001b[1;36m5.129592069622395\u001b[0m,\u001b[1;36m-9.859987365337904\u001b[0m,U\n"
      ]
     },
     "metadata": {},
     "output_type": "display_data"
    },
    {
     "data": {
      "text/html": [
       "<pre style=\"white-space:pre;overflow-x:auto;line-height:normal;font-family:Menlo,'DejaVu Sans Mono',consolas,'Courier New',monospace\"><span style=\"color: #008080; text-decoration-color: #008080; font-weight: bold\">27075</span>,<span style=\"color: #008080; text-decoration-color: #008080; font-weight: bold\">245.36545459773308</span>,<span style=\"color: #008080; text-decoration-color: #008080; font-weight: bold\">28.90175131967716</span>,U\n",
       "</pre>\n"
      ],
      "text/plain": [
       "\u001b[1;36m27075\u001b[0m,\u001b[1;36m245.36545459773308\u001b[0m,\u001b[1;36m28.90175131967716\u001b[0m,U\n"
      ]
     },
     "metadata": {},
     "output_type": "display_data"
    },
    {
     "data": {
      "text/html": [
       "<pre style=\"white-space:pre;overflow-x:auto;line-height:normal;font-family:Menlo,'DejaVu Sans Mono',consolas,'Courier New',monospace\"><span style=\"color: #008080; text-decoration-color: #008080; font-weight: bold\">45633</span>,<span style=\"color: #008080; text-decoration-color: #008080; font-weight: bold\">150.3987299461315</span>,<span style=\"color: #008080; text-decoration-color: #008080; font-weight: bold\">77.00414041827193</span>,U\n",
       "</pre>\n"
      ],
      "text/plain": [
       "\u001b[1;36m45633\u001b[0m,\u001b[1;36m150.3987299461315\u001b[0m,\u001b[1;36m77.00414041827193\u001b[0m,U\n"
      ]
     },
     "metadata": {},
     "output_type": "display_data"
    },
    {
     "data": {
      "text/html": [
       "<pre style=\"white-space:pre;overflow-x:auto;line-height:normal;font-family:Menlo,'DejaVu Sans Mono',consolas,'Courier New',monospace\"><span style=\"color: #008080; text-decoration-color: #008080; font-weight: bold\">7541</span>,<span style=\"color: #008080; text-decoration-color: #008080; font-weight: bold\">23.167853330588223</span>,<span style=\"color: #008080; text-decoration-color: #008080; font-weight: bold\">-34.97143913950312</span>,U\n",
       "</pre>\n"
      ],
      "text/plain": [
       "\u001b[1;36m7541\u001b[0m,\u001b[1;36m23.167853330588223\u001b[0m,\u001b[1;36m-34.97143913950312\u001b[0m,U\n"
      ]
     },
     "metadata": {},
     "output_type": "display_data"
    },
    {
     "data": {
      "text/html": [
       "<pre style=\"white-space:pre;overflow-x:auto;line-height:normal;font-family:Menlo,'DejaVu Sans Mono',consolas,'Courier New',monospace\"><span style=\"color: #008080; text-decoration-color: #008080; font-weight: bold\">46557</span>,<span style=\"color: #008080; text-decoration-color: #008080; font-weight: bold\">126.89239423913654</span>,<span style=\"color: #008080; text-decoration-color: #008080; font-weight: bold\">-5.145052174578815</span>,U\n",
       "</pre>\n"
      ],
      "text/plain": [
       "\u001b[1;36m46557\u001b[0m,\u001b[1;36m126.89239423913654\u001b[0m,\u001b[1;36m-5.145052174578815\u001b[0m,U\n"
      ]
     },
     "metadata": {},
     "output_type": "display_data"
    },
    {
     "data": {
      "text/html": [
       "<pre style=\"white-space:pre;overflow-x:auto;line-height:normal;font-family:Menlo,'DejaVu Sans Mono',consolas,'Courier New',monospace\"><span style=\"color: #008080; text-decoration-color: #008080; font-weight: bold\">27072</span>,<span style=\"color: #008080; text-decoration-color: #008080; font-weight: bold\">229.99878746118185</span>,<span style=\"color: #008080; text-decoration-color: #008080; font-weight: bold\">29.63335522405774</span>,U\n",
       "</pre>\n"
      ],
      "text/plain": [
       "\u001b[1;36m27072\u001b[0m,\u001b[1;36m229.99878746118185\u001b[0m,\u001b[1;36m29.63335522405774\u001b[0m,U\n"
      ]
     },
     "metadata": {},
     "output_type": "display_data"
    },
    {
     "data": {
      "text/html": [
       "<pre style=\"white-space:pre;overflow-x:auto;line-height:normal;font-family:Menlo,'DejaVu Sans Mono',consolas,'Courier New',monospace\"><span style=\"color: #008080; text-decoration-color: #008080; font-weight: bold\">40866</span>,<span style=\"color: #008080; text-decoration-color: #008080; font-weight: bold\">68.35162264512294</span>,<span style=\"color: #008080; text-decoration-color: #008080; font-weight: bold\">6.853792894980877</span>,U\n",
       "</pre>\n"
      ],
      "text/plain": [
       "\u001b[1;36m40866\u001b[0m,\u001b[1;36m68.35162264512294\u001b[0m,\u001b[1;36m6.853792894980877\u001b[0m,U\n"
      ]
     },
     "metadata": {},
     "output_type": "display_data"
    },
    {
     "data": {
      "text/html": [
       "<pre style=\"white-space:pre;overflow-x:auto;line-height:normal;font-family:Menlo,'DejaVu Sans Mono',consolas,'Courier New',monospace\"><span style=\"color: #008080; text-decoration-color: #008080; font-weight: bold\">6079</span>,<span style=\"color: #008080; text-decoration-color: #008080; font-weight: bold\">217.58728081697356</span>,<span style=\"color: #008080; text-decoration-color: #008080; font-weight: bold\">35.52234653155697</span>,U\n",
       "</pre>\n"
      ],
      "text/plain": [
       "\u001b[1;36m6079\u001b[0m,\u001b[1;36m217.58728081697356\u001b[0m,\u001b[1;36m35.52234653155697\u001b[0m,U\n"
      ]
     },
     "metadata": {},
     "output_type": "display_data"
    },
    {
     "data": {
      "text/html": [
       "<pre style=\"white-space:pre;overflow-x:auto;line-height:normal;font-family:Menlo,'DejaVu Sans Mono',consolas,'Courier New',monospace\"><span style=\"color: #008080; text-decoration-color: #008080; font-weight: bold\">40314</span>,<span style=\"color: #008080; text-decoration-color: #008080; font-weight: bold\">34.60046462090531</span>,<span style=\"color: #008080; text-decoration-color: #008080; font-weight: bold\">-4.8852531424569285</span>,U\n",
       "</pre>\n"
      ],
      "text/plain": [
       "\u001b[1;36m40314\u001b[0m,\u001b[1;36m34.60046462090531\u001b[0m,\u001b[1;36m-4.8852531424569285\u001b[0m,U\n"
      ]
     },
     "metadata": {},
     "output_type": "display_data"
    },
    {
     "data": {
      "text/html": [
       "<pre style=\"white-space:pre;overflow-x:auto;line-height:normal;font-family:Menlo,'DejaVu Sans Mono',consolas,'Courier New',monospace\"><span style=\"color: #008080; text-decoration-color: #008080; font-weight: bold\">34229</span>,<span style=\"color: #008080; text-decoration-color: #008080; font-weight: bold\">6.9325279620135465</span>,<span style=\"color: #008080; text-decoration-color: #008080; font-weight: bold\">-10.91748102719534</span>,U\n",
       "</pre>\n"
      ],
      "text/plain": [
       "\u001b[1;36m34229\u001b[0m,\u001b[1;36m6.9325279620135465\u001b[0m,\u001b[1;36m-10.91748102719534\u001b[0m,U\n"
      ]
     },
     "metadata": {},
     "output_type": "display_data"
    },
    {
     "data": {
      "text/html": [
       "<pre style=\"white-space:pre;overflow-x:auto;line-height:normal;font-family:Menlo,'DejaVu Sans Mono',consolas,'Courier New',monospace\"><span style=\"color: #008080; text-decoration-color: #008080; font-weight: bold\">6734</span>,<span style=\"color: #008080; text-decoration-color: #008080; font-weight: bold\">253.1937211548146</span>,<span style=\"color: #008080; text-decoration-color: #008080; font-weight: bold\">35.21973481507955</span>,U\n",
       "</pre>\n"
      ],
      "text/plain": [
       "\u001b[1;36m6734\u001b[0m,\u001b[1;36m253.1937211548146\u001b[0m,\u001b[1;36m35.21973481507955\u001b[0m,U\n"
      ]
     },
     "metadata": {},
     "output_type": "display_data"
    },
    {
     "data": {
      "text/html": [
       "<pre style=\"white-space:pre;overflow-x:auto;line-height:normal;font-family:Menlo,'DejaVu Sans Mono',consolas,'Courier New',monospace\"><span style=\"color: #008080; text-decoration-color: #008080; font-weight: bold\">17228</span>,<span style=\"color: #008080; text-decoration-color: #008080; font-weight: bold\">257.918185179929</span>,<span style=\"color: #008080; text-decoration-color: #008080; font-weight: bold\">60.55000189505482</span>,U\n",
       "</pre>\n"
      ],
      "text/plain": [
       "\u001b[1;36m17228\u001b[0m,\u001b[1;36m257.918185179929\u001b[0m,\u001b[1;36m60.55000189505482\u001b[0m,U\n"
      ]
     },
     "metadata": {},
     "output_type": "display_data"
    },
    {
     "data": {
      "text/html": [
       "<pre style=\"white-space:pre;overflow-x:auto;line-height:normal;font-family:Menlo,'DejaVu Sans Mono',consolas,'Courier New',monospace\"><span style=\"color: #008080; text-decoration-color: #008080; font-weight: bold\">8117</span>,<span style=\"color: #008080; text-decoration-color: #008080; font-weight: bold\">34.51025161355808</span>,<span style=\"color: #008080; text-decoration-color: #008080; font-weight: bold\">-8.890785225365493</span>,U\n",
       "</pre>\n"
      ],
      "text/plain": [
       "\u001b[1;36m8117\u001b[0m,\u001b[1;36m34.51025161355808\u001b[0m,\u001b[1;36m-8.890785225365493\u001b[0m,U\n"
      ]
     },
     "metadata": {},
     "output_type": "display_data"
    },
    {
     "data": {
      "text/html": [
       "<pre style=\"white-space:pre;overflow-x:auto;line-height:normal;font-family:Menlo,'DejaVu Sans Mono',consolas,'Courier New',monospace\"><span style=\"color: #008080; text-decoration-color: #008080; font-weight: bold\">44773</span>,<span style=\"color: #008080; text-decoration-color: #008080; font-weight: bold\">327.74383031861066</span>,<span style=\"color: #008080; text-decoration-color: #008080; font-weight: bold\">-9.459098418495994</span>,U\n",
       "</pre>\n"
      ],
      "text/plain": [
       "\u001b[1;36m44773\u001b[0m,\u001b[1;36m327.74383031861066\u001b[0m,\u001b[1;36m-9.459098418495994\u001b[0m,U\n"
      ]
     },
     "metadata": {},
     "output_type": "display_data"
    },
    {
     "data": {
      "text/html": [
       "<pre style=\"white-space:pre;overflow-x:auto;line-height:normal;font-family:Menlo,'DejaVu Sans Mono',consolas,'Courier New',monospace\"><span style=\"color: #008080; text-decoration-color: #008080; font-weight: bold\">9055</span>,<span style=\"color: #008080; text-decoration-color: #008080; font-weight: bold\">123.12526207296858</span>,<span style=\"color: #008080; text-decoration-color: #008080; font-weight: bold\">3.680024314091847</span>,U\n",
       "</pre>\n"
      ],
      "text/plain": [
       "\u001b[1;36m9055\u001b[0m,\u001b[1;36m123.12526207296858\u001b[0m,\u001b[1;36m3.680024314091847\u001b[0m,U\n"
      ]
     },
     "metadata": {},
     "output_type": "display_data"
    },
    {
     "data": {
      "text/html": [
       "<pre style=\"white-space:pre;overflow-x:auto;line-height:normal;font-family:Menlo,'DejaVu Sans Mono',consolas,'Courier New',monospace\"><span style=\"color: #008080; text-decoration-color: #008080; font-weight: bold\">44722</span>,<span style=\"color: #008080; text-decoration-color: #008080; font-weight: bold\">280.1297910644964</span>,<span style=\"color: #008080; text-decoration-color: #008080; font-weight: bold\">54.31085655889565</span>,U\n",
       "</pre>\n"
      ],
      "text/plain": [
       "\u001b[1;36m44722\u001b[0m,\u001b[1;36m280.1297910644964\u001b[0m,\u001b[1;36m54.31085655889565\u001b[0m,U\n"
      ]
     },
     "metadata": {},
     "output_type": "display_data"
    },
    {
     "data": {
      "text/html": [
       "<pre style=\"white-space:pre;overflow-x:auto;line-height:normal;font-family:Menlo,'DejaVu Sans Mono',consolas,'Courier New',monospace\"><span style=\"color: #008080; text-decoration-color: #008080; font-weight: bold\">6435</span>,<span style=\"color: #008080; text-decoration-color: #008080; font-weight: bold\">309.58374968406525</span>,<span style=\"color: #008080; text-decoration-color: #008080; font-weight: bold\">-1.1062552389563642</span>,U\n",
       "</pre>\n"
      ],
      "text/plain": [
       "\u001b[1;36m6435\u001b[0m,\u001b[1;36m309.58374968406525\u001b[0m,\u001b[1;36m-1.1062552389563642\u001b[0m,U\n"
      ]
     },
     "metadata": {},
     "output_type": "display_data"
    },
    {
     "data": {
      "text/html": [
       "<pre style=\"white-space:pre;overflow-x:auto;line-height:normal;font-family:Menlo,'DejaVu Sans Mono',consolas,'Courier New',monospace\"><span style=\"color: #008080; text-decoration-color: #008080; font-weight: bold\">39924</span>,<span style=\"color: #008080; text-decoration-color: #008080; font-weight: bold\">36.81064964336221</span>,<span style=\"color: #008080; text-decoration-color: #008080; font-weight: bold\">-8.425760552682695</span>,U\n",
       "</pre>\n"
      ],
      "text/plain": [
       "\u001b[1;36m39924\u001b[0m,\u001b[1;36m36.81064964336221\u001b[0m,\u001b[1;36m-8.425760552682695\u001b[0m,U\n"
      ]
     },
     "metadata": {},
     "output_type": "display_data"
    },
    {
     "data": {
      "text/html": [
       "<pre style=\"white-space:pre;overflow-x:auto;line-height:normal;font-family:Menlo,'DejaVu Sans Mono',consolas,'Courier New',monospace\"><span style=\"color: #008080; text-decoration-color: #008080; font-weight: bold\">44572</span>,<span style=\"color: #008080; text-decoration-color: #008080; font-weight: bold\">359.4547764838956</span>,<span style=\"color: #008080; text-decoration-color: #008080; font-weight: bold\">-36.50526593071732</span>,U\n",
       "</pre>\n"
      ],
      "text/plain": [
       "\u001b[1;36m44572\u001b[0m,\u001b[1;36m359.4547764838956\u001b[0m,\u001b[1;36m-36.50526593071732\u001b[0m,U\n"
      ]
     },
     "metadata": {},
     "output_type": "display_data"
    },
    {
     "data": {
      "text/html": [
       "<pre style=\"white-space:pre;overflow-x:auto;line-height:normal;font-family:Menlo,'DejaVu Sans Mono',consolas,'Courier New',monospace\"><span style=\"color: #008080; text-decoration-color: #008080; font-weight: bold\">40612</span>,<span style=\"color: #008080; text-decoration-color: #008080; font-weight: bold\">53.7752879368666</span>,<span style=\"color: #008080; text-decoration-color: #008080; font-weight: bold\">-27.449138620163485</span>,U\n",
       "</pre>\n"
      ],
      "text/plain": [
       "\u001b[1;36m40612\u001b[0m,\u001b[1;36m53.7752879368666\u001b[0m,\u001b[1;36m-27.449138620163485\u001b[0m,U\n"
      ]
     },
     "metadata": {},
     "output_type": "display_data"
    },
    {
     "data": {
      "text/html": [
       "<pre style=\"white-space:pre;overflow-x:auto;line-height:normal;font-family:Menlo,'DejaVu Sans Mono',consolas,'Courier New',monospace\"><span style=\"color: #008080; text-decoration-color: #008080; font-weight: bold\">17167</span>,<span style=\"color: #008080; text-decoration-color: #008080; font-weight: bold\">258.4008225183072</span>,<span style=\"color: #008080; text-decoration-color: #008080; font-weight: bold\">53.39330752957174</span>,U\n",
       "</pre>\n"
      ],
      "text/plain": [
       "\u001b[1;36m17167\u001b[0m,\u001b[1;36m258.4008225183072\u001b[0m,\u001b[1;36m53.39330752957174\u001b[0m,U\n"
      ]
     },
     "metadata": {},
     "output_type": "display_data"
    },
    {
     "data": {
      "text/html": [
       "<pre style=\"white-space:pre;overflow-x:auto;line-height:normal;font-family:Menlo,'DejaVu Sans Mono',consolas,'Courier New',monospace\"><span style=\"color: #008080; text-decoration-color: #008080; font-weight: bold\">18124</span>,<span style=\"color: #008080; text-decoration-color: #008080; font-weight: bold\">350.9761872603088</span>,<span style=\"color: #008080; text-decoration-color: #008080; font-weight: bold\">-7.76945635479433</span>,U\n",
       "</pre>\n"
      ],
      "text/plain": [
       "\u001b[1;36m18124\u001b[0m,\u001b[1;36m350.9761872603088\u001b[0m,\u001b[1;36m-7.76945635479433\u001b[0m,U\n"
      ]
     },
     "metadata": {},
     "output_type": "display_data"
    },
    {
     "data": {
      "text/html": [
       "<pre style=\"white-space:pre;overflow-x:auto;line-height:normal;font-family:Menlo,'DejaVu Sans Mono',consolas,'Courier New',monospace\"><span style=\"color: #008080; text-decoration-color: #008080; font-weight: bold\">44722</span>,<span style=\"color: #008080; text-decoration-color: #008080; font-weight: bold\">280.05995992511413</span>,<span style=\"color: #008080; text-decoration-color: #008080; font-weight: bold\">54.047054525142826</span>,U\n",
       "</pre>\n"
      ],
      "text/plain": [
       "\u001b[1;36m44722\u001b[0m,\u001b[1;36m280.05995992511413\u001b[0m,\u001b[1;36m54.047054525142826\u001b[0m,U\n"
      ]
     },
     "metadata": {},
     "output_type": "display_data"
    },
    {
     "data": {
      "text/html": [
       "<pre style=\"white-space:pre;overflow-x:auto;line-height:normal;font-family:Menlo,'DejaVu Sans Mono',consolas,'Courier New',monospace\"><span style=\"color: #008080; text-decoration-color: #008080; font-weight: bold\">3788</span>,<span style=\"color: #008080; text-decoration-color: #008080; font-weight: bold\">116.27677308120252</span>,<span style=\"color: #008080; text-decoration-color: #008080; font-weight: bold\">43.11131178105446</span>,U\n",
       "</pre>\n"
      ],
      "text/plain": [
       "\u001b[1;36m3788\u001b[0m,\u001b[1;36m116.27677308120252\u001b[0m,\u001b[1;36m43.11131178105446\u001b[0m,U\n"
      ]
     },
     "metadata": {},
     "output_type": "display_data"
    },
    {
     "data": {
      "text/html": [
       "<pre style=\"white-space:pre;overflow-x:auto;line-height:normal;font-family:Menlo,'DejaVu Sans Mono',consolas,'Courier New',monospace\"><span style=\"color: #008080; text-decoration-color: #008080; font-weight: bold\">42155</span>,<span style=\"color: #008080; text-decoration-color: #008080; font-weight: bold\">194.8818997914526</span>,<span style=\"color: #008080; text-decoration-color: #008080; font-weight: bold\">31.736385387154257</span>,U\n",
       "</pre>\n"
      ],
      "text/plain": [
       "\u001b[1;36m42155\u001b[0m,\u001b[1;36m194.8818997914526\u001b[0m,\u001b[1;36m31.736385387154257\u001b[0m,U\n"
      ]
     },
     "metadata": {},
     "output_type": "display_data"
    },
    {
     "data": {
      "text/html": [
       "<pre style=\"white-space:pre;overflow-x:auto;line-height:normal;font-family:Menlo,'DejaVu Sans Mono',consolas,'Courier New',monospace\"><span style=\"color: #008080; text-decoration-color: #008080; font-weight: bold\">42813</span>,<span style=\"color: #008080; text-decoration-color: #008080; font-weight: bold\">245.15818100121624</span>,<span style=\"color: #008080; text-decoration-color: #008080; font-weight: bold\">54.92481188654372</span>,U\n",
       "</pre>\n"
      ],
      "text/plain": [
       "\u001b[1;36m42813\u001b[0m,\u001b[1;36m245.15818100121624\u001b[0m,\u001b[1;36m54.92481188654372\u001b[0m,U\n"
      ]
     },
     "metadata": {},
     "output_type": "display_data"
    },
    {
     "data": {
      "text/html": [
       "<pre style=\"white-space:pre;overflow-x:auto;line-height:normal;font-family:Menlo,'DejaVu Sans Mono',consolas,'Courier New',monospace\"><span style=\"color: #008080; text-decoration-color: #008080; font-weight: bold\">16671</span>,<span style=\"color: #008080; text-decoration-color: #008080; font-weight: bold\">237.04410467787451</span>,<span style=\"color: #008080; text-decoration-color: #008080; font-weight: bold\">-13.405186354055097</span>,U\n",
       "</pre>\n"
      ],
      "text/plain": [
       "\u001b[1;36m16671\u001b[0m,\u001b[1;36m237.04410467787451\u001b[0m,\u001b[1;36m-13.405186354055097\u001b[0m,U\n"
      ]
     },
     "metadata": {},
     "output_type": "display_data"
    },
    {
     "data": {
      "text/html": [
       "<pre style=\"white-space:pre;overflow-x:auto;line-height:normal;font-family:Menlo,'DejaVu Sans Mono',consolas,'Courier New',monospace\"><span style=\"color: #008080; text-decoration-color: #008080; font-weight: bold\">26752</span>,<span style=\"color: #008080; text-decoration-color: #008080; font-weight: bold\">187.98237921808652</span>,<span style=\"color: #008080; text-decoration-color: #008080; font-weight: bold\">0.9081447343319222</span>,U\n",
       "</pre>\n"
      ],
      "text/plain": [
       "\u001b[1;36m26752\u001b[0m,\u001b[1;36m187.98237921808652\u001b[0m,\u001b[1;36m0.9081447343319222\u001b[0m,U\n"
      ]
     },
     "metadata": {},
     "output_type": "display_data"
    },
    {
     "data": {
      "text/html": [
       "<pre style=\"white-space:pre;overflow-x:auto;line-height:normal;font-family:Menlo,'DejaVu Sans Mono',consolas,'Courier New',monospace\"><span style=\"color: #008080; text-decoration-color: #008080; font-weight: bold\">39923</span>,<span style=\"color: #008080; text-decoration-color: #008080; font-weight: bold\">37.90913422668196</span>,<span style=\"color: #008080; text-decoration-color: #008080; font-weight: bold\">-9.053276766543346</span>,U\n",
       "</pre>\n"
      ],
      "text/plain": [
       "\u001b[1;36m39923\u001b[0m,\u001b[1;36m37.90913422668196\u001b[0m,\u001b[1;36m-9.053276766543346\u001b[0m,U\n"
      ]
     },
     "metadata": {},
     "output_type": "display_data"
    },
    {
     "data": {
      "text/html": [
       "<pre style=\"white-space:pre;overflow-x:auto;line-height:normal;font-family:Menlo,'DejaVu Sans Mono',consolas,'Courier New',monospace\"><span style=\"color: #008080; text-decoration-color: #008080; font-weight: bold\">45779</span>,<span style=\"color: #008080; text-decoration-color: #008080; font-weight: bold\">64.71417935730308</span>,<span style=\"color: #008080; text-decoration-color: #008080; font-weight: bold\">2.1410832397915947</span>,U\n",
       "</pre>\n"
      ],
      "text/plain": [
       "\u001b[1;36m45779\u001b[0m,\u001b[1;36m64.71417935730308\u001b[0m,\u001b[1;36m2.1410832397915947\u001b[0m,U\n"
      ]
     },
     "metadata": {},
     "output_type": "display_data"
    },
    {
     "data": {
      "text/html": [
       "<pre style=\"white-space:pre;overflow-x:auto;line-height:normal;font-family:Menlo,'DejaVu Sans Mono',consolas,'Courier New',monospace\"><span style=\"color: #008080; text-decoration-color: #008080; font-weight: bold\">17907</span>,<span style=\"color: #008080; text-decoration-color: #008080; font-weight: bold\">7.180076034539977</span>,<span style=\"color: #008080; text-decoration-color: #008080; font-weight: bold\">-44.00676562656778</span>,U\n",
       "</pre>\n"
      ],
      "text/plain": [
       "\u001b[1;36m17907\u001b[0m,\u001b[1;36m7.180076034539977\u001b[0m,\u001b[1;36m-44.00676562656778\u001b[0m,U\n"
      ]
     },
     "metadata": {},
     "output_type": "display_data"
    },
    {
     "data": {
      "text/html": [
       "<pre style=\"white-space:pre;overflow-x:auto;line-height:normal;font-family:Menlo,'DejaVu Sans Mono',consolas,'Courier New',monospace\"><span style=\"color: #008080; text-decoration-color: #008080; font-weight: bold\">45661</span>,<span style=\"color: #008080; text-decoration-color: #008080; font-weight: bold\">24.104745734351354</span>,<span style=\"color: #008080; text-decoration-color: #008080; font-weight: bold\">35.915314166938124</span>,U\n",
       "</pre>\n"
      ],
      "text/plain": [
       "\u001b[1;36m45661\u001b[0m,\u001b[1;36m24.104745734351354\u001b[0m,\u001b[1;36m35.915314166938124\u001b[0m,U\n"
      ]
     },
     "metadata": {},
     "output_type": "display_data"
    },
    {
     "data": {
      "text/html": [
       "<pre style=\"white-space:pre;overflow-x:auto;line-height:normal;font-family:Menlo,'DejaVu Sans Mono',consolas,'Courier New',monospace\"><span style=\"color: #008080; text-decoration-color: #008080; font-weight: bold\">34209</span>,<span style=\"color: #008080; text-decoration-color: #008080; font-weight: bold\">333.844724447135</span>,<span style=\"color: #008080; text-decoration-color: #008080; font-weight: bold\">1.5907823887996364</span>,U\n",
       "</pre>\n"
      ],
      "text/plain": [
       "\u001b[1;36m34209\u001b[0m,\u001b[1;36m333.844724447135\u001b[0m,\u001b[1;36m1.5907823887996364\u001b[0m,U\n"
      ]
     },
     "metadata": {},
     "output_type": "display_data"
    },
    {
     "data": {
      "text/html": [
       "<pre style=\"white-space:pre;overflow-x:auto;line-height:normal;font-family:Menlo,'DejaVu Sans Mono',consolas,'Courier New',monospace\"><span style=\"color: #008080; text-decoration-color: #008080; font-weight: bold\">44810</span>,<span style=\"color: #008080; text-decoration-color: #008080; font-weight: bold\">297.1369107390692</span>,<span style=\"color: #008080; text-decoration-color: #008080; font-weight: bold\">65.83338898024432</span>,U\n",
       "</pre>\n"
      ],
      "text/plain": [
       "\u001b[1;36m44810\u001b[0m,\u001b[1;36m297.1369107390692\u001b[0m,\u001b[1;36m65.83338898024432\u001b[0m,U\n"
      ]
     },
     "metadata": {},
     "output_type": "display_data"
    },
    {
     "data": {
      "text/html": [
       "<pre style=\"white-space:pre;overflow-x:auto;line-height:normal;font-family:Menlo,'DejaVu Sans Mono',consolas,'Courier New',monospace\"><span style=\"color: #008080; text-decoration-color: #008080; font-weight: bold\">44705</span>,<span style=\"color: #008080; text-decoration-color: #008080; font-weight: bold\">311.28510152008374</span>,<span style=\"color: #008080; text-decoration-color: #008080; font-weight: bold\">4.565506198760567</span>,U\n",
       "</pre>\n"
      ],
      "text/plain": [
       "\u001b[1;36m44705\u001b[0m,\u001b[1;36m311.28510152008374\u001b[0m,\u001b[1;36m4.565506198760567\u001b[0m,U\n"
      ]
     },
     "metadata": {},
     "output_type": "display_data"
    },
    {
     "data": {
      "text/html": [
       "<pre style=\"white-space:pre;overflow-x:auto;line-height:normal;font-family:Menlo,'DejaVu Sans Mono',consolas,'Courier New',monospace\"><span style=\"color: #008080; text-decoration-color: #008080; font-weight: bold\">1754</span>,<span style=\"color: #008080; text-decoration-color: #008080; font-weight: bold\">339.9450020657669</span>,<span style=\"color: #008080; text-decoration-color: #008080; font-weight: bold\">11.979215925981158</span>,U\n",
       "</pre>\n"
      ],
      "text/plain": [
       "\u001b[1;36m1754\u001b[0m,\u001b[1;36m339.9450020657669\u001b[0m,\u001b[1;36m11.979215925981158\u001b[0m,U\n"
      ]
     },
     "metadata": {},
     "output_type": "display_data"
    },
    {
     "data": {
      "text/html": [
       "<pre style=\"white-space:pre;overflow-x:auto;line-height:normal;font-family:Menlo,'DejaVu Sans Mono',consolas,'Courier New',monospace\"><span style=\"color: #008080; text-decoration-color: #008080; font-weight: bold\">44776</span>,<span style=\"color: #008080; text-decoration-color: #008080; font-weight: bold\">283.2419604792421</span>,<span style=\"color: #008080; text-decoration-color: #008080; font-weight: bold\">61.59114802523387</span>,U\n",
       "</pre>\n"
      ],
      "text/plain": [
       "\u001b[1;36m44776\u001b[0m,\u001b[1;36m283.2419604792421\u001b[0m,\u001b[1;36m61.59114802523387\u001b[0m,U\n"
      ]
     },
     "metadata": {},
     "output_type": "display_data"
    },
    {
     "data": {
      "text/html": [
       "<pre style=\"white-space:pre;overflow-x:auto;line-height:normal;font-family:Menlo,'DejaVu Sans Mono',consolas,'Courier New',monospace\"><span style=\"color: #008080; text-decoration-color: #008080; font-weight: bold\">44098</span>,<span style=\"color: #008080; text-decoration-color: #008080; font-weight: bold\">270.8993047956276</span>,<span style=\"color: #008080; text-decoration-color: #008080; font-weight: bold\">55.180724910362215</span>,U\n",
       "</pre>\n"
      ],
      "text/plain": [
       "\u001b[1;36m44098\u001b[0m,\u001b[1;36m270.8993047956276\u001b[0m,\u001b[1;36m55.180724910362215\u001b[0m,U\n"
      ]
     },
     "metadata": {},
     "output_type": "display_data"
    },
    {
     "data": {
      "text/html": [
       "<pre style=\"white-space:pre;overflow-x:auto;line-height:normal;font-family:Menlo,'DejaVu Sans Mono',consolas,'Courier New',monospace\"><span style=\"color: #008080; text-decoration-color: #008080; font-weight: bold\">40350</span>,<span style=\"color: #008080; text-decoration-color: #008080; font-weight: bold\">52.5762390440509</span>,<span style=\"color: #008080; text-decoration-color: #008080; font-weight: bold\">-28.533907869373557</span>,U\n",
       "</pre>\n"
      ],
      "text/plain": [
       "\u001b[1;36m40350\u001b[0m,\u001b[1;36m52.5762390440509\u001b[0m,\u001b[1;36m-28.533907869373557\u001b[0m,U\n"
      ]
     },
     "metadata": {},
     "output_type": "display_data"
    },
    {
     "data": {
      "text/html": [
       "<pre style=\"white-space:pre;overflow-x:auto;line-height:normal;font-family:Menlo,'DejaVu Sans Mono',consolas,'Courier New',monospace\"><span style=\"color: #008080; text-decoration-color: #008080; font-weight: bold\">6279</span>,<span style=\"color: #008080; text-decoration-color: #008080; font-weight: bold\">323.8244277481075</span>,<span style=\"color: #008080; text-decoration-color: #008080; font-weight: bold\">10.791858289397382</span>,U\n",
       "</pre>\n"
      ],
      "text/plain": [
       "\u001b[1;36m6279\u001b[0m,\u001b[1;36m323.8244277481075\u001b[0m,\u001b[1;36m10.791858289397382\u001b[0m,U\n"
      ]
     },
     "metadata": {},
     "output_type": "display_data"
    },
    {
     "data": {
      "text/html": [
       "<pre style=\"white-space:pre;overflow-x:auto;line-height:normal;font-family:Menlo,'DejaVu Sans Mono',consolas,'Courier New',monospace\"><span style=\"color: #008080; text-decoration-color: #008080; font-weight: bold\">41897</span>,<span style=\"color: #008080; text-decoration-color: #008080; font-weight: bold\">151.75477159395408</span>,<span style=\"color: #008080; text-decoration-color: #008080; font-weight: bold\">67.54615719344095</span>,U\n",
       "</pre>\n"
      ],
      "text/plain": [
       "\u001b[1;36m41897\u001b[0m,\u001b[1;36m151.75477159395408\u001b[0m,\u001b[1;36m67.54615719344095\u001b[0m,U\n"
      ]
     },
     "metadata": {},
     "output_type": "display_data"
    },
    {
     "data": {
      "text/html": [
       "<pre style=\"white-space:pre;overflow-x:auto;line-height:normal;font-family:Menlo,'DejaVu Sans Mono',consolas,'Courier New',monospace\"><span style=\"color: #008080; text-decoration-color: #008080; font-weight: bold\">42773</span>,<span style=\"color: #008080; text-decoration-color: #008080; font-weight: bold\">251.70191952268075</span>,<span style=\"color: #008080; text-decoration-color: #008080; font-weight: bold\">21.73771803918365</span>,U\n",
       "</pre>\n"
      ],
      "text/plain": [
       "\u001b[1;36m42773\u001b[0m,\u001b[1;36m251.70191952268075\u001b[0m,\u001b[1;36m21.73771803918365\u001b[0m,U\n"
      ]
     },
     "metadata": {},
     "output_type": "display_data"
    },
    {
     "data": {
      "text/html": [
       "<pre style=\"white-space:pre;overflow-x:auto;line-height:normal;font-family:Menlo,'DejaVu Sans Mono',consolas,'Courier New',monospace\"><span style=\"color: #008080; text-decoration-color: #008080; font-weight: bold\">44777</span>,<span style=\"color: #008080; text-decoration-color: #008080; font-weight: bold\">269.2569429110184</span>,<span style=\"color: #008080; text-decoration-color: #008080; font-weight: bold\">68.8259597342597</span>,U\n",
       "</pre>\n"
      ],
      "text/plain": [
       "\u001b[1;36m44777\u001b[0m,\u001b[1;36m269.2569429110184\u001b[0m,\u001b[1;36m68.8259597342597\u001b[0m,U\n"
      ]
     },
     "metadata": {},
     "output_type": "display_data"
    },
    {
     "data": {
      "text/html": [
       "<pre style=\"white-space:pre;overflow-x:auto;line-height:normal;font-family:Menlo,'DejaVu Sans Mono',consolas,'Courier New',monospace\"><span style=\"color: #008080; text-decoration-color: #008080; font-weight: bold\">6745</span>,<span style=\"color: #008080; text-decoration-color: #008080; font-weight: bold\">253.5783316755092</span>,<span style=\"color: #008080; text-decoration-color: #008080; font-weight: bold\">35.12671773720396</span>,U\n",
       "</pre>\n"
      ],
      "text/plain": [
       "\u001b[1;36m6745\u001b[0m,\u001b[1;36m253.5783316755092\u001b[0m,\u001b[1;36m35.12671773720396\u001b[0m,U\n"
      ]
     },
     "metadata": {},
     "output_type": "display_data"
    },
    {
     "data": {
      "text/html": [
       "<pre style=\"white-space:pre;overflow-x:auto;line-height:normal;font-family:Menlo,'DejaVu Sans Mono',consolas,'Courier New',monospace\"><span style=\"color: #008080; text-decoration-color: #008080; font-weight: bold\">4274</span>,<span style=\"color: #008080; text-decoration-color: #008080; font-weight: bold\">150.26898346634889</span>,<span style=\"color: #008080; text-decoration-color: #008080; font-weight: bold\">2.503797346323838</span>,U\n",
       "</pre>\n"
      ],
      "text/plain": [
       "\u001b[1;36m4274\u001b[0m,\u001b[1;36m150.26898346634889\u001b[0m,\u001b[1;36m2.503797346323838\u001b[0m,U\n"
      ]
     },
     "metadata": {},
     "output_type": "display_data"
    },
    {
     "data": {
      "text/html": [
       "<pre style=\"white-space:pre;overflow-x:auto;line-height:normal;font-family:Menlo,'DejaVu Sans Mono',consolas,'Courier New',monospace\"><span style=\"color: #008080; text-decoration-color: #008080; font-weight: bold\">27118</span>,<span style=\"color: #008080; text-decoration-color: #008080; font-weight: bold\">226.60961201025515</span>,<span style=\"color: #008080; text-decoration-color: #008080; font-weight: bold\">6.645575708756509</span>,U\n",
       "</pre>\n"
      ],
      "text/plain": [
       "\u001b[1;36m27118\u001b[0m,\u001b[1;36m226.60961201025515\u001b[0m,\u001b[1;36m6.645575708756509\u001b[0m,U\n"
      ]
     },
     "metadata": {},
     "output_type": "display_data"
    },
    {
     "data": {
      "text/html": [
       "<pre style=\"white-space:pre;overflow-x:auto;line-height:normal;font-family:Menlo,'DejaVu Sans Mono',consolas,'Courier New',monospace\"><span style=\"color: #008080; text-decoration-color: #008080; font-weight: bold\">35633</span>,<span style=\"color: #008080; text-decoration-color: #008080; font-weight: bold\">131.5862820239861</span>,<span style=\"color: #008080; text-decoration-color: #008080; font-weight: bold\">-4.959706158344802</span>,U\n",
       "</pre>\n"
      ],
      "text/plain": [
       "\u001b[1;36m35633\u001b[0m,\u001b[1;36m131.5862820239861\u001b[0m,\u001b[1;36m-4.959706158344802\u001b[0m,U\n"
      ]
     },
     "metadata": {},
     "output_type": "display_data"
    },
    {
     "data": {
      "text/html": [
       "<pre style=\"white-space:pre;overflow-x:auto;line-height:normal;font-family:Menlo,'DejaVu Sans Mono',consolas,'Courier New',monospace\"><span style=\"color: #008080; text-decoration-color: #008080; font-weight: bold\">40284</span>,<span style=\"color: #008080; text-decoration-color: #008080; font-weight: bold\">31.942847611805917</span>,<span style=\"color: #008080; text-decoration-color: #008080; font-weight: bold\">-4.8737083943253205</span>,U\n",
       "</pre>\n"
      ],
      "text/plain": [
       "\u001b[1;36m40284\u001b[0m,\u001b[1;36m31.942847611805917\u001b[0m,\u001b[1;36m-4.8737083943253205\u001b[0m,U\n"
      ]
     },
     "metadata": {},
     "output_type": "display_data"
    },
    {
     "data": {
      "text/html": [
       "<pre style=\"white-space:pre;overflow-x:auto;line-height:normal;font-family:Menlo,'DejaVu Sans Mono',consolas,'Courier New',monospace\"><span style=\"color: #008080; text-decoration-color: #008080; font-weight: bold\">45170</span>,<span style=\"color: #008080; text-decoration-color: #008080; font-weight: bold\">306.0513786695664</span>,<span style=\"color: #008080; text-decoration-color: #008080; font-weight: bold\">-68.8818116891012</span>,U\n",
       "</pre>\n"
      ],
      "text/plain": [
       "\u001b[1;36m45170\u001b[0m,\u001b[1;36m306.0513786695664\u001b[0m,\u001b[1;36m-68.8818116891012\u001b[0m,U\n"
      ]
     },
     "metadata": {},
     "output_type": "display_data"
    },
    {
     "data": {
      "text/html": [
       "<pre style=\"white-space:pre;overflow-x:auto;line-height:normal;font-family:Menlo,'DejaVu Sans Mono',consolas,'Courier New',monospace\"><span style=\"color: #008080; text-decoration-color: #008080; font-weight: bold\">45475</span>,<span style=\"color: #008080; text-decoration-color: #008080; font-weight: bold\">3.8402905314220552</span>,<span style=\"color: #008080; text-decoration-color: #008080; font-weight: bold\">30.5303491369474</span>,U\n",
       "</pre>\n"
      ],
      "text/plain": [
       "\u001b[1;36m45475\u001b[0m,\u001b[1;36m3.8402905314220552\u001b[0m,\u001b[1;36m30.5303491369474\u001b[0m,U\n"
      ]
     },
     "metadata": {},
     "output_type": "display_data"
    },
    {
     "data": {
      "text/html": [
       "<pre style=\"white-space:pre;overflow-x:auto;line-height:normal;font-family:Menlo,'DejaVu Sans Mono',consolas,'Courier New',monospace\"><span style=\"color: #008080; text-decoration-color: #008080; font-weight: bold\">44913</span>,<span style=\"color: #008080; text-decoration-color: #008080; font-weight: bold\">341.2364869878228</span>,<span style=\"color: #008080; text-decoration-color: #008080; font-weight: bold\">37.05643720364626</span>,U\n",
       "</pre>\n"
      ],
      "text/plain": [
       "\u001b[1;36m44913\u001b[0m,\u001b[1;36m341.2364869878228\u001b[0m,\u001b[1;36m37.05643720364626\u001b[0m,U\n"
      ]
     },
     "metadata": {},
     "output_type": "display_data"
    },
    {
     "data": {
      "text/html": [
       "<pre style=\"white-space:pre;overflow-x:auto;line-height:normal;font-family:Menlo,'DejaVu Sans Mono',consolas,'Courier New',monospace\"><span style=\"color: #008080; text-decoration-color: #008080; font-weight: bold\">45547</span>,<span style=\"color: #008080; text-decoration-color: #008080; font-weight: bold\">3.196320868806266</span>,<span style=\"color: #008080; text-decoration-color: #008080; font-weight: bold\">43.32474636291784</span>,U\n",
       "</pre>\n"
      ],
      "text/plain": [
       "\u001b[1;36m45547\u001b[0m,\u001b[1;36m3.196320868806266\u001b[0m,\u001b[1;36m43.32474636291784\u001b[0m,U\n"
      ]
     },
     "metadata": {},
     "output_type": "display_data"
    },
    {
     "data": {
      "text/html": [
       "<pre style=\"white-space:pre;overflow-x:auto;line-height:normal;font-family:Menlo,'DejaVu Sans Mono',consolas,'Courier New',monospace\"><span style=\"color: #008080; text-decoration-color: #008080; font-weight: bold\">18897</span>,<span style=\"color: #008080; text-decoration-color: #008080; font-weight: bold\">35.05991405586008</span>,<span style=\"color: #008080; text-decoration-color: #008080; font-weight: bold\">-2.8674207803097254</span>,U\n",
       "</pre>\n"
      ],
      "text/plain": [
       "\u001b[1;36m18897\u001b[0m,\u001b[1;36m35.05991405586008\u001b[0m,\u001b[1;36m-2.8674207803097254\u001b[0m,U\n"
      ]
     },
     "metadata": {},
     "output_type": "display_data"
    },
    {
     "data": {
      "text/html": [
       "<pre style=\"white-space:pre;overflow-x:auto;line-height:normal;font-family:Menlo,'DejaVu Sans Mono',consolas,'Courier New',monospace\"><span style=\"color: #008080; text-decoration-color: #008080; font-weight: bold\">44839</span>,<span style=\"color: #008080; text-decoration-color: #008080; font-weight: bold\">324.8643769796861</span>,<span style=\"color: #008080; text-decoration-color: #008080; font-weight: bold\">33.33498356454052</span>,U\n",
       "</pre>\n"
      ],
      "text/plain": [
       "\u001b[1;36m44839\u001b[0m,\u001b[1;36m324.8643769796861\u001b[0m,\u001b[1;36m33.33498356454052\u001b[0m,U\n"
      ]
     },
     "metadata": {},
     "output_type": "display_data"
    },
    {
     "data": {
      "text/html": [
       "<pre style=\"white-space:pre;overflow-x:auto;line-height:normal;font-family:Menlo,'DejaVu Sans Mono',consolas,'Courier New',monospace\"><span style=\"color: #008080; text-decoration-color: #008080; font-weight: bold\">18984</span>,<span style=\"color: #008080; text-decoration-color: #008080; font-weight: bold\">34.888847485701646</span>,<span style=\"color: #008080; text-decoration-color: #008080; font-weight: bold\">-3.151401180947546</span>,U\n",
       "</pre>\n"
      ],
      "text/plain": [
       "\u001b[1;36m18984\u001b[0m,\u001b[1;36m34.888847485701646\u001b[0m,\u001b[1;36m-3.151401180947546\u001b[0m,U\n"
      ]
     },
     "metadata": {},
     "output_type": "display_data"
    },
    {
     "data": {
      "text/html": [
       "<pre style=\"white-space:pre;overflow-x:auto;line-height:normal;font-family:Menlo,'DejaVu Sans Mono',consolas,'Courier New',monospace\"><span style=\"color: #008080; text-decoration-color: #008080; font-weight: bold\">7602</span>,<span style=\"color: #008080; text-decoration-color: #008080; font-weight: bold\">343.3825048323851</span>,<span style=\"color: #008080; text-decoration-color: #008080; font-weight: bold\">-0.5355176508393006</span>,U\n",
       "</pre>\n"
      ],
      "text/plain": [
       "\u001b[1;36m7602\u001b[0m,\u001b[1;36m343.3825048323851\u001b[0m,\u001b[1;36m-0.5355176508393006\u001b[0m,U\n"
      ]
     },
     "metadata": {},
     "output_type": "display_data"
    },
    {
     "data": {
      "text/html": [
       "<pre style=\"white-space:pre;overflow-x:auto;line-height:normal;font-family:Menlo,'DejaVu Sans Mono',consolas,'Courier New',monospace\"><span style=\"color: #008080; text-decoration-color: #008080; font-weight: bold\">35633</span>,<span style=\"color: #008080; text-decoration-color: #008080; font-weight: bold\">131.98673523067535</span>,<span style=\"color: #008080; text-decoration-color: #008080; font-weight: bold\">-5.012656405699395</span>,U\n",
       "</pre>\n"
      ],
      "text/plain": [
       "\u001b[1;36m35633\u001b[0m,\u001b[1;36m131.98673523067535\u001b[0m,\u001b[1;36m-5.012656405699395\u001b[0m,U\n"
      ]
     },
     "metadata": {},
     "output_type": "display_data"
    },
    {
     "data": {
      "text/html": [
       "<pre style=\"white-space:pre;overflow-x:auto;line-height:normal;font-family:Menlo,'DejaVu Sans Mono',consolas,'Courier New',monospace\"><span style=\"color: #008080; text-decoration-color: #008080; font-weight: bold\">45418</span>,<span style=\"color: #008080; text-decoration-color: #008080; font-weight: bold\">32.671739033418696</span>,<span style=\"color: #008080; text-decoration-color: #008080; font-weight: bold\">-29.52570824730977</span>,U\n",
       "</pre>\n"
      ],
      "text/plain": [
       "\u001b[1;36m45418\u001b[0m,\u001b[1;36m32.671739033418696\u001b[0m,\u001b[1;36m-29.52570824730977\u001b[0m,U\n"
      ]
     },
     "metadata": {},
     "output_type": "display_data"
    },
    {
     "data": {
      "text/html": [
       "<pre style=\"white-space:pre;overflow-x:auto;line-height:normal;font-family:Menlo,'DejaVu Sans Mono',consolas,'Courier New',monospace\"><span style=\"color: #008080; text-decoration-color: #008080; font-weight: bold\">18080</span>,<span style=\"color: #008080; text-decoration-color: #008080; font-weight: bold\">353.950876862006</span>,<span style=\"color: #008080; text-decoration-color: #008080; font-weight: bold\">-8.651216026273303</span>,U\n",
       "</pre>\n"
      ],
      "text/plain": [
       "\u001b[1;36m18080\u001b[0m,\u001b[1;36m353.950876862006\u001b[0m,\u001b[1;36m-8.651216026273303\u001b[0m,U\n"
      ]
     },
     "metadata": {},
     "output_type": "display_data"
    },
    {
     "data": {
      "text/html": [
       "<pre style=\"white-space:pre;overflow-x:auto;line-height:normal;font-family:Menlo,'DejaVu Sans Mono',consolas,'Courier New',monospace\"><span style=\"color: #008080; text-decoration-color: #008080; font-weight: bold\">46144</span>,<span style=\"color: #008080; text-decoration-color: #008080; font-weight: bold\">70.21495683679716</span>,<span style=\"color: #008080; text-decoration-color: #008080; font-weight: bold\">-7.826414610834429</span>,U\n",
       "</pre>\n"
      ],
      "text/plain": [
       "\u001b[1;36m46144\u001b[0m,\u001b[1;36m70.21495683679716\u001b[0m,\u001b[1;36m-7.826414610834429\u001b[0m,U\n"
      ]
     },
     "metadata": {},
     "output_type": "display_data"
    },
    {
     "data": {
      "text/html": [
       "<pre style=\"white-space:pre;overflow-x:auto;line-height:normal;font-family:Menlo,'DejaVu Sans Mono',consolas,'Courier New',monospace\"><span style=\"color: #008080; text-decoration-color: #008080; font-weight: bold\">40058</span>,<span style=\"color: #008080; text-decoration-color: #008080; font-weight: bold\">35.29851178836077</span>,<span style=\"color: #008080; text-decoration-color: #008080; font-weight: bold\">-5.177585204857025</span>,U\n",
       "</pre>\n"
      ],
      "text/plain": [
       "\u001b[1;36m40058\u001b[0m,\u001b[1;36m35.29851178836077\u001b[0m,\u001b[1;36m-5.177585204857025\u001b[0m,U\n"
      ]
     },
     "metadata": {},
     "output_type": "display_data"
    },
    {
     "data": {
      "text/html": [
       "<pre style=\"white-space:pre;overflow-x:auto;line-height:normal;font-family:Menlo,'DejaVu Sans Mono',consolas,'Courier New',monospace\"><span style=\"color: #008080; text-decoration-color: #008080; font-weight: bold\">40350</span>,<span style=\"color: #008080; text-decoration-color: #008080; font-weight: bold\">53.14956059451721</span>,<span style=\"color: #008080; text-decoration-color: #008080; font-weight: bold\">-29.16787237756704</span>,U\n",
       "</pre>\n"
      ],
      "text/plain": [
       "\u001b[1;36m40350\u001b[0m,\u001b[1;36m53.14956059451721\u001b[0m,\u001b[1;36m-29.16787237756704\u001b[0m,U\n"
      ]
     },
     "metadata": {},
     "output_type": "display_data"
    },
    {
     "data": {
      "text/html": [
       "<pre style=\"white-space:pre;overflow-x:auto;line-height:normal;font-family:Menlo,'DejaVu Sans Mono',consolas,'Courier New',monospace\"><span style=\"color: #008080; text-decoration-color: #008080; font-weight: bold\">40832</span>,<span style=\"color: #008080; text-decoration-color: #008080; font-weight: bold\">65.460426981084</span>,<span style=\"color: #008080; text-decoration-color: #008080; font-weight: bold\">3.739690141646388</span>,U\n",
       "</pre>\n"
      ],
      "text/plain": [
       "\u001b[1;36m40832\u001b[0m,\u001b[1;36m65.460426981084\u001b[0m,\u001b[1;36m3.739690141646388\u001b[0m,U\n"
      ]
     },
     "metadata": {},
     "output_type": "display_data"
    },
    {
     "data": {
      "text/html": [
       "<pre style=\"white-space:pre;overflow-x:auto;line-height:normal;font-family:Menlo,'DejaVu Sans Mono',consolas,'Courier New',monospace\"><span style=\"color: #008080; text-decoration-color: #008080; font-weight: bold\">33994</span>,<span style=\"color: #008080; text-decoration-color: #008080; font-weight: bold\">331.3022158976971</span>,<span style=\"color: #008080; text-decoration-color: #008080; font-weight: bold\">1.6091924585079125</span>,U\n",
       "</pre>\n"
      ],
      "text/plain": [
       "\u001b[1;36m33994\u001b[0m,\u001b[1;36m331.3022158976971\u001b[0m,\u001b[1;36m1.6091924585079125\u001b[0m,U\n"
      ]
     },
     "metadata": {},
     "output_type": "display_data"
    },
    {
     "data": {
      "text/html": [
       "<pre style=\"white-space:pre;overflow-x:auto;line-height:normal;font-family:Menlo,'DejaVu Sans Mono',consolas,'Courier New',monospace\"><span style=\"color: #008080; text-decoration-color: #008080; font-weight: bold\">9443</span>,<span style=\"color: #008080; text-decoration-color: #008080; font-weight: bold\">79.94062258655684</span>,<span style=\"color: #008080; text-decoration-color: #008080; font-weight: bold\">-49.94680278535412</span>,U\n",
       "</pre>\n"
      ],
      "text/plain": [
       "\u001b[1;36m9443\u001b[0m,\u001b[1;36m79.94062258655684\u001b[0m,\u001b[1;36m-49.94680278535412\u001b[0m,U\n"
      ]
     },
     "metadata": {},
     "output_type": "display_data"
    },
    {
     "data": {
      "text/html": [
       "<pre style=\"white-space:pre;overflow-x:auto;line-height:normal;font-family:Menlo,'DejaVu Sans Mono',consolas,'Courier New',monospace\"><span style=\"color: #008080; text-decoration-color: #008080; font-weight: bold\">40879</span>,<span style=\"color: #008080; text-decoration-color: #008080; font-weight: bold\">69.71797084170915</span>,<span style=\"color: #008080; text-decoration-color: #008080; font-weight: bold\">6.171343210481877</span>,U\n",
       "</pre>\n"
      ],
      "text/plain": [
       "\u001b[1;36m40879\u001b[0m,\u001b[1;36m69.71797084170915\u001b[0m,\u001b[1;36m6.171343210481877\u001b[0m,U\n"
      ]
     },
     "metadata": {},
     "output_type": "display_data"
    },
    {
     "data": {
      "text/html": [
       "<pre style=\"white-space:pre;overflow-x:auto;line-height:normal;font-family:Menlo,'DejaVu Sans Mono',consolas,'Courier New',monospace\"><span style=\"color: #008080; text-decoration-color: #008080; font-weight: bold\">10726</span>,<span style=\"color: #008080; text-decoration-color: #008080; font-weight: bold\">242.2641575882681</span>,<span style=\"color: #008080; text-decoration-color: #008080; font-weight: bold\">54.51137471683269</span>,U\n",
       "</pre>\n"
      ],
      "text/plain": [
       "\u001b[1;36m10726\u001b[0m,\u001b[1;36m242.2641575882681\u001b[0m,\u001b[1;36m54.51137471683269\u001b[0m,U\n"
      ]
     },
     "metadata": {},
     "output_type": "display_data"
    },
    {
     "data": {
      "text/html": [
       "<pre style=\"white-space:pre;overflow-x:auto;line-height:normal;font-family:Menlo,'DejaVu Sans Mono',consolas,'Courier New',monospace\"><span style=\"color: #008080; text-decoration-color: #008080; font-weight: bold\">40962</span>,<span style=\"color: #008080; text-decoration-color: #008080; font-weight: bold\">71.23350966819005</span>,<span style=\"color: #008080; text-decoration-color: #008080; font-weight: bold\">17.961030888531468</span>,U\n",
       "</pre>\n"
      ],
      "text/plain": [
       "\u001b[1;36m40962\u001b[0m,\u001b[1;36m71.23350966819005\u001b[0m,\u001b[1;36m17.961030888531468\u001b[0m,U\n"
      ]
     },
     "metadata": {},
     "output_type": "display_data"
    },
    {
     "data": {
      "text/html": [
       "<pre style=\"white-space:pre;overflow-x:auto;line-height:normal;font-family:Menlo,'DejaVu Sans Mono',consolas,'Courier New',monospace\"><span style=\"color: #008080; text-decoration-color: #008080; font-weight: bold\">19723</span>,<span style=\"color: #008080; text-decoration-color: #008080; font-weight: bold\">119.8837837561756</span>,<span style=\"color: #008080; text-decoration-color: #008080; font-weight: bold\">7.636330846192356</span>,U\n",
       "</pre>\n"
      ],
      "text/plain": [
       "\u001b[1;36m19723\u001b[0m,\u001b[1;36m119.8837837561756\u001b[0m,\u001b[1;36m7.636330846192356\u001b[0m,U\n"
      ]
     },
     "metadata": {},
     "output_type": "display_data"
    },
    {
     "data": {
      "text/html": [
       "<pre style=\"white-space:pre;overflow-x:auto;line-height:normal;font-family:Menlo,'DejaVu Sans Mono',consolas,'Courier New',monospace\"><span style=\"color: #008080; text-decoration-color: #008080; font-weight: bold\">10678</span>,<span style=\"color: #008080; text-decoration-color: #008080; font-weight: bold\">200.7104507652047</span>,<span style=\"color: #008080; text-decoration-color: #008080; font-weight: bold\">65.7575799014368</span>,U\n",
       "</pre>\n"
      ],
      "text/plain": [
       "\u001b[1;36m10678\u001b[0m,\u001b[1;36m200.7104507652047\u001b[0m,\u001b[1;36m65.7575799014368\u001b[0m,U\n"
      ]
     },
     "metadata": {},
     "output_type": "display_data"
    },
    {
     "data": {
      "text/html": [
       "<pre style=\"white-space:pre;overflow-x:auto;line-height:normal;font-family:Menlo,'DejaVu Sans Mono',consolas,'Courier New',monospace\"><span style=\"color: #008080; text-decoration-color: #008080; font-weight: bold\">42309</span>,<span style=\"color: #008080; text-decoration-color: #008080; font-weight: bold\">189.6723741500988</span>,<span style=\"color: #008080; text-decoration-color: #008080; font-weight: bold\">5.171918028565648</span>,U\n",
       "</pre>\n"
      ],
      "text/plain": [
       "\u001b[1;36m42309\u001b[0m,\u001b[1;36m189.6723741500988\u001b[0m,\u001b[1;36m5.171918028565648\u001b[0m,U\n"
      ]
     },
     "metadata": {},
     "output_type": "display_data"
    },
    {
     "data": {
      "text/html": [
       "<pre style=\"white-space:pre;overflow-x:auto;line-height:normal;font-family:Menlo,'DejaVu Sans Mono',consolas,'Courier New',monospace\"><span style=\"color: #008080; text-decoration-color: #008080; font-weight: bold\">18998</span>,<span style=\"color: #008080; text-decoration-color: #008080; font-weight: bold\">34.6652566637336</span>,<span style=\"color: #008080; text-decoration-color: #008080; font-weight: bold\">-3.4834673657208377</span>,U\n",
       "</pre>\n"
      ],
      "text/plain": [
       "\u001b[1;36m18998\u001b[0m,\u001b[1;36m34.6652566637336\u001b[0m,\u001b[1;36m-3.4834673657208377\u001b[0m,U\n"
      ]
     },
     "metadata": {},
     "output_type": "display_data"
    },
    {
     "data": {
      "text/html": [
       "<pre style=\"white-space:pre;overflow-x:auto;line-height:normal;font-family:Menlo,'DejaVu Sans Mono',consolas,'Courier New',monospace\"><span style=\"color: #008080; text-decoration-color: #008080; font-weight: bold\">9461</span>,<span style=\"color: #008080; text-decoration-color: #008080; font-weight: bold\">80.11895421435187</span>,<span style=\"color: #008080; text-decoration-color: #008080; font-weight: bold\">-48.93711875034063</span>,U\n",
       "</pre>\n"
      ],
      "text/plain": [
       "\u001b[1;36m9461\u001b[0m,\u001b[1;36m80.11895421435187\u001b[0m,\u001b[1;36m-48.93711875034063\u001b[0m,U\n"
      ]
     },
     "metadata": {},
     "output_type": "display_data"
    },
    {
     "data": {
      "text/html": [
       "<pre style=\"white-space:pre;overflow-x:auto;line-height:normal;font-family:Menlo,'DejaVu Sans Mono',consolas,'Courier New',monospace\"><span style=\"color: #008080; text-decoration-color: #008080; font-weight: bold\">8645</span>,<span style=\"color: #008080; text-decoration-color: #008080; font-weight: bold\">76.50821298431666</span>,<span style=\"color: #008080; text-decoration-color: #008080; font-weight: bold\">-38.5177706818631</span>,U\n",
       "</pre>\n"
      ],
      "text/plain": [
       "\u001b[1;36m8645\u001b[0m,\u001b[1;36m76.50821298431666\u001b[0m,\u001b[1;36m-38.5177706818631\u001b[0m,U\n"
      ]
     },
     "metadata": {},
     "output_type": "display_data"
    },
    {
     "data": {
      "text/html": [
       "<pre style=\"white-space:pre;overflow-x:auto;line-height:normal;font-family:Menlo,'DejaVu Sans Mono',consolas,'Courier New',monospace\"><span style=\"color: #008080; text-decoration-color: #008080; font-weight: bold\">16678</span>,<span style=\"color: #008080; text-decoration-color: #008080; font-weight: bold\">237.021892819695</span>,<span style=\"color: #008080; text-decoration-color: #008080; font-weight: bold\">-13.187068412532552</span>,U\n",
       "</pre>\n"
      ],
      "text/plain": [
       "\u001b[1;36m16678\u001b[0m,\u001b[1;36m237.021892819695\u001b[0m,\u001b[1;36m-13.187068412532552\u001b[0m,U\n"
      ]
     },
     "metadata": {},
     "output_type": "display_data"
    },
    {
     "data": {
      "text/html": [
       "<pre style=\"white-space:pre;overflow-x:auto;line-height:normal;font-family:Menlo,'DejaVu Sans Mono',consolas,'Courier New',monospace\"><span style=\"color: #008080; text-decoration-color: #008080; font-weight: bold\">27040</span>,<span style=\"color: #008080; text-decoration-color: #008080; font-weight: bold\">268.1879867829008</span>,<span style=\"color: #008080; text-decoration-color: #008080; font-weight: bold\">66.39432149462088</span>,U\n",
       "</pre>\n"
      ],
      "text/plain": [
       "\u001b[1;36m27040\u001b[0m,\u001b[1;36m268.1879867829008\u001b[0m,\u001b[1;36m66.39432149462088\u001b[0m,U\n"
      ]
     },
     "metadata": {},
     "output_type": "display_data"
    },
    {
     "data": {
      "text/html": [
       "<pre style=\"white-space:pre;overflow-x:auto;line-height:normal;font-family:Menlo,'DejaVu Sans Mono',consolas,'Courier New',monospace\"><span style=\"color: #008080; text-decoration-color: #008080; font-weight: bold\">6435</span>,<span style=\"color: #008080; text-decoration-color: #008080; font-weight: bold\">310.03625968255454</span>,<span style=\"color: #008080; text-decoration-color: #008080; font-weight: bold\">-0.8767787363085037</span>,U\n",
       "</pre>\n"
      ],
      "text/plain": [
       "\u001b[1;36m6435\u001b[0m,\u001b[1;36m310.03625968255454\u001b[0m,\u001b[1;36m-0.8767787363085037\u001b[0m,U\n"
      ]
     },
     "metadata": {},
     "output_type": "display_data"
    },
    {
     "data": {
      "text/html": [
       "<pre style=\"white-space:pre;overflow-x:auto;line-height:normal;font-family:Menlo,'DejaVu Sans Mono',consolas,'Courier New',monospace\"><span style=\"color: #008080; text-decoration-color: #008080; font-weight: bold\">44454</span>,<span style=\"color: #008080; text-decoration-color: #008080; font-weight: bold\">85.31357986316618</span>,<span style=\"color: #008080; text-decoration-color: #008080; font-weight: bold\">-70.48856369368956</span>,U\n",
       "</pre>\n"
      ],
      "text/plain": [
       "\u001b[1;36m44454\u001b[0m,\u001b[1;36m85.31357986316618\u001b[0m,\u001b[1;36m-70.48856369368956\u001b[0m,U\n"
      ]
     },
     "metadata": {},
     "output_type": "display_data"
    },
    {
     "data": {
      "text/html": [
       "<pre style=\"white-space:pre;overflow-x:auto;line-height:normal;font-family:Menlo,'DejaVu Sans Mono',consolas,'Courier New',monospace\"><span style=\"color: #008080; text-decoration-color: #008080; font-weight: bold\">8895</span>,<span style=\"color: #008080; text-decoration-color: #008080; font-weight: bold\">138.28671483448326</span>,<span style=\"color: #008080; text-decoration-color: #008080; font-weight: bold\">-10.1874368861008</span>,U\n",
       "</pre>\n"
      ],
      "text/plain": [
       "\u001b[1;36m8895\u001b[0m,\u001b[1;36m138.28671483448326\u001b[0m,\u001b[1;36m-10.1874368861008\u001b[0m,U\n"
      ]
     },
     "metadata": {},
     "output_type": "display_data"
    },
    {
     "data": {
      "text/html": [
       "<pre style=\"white-space:pre;overflow-x:auto;line-height:normal;font-family:Menlo,'DejaVu Sans Mono',consolas,'Courier New',monospace\"><span style=\"color: #008080; text-decoration-color: #008080; font-weight: bold\">19618</span>,<span style=\"color: #008080; text-decoration-color: #008080; font-weight: bold\">142.41221945914748</span>,<span style=\"color: #008080; text-decoration-color: #008080; font-weight: bold\">78.78601399248132</span>,U\n",
       "</pre>\n"
      ],
      "text/plain": [
       "\u001b[1;36m19618\u001b[0m,\u001b[1;36m142.41221945914748\u001b[0m,\u001b[1;36m78.78601399248132\u001b[0m,U\n"
      ]
     },
     "metadata": {},
     "output_type": "display_data"
    },
    {
     "data": {
      "text/html": [
       "<pre style=\"white-space:pre;overflow-x:auto;line-height:normal;font-family:Menlo,'DejaVu Sans Mono',consolas,'Courier New',monospace\"><span style=\"color: #008080; text-decoration-color: #008080; font-weight: bold\">46017</span>,<span style=\"color: #008080; text-decoration-color: #008080; font-weight: bold\">107.88706570515792</span>,<span style=\"color: #008080; text-decoration-color: #008080; font-weight: bold\">-52.42569962172713</span>,U\n",
       "</pre>\n"
      ],
      "text/plain": [
       "\u001b[1;36m46017\u001b[0m,\u001b[1;36m107.88706570515792\u001b[0m,\u001b[1;36m-52.42569962172713\u001b[0m,U\n"
      ]
     },
     "metadata": {},
     "output_type": "display_data"
    },
    {
     "data": {
      "text/html": [
       "<pre style=\"white-space:pre;overflow-x:auto;line-height:normal;font-family:Menlo,'DejaVu Sans Mono',consolas,'Courier New',monospace\"><span style=\"color: #008080; text-decoration-color: #008080; font-weight: bold\">17636</span>,<span style=\"color: #008080; text-decoration-color: #008080; font-weight: bold\">326.79349768999015</span>,<span style=\"color: #008080; text-decoration-color: #008080; font-weight: bold\">4.402505080874192</span>,U\n",
       "</pre>\n"
      ],
      "text/plain": [
       "\u001b[1;36m17636\u001b[0m,\u001b[1;36m326.79349768999015\u001b[0m,\u001b[1;36m4.402505080874192\u001b[0m,U\n"
      ]
     },
     "metadata": {},
     "output_type": "display_data"
    },
    {
     "data": {
      "text/html": [
       "<pre style=\"white-space:pre;overflow-x:auto;line-height:normal;font-family:Menlo,'DejaVu Sans Mono',consolas,'Courier New',monospace\"><span style=\"color: #008080; text-decoration-color: #008080; font-weight: bold\">44368</span>,<span style=\"color: #008080; text-decoration-color: #008080; font-weight: bold\">257.1539036328886</span>,<span style=\"color: #008080; text-decoration-color: #008080; font-weight: bold\">-64.78207102470856</span>,U\n",
       "</pre>\n"
      ],
      "text/plain": [
       "\u001b[1;36m44368\u001b[0m,\u001b[1;36m257.1539036328886\u001b[0m,\u001b[1;36m-64.78207102470856\u001b[0m,U\n"
      ]
     },
     "metadata": {},
     "output_type": "display_data"
    },
    {
     "data": {
      "text/html": [
       "<pre style=\"white-space:pre;overflow-x:auto;line-height:normal;font-family:Menlo,'DejaVu Sans Mono',consolas,'Courier New',monospace\"><span style=\"color: #008080; text-decoration-color: #008080; font-weight: bold\">46035</span>,<span style=\"color: #008080; text-decoration-color: #008080; font-weight: bold\">75.8784906963741</span>,<span style=\"color: #008080; text-decoration-color: #008080; font-weight: bold\">-0.1099296521589934</span>,U\n",
       "</pre>\n"
      ],
      "text/plain": [
       "\u001b[1;36m46035\u001b[0m,\u001b[1;36m75.8784906963741\u001b[0m,\u001b[1;36m-0.1099296521589934\u001b[0m,U\n"
      ]
     },
     "metadata": {},
     "output_type": "display_data"
    },
    {
     "data": {
      "text/html": [
       "<pre style=\"white-space:pre;overflow-x:auto;line-height:normal;font-family:Menlo,'DejaVu Sans Mono',consolas,'Courier New',monospace\"><span style=\"color: #008080; text-decoration-color: #008080; font-weight: bold\">16687</span>,<span style=\"color: #008080; text-decoration-color: #008080; font-weight: bold\">251.0423312535721</span>,<span style=\"color: #008080; text-decoration-color: #008080; font-weight: bold\">25.25009094082448</span>,U\n",
       "</pre>\n"
      ],
      "text/plain": [
       "\u001b[1;36m16687\u001b[0m,\u001b[1;36m251.0423312535721\u001b[0m,\u001b[1;36m25.25009094082448\u001b[0m,U\n"
      ]
     },
     "metadata": {},
     "output_type": "display_data"
    },
    {
     "data": {
      "text/html": [
       "<pre style=\"white-space:pre;overflow-x:auto;line-height:normal;font-family:Menlo,'DejaVu Sans Mono',consolas,'Courier New',monospace\"><span style=\"color: #008080; text-decoration-color: #008080; font-weight: bold\">42978</span>,<span style=\"color: #008080; text-decoration-color: #008080; font-weight: bold\">229.20184098058652</span>,<span style=\"color: #008080; text-decoration-color: #008080; font-weight: bold\">19.0929594470784</span>,U\n",
       "</pre>\n"
      ],
      "text/plain": [
       "\u001b[1;36m42978\u001b[0m,\u001b[1;36m229.20184098058652\u001b[0m,\u001b[1;36m19.0929594470784\u001b[0m,U\n"
      ]
     },
     "metadata": {},
     "output_type": "display_data"
    },
    {
     "data": {
      "text/html": [
       "<pre style=\"white-space:pre;overflow-x:auto;line-height:normal;font-family:Menlo,'DejaVu Sans Mono',consolas,'Courier New',monospace\"><span style=\"color: #008080; text-decoration-color: #008080; font-weight: bold\">15731</span>,<span style=\"color: #008080; text-decoration-color: #008080; font-weight: bold\">207.13425663429436</span>,<span style=\"color: #008080; text-decoration-color: #008080; font-weight: bold\">-30.230824188786983</span>,U\n",
       "</pre>\n"
      ],
      "text/plain": [
       "\u001b[1;36m15731\u001b[0m,\u001b[1;36m207.13425663429436\u001b[0m,\u001b[1;36m-30.230824188786983\u001b[0m,U\n"
      ]
     },
     "metadata": {},
     "output_type": "display_data"
    },
    {
     "data": {
      "text/html": [
       "<pre style=\"white-space:pre;overflow-x:auto;line-height:normal;font-family:Menlo,'DejaVu Sans Mono',consolas,'Courier New',monospace\"><span style=\"color: #008080; text-decoration-color: #008080; font-weight: bold\">46116</span>,<span style=\"color: #008080; text-decoration-color: #008080; font-weight: bold\">122.26851057465709</span>,<span style=\"color: #008080; text-decoration-color: #008080; font-weight: bold\">-3.811990935112653</span>,U\n",
       "</pre>\n"
      ],
      "text/plain": [
       "\u001b[1;36m46116\u001b[0m,\u001b[1;36m122.26851057465709\u001b[0m,\u001b[1;36m-3.811990935112653\u001b[0m,U\n"
      ]
     },
     "metadata": {},
     "output_type": "display_data"
    },
    {
     "data": {
      "text/html": [
       "<pre style=\"white-space:pre;overflow-x:auto;line-height:normal;font-family:Menlo,'DejaVu Sans Mono',consolas,'Courier New',monospace\"><span style=\"color: #008080; text-decoration-color: #008080; font-weight: bold\">26857</span>,<span style=\"color: #008080; text-decoration-color: #008080; font-weight: bold\">220.8102353158627</span>,<span style=\"color: #008080; text-decoration-color: #008080; font-weight: bold\">5.7615860975873465</span>,U\n",
       "</pre>\n"
      ],
      "text/plain": [
       "\u001b[1;36m26857\u001b[0m,\u001b[1;36m220.8102353158627\u001b[0m,\u001b[1;36m5.7615860975873465\u001b[0m,U\n"
      ]
     },
     "metadata": {},
     "output_type": "display_data"
    },
    {
     "data": {
      "text/html": [
       "<pre style=\"white-space:pre;overflow-x:auto;line-height:normal;font-family:Menlo,'DejaVu Sans Mono',consolas,'Courier New',monospace\"><span style=\"color: #008080; text-decoration-color: #008080; font-weight: bold\">41058</span>,<span style=\"color: #008080; text-decoration-color: #008080; font-weight: bold\">3.2977804104810247</span>,<span style=\"color: #008080; text-decoration-color: #008080; font-weight: bold\">79.25103836785874</span>,U\n",
       "</pre>\n"
      ],
      "text/plain": [
       "\u001b[1;36m41058\u001b[0m,\u001b[1;36m3.2977804104810247\u001b[0m,\u001b[1;36m79.25103836785874\u001b[0m,U\n"
      ]
     },
     "metadata": {},
     "output_type": "display_data"
    },
    {
     "data": {
      "text/html": [
       "<pre style=\"white-space:pre;overflow-x:auto;line-height:normal;font-family:Menlo,'DejaVu Sans Mono',consolas,'Courier New',monospace\"><span style=\"color: #008080; text-decoration-color: #008080; font-weight: bold\">3094</span>,<span style=\"color: #008080; text-decoration-color: #008080; font-weight: bold\">41.98816116972972</span>,<span style=\"color: #008080; text-decoration-color: #008080; font-weight: bold\">-7.024628113488131</span>,U\n",
       "</pre>\n"
      ],
      "text/plain": [
       "\u001b[1;36m3094\u001b[0m,\u001b[1;36m41.98816116972972\u001b[0m,\u001b[1;36m-7.024628113488131\u001b[0m,U\n"
      ]
     },
     "metadata": {},
     "output_type": "display_data"
    },
    {
     "data": {
      "text/html": [
       "<pre style=\"white-space:pre;overflow-x:auto;line-height:normal;font-family:Menlo,'DejaVu Sans Mono',consolas,'Courier New',monospace\"><span style=\"color: #008080; text-decoration-color: #008080; font-weight: bold\">46067</span>,<span style=\"color: #008080; text-decoration-color: #008080; font-weight: bold\">119.01069393730684</span>,<span style=\"color: #008080; text-decoration-color: #008080; font-weight: bold\">-5.518730365760544</span>,U\n",
       "</pre>\n"
      ],
      "text/plain": [
       "\u001b[1;36m46067\u001b[0m,\u001b[1;36m119.01069393730684\u001b[0m,\u001b[1;36m-5.518730365760544\u001b[0m,U\n"
      ]
     },
     "metadata": {},
     "output_type": "display_data"
    },
    {
     "data": {
      "text/html": [
       "<pre style=\"white-space:pre;overflow-x:auto;line-height:normal;font-family:Menlo,'DejaVu Sans Mono',consolas,'Courier New',monospace\"><span style=\"color: #008080; text-decoration-color: #008080; font-weight: bold\">17099</span>,<span style=\"color: #008080; text-decoration-color: #008080; font-weight: bold\">248.37317394134803</span>,<span style=\"color: #008080; text-decoration-color: #008080; font-weight: bold\">40.50987258956562</span>,U\n",
       "</pre>\n"
      ],
      "text/plain": [
       "\u001b[1;36m17099\u001b[0m,\u001b[1;36m248.37317394134803\u001b[0m,\u001b[1;36m40.50987258956562\u001b[0m,U\n"
      ]
     },
     "metadata": {},
     "output_type": "display_data"
    },
    {
     "data": {
      "text/html": [
       "<pre style=\"white-space:pre;overflow-x:auto;line-height:normal;font-family:Menlo,'DejaVu Sans Mono',consolas,'Courier New',monospace\"><span style=\"color: #008080; text-decoration-color: #008080; font-weight: bold\">16567</span>,<span style=\"color: #008080; text-decoration-color: #008080; font-weight: bold\">219.7848243169219</span>,<span style=\"color: #008080; text-decoration-color: #008080; font-weight: bold\">32.36838149012063</span>,U\n",
       "</pre>\n"
      ],
      "text/plain": [
       "\u001b[1;36m16567\u001b[0m,\u001b[1;36m219.7848243169219\u001b[0m,\u001b[1;36m32.36838149012063\u001b[0m,U\n"
      ]
     },
     "metadata": {},
     "output_type": "display_data"
    },
    {
     "data": {
      "text/html": [
       "<pre style=\"white-space:pre;overflow-x:auto;line-height:normal;font-family:Menlo,'DejaVu Sans Mono',consolas,'Courier New',monospace\"><span style=\"color: #008080; text-decoration-color: #008080; font-weight: bold\">46601</span>,<span style=\"color: #008080; text-decoration-color: #008080; font-weight: bold\">122.69184278960222</span>,<span style=\"color: #008080; text-decoration-color: #008080; font-weight: bold\">-58.10470939044286</span>,U\n",
       "</pre>\n"
      ],
      "text/plain": [
       "\u001b[1;36m46601\u001b[0m,\u001b[1;36m122.69184278960222\u001b[0m,\u001b[1;36m-58.10470939044286\u001b[0m,U\n"
      ]
     },
     "metadata": {},
     "output_type": "display_data"
    },
    {
     "data": {
      "text/html": [
       "<pre style=\"white-space:pre;overflow-x:auto;line-height:normal;font-family:Menlo,'DejaVu Sans Mono',consolas,'Courier New',monospace\"><span style=\"color: #008080; text-decoration-color: #008080; font-weight: bold\">41039</span>,<span style=\"color: #008080; text-decoration-color: #008080; font-weight: bold\">26.068419893567143</span>,<span style=\"color: #008080; text-decoration-color: #008080; font-weight: bold\">74.2700625372304</span>,U\n",
       "</pre>\n"
      ],
      "text/plain": [
       "\u001b[1;36m41039\u001b[0m,\u001b[1;36m26.068419893567143\u001b[0m,\u001b[1;36m74.2700625372304\u001b[0m,U\n"
      ]
     },
     "metadata": {},
     "output_type": "display_data"
    },
    {
     "data": {
      "text/html": [
       "<pre style=\"white-space:pre;overflow-x:auto;line-height:normal;font-family:Menlo,'DejaVu Sans Mono',consolas,'Courier New',monospace\"><span style=\"color: #008080; text-decoration-color: #008080; font-weight: bold\">17970</span>,<span style=\"color: #008080; text-decoration-color: #008080; font-weight: bold\">342.016867129961</span>,<span style=\"color: #008080; text-decoration-color: #008080; font-weight: bold\">-8.368368479090806</span>,U\n",
       "</pre>\n"
      ],
      "text/plain": [
       "\u001b[1;36m17970\u001b[0m,\u001b[1;36m342.016867129961\u001b[0m,\u001b[1;36m-8.368368479090806\u001b[0m,U\n"
      ]
     },
     "metadata": {},
     "output_type": "display_data"
    },
    {
     "data": {
      "text/html": [
       "<pre style=\"white-space:pre;overflow-x:auto;line-height:normal;font-family:Menlo,'DejaVu Sans Mono',consolas,'Courier New',monospace\"><span style=\"color: #008080; text-decoration-color: #008080; font-weight: bold\">40859</span>,<span style=\"color: #008080; text-decoration-color: #008080; font-weight: bold\">72.44741188831419</span>,<span style=\"color: #008080; text-decoration-color: #008080; font-weight: bold\">-6.194899162497695</span>,U\n",
       "</pre>\n"
      ],
      "text/plain": [
       "\u001b[1;36m40859\u001b[0m,\u001b[1;36m72.44741188831419\u001b[0m,\u001b[1;36m-6.194899162497695\u001b[0m,U\n"
      ]
     },
     "metadata": {},
     "output_type": "display_data"
    },
    {
     "data": {
      "text/html": [
       "<pre style=\"white-space:pre;overflow-x:auto;line-height:normal;font-family:Menlo,'DejaVu Sans Mono',consolas,'Courier New',monospace\"><span style=\"color: #008080; text-decoration-color: #008080; font-weight: bold\">15883</span>,<span style=\"color: #008080; text-decoration-color: #008080; font-weight: bold\">261.35721583672404</span>,<span style=\"color: #008080; text-decoration-color: #008080; font-weight: bold\">60.61571461915589</span>,U\n",
       "</pre>\n"
      ],
      "text/plain": [
       "\u001b[1;36m15883\u001b[0m,\u001b[1;36m261.35721583672404\u001b[0m,\u001b[1;36m60.61571461915589\u001b[0m,U\n"
      ]
     },
     "metadata": {},
     "output_type": "display_data"
    },
    {
     "data": {
      "text/html": [
       "<pre style=\"white-space:pre;overflow-x:auto;line-height:normal;font-family:Menlo,'DejaVu Sans Mono',consolas,'Courier New',monospace\"><span style=\"color: #008080; text-decoration-color: #008080; font-weight: bold\">40627</span>,<span style=\"color: #008080; text-decoration-color: #008080; font-weight: bold\">44.741125359745205</span>,<span style=\"color: #008080; text-decoration-color: #008080; font-weight: bold\">-53.68513006857936</span>,U\n",
       "</pre>\n"
      ],
      "text/plain": [
       "\u001b[1;36m40627\u001b[0m,\u001b[1;36m44.741125359745205\u001b[0m,\u001b[1;36m-53.68513006857936\u001b[0m,U\n"
      ]
     },
     "metadata": {},
     "output_type": "display_data"
    },
    {
     "data": {
      "text/html": [
       "<pre style=\"white-space:pre;overflow-x:auto;line-height:normal;font-family:Menlo,'DejaVu Sans Mono',consolas,'Courier New',monospace\"><span style=\"color: #008080; text-decoration-color: #008080; font-weight: bold\">23231</span>,<span style=\"color: #008080; text-decoration-color: #008080; font-weight: bold\">334.04318892701167</span>,<span style=\"color: #008080; text-decoration-color: #008080; font-weight: bold\">-17.51612706470059</span>,U\n",
       "</pre>\n"
      ],
      "text/plain": [
       "\u001b[1;36m23231\u001b[0m,\u001b[1;36m334.04318892701167\u001b[0m,\u001b[1;36m-17.51612706470059\u001b[0m,U\n"
      ]
     },
     "metadata": {},
     "output_type": "display_data"
    },
    {
     "data": {
      "text/html": [
       "<pre style=\"white-space:pre;overflow-x:auto;line-height:normal;font-family:Menlo,'DejaVu Sans Mono',consolas,'Courier New',monospace\"><span style=\"color: #008080; text-decoration-color: #008080; font-weight: bold\">46832</span>,<span style=\"color: #008080; text-decoration-color: #008080; font-weight: bold\">184.1339593993587</span>,<span style=\"color: #008080; text-decoration-color: #008080; font-weight: bold\">-33.85610713921053</span>,U\n",
       "</pre>\n"
      ],
      "text/plain": [
       "\u001b[1;36m46832\u001b[0m,\u001b[1;36m184.1339593993587\u001b[0m,\u001b[1;36m-33.85610713921053\u001b[0m,U\n"
      ]
     },
     "metadata": {},
     "output_type": "display_data"
    },
    {
     "data": {
      "text/html": [
       "<pre style=\"white-space:pre;overflow-x:auto;line-height:normal;font-family:Menlo,'DejaVu Sans Mono',consolas,'Courier New',monospace\"><span style=\"color: #008080; text-decoration-color: #008080; font-weight: bold\">23427</span>,<span style=\"color: #008080; text-decoration-color: #008080; font-weight: bold\">9.46031979629702</span>,<span style=\"color: #008080; text-decoration-color: #008080; font-weight: bold\">41.79921745418974</span>,U\n",
       "</pre>\n"
      ],
      "text/plain": [
       "\u001b[1;36m23427\u001b[0m,\u001b[1;36m9.46031979629702\u001b[0m,\u001b[1;36m41.79921745418974\u001b[0m,U\n"
      ]
     },
     "metadata": {},
     "output_type": "display_data"
    },
    {
     "data": {
      "text/html": [
       "<pre style=\"white-space:pre;overflow-x:auto;line-height:normal;font-family:Menlo,'DejaVu Sans Mono',consolas,'Courier New',monospace\"><span style=\"color: #008080; text-decoration-color: #008080; font-weight: bold\">40593</span>,<span style=\"color: #008080; text-decoration-color: #008080; font-weight: bold\">35.55692397088904</span>,<span style=\"color: #008080; text-decoration-color: #008080; font-weight: bold\">30.292211673119592</span>,U\n",
       "</pre>\n"
      ],
      "text/plain": [
       "\u001b[1;36m40593\u001b[0m,\u001b[1;36m35.55692397088904\u001b[0m,\u001b[1;36m30.292211673119592\u001b[0m,U\n"
      ]
     },
     "metadata": {},
     "output_type": "display_data"
    },
    {
     "data": {
      "text/html": [
       "<pre style=\"white-space:pre;overflow-x:auto;line-height:normal;font-family:Menlo,'DejaVu Sans Mono',consolas,'Courier New',monospace\"><span style=\"color: #008080; text-decoration-color: #008080; font-weight: bold\">42762</span>,<span style=\"color: #008080; text-decoration-color: #008080; font-weight: bold\">203.94882958156327</span>,<span style=\"color: #008080; text-decoration-color: #008080; font-weight: bold\">18.480946888866693</span>,U\n",
       "</pre>\n"
      ],
      "text/plain": [
       "\u001b[1;36m42762\u001b[0m,\u001b[1;36m203.94882958156327\u001b[0m,\u001b[1;36m18.480946888866693\u001b[0m,U\n"
      ]
     },
     "metadata": {},
     "output_type": "display_data"
    },
    {
     "data": {
      "text/html": [
       "<pre style=\"white-space:pre;overflow-x:auto;line-height:normal;font-family:Menlo,'DejaVu Sans Mono',consolas,'Courier New',monospace\"><span style=\"color: #008080; text-decoration-color: #008080; font-weight: bold\">17410</span>,<span style=\"color: #008080; text-decoration-color: #008080; font-weight: bold\">324.33192901290744</span>,<span style=\"color: #008080; text-decoration-color: #008080; font-weight: bold\">-3.9585333711152906</span>,U\n",
       "</pre>\n"
      ],
      "text/plain": [
       "\u001b[1;36m17410\u001b[0m,\u001b[1;36m324.33192901290744\u001b[0m,\u001b[1;36m-3.9585333711152906\u001b[0m,U\n"
      ]
     },
     "metadata": {},
     "output_type": "display_data"
    },
    {
     "data": {
      "text/html": [
       "<pre style=\"white-space:pre;overflow-x:auto;line-height:normal;font-family:Menlo,'DejaVu Sans Mono',consolas,'Courier New',monospace\"><span style=\"color: #008080; text-decoration-color: #008080; font-weight: bold\">46790</span>,<span style=\"color: #008080; text-decoration-color: #008080; font-weight: bold\">188.8682571046776</span>,<span style=\"color: #008080; text-decoration-color: #008080; font-weight: bold\">-36.870892079133306</span>,U\n",
       "</pre>\n"
      ],
      "text/plain": [
       "\u001b[1;36m46790\u001b[0m,\u001b[1;36m188.8682571046776\u001b[0m,\u001b[1;36m-36.870892079133306\u001b[0m,U\n"
      ]
     },
     "metadata": {},
     "output_type": "display_data"
    },
    {
     "data": {
      "text/html": [
       "<pre style=\"white-space:pre;overflow-x:auto;line-height:normal;font-family:Menlo,'DejaVu Sans Mono',consolas,'Courier New',monospace\"><span style=\"color: #008080; text-decoration-color: #008080; font-weight: bold\">45034</span>,<span style=\"color: #008080; text-decoration-color: #008080; font-weight: bold\">341.5635106683324</span>,<span style=\"color: #008080; text-decoration-color: #008080; font-weight: bold\">-53.864493609571134</span>,U\n",
       "</pre>\n"
      ],
      "text/plain": [
       "\u001b[1;36m45034\u001b[0m,\u001b[1;36m341.5635106683324\u001b[0m,\u001b[1;36m-53.864493609571134\u001b[0m,U\n"
      ]
     },
     "metadata": {},
     "output_type": "display_data"
    },
    {
     "data": {
      "text/html": [
       "<pre style=\"white-space:pre;overflow-x:auto;line-height:normal;font-family:Menlo,'DejaVu Sans Mono',consolas,'Courier New',monospace\"><span style=\"color: #008080; text-decoration-color: #008080; font-weight: bold\">19591</span>,<span style=\"color: #008080; text-decoration-color: #008080; font-weight: bold\">142.2303992872748</span>,<span style=\"color: #008080; text-decoration-color: #008080; font-weight: bold\">78.38571975952641</span>,U\n",
       "</pre>\n"
      ],
      "text/plain": [
       "\u001b[1;36m19591\u001b[0m,\u001b[1;36m142.2303992872748\u001b[0m,\u001b[1;36m78.38571975952641\u001b[0m,U\n"
      ]
     },
     "metadata": {},
     "output_type": "display_data"
    },
    {
     "data": {
      "text/html": [
       "<pre style=\"white-space:pre;overflow-x:auto;line-height:normal;font-family:Menlo,'DejaVu Sans Mono',consolas,'Courier New',monospace\"><span style=\"color: #008080; text-decoration-color: #008080; font-weight: bold\">18117</span>,<span style=\"color: #008080; text-decoration-color: #008080; font-weight: bold\">329.72878442751164</span>,<span style=\"color: #008080; text-decoration-color: #008080; font-weight: bold\">-29.805119552899797</span>,U\n",
       "</pre>\n"
      ],
      "text/plain": [
       "\u001b[1;36m18117\u001b[0m,\u001b[1;36m329.72878442751164\u001b[0m,\u001b[1;36m-29.805119552899797\u001b[0m,U\n"
      ]
     },
     "metadata": {},
     "output_type": "display_data"
    },
    {
     "data": {
      "text/html": [
       "<pre style=\"white-space:pre;overflow-x:auto;line-height:normal;font-family:Menlo,'DejaVu Sans Mono',consolas,'Courier New',monospace\"><span style=\"color: #008080; text-decoration-color: #008080; font-weight: bold\">46569</span>,<span style=\"color: #008080; text-decoration-color: #008080; font-weight: bold\">92.52444651610458</span>,<span style=\"color: #008080; text-decoration-color: #008080; font-weight: bold\">-38.999400401905945</span>,U\n",
       "</pre>\n"
      ],
      "text/plain": [
       "\u001b[1;36m46569\u001b[0m,\u001b[1;36m92.52444651610458\u001b[0m,\u001b[1;36m-38.999400401905945\u001b[0m,U\n"
      ]
     },
     "metadata": {},
     "output_type": "display_data"
    },
    {
     "data": {
      "text/html": [
       "<pre style=\"white-space:pre;overflow-x:auto;line-height:normal;font-family:Menlo,'DejaVu Sans Mono',consolas,'Courier New',monospace\"><span style=\"color: #008080; text-decoration-color: #008080; font-weight: bold\">46779</span>,<span style=\"color: #008080; text-decoration-color: #008080; font-weight: bold\">184.10045590178888</span>,<span style=\"color: #008080; text-decoration-color: #008080; font-weight: bold\">-27.522928829683725</span>,U\n",
       "</pre>\n"
      ],
      "text/plain": [
       "\u001b[1;36m46779\u001b[0m,\u001b[1;36m184.10045590178888\u001b[0m,\u001b[1;36m-27.522928829683725\u001b[0m,U\n"
      ]
     },
     "metadata": {},
     "output_type": "display_data"
    },
    {
     "data": {
      "text/html": [
       "<pre style=\"white-space:pre;overflow-x:auto;line-height:normal;font-family:Menlo,'DejaVu Sans Mono',consolas,'Courier New',monospace\"><span style=\"color: #008080; text-decoration-color: #008080; font-weight: bold\">42173</span>,<span style=\"color: #008080; text-decoration-color: #008080; font-weight: bold\">174.89016885939088</span>,<span style=\"color: #008080; text-decoration-color: #008080; font-weight: bold\">3.937026768486095</span>,U\n",
       "</pre>\n"
      ],
      "text/plain": [
       "\u001b[1;36m42173\u001b[0m,\u001b[1;36m174.89016885939088\u001b[0m,\u001b[1;36m3.937026768486095\u001b[0m,U\n"
      ]
     },
     "metadata": {},
     "output_type": "display_data"
    },
    {
     "data": {
      "text/html": [
       "<pre style=\"white-space:pre;overflow-x:auto;line-height:normal;font-family:Menlo,'DejaVu Sans Mono',consolas,'Courier New',monospace\"><span style=\"color: #008080; text-decoration-color: #008080; font-weight: bold\">36015</span>,<span style=\"color: #008080; text-decoration-color: #008080; font-weight: bold\">187.8659805680069</span>,<span style=\"color: #008080; text-decoration-color: #008080; font-weight: bold\">63.545278684538886</span>,U\n",
       "</pre>\n"
      ],
      "text/plain": [
       "\u001b[1;36m36015\u001b[0m,\u001b[1;36m187.8659805680069\u001b[0m,\u001b[1;36m63.545278684538886\u001b[0m,U\n"
      ]
     },
     "metadata": {},
     "output_type": "display_data"
    },
    {
     "data": {
      "text/html": [
       "<pre style=\"white-space:pre;overflow-x:auto;line-height:normal;font-family:Menlo,'DejaVu Sans Mono',consolas,'Courier New',monospace\"><span style=\"color: #008080; text-decoration-color: #008080; font-weight: bold\">18161</span>,<span style=\"color: #008080; text-decoration-color: #008080; font-weight: bold\">358.1019804436049</span>,<span style=\"color: #008080; text-decoration-color: #008080; font-weight: bold\">-9.554969969392683</span>,U\n",
       "</pre>\n"
      ],
      "text/plain": [
       "\u001b[1;36m18161\u001b[0m,\u001b[1;36m358.1019804436049\u001b[0m,\u001b[1;36m-9.554969969392683\u001b[0m,U\n"
      ]
     },
     "metadata": {},
     "output_type": "display_data"
    },
    {
     "data": {
      "text/html": [
       "<pre style=\"white-space:pre;overflow-x:auto;line-height:normal;font-family:Menlo,'DejaVu Sans Mono',consolas,'Courier New',monospace\"><span style=\"color: #008080; text-decoration-color: #008080; font-weight: bold\">45026</span>,<span style=\"color: #008080; text-decoration-color: #008080; font-weight: bold\">342.803884603413</span>,<span style=\"color: #008080; text-decoration-color: #008080; font-weight: bold\">16.727648605537855</span>,U\n",
       "</pre>\n"
      ],
      "text/plain": [
       "\u001b[1;36m45026\u001b[0m,\u001b[1;36m342.803884603413\u001b[0m,\u001b[1;36m16.727648605537855\u001b[0m,U\n"
      ]
     },
     "metadata": {},
     "output_type": "display_data"
    },
    {
     "data": {
      "text/html": [
       "<pre style=\"white-space:pre;overflow-x:auto;line-height:normal;font-family:Menlo,'DejaVu Sans Mono',consolas,'Courier New',monospace\"><span style=\"color: #008080; text-decoration-color: #008080; font-weight: bold\">45379</span>,<span style=\"color: #008080; text-decoration-color: #008080; font-weight: bold\">55.473726770493776</span>,<span style=\"color: #008080; text-decoration-color: #008080; font-weight: bold\">-6.89824249714316</span>,U\n",
       "</pre>\n"
      ],
      "text/plain": [
       "\u001b[1;36m45379\u001b[0m,\u001b[1;36m55.473726770493776\u001b[0m,\u001b[1;36m-6.89824249714316\u001b[0m,U\n"
      ]
     },
     "metadata": {},
     "output_type": "display_data"
    },
    {
     "data": {
      "text/html": [
       "<pre style=\"white-space:pre;overflow-x:auto;line-height:normal;font-family:Menlo,'DejaVu Sans Mono',consolas,'Courier New',monospace\"><span style=\"color: #008080; text-decoration-color: #008080; font-weight: bold\">16686</span>,<span style=\"color: #008080; text-decoration-color: #008080; font-weight: bold\">273.7171172373275</span>,<span style=\"color: #008080; text-decoration-color: #008080; font-weight: bold\">49.93300634298254</span>,U\n",
       "</pre>\n"
      ],
      "text/plain": [
       "\u001b[1;36m16686\u001b[0m,\u001b[1;36m273.7171172373275\u001b[0m,\u001b[1;36m49.93300634298254\u001b[0m,U\n"
      ]
     },
     "metadata": {},
     "output_type": "display_data"
    },
    {
     "data": {
      "text/html": [
       "<pre style=\"white-space:pre;overflow-x:auto;line-height:normal;font-family:Menlo,'DejaVu Sans Mono',consolas,'Courier New',monospace\"><span style=\"color: #008080; text-decoration-color: #008080; font-weight: bold\">45497</span>,<span style=\"color: #008080; text-decoration-color: #008080; font-weight: bold\">55.648951590088906</span>,<span style=\"color: #008080; text-decoration-color: #008080; font-weight: bold\">-24.707101826930284</span>,U\n",
       "</pre>\n"
      ],
      "text/plain": [
       "\u001b[1;36m45497\u001b[0m,\u001b[1;36m55.648951590088906\u001b[0m,\u001b[1;36m-24.707101826930284\u001b[0m,U\n"
      ]
     },
     "metadata": {},
     "output_type": "display_data"
    },
    {
     "data": {
      "text/html": [
       "<pre style=\"white-space:pre;overflow-x:auto;line-height:normal;font-family:Menlo,'DejaVu Sans Mono',consolas,'Courier New',monospace\"><span style=\"color: #008080; text-decoration-color: #008080; font-weight: bold\">8090</span>,<span style=\"color: #008080; text-decoration-color: #008080; font-weight: bold\">55.47373222221064</span>,<span style=\"color: #008080; text-decoration-color: #008080; font-weight: bold\">-6.898403665124119</span>,U\n",
       "</pre>\n"
      ],
      "text/plain": [
       "\u001b[1;36m8090\u001b[0m,\u001b[1;36m55.47373222221064\u001b[0m,\u001b[1;36m-6.898403665124119\u001b[0m,U\n"
      ]
     },
     "metadata": {},
     "output_type": "display_data"
    },
    {
     "data": {
      "text/html": [
       "<pre style=\"white-space:pre;overflow-x:auto;line-height:normal;font-family:Menlo,'DejaVu Sans Mono',consolas,'Courier New',monospace\"><span style=\"color: #008080; text-decoration-color: #008080; font-weight: bold\">40876</span>,<span style=\"color: #008080; text-decoration-color: #008080; font-weight: bold\">63.20016252817164</span>,<span style=\"color: #008080; text-decoration-color: #008080; font-weight: bold\">20.73449385127012</span>,U\n",
       "</pre>\n"
      ],
      "text/plain": [
       "\u001b[1;36m40876\u001b[0m,\u001b[1;36m63.20016252817164\u001b[0m,\u001b[1;36m20.73449385127012\u001b[0m,U\n"
      ]
     },
     "metadata": {},
     "output_type": "display_data"
    },
    {
     "data": {
      "text/html": [
       "<pre style=\"white-space:pre;overflow-x:auto;line-height:normal;font-family:Menlo,'DejaVu Sans Mono',consolas,'Courier New',monospace\"><span style=\"color: #008080; text-decoration-color: #008080; font-weight: bold\">18241</span>,<span style=\"color: #008080; text-decoration-color: #008080; font-weight: bold\">358.2822352218847</span>,<span style=\"color: #008080; text-decoration-color: #008080; font-weight: bold\">-2.577696606987527</span>,U\n",
       "</pre>\n"
      ],
      "text/plain": [
       "\u001b[1;36m18241\u001b[0m,\u001b[1;36m358.2822352218847\u001b[0m,\u001b[1;36m-2.577696606987527\u001b[0m,U\n"
      ]
     },
     "metadata": {},
     "output_type": "display_data"
    },
    {
     "data": {
      "text/html": [
       "<pre style=\"white-space:pre;overflow-x:auto;line-height:normal;font-family:Menlo,'DejaVu Sans Mono',consolas,'Courier New',monospace\"><span style=\"color: #008080; text-decoration-color: #008080; font-weight: bold\">45588</span>,<span style=\"color: #008080; text-decoration-color: #008080; font-weight: bold\">60.39605954100393</span>,<span style=\"color: #008080; text-decoration-color: #008080; font-weight: bold\">-2.220002445835208</span>,U\n",
       "</pre>\n"
      ],
      "text/plain": [
       "\u001b[1;36m45588\u001b[0m,\u001b[1;36m60.39605954100393\u001b[0m,\u001b[1;36m-2.220002445835208\u001b[0m,U\n"
      ]
     },
     "metadata": {},
     "output_type": "display_data"
    },
    {
     "data": {
      "text/html": [
       "<pre style=\"white-space:pre;overflow-x:auto;line-height:normal;font-family:Menlo,'DejaVu Sans Mono',consolas,'Courier New',monospace\"><span style=\"color: #008080; text-decoration-color: #008080; font-weight: bold\">45724</span>,<span style=\"color: #008080; text-decoration-color: #008080; font-weight: bold\">34.9684857479436</span>,<span style=\"color: #008080; text-decoration-color: #008080; font-weight: bold\">43.518702166988405</span>,U\n",
       "</pre>\n"
      ],
      "text/plain": [
       "\u001b[1;36m45724\u001b[0m,\u001b[1;36m34.9684857479436\u001b[0m,\u001b[1;36m43.518702166988405\u001b[0m,U\n"
      ]
     },
     "metadata": {},
     "output_type": "display_data"
    },
    {
     "data": {
      "text/html": [
       "<pre style=\"white-space:pre;overflow-x:auto;line-height:normal;font-family:Menlo,'DejaVu Sans Mono',consolas,'Courier New',monospace\"><span style=\"color: #008080; text-decoration-color: #008080; font-weight: bold\">40998</span>,<span style=\"color: #008080; text-decoration-color: #008080; font-weight: bold\">74.24990192018093</span>,<span style=\"color: #008080; text-decoration-color: #008080; font-weight: bold\">19.27160330447488</span>,U\n",
       "</pre>\n"
      ],
      "text/plain": [
       "\u001b[1;36m40998\u001b[0m,\u001b[1;36m74.24990192018093\u001b[0m,\u001b[1;36m19.27160330447488\u001b[0m,U\n"
      ]
     },
     "metadata": {},
     "output_type": "display_data"
    },
    {
     "data": {
      "text/html": [
       "<pre style=\"white-space:pre;overflow-x:auto;line-height:normal;font-family:Menlo,'DejaVu Sans Mono',consolas,'Courier New',monospace\"><span style=\"color: #008080; text-decoration-color: #008080; font-weight: bold\">46144</span>,<span style=\"color: #008080; text-decoration-color: #008080; font-weight: bold\">70.23409481807039</span>,<span style=\"color: #008080; text-decoration-color: #008080; font-weight: bold\">-7.82463469935838</span>,U\n",
       "</pre>\n"
      ],
      "text/plain": [
       "\u001b[1;36m46144\u001b[0m,\u001b[1;36m70.23409481807039\u001b[0m,\u001b[1;36m-7.82463469935838\u001b[0m,U\n"
      ]
     },
     "metadata": {},
     "output_type": "display_data"
    },
    {
     "data": {
      "text/html": [
       "<pre style=\"white-space:pre;overflow-x:auto;line-height:normal;font-family:Menlo,'DejaVu Sans Mono',consolas,'Courier New',monospace\"><span style=\"color: #008080; text-decoration-color: #008080; font-weight: bold\">18855</span>,<span style=\"color: #008080; text-decoration-color: #008080; font-weight: bold\">35.21166846905299</span>,<span style=\"color: #008080; text-decoration-color: #008080; font-weight: bold\">-6.258188060990627</span>,U\n",
       "</pre>\n"
      ],
      "text/plain": [
       "\u001b[1;36m18855\u001b[0m,\u001b[1;36m35.21166846905299\u001b[0m,\u001b[1;36m-6.258188060990627\u001b[0m,U\n"
      ]
     },
     "metadata": {},
     "output_type": "display_data"
    },
    {
     "data": {
      "text/html": [
       "<pre style=\"white-space:pre;overflow-x:auto;line-height:normal;font-family:Menlo,'DejaVu Sans Mono',consolas,'Courier New',monospace\"><span style=\"color: #008080; text-decoration-color: #008080; font-weight: bold\">44787</span>,<span style=\"color: #008080; text-decoration-color: #008080; font-weight: bold\">272.9978755693069</span>,<span style=\"color: #008080; text-decoration-color: #008080; font-weight: bold\">70.13280617613069</span>,U\n",
       "</pre>\n"
      ],
      "text/plain": [
       "\u001b[1;36m44787\u001b[0m,\u001b[1;36m272.9978755693069\u001b[0m,\u001b[1;36m70.13280617613069\u001b[0m,U\n"
      ]
     },
     "metadata": {},
     "output_type": "display_data"
    },
    {
     "data": {
      "text/html": [
       "<pre style=\"white-space:pre;overflow-x:auto;line-height:normal;font-family:Menlo,'DejaVu Sans Mono',consolas,'Courier New',monospace\"><span style=\"color: #008080; text-decoration-color: #008080; font-weight: bold\">8590</span>,<span style=\"color: #008080; text-decoration-color: #008080; font-weight: bold\">47.88545225604032</span>,<span style=\"color: #008080; text-decoration-color: #008080; font-weight: bold\">-45.63695679383646</span>,U\n",
       "</pre>\n"
      ],
      "text/plain": [
       "\u001b[1;36m8590\u001b[0m,\u001b[1;36m47.88545225604032\u001b[0m,\u001b[1;36m-45.63695679383646\u001b[0m,U\n"
      ]
     },
     "metadata": {},
     "output_type": "display_data"
    },
    {
     "data": {
      "text/html": [
       "<pre style=\"white-space:pre;overflow-x:auto;line-height:normal;font-family:Menlo,'DejaVu Sans Mono',consolas,'Courier New',monospace\"><span style=\"color: #008080; text-decoration-color: #008080; font-weight: bold\">41090</span>,<span style=\"color: #008080; text-decoration-color: #008080; font-weight: bold\">39.59833869080452</span>,<span style=\"color: #008080; text-decoration-color: #008080; font-weight: bold\">78.21348205516811</span>,U\n",
       "</pre>\n"
      ],
      "text/plain": [
       "\u001b[1;36m41090\u001b[0m,\u001b[1;36m39.59833869080452\u001b[0m,\u001b[1;36m78.21348205516811\u001b[0m,U\n"
      ]
     },
     "metadata": {},
     "output_type": "display_data"
    },
    {
     "data": {
      "text/html": [
       "<pre style=\"white-space:pre;overflow-x:auto;line-height:normal;font-family:Menlo,'DejaVu Sans Mono',consolas,'Courier New',monospace\"><span style=\"color: #008080; text-decoration-color: #008080; font-weight: bold\">44383</span>,<span style=\"color: #008080; text-decoration-color: #008080; font-weight: bold\">337.7607843003837</span>,<span style=\"color: #008080; text-decoration-color: #008080; font-weight: bold\">-33.69798281234656</span>,U\n",
       "</pre>\n"
      ],
      "text/plain": [
       "\u001b[1;36m44383\u001b[0m,\u001b[1;36m337.7607843003837\u001b[0m,\u001b[1;36m-33.69798281234656\u001b[0m,U\n"
      ]
     },
     "metadata": {},
     "output_type": "display_data"
    },
    {
     "data": {
      "text/html": [
       "<pre style=\"white-space:pre;overflow-x:auto;line-height:normal;font-family:Menlo,'DejaVu Sans Mono',consolas,'Courier New',monospace\"><span style=\"color: #008080; text-decoration-color: #008080; font-weight: bold\">26646</span>,<span style=\"color: #008080; text-decoration-color: #008080; font-weight: bold\">209.1316525832348</span>,<span style=\"color: #008080; text-decoration-color: #008080; font-weight: bold\">5.983507388487062</span>,U\n",
       "</pre>\n"
      ],
      "text/plain": [
       "\u001b[1;36m26646\u001b[0m,\u001b[1;36m209.1316525832348\u001b[0m,\u001b[1;36m5.983507388487062\u001b[0m,U\n"
      ]
     },
     "metadata": {},
     "output_type": "display_data"
    },
    {
     "data": {
      "text/html": [
       "<pre style=\"white-space:pre;overflow-x:auto;line-height:normal;font-family:Menlo,'DejaVu Sans Mono',consolas,'Courier New',monospace\"><span style=\"color: #008080; text-decoration-color: #008080; font-weight: bold\">45604</span>,<span style=\"color: #008080; text-decoration-color: #008080; font-weight: bold\">64.28237495815668</span>,<span style=\"color: #008080; text-decoration-color: #008080; font-weight: bold\">40.59874686944941</span>,U\n",
       "</pre>\n"
      ],
      "text/plain": [
       "\u001b[1;36m45604\u001b[0m,\u001b[1;36m64.28237495815668\u001b[0m,\u001b[1;36m40.59874686944941\u001b[0m,U\n"
      ]
     },
     "metadata": {},
     "output_type": "display_data"
    },
    {
     "data": {
      "text/html": [
       "<pre style=\"white-space:pre;overflow-x:auto;line-height:normal;font-family:Menlo,'DejaVu Sans Mono',consolas,'Courier New',monospace\"><span style=\"color: #008080; text-decoration-color: #008080; font-weight: bold\">46601</span>,<span style=\"color: #008080; text-decoration-color: #008080; font-weight: bold\">122.00064332399278</span>,<span style=\"color: #008080; text-decoration-color: #008080; font-weight: bold\">-57.5011371150232</span>,U\n",
       "</pre>\n"
      ],
      "text/plain": [
       "\u001b[1;36m46601\u001b[0m,\u001b[1;36m122.00064332399278\u001b[0m,\u001b[1;36m-57.5011371150232\u001b[0m,U\n"
      ]
     },
     "metadata": {},
     "output_type": "display_data"
    },
    {
     "data": {
      "text/html": [
       "<pre style=\"white-space:pre;overflow-x:auto;line-height:normal;font-family:Menlo,'DejaVu Sans Mono',consolas,'Courier New',monospace\"><span style=\"color: #008080; text-decoration-color: #008080; font-weight: bold\">46616</span>,<span style=\"color: #008080; text-decoration-color: #008080; font-weight: bold\">145.59850214532537</span>,<span style=\"color: #008080; text-decoration-color: #008080; font-weight: bold\">3.172754520095064</span>,U\n",
       "</pre>\n"
      ],
      "text/plain": [
       "\u001b[1;36m46616\u001b[0m,\u001b[1;36m145.59850214532537\u001b[0m,\u001b[1;36m3.172754520095064\u001b[0m,U\n"
      ]
     },
     "metadata": {},
     "output_type": "display_data"
    },
    {
     "data": {
      "text/html": [
       "<pre style=\"white-space:pre;overflow-x:auto;line-height:normal;font-family:Menlo,'DejaVu Sans Mono',consolas,'Courier New',monospace\"><span style=\"color: #008080; text-decoration-color: #008080; font-weight: bold\">19129</span>,<span style=\"color: #008080; text-decoration-color: #008080; font-weight: bold\">36.26846960778053</span>,<span style=\"color: #008080; text-decoration-color: #008080; font-weight: bold\">-5.043551985278754</span>,U\n",
       "</pre>\n"
      ],
      "text/plain": [
       "\u001b[1;36m19129\u001b[0m,\u001b[1;36m36.26846960778053\u001b[0m,\u001b[1;36m-5.043551985278754\u001b[0m,U\n"
      ]
     },
     "metadata": {},
     "output_type": "display_data"
    },
    {
     "data": {
      "text/html": [
       "<pre style=\"white-space:pre;overflow-x:auto;line-height:normal;font-family:Menlo,'DejaVu Sans Mono',consolas,'Courier New',monospace\"><span style=\"color: #008080; text-decoration-color: #008080; font-weight: bold\">45364</span>,<span style=\"color: #008080; text-decoration-color: #008080; font-weight: bold\">34.2210488617799</span>,<span style=\"color: #008080; text-decoration-color: #008080; font-weight: bold\">-36.45009804444614</span>,U\n",
       "</pre>\n"
      ],
      "text/plain": [
       "\u001b[1;36m45364\u001b[0m,\u001b[1;36m34.2210488617799\u001b[0m,\u001b[1;36m-36.45009804444614\u001b[0m,U\n"
      ]
     },
     "metadata": {},
     "output_type": "display_data"
    },
    {
     "data": {
      "text/html": [
       "<pre style=\"white-space:pre;overflow-x:auto;line-height:normal;font-family:Menlo,'DejaVu Sans Mono',consolas,'Courier New',monospace\"><span style=\"color: #008080; text-decoration-color: #008080; font-weight: bold\">6042</span>,<span style=\"color: #008080; text-decoration-color: #008080; font-weight: bold\">234.2221262615749</span>,<span style=\"color: #008080; text-decoration-color: #008080; font-weight: bold\">3.6671153403338463</span>,U\n",
       "</pre>\n"
      ],
      "text/plain": [
       "\u001b[1;36m6042\u001b[0m,\u001b[1;36m234.2221262615749\u001b[0m,\u001b[1;36m3.6671153403338463\u001b[0m,U\n"
      ]
     },
     "metadata": {},
     "output_type": "display_data"
    },
    {
     "data": {
      "text/html": [
       "<pre style=\"white-space:pre;overflow-x:auto;line-height:normal;font-family:Menlo,'DejaVu Sans Mono',consolas,'Courier New',monospace\"><span style=\"color: #008080; text-decoration-color: #008080; font-weight: bold\">35532</span>,<span style=\"color: #008080; text-decoration-color: #008080; font-weight: bold\">54.10049147948312</span>,<span style=\"color: #008080; text-decoration-color: #008080; font-weight: bold\">-27.88717952685164</span>,U\n",
       "</pre>\n"
      ],
      "text/plain": [
       "\u001b[1;36m35532\u001b[0m,\u001b[1;36m54.10049147948312\u001b[0m,\u001b[1;36m-27.88717952685164\u001b[0m,U\n"
      ]
     },
     "metadata": {},
     "output_type": "display_data"
    },
    {
     "data": {
      "text/html": [
       "<pre style=\"white-space:pre;overflow-x:auto;line-height:normal;font-family:Menlo,'DejaVu Sans Mono',consolas,'Courier New',monospace\"><span style=\"color: #008080; text-decoration-color: #008080; font-weight: bold\">26797</span>,<span style=\"color: #008080; text-decoration-color: #008080; font-weight: bold\">187.33654792254563</span>,<span style=\"color: #008080; text-decoration-color: #008080; font-weight: bold\">1.3147939158309312</span>,U\n",
       "</pre>\n"
      ],
      "text/plain": [
       "\u001b[1;36m26797\u001b[0m,\u001b[1;36m187.33654792254563\u001b[0m,\u001b[1;36m1.3147939158309312\u001b[0m,U\n"
      ]
     },
     "metadata": {},
     "output_type": "display_data"
    },
    {
     "data": {
      "text/html": [
       "<pre style=\"white-space:pre;overflow-x:auto;line-height:normal;font-family:Menlo,'DejaVu Sans Mono',consolas,'Courier New',monospace\"><span style=\"color: #008080; text-decoration-color: #008080; font-weight: bold\">28407</span>,<span style=\"color: #008080; text-decoration-color: #008080; font-weight: bold\">353.1950539337096</span>,<span style=\"color: #008080; text-decoration-color: #008080; font-weight: bold\">-0.8432800868868049</span>,U\n",
       "</pre>\n"
      ],
      "text/plain": [
       "\u001b[1;36m28407\u001b[0m,\u001b[1;36m353.1950539337096\u001b[0m,\u001b[1;36m-0.8432800868868049\u001b[0m,U\n"
      ]
     },
     "metadata": {},
     "output_type": "display_data"
    },
    {
     "data": {
      "text/html": [
       "<pre style=\"white-space:pre;overflow-x:auto;line-height:normal;font-family:Menlo,'DejaVu Sans Mono',consolas,'Courier New',monospace\"><span style=\"color: #008080; text-decoration-color: #008080; font-weight: bold\">1586</span>,<span style=\"color: #008080; text-decoration-color: #008080; font-weight: bold\">260.9525728372522</span>,<span style=\"color: #008080; text-decoration-color: #008080; font-weight: bold\">58.94664670564848</span>,U\n",
       "</pre>\n"
      ],
      "text/plain": [
       "\u001b[1;36m1586\u001b[0m,\u001b[1;36m260.9525728372522\u001b[0m,\u001b[1;36m58.94664670564848\u001b[0m,U\n"
      ]
     },
     "metadata": {},
     "output_type": "display_data"
    },
    {
     "data": {
      "text/html": [
       "<pre style=\"white-space:pre;overflow-x:auto;line-height:normal;font-family:Menlo,'DejaVu Sans Mono',consolas,'Courier New',monospace\"><span style=\"color: #008080; text-decoration-color: #008080; font-weight: bold\">40288</span>,<span style=\"color: #008080; text-decoration-color: #008080; font-weight: bold\">31.75594563387512</span>,<span style=\"color: #008080; text-decoration-color: #008080; font-weight: bold\">-5.645029421566688</span>,U\n",
       "</pre>\n"
      ],
      "text/plain": [
       "\u001b[1;36m40288\u001b[0m,\u001b[1;36m31.75594563387512\u001b[0m,\u001b[1;36m-5.645029421566688\u001b[0m,U\n"
      ]
     },
     "metadata": {},
     "output_type": "display_data"
    },
    {
     "data": {
      "text/html": [
       "<pre style=\"white-space:pre;overflow-x:auto;line-height:normal;font-family:Menlo,'DejaVu Sans Mono',consolas,'Courier New',monospace\"><span style=\"color: #008080; text-decoration-color: #008080; font-weight: bold\">40981</span>,<span style=\"color: #008080; text-decoration-color: #008080; font-weight: bold\">66.53952026562474</span>,<span style=\"color: #008080; text-decoration-color: #008080; font-weight: bold\">35.6953944271962</span>,U\n",
       "</pre>\n"
      ],
      "text/plain": [
       "\u001b[1;36m40981\u001b[0m,\u001b[1;36m66.53952026562474\u001b[0m,\u001b[1;36m35.6953944271962\u001b[0m,U\n"
      ]
     },
     "metadata": {},
     "output_type": "display_data"
    },
    {
     "data": {
      "text/html": [
       "<pre style=\"white-space:pre;overflow-x:auto;line-height:normal;font-family:Menlo,'DejaVu Sans Mono',consolas,'Courier New',monospace\"><span style=\"color: #008080; text-decoration-color: #008080; font-weight: bold\">40552</span>,<span style=\"color: #008080; text-decoration-color: #008080; font-weight: bold\">51.98819605081627</span>,<span style=\"color: #008080; text-decoration-color: #008080; font-weight: bold\">-28.286540398693003</span>,U\n",
       "</pre>\n"
      ],
      "text/plain": [
       "\u001b[1;36m40552\u001b[0m,\u001b[1;36m51.98819605081627\u001b[0m,\u001b[1;36m-28.286540398693003\u001b[0m,U\n"
      ]
     },
     "metadata": {},
     "output_type": "display_data"
    },
    {
     "data": {
      "text/html": [
       "<pre style=\"white-space:pre;overflow-x:auto;line-height:normal;font-family:Menlo,'DejaVu Sans Mono',consolas,'Courier New',monospace\"><span style=\"color: #008080; text-decoration-color: #008080; font-weight: bold\">46098</span>,<span style=\"color: #008080; text-decoration-color: #008080; font-weight: bold\">134.4358124883198</span>,<span style=\"color: #008080; text-decoration-color: #008080; font-weight: bold\">-33.69180569863578</span>,U\n",
       "</pre>\n"
      ],
      "text/plain": [
       "\u001b[1;36m46098\u001b[0m,\u001b[1;36m134.4358124883198\u001b[0m,\u001b[1;36m-33.69180569863578\u001b[0m,U\n"
      ]
     },
     "metadata": {},
     "output_type": "display_data"
    },
    {
     "data": {
      "text/html": [
       "<pre style=\"white-space:pre;overflow-x:auto;line-height:normal;font-family:Menlo,'DejaVu Sans Mono',consolas,'Courier New',monospace\"><span style=\"color: #008080; text-decoration-color: #008080; font-weight: bold\">16121</span>,<span style=\"color: #008080; text-decoration-color: #008080; font-weight: bold\">206.9377502002197</span>,<span style=\"color: #008080; text-decoration-color: #008080; font-weight: bold\">-30.287067735416255</span>,U\n",
       "</pre>\n"
      ],
      "text/plain": [
       "\u001b[1;36m16121\u001b[0m,\u001b[1;36m206.9377502002197\u001b[0m,\u001b[1;36m-30.287067735416255\u001b[0m,U\n"
      ]
     },
     "metadata": {},
     "output_type": "display_data"
    },
    {
     "data": {
      "text/html": [
       "<pre style=\"white-space:pre;overflow-x:auto;line-height:normal;font-family:Menlo,'DejaVu Sans Mono',consolas,'Courier New',monospace\"><span style=\"color: #008080; text-decoration-color: #008080; font-weight: bold\">41578</span>,<span style=\"color: #008080; text-decoration-color: #008080; font-weight: bold\">150.43366958017629</span>,<span style=\"color: #008080; text-decoration-color: #008080; font-weight: bold\">1.7397644403411112</span>,U\n",
       "</pre>\n"
      ],
      "text/plain": [
       "\u001b[1;36m41578\u001b[0m,\u001b[1;36m150.43366958017629\u001b[0m,\u001b[1;36m1.7397644403411112\u001b[0m,U\n"
      ]
     },
     "metadata": {},
     "output_type": "display_data"
    },
    {
     "data": {
      "text/html": [
       "<pre style=\"white-space:pre;overflow-x:auto;line-height:normal;font-family:Menlo,'DejaVu Sans Mono',consolas,'Courier New',monospace\"><span style=\"color: #008080; text-decoration-color: #008080; font-weight: bold\">45998</span>,<span style=\"color: #008080; text-decoration-color: #008080; font-weight: bold\">110.02372354649457</span>,<span style=\"color: #008080; text-decoration-color: #008080; font-weight: bold\">-60.310018519744176</span>,U\n",
       "</pre>\n"
      ],
      "text/plain": [
       "\u001b[1;36m45998\u001b[0m,\u001b[1;36m110.02372354649457\u001b[0m,\u001b[1;36m-60.310018519744176\u001b[0m,U\n"
      ]
     },
     "metadata": {},
     "output_type": "display_data"
    },
    {
     "data": {
      "text/html": [
       "<pre style=\"white-space:pre;overflow-x:auto;line-height:normal;font-family:Menlo,'DejaVu Sans Mono',consolas,'Courier New',monospace\"><span style=\"color: #008080; text-decoration-color: #008080; font-weight: bold\">46017</span>,<span style=\"color: #008080; text-decoration-color: #008080; font-weight: bold\">108.2641996202221</span>,<span style=\"color: #008080; text-decoration-color: #008080; font-weight: bold\">-52.540714072233335</span>,U\n",
       "</pre>\n"
      ],
      "text/plain": [
       "\u001b[1;36m46017\u001b[0m,\u001b[1;36m108.2641996202221\u001b[0m,\u001b[1;36m-52.540714072233335\u001b[0m,U\n"
      ]
     },
     "metadata": {},
     "output_type": "display_data"
    },
    {
     "data": {
      "text/html": [
       "<pre style=\"white-space:pre;overflow-x:auto;line-height:normal;font-family:Menlo,'DejaVu Sans Mono',consolas,'Courier New',monospace\"><span style=\"color: #008080; text-decoration-color: #008080; font-weight: bold\">35445</span>,<span style=\"color: #008080; text-decoration-color: #008080; font-weight: bold\">54.3143178511941</span>,<span style=\"color: #008080; text-decoration-color: #008080; font-weight: bold\">-28.54453556230302</span>,U\n",
       "</pre>\n"
      ],
      "text/plain": [
       "\u001b[1;36m35445\u001b[0m,\u001b[1;36m54.3143178511941\u001b[0m,\u001b[1;36m-28.54453556230302\u001b[0m,U\n"
      ]
     },
     "metadata": {},
     "output_type": "display_data"
    },
    {
     "data": {
      "text/html": [
       "<pre style=\"white-space:pre;overflow-x:auto;line-height:normal;font-family:Menlo,'DejaVu Sans Mono',consolas,'Courier New',monospace\"><span style=\"color: #008080; text-decoration-color: #008080; font-weight: bold\">45363</span>,<span style=\"color: #008080; text-decoration-color: #008080; font-weight: bold\">2.803685331773104</span>,<span style=\"color: #008080; text-decoration-color: #008080; font-weight: bold\">6.536241977006386</span>,U\n",
       "</pre>\n"
      ],
      "text/plain": [
       "\u001b[1;36m45363\u001b[0m,\u001b[1;36m2.803685331773104\u001b[0m,\u001b[1;36m6.536241977006386\u001b[0m,U\n"
      ]
     },
     "metadata": {},
     "output_type": "display_data"
    },
    {
     "data": {
      "text/html": [
       "<pre style=\"white-space:pre;overflow-x:auto;line-height:normal;font-family:Menlo,'DejaVu Sans Mono',consolas,'Courier New',monospace\"><span style=\"color: #008080; text-decoration-color: #008080; font-weight: bold\">39981</span>,<span style=\"color: #008080; text-decoration-color: #008080; font-weight: bold\">342.9186944777171</span>,<span style=\"color: #008080; text-decoration-color: #008080; font-weight: bold\">-27.854723981749878</span>,U\n",
       "</pre>\n"
      ],
      "text/plain": [
       "\u001b[1;36m39981\u001b[0m,\u001b[1;36m342.9186944777171\u001b[0m,\u001b[1;36m-27.854723981749878\u001b[0m,U\n"
      ]
     },
     "metadata": {},
     "output_type": "display_data"
    },
    {
     "data": {
      "text/html": [
       "<pre style=\"white-space:pre;overflow-x:auto;line-height:normal;font-family:Menlo,'DejaVu Sans Mono',consolas,'Courier New',monospace\"><span style=\"color: #008080; text-decoration-color: #008080; font-weight: bold\">15755</span>,<span style=\"color: #008080; text-decoration-color: #008080; font-weight: bold\">207.6850078224628</span>,<span style=\"color: #008080; text-decoration-color: #008080; font-weight: bold\">37.6183082713092</span>,U\n",
       "</pre>\n"
      ],
      "text/plain": [
       "\u001b[1;36m15755\u001b[0m,\u001b[1;36m207.6850078224628\u001b[0m,\u001b[1;36m37.6183082713092\u001b[0m,U\n"
      ]
     },
     "metadata": {},
     "output_type": "display_data"
    },
    {
     "data": {
      "text/html": [
       "<pre style=\"white-space:pre;overflow-x:auto;line-height:normal;font-family:Menlo,'DejaVu Sans Mono',consolas,'Courier New',monospace\"><span style=\"color: #008080; text-decoration-color: #008080; font-weight: bold\">33820</span>,<span style=\"color: #008080; text-decoration-color: #008080; font-weight: bold\">11.15538338019514</span>,<span style=\"color: #008080; text-decoration-color: #008080; font-weight: bold\">40.678489020792334</span>,U\n",
       "</pre>\n"
      ],
      "text/plain": [
       "\u001b[1;36m33820\u001b[0m,\u001b[1;36m11.15538338019514\u001b[0m,\u001b[1;36m40.678489020792334\u001b[0m,U\n"
      ]
     },
     "metadata": {},
     "output_type": "display_data"
    },
    {
     "data": {
      "text/html": [
       "<pre style=\"white-space:pre;overflow-x:auto;line-height:normal;font-family:Menlo,'DejaVu Sans Mono',consolas,'Courier New',monospace\"><span style=\"color: #008080; text-decoration-color: #008080; font-weight: bold\">41158</span>,<span style=\"color: #008080; text-decoration-color: #008080; font-weight: bold\">120.9616886347616</span>,<span style=\"color: #008080; text-decoration-color: #008080; font-weight: bold\">80.6420544895092</span>,U\n",
       "</pre>\n"
      ],
      "text/plain": [
       "\u001b[1;36m41158\u001b[0m,\u001b[1;36m120.9616886347616\u001b[0m,\u001b[1;36m80.6420544895092\u001b[0m,U\n"
      ]
     },
     "metadata": {},
     "output_type": "display_data"
    },
    {
     "data": {
      "text/html": [
       "<pre style=\"white-space:pre;overflow-x:auto;line-height:normal;font-family:Menlo,'DejaVu Sans Mono',consolas,'Courier New',monospace\"><span style=\"color: #008080; text-decoration-color: #008080; font-weight: bold\">17228</span>,<span style=\"color: #008080; text-decoration-color: #008080; font-weight: bold\">257.5931847278154</span>,<span style=\"color: #008080; text-decoration-color: #008080; font-weight: bold\">60.356987681859714</span>,U\n",
       "</pre>\n"
      ],
      "text/plain": [
       "\u001b[1;36m17228\u001b[0m,\u001b[1;36m257.5931847278154\u001b[0m,\u001b[1;36m60.356987681859714\u001b[0m,U\n"
      ]
     },
     "metadata": {},
     "output_type": "display_data"
    },
    {
     "data": {
      "text/html": [
       "<pre style=\"white-space:pre;overflow-x:auto;line-height:normal;font-family:Menlo,'DejaVu Sans Mono',consolas,'Courier New',monospace\"><span style=\"color: #008080; text-decoration-color: #008080; font-weight: bold\">40332</span>,<span style=\"color: #008080; text-decoration-color: #008080; font-weight: bold\">50.40903746332349</span>,<span style=\"color: #008080; text-decoration-color: #008080; font-weight: bold\">41.69128487792385</span>,U\n",
       "</pre>\n"
      ],
      "text/plain": [
       "\u001b[1;36m40332\u001b[0m,\u001b[1;36m50.40903746332349\u001b[0m,\u001b[1;36m41.69128487792385\u001b[0m,U\n"
      ]
     },
     "metadata": {},
     "output_type": "display_data"
    },
    {
     "data": {
      "text/html": [
       "<pre style=\"white-space:pre;overflow-x:auto;line-height:normal;font-family:Menlo,'DejaVu Sans Mono',consolas,'Courier New',monospace\"><span style=\"color: #008080; text-decoration-color: #008080; font-weight: bold\">40368</span>,<span style=\"color: #008080; text-decoration-color: #008080; font-weight: bold\">38.81487453466324</span>,<span style=\"color: #008080; text-decoration-color: #008080; font-weight: bold\">-6.224676611626519</span>,U\n",
       "</pre>\n"
      ],
      "text/plain": [
       "\u001b[1;36m40368\u001b[0m,\u001b[1;36m38.81487453466324\u001b[0m,\u001b[1;36m-6.224676611626519\u001b[0m,U\n"
      ]
     },
     "metadata": {},
     "output_type": "display_data"
    },
    {
     "data": {
      "text/html": [
       "<pre style=\"white-space:pre;overflow-x:auto;line-height:normal;font-family:Menlo,'DejaVu Sans Mono',consolas,'Courier New',monospace\"><span style=\"color: #008080; text-decoration-color: #008080; font-weight: bold\">40483</span>,<span style=\"color: #008080; text-decoration-color: #008080; font-weight: bold\">52.53965563343697</span>,<span style=\"color: #008080; text-decoration-color: #008080; font-weight: bold\">-28.008185708170867</span>,E\n",
       "</pre>\n"
      ],
      "text/plain": [
       "\u001b[1;36m40483\u001b[0m,\u001b[1;36m52.53965563343697\u001b[0m,\u001b[1;36m-28.008185708170867\u001b[0m,E\n"
      ]
     },
     "metadata": {},
     "output_type": "display_data"
    },
    {
     "data": {
      "text/html": [
       "<pre style=\"white-space:pre;overflow-x:auto;line-height:normal;font-family:Menlo,'DejaVu Sans Mono',consolas,'Courier New',monospace\"><span style=\"color: #008080; text-decoration-color: #008080; font-weight: bold\">35400</span>,<span style=\"color: #008080; text-decoration-color: #008080; font-weight: bold\">37.32815095790113</span>,<span style=\"color: #008080; text-decoration-color: #008080; font-weight: bold\">-3.980409493223283</span>,E\n",
       "</pre>\n"
      ],
      "text/plain": [
       "\u001b[1;36m35400\u001b[0m,\u001b[1;36m37.32815095790113\u001b[0m,\u001b[1;36m-3.980409493223283\u001b[0m,E\n"
      ]
     },
     "metadata": {},
     "output_type": "display_data"
    },
    {
     "data": {
      "text/html": [
       "<pre style=\"white-space:pre;overflow-x:auto;line-height:normal;font-family:Menlo,'DejaVu Sans Mono',consolas,'Courier New',monospace\"><span style=\"color: #008080; text-decoration-color: #008080; font-weight: bold\">7254</span>,<span style=\"color: #008080; text-decoration-color: #008080; font-weight: bold\">332.09887863150817</span>,<span style=\"color: #008080; text-decoration-color: #008080; font-weight: bold\">-1.2598712218328794</span>,E\n",
       "</pre>\n"
      ],
      "text/plain": [
       "\u001b[1;36m7254\u001b[0m,\u001b[1;36m332.09887863150817\u001b[0m,\u001b[1;36m-1.2598712218328794\u001b[0m,E\n"
      ]
     },
     "metadata": {},
     "output_type": "display_data"
    },
    {
     "data": {
      "text/html": [
       "<pre style=\"white-space:pre;overflow-x:auto;line-height:normal;font-family:Menlo,'DejaVu Sans Mono',consolas,'Courier New',monospace\"><span style=\"color: #008080; text-decoration-color: #008080; font-weight: bold\">35713</span>,<span style=\"color: #008080; text-decoration-color: #008080; font-weight: bold\">118.65936056866605</span>,<span style=\"color: #008080; text-decoration-color: #008080; font-weight: bold\">9.529300190254558</span>,E\n",
       "</pre>\n"
      ],
      "text/plain": [
       "\u001b[1;36m35713\u001b[0m,\u001b[1;36m118.65936056866605\u001b[0m,\u001b[1;36m9.529300190254558\u001b[0m,E\n"
      ]
     },
     "metadata": {},
     "output_type": "display_data"
    },
    {
     "data": {
      "text/html": [
       "<pre style=\"white-space:pre;overflow-x:auto;line-height:normal;font-family:Menlo,'DejaVu Sans Mono',consolas,'Courier New',monospace\"><span style=\"color: #008080; text-decoration-color: #008080; font-weight: bold\">44383</span>,<span style=\"color: #008080; text-decoration-color: #008080; font-weight: bold\">337.7061588858788</span>,<span style=\"color: #008080; text-decoration-color: #008080; font-weight: bold\">-33.327991832721295</span>,E\n",
       "</pre>\n"
      ],
      "text/plain": [
       "\u001b[1;36m44383\u001b[0m,\u001b[1;36m337.7061588858788\u001b[0m,\u001b[1;36m-33.327991832721295\u001b[0m,E\n"
      ]
     },
     "metadata": {},
     "output_type": "display_data"
    },
    {
     "data": {
      "text/html": [
       "<pre style=\"white-space:pre;overflow-x:auto;line-height:normal;font-family:Menlo,'DejaVu Sans Mono',consolas,'Courier New',monospace\"><span style=\"color: #008080; text-decoration-color: #008080; font-weight: bold\">44078</span>,<span style=\"color: #008080; text-decoration-color: #008080; font-weight: bold\">265.35267610762577</span>,<span style=\"color: #008080; text-decoration-color: #008080; font-weight: bold\">39.90439069983045</span>,E\n",
       "</pre>\n"
      ],
      "text/plain": [
       "\u001b[1;36m44078\u001b[0m,\u001b[1;36m265.35267610762577\u001b[0m,\u001b[1;36m39.90439069983045\u001b[0m,E\n"
      ]
     },
     "metadata": {},
     "output_type": "display_data"
    },
    {
     "data": {
      "text/html": [
       "<pre style=\"white-space:pre;overflow-x:auto;line-height:normal;font-family:Menlo,'DejaVu Sans Mono',consolas,'Courier New',monospace\"><span style=\"color: #008080; text-decoration-color: #008080; font-weight: bold\">45040</span>,<span style=\"color: #008080; text-decoration-color: #008080; font-weight: bold\">346.2574585288</span>,<span style=\"color: #008080; text-decoration-color: #008080; font-weight: bold\">17.410069967467233</span>,E\n",
       "</pre>\n"
      ],
      "text/plain": [
       "\u001b[1;36m45040\u001b[0m,\u001b[1;36m346.2574585288\u001b[0m,\u001b[1;36m17.410069967467233\u001b[0m,E\n"
      ]
     },
     "metadata": {},
     "output_type": "display_data"
    },
    {
     "data": {
      "text/html": [
       "<pre style=\"white-space:pre;overflow-x:auto;line-height:normal;font-family:Menlo,'DejaVu Sans Mono',consolas,'Courier New',monospace\"><span style=\"color: #008080; text-decoration-color: #008080; font-weight: bold\">19259</span>,<span style=\"color: #008080; text-decoration-color: #008080; font-weight: bold\">51.20378591092518</span>,<span style=\"color: #008080; text-decoration-color: #008080; font-weight: bold\">-10.970599581247342</span>,E\n",
       "</pre>\n"
      ],
      "text/plain": [
       "\u001b[1;36m19259\u001b[0m,\u001b[1;36m51.20378591092518\u001b[0m,\u001b[1;36m-10.970599581247342\u001b[0m,E\n"
      ]
     },
     "metadata": {},
     "output_type": "display_data"
    },
    {
     "data": {
      "text/html": [
       "<pre style=\"white-space:pre;overflow-x:auto;line-height:normal;font-family:Menlo,'DejaVu Sans Mono',consolas,'Courier New',monospace\"><span style=\"color: #008080; text-decoration-color: #008080; font-weight: bold\">41726</span>,<span style=\"color: #008080; text-decoration-color: #008080; font-weight: bold\">73.50147919746081</span>,<span style=\"color: #008080; text-decoration-color: #008080; font-weight: bold\">62.412222574698696</span>,E\n",
       "</pre>\n"
      ],
      "text/plain": [
       "\u001b[1;36m41726\u001b[0m,\u001b[1;36m73.50147919746081\u001b[0m,\u001b[1;36m62.412222574698696\u001b[0m,E\n"
      ]
     },
     "metadata": {},
     "output_type": "display_data"
    },
    {
     "data": {
      "text/html": [
       "<pre style=\"white-space:pre;overflow-x:auto;line-height:normal;font-family:Menlo,'DejaVu Sans Mono',consolas,'Courier New',monospace\"><span style=\"color: #008080; text-decoration-color: #008080; font-weight: bold\">28592</span>,<span style=\"color: #008080; text-decoration-color: #008080; font-weight: bold\">355.5096132250627</span>,<span style=\"color: #008080; text-decoration-color: #008080; font-weight: bold\">-3.4786551949925384</span>,E\n",
       "</pre>\n"
      ],
      "text/plain": [
       "\u001b[1;36m28592\u001b[0m,\u001b[1;36m355.5096132250627\u001b[0m,\u001b[1;36m-3.4786551949925384\u001b[0m,E\n"
      ]
     },
     "metadata": {},
     "output_type": "display_data"
    },
    {
     "data": {
      "text/html": [
       "<pre style=\"white-space:pre;overflow-x:auto;line-height:normal;font-family:Menlo,'DejaVu Sans Mono',consolas,'Courier New',monospace\"><span style=\"color: #008080; text-decoration-color: #008080; font-weight: bold\">2609</span>,<span style=\"color: #008080; text-decoration-color: #008080; font-weight: bold\">337.70627232756766</span>,<span style=\"color: #008080; text-decoration-color: #008080; font-weight: bold\">-33.32813766499937</span>,E\n",
       "</pre>\n"
      ],
      "text/plain": [
       "\u001b[1;36m2609\u001b[0m,\u001b[1;36m337.70627232756766\u001b[0m,\u001b[1;36m-33.32813766499937\u001b[0m,E\n"
      ]
     },
     "metadata": {},
     "output_type": "display_data"
    },
    {
     "data": {
      "text/html": [
       "<pre style=\"white-space:pre;overflow-x:auto;line-height:normal;font-family:Menlo,'DejaVu Sans Mono',consolas,'Courier New',monospace\"><span style=\"color: #008080; text-decoration-color: #008080; font-weight: bold\">40552</span>,<span style=\"color: #008080; text-decoration-color: #008080; font-weight: bold\">51.33290850652518</span>,<span style=\"color: #008080; text-decoration-color: #008080; font-weight: bold\">-27.626243999432564</span>,E\n",
       "</pre>\n"
      ],
      "text/plain": [
       "\u001b[1;36m40552\u001b[0m,\u001b[1;36m51.33290850652518\u001b[0m,\u001b[1;36m-27.626243999432564\u001b[0m,E\n"
      ]
     },
     "metadata": {},
     "output_type": "display_data"
    },
    {
     "data": {
      "text/html": [
       "<pre style=\"white-space:pre;overflow-x:auto;line-height:normal;font-family:Menlo,'DejaVu Sans Mono',consolas,'Courier New',monospace\"><span style=\"color: #008080; text-decoration-color: #008080; font-weight: bold\">35713</span>,<span style=\"color: #008080; text-decoration-color: #008080; font-weight: bold\">118.68292571519892</span>,<span style=\"color: #008080; text-decoration-color: #008080; font-weight: bold\">10.085043327342628</span>,E\n",
       "</pre>\n"
      ],
      "text/plain": [
       "\u001b[1;36m35713\u001b[0m,\u001b[1;36m118.68292571519892\u001b[0m,\u001b[1;36m10.085043327342628\u001b[0m,E\n"
      ]
     },
     "metadata": {},
     "output_type": "display_data"
    },
    {
     "data": {
      "text/html": [
       "<pre style=\"white-space:pre;overflow-x:auto;line-height:normal;font-family:Menlo,'DejaVu Sans Mono',consolas,'Courier New',monospace\"><span style=\"color: #008080; text-decoration-color: #008080; font-weight: bold\">42907</span>,<span style=\"color: #008080; text-decoration-color: #008080; font-weight: bold\">212.89435337577729</span>,<span style=\"color: #008080; text-decoration-color: #008080; font-weight: bold\">16.57313410399141</span>,F\n",
       "</pre>\n"
      ],
      "text/plain": [
       "\u001b[1;36m42907\u001b[0m,\u001b[1;36m212.89435337577729\u001b[0m,\u001b[1;36m16.57313410399141\u001b[0m,F\n"
      ]
     },
     "metadata": {},
     "output_type": "display_data"
    },
    {
     "data": {
      "text/html": [
       "<pre style=\"white-space:pre;overflow-x:auto;line-height:normal;font-family:Menlo,'DejaVu Sans Mono',consolas,'Courier New',monospace\"><span style=\"color: #008080; text-decoration-color: #008080; font-weight: bold\">16515</span>,<span style=\"color: #008080; text-decoration-color: #008080; font-weight: bold\">193.89791880416453</span>,<span style=\"color: #008080; text-decoration-color: #008080; font-weight: bold\">27.063437489897005</span>,F\n",
       "</pre>\n"
      ],
      "text/plain": [
       "\u001b[1;36m16515\u001b[0m,\u001b[1;36m193.89791880416453\u001b[0m,\u001b[1;36m27.063437489897005\u001b[0m,F\n"
      ]
     },
     "metadata": {},
     "output_type": "display_data"
    },
    {
     "data": {
      "text/html": [
       "<pre style=\"white-space:pre;overflow-x:auto;line-height:normal;font-family:Menlo,'DejaVu Sans Mono',consolas,'Courier New',monospace\"><span style=\"color: #008080; text-decoration-color: #008080; font-weight: bold\">9137</span>,<span style=\"color: #008080; text-decoration-color: #008080; font-weight: bold\">152.9673297859102</span>,<span style=\"color: #008080; text-decoration-color: #008080; font-weight: bold\">61.749664238883405</span>,F\n",
       "</pre>\n"
      ],
      "text/plain": [
       "\u001b[1;36m9137\u001b[0m,\u001b[1;36m152.9673297859102\u001b[0m,\u001b[1;36m61.749664238883405\u001b[0m,F\n"
      ]
     },
     "metadata": {},
     "output_type": "display_data"
    },
    {
     "data": {
      "text/html": [
       "<pre style=\"white-space:pre;overflow-x:auto;line-height:normal;font-family:Menlo,'DejaVu Sans Mono',consolas,'Courier New',monospace\"><span style=\"color: #008080; text-decoration-color: #008080; font-weight: bold\">19966</span>,<span style=\"color: #008080; text-decoration-color: #008080; font-weight: bold\">150.42383238092916</span>,<span style=\"color: #008080; text-decoration-color: #008080; font-weight: bold\">2.132774779272341</span>,F\n",
       "</pre>\n"
      ],
      "text/plain": [
       "\u001b[1;36m19966\u001b[0m,\u001b[1;36m150.42383238092916\u001b[0m,\u001b[1;36m2.132774779272341\u001b[0m,F\n"
      ]
     },
     "metadata": {},
     "output_type": "display_data"
    },
    {
     "data": {
      "text/html": [
       "<pre style=\"white-space:pre;overflow-x:auto;line-height:normal;font-family:Menlo,'DejaVu Sans Mono',consolas,'Courier New',monospace\"><span style=\"color: #008080; text-decoration-color: #008080; font-weight: bold\">46388</span>,<span style=\"color: #008080; text-decoration-color: #008080; font-weight: bold\">83.86276340773657</span>,<span style=\"color: #008080; text-decoration-color: #008080; font-weight: bold\">55.13232759774783</span>,F\n",
       "</pre>\n"
      ],
      "text/plain": [
       "\u001b[1;36m46388\u001b[0m,\u001b[1;36m83.86276340773657\u001b[0m,\u001b[1;36m55.13232759774783\u001b[0m,F\n"
      ]
     },
     "metadata": {},
     "output_type": "display_data"
    },
    {
     "data": {
      "text/html": [
       "<pre style=\"white-space:pre;overflow-x:auto;line-height:normal;font-family:Menlo,'DejaVu Sans Mono',consolas,'Courier New',monospace\"><span style=\"color: #008080; text-decoration-color: #008080; font-weight: bold\">7526</span>,<span style=\"color: #008080; text-decoration-color: #008080; font-weight: bold\">8.979855120365706</span>,<span style=\"color: #008080; text-decoration-color: #008080; font-weight: bold\">-43.95803875673997</span>,F\n",
       "</pre>\n"
      ],
      "text/plain": [
       "\u001b[1;36m7526\u001b[0m,\u001b[1;36m8.979855120365706\u001b[0m,\u001b[1;36m-43.95803875673997\u001b[0m,F\n"
      ]
     },
     "metadata": {},
     "output_type": "display_data"
    },
    {
     "data": {
      "text/html": [
       "<pre style=\"white-space:pre;overflow-x:auto;line-height:normal;font-family:Menlo,'DejaVu Sans Mono',consolas,'Courier New',monospace\"><span style=\"color: #008080; text-decoration-color: #008080; font-weight: bold\">36100</span>,<span style=\"color: #008080; text-decoration-color: #008080; font-weight: bold\">138.27224954241632</span>,<span style=\"color: #008080; text-decoration-color: #008080; font-weight: bold\">14.797930906450349</span>,F\n",
       "</pre>\n"
      ],
      "text/plain": [
       "\u001b[1;36m36100\u001b[0m,\u001b[1;36m138.27224954241632\u001b[0m,\u001b[1;36m14.797930906450349\u001b[0m,F\n"
      ]
     },
     "metadata": {},
     "output_type": "display_data"
    },
    {
     "data": {
      "text/html": [
       "<pre style=\"white-space:pre;overflow-x:auto;line-height:normal;font-family:Menlo,'DejaVu Sans Mono',consolas,'Courier New',monospace\"><span style=\"color: #008080; text-decoration-color: #008080; font-weight: bold\">36037</span>,<span style=\"color: #008080; text-decoration-color: #008080; font-weight: bold\">167.80090179002875</span>,<span style=\"color: #008080; text-decoration-color: #008080; font-weight: bold\">43.852641366371856</span>,F\n",
       "</pre>\n"
      ],
      "text/plain": [
       "\u001b[1;36m36037\u001b[0m,\u001b[1;36m167.80090179002875\u001b[0m,\u001b[1;36m43.852641366371856\u001b[0m,F\n"
      ]
     },
     "metadata": {},
     "output_type": "display_data"
    },
    {
     "data": {
      "text/html": [
       "<pre style=\"white-space:pre;overflow-x:auto;line-height:normal;font-family:Menlo,'DejaVu Sans Mono',consolas,'Courier New',monospace\"><span style=\"color: #008080; text-decoration-color: #008080; font-weight: bold\">35264</span>,<span style=\"color: #008080; text-decoration-color: #008080; font-weight: bold\">37.64350105625081</span>,<span style=\"color: #008080; text-decoration-color: #008080; font-weight: bold\">-4.127762694094182</span>,F\n",
       "</pre>\n"
      ],
      "text/plain": [
       "\u001b[1;36m35264\u001b[0m,\u001b[1;36m37.64350105625081\u001b[0m,\u001b[1;36m-4.127762694094182\u001b[0m,F\n"
      ]
     },
     "metadata": {},
     "output_type": "display_data"
    },
    {
     "data": {
      "text/html": [
       "<pre style=\"white-space:pre;overflow-x:auto;line-height:normal;font-family:Menlo,'DejaVu Sans Mono',consolas,'Courier New',monospace\"><span style=\"color: #008080; text-decoration-color: #008080; font-weight: bold\">40584</span>,<span style=\"color: #008080; text-decoration-color: #008080; font-weight: bold\">52.526048993608256</span>,<span style=\"color: #008080; text-decoration-color: #008080; font-weight: bold\">-29.22104437516404</span>,F\n",
       "</pre>\n"
      ],
      "text/plain": [
       "\u001b[1;36m40584\u001b[0m,\u001b[1;36m52.526048993608256\u001b[0m,\u001b[1;36m-29.22104437516404\u001b[0m,F\n"
      ]
     },
     "metadata": {},
     "output_type": "display_data"
    },
    {
     "data": {
      "text/html": [
       "<pre style=\"white-space:pre;overflow-x:auto;line-height:normal;font-family:Menlo,'DejaVu Sans Mono',consolas,'Courier New',monospace\"><span style=\"color: #008080; text-decoration-color: #008080; font-weight: bold\">44773</span>,<span style=\"color: #008080; text-decoration-color: #008080; font-weight: bold\">327.26668475039554</span>,<span style=\"color: #008080; text-decoration-color: #008080; font-weight: bold\">-9.173517858540857</span>,F\n",
       "</pre>\n"
      ],
      "text/plain": [
       "\u001b[1;36m44773\u001b[0m,\u001b[1;36m327.26668475039554\u001b[0m,\u001b[1;36m-9.173517858540857\u001b[0m,F\n"
      ]
     },
     "metadata": {},
     "output_type": "display_data"
    },
    {
     "data": {
      "text/html": [
       "<pre style=\"white-space:pre;overflow-x:auto;line-height:normal;font-family:Menlo,'DejaVu Sans Mono',consolas,'Courier New',monospace\"><span style=\"color: #008080; text-decoration-color: #008080; font-weight: bold\">45681</span>,<span style=\"color: #008080; text-decoration-color: #008080; font-weight: bold\">131.6524092100145</span>,<span style=\"color: #008080; text-decoration-color: #008080; font-weight: bold\">67.95181273331437</span>,F\n",
       "</pre>\n"
      ],
      "text/plain": [
       "\u001b[1;36m45681\u001b[0m,\u001b[1;36m131.6524092100145\u001b[0m,\u001b[1;36m67.95181273331437\u001b[0m,F\n"
      ]
     },
     "metadata": {},
     "output_type": "display_data"
    },
    {
     "data": {
      "text/html": [
       "<pre style=\"white-space:pre;overflow-x:auto;line-height:normal;font-family:Menlo,'DejaVu Sans Mono',consolas,'Courier New',monospace\"><span style=\"color: #008080; text-decoration-color: #008080; font-weight: bold\">46350</span>,<span style=\"color: #008080; text-decoration-color: #008080; font-weight: bold\">86.95045358878737</span>,<span style=\"color: #008080; text-decoration-color: #008080; font-weight: bold\">41.77905437333716</span>,F\n",
       "</pre>\n"
      ],
      "text/plain": [
       "\u001b[1;36m46350\u001b[0m,\u001b[1;36m86.95045358878737\u001b[0m,\u001b[1;36m41.77905437333716\u001b[0m,F\n"
      ]
     },
     "metadata": {},
     "output_type": "display_data"
    },
    {
     "data": {
      "text/html": [
       "<pre style=\"white-space:pre;overflow-x:auto;line-height:normal;font-family:Menlo,'DejaVu Sans Mono',consolas,'Courier New',monospace\"><span style=\"color: #008080; text-decoration-color: #008080; font-weight: bold\">42821</span>,<span style=\"color: #008080; text-decoration-color: #008080; font-weight: bold\">236.0042749696178</span>,<span style=\"color: #008080; text-decoration-color: #008080; font-weight: bold\">3.845760676267875</span>,F\n",
       "</pre>\n"
      ],
      "text/plain": [
       "\u001b[1;36m42821\u001b[0m,\u001b[1;36m236.0042749696178\u001b[0m,\u001b[1;36m3.845760676267875\u001b[0m,F\n"
      ]
     },
     "metadata": {},
     "output_type": "display_data"
    },
    {
     "data": {
      "text/html": [
       "<pre style=\"white-space:pre;overflow-x:auto;line-height:normal;font-family:Menlo,'DejaVu Sans Mono',consolas,'Courier New',monospace\"><span style=\"color: #008080; text-decoration-color: #008080; font-weight: bold\">43009</span>,<span style=\"color: #008080; text-decoration-color: #008080; font-weight: bold\">210.2066383160101</span>,<span style=\"color: #008080; text-decoration-color: #008080; font-weight: bold\">-11.12765453713151</span>,F\n",
       "</pre>\n"
      ],
      "text/plain": [
       "\u001b[1;36m43009\u001b[0m,\u001b[1;36m210.2066383160101\u001b[0m,\u001b[1;36m-11.12765453713151\u001b[0m,F\n"
      ]
     },
     "metadata": {},
     "output_type": "display_data"
    },
    {
     "data": {
      "text/html": [
       "<pre style=\"white-space:pre;overflow-x:auto;line-height:normal;font-family:Menlo,'DejaVu Sans Mono',consolas,'Courier New',monospace\"><span style=\"color: #008080; text-decoration-color: #008080; font-weight: bold\">18248</span>,<span style=\"color: #008080; text-decoration-color: #008080; font-weight: bold\">4.662492837891057</span>,<span style=\"color: #008080; text-decoration-color: #008080; font-weight: bold\">-10.071282781972736</span>,F\n",
       "</pre>\n"
      ],
      "text/plain": [
       "\u001b[1;36m18248\u001b[0m,\u001b[1;36m4.662492837891057\u001b[0m,\u001b[1;36m-10.071282781972736\u001b[0m,F\n"
      ]
     },
     "metadata": {},
     "output_type": "display_data"
    },
    {
     "data": {
      "text/html": [
       "<pre style=\"white-space:pre;overflow-x:auto;line-height:normal;font-family:Menlo,'DejaVu Sans Mono',consolas,'Courier New',monospace\"><span style=\"color: #008080; text-decoration-color: #008080; font-weight: bold\">35727</span>,<span style=\"color: #008080; text-decoration-color: #008080; font-weight: bold\">124.83728435312274</span>,<span style=\"color: #008080; text-decoration-color: #008080; font-weight: bold\">-0.4365615861440905</span>,F\n",
       "</pre>\n"
      ],
      "text/plain": [
       "\u001b[1;36m35727\u001b[0m,\u001b[1;36m124.83728435312274\u001b[0m,\u001b[1;36m-0.4365615861440905\u001b[0m,F\n"
      ]
     },
     "metadata": {},
     "output_type": "display_data"
    },
    {
     "data": {
      "text/html": [
       "<pre style=\"white-space:pre;overflow-x:auto;line-height:normal;font-family:Menlo,'DejaVu Sans Mono',consolas,'Courier New',monospace\"><span style=\"color: #008080; text-decoration-color: #008080; font-weight: bold\">41374</span>,<span style=\"color: #008080; text-decoration-color: #008080; font-weight: bold\">60.866121515208</span>,<span style=\"color: #008080; text-decoration-color: #008080; font-weight: bold\">-33.7718964018281</span>,F\n",
       "</pre>\n"
      ],
      "text/plain": [
       "\u001b[1;36m41374\u001b[0m,\u001b[1;36m60.866121515208\u001b[0m,\u001b[1;36m-33.7718964018281\u001b[0m,F\n"
      ]
     },
     "metadata": {},
     "output_type": "display_data"
    },
    {
     "data": {
      "text/html": [
       "<pre style=\"white-space:pre;overflow-x:auto;line-height:normal;font-family:Menlo,'DejaVu Sans Mono',consolas,'Courier New',monospace\"><span style=\"color: #008080; text-decoration-color: #008080; font-weight: bold\">46434</span>,<span style=\"color: #008080; text-decoration-color: #008080; font-weight: bold\">83.00466845558283</span>,<span style=\"color: #008080; text-decoration-color: #008080; font-weight: bold\">-26.772964638624927</span>,F\n",
       "</pre>\n"
      ],
      "text/plain": [
       "\u001b[1;36m46434\u001b[0m,\u001b[1;36m83.00466845558283\u001b[0m,\u001b[1;36m-26.772964638624927\u001b[0m,F\n"
      ]
     },
     "metadata": {},
     "output_type": "display_data"
    },
    {
     "data": {
      "text/html": [
       "<pre style=\"white-space:pre;overflow-x:auto;line-height:normal;font-family:Menlo,'DejaVu Sans Mono',consolas,'Courier New',monospace\"><span style=\"color: #008080; text-decoration-color: #008080; font-weight: bold\">36637</span>,<span style=\"color: #008080; text-decoration-color: #008080; font-weight: bold\">170.66926958613084</span>,<span style=\"color: #008080; text-decoration-color: #008080; font-weight: bold\">78.69700603057147</span>,F\n",
       "</pre>\n"
      ],
      "text/plain": [
       "\u001b[1;36m36637\u001b[0m,\u001b[1;36m170.66926958613084\u001b[0m,\u001b[1;36m78.69700603057147\u001b[0m,F\n"
      ]
     },
     "metadata": {},
     "output_type": "display_data"
    },
    {
     "data": {
      "text/html": [
       "<pre style=\"white-space:pre;overflow-x:auto;line-height:normal;font-family:Menlo,'DejaVu Sans Mono',consolas,'Courier New',monospace\"><span style=\"color: #008080; text-decoration-color: #008080; font-weight: bold\">6842</span>,<span style=\"color: #008080; text-decoration-color: #008080; font-weight: bold\">253.51827138490032</span>,<span style=\"color: #008080; text-decoration-color: #008080; font-weight: bold\">61.256213090348766</span>,F\n",
       "</pre>\n"
      ],
      "text/plain": [
       "\u001b[1;36m6842\u001b[0m,\u001b[1;36m253.51827138490032\u001b[0m,\u001b[1;36m61.256213090348766\u001b[0m,F\n"
      ]
     },
     "metadata": {},
     "output_type": "display_data"
    },
    {
     "data": {
      "text/html": [
       "<pre style=\"white-space:pre;overflow-x:auto;line-height:normal;font-family:Menlo,'DejaVu Sans Mono',consolas,'Courier New',monospace\"><span style=\"color: #008080; text-decoration-color: #008080; font-weight: bold\">7620</span>,<span style=\"color: #008080; text-decoration-color: #008080; font-weight: bold\">7.004714115116499</span>,<span style=\"color: #008080; text-decoration-color: #008080; font-weight: bold\">-42.63671382727142</span>,F\n",
       "</pre>\n"
      ],
      "text/plain": [
       "\u001b[1;36m7620\u001b[0m,\u001b[1;36m7.004714115116499\u001b[0m,\u001b[1;36m-42.63671382727142\u001b[0m,F\n"
      ]
     },
     "metadata": {},
     "output_type": "display_data"
    },
    {
     "data": {
      "text/html": [
       "<pre style=\"white-space:pre;overflow-x:auto;line-height:normal;font-family:Menlo,'DejaVu Sans Mono',consolas,'Courier New',monospace\"><span style=\"color: #008080; text-decoration-color: #008080; font-weight: bold\">41665</span>,<span style=\"color: #008080; text-decoration-color: #008080; font-weight: bold\">124.935005809486</span>,<span style=\"color: #008080; text-decoration-color: #008080; font-weight: bold\">-2.573301402462038</span>,F\n",
       "</pre>\n"
      ],
      "text/plain": [
       "\u001b[1;36m41665\u001b[0m,\u001b[1;36m124.935005809486\u001b[0m,\u001b[1;36m-2.573301402462038\u001b[0m,F\n"
      ]
     },
     "metadata": {},
     "output_type": "display_data"
    },
    {
     "data": {
      "text/html": [
       "<pre style=\"white-space:pre;overflow-x:auto;line-height:normal;font-family:Menlo,'DejaVu Sans Mono',consolas,'Courier New',monospace\"><span style=\"color: #008080; text-decoration-color: #008080; font-weight: bold\">41507</span>,<span style=\"color: #008080; text-decoration-color: #008080; font-weight: bold\">130.92023720401522</span>,<span style=\"color: #008080; text-decoration-color: #008080; font-weight: bold\">36.11107097929309</span>,F\n",
       "</pre>\n"
      ],
      "text/plain": [
       "\u001b[1;36m41507\u001b[0m,\u001b[1;36m130.92023720401522\u001b[0m,\u001b[1;36m36.11107097929309\u001b[0m,F\n"
      ]
     },
     "metadata": {},
     "output_type": "display_data"
    },
    {
     "data": {
      "text/html": [
       "<pre style=\"white-space:pre;overflow-x:auto;line-height:normal;font-family:Menlo,'DejaVu Sans Mono',consolas,'Courier New',monospace\"><span style=\"color: #008080; text-decoration-color: #008080; font-weight: bold\">7286</span>,<span style=\"color: #008080; text-decoration-color: #008080; font-weight: bold\">347.9911689558538</span>,<span style=\"color: #008080; text-decoration-color: #008080; font-weight: bold\">13.226288593915474</span>,F\n",
       "</pre>\n"
      ],
      "text/plain": [
       "\u001b[1;36m7286\u001b[0m,\u001b[1;36m347.9911689558538\u001b[0m,\u001b[1;36m13.226288593915474\u001b[0m,F\n"
      ]
     },
     "metadata": {},
     "output_type": "display_data"
    },
    {
     "data": {
      "text/html": [
       "<pre style=\"white-space:pre;overflow-x:auto;line-height:normal;font-family:Menlo,'DejaVu Sans Mono',consolas,'Courier New',monospace\"><span style=\"color: #008080; text-decoration-color: #008080; font-weight: bold\">40323</span>,<span style=\"color: #008080; text-decoration-color: #008080; font-weight: bold\">37.44149838363891</span>,<span style=\"color: #008080; text-decoration-color: #008080; font-weight: bold\">-8.088333776764113</span>,F\n",
       "</pre>\n"
      ],
      "text/plain": [
       "\u001b[1;36m40323\u001b[0m,\u001b[1;36m37.44149838363891\u001b[0m,\u001b[1;36m-8.088333776764113\u001b[0m,F\n"
      ]
     },
     "metadata": {},
     "output_type": "display_data"
    },
    {
     "data": {
      "text/html": [
       "<pre style=\"white-space:pre;overflow-x:auto;line-height:normal;font-family:Menlo,'DejaVu Sans Mono',consolas,'Courier New',monospace\"><span style=\"color: #008080; text-decoration-color: #008080; font-weight: bold\">26852</span>,<span style=\"color: #008080; text-decoration-color: #008080; font-weight: bold\">179.40641379407097</span>,<span style=\"color: #008080; text-decoration-color: #008080; font-weight: bold\">64.15828745055039</span>,F\n",
       "</pre>\n"
      ],
      "text/plain": [
       "\u001b[1;36m26852\u001b[0m,\u001b[1;36m179.40641379407097\u001b[0m,\u001b[1;36m64.15828745055039\u001b[0m,F\n"
      ]
     },
     "metadata": {},
     "output_type": "display_data"
    },
    {
     "data": {
      "text/html": [
       "<pre style=\"white-space:pre;overflow-x:auto;line-height:normal;font-family:Menlo,'DejaVu Sans Mono',consolas,'Courier New',monospace\"><span style=\"color: #008080; text-decoration-color: #008080; font-weight: bold\">35086</span>,<span style=\"color: #008080; text-decoration-color: #008080; font-weight: bold\">38.90049084037651</span>,<span style=\"color: #008080; text-decoration-color: #008080; font-weight: bold\">-4.715946451350315</span>,F\n",
       "</pre>\n"
      ],
      "text/plain": [
       "\u001b[1;36m35086\u001b[0m,\u001b[1;36m38.90049084037651\u001b[0m,\u001b[1;36m-4.715946451350315\u001b[0m,F\n"
      ]
     },
     "metadata": {},
     "output_type": "display_data"
    },
    {
     "data": {
      "text/html": [
       "<pre style=\"white-space:pre;overflow-x:auto;line-height:normal;font-family:Menlo,'DejaVu Sans Mono',consolas,'Courier New',monospace\"><span style=\"color: #008080; text-decoration-color: #008080; font-weight: bold\">46560</span>,<span style=\"color: #008080; text-decoration-color: #008080; font-weight: bold\">115.55779069487612</span>,<span style=\"color: #008080; text-decoration-color: #008080; font-weight: bold\">40.030106052741154</span>,F\n",
       "</pre>\n"
      ],
      "text/plain": [
       "\u001b[1;36m46560\u001b[0m,\u001b[1;36m115.55779069487612\u001b[0m,\u001b[1;36m40.030106052741154\u001b[0m,F\n"
      ]
     },
     "metadata": {},
     "output_type": "display_data"
    },
    {
     "data": {
      "text/html": [
       "<pre style=\"white-space:pre;overflow-x:auto;line-height:normal;font-family:Menlo,'DejaVu Sans Mono',consolas,'Courier New',monospace\"><span style=\"color: #008080; text-decoration-color: #008080; font-weight: bold\">41105</span>,<span style=\"color: #008080; text-decoration-color: #008080; font-weight: bold\">62.75387208151729</span>,<span style=\"color: #008080; text-decoration-color: #008080; font-weight: bold\">73.03938952778608</span>,F\n",
       "</pre>\n"
      ],
      "text/plain": [
       "\u001b[1;36m41105\u001b[0m,\u001b[1;36m62.75387208151729\u001b[0m,\u001b[1;36m73.03938952778608\u001b[0m,F\n"
      ]
     },
     "metadata": {},
     "output_type": "display_data"
    },
    {
     "data": {
      "text/html": [
       "<pre style=\"white-space:pre;overflow-x:auto;line-height:normal;font-family:Menlo,'DejaVu Sans Mono',consolas,'Courier New',monospace\"><span style=\"color: #008080; text-decoration-color: #008080; font-weight: bold\">4310</span>,<span style=\"color: #008080; text-decoration-color: #008080; font-weight: bold\">150.45245202591548</span>,<span style=\"color: #008080; text-decoration-color: #008080; font-weight: bold\">2.9798750509966005</span>,F\n",
       "</pre>\n"
      ],
      "text/plain": [
       "\u001b[1;36m4310\u001b[0m,\u001b[1;36m150.45245202591548\u001b[0m,\u001b[1;36m2.9798750509966005\u001b[0m,F\n"
      ]
     },
     "metadata": {},
     "output_type": "display_data"
    },
    {
     "data": {
      "text/html": [
       "<pre style=\"white-space:pre;overflow-x:auto;line-height:normal;font-family:Menlo,'DejaVu Sans Mono',consolas,'Courier New',monospace\"><span style=\"color: #008080; text-decoration-color: #008080; font-weight: bold\">44839</span>,<span style=\"color: #008080; text-decoration-color: #008080; font-weight: bold\">324.4700521094181</span>,<span style=\"color: #008080; text-decoration-color: #008080; font-weight: bold\">33.78439810666617</span>,F\n",
       "</pre>\n"
      ],
      "text/plain": [
       "\u001b[1;36m44839\u001b[0m,\u001b[1;36m324.4700521094181\u001b[0m,\u001b[1;36m33.78439810666617\u001b[0m,F\n"
      ]
     },
     "metadata": {},
     "output_type": "display_data"
    },
    {
     "data": {
      "text/html": [
       "<pre style=\"white-space:pre;overflow-x:auto;line-height:normal;font-family:Menlo,'DejaVu Sans Mono',consolas,'Courier New',monospace\"><span style=\"color: #008080; text-decoration-color: #008080; font-weight: bold\">1759</span>,<span style=\"color: #008080; text-decoration-color: #008080; font-weight: bold\">339.17733791773946</span>,<span style=\"color: #008080; text-decoration-color: #008080; font-weight: bold\">14.1877926997239</span>,F\n",
       "</pre>\n"
      ],
      "text/plain": [
       "\u001b[1;36m1759\u001b[0m,\u001b[1;36m339.17733791773946\u001b[0m,\u001b[1;36m14.1877926997239\u001b[0m,F\n"
      ]
     },
     "metadata": {},
     "output_type": "display_data"
    },
    {
     "data": {
      "text/html": [
       "<pre style=\"white-space:pre;overflow-x:auto;line-height:normal;font-family:Menlo,'DejaVu Sans Mono',consolas,'Courier New',monospace\"><span style=\"color: #008080; text-decoration-color: #008080; font-weight: bold\">6165</span>,<span style=\"color: #008080; text-decoration-color: #008080; font-weight: bold\">224.6889960383732</span>,<span style=\"color: #008080; text-decoration-color: #008080; font-weight: bold\">60.44118804770362</span>,F\n",
       "</pre>\n"
      ],
      "text/plain": [
       "\u001b[1;36m6165\u001b[0m,\u001b[1;36m224.6889960383732\u001b[0m,\u001b[1;36m60.44118804770362\u001b[0m,F\n"
      ]
     },
     "metadata": {},
     "output_type": "display_data"
    },
    {
     "data": {
      "text/html": [
       "<pre style=\"white-space:pre;overflow-x:auto;line-height:normal;font-family:Menlo,'DejaVu Sans Mono',consolas,'Courier New',monospace\"><span style=\"color: #008080; text-decoration-color: #008080; font-weight: bold\">26660</span>,<span style=\"color: #008080; text-decoration-color: #008080; font-weight: bold\">213.68163496387132</span>,<span style=\"color: #008080; text-decoration-color: #008080; font-weight: bold\">-0.4962340811609309</span>,F\n",
       "</pre>\n"
      ],
      "text/plain": [
       "\u001b[1;36m26660\u001b[0m,\u001b[1;36m213.68163496387132\u001b[0m,\u001b[1;36m-0.4962340811609309\u001b[0m,F\n"
      ]
     },
     "metadata": {},
     "output_type": "display_data"
    },
    {
     "data": {
      "text/html": [
       "<pre style=\"white-space:pre;overflow-x:auto;line-height:normal;font-family:Menlo,'DejaVu Sans Mono',consolas,'Courier New',monospace\"><span style=\"color: #008080; text-decoration-color: #008080; font-weight: bold\">35730</span>,<span style=\"color: #008080; text-decoration-color: #008080; font-weight: bold\">114.51257889463</span>,<span style=\"color: #008080; text-decoration-color: #008080; font-weight: bold\">46.895265134313</span>,F\n",
       "</pre>\n"
      ],
      "text/plain": [
       "\u001b[1;36m35730\u001b[0m,\u001b[1;36m114.51257889463\u001b[0m,\u001b[1;36m46.895265134313\u001b[0m,F\n"
      ]
     },
     "metadata": {},
     "output_type": "display_data"
    },
    {
     "data": {
      "text/html": [
       "<pre style=\"white-space:pre;overflow-x:auto;line-height:normal;font-family:Menlo,'DejaVu Sans Mono',consolas,'Courier New',monospace\"><span style=\"color: #008080; text-decoration-color: #008080; font-weight: bold\">36559</span>,<span style=\"color: #008080; text-decoration-color: #008080; font-weight: bold\">142.5820943331394</span>,<span style=\"color: #008080; text-decoration-color: #008080; font-weight: bold\">12.398793501791904</span>,F\n",
       "</pre>\n"
      ],
      "text/plain": [
       "\u001b[1;36m36559\u001b[0m,\u001b[1;36m142.5820943331394\u001b[0m,\u001b[1;36m12.398793501791904\u001b[0m,F\n"
      ]
     },
     "metadata": {},
     "output_type": "display_data"
    },
    {
     "data": {
      "text/html": [
       "<pre style=\"white-space:pre;overflow-x:auto;line-height:normal;font-family:Menlo,'DejaVu Sans Mono',consolas,'Courier New',monospace\"><span style=\"color: #008080; text-decoration-color: #008080; font-weight: bold\">16123</span>,<span style=\"color: #008080; text-decoration-color: #008080; font-weight: bold\">214.23222329784824</span>,<span style=\"color: #008080; text-decoration-color: #008080; font-weight: bold\">24.868001079037867</span>,F\n",
       "</pre>\n"
      ],
      "text/plain": [
       "\u001b[1;36m16123\u001b[0m,\u001b[1;36m214.23222329784824\u001b[0m,\u001b[1;36m24.868001079037867\u001b[0m,F\n"
      ]
     },
     "metadata": {},
     "output_type": "display_data"
    },
    {
     "data": {
      "text/html": [
       "<pre style=\"white-space:pre;overflow-x:auto;line-height:normal;font-family:Menlo,'DejaVu Sans Mono',consolas,'Courier New',monospace\"><span style=\"color: #008080; text-decoration-color: #008080; font-weight: bold\">9969</span>,<span style=\"color: #008080; text-decoration-color: #008080; font-weight: bold\">214.9441154392343</span>,<span style=\"color: #008080; text-decoration-color: #008080; font-weight: bold\">52.99486876528304</span>,F\n",
       "</pre>\n"
      ],
      "text/plain": [
       "\u001b[1;36m9969\u001b[0m,\u001b[1;36m214.9441154392343\u001b[0m,\u001b[1;36m52.99486876528304\u001b[0m,F\n"
      ]
     },
     "metadata": {},
     "output_type": "display_data"
    },
    {
     "data": {
      "text/html": [
       "<pre style=\"white-space:pre;overflow-x:auto;line-height:normal;font-family:Menlo,'DejaVu Sans Mono',consolas,'Courier New',monospace\"><span style=\"color: #008080; text-decoration-color: #008080; font-weight: bold\">35357</span>,<span style=\"color: #008080; text-decoration-color: #008080; font-weight: bold\">51.75924820221176</span>,<span style=\"color: #008080; text-decoration-color: #008080; font-weight: bold\">-27.29103562288016</span>,F\n",
       "</pre>\n"
      ],
      "text/plain": [
       "\u001b[1;36m35357\u001b[0m,\u001b[1;36m51.75924820221176\u001b[0m,\u001b[1;36m-27.29103562288016\u001b[0m,F\n"
      ]
     },
     "metadata": {},
     "output_type": "display_data"
    },
    {
     "data": {
      "text/html": [
       "<pre style=\"white-space:pre;overflow-x:auto;line-height:normal;font-family:Menlo,'DejaVu Sans Mono',consolas,'Courier New',monospace\"><span style=\"color: #008080; text-decoration-color: #008080; font-weight: bold\">44707</span>,<span style=\"color: #008080; text-decoration-color: #008080; font-weight: bold\">273.03133579691405</span>,<span style=\"color: #008080; text-decoration-color: #008080; font-weight: bold\">62.51759490078743</span>,F\n",
       "</pre>\n"
      ],
      "text/plain": [
       "\u001b[1;36m44707\u001b[0m,\u001b[1;36m273.03133579691405\u001b[0m,\u001b[1;36m62.51759490078743\u001b[0m,F\n"
      ]
     },
     "metadata": {},
     "output_type": "display_data"
    },
    {
     "data": {
      "text/html": [
       "<pre style=\"white-space:pre;overflow-x:auto;line-height:normal;font-family:Menlo,'DejaVu Sans Mono',consolas,'Courier New',monospace\"><span style=\"color: #008080; text-decoration-color: #008080; font-weight: bold\">4042</span>,<span style=\"color: #008080; text-decoration-color: #008080; font-weight: bold\">199.68291291961955</span>,<span style=\"color: #008080; text-decoration-color: #008080; font-weight: bold\">66.32017757318806</span>,F\n",
       "</pre>\n"
      ],
      "text/plain": [
       "\u001b[1;36m4042\u001b[0m,\u001b[1;36m199.68291291961955\u001b[0m,\u001b[1;36m66.32017757318806\u001b[0m,F\n"
      ]
     },
     "metadata": {},
     "output_type": "display_data"
    },
    {
     "data": {
      "text/html": [
       "<pre style=\"white-space:pre;overflow-x:auto;line-height:normal;font-family:Menlo,'DejaVu Sans Mono',consolas,'Courier New',monospace\"><span style=\"color: #008080; text-decoration-color: #008080; font-weight: bold\">16652</span>,<span style=\"color: #008080; text-decoration-color: #008080; font-weight: bold\">259.5853057709967</span>,<span style=\"color: #008080; text-decoration-color: #008080; font-weight: bold\">58.64763655562943</span>,F\n",
       "</pre>\n"
      ],
      "text/plain": [
       "\u001b[1;36m16652\u001b[0m,\u001b[1;36m259.5853057709967\u001b[0m,\u001b[1;36m58.64763655562943\u001b[0m,F\n"
      ]
     },
     "metadata": {},
     "output_type": "display_data"
    },
    {
     "data": {
      "text/html": [
       "<pre style=\"white-space:pre;overflow-x:auto;line-height:normal;font-family:Menlo,'DejaVu Sans Mono',consolas,'Courier New',monospace\"><span style=\"color: #008080; text-decoration-color: #008080; font-weight: bold\">28469</span>,<span style=\"color: #008080; text-decoration-color: #008080; font-weight: bold\">355.8301323370718</span>,<span style=\"color: #008080; text-decoration-color: #008080; font-weight: bold\">-11.727315026258674</span>,F\n",
       "</pre>\n"
      ],
      "text/plain": [
       "\u001b[1;36m28469\u001b[0m,\u001b[1;36m355.8301323370718\u001b[0m,\u001b[1;36m-11.727315026258674\u001b[0m,F\n"
      ]
     },
     "metadata": {},
     "output_type": "display_data"
    },
    {
     "data": {
      "text/html": [
       "<pre style=\"white-space:pre;overflow-x:auto;line-height:normal;font-family:Menlo,'DejaVu Sans Mono',consolas,'Courier New',monospace\"><span style=\"color: #008080; text-decoration-color: #008080; font-weight: bold\">15375</span>,<span style=\"color: #008080; text-decoration-color: #008080; font-weight: bold\">149.2178763748623</span>,<span style=\"color: #008080; text-decoration-color: #008080; font-weight: bold\">-9.739726496426096</span>,F\n",
       "</pre>\n"
      ],
      "text/plain": [
       "\u001b[1;36m15375\u001b[0m,\u001b[1;36m149.2178763748623\u001b[0m,\u001b[1;36m-9.739726496426096\u001b[0m,F\n"
      ]
     },
     "metadata": {},
     "output_type": "display_data"
    },
    {
     "data": {
      "text/html": [
       "<pre style=\"white-space:pre;overflow-x:auto;line-height:normal;font-family:Menlo,'DejaVu Sans Mono',consolas,'Courier New',monospace\"><span style=\"color: #008080; text-decoration-color: #008080; font-weight: bold\">45079</span>,<span style=\"color: #008080; text-decoration-color: #008080; font-weight: bold\">328.5676226846133</span>,<span style=\"color: #008080; text-decoration-color: #008080; font-weight: bold\">-12.060070432195788</span>,F\n",
       "</pre>\n"
      ],
      "text/plain": [
       "\u001b[1;36m45079\u001b[0m,\u001b[1;36m328.5676226846133\u001b[0m,\u001b[1;36m-12.060070432195788\u001b[0m,F\n"
      ]
     },
     "metadata": {},
     "output_type": "display_data"
    },
    {
     "data": {
      "text/html": [
       "<pre style=\"white-space:pre;overflow-x:auto;line-height:normal;font-family:Menlo,'DejaVu Sans Mono',consolas,'Courier New',monospace\"><span style=\"color: #008080; text-decoration-color: #008080; font-weight: bold\">7835</span>,<span style=\"color: #008080; text-decoration-color: #008080; font-weight: bold\">342.1672917850632</span>,<span style=\"color: #008080; text-decoration-color: #008080; font-weight: bold\">-6.712814771842088</span>,F\n",
       "</pre>\n"
      ],
      "text/plain": [
       "\u001b[1;36m7835\u001b[0m,\u001b[1;36m342.1672917850632\u001b[0m,\u001b[1;36m-6.712814771842088\u001b[0m,F\n"
      ]
     },
     "metadata": {},
     "output_type": "display_data"
    },
    {
     "data": {
      "text/html": [
       "<pre style=\"white-space:pre;overflow-x:auto;line-height:normal;font-family:Menlo,'DejaVu Sans Mono',consolas,'Courier New',monospace\"><span style=\"color: #008080; text-decoration-color: #008080; font-weight: bold\">40877</span>,<span style=\"color: #008080; text-decoration-color: #008080; font-weight: bold\">124.535969236158</span>,<span style=\"color: #008080; text-decoration-color: #008080; font-weight: bold\">-1.3789814550579922</span>,F\n",
       "</pre>\n"
      ],
      "text/plain": [
       "\u001b[1;36m40877\u001b[0m,\u001b[1;36m124.535969236158\u001b[0m,\u001b[1;36m-1.3789814550579922\u001b[0m,F\n"
      ]
     },
     "metadata": {},
     "output_type": "display_data"
    },
    {
     "data": {
      "text/html": [
       "<pre style=\"white-space:pre;overflow-x:auto;line-height:normal;font-family:Menlo,'DejaVu Sans Mono',consolas,'Courier New',monospace\"><span style=\"color: #008080; text-decoration-color: #008080; font-weight: bold\">2173</span>,<span style=\"color: #008080; text-decoration-color: #008080; font-weight: bold\">343.35269668783934</span>,<span style=\"color: #008080; text-decoration-color: #008080; font-weight: bold\">-39.79322560494054</span>,F\n",
       "</pre>\n"
      ],
      "text/plain": [
       "\u001b[1;36m2173\u001b[0m,\u001b[1;36m343.35269668783934\u001b[0m,\u001b[1;36m-39.79322560494054\u001b[0m,F\n"
      ]
     },
     "metadata": {},
     "output_type": "display_data"
    },
    {
     "data": {
      "text/html": [
       "<pre style=\"white-space:pre;overflow-x:auto;line-height:normal;font-family:Menlo,'DejaVu Sans Mono',consolas,'Courier New',monospace\"><span style=\"color: #008080; text-decoration-color: #008080; font-weight: bold\">46089</span>,<span style=\"color: #008080; text-decoration-color: #008080; font-weight: bold\">83.76764675327033</span>,<span style=\"color: #008080; text-decoration-color: #008080; font-weight: bold\">-35.75851638715586</span>,F\n",
       "</pre>\n"
      ],
      "text/plain": [
       "\u001b[1;36m46089\u001b[0m,\u001b[1;36m83.76764675327033\u001b[0m,\u001b[1;36m-35.75851638715586\u001b[0m,F\n"
      ]
     },
     "metadata": {},
     "output_type": "display_data"
    },
    {
     "data": {
      "text/html": [
       "<pre style=\"white-space:pre;overflow-x:auto;line-height:normal;font-family:Menlo,'DejaVu Sans Mono',consolas,'Courier New',monospace\"><span style=\"color: #008080; text-decoration-color: #008080; font-weight: bold\">45156</span>,<span style=\"color: #008080; text-decoration-color: #008080; font-weight: bold\">333.3313593611327</span>,<span style=\"color: #008080; text-decoration-color: #008080; font-weight: bold\">-20.318275221299203</span>,F\n",
       "</pre>\n"
      ],
      "text/plain": [
       "\u001b[1;36m45156\u001b[0m,\u001b[1;36m333.3313593611327\u001b[0m,\u001b[1;36m-20.318275221299203\u001b[0m,F\n"
      ]
     },
     "metadata": {},
     "output_type": "display_data"
    },
    {
     "data": {
      "text/html": [
       "<pre style=\"white-space:pre;overflow-x:auto;line-height:normal;font-family:Menlo,'DejaVu Sans Mono',consolas,'Courier New',monospace\"><span style=\"color: #008080; text-decoration-color: #008080; font-weight: bold\">4158</span>,<span style=\"color: #008080; text-decoration-color: #008080; font-weight: bold\">85.83516512540382</span>,<span style=\"color: #008080; text-decoration-color: #008080; font-weight: bold\">-41.032336975125126</span>,F\n",
       "</pre>\n"
      ],
      "text/plain": [
       "\u001b[1;36m4158\u001b[0m,\u001b[1;36m85.83516512540382\u001b[0m,\u001b[1;36m-41.032336975125126\u001b[0m,F\n"
      ]
     },
     "metadata": {},
     "output_type": "display_data"
    },
    {
     "data": {
      "text/html": [
       "<pre style=\"white-space:pre;overflow-x:auto;line-height:normal;font-family:Menlo,'DejaVu Sans Mono',consolas,'Courier New',monospace\"><span style=\"color: #008080; text-decoration-color: #008080; font-weight: bold\">35374</span>,<span style=\"color: #008080; text-decoration-color: #008080; font-weight: bold\">32.96572873857542</span>,<span style=\"color: #008080; text-decoration-color: #008080; font-weight: bold\">-3.901421189399248</span>,F\n",
       "</pre>\n"
      ],
      "text/plain": [
       "\u001b[1;36m35374\u001b[0m,\u001b[1;36m32.96572873857542\u001b[0m,\u001b[1;36m-3.901421189399248\u001b[0m,F\n"
      ]
     },
     "metadata": {},
     "output_type": "display_data"
    },
    {
     "data": {
      "text/html": [
       "<pre style=\"white-space:pre;overflow-x:auto;line-height:normal;font-family:Menlo,'DejaVu Sans Mono',consolas,'Courier New',monospace\"><span style=\"color: #008080; text-decoration-color: #008080; font-weight: bold\">35287</span>,<span style=\"color: #008080; text-decoration-color: #008080; font-weight: bold\">32.627795931913155</span>,<span style=\"color: #008080; text-decoration-color: #008080; font-weight: bold\">-5.696653727937164</span>,F\n",
       "</pre>\n"
      ],
      "text/plain": [
       "\u001b[1;36m35287\u001b[0m,\u001b[1;36m32.627795931913155\u001b[0m,\u001b[1;36m-5.696653727937164\u001b[0m,F\n"
      ]
     },
     "metadata": {},
     "output_type": "display_data"
    },
    {
     "data": {
      "text/html": [
       "<pre style=\"white-space:pre;overflow-x:auto;line-height:normal;font-family:Menlo,'DejaVu Sans Mono',consolas,'Courier New',monospace\"><span style=\"color: #008080; text-decoration-color: #008080; font-weight: bold\">9419</span>,<span style=\"color: #008080; text-decoration-color: #008080; font-weight: bold\">78.81798691314866</span>,<span style=\"color: #008080; text-decoration-color: #008080; font-weight: bold\">-49.4571080213062</span>,F\n",
       "</pre>\n"
      ],
      "text/plain": [
       "\u001b[1;36m9419\u001b[0m,\u001b[1;36m78.81798691314866\u001b[0m,\u001b[1;36m-49.4571080213062\u001b[0m,F\n"
      ]
     },
     "metadata": {},
     "output_type": "display_data"
    },
    {
     "data": {
      "text/html": [
       "<pre style=\"white-space:pre;overflow-x:auto;line-height:normal;font-family:Menlo,'DejaVu Sans Mono',consolas,'Courier New',monospace\"><span style=\"color: #008080; text-decoration-color: #008080; font-weight: bold\">44732</span>,<span style=\"color: #008080; text-decoration-color: #008080; font-weight: bold\">323.1233486974596</span>,<span style=\"color: #008080; text-decoration-color: #008080; font-weight: bold\">-11.558793394140404</span>,F\n",
       "</pre>\n"
      ],
      "text/plain": [
       "\u001b[1;36m44732\u001b[0m,\u001b[1;36m323.1233486974596\u001b[0m,\u001b[1;36m-11.558793394140404\u001b[0m,F\n"
      ]
     },
     "metadata": {},
     "output_type": "display_data"
    },
    {
     "data": {
      "text/html": [
       "<pre style=\"white-space:pre;overflow-x:auto;line-height:normal;font-family:Menlo,'DejaVu Sans Mono',consolas,'Courier New',monospace\"><span style=\"color: #008080; text-decoration-color: #008080; font-weight: bold\">7130</span>,<span style=\"color: #008080; text-decoration-color: #008080; font-weight: bold\">349.1321053306176</span>,<span style=\"color: #008080; text-decoration-color: #008080; font-weight: bold\">14.838502152048756</span>,F\n",
       "</pre>\n"
      ],
      "text/plain": [
       "\u001b[1;36m7130\u001b[0m,\u001b[1;36m349.1321053306176\u001b[0m,\u001b[1;36m14.838502152048756\u001b[0m,F\n"
      ]
     },
     "metadata": {},
     "output_type": "display_data"
    },
    {
     "data": {
      "text/html": [
       "<pre style=\"white-space:pre;overflow-x:auto;line-height:normal;font-family:Menlo,'DejaVu Sans Mono',consolas,'Courier New',monospace\"><span style=\"color: #008080; text-decoration-color: #008080; font-weight: bold\">40489</span>,<span style=\"color: #008080; text-decoration-color: #008080; font-weight: bold\">52.86590614057157</span>,<span style=\"color: #008080; text-decoration-color: #008080; font-weight: bold\">-27.554660254761373</span>,F\n",
       "</pre>\n"
      ],
      "text/plain": [
       "\u001b[1;36m40489\u001b[0m,\u001b[1;36m52.86590614057157\u001b[0m,\u001b[1;36m-27.554660254761373\u001b[0m,F\n"
      ]
     },
     "metadata": {},
     "output_type": "display_data"
    },
    {
     "data": {
      "text/html": [
       "<pre style=\"white-space:pre;overflow-x:auto;line-height:normal;font-family:Menlo,'DejaVu Sans Mono',consolas,'Courier New',monospace\"><span style=\"color: #008080; text-decoration-color: #008080; font-weight: bold\">27029</span>,<span style=\"color: #008080; text-decoration-color: #008080; font-weight: bold\">288.03984266999254</span>,<span style=\"color: #008080; text-decoration-color: #008080; font-weight: bold\">46.875844982863136</span>,F\n",
       "</pre>\n"
      ],
      "text/plain": [
       "\u001b[1;36m27029\u001b[0m,\u001b[1;36m288.03984266999254\u001b[0m,\u001b[1;36m46.875844982863136\u001b[0m,F\n"
      ]
     },
     "metadata": {},
     "output_type": "display_data"
    },
    {
     "data": {
      "text/html": [
       "<pre style=\"white-space:pre;overflow-x:auto;line-height:normal;font-family:Menlo,'DejaVu Sans Mono',consolas,'Courier New',monospace\"><span style=\"color: #008080; text-decoration-color: #008080; font-weight: bold\">36019</span>,<span style=\"color: #008080; text-decoration-color: #008080; font-weight: bold\">117.78118302690892</span>,<span style=\"color: #008080; text-decoration-color: #008080; font-weight: bold\">50.38836668609249</span>,F\n",
       "</pre>\n"
      ],
      "text/plain": [
       "\u001b[1;36m36019\u001b[0m,\u001b[1;36m117.78118302690892\u001b[0m,\u001b[1;36m50.38836668609249\u001b[0m,F\n"
      ]
     },
     "metadata": {},
     "output_type": "display_data"
    },
    {
     "data": {
      "text/html": [
       "<pre style=\"white-space:pre;overflow-x:auto;line-height:normal;font-family:Menlo,'DejaVu Sans Mono',consolas,'Courier New',monospace\"><span style=\"color: #008080; text-decoration-color: #008080; font-weight: bold\">40844</span>,<span style=\"color: #008080; text-decoration-color: #008080; font-weight: bold\">68.35386953862799</span>,<span style=\"color: #008080; text-decoration-color: #008080; font-weight: bold\">2.798840068391068</span>,F\n",
       "</pre>\n"
      ],
      "text/plain": [
       "\u001b[1;36m40844\u001b[0m,\u001b[1;36m68.35386953862799\u001b[0m,\u001b[1;36m2.798840068391068\u001b[0m,F\n"
      ]
     },
     "metadata": {},
     "output_type": "display_data"
    },
    {
     "data": {
      "text/html": [
       "<pre style=\"white-space:pre;overflow-x:auto;line-height:normal;font-family:Menlo,'DejaVu Sans Mono',consolas,'Courier New',monospace\"><span style=\"color: #008080; text-decoration-color: #008080; font-weight: bold\">46342</span>,<span style=\"color: #008080; text-decoration-color: #008080; font-weight: bold\">81.60817427332276</span>,<span style=\"color: #008080; text-decoration-color: #008080; font-weight: bold\">48.04627813504519</span>,F\n",
       "</pre>\n"
      ],
      "text/plain": [
       "\u001b[1;36m46342\u001b[0m,\u001b[1;36m81.60817427332276\u001b[0m,\u001b[1;36m48.04627813504519\u001b[0m,F\n"
      ]
     },
     "metadata": {},
     "output_type": "display_data"
    },
    {
     "data": {
      "text/html": [
       "<pre style=\"white-space:pre;overflow-x:auto;line-height:normal;font-family:Menlo,'DejaVu Sans Mono',consolas,'Courier New',monospace\"><span style=\"color: #008080; text-decoration-color: #008080; font-weight: bold\">1607</span>,<span style=\"color: #008080; text-decoration-color: #008080; font-weight: bold\">260.5527727121543</span>,<span style=\"color: #008080; text-decoration-color: #008080; font-weight: bold\">59.01467820275853</span>,F\n",
       "</pre>\n"
      ],
      "text/plain": [
       "\u001b[1;36m1607\u001b[0m,\u001b[1;36m260.5527727121543\u001b[0m,\u001b[1;36m59.01467820275853\u001b[0m,F\n"
      ]
     },
     "metadata": {},
     "output_type": "display_data"
    },
    {
     "data": {
      "text/html": [
       "<pre style=\"white-space:pre;overflow-x:auto;line-height:normal;font-family:Menlo,'DejaVu Sans Mono',consolas,'Courier New',monospace\"><span style=\"color: #008080; text-decoration-color: #008080; font-weight: bold\">26916</span>,<span style=\"color: #008080; text-decoration-color: #008080; font-weight: bold\">239.6326825478543</span>,<span style=\"color: #008080; text-decoration-color: #008080; font-weight: bold\">57.38563050598109</span>,F\n",
       "</pre>\n"
      ],
      "text/plain": [
       "\u001b[1;36m26916\u001b[0m,\u001b[1;36m239.6326825478543\u001b[0m,\u001b[1;36m57.38563050598109\u001b[0m,F\n"
      ]
     },
     "metadata": {},
     "output_type": "display_data"
    },
    {
     "data": {
      "text/html": [
       "<pre style=\"white-space:pre;overflow-x:auto;line-height:normal;font-family:Menlo,'DejaVu Sans Mono',consolas,'Courier New',monospace\"><span style=\"color: #008080; text-decoration-color: #008080; font-weight: bold\">17474</span>,<span style=\"color: #008080; text-decoration-color: #008080; font-weight: bold\">316.9760823765046</span>,<span style=\"color: #008080; text-decoration-color: #008080; font-weight: bold\">15.281665847542277</span>,F\n",
       "</pre>\n"
      ],
      "text/plain": [
       "\u001b[1;36m17474\u001b[0m,\u001b[1;36m316.9760823765046\u001b[0m,\u001b[1;36m15.281665847542277\u001b[0m,F\n"
      ]
     },
     "metadata": {},
     "output_type": "display_data"
    },
    {
     "data": {
      "text/html": [
       "<pre style=\"white-space:pre;overflow-x:auto;line-height:normal;font-family:Menlo,'DejaVu Sans Mono',consolas,'Courier New',monospace\"><span style=\"color: #008080; text-decoration-color: #008080; font-weight: bold\">41054</span>,<span style=\"color: #008080; text-decoration-color: #008080; font-weight: bold\">46.67659139587702</span>,<span style=\"color: #008080; text-decoration-color: #008080; font-weight: bold\">68.87363002410277</span>,F\n",
       "</pre>\n"
      ],
      "text/plain": [
       "\u001b[1;36m41054\u001b[0m,\u001b[1;36m46.67659139587702\u001b[0m,\u001b[1;36m68.87363002410277\u001b[0m,F\n"
      ]
     },
     "metadata": {},
     "output_type": "display_data"
    },
    {
     "data": {
      "text/html": [
       "<pre style=\"white-space:pre;overflow-x:auto;line-height:normal;font-family:Menlo,'DejaVu Sans Mono',consolas,'Courier New',monospace\"><span style=\"color: #008080; text-decoration-color: #008080; font-weight: bold\">42308</span>,<span style=\"color: #008080; text-decoration-color: #008080; font-weight: bold\">188.80616089396423</span>,<span style=\"color: #008080; text-decoration-color: #008080; font-weight: bold\">0.6921721416193922</span>,F\n",
       "</pre>\n"
      ],
      "text/plain": [
       "\u001b[1;36m42308\u001b[0m,\u001b[1;36m188.80616089396423\u001b[0m,\u001b[1;36m0.6921721416193922\u001b[0m,F\n"
      ]
     },
     "metadata": {},
     "output_type": "display_data"
    },
    {
     "data": {
      "text/html": [
       "<pre style=\"white-space:pre;overflow-x:auto;line-height:normal;font-family:Menlo,'DejaVu Sans Mono',consolas,'Courier New',monospace\"><span style=\"color: #008080; text-decoration-color: #008080; font-weight: bold\">28502</span>,<span style=\"color: #008080; text-decoration-color: #008080; font-weight: bold\">311.2263335954529</span>,<span style=\"color: #008080; text-decoration-color: #008080; font-weight: bold\">-5.379805812376426</span>,F\n",
       "</pre>\n"
      ],
      "text/plain": [
       "\u001b[1;36m28502\u001b[0m,\u001b[1;36m311.2263335954529\u001b[0m,\u001b[1;36m-5.379805812376426\u001b[0m,F\n"
      ]
     },
     "metadata": {},
     "output_type": "display_data"
    },
    {
     "data": {
      "text/html": [
       "<pre style=\"white-space:pre;overflow-x:auto;line-height:normal;font-family:Menlo,'DejaVu Sans Mono',consolas,'Courier New',monospace\"><span style=\"color: #008080; text-decoration-color: #008080; font-weight: bold\">41910</span>,<span style=\"color: #008080; text-decoration-color: #008080; font-weight: bold\">139.12908776493123</span>,<span style=\"color: #008080; text-decoration-color: #008080; font-weight: bold\">27.82735066373884</span>,F\n",
       "</pre>\n"
      ],
      "text/plain": [
       "\u001b[1;36m41910\u001b[0m,\u001b[1;36m139.12908776493123\u001b[0m,\u001b[1;36m27.82735066373884\u001b[0m,F\n"
      ]
     },
     "metadata": {},
     "output_type": "display_data"
    },
    {
     "data": {
      "text/html": [
       "<pre style=\"white-space:pre;overflow-x:auto;line-height:normal;font-family:Menlo,'DejaVu Sans Mono',consolas,'Courier New',monospace\"><span style=\"color: #008080; text-decoration-color: #008080; font-weight: bold\">41113</span>,<span style=\"color: #008080; text-decoration-color: #008080; font-weight: bold\">129.94430906216618</span>,<span style=\"color: #008080; text-decoration-color: #008080; font-weight: bold\">38.43814889915049</span>,F\n",
       "</pre>\n"
      ],
      "text/plain": [
       "\u001b[1;36m41113\u001b[0m,\u001b[1;36m129.94430906216618\u001b[0m,\u001b[1;36m38.43814889915049\u001b[0m,F\n"
      ]
     },
     "metadata": {},
     "output_type": "display_data"
    },
    {
     "data": {
      "text/html": [
       "<pre style=\"white-space:pre;overflow-x:auto;line-height:normal;font-family:Menlo,'DejaVu Sans Mono',consolas,'Courier New',monospace\"><span style=\"color: #008080; text-decoration-color: #008080; font-weight: bold\">23124</span>,<span style=\"color: #008080; text-decoration-color: #008080; font-weight: bold\">259.893018256863</span>,<span style=\"color: #008080; text-decoration-color: #008080; font-weight: bold\">61.22076360218031</span>,F\n",
       "</pre>\n"
      ],
      "text/plain": [
       "\u001b[1;36m23124\u001b[0m,\u001b[1;36m259.893018256863\u001b[0m,\u001b[1;36m61.22076360218031\u001b[0m,F\n"
      ]
     },
     "metadata": {},
     "output_type": "display_data"
    },
    {
     "data": {
      "text/html": [
       "<pre style=\"white-space:pre;overflow-x:auto;line-height:normal;font-family:Menlo,'DejaVu Sans Mono',consolas,'Courier New',monospace\"><span style=\"color: #008080; text-decoration-color: #008080; font-weight: bold\">7615</span>,<span style=\"color: #008080; text-decoration-color: #008080; font-weight: bold\">9.024227573567908</span>,<span style=\"color: #008080; text-decoration-color: #008080; font-weight: bold\">-43.578601448332414</span>,F\n",
       "</pre>\n"
      ],
      "text/plain": [
       "\u001b[1;36m7615\u001b[0m,\u001b[1;36m9.024227573567908\u001b[0m,\u001b[1;36m-43.578601448332414\u001b[0m,F\n"
      ]
     },
     "metadata": {},
     "output_type": "display_data"
    },
    {
     "data": {
      "text/html": [
       "<pre style=\"white-space:pre;overflow-x:auto;line-height:normal;font-family:Menlo,'DejaVu Sans Mono',consolas,'Courier New',monospace\"><span style=\"color: #008080; text-decoration-color: #008080; font-weight: bold\">46751</span>,<span style=\"color: #008080; text-decoration-color: #008080; font-weight: bold\">160.28271491626174</span>,<span style=\"color: #008080; text-decoration-color: #008080; font-weight: bold\">8.677165521567874</span>,F\n",
       "</pre>\n"
      ],
      "text/plain": [
       "\u001b[1;36m46751\u001b[0m,\u001b[1;36m160.28271491626174\u001b[0m,\u001b[1;36m8.677165521567874\u001b[0m,F\n"
      ]
     },
     "metadata": {},
     "output_type": "display_data"
    },
    {
     "data": {
      "text/html": [
       "<pre style=\"white-space:pre;overflow-x:auto;line-height:normal;font-family:Menlo,'DejaVu Sans Mono',consolas,'Courier New',monospace\"><span style=\"color: #008080; text-decoration-color: #008080; font-weight: bold\">41149</span>,<span style=\"color: #008080; text-decoration-color: #008080; font-weight: bold\">173.4804615882946</span>,<span style=\"color: #008080; text-decoration-color: #008080; font-weight: bold\">84.28149118192351</span>,F\n",
       "</pre>\n"
      ],
      "text/plain": [
       "\u001b[1;36m41149\u001b[0m,\u001b[1;36m173.4804615882946\u001b[0m,\u001b[1;36m84.28149118192351\u001b[0m,F\n"
      ]
     },
     "metadata": {},
     "output_type": "display_data"
    },
    {
     "data": {
      "text/html": [
       "<pre style=\"white-space:pre;overflow-x:auto;line-height:normal;font-family:Menlo,'DejaVu Sans Mono',consolas,'Courier New',monospace\"><span style=\"color: #008080; text-decoration-color: #008080; font-weight: bold\">16609</span>,<span style=\"color: #008080; text-decoration-color: #008080; font-weight: bold\">228.3336971828062</span>,<span style=\"color: #008080; text-decoration-color: #008080; font-weight: bold\">57.010003924988766</span>,F\n",
       "</pre>\n"
      ],
      "text/plain": [
       "\u001b[1;36m16609\u001b[0m,\u001b[1;36m228.3336971828062\u001b[0m,\u001b[1;36m57.010003924988766\u001b[0m,F\n"
      ]
     },
     "metadata": {},
     "output_type": "display_data"
    },
    {
     "data": {
      "text/html": [
       "<pre style=\"white-space:pre;overflow-x:auto;line-height:normal;font-family:Menlo,'DejaVu Sans Mono',consolas,'Courier New',monospace\"><span style=\"color: #008080; text-decoration-color: #008080; font-weight: bold\">44006</span>,<span style=\"color: #008080; text-decoration-color: #008080; font-weight: bold\">235.58668874371517</span>,<span style=\"color: #008080; text-decoration-color: #008080; font-weight: bold\">39.50326255249047</span>,F\n",
       "</pre>\n"
      ],
      "text/plain": [
       "\u001b[1;36m44006\u001b[0m,\u001b[1;36m235.58668874371517\u001b[0m,\u001b[1;36m39.50326255249047\u001b[0m,F\n"
      ]
     },
     "metadata": {},
     "output_type": "display_data"
    },
    {
     "data": {
      "text/html": [
       "<pre style=\"white-space:pre;overflow-x:auto;line-height:normal;font-family:Menlo,'DejaVu Sans Mono',consolas,'Courier New',monospace\"><span style=\"color: #008080; text-decoration-color: #008080; font-weight: bold\">16366</span>,<span style=\"color: #008080; text-decoration-color: #008080; font-weight: bold\">216.37767718382008</span>,<span style=\"color: #008080; text-decoration-color: #008080; font-weight: bold\">33.802967375342966</span>,F\n",
       "</pre>\n"
      ],
      "text/plain": [
       "\u001b[1;36m16366\u001b[0m,\u001b[1;36m216.37767718382008\u001b[0m,\u001b[1;36m33.802967375342966\u001b[0m,F\n"
      ]
     },
     "metadata": {},
     "output_type": "display_data"
    },
    {
     "data": {
      "text/html": [
       "<pre style=\"white-space:pre;overflow-x:auto;line-height:normal;font-family:Menlo,'DejaVu Sans Mono',consolas,'Courier New',monospace\"><span style=\"color: #008080; text-decoration-color: #008080; font-weight: bold\">8915</span>,<span style=\"color: #008080; text-decoration-color: #008080; font-weight: bold\">101.68589626290964</span>,<span style=\"color: #008080; text-decoration-color: #008080; font-weight: bold\">-35.71320598541373</span>,F\n",
       "</pre>\n"
      ],
      "text/plain": [
       "\u001b[1;36m8915\u001b[0m,\u001b[1;36m101.68589626290964\u001b[0m,\u001b[1;36m-35.71320598541373\u001b[0m,F\n"
      ]
     },
     "metadata": {},
     "output_type": "display_data"
    },
    {
     "data": {
      "text/html": [
       "<pre style=\"white-space:pre;overflow-x:auto;line-height:normal;font-family:Menlo,'DejaVu Sans Mono',consolas,'Courier New',monospace\"><span style=\"color: #008080; text-decoration-color: #008080; font-weight: bold\">7795</span>,<span style=\"color: #008080; text-decoration-color: #008080; font-weight: bold\">49.89534219391867</span>,<span style=\"color: #008080; text-decoration-color: #008080; font-weight: bold\">41.9347257429429</span>,F\n",
       "</pre>\n"
      ],
      "text/plain": [
       "\u001b[1;36m7795\u001b[0m,\u001b[1;36m49.89534219391867\u001b[0m,\u001b[1;36m41.9347257429429\u001b[0m,F\n"
      ]
     },
     "metadata": {},
     "output_type": "display_data"
    },
    {
     "data": {
      "text/html": [
       "<pre style=\"white-space:pre;overflow-x:auto;line-height:normal;font-family:Menlo,'DejaVu Sans Mono',consolas,'Courier New',monospace\"><span style=\"color: #008080; text-decoration-color: #008080; font-weight: bold\">18620</span>,<span style=\"color: #008080; text-decoration-color: #008080; font-weight: bold\">35.88509673289112</span>,<span style=\"color: #008080; text-decoration-color: #008080; font-weight: bold\">-4.173626027031535</span>,F\n",
       "</pre>\n"
      ],
      "text/plain": [
       "\u001b[1;36m18620\u001b[0m,\u001b[1;36m35.88509673289112\u001b[0m,\u001b[1;36m-4.173626027031535\u001b[0m,F\n"
      ]
     },
     "metadata": {},
     "output_type": "display_data"
    },
    {
     "data": {
      "text/html": [
       "<pre style=\"white-space:pre;overflow-x:auto;line-height:normal;font-family:Menlo,'DejaVu Sans Mono',consolas,'Courier New',monospace\"><span style=\"color: #008080; text-decoration-color: #008080; font-weight: bold\">44818</span>,<span style=\"color: #008080; text-decoration-color: #008080; font-weight: bold\">323.40395667905125</span>,<span style=\"color: #008080; text-decoration-color: #008080; font-weight: bold\">15.03656177948946</span>,F\n",
       "</pre>\n"
      ],
      "text/plain": [
       "\u001b[1;36m44818\u001b[0m,\u001b[1;36m323.40395667905125\u001b[0m,\u001b[1;36m15.03656177948946\u001b[0m,F\n"
      ]
     },
     "metadata": {},
     "output_type": "display_data"
    },
    {
     "data": {
      "text/html": [
       "<pre style=\"white-space:pre;overflow-x:auto;line-height:normal;font-family:Menlo,'DejaVu Sans Mono',consolas,'Courier New',monospace\"><span style=\"color: #008080; text-decoration-color: #008080; font-weight: bold\">17102</span>,<span style=\"color: #008080; text-decoration-color: #008080; font-weight: bold\">250.3617215397146</span>,<span style=\"color: #008080; text-decoration-color: #008080; font-weight: bold\">41.2371640756153</span>,F\n",
       "</pre>\n"
      ],
      "text/plain": [
       "\u001b[1;36m17102\u001b[0m,\u001b[1;36m250.3617215397146\u001b[0m,\u001b[1;36m41.2371640756153\u001b[0m,F\n"
      ]
     },
     "metadata": {},
     "output_type": "display_data"
    },
    {
     "data": {
      "text/html": [
       "<pre style=\"white-space:pre;overflow-x:auto;line-height:normal;font-family:Menlo,'DejaVu Sans Mono',consolas,'Courier New',monospace\"><span style=\"color: #008080; text-decoration-color: #008080; font-weight: bold\">16848</span>,<span style=\"color: #008080; text-decoration-color: #008080; font-weight: bold\">271.7424344581814</span>,<span style=\"color: #008080; text-decoration-color: #008080; font-weight: bold\">16.176922431599316</span>,F\n",
       "</pre>\n"
      ],
      "text/plain": [
       "\u001b[1;36m16848\u001b[0m,\u001b[1;36m271.7424344581814\u001b[0m,\u001b[1;36m16.176922431599316\u001b[0m,F\n"
      ]
     },
     "metadata": {},
     "output_type": "display_data"
    },
    {
     "data": {
      "text/html": [
       "<pre style=\"white-space:pre;overflow-x:auto;line-height:normal;font-family:Menlo,'DejaVu Sans Mono',consolas,'Courier New',monospace\"><span style=\"color: #008080; text-decoration-color: #008080; font-weight: bold\">40876</span>,<span style=\"color: #008080; text-decoration-color: #008080; font-weight: bold\">62.639967675789535</span>,<span style=\"color: #008080; text-decoration-color: #008080; font-weight: bold\">20.85970664045083</span>,F\n",
       "</pre>\n"
      ],
      "text/plain": [
       "\u001b[1;36m40876\u001b[0m,\u001b[1;36m62.639967675789535\u001b[0m,\u001b[1;36m20.85970664045083\u001b[0m,F\n"
      ]
     },
     "metadata": {},
     "output_type": "display_data"
    },
    {
     "data": {
      "text/html": [
       "<pre style=\"white-space:pre;overflow-x:auto;line-height:normal;font-family:Menlo,'DejaVu Sans Mono',consolas,'Courier New',monospace\"><span style=\"color: #008080; text-decoration-color: #008080; font-weight: bold\">18029</span>,<span style=\"color: #008080; text-decoration-color: #008080; font-weight: bold\">350.4306815283149</span>,<span style=\"color: #008080; text-decoration-color: #008080; font-weight: bold\">8.790399631510871</span>,F\n",
       "</pre>\n"
      ],
      "text/plain": [
       "\u001b[1;36m18029\u001b[0m,\u001b[1;36m350.4306815283149\u001b[0m,\u001b[1;36m8.790399631510871\u001b[0m,F\n"
      ]
     },
     "metadata": {},
     "output_type": "display_data"
    },
    {
     "data": {
      "text/html": [
       "<pre style=\"white-space:pre;overflow-x:auto;line-height:normal;font-family:Menlo,'DejaVu Sans Mono',consolas,'Courier New',monospace\"><span style=\"color: #008080; text-decoration-color: #008080; font-weight: bold\">40530</span>,<span style=\"color: #008080; text-decoration-color: #008080; font-weight: bold\">34.71342348229638</span>,<span style=\"color: #008080; text-decoration-color: #008080; font-weight: bold\">32.89281553998497</span>,F\n",
       "</pre>\n"
      ],
      "text/plain": [
       "\u001b[1;36m40530\u001b[0m,\u001b[1;36m34.71342348229638\u001b[0m,\u001b[1;36m32.89281553998497\u001b[0m,F\n"
      ]
     },
     "metadata": {},
     "output_type": "display_data"
    },
    {
     "data": {
      "text/html": [
       "<pre style=\"white-space:pre;overflow-x:auto;line-height:normal;font-family:Menlo,'DejaVu Sans Mono',consolas,'Courier New',monospace\"><span style=\"color: #008080; text-decoration-color: #008080; font-weight: bold\">35158</span>,<span style=\"color: #008080; text-decoration-color: #008080; font-weight: bold\">93.63246594568749</span>,<span style=\"color: #008080; text-decoration-color: #008080; font-weight: bold\">64.4842304565391</span>,F\n",
       "</pre>\n"
      ],
      "text/plain": [
       "\u001b[1;36m35158\u001b[0m,\u001b[1;36m93.63246594568749\u001b[0m,\u001b[1;36m64.4842304565391\u001b[0m,F\n"
      ]
     },
     "metadata": {},
     "output_type": "display_data"
    },
    {
     "data": {
      "text/html": [
       "<pre style=\"white-space:pre;overflow-x:auto;line-height:normal;font-family:Menlo,'DejaVu Sans Mono',consolas,'Courier New',monospace\"><span style=\"color: #008080; text-decoration-color: #008080; font-weight: bold\">36602</span>,<span style=\"color: #008080; text-decoration-color: #008080; font-weight: bold\">106.0078641300788</span>,<span style=\"color: #008080; text-decoration-color: #008080; font-weight: bold\">63.63994092648663</span>,F\n",
       "</pre>\n"
      ],
      "text/plain": [
       "\u001b[1;36m36602\u001b[0m,\u001b[1;36m106.0078641300788\u001b[0m,\u001b[1;36m63.63994092648663\u001b[0m,F\n"
      ]
     },
     "metadata": {},
     "output_type": "display_data"
    },
    {
     "data": {
      "text/html": [
       "<pre style=\"white-space:pre;overflow-x:auto;line-height:normal;font-family:Menlo,'DejaVu Sans Mono',consolas,'Courier New',monospace\"><span style=\"color: #008080; text-decoration-color: #008080; font-weight: bold\">15755</span>,<span style=\"color: #008080; text-decoration-color: #008080; font-weight: bold\">207.09753617540755</span>,<span style=\"color: #008080; text-decoration-color: #008080; font-weight: bold\">38.09034424518002</span>,F\n",
       "</pre>\n"
      ],
      "text/plain": [
       "\u001b[1;36m15755\u001b[0m,\u001b[1;36m207.09753617540755\u001b[0m,\u001b[1;36m38.09034424518002\u001b[0m,F\n"
      ]
     },
     "metadata": {},
     "output_type": "display_data"
    },
    {
     "data": {
      "text/html": [
       "<pre style=\"white-space:pre;overflow-x:auto;line-height:normal;font-family:Menlo,'DejaVu Sans Mono',consolas,'Courier New',monospace\"><span style=\"color: #008080; text-decoration-color: #008080; font-weight: bold\">41197</span>,<span style=\"color: #008080; text-decoration-color: #008080; font-weight: bold\">149.65854236765745</span>,<span style=\"color: #008080; text-decoration-color: #008080; font-weight: bold\">38.051642929145615</span>,F\n",
       "</pre>\n"
      ],
      "text/plain": [
       "\u001b[1;36m41197\u001b[0m,\u001b[1;36m149.65854236765745\u001b[0m,\u001b[1;36m38.051642929145615\u001b[0m,F\n"
      ]
     },
     "metadata": {},
     "output_type": "display_data"
    },
    {
     "data": {
      "text/html": [
       "<pre style=\"white-space:pre;overflow-x:auto;line-height:normal;font-family:Menlo,'DejaVu Sans Mono',consolas,'Courier New',monospace\"><span style=\"color: #008080; text-decoration-color: #008080; font-weight: bold\">28248</span>,<span style=\"color: #008080; text-decoration-color: #008080; font-weight: bold\">329.7915111400404</span>,<span style=\"color: #008080; text-decoration-color: #008080; font-weight: bold\">-30.1969808536882</span>,F\n",
       "</pre>\n"
      ],
      "text/plain": [
       "\u001b[1;36m28248\u001b[0m,\u001b[1;36m329.7915111400404\u001b[0m,\u001b[1;36m-30.1969808536882\u001b[0m,F\n"
      ]
     },
     "metadata": {},
     "output_type": "display_data"
    },
    {
     "data": {
      "text/html": [
       "<pre style=\"white-space:pre;overflow-x:auto;line-height:normal;font-family:Menlo,'DejaVu Sans Mono',consolas,'Courier New',monospace\"><span style=\"color: #008080; text-decoration-color: #008080; font-weight: bold\">36612</span>,<span style=\"color: #008080; text-decoration-color: #008080; font-weight: bold\">130.49358492512528</span>,<span style=\"color: #008080; text-decoration-color: #008080; font-weight: bold\">29.238977126802304</span>,F\n",
       "</pre>\n"
      ],
      "text/plain": [
       "\u001b[1;36m36612\u001b[0m,\u001b[1;36m130.49358492512528\u001b[0m,\u001b[1;36m29.238977126802304\u001b[0m,F\n"
      ]
     },
     "metadata": {},
     "output_type": "display_data"
    },
    {
     "data": {
      "text/html": [
       "<pre style=\"white-space:pre;overflow-x:auto;line-height:normal;font-family:Menlo,'DejaVu Sans Mono',consolas,'Courier New',monospace\"><span style=\"color: #008080; text-decoration-color: #008080; font-weight: bold\">18674</span>,<span style=\"color: #008080; text-decoration-color: #008080; font-weight: bold\">33.548961043447314</span>,<span style=\"color: #008080; text-decoration-color: #008080; font-weight: bold\">-5.843854695519616</span>,F\n",
       "</pre>\n"
      ],
      "text/plain": [
       "\u001b[1;36m18674\u001b[0m,\u001b[1;36m33.548961043447314\u001b[0m,\u001b[1;36m-5.843854695519616\u001b[0m,F\n"
      ]
     },
     "metadata": {},
     "output_type": "display_data"
    },
    {
     "data": {
      "text/html": [
       "<pre style=\"white-space:pre;overflow-x:auto;line-height:normal;font-family:Menlo,'DejaVu Sans Mono',consolas,'Courier New',monospace\"><span style=\"color: #008080; text-decoration-color: #008080; font-weight: bold\">16941</span>,<span style=\"color: #008080; text-decoration-color: #008080; font-weight: bold\">278.15783045707434</span>,<span style=\"color: #008080; text-decoration-color: #008080; font-weight: bold\">-85.01060550604147</span>,F\n",
       "</pre>\n"
      ],
      "text/plain": [
       "\u001b[1;36m16941\u001b[0m,\u001b[1;36m278.15783045707434\u001b[0m,\u001b[1;36m-85.01060550604147\u001b[0m,F\n"
      ]
     },
     "metadata": {},
     "output_type": "display_data"
    },
    {
     "data": {
      "text/html": [
       "<pre style=\"white-space:pre;overflow-x:auto;line-height:normal;font-family:Menlo,'DejaVu Sans Mono',consolas,'Courier New',monospace\"><span style=\"color: #008080; text-decoration-color: #008080; font-weight: bold\">45772</span>,<span style=\"color: #008080; text-decoration-color: #008080; font-weight: bold\">28.82636400566205</span>,<span style=\"color: #008080; text-decoration-color: #008080; font-weight: bold\">33.02778571276136</span>,F\n",
       "</pre>\n"
      ],
      "text/plain": [
       "\u001b[1;36m45772\u001b[0m,\u001b[1;36m28.82636400566205\u001b[0m,\u001b[1;36m33.02778571276136\u001b[0m,F\n"
      ]
     },
     "metadata": {},
     "output_type": "display_data"
    },
    {
     "data": {
      "text/html": [
       "<pre style=\"white-space:pre;overflow-x:auto;line-height:normal;font-family:Menlo,'DejaVu Sans Mono',consolas,'Courier New',monospace\"><span style=\"color: #008080; text-decoration-color: #008080; font-weight: bold\">44769</span>,<span style=\"color: #008080; text-decoration-color: #008080; font-weight: bold\">285.6884735969347</span>,<span style=\"color: #008080; text-decoration-color: #008080; font-weight: bold\">57.16189223357832</span>,F\n",
       "</pre>\n"
      ],
      "text/plain": [
       "\u001b[1;36m44769\u001b[0m,\u001b[1;36m285.6884735969347\u001b[0m,\u001b[1;36m57.16189223357832\u001b[0m,F\n"
      ]
     },
     "metadata": {},
     "output_type": "display_data"
    },
    {
     "data": {
      "text/html": [
       "<pre style=\"white-space:pre;overflow-x:auto;line-height:normal;font-family:Menlo,'DejaVu Sans Mono',consolas,'Courier New',monospace\"><span style=\"color: #008080; text-decoration-color: #008080; font-weight: bold\">35707</span>,<span style=\"color: #008080; text-decoration-color: #008080; font-weight: bold\">111.81473913553332</span>,<span style=\"color: #008080; text-decoration-color: #008080; font-weight: bold\">43.86802715157699</span>,F\n",
       "</pre>\n"
      ],
      "text/plain": [
       "\u001b[1;36m35707\u001b[0m,\u001b[1;36m111.81473913553332\u001b[0m,\u001b[1;36m43.86802715157699\u001b[0m,F\n"
      ]
     },
     "metadata": {},
     "output_type": "display_data"
    },
    {
     "data": {
      "text/html": [
       "<pre style=\"white-space:pre;overflow-x:auto;line-height:normal;font-family:Menlo,'DejaVu Sans Mono',consolas,'Courier New',monospace\"><span style=\"color: #008080; text-decoration-color: #008080; font-weight: bold\">28425</span>,<span style=\"color: #008080; text-decoration-color: #008080; font-weight: bold\">349.6554556369001</span>,<span style=\"color: #008080; text-decoration-color: #008080; font-weight: bold\">-2.586108776207653</span>,F\n",
       "</pre>\n"
      ],
      "text/plain": [
       "\u001b[1;36m28425\u001b[0m,\u001b[1;36m349.6554556369001\u001b[0m,\u001b[1;36m-2.586108776207653\u001b[0m,F\n"
      ]
     },
     "metadata": {},
     "output_type": "display_data"
    },
    {
     "data": {
      "text/html": [
       "<pre style=\"white-space:pre;overflow-x:auto;line-height:normal;font-family:Menlo,'DejaVu Sans Mono',consolas,'Courier New',monospace\"><span style=\"color: #008080; text-decoration-color: #008080; font-weight: bold\">45376</span>,<span style=\"color: #008080; text-decoration-color: #008080; font-weight: bold\">41.39889531303026</span>,<span style=\"color: #008080; text-decoration-color: #008080; font-weight: bold\">-0.1052857136833338</span>,F\n",
       "</pre>\n"
      ],
      "text/plain": [
       "\u001b[1;36m45376\u001b[0m,\u001b[1;36m41.39889531303026\u001b[0m,\u001b[1;36m-0.1052857136833338\u001b[0m,F\n"
      ]
     },
     "metadata": {},
     "output_type": "display_data"
    },
    {
     "data": {
      "text/html": [
       "<pre style=\"white-space:pre;overflow-x:auto;line-height:normal;font-family:Menlo,'DejaVu Sans Mono',consolas,'Courier New',monospace\"><span style=\"color: #008080; text-decoration-color: #008080; font-weight: bold\">41588</span>,<span style=\"color: #008080; text-decoration-color: #008080; font-weight: bold\">140.66250810364244</span>,<span style=\"color: #008080; text-decoration-color: #008080; font-weight: bold\">19.72820757674869</span>,F\n",
       "</pre>\n"
      ],
      "text/plain": [
       "\u001b[1;36m41588\u001b[0m,\u001b[1;36m140.66250810364244\u001b[0m,\u001b[1;36m19.72820757674869\u001b[0m,F\n"
      ]
     },
     "metadata": {},
     "output_type": "display_data"
    },
    {
     "data": {
      "text/html": [
       "<pre style=\"white-space:pre;overflow-x:auto;line-height:normal;font-family:Menlo,'DejaVu Sans Mono',consolas,'Courier New',monospace\"><span style=\"color: #008080; text-decoration-color: #008080; font-weight: bold\">16686</span>,<span style=\"color: #008080; text-decoration-color: #008080; font-weight: bold\">273.6179832804144</span>,<span style=\"color: #008080; text-decoration-color: #008080; font-weight: bold\">49.95061419485501</span>,F\n",
       "</pre>\n"
      ],
      "text/plain": [
       "\u001b[1;36m16686\u001b[0m,\u001b[1;36m273.6179832804144\u001b[0m,\u001b[1;36m49.95061419485501\u001b[0m,F\n"
      ]
     },
     "metadata": {},
     "output_type": "display_data"
    },
    {
     "data": {
      "text/html": [
       "<pre style=\"white-space:pre;overflow-x:auto;line-height:normal;font-family:Menlo,'DejaVu Sans Mono',consolas,'Courier New',monospace\"><span style=\"color: #008080; text-decoration-color: #008080; font-weight: bold\">44680</span>,<span style=\"color: #008080; text-decoration-color: #008080; font-weight: bold\">316.8508391663843</span>,<span style=\"color: #008080; text-decoration-color: #008080; font-weight: bold\">-9.974036605837169</span>,F\n",
       "</pre>\n"
      ],
      "text/plain": [
       "\u001b[1;36m44680\u001b[0m,\u001b[1;36m316.8508391663843\u001b[0m,\u001b[1;36m-9.974036605837169\u001b[0m,F\n"
      ]
     },
     "metadata": {},
     "output_type": "display_data"
    },
    {
     "data": {
      "text/html": [
       "<pre style=\"white-space:pre;overflow-x:auto;line-height:normal;font-family:Menlo,'DejaVu Sans Mono',consolas,'Courier New',monospace\"><span style=\"color: #008080; text-decoration-color: #008080; font-weight: bold\">16955</span>,<span style=\"color: #008080; text-decoration-color: #008080; font-weight: bold\">257.4789754584794</span>,<span style=\"color: #008080; text-decoration-color: #008080; font-weight: bold\">16.01804869198263</span>,F\n",
       "</pre>\n"
      ],
      "text/plain": [
       "\u001b[1;36m16955\u001b[0m,\u001b[1;36m257.4789754584794\u001b[0m,\u001b[1;36m16.01804869198263\u001b[0m,F\n"
      ]
     },
     "metadata": {},
     "output_type": "display_data"
    },
    {
     "data": {
      "text/html": [
       "<pre style=\"white-space:pre;overflow-x:auto;line-height:normal;font-family:Menlo,'DejaVu Sans Mono',consolas,'Courier New',monospace\"><span style=\"color: #008080; text-decoration-color: #008080; font-weight: bold\">16654</span>,<span style=\"color: #008080; text-decoration-color: #008080; font-weight: bold\">260.3934491091732</span>,<span style=\"color: #008080; text-decoration-color: #008080; font-weight: bold\">58.21751962226596</span>,F\n",
       "</pre>\n"
      ],
      "text/plain": [
       "\u001b[1;36m16654\u001b[0m,\u001b[1;36m260.3934491091732\u001b[0m,\u001b[1;36m58.21751962226596\u001b[0m,F\n"
      ]
     },
     "metadata": {},
     "output_type": "display_data"
    },
    {
     "data": {
      "text/html": [
       "<pre style=\"white-space:pre;overflow-x:auto;line-height:normal;font-family:Menlo,'DejaVu Sans Mono',consolas,'Courier New',monospace\"><span style=\"color: #008080; text-decoration-color: #008080; font-weight: bold\">9001</span>,<span style=\"color: #008080; text-decoration-color: #008080; font-weight: bold\">123.52231897906672</span>,<span style=\"color: #008080; text-decoration-color: #008080; font-weight: bold\">3.9391689735437314</span>,F\n",
       "</pre>\n"
      ],
      "text/plain": [
       "\u001b[1;36m9001\u001b[0m,\u001b[1;36m123.52231897906672\u001b[0m,\u001b[1;36m3.9391689735437314\u001b[0m,F\n"
      ]
     },
     "metadata": {},
     "output_type": "display_data"
    },
    {
     "data": {
      "text/html": [
       "<pre style=\"white-space:pre;overflow-x:auto;line-height:normal;font-family:Menlo,'DejaVu Sans Mono',consolas,'Courier New',monospace\"><span style=\"color: #008080; text-decoration-color: #008080; font-weight: bold\">10725</span>,<span style=\"color: #008080; text-decoration-color: #008080; font-weight: bold\">200.9584615023744</span>,<span style=\"color: #008080; text-decoration-color: #008080; font-weight: bold\">27.724088632583648</span>,F\n",
       "</pre>\n"
      ],
      "text/plain": [
       "\u001b[1;36m10725\u001b[0m,\u001b[1;36m200.9584615023744\u001b[0m,\u001b[1;36m27.724088632583648\u001b[0m,F\n"
      ]
     },
     "metadata": {},
     "output_type": "display_data"
    },
    {
     "data": {
      "text/html": [
       "<pre style=\"white-space:pre;overflow-x:auto;line-height:normal;font-family:Menlo,'DejaVu Sans Mono',consolas,'Courier New',monospace\"><span style=\"color: #008080; text-decoration-color: #008080; font-weight: bold\">45502</span>,<span style=\"color: #008080; text-decoration-color: #008080; font-weight: bold\">352.4560585670704</span>,<span style=\"color: #008080; text-decoration-color: #008080; font-weight: bold\">44.13121014237038</span>,F\n",
       "</pre>\n"
      ],
      "text/plain": [
       "\u001b[1;36m45502\u001b[0m,\u001b[1;36m352.4560585670704\u001b[0m,\u001b[1;36m44.13121014237038\u001b[0m,F\n"
      ]
     },
     "metadata": {},
     "output_type": "display_data"
    },
    {
     "data": {
      "text/html": [
       "<pre style=\"white-space:pre;overflow-x:auto;line-height:normal;font-family:Menlo,'DejaVu Sans Mono',consolas,'Courier New',monospace\"><span style=\"color: #008080; text-decoration-color: #008080; font-weight: bold\">43449</span>,<span style=\"color: #008080; text-decoration-color: #008080; font-weight: bold\">287.1403511631046</span>,<span style=\"color: #008080; text-decoration-color: #008080; font-weight: bold\">47.36471581949804</span>,F\n",
       "</pre>\n"
      ],
      "text/plain": [
       "\u001b[1;36m43449\u001b[0m,\u001b[1;36m287.1403511631046\u001b[0m,\u001b[1;36m47.36471581949804\u001b[0m,F\n"
      ]
     },
     "metadata": {},
     "output_type": "display_data"
    },
    {
     "data": {
      "text/html": [
       "<pre style=\"white-space:pre;overflow-x:auto;line-height:normal;font-family:Menlo,'DejaVu Sans Mono',consolas,'Courier New',monospace\"><span style=\"color: #008080; text-decoration-color: #008080; font-weight: bold\">46767</span>,<span style=\"color: #008080; text-decoration-color: #008080; font-weight: bold\">188.17870641469895</span>,<span style=\"color: #008080; text-decoration-color: #008080; font-weight: bold\">-34.410847064053094</span>,F\n",
       "</pre>\n"
      ],
      "text/plain": [
       "\u001b[1;36m46767\u001b[0m,\u001b[1;36m188.17870641469895\u001b[0m,\u001b[1;36m-34.410847064053094\u001b[0m,F\n"
      ]
     },
     "metadata": {},
     "output_type": "display_data"
    },
    {
     "data": {
      "text/html": [
       "<pre style=\"white-space:pre;overflow-x:auto;line-height:normal;font-family:Menlo,'DejaVu Sans Mono',consolas,'Courier New',monospace\"><span style=\"color: #008080; text-decoration-color: #008080; font-weight: bold\">44006</span>,<span style=\"color: #008080; text-decoration-color: #008080; font-weight: bold\">235.57323601266864</span>,<span style=\"color: #008080; text-decoration-color: #008080; font-weight: bold\">39.48794242407392</span>,F\n",
       "</pre>\n"
      ],
      "text/plain": [
       "\u001b[1;36m44006\u001b[0m,\u001b[1;36m235.57323601266864\u001b[0m,\u001b[1;36m39.48794242407392\u001b[0m,F\n"
      ]
     },
     "metadata": {},
     "output_type": "display_data"
    },
    {
     "data": {
      "text/html": [
       "<pre style=\"white-space:pre;overflow-x:auto;line-height:normal;font-family:Menlo,'DejaVu Sans Mono',consolas,'Courier New',monospace\"><span style=\"color: #008080; text-decoration-color: #008080; font-weight: bold\">7063</span>,<span style=\"color: #008080; text-decoration-color: #008080; font-weight: bold\">325.5796179228466</span>,<span style=\"color: #008080; text-decoration-color: #008080; font-weight: bold\">12.371322895799938</span>,F\n",
       "</pre>\n"
      ],
      "text/plain": [
       "\u001b[1;36m7063\u001b[0m,\u001b[1;36m325.5796179228466\u001b[0m,\u001b[1;36m12.371322895799938\u001b[0m,F\n"
      ]
     },
     "metadata": {},
     "output_type": "display_data"
    },
    {
     "data": {
      "text/html": [
       "<pre style=\"white-space:pre;overflow-x:auto;line-height:normal;font-family:Menlo,'DejaVu Sans Mono',consolas,'Courier New',monospace\"><span style=\"color: #008080; text-decoration-color: #008080; font-weight: bold\">44246</span>,<span style=\"color: #008080; text-decoration-color: #008080; font-weight: bold\">292.594864673567</span>,<span style=\"color: #008080; text-decoration-color: #008080; font-weight: bold\">-23.959460079079584</span>,F\n",
       "</pre>\n"
      ],
      "text/plain": [
       "\u001b[1;36m44246\u001b[0m,\u001b[1;36m292.594864673567\u001b[0m,\u001b[1;36m-23.959460079079584\u001b[0m,F\n"
      ]
     },
     "metadata": {},
     "output_type": "display_data"
    },
    {
     "data": {
      "text/html": [
       "<pre style=\"white-space:pre;overflow-x:auto;line-height:normal;font-family:Menlo,'DejaVu Sans Mono',consolas,'Courier New',monospace\"><span style=\"color: #008080; text-decoration-color: #008080; font-weight: bold\">1937</span>,<span style=\"color: #008080; text-decoration-color: #008080; font-weight: bold\">5.677162362200873</span>,<span style=\"color: #008080; text-decoration-color: #008080; font-weight: bold\">0.8804269395486747</span>,F\n",
       "</pre>\n"
      ],
      "text/plain": [
       "\u001b[1;36m1937\u001b[0m,\u001b[1;36m5.677162362200873\u001b[0m,\u001b[1;36m0.8804269395486747\u001b[0m,F\n"
      ]
     },
     "metadata": {},
     "output_type": "display_data"
    },
    {
     "data": {
      "text/html": [
       "<pre style=\"white-space:pre;overflow-x:auto;line-height:normal;font-family:Menlo,'DejaVu Sans Mono',consolas,'Courier New',monospace\"><span style=\"color: #008080; text-decoration-color: #008080; font-weight: bold\">8833</span>,<span style=\"color: #008080; text-decoration-color: #008080; font-weight: bold\">79.49167568078585</span>,<span style=\"color: #008080; text-decoration-color: #008080; font-weight: bold\">-37.03541365269729</span>,F\n",
       "</pre>\n"
      ],
      "text/plain": [
       "\u001b[1;36m8833\u001b[0m,\u001b[1;36m79.49167568078585\u001b[0m,\u001b[1;36m-37.03541365269729\u001b[0m,F\n"
      ]
     },
     "metadata": {},
     "output_type": "display_data"
    },
    {
     "data": {
      "text/html": [
       "<pre style=\"white-space:pre;overflow-x:auto;line-height:normal;font-family:Menlo,'DejaVu Sans Mono',consolas,'Courier New',monospace\"><span style=\"color: #008080; text-decoration-color: #008080; font-weight: bold\">35213</span>,<span style=\"color: #008080; text-decoration-color: #008080; font-weight: bold\">38.03584806631731</span>,<span style=\"color: #008080; text-decoration-color: #008080; font-weight: bold\">-5.25995992681577</span>,F\n",
       "</pre>\n"
      ],
      "text/plain": [
       "\u001b[1;36m35213\u001b[0m,\u001b[1;36m38.03584806631731\u001b[0m,\u001b[1;36m-5.25995992681577\u001b[0m,F\n"
      ]
     },
     "metadata": {},
     "output_type": "display_data"
    },
    {
     "data": {
      "text/html": [
       "<pre style=\"white-space:pre;overflow-x:auto;line-height:normal;font-family:Menlo,'DejaVu Sans Mono',consolas,'Courier New',monospace\"><span style=\"color: #008080; text-decoration-color: #008080; font-weight: bold\">44226</span>,<span style=\"color: #008080; text-decoration-color: #008080; font-weight: bold\">283.0164817842036</span>,<span style=\"color: #008080; text-decoration-color: #008080; font-weight: bold\">-38.79285965149892</span>,F\n",
       "</pre>\n"
      ],
      "text/plain": [
       "\u001b[1;36m44226\u001b[0m,\u001b[1;36m283.0164817842036\u001b[0m,\u001b[1;36m-38.79285965149892\u001b[0m,F\n"
      ]
     },
     "metadata": {},
     "output_type": "display_data"
    },
    {
     "data": {
      "text/html": [
       "<pre style=\"white-space:pre;overflow-x:auto;line-height:normal;font-family:Menlo,'DejaVu Sans Mono',consolas,'Courier New',monospace\"><span style=\"color: #008080; text-decoration-color: #008080; font-weight: bold\">8830</span>,<span style=\"color: #008080; text-decoration-color: #008080; font-weight: bold\">151.04761512119012</span>,<span style=\"color: #008080; text-decoration-color: #008080; font-weight: bold\">-34.53343233791878</span>,F\n",
       "</pre>\n"
      ],
      "text/plain": [
       "\u001b[1;36m8830\u001b[0m,\u001b[1;36m151.04761512119012\u001b[0m,\u001b[1;36m-34.53343233791878\u001b[0m,F\n"
      ]
     },
     "metadata": {},
     "output_type": "display_data"
    },
    {
     "data": {
      "text/html": [
       "<pre style=\"white-space:pre;overflow-x:auto;line-height:normal;font-family:Menlo,'DejaVu Sans Mono',consolas,'Courier New',monospace\"><span style=\"color: #008080; text-decoration-color: #008080; font-weight: bold\">44226</span>,<span style=\"color: #008080; text-decoration-color: #008080; font-weight: bold\">282.8162499769506</span>,<span style=\"color: #008080; text-decoration-color: #008080; font-weight: bold\">-38.75410038158896</span>,F\n",
       "</pre>\n"
      ],
      "text/plain": [
       "\u001b[1;36m44226\u001b[0m,\u001b[1;36m282.8162499769506\u001b[0m,\u001b[1;36m-38.75410038158896\u001b[0m,F\n"
      ]
     },
     "metadata": {},
     "output_type": "display_data"
    },
    {
     "data": {
      "text/html": [
       "<pre style=\"white-space:pre;overflow-x:auto;line-height:normal;font-family:Menlo,'DejaVu Sans Mono',consolas,'Courier New',monospace\"><span style=\"color: #008080; text-decoration-color: #008080; font-weight: bold\">40996</span>,<span style=\"color: #008080; text-decoration-color: #008080; font-weight: bold\">75.255423287282</span>,<span style=\"color: #008080; text-decoration-color: #008080; font-weight: bold\">16.79433033158568</span>,F\n",
       "</pre>\n"
      ],
      "text/plain": [
       "\u001b[1;36m40996\u001b[0m,\u001b[1;36m75.255423287282\u001b[0m,\u001b[1;36m16.79433033158568\u001b[0m,F\n"
      ]
     },
     "metadata": {},
     "output_type": "display_data"
    },
    {
     "data": {
      "text/html": [
       "<pre style=\"white-space:pre;overflow-x:auto;line-height:normal;font-family:Menlo,'DejaVu Sans Mono',consolas,'Courier New',monospace\"><span style=\"color: #008080; text-decoration-color: #008080; font-weight: bold\">40372</span>,<span style=\"color: #008080; text-decoration-color: #008080; font-weight: bold\">37.63718112094996</span>,<span style=\"color: #008080; text-decoration-color: #008080; font-weight: bold\">-4.036317264827212</span>,F\n",
       "</pre>\n"
      ],
      "text/plain": [
       "\u001b[1;36m40372\u001b[0m,\u001b[1;36m37.63718112094996\u001b[0m,\u001b[1;36m-4.036317264827212\u001b[0m,F\n"
      ]
     },
     "metadata": {},
     "output_type": "display_data"
    },
    {
     "data": {
      "text/html": [
       "<pre style=\"white-space:pre;overflow-x:auto;line-height:normal;font-family:Menlo,'DejaVu Sans Mono',consolas,'Courier New',monospace\"><span style=\"color: #008080; text-decoration-color: #008080; font-weight: bold\">3859</span>,<span style=\"color: #008080; text-decoration-color: #008080; font-weight: bold\">134.91578031268318</span>,<span style=\"color: #008080; text-decoration-color: #008080; font-weight: bold\">56.91618153163965</span>,F\n",
       "</pre>\n"
      ],
      "text/plain": [
       "\u001b[1;36m3859\u001b[0m,\u001b[1;36m134.91578031268318\u001b[0m,\u001b[1;36m56.91618153163965\u001b[0m,F\n"
      ]
     },
     "metadata": {},
     "output_type": "display_data"
    },
    {
     "data": {
      "text/html": [
       "<pre style=\"white-space:pre;overflow-x:auto;line-height:normal;font-family:Menlo,'DejaVu Sans Mono',consolas,'Courier New',monospace\"><span style=\"color: #008080; text-decoration-color: #008080; font-weight: bold\">46423</span>,<span style=\"color: #008080; text-decoration-color: #008080; font-weight: bold\">72.78097310623718</span>,<span style=\"color: #008080; text-decoration-color: #008080; font-weight: bold\">16.37987013205903</span>,F\n",
       "</pre>\n"
      ],
      "text/plain": [
       "\u001b[1;36m46423\u001b[0m,\u001b[1;36m72.78097310623718\u001b[0m,\u001b[1;36m16.37987013205903\u001b[0m,F\n"
      ]
     },
     "metadata": {},
     "output_type": "display_data"
    },
    {
     "data": {
      "text/html": [
       "<pre style=\"white-space:pre;overflow-x:auto;line-height:normal;font-family:Menlo,'DejaVu Sans Mono',consolas,'Courier New',monospace\"><span style=\"color: #008080; text-decoration-color: #008080; font-weight: bold\">40324</span>,<span style=\"color: #008080; text-decoration-color: #008080; font-weight: bold\">37.43444094760518</span>,<span style=\"color: #008080; text-decoration-color: #008080; font-weight: bold\">-8.087622967768446</span>,F\n",
       "</pre>\n"
      ],
      "text/plain": [
       "\u001b[1;36m40324\u001b[0m,\u001b[1;36m37.43444094760518\u001b[0m,\u001b[1;36m-8.087622967768446\u001b[0m,F\n"
      ]
     },
     "metadata": {},
     "output_type": "display_data"
    },
    {
     "data": {
      "text/html": [
       "<pre style=\"white-space:pre;overflow-x:auto;line-height:normal;font-family:Menlo,'DejaVu Sans Mono',consolas,'Courier New',monospace\"><span style=\"color: #008080; text-decoration-color: #008080; font-weight: bold\">9722</span>,<span style=\"color: #008080; text-decoration-color: #008080; font-weight: bold\">166.24111477935136</span>,<span style=\"color: #008080; text-decoration-color: #008080; font-weight: bold\">-17.452352775480975</span>,F\n",
       "</pre>\n"
      ],
      "text/plain": [
       "\u001b[1;36m9722\u001b[0m,\u001b[1;36m166.24111477935136\u001b[0m,\u001b[1;36m-17.452352775480975\u001b[0m,F\n"
      ]
     },
     "metadata": {},
     "output_type": "display_data"
    },
    {
     "data": {
      "text/html": [
       "<pre style=\"white-space:pre;overflow-x:auto;line-height:normal;font-family:Menlo,'DejaVu Sans Mono',consolas,'Courier New',monospace\"><span style=\"color: #008080; text-decoration-color: #008080; font-weight: bold\">10545</span>,<span style=\"color: #008080; text-decoration-color: #008080; font-weight: bold\">162.8796756846254</span>,<span style=\"color: #008080; text-decoration-color: #008080; font-weight: bold\">57.57728306222747</span>,F\n",
       "</pre>\n"
      ],
      "text/plain": [
       "\u001b[1;36m10545\u001b[0m,\u001b[1;36m162.8796756846254\u001b[0m,\u001b[1;36m57.57728306222747\u001b[0m,F\n"
      ]
     },
     "metadata": {},
     "output_type": "display_data"
    },
    {
     "data": {
      "text/html": [
       "<pre style=\"white-space:pre;overflow-x:auto;line-height:normal;font-family:Menlo,'DejaVu Sans Mono',consolas,'Courier New',monospace\"><span style=\"color: #008080; text-decoration-color: #008080; font-weight: bold\">44414</span>,<span style=\"color: #008080; text-decoration-color: #008080; font-weight: bold\">340.1281952941136</span>,<span style=\"color: #008080; text-decoration-color: #008080; font-weight: bold\">-34.09171637989393</span>,F\n",
       "</pre>\n"
      ],
      "text/plain": [
       "\u001b[1;36m44414\u001b[0m,\u001b[1;36m340.1281952941136\u001b[0m,\u001b[1;36m-34.09171637989393\u001b[0m,F\n"
      ]
     },
     "metadata": {},
     "output_type": "display_data"
    },
    {
     "data": {
      "text/html": [
       "<pre style=\"white-space:pre;overflow-x:auto;line-height:normal;font-family:Menlo,'DejaVu Sans Mono',consolas,'Courier New',monospace\"><span style=\"color: #008080; text-decoration-color: #008080; font-weight: bold\">45814</span>,<span style=\"color: #008080; text-decoration-color: #008080; font-weight: bold\">31.25683213581511</span>,<span style=\"color: #008080; text-decoration-color: #008080; font-weight: bold\">32.5952910532004</span>,F\n",
       "</pre>\n"
      ],
      "text/plain": [
       "\u001b[1;36m45814\u001b[0m,\u001b[1;36m31.25683213581511\u001b[0m,\u001b[1;36m32.5952910532004\u001b[0m,F\n"
      ]
     },
     "metadata": {},
     "output_type": "display_data"
    },
    {
     "data": {
      "text/html": [
       "<pre style=\"white-space:pre;overflow-x:auto;line-height:normal;font-family:Menlo,'DejaVu Sans Mono',consolas,'Courier New',monospace\"><span style=\"color: #008080; text-decoration-color: #008080; font-weight: bold\">42141</span>,<span style=\"color: #008080; text-decoration-color: #008080; font-weight: bold\">196.48404244609904</span>,<span style=\"color: #008080; text-decoration-color: #008080; font-weight: bold\">3.726355129414272</span>,F\n",
       "</pre>\n"
      ],
      "text/plain": [
       "\u001b[1;36m42141\u001b[0m,\u001b[1;36m196.48404244609904\u001b[0m,\u001b[1;36m3.726355129414272\u001b[0m,F\n"
      ]
     },
     "metadata": {},
     "output_type": "display_data"
    },
    {
     "data": {
      "text/html": [
       "<pre style=\"white-space:pre;overflow-x:auto;line-height:normal;font-family:Menlo,'DejaVu Sans Mono',consolas,'Courier New',monospace\"><span style=\"color: #008080; text-decoration-color: #008080; font-weight: bold\">28503</span>,<span style=\"color: #008080; text-decoration-color: #008080; font-weight: bold\">350.9966062685189</span>,<span style=\"color: #008080; text-decoration-color: #008080; font-weight: bold\">2.5259039872210205</span>,F\n",
       "</pre>\n"
      ],
      "text/plain": [
       "\u001b[1;36m28503\u001b[0m,\u001b[1;36m350.9966062685189\u001b[0m,\u001b[1;36m2.5259039872210205\u001b[0m,F\n"
      ]
     },
     "metadata": {},
     "output_type": "display_data"
    },
    {
     "data": {
      "text/html": [
       "<pre style=\"white-space:pre;overflow-x:auto;line-height:normal;font-family:Menlo,'DejaVu Sans Mono',consolas,'Courier New',monospace\"><span style=\"color: #008080; text-decoration-color: #008080; font-weight: bold\">18589</span>,<span style=\"color: #008080; text-decoration-color: #008080; font-weight: bold\">53.3150890595636</span>,<span style=\"color: #008080; text-decoration-color: #008080; font-weight: bold\">-26.91888309388457</span>,F\n",
       "</pre>\n"
      ],
      "text/plain": [
       "\u001b[1;36m18589\u001b[0m,\u001b[1;36m53.3150890595636\u001b[0m,\u001b[1;36m-26.91888309388457\u001b[0m,F\n"
      ]
     },
     "metadata": {},
     "output_type": "display_data"
    },
    {
     "data": {
      "text/html": [
       "<pre style=\"white-space:pre;overflow-x:auto;line-height:normal;font-family:Menlo,'DejaVu Sans Mono',consolas,'Courier New',monospace\"><span style=\"color: #008080; text-decoration-color: #008080; font-weight: bold\">35688</span>,<span style=\"color: #008080; text-decoration-color: #008080; font-weight: bold\">114.41773383088652</span>,<span style=\"color: #008080; text-decoration-color: #008080; font-weight: bold\">21.203221264696506</span>,F\n",
       "</pre>\n"
      ],
      "text/plain": [
       "\u001b[1;36m35688\u001b[0m,\u001b[1;36m114.41773383088652\u001b[0m,\u001b[1;36m21.203221264696506\u001b[0m,F\n"
      ]
     },
     "metadata": {},
     "output_type": "display_data"
    },
    {
     "data": {
      "text/html": [
       "<pre style=\"white-space:pre;overflow-x:auto;line-height:normal;font-family:Menlo,'DejaVu Sans Mono',consolas,'Courier New',monospace\"><span style=\"color: #008080; text-decoration-color: #008080; font-weight: bold\">41132</span>,<span style=\"color: #008080; text-decoration-color: #008080; font-weight: bold\">141.87097420414952</span>,<span style=\"color: #008080; text-decoration-color: #008080; font-weight: bold\">39.98339846016813</span>,F\n",
       "</pre>\n"
      ],
      "text/plain": [
       "\u001b[1;36m41132\u001b[0m,\u001b[1;36m141.87097420414952\u001b[0m,\u001b[1;36m39.98339846016813\u001b[0m,F\n"
      ]
     },
     "metadata": {},
     "output_type": "display_data"
    },
    {
     "data": {
      "text/html": [
       "<pre style=\"white-space:pre;overflow-x:auto;line-height:normal;font-family:Menlo,'DejaVu Sans Mono',consolas,'Courier New',monospace\"><span style=\"color: #008080; text-decoration-color: #008080; font-weight: bold\">6513</span>,<span style=\"color: #008080; text-decoration-color: #008080; font-weight: bold\">289.2964438241392</span>,<span style=\"color: #008080; text-decoration-color: #008080; font-weight: bold\">-60.80920641176608</span>,F\n",
       "</pre>\n"
      ],
      "text/plain": [
       "\u001b[1;36m6513\u001b[0m,\u001b[1;36m289.2964438241392\u001b[0m,\u001b[1;36m-60.80920641176608\u001b[0m,F\n"
      ]
     },
     "metadata": {},
     "output_type": "display_data"
    },
    {
     "data": {
      "text/html": [
       "<pre style=\"white-space:pre;overflow-x:auto;line-height:normal;font-family:Menlo,'DejaVu Sans Mono',consolas,'Courier New',monospace\"><span style=\"color: #008080; text-decoration-color: #008080; font-weight: bold\">35994</span>,<span style=\"color: #008080; text-decoration-color: #008080; font-weight: bold\">123.92918495097416</span>,<span style=\"color: #008080; text-decoration-color: #008080; font-weight: bold\">-1.352788991476517</span>,F\n",
       "</pre>\n"
      ],
      "text/plain": [
       "\u001b[1;36m35994\u001b[0m,\u001b[1;36m123.92918495097416\u001b[0m,\u001b[1;36m-1.352788991476517\u001b[0m,F\n"
      ]
     },
     "metadata": {},
     "output_type": "display_data"
    },
    {
     "data": {
      "text/html": [
       "<pre style=\"white-space:pre;overflow-x:auto;line-height:normal;font-family:Menlo,'DejaVu Sans Mono',consolas,'Courier New',monospace\"><span style=\"color: #008080; text-decoration-color: #008080; font-weight: bold\">23330</span>,<span style=\"color: #008080; text-decoration-color: #008080; font-weight: bold\">354.8410852010175</span>,<span style=\"color: #008080; text-decoration-color: #008080; font-weight: bold\">-13.44579911431193</span>,F\n",
       "</pre>\n"
      ],
      "text/plain": [
       "\u001b[1;36m23330\u001b[0m,\u001b[1;36m354.8410852010175\u001b[0m,\u001b[1;36m-13.44579911431193\u001b[0m,F\n"
      ]
     },
     "metadata": {},
     "output_type": "display_data"
    },
    {
     "data": {
      "text/html": [
       "<pre style=\"white-space:pre;overflow-x:auto;line-height:normal;font-family:Menlo,'DejaVu Sans Mono',consolas,'Courier New',monospace\"><span style=\"color: #008080; text-decoration-color: #008080; font-weight: bold\">46029</span>,<span style=\"color: #008080; text-decoration-color: #008080; font-weight: bold\">64.31901152606584</span>,<span style=\"color: #008080; text-decoration-color: #008080; font-weight: bold\">12.231862083433644</span>,F\n",
       "</pre>\n"
      ],
      "text/plain": [
       "\u001b[1;36m46029\u001b[0m,\u001b[1;36m64.31901152606584\u001b[0m,\u001b[1;36m12.231862083433644\u001b[0m,F\n"
      ]
     },
     "metadata": {},
     "output_type": "display_data"
    },
    {
     "data": {
      "text/html": [
       "<pre style=\"white-space:pre;overflow-x:auto;line-height:normal;font-family:Menlo,'DejaVu Sans Mono',consolas,'Courier New',monospace\"><span style=\"color: #008080; text-decoration-color: #008080; font-weight: bold\">20600</span>,<span style=\"color: #008080; text-decoration-color: #008080; font-weight: bold\">142.23242384331695</span>,<span style=\"color: #008080; text-decoration-color: #008080; font-weight: bold\">3.736894114040069</span>,F\n",
       "</pre>\n"
      ],
      "text/plain": [
       "\u001b[1;36m20600\u001b[0m,\u001b[1;36m142.23242384331695\u001b[0m,\u001b[1;36m3.736894114040069\u001b[0m,F\n"
      ]
     },
     "metadata": {},
     "output_type": "display_data"
    },
    {
     "data": {
      "text/html": [
       "<pre style=\"white-space:pre;overflow-x:auto;line-height:normal;font-family:Menlo,'DejaVu Sans Mono',consolas,'Courier New',monospace\"><span style=\"color: #008080; text-decoration-color: #008080; font-weight: bold\">35632</span>,<span style=\"color: #008080; text-decoration-color: #008080; font-weight: bold\">131.7134435321832</span>,<span style=\"color: #008080; text-decoration-color: #008080; font-weight: bold\">-2.872316347814037</span>,F\n",
       "</pre>\n"
      ],
      "text/plain": [
       "\u001b[1;36m35632\u001b[0m,\u001b[1;36m131.7134435321832\u001b[0m,\u001b[1;36m-2.872316347814037\u001b[0m,F\n"
      ]
     },
     "metadata": {},
     "output_type": "display_data"
    },
    {
     "data": {
      "text/html": [
       "<pre style=\"white-space:pre;overflow-x:auto;line-height:normal;font-family:Menlo,'DejaVu Sans Mono',consolas,'Courier New',monospace\"><span style=\"color: #008080; text-decoration-color: #008080; font-weight: bold\">46035</span>,<span style=\"color: #008080; text-decoration-color: #008080; font-weight: bold\">75.53718436960958</span>,<span style=\"color: #008080; text-decoration-color: #008080; font-weight: bold\">-0.6200693828123703</span>,F\n",
       "</pre>\n"
      ],
      "text/plain": [
       "\u001b[1;36m46035\u001b[0m,\u001b[1;36m75.53718436960958\u001b[0m,\u001b[1;36m-0.6200693828123703\u001b[0m,F\n"
      ]
     },
     "metadata": {},
     "output_type": "display_data"
    },
    {
     "data": {
      "text/html": [
       "<pre style=\"white-space:pre;overflow-x:auto;line-height:normal;font-family:Menlo,'DejaVu Sans Mono',consolas,'Courier New',monospace\"><span style=\"color: #008080; text-decoration-color: #008080; font-weight: bold\">18915</span>,<span style=\"color: #008080; text-decoration-color: #008080; font-weight: bold\">35.2584636096904</span>,<span style=\"color: #008080; text-decoration-color: #008080; font-weight: bold\">-6.468177623047276</span>,F\n",
       "</pre>\n"
      ],
      "text/plain": [
       "\u001b[1;36m18915\u001b[0m,\u001b[1;36m35.2584636096904\u001b[0m,\u001b[1;36m-6.468177623047276\u001b[0m,F\n"
      ]
     },
     "metadata": {},
     "output_type": "display_data"
    },
    {
     "data": {
      "text/html": [
       "<pre style=\"white-space:pre;overflow-x:auto;line-height:normal;font-family:Menlo,'DejaVu Sans Mono',consolas,'Courier New',monospace\"><span style=\"color: #008080; text-decoration-color: #008080; font-weight: bold\">42907</span>,<span style=\"color: #008080; text-decoration-color: #008080; font-weight: bold\">213.09989143088544</span>,<span style=\"color: #008080; text-decoration-color: #008080; font-weight: bold\">16.661914228215274</span>,F\n",
       "</pre>\n"
      ],
      "text/plain": [
       "\u001b[1;36m42907\u001b[0m,\u001b[1;36m213.09989143088544\u001b[0m,\u001b[1;36m16.661914228215274\u001b[0m,F\n"
      ]
     },
     "metadata": {},
     "output_type": "display_data"
    },
    {
     "data": {
      "text/html": [
       "<pre style=\"white-space:pre;overflow-x:auto;line-height:normal;font-family:Menlo,'DejaVu Sans Mono',consolas,'Courier New',monospace\"><span style=\"color: #008080; text-decoration-color: #008080; font-weight: bold\">45705</span>,<span style=\"color: #008080; text-decoration-color: #008080; font-weight: bold\">12.736534614014383</span>,<span style=\"color: #008080; text-decoration-color: #008080; font-weight: bold\">-40.25187402407421</span>,F\n",
       "</pre>\n"
      ],
      "text/plain": [
       "\u001b[1;36m45705\u001b[0m,\u001b[1;36m12.736534614014383\u001b[0m,\u001b[1;36m-40.25187402407421\u001b[0m,F\n"
      ]
     },
     "metadata": {},
     "output_type": "display_data"
    },
    {
     "data": {
      "text/html": [
       "<pre style=\"white-space:pre;overflow-x:auto;line-height:normal;font-family:Menlo,'DejaVu Sans Mono',consolas,'Courier New',monospace\"><span style=\"color: #008080; text-decoration-color: #008080; font-weight: bold\">34272</span>,<span style=\"color: #008080; text-decoration-color: #008080; font-weight: bold\">28.172315844145167</span>,<span style=\"color: #008080; text-decoration-color: #008080; font-weight: bold\">-14.035368094456718</span>,F\n",
       "</pre>\n"
      ],
      "text/plain": [
       "\u001b[1;36m34272\u001b[0m,\u001b[1;36m28.172315844145167\u001b[0m,\u001b[1;36m-14.035368094456718\u001b[0m,F\n"
      ]
     },
     "metadata": {},
     "output_type": "display_data"
    },
    {
     "data": {
      "text/html": [
       "<pre style=\"white-space:pre;overflow-x:auto;line-height:normal;font-family:Menlo,'DejaVu Sans Mono',consolas,'Courier New',monospace\"><span style=\"color: #008080; text-decoration-color: #008080; font-weight: bold\">16603</span>,<span style=\"color: #008080; text-decoration-color: #008080; font-weight: bold\">220.8376403837184</span>,<span style=\"color: #008080; text-decoration-color: #008080; font-weight: bold\">64.0377593212701</span>,F\n",
       "</pre>\n"
      ],
      "text/plain": [
       "\u001b[1;36m16603\u001b[0m,\u001b[1;36m220.8376403837184\u001b[0m,\u001b[1;36m64.0377593212701\u001b[0m,F\n"
      ]
     },
     "metadata": {},
     "output_type": "display_data"
    },
    {
     "data": {
      "text/html": [
       "<pre style=\"white-space:pre;overflow-x:auto;line-height:normal;font-family:Menlo,'DejaVu Sans Mono',consolas,'Courier New',monospace\"><span style=\"color: #008080; text-decoration-color: #008080; font-weight: bold\">41957</span>,<span style=\"color: #008080; text-decoration-color: #008080; font-weight: bold\">158.24205527529026</span>,<span style=\"color: #008080; text-decoration-color: #008080; font-weight: bold\">30.695498911433585</span>,F\n",
       "</pre>\n"
      ],
      "text/plain": [
       "\u001b[1;36m41957\u001b[0m,\u001b[1;36m158.24205527529026\u001b[0m,\u001b[1;36m30.695498911433585\u001b[0m,F\n"
      ]
     },
     "metadata": {},
     "output_type": "display_data"
    },
    {
     "data": {
      "text/html": [
       "<pre style=\"white-space:pre;overflow-x:auto;line-height:normal;font-family:Menlo,'DejaVu Sans Mono',consolas,'Courier New',monospace\"><span style=\"color: #008080; text-decoration-color: #008080; font-weight: bold\">2173</span>,<span style=\"color: #008080; text-decoration-color: #008080; font-weight: bold\">344.0194658131978</span>,<span style=\"color: #008080; text-decoration-color: #008080; font-weight: bold\">-40.21024329518249</span>,F\n",
       "</pre>\n"
      ],
      "text/plain": [
       "\u001b[1;36m2173\u001b[0m,\u001b[1;36m344.0194658131978\u001b[0m,\u001b[1;36m-40.21024329518249\u001b[0m,F\n"
      ]
     },
     "metadata": {},
     "output_type": "display_data"
    },
    {
     "data": {
      "text/html": [
       "<pre style=\"white-space:pre;overflow-x:auto;line-height:normal;font-family:Menlo,'DejaVu Sans Mono',consolas,'Courier New',monospace\"><span style=\"color: #008080; text-decoration-color: #008080; font-weight: bold\">7521</span>,<span style=\"color: #008080; text-decoration-color: #008080; font-weight: bold\">5.43544757355078</span>,<span style=\"color: #008080; text-decoration-color: #008080; font-weight: bold\">15.727405129148048</span>,F\n",
       "</pre>\n"
      ],
      "text/plain": [
       "\u001b[1;36m7521\u001b[0m,\u001b[1;36m5.43544757355078\u001b[0m,\u001b[1;36m15.727405129148048\u001b[0m,F\n"
      ]
     },
     "metadata": {},
     "output_type": "display_data"
    },
    {
     "data": {
      "text/html": [
       "<pre style=\"white-space:pre;overflow-x:auto;line-height:normal;font-family:Menlo,'DejaVu Sans Mono',consolas,'Courier New',monospace\"><span style=\"color: #008080; text-decoration-color: #008080; font-weight: bold\">39907</span>,<span style=\"color: #008080; text-decoration-color: #008080; font-weight: bold\">31.753741483735528</span>,<span style=\"color: #008080; text-decoration-color: #008080; font-weight: bold\">-5.24554021562009</span>,F\n",
       "</pre>\n"
      ],
      "text/plain": [
       "\u001b[1;36m39907\u001b[0m,\u001b[1;36m31.753741483735528\u001b[0m,\u001b[1;36m-5.24554021562009\u001b[0m,F\n"
      ]
     },
     "metadata": {},
     "output_type": "display_data"
    },
    {
     "data": {
      "text/html": [
       "<pre style=\"white-space:pre;overflow-x:auto;line-height:normal;font-family:Menlo,'DejaVu Sans Mono',consolas,'Courier New',monospace\"><span style=\"color: #008080; text-decoration-color: #008080; font-weight: bold\">9893</span>,<span style=\"color: #008080; text-decoration-color: #008080; font-weight: bold\">132.60356155657857</span>,<span style=\"color: #008080; text-decoration-color: #008080; font-weight: bold\">46.32063507523042</span>,F\n",
       "</pre>\n"
      ],
      "text/plain": [
       "\u001b[1;36m9893\u001b[0m,\u001b[1;36m132.60356155657857\u001b[0m,\u001b[1;36m46.32063507523042\u001b[0m,F\n"
      ]
     },
     "metadata": {},
     "output_type": "display_data"
    },
    {
     "data": {
      "text/html": [
       "<pre style=\"white-space:pre;overflow-x:auto;line-height:normal;font-family:Menlo,'DejaVu Sans Mono',consolas,'Courier New',monospace\"><span style=\"color: #008080; text-decoration-color: #008080; font-weight: bold\">18076</span>,<span style=\"color: #008080; text-decoration-color: #008080; font-weight: bold\">356.99763923336167</span>,<span style=\"color: #008080; text-decoration-color: #008080; font-weight: bold\">-8.543383812701244</span>,F\n",
       "</pre>\n"
      ],
      "text/plain": [
       "\u001b[1;36m18076\u001b[0m,\u001b[1;36m356.99763923336167\u001b[0m,\u001b[1;36m-8.543383812701244\u001b[0m,F\n"
      ]
     },
     "metadata": {},
     "output_type": "display_data"
    },
    {
     "data": {
      "text/html": [
       "<pre style=\"white-space:pre;overflow-x:auto;line-height:normal;font-family:Menlo,'DejaVu Sans Mono',consolas,'Courier New',monospace\"><span style=\"color: #008080; text-decoration-color: #008080; font-weight: bold\">41895</span>,<span style=\"color: #008080; text-decoration-color: #008080; font-weight: bold\">151.6673010019524</span>,<span style=\"color: #008080; text-decoration-color: #008080; font-weight: bold\">67.8015595612923</span>,F\n",
       "</pre>\n"
      ],
      "text/plain": [
       "\u001b[1;36m41895\u001b[0m,\u001b[1;36m151.6673010019524\u001b[0m,\u001b[1;36m67.8015595612923\u001b[0m,F\n"
      ]
     },
     "metadata": {},
     "output_type": "display_data"
    },
    {
     "data": {
      "text/html": [
       "<pre style=\"white-space:pre;overflow-x:auto;line-height:normal;font-family:Menlo,'DejaVu Sans Mono',consolas,'Courier New',monospace\"><span style=\"color: #008080; text-decoration-color: #008080; font-weight: bold\">1414</span>,<span style=\"color: #008080; text-decoration-color: #008080; font-weight: bold\">312.37466379790374</span>,<span style=\"color: #008080; text-decoration-color: #008080; font-weight: bold\">-5.677969388911934</span>,F\n",
       "</pre>\n"
      ],
      "text/plain": [
       "\u001b[1;36m1414\u001b[0m,\u001b[1;36m312.37466379790374\u001b[0m,\u001b[1;36m-5.677969388911934\u001b[0m,F\n"
      ]
     },
     "metadata": {},
     "output_type": "display_data"
    },
    {
     "data": {
      "text/html": [
       "<pre style=\"white-space:pre;overflow-x:auto;line-height:normal;font-family:Menlo,'DejaVu Sans Mono',consolas,'Courier New',monospace\"><span style=\"color: #008080; text-decoration-color: #008080; font-weight: bold\">46434</span>,<span style=\"color: #008080; text-decoration-color: #008080; font-weight: bold\">83.02527802325021</span>,<span style=\"color: #008080; text-decoration-color: #008080; font-weight: bold\">-26.76614539295857</span>,F\n",
       "</pre>\n"
      ],
      "text/plain": [
       "\u001b[1;36m46434\u001b[0m,\u001b[1;36m83.02527802325021\u001b[0m,\u001b[1;36m-26.76614539295857\u001b[0m,F\n"
      ]
     },
     "metadata": {},
     "output_type": "display_data"
    },
    {
     "data": {
      "text/html": [
       "<pre style=\"white-space:pre;overflow-x:auto;line-height:normal;font-family:Menlo,'DejaVu Sans Mono',consolas,'Courier New',monospace\"><span style=\"color: #008080; text-decoration-color: #008080; font-weight: bold\">15884</span>,<span style=\"color: #008080; text-decoration-color: #008080; font-weight: bold\">259.19374641479646</span>,<span style=\"color: #008080; text-decoration-color: #008080; font-weight: bold\">58.41975666280635</span>,F\n",
       "</pre>\n"
      ],
      "text/plain": [
       "\u001b[1;36m15884\u001b[0m,\u001b[1;36m259.19374641479646\u001b[0m,\u001b[1;36m58.41975666280635\u001b[0m,F\n"
      ]
     },
     "metadata": {},
     "output_type": "display_data"
    },
    {
     "data": {
      "text/html": [
       "<pre style=\"white-space:pre;overflow-x:auto;line-height:normal;font-family:Menlo,'DejaVu Sans Mono',consolas,'Courier New',monospace\"><span style=\"color: #008080; text-decoration-color: #008080; font-weight: bold\">42635</span>,<span style=\"color: #008080; text-decoration-color: #008080; font-weight: bold\">210.2066564141868</span>,<span style=\"color: #008080; text-decoration-color: #008080; font-weight: bold\">-11.127625711011849</span>,F\n",
       "</pre>\n"
      ],
      "text/plain": [
       "\u001b[1;36m42635\u001b[0m,\u001b[1;36m210.2066564141868\u001b[0m,\u001b[1;36m-11.127625711011849\u001b[0m,F\n"
      ]
     },
     "metadata": {},
     "output_type": "display_data"
    },
    {
     "data": {
      "text/html": [
       "<pre style=\"white-space:pre;overflow-x:auto;line-height:normal;font-family:Menlo,'DejaVu Sans Mono',consolas,'Courier New',monospace\"><span style=\"color: #008080; text-decoration-color: #008080; font-weight: bold\">36095</span>,<span style=\"color: #008080; text-decoration-color: #008080; font-weight: bold\">146.6082054908879</span>,<span style=\"color: #008080; text-decoration-color: #008080; font-weight: bold\">3.5513077160485507</span>,F\n",
       "</pre>\n"
      ],
      "text/plain": [
       "\u001b[1;36m36095\u001b[0m,\u001b[1;36m146.6082054908879\u001b[0m,\u001b[1;36m3.5513077160485507\u001b[0m,F\n"
      ]
     },
     "metadata": {},
     "output_type": "display_data"
    },
    {
     "data": {
      "text/html": [
       "<pre style=\"white-space:pre;overflow-x:auto;line-height:normal;font-family:Menlo,'DejaVu Sans Mono',consolas,'Courier New',monospace\"><span style=\"color: #008080; text-decoration-color: #008080; font-weight: bold\">46332</span>,<span style=\"color: #008080; text-decoration-color: #008080; font-weight: bold\">73.77744715275254</span>,<span style=\"color: #008080; text-decoration-color: #008080; font-weight: bold\">48.06473353966209</span>,F\n",
       "</pre>\n"
      ],
      "text/plain": [
       "\u001b[1;36m46332\u001b[0m,\u001b[1;36m73.77744715275254\u001b[0m,\u001b[1;36m48.06473353966209\u001b[0m,F\n"
      ]
     },
     "metadata": {},
     "output_type": "display_data"
    },
    {
     "data": {
      "text/html": [
       "<pre style=\"white-space:pre;overflow-x:auto;line-height:normal;font-family:Menlo,'DejaVu Sans Mono',consolas,'Courier New',monospace\"><span style=\"color: #008080; text-decoration-color: #008080; font-weight: bold\">8831</span>,<span style=\"color: #008080; text-decoration-color: #008080; font-weight: bold\">151.91992964819022</span>,<span style=\"color: #008080; text-decoration-color: #008080; font-weight: bold\">-34.04675972585311</span>,F\n",
       "</pre>\n"
      ],
      "text/plain": [
       "\u001b[1;36m8831\u001b[0m,\u001b[1;36m151.91992964819022\u001b[0m,\u001b[1;36m-34.04675972585311\u001b[0m,F\n"
      ]
     },
     "metadata": {},
     "output_type": "display_data"
    },
    {
     "data": {
      "text/html": [
       "<pre style=\"white-space:pre;overflow-x:auto;line-height:normal;font-family:Menlo,'DejaVu Sans Mono',consolas,'Courier New',monospace\"><span style=\"color: #008080; text-decoration-color: #008080; font-weight: bold\">3999</span>,<span style=\"color: #008080; text-decoration-color: #008080; font-weight: bold\">139.61569804671873</span>,<span style=\"color: #008080; text-decoration-color: #008080; font-weight: bold\">60.62620308646349</span>,F\n",
       "</pre>\n"
      ],
      "text/plain": [
       "\u001b[1;36m3999\u001b[0m,\u001b[1;36m139.61569804671873\u001b[0m,\u001b[1;36m60.62620308646349\u001b[0m,F\n"
      ]
     },
     "metadata": {},
     "output_type": "display_data"
    },
    {
     "data": {
      "text/html": [
       "<pre style=\"white-space:pre;overflow-x:auto;line-height:normal;font-family:Menlo,'DejaVu Sans Mono',consolas,'Courier New',monospace\"><span style=\"color: #008080; text-decoration-color: #008080; font-weight: bold\">41903</span>,<span style=\"color: #008080; text-decoration-color: #008080; font-weight: bold\">137.5157726854495</span>,<span style=\"color: #008080; text-decoration-color: #008080; font-weight: bold\">35.55889502382353</span>,F\n",
       "</pre>\n"
      ],
      "text/plain": [
       "\u001b[1;36m41903\u001b[0m,\u001b[1;36m137.5157726854495\u001b[0m,\u001b[1;36m35.55889502382353\u001b[0m,F\n"
      ]
     },
     "metadata": {},
     "output_type": "display_data"
    },
    {
     "data": {
      "text/html": [
       "<pre style=\"white-space:pre;overflow-x:auto;line-height:normal;font-family:Menlo,'DejaVu Sans Mono',consolas,'Courier New',monospace\"><span style=\"color: #008080; text-decoration-color: #008080; font-weight: bold\">23745</span>,<span style=\"color: #008080; text-decoration-color: #008080; font-weight: bold\">46.702042044077295</span>,<span style=\"color: #008080; text-decoration-color: #008080; font-weight: bold\">-17.392763019931163</span>,F\n",
       "</pre>\n"
      ],
      "text/plain": [
       "\u001b[1;36m23745\u001b[0m,\u001b[1;36m46.702042044077295\u001b[0m,\u001b[1;36m-17.392763019931163\u001b[0m,F\n"
      ]
     },
     "metadata": {},
     "output_type": "display_data"
    },
    {
     "data": {
      "text/html": [
       "<pre style=\"white-space:pre;overflow-x:auto;line-height:normal;font-family:Menlo,'DejaVu Sans Mono',consolas,'Courier New',monospace\"><span style=\"color: #008080; text-decoration-color: #008080; font-weight: bold\">45496</span>,<span style=\"color: #008080; text-decoration-color: #008080; font-weight: bold\">357.37796509024537</span>,<span style=\"color: #008080; text-decoration-color: #008080; font-weight: bold\">34.148136231901105</span>,F\n",
       "</pre>\n"
      ],
      "text/plain": [
       "\u001b[1;36m45496\u001b[0m,\u001b[1;36m357.37796509024537\u001b[0m,\u001b[1;36m34.148136231901105\u001b[0m,F\n"
      ]
     },
     "metadata": {},
     "output_type": "display_data"
    },
    {
     "data": {
      "text/html": [
       "<pre style=\"white-space:pre;overflow-x:auto;line-height:normal;font-family:Menlo,'DejaVu Sans Mono',consolas,'Courier New',monospace\"><span style=\"color: #008080; text-decoration-color: #008080; font-weight: bold\">36404</span>,<span style=\"color: #008080; text-decoration-color: #008080; font-weight: bold\">164.11013224292725</span>,<span style=\"color: #008080; text-decoration-color: #008080; font-weight: bold\">7.006871409586263</span>,F\n",
       "</pre>\n"
      ],
      "text/plain": [
       "\u001b[1;36m36404\u001b[0m,\u001b[1;36m164.11013224292725\u001b[0m,\u001b[1;36m7.006871409586263\u001b[0m,F\n"
      ]
     },
     "metadata": {},
     "output_type": "display_data"
    },
    {
     "data": {
      "text/html": [
       "<pre style=\"white-space:pre;overflow-x:auto;line-height:normal;font-family:Menlo,'DejaVu Sans Mono',consolas,'Courier New',monospace\"><span style=\"color: #008080; text-decoration-color: #008080; font-weight: bold\">9208</span>,<span style=\"color: #008080; text-decoration-color: #008080; font-weight: bold\">158.64072719970284</span>,<span style=\"color: #008080; text-decoration-color: #008080; font-weight: bold\">57.54160478276043</span>,F\n",
       "</pre>\n"
      ],
      "text/plain": [
       "\u001b[1;36m9208\u001b[0m,\u001b[1;36m158.64072719970284\u001b[0m,\u001b[1;36m57.54160478276043\u001b[0m,F\n"
      ]
     },
     "metadata": {},
     "output_type": "display_data"
    },
    {
     "data": {
      "text/html": [
       "<pre style=\"white-space:pre;overflow-x:auto;line-height:normal;font-family:Menlo,'DejaVu Sans Mono',consolas,'Courier New',monospace\"><span style=\"color: #008080; text-decoration-color: #008080; font-weight: bold\">36056</span>,<span style=\"color: #008080; text-decoration-color: #008080; font-weight: bold\">155.17905816346996</span>,<span style=\"color: #008080; text-decoration-color: #008080; font-weight: bold\">39.31875501629604</span>,F\n",
       "</pre>\n"
      ],
      "text/plain": [
       "\u001b[1;36m36056\u001b[0m,\u001b[1;36m155.17905816346996\u001b[0m,\u001b[1;36m39.31875501629604\u001b[0m,F\n"
      ]
     },
     "metadata": {},
     "output_type": "display_data"
    },
    {
     "data": {
      "text/html": [
       "<pre style=\"white-space:pre;overflow-x:auto;line-height:normal;font-family:Menlo,'DejaVu Sans Mono',consolas,'Courier New',monospace\"><span style=\"color: #008080; text-decoration-color: #008080; font-weight: bold\">28650</span>,<span style=\"color: #008080; text-decoration-color: #008080; font-weight: bold\">317.6480919903902</span>,<span style=\"color: #008080; text-decoration-color: #008080; font-weight: bold\">0.689991405779644</span>,F\n",
       "</pre>\n"
      ],
      "text/plain": [
       "\u001b[1;36m28650\u001b[0m,\u001b[1;36m317.6480919903902\u001b[0m,\u001b[1;36m0.689991405779644\u001b[0m,F\n"
      ]
     },
     "metadata": {},
     "output_type": "display_data"
    },
    {
     "data": {
      "text/html": [
       "<pre style=\"white-space:pre;overflow-x:auto;line-height:normal;font-family:Menlo,'DejaVu Sans Mono',consolas,'Courier New',monospace\"><span style=\"color: #008080; text-decoration-color: #008080; font-weight: bold\">16862</span>,<span style=\"color: #008080; text-decoration-color: #008080; font-weight: bold\">273.83376885926896</span>,<span style=\"color: #008080; text-decoration-color: #008080; font-weight: bold\">16.88167217359102</span>,F\n",
       "</pre>\n"
      ],
      "text/plain": [
       "\u001b[1;36m16862\u001b[0m,\u001b[1;36m273.83376885926896\u001b[0m,\u001b[1;36m16.88167217359102\u001b[0m,F\n"
      ]
     },
     "metadata": {},
     "output_type": "display_data"
    },
    {
     "data": {
      "text/html": [
       "<pre style=\"white-space:pre;overflow-x:auto;line-height:normal;font-family:Menlo,'DejaVu Sans Mono',consolas,'Courier New',monospace\"><span style=\"color: #008080; text-decoration-color: #008080; font-weight: bold\">16849</span>,<span style=\"color: #008080; text-decoration-color: #008080; font-weight: bold\">217.8437104228991</span>,<span style=\"color: #008080; text-decoration-color: #008080; font-weight: bold\">-78.33942371063307</span>,F\n",
       "</pre>\n"
      ],
      "text/plain": [
       "\u001b[1;36m16849\u001b[0m,\u001b[1;36m217.8437104228991\u001b[0m,\u001b[1;36m-78.33942371063307\u001b[0m,F\n"
      ]
     },
     "metadata": {},
     "output_type": "display_data"
    },
    {
     "data": {
      "text/html": [
       "<pre style=\"white-space:pre;overflow-x:auto;line-height:normal;font-family:Menlo,'DejaVu Sans Mono',consolas,'Courier New',monospace\"><span style=\"color: #008080; text-decoration-color: #008080; font-weight: bold\">40800</span>,<span style=\"color: #008080; text-decoration-color: #008080; font-weight: bold\">61.3037397324809</span>,<span style=\"color: #008080; text-decoration-color: #008080; font-weight: bold\">20.129830629326477</span>,F\n",
       "</pre>\n"
      ],
      "text/plain": [
       "\u001b[1;36m40800\u001b[0m,\u001b[1;36m61.3037397324809\u001b[0m,\u001b[1;36m20.129830629326477\u001b[0m,F\n"
      ]
     },
     "metadata": {},
     "output_type": "display_data"
    },
    {
     "data": {
      "text/html": [
       "<pre style=\"white-space:pre;overflow-x:auto;line-height:normal;font-family:Menlo,'DejaVu Sans Mono',consolas,'Courier New',monospace\"><span style=\"color: #008080; text-decoration-color: #008080; font-weight: bold\">46828</span>,<span style=\"color: #008080; text-decoration-color: #008080; font-weight: bold\">183.7106809506194</span>,<span style=\"color: #008080; text-decoration-color: #008080; font-weight: bold\">-32.43177631249064</span>,F\n",
       "</pre>\n"
      ],
      "text/plain": [
       "\u001b[1;36m46828\u001b[0m,\u001b[1;36m183.7106809506194\u001b[0m,\u001b[1;36m-32.43177631249064\u001b[0m,F\n"
      ]
     },
     "metadata": {},
     "output_type": "display_data"
    },
    {
     "data": {
      "text/html": [
       "<pre style=\"white-space:pre;overflow-x:auto;line-height:normal;font-family:Menlo,'DejaVu Sans Mono',consolas,'Courier New',monospace\"><span style=\"color: #008080; text-decoration-color: #008080; font-weight: bold\">46017</span>,<span style=\"color: #008080; text-decoration-color: #008080; font-weight: bold\">107.95428530418994</span>,<span style=\"color: #008080; text-decoration-color: #008080; font-weight: bold\">-52.1578223278508</span>,F\n",
       "</pre>\n"
      ],
      "text/plain": [
       "\u001b[1;36m46017\u001b[0m,\u001b[1;36m107.95428530418994\u001b[0m,\u001b[1;36m-52.1578223278508\u001b[0m,F\n"
      ]
     },
     "metadata": {},
     "output_type": "display_data"
    },
    {
     "data": {
      "text/html": [
       "<pre style=\"white-space:pre;overflow-x:auto;line-height:normal;font-family:Menlo,'DejaVu Sans Mono',consolas,'Courier New',monospace\"><span style=\"color: #008080; text-decoration-color: #008080; font-weight: bold\">4022</span>,<span style=\"color: #008080; text-decoration-color: #008080; font-weight: bold\">188.65951421706163</span>,<span style=\"color: #008080; text-decoration-color: #008080; font-weight: bold\">62.45408375950552</span>,F\n",
       "</pre>\n"
      ],
      "text/plain": [
       "\u001b[1;36m4022\u001b[0m,\u001b[1;36m188.65951421706163\u001b[0m,\u001b[1;36m62.45408375950552\u001b[0m,F\n"
      ]
     },
     "metadata": {},
     "output_type": "display_data"
    },
    {
     "data": {
      "text/html": [
       "<pre style=\"white-space:pre;overflow-x:auto;line-height:normal;font-family:Menlo,'DejaVu Sans Mono',consolas,'Courier New',monospace\"><span style=\"color: #008080; text-decoration-color: #008080; font-weight: bold\">46438</span>,<span style=\"color: #008080; text-decoration-color: #008080; font-weight: bold\">91.02553920523177</span>,<span style=\"color: #008080; text-decoration-color: #008080; font-weight: bold\">39.641682529286825</span>,F\n",
       "</pre>\n"
      ],
      "text/plain": [
       "\u001b[1;36m46438\u001b[0m,\u001b[1;36m91.02553920523177\u001b[0m,\u001b[1;36m39.641682529286825\u001b[0m,F\n"
      ]
     },
     "metadata": {},
     "output_type": "display_data"
    },
    {
     "data": {
      "text/html": [
       "<pre style=\"white-space:pre;overflow-x:auto;line-height:normal;font-family:Menlo,'DejaVu Sans Mono',consolas,'Courier New',monospace\"><span style=\"color: #008080; text-decoration-color: #008080; font-weight: bold\">17928</span>,<span style=\"color: #008080; text-decoration-color: #008080; font-weight: bold\">259.9548606227927</span>,<span style=\"color: #008080; text-decoration-color: #008080; font-weight: bold\">60.78525520128241</span>,U\n",
       "</pre>\n"
      ],
      "text/plain": [
       "\u001b[1;36m17928\u001b[0m,\u001b[1;36m259.9548606227927\u001b[0m,\u001b[1;36m60.78525520128241\u001b[0m,U\n"
      ]
     },
     "metadata": {},
     "output_type": "display_data"
    },
    {
     "data": {
      "text/html": [
       "<pre style=\"white-space:pre;overflow-x:auto;line-height:normal;font-family:Menlo,'DejaVu Sans Mono',consolas,'Courier New',monospace\"><span style=\"color: #008080; text-decoration-color: #008080; font-weight: bold\">16263</span>,<span style=\"color: #008080; text-decoration-color: #008080; font-weight: bold\">218.5062465089261</span>,<span style=\"color: #008080; text-decoration-color: #008080; font-weight: bold\">33.855922213547586</span>,U\n",
       "</pre>\n"
      ],
      "text/plain": [
       "\u001b[1;36m16263\u001b[0m,\u001b[1;36m218.5062465089261\u001b[0m,\u001b[1;36m33.855922213547586\u001b[0m,U\n"
      ]
     },
     "metadata": {},
     "output_type": "display_data"
    },
    {
     "data": {
      "text/html": [
       "<pre style=\"white-space:pre;overflow-x:auto;line-height:normal;font-family:Menlo,'DejaVu Sans Mono',consolas,'Courier New',monospace\"><span style=\"color: #008080; text-decoration-color: #008080; font-weight: bold\">43905</span>,<span style=\"color: #008080; text-decoration-color: #008080; font-weight: bold\">279.0615116064423</span>,<span style=\"color: #008080; text-decoration-color: #008080; font-weight: bold\">-28.36500466469428</span>,U\n",
       "</pre>\n"
      ],
      "text/plain": [
       "\u001b[1;36m43905\u001b[0m,\u001b[1;36m279.0615116064423\u001b[0m,\u001b[1;36m-28.36500466469428\u001b[0m,U\n"
      ]
     },
     "metadata": {},
     "output_type": "display_data"
    },
    {
     "data": {
      "text/html": [
       "<pre style=\"white-space:pre;overflow-x:auto;line-height:normal;font-family:Menlo,'DejaVu Sans Mono',consolas,'Courier New',monospace\"><span style=\"color: #008080; text-decoration-color: #008080; font-weight: bold\">9085</span>,<span style=\"color: #008080; text-decoration-color: #008080; font-weight: bold\">127.09877950995008</span>,<span style=\"color: #008080; text-decoration-color: #008080; font-weight: bold\">47.00009573101372</span>,U\n",
       "</pre>\n"
      ],
      "text/plain": [
       "\u001b[1;36m9085\u001b[0m,\u001b[1;36m127.09877950995008\u001b[0m,\u001b[1;36m47.00009573101372\u001b[0m,U\n"
      ]
     },
     "metadata": {},
     "output_type": "display_data"
    },
    {
     "data": {
      "text/html": [
       "<pre style=\"white-space:pre;overflow-x:auto;line-height:normal;font-family:Menlo,'DejaVu Sans Mono',consolas,'Courier New',monospace\"><span style=\"color: #008080; text-decoration-color: #008080; font-weight: bold\">9004</span>,<span style=\"color: #008080; text-decoration-color: #008080; font-weight: bold\">123.3599238936681</span>,<span style=\"color: #008080; text-decoration-color: #008080; font-weight: bold\">3.353041352043528</span>,U\n",
       "</pre>\n"
      ],
      "text/plain": [
       "\u001b[1;36m9004\u001b[0m,\u001b[1;36m123.3599238936681\u001b[0m,\u001b[1;36m3.353041352043528\u001b[0m,U\n"
      ]
     },
     "metadata": {},
     "output_type": "display_data"
    },
    {
     "data": {
      "text/html": [
       "<pre style=\"white-space:pre;overflow-x:auto;line-height:normal;font-family:Menlo,'DejaVu Sans Mono',consolas,'Courier New',monospace\"><span style=\"color: #008080; text-decoration-color: #008080; font-weight: bold\">44354</span>,<span style=\"color: #008080; text-decoration-color: #008080; font-weight: bold\">289.78497806718553</span>,<span style=\"color: #008080; text-decoration-color: #008080; font-weight: bold\">-29.1808543794336</span>,U\n",
       "</pre>\n"
      ],
      "text/plain": [
       "\u001b[1;36m44354\u001b[0m,\u001b[1;36m289.78497806718553\u001b[0m,\u001b[1;36m-29.1808543794336\u001b[0m,U\n"
      ]
     },
     "metadata": {},
     "output_type": "display_data"
    },
    {
     "data": {
      "text/html": [
       "<pre style=\"white-space:pre;overflow-x:auto;line-height:normal;font-family:Menlo,'DejaVu Sans Mono',consolas,'Courier New',monospace\"><span style=\"color: #008080; text-decoration-color: #008080; font-weight: bold\">37209</span>,<span style=\"color: #008080; text-decoration-color: #008080; font-weight: bold\">162.89740935154126</span>,<span style=\"color: #008080; text-decoration-color: #008080; font-weight: bold\">54.07649590887807</span>,U\n",
       "</pre>\n"
      ],
      "text/plain": [
       "\u001b[1;36m37209\u001b[0m,\u001b[1;36m162.89740935154126\u001b[0m,\u001b[1;36m54.07649590887807\u001b[0m,U\n"
      ]
     },
     "metadata": {},
     "output_type": "display_data"
    },
    {
     "data": {
      "text/html": [
       "<pre style=\"white-space:pre;overflow-x:auto;line-height:normal;font-family:Menlo,'DejaVu Sans Mono',consolas,'Courier New',monospace\"><span style=\"color: #008080; text-decoration-color: #008080; font-weight: bold\">29184</span>,<span style=\"color: #008080; text-decoration-color: #008080; font-weight: bold\">21.070559323474395</span>,<span style=\"color: #008080; text-decoration-color: #008080; font-weight: bold\">-1.66745252865208</span>,U\n",
       "</pre>\n"
      ],
      "text/plain": [
       "\u001b[1;36m29184\u001b[0m,\u001b[1;36m21.070559323474395\u001b[0m,\u001b[1;36m-1.66745252865208\u001b[0m,U\n"
      ]
     },
     "metadata": {},
     "output_type": "display_data"
    },
    {
     "data": {
      "text/html": [
       "<pre style=\"white-space:pre;overflow-x:auto;line-height:normal;font-family:Menlo,'DejaVu Sans Mono',consolas,'Courier New',monospace\"><span style=\"color: #008080; text-decoration-color: #008080; font-weight: bold\">41414</span>,<span style=\"color: #008080; text-decoration-color: #008080; font-weight: bold\">154.58073847757638</span>,<span style=\"color: #008080; text-decoration-color: #008080; font-weight: bold\">8.30264515508273</span>,U\n",
       "</pre>\n"
      ],
      "text/plain": [
       "\u001b[1;36m41414\u001b[0m,\u001b[1;36m154.58073847757638\u001b[0m,\u001b[1;36m8.30264515508273\u001b[0m,U\n"
      ]
     },
     "metadata": {},
     "output_type": "display_data"
    },
    {
     "data": {
      "text/html": [
       "<pre style=\"white-space:pre;overflow-x:auto;line-height:normal;font-family:Menlo,'DejaVu Sans Mono',consolas,'Courier New',monospace\"><span style=\"color: #008080; text-decoration-color: #008080; font-weight: bold\">28287</span>,<span style=\"color: #008080; text-decoration-color: #008080; font-weight: bold\">289.0040291037638</span>,<span style=\"color: #008080; text-decoration-color: #008080; font-weight: bold\">41.360969471473055</span>,U\n",
       "</pre>\n"
      ],
      "text/plain": [
       "\u001b[1;36m28287\u001b[0m,\u001b[1;36m289.0040291037638\u001b[0m,\u001b[1;36m41.360969471473055\u001b[0m,U\n"
      ]
     },
     "metadata": {},
     "output_type": "display_data"
    },
    {
     "data": {
      "text/html": [
       "<pre style=\"white-space:pre;overflow-x:auto;line-height:normal;font-family:Menlo,'DejaVu Sans Mono',consolas,'Courier New',monospace\"><span style=\"color: #008080; text-decoration-color: #008080; font-weight: bold\">16508</span>,<span style=\"color: #008080; text-decoration-color: #008080; font-weight: bold\">201.2861374307373</span>,<span style=\"color: #008080; text-decoration-color: #008080; font-weight: bold\">27.98210541669074</span>,U\n",
       "</pre>\n"
      ],
      "text/plain": [
       "\u001b[1;36m16508\u001b[0m,\u001b[1;36m201.2861374307373\u001b[0m,\u001b[1;36m27.98210541669074\u001b[0m,U\n"
      ]
     },
     "metadata": {},
     "output_type": "display_data"
    },
    {
     "data": {
      "text/html": [
       "<pre style=\"white-space:pre;overflow-x:auto;line-height:normal;font-family:Menlo,'DejaVu Sans Mono',consolas,'Courier New',monospace\"><span style=\"color: #008080; text-decoration-color: #008080; font-weight: bold\">38793</span>,<span style=\"color: #008080; text-decoration-color: #008080; font-weight: bold\">290.5243585324348</span>,<span style=\"color: #008080; text-decoration-color: #008080; font-weight: bold\">-25.815620169492547</span>,U\n",
       "</pre>\n"
      ],
      "text/plain": [
       "\u001b[1;36m38793\u001b[0m,\u001b[1;36m290.5243585324348\u001b[0m,\u001b[1;36m-25.815620169492547\u001b[0m,U\n"
      ]
     },
     "metadata": {},
     "output_type": "display_data"
    },
    {
     "data": {
      "text/html": [
       "<pre style=\"white-space:pre;overflow-x:auto;line-height:normal;font-family:Menlo,'DejaVu Sans Mono',consolas,'Courier New',monospace\"><span style=\"color: #008080; text-decoration-color: #008080; font-weight: bold\">28566</span>,<span style=\"color: #008080; text-decoration-color: #008080; font-weight: bold\">358.8037881955012</span>,<span style=\"color: #008080; text-decoration-color: #008080; font-weight: bold\">-12.09872922397089</span>,U\n",
       "</pre>\n"
      ],
      "text/plain": [
       "\u001b[1;36m28566\u001b[0m,\u001b[1;36m358.8037881955012\u001b[0m,\u001b[1;36m-12.09872922397089\u001b[0m,U\n"
      ]
     },
     "metadata": {},
     "output_type": "display_data"
    },
    {
     "data": {
      "text/html": [
       "<pre style=\"white-space:pre;overflow-x:auto;line-height:normal;font-family:Menlo,'DejaVu Sans Mono',consolas,'Courier New',monospace\"><span style=\"color: #008080; text-decoration-color: #008080; font-weight: bold\">9044</span>,<span style=\"color: #008080; text-decoration-color: #008080; font-weight: bold\">109.81394446385764</span>,<span style=\"color: #008080; text-decoration-color: #008080; font-weight: bold\">69.05394062886899</span>,U\n",
       "</pre>\n"
      ],
      "text/plain": [
       "\u001b[1;36m9044\u001b[0m,\u001b[1;36m109.81394446385764\u001b[0m,\u001b[1;36m69.05394062886899\u001b[0m,U\n"
      ]
     },
     "metadata": {},
     "output_type": "display_data"
    },
    {
     "data": {
      "text/html": [
       "<pre style=\"white-space:pre;overflow-x:auto;line-height:normal;font-family:Menlo,'DejaVu Sans Mono',consolas,'Courier New',monospace\"><span style=\"color: #008080; text-decoration-color: #008080; font-weight: bold\">35086</span>,<span style=\"color: #008080; text-decoration-color: #008080; font-weight: bold\">38.90049084037651</span>,<span style=\"color: #008080; text-decoration-color: #008080; font-weight: bold\">-4.715946451350315</span>,U\n",
       "</pre>\n"
      ],
      "text/plain": [
       "\u001b[1;36m35086\u001b[0m,\u001b[1;36m38.90049084037651\u001b[0m,\u001b[1;36m-4.715946451350315\u001b[0m,U\n"
      ]
     },
     "metadata": {},
     "output_type": "display_data"
    },
    {
     "data": {
      "text/html": [
       "<pre style=\"white-space:pre;overflow-x:auto;line-height:normal;font-family:Menlo,'DejaVu Sans Mono',consolas,'Courier New',monospace\"><span style=\"color: #008080; text-decoration-color: #008080; font-weight: bold\">30918</span>,<span style=\"color: #008080; text-decoration-color: #008080; font-weight: bold\">158.88793848963076</span>,<span style=\"color: #008080; text-decoration-color: #008080; font-weight: bold\">5.865990567648643</span>,U\n",
       "</pre>\n"
      ],
      "text/plain": [
       "\u001b[1;36m30918\u001b[0m,\u001b[1;36m158.88793848963076\u001b[0m,\u001b[1;36m5.865990567648643\u001b[0m,U\n"
      ]
     },
     "metadata": {},
     "output_type": "display_data"
    },
    {
     "data": {
      "text/html": [
       "<pre style=\"white-space:pre;overflow-x:auto;line-height:normal;font-family:Menlo,'DejaVu Sans Mono',consolas,'Courier New',monospace\"><span style=\"color: #008080; text-decoration-color: #008080; font-weight: bold\">38793</span>,<span style=\"color: #008080; text-decoration-color: #008080; font-weight: bold\">290.41118271781136</span>,<span style=\"color: #008080; text-decoration-color: #008080; font-weight: bold\">-26.279581800341</span>,U\n",
       "</pre>\n"
      ],
      "text/plain": [
       "\u001b[1;36m38793\u001b[0m,\u001b[1;36m290.41118271781136\u001b[0m,\u001b[1;36m-26.279581800341\u001b[0m,U\n"
      ]
     },
     "metadata": {},
     "output_type": "display_data"
    },
    {
     "data": {
      "text/html": [
       "<pre style=\"white-space:pre;overflow-x:auto;line-height:normal;font-family:Menlo,'DejaVu Sans Mono',consolas,'Courier New',monospace\"><span style=\"color: #008080; text-decoration-color: #008080; font-weight: bold\">33309</span>,<span style=\"color: #008080; text-decoration-color: #008080; font-weight: bold\">320.63620650959524</span>,<span style=\"color: #008080; text-decoration-color: #008080; font-weight: bold\">-6.311423357946636</span>,U\n",
       "</pre>\n"
      ],
      "text/plain": [
       "\u001b[1;36m33309\u001b[0m,\u001b[1;36m320.63620650959524\u001b[0m,\u001b[1;36m-6.311423357946636\u001b[0m,U\n"
      ]
     },
     "metadata": {},
     "output_type": "display_data"
    },
    {
     "data": {
      "text/html": [
       "<pre style=\"white-space:pre;overflow-x:auto;line-height:normal;font-family:Menlo,'DejaVu Sans Mono',consolas,'Courier New',monospace\"><span style=\"color: #008080; text-decoration-color: #008080; font-weight: bold\">26779</span>,<span style=\"color: #008080; text-decoration-color: #008080; font-weight: bold\">205.23618034829684</span>,<span style=\"color: #008080; text-decoration-color: #008080; font-weight: bold\">-31.498731833234487</span>,U\n",
       "</pre>\n"
      ],
      "text/plain": [
       "\u001b[1;36m26779\u001b[0m,\u001b[1;36m205.23618034829684\u001b[0m,\u001b[1;36m-31.498731833234487\u001b[0m,U\n"
      ]
     },
     "metadata": {},
     "output_type": "display_data"
    },
    {
     "data": {
      "text/html": [
       "<pre style=\"white-space:pre;overflow-x:auto;line-height:normal;font-family:Menlo,'DejaVu Sans Mono',consolas,'Courier New',monospace\"><span style=\"color: #008080; text-decoration-color: #008080; font-weight: bold\">33001</span>,<span style=\"color: #008080; text-decoration-color: #008080; font-weight: bold\">264.0379618415347</span>,<span style=\"color: #008080; text-decoration-color: #008080; font-weight: bold\">8.164643831837173</span>,U\n",
       "</pre>\n"
      ],
      "text/plain": [
       "\u001b[1;36m33001\u001b[0m,\u001b[1;36m264.0379618415347\u001b[0m,\u001b[1;36m8.164643831837173\u001b[0m,U\n"
      ]
     },
     "metadata": {},
     "output_type": "display_data"
    },
    {
     "data": {
      "text/html": [
       "<pre style=\"white-space:pre;overflow-x:auto;line-height:normal;font-family:Menlo,'DejaVu Sans Mono',consolas,'Courier New',monospace\"><span style=\"color: #008080; text-decoration-color: #008080; font-weight: bold\">7550</span>,<span style=\"color: #008080; text-decoration-color: #008080; font-weight: bold\">22.129355706632</span>,<span style=\"color: #008080; text-decoration-color: #008080; font-weight: bold\">-35.510801450695794</span>,U\n",
       "</pre>\n"
      ],
      "text/plain": [
       "\u001b[1;36m7550\u001b[0m,\u001b[1;36m22.129355706632\u001b[0m,\u001b[1;36m-35.510801450695794\u001b[0m,U\n"
      ]
     },
     "metadata": {},
     "output_type": "display_data"
    },
    {
     "data": {
      "text/html": [
       "<pre style=\"white-space:pre;overflow-x:auto;line-height:normal;font-family:Menlo,'DejaVu Sans Mono',consolas,'Courier New',monospace\"><span style=\"color: #008080; text-decoration-color: #008080; font-weight: bold\">46793</span>,<span style=\"color: #008080; text-decoration-color: #008080; font-weight: bold\">192.24254898259224</span>,<span style=\"color: #008080; text-decoration-color: #008080; font-weight: bold\">-42.2692211996664</span>,U\n",
       "</pre>\n"
      ],
      "text/plain": [
       "\u001b[1;36m46793\u001b[0m,\u001b[1;36m192.24254898259224\u001b[0m,\u001b[1;36m-42.2692211996664\u001b[0m,U\n"
      ]
     },
     "metadata": {},
     "output_type": "display_data"
    },
    {
     "data": {
      "text/html": [
       "<pre style=\"white-space:pre;overflow-x:auto;line-height:normal;font-family:Menlo,'DejaVu Sans Mono',consolas,'Courier New',monospace\"><span style=\"color: #008080; text-decoration-color: #008080; font-weight: bold\">42149</span>,<span style=\"color: #008080; text-decoration-color: #008080; font-weight: bold\">107.32530893290134</span>,<span style=\"color: #008080; text-decoration-color: #008080; font-weight: bold\">-61.28922776356079</span>,U\n",
       "</pre>\n"
      ],
      "text/plain": [
       "\u001b[1;36m42149\u001b[0m,\u001b[1;36m107.32530893290134\u001b[0m,\u001b[1;36m-61.28922776356079\u001b[0m,U\n"
      ]
     },
     "metadata": {},
     "output_type": "display_data"
    },
    {
     "data": {
      "text/html": [
       "<pre style=\"white-space:pre;overflow-x:auto;line-height:normal;font-family:Menlo,'DejaVu Sans Mono',consolas,'Courier New',monospace\"><span style=\"color: #008080; text-decoration-color: #008080; font-weight: bold\">39563</span>,<span style=\"color: #008080; text-decoration-color: #008080; font-weight: bold\">17.178948328410595</span>,<span style=\"color: #008080; text-decoration-color: #008080; font-weight: bold\">0.9463356046329696</span>,U\n",
       "</pre>\n"
      ],
      "text/plain": [
       "\u001b[1;36m39563\u001b[0m,\u001b[1;36m17.178948328410595\u001b[0m,\u001b[1;36m0.9463356046329696\u001b[0m,U\n"
      ]
     },
     "metadata": {},
     "output_type": "display_data"
    },
    {
     "data": {
      "text/html": [
       "<pre style=\"white-space:pre;overflow-x:auto;line-height:normal;font-family:Menlo,'DejaVu Sans Mono',consolas,'Courier New',monospace\"><span style=\"color: #008080; text-decoration-color: #008080; font-weight: bold\">9592</span>,<span style=\"color: #008080; text-decoration-color: #008080; font-weight: bold\">133.343287440783</span>,<span style=\"color: #008080; text-decoration-color: #008080; font-weight: bold\">-3.439784245878233</span>,U\n",
       "</pre>\n"
      ],
      "text/plain": [
       "\u001b[1;36m9592\u001b[0m,\u001b[1;36m133.343287440783\u001b[0m,\u001b[1;36m-3.439784245878233\u001b[0m,U\n"
      ]
     },
     "metadata": {},
     "output_type": "display_data"
    },
    {
     "data": {
      "text/html": [
       "<pre style=\"white-space:pre;overflow-x:auto;line-height:normal;font-family:Menlo,'DejaVu Sans Mono',consolas,'Courier New',monospace\"><span style=\"color: #008080; text-decoration-color: #008080; font-weight: bold\">23668</span>,<span style=\"color: #008080; text-decoration-color: #008080; font-weight: bold\">2.9119422789535423</span>,<span style=\"color: #008080; text-decoration-color: #008080; font-weight: bold\">1.1181232799728371</span>,U\n",
       "</pre>\n"
      ],
      "text/plain": [
       "\u001b[1;36m23668\u001b[0m,\u001b[1;36m2.9119422789535423\u001b[0m,\u001b[1;36m1.1181232799728371\u001b[0m,U\n"
      ]
     },
     "metadata": {},
     "output_type": "display_data"
    },
    {
     "data": {
      "text/html": [
       "<pre style=\"white-space:pre;overflow-x:auto;line-height:normal;font-family:Menlo,'DejaVu Sans Mono',consolas,'Courier New',monospace\"><span style=\"color: #008080; text-decoration-color: #008080; font-weight: bold\">46569</span>,<span style=\"color: #008080; text-decoration-color: #008080; font-weight: bold\">92.5091873919706</span>,<span style=\"color: #008080; text-decoration-color: #008080; font-weight: bold\">-39.66865773510869</span>,U\n",
       "</pre>\n"
      ],
      "text/plain": [
       "\u001b[1;36m46569\u001b[0m,\u001b[1;36m92.5091873919706\u001b[0m,\u001b[1;36m-39.66865773510869\u001b[0m,U\n"
      ]
     },
     "metadata": {},
     "output_type": "display_data"
    },
    {
     "data": {
      "text/html": [
       "<pre style=\"white-space:pre;overflow-x:auto;line-height:normal;font-family:Menlo,'DejaVu Sans Mono',consolas,'Courier New',monospace\"><span style=\"color: #008080; text-decoration-color: #008080; font-weight: bold\">16176</span>,<span style=\"color: #008080; text-decoration-color: #008080; font-weight: bold\">216.68102191693697</span>,<span style=\"color: #008080; text-decoration-color: #008080; font-weight: bold\">31.870448094899267</span>,U\n",
       "</pre>\n"
      ],
      "text/plain": [
       "\u001b[1;36m16176\u001b[0m,\u001b[1;36m216.68102191693697\u001b[0m,\u001b[1;36m31.870448094899267\u001b[0m,U\n"
      ]
     },
     "metadata": {},
     "output_type": "display_data"
    },
    {
     "data": {
      "text/html": [
       "<pre style=\"white-space:pre;overflow-x:auto;line-height:normal;font-family:Menlo,'DejaVu Sans Mono',consolas,'Courier New',monospace\"><span style=\"color: #008080; text-decoration-color: #008080; font-weight: bold\">44335</span>,<span style=\"color: #008080; text-decoration-color: #008080; font-weight: bold\">305.75208854341594</span>,<span style=\"color: #008080; text-decoration-color: #008080; font-weight: bold\">6.5283377422811535</span>,U\n",
       "</pre>\n"
      ],
      "text/plain": [
       "\u001b[1;36m44335\u001b[0m,\u001b[1;36m305.75208854341594\u001b[0m,\u001b[1;36m6.5283377422811535\u001b[0m,U\n"
      ]
     },
     "metadata": {},
     "output_type": "display_data"
    },
    {
     "data": {
      "text/html": [
       "<pre style=\"white-space:pre;overflow-x:auto;line-height:normal;font-family:Menlo,'DejaVu Sans Mono',consolas,'Courier New',monospace\"><span style=\"color: #008080; text-decoration-color: #008080; font-weight: bold\">13549</span>,<span style=\"color: #008080; text-decoration-color: #008080; font-weight: bold\">36.4010881357435</span>,<span style=\"color: #008080; text-decoration-color: #008080; font-weight: bold\">28.09705649668886</span>,U\n",
       "</pre>\n"
      ],
      "text/plain": [
       "\u001b[1;36m13549\u001b[0m,\u001b[1;36m36.4010881357435\u001b[0m,\u001b[1;36m28.09705649668886\u001b[0m,U\n"
      ]
     },
     "metadata": {},
     "output_type": "display_data"
    },
    {
     "data": {
      "text/html": [
       "<pre style=\"white-space:pre;overflow-x:auto;line-height:normal;font-family:Menlo,'DejaVu Sans Mono',consolas,'Courier New',monospace\"><span style=\"color: #008080; text-decoration-color: #008080; font-weight: bold\">46601</span>,<span style=\"color: #008080; text-decoration-color: #008080; font-weight: bold\">122.37567248466378</span>,<span style=\"color: #008080; text-decoration-color: #008080; font-weight: bold\">-57.57819142891011</span>,U\n",
       "</pre>\n"
      ],
      "text/plain": [
       "\u001b[1;36m46601\u001b[0m,\u001b[1;36m122.37567248466378\u001b[0m,\u001b[1;36m-57.57819142891011\u001b[0m,U\n"
      ]
     },
     "metadata": {},
     "output_type": "display_data"
    },
    {
     "data": {
      "text/html": [
       "<pre style=\"white-space:pre;overflow-x:auto;line-height:normal;font-family:Menlo,'DejaVu Sans Mono',consolas,'Courier New',monospace\"><span style=\"color: #008080; text-decoration-color: #008080; font-weight: bold\">37269</span>,<span style=\"color: #008080; text-decoration-color: #008080; font-weight: bold\">133.2684193297594</span>,<span style=\"color: #008080; text-decoration-color: #008080; font-weight: bold\">54.5252423482039</span>,U\n",
       "</pre>\n"
      ],
      "text/plain": [
       "\u001b[1;36m37269\u001b[0m,\u001b[1;36m133.2684193297594\u001b[0m,\u001b[1;36m54.5252423482039\u001b[0m,U\n"
      ]
     },
     "metadata": {},
     "output_type": "display_data"
    },
    {
     "data": {
      "text/html": [
       "<pre style=\"white-space:pre;overflow-x:auto;line-height:normal;font-family:Menlo,'DejaVu Sans Mono',consolas,'Courier New',monospace\"><span style=\"color: #008080; text-decoration-color: #008080; font-weight: bold\">6434</span>,<span style=\"color: #008080; text-decoration-color: #008080; font-weight: bold\">310.0389551219177</span>,<span style=\"color: #008080; text-decoration-color: #008080; font-weight: bold\">-0.871532554356278</span>,U\n",
       "</pre>\n"
      ],
      "text/plain": [
       "\u001b[1;36m6434\u001b[0m,\u001b[1;36m310.0389551219177\u001b[0m,\u001b[1;36m-0.871532554356278\u001b[0m,U\n"
      ]
     },
     "metadata": {},
     "output_type": "display_data"
    },
    {
     "data": {
      "text/html": [
       "<pre style=\"white-space:pre;overflow-x:auto;line-height:normal;font-family:Menlo,'DejaVu Sans Mono',consolas,'Courier New',monospace\"><span style=\"color: #008080; text-decoration-color: #008080; font-weight: bold\">7315</span>,<span style=\"color: #008080; text-decoration-color: #008080; font-weight: bold\">343.03747650752695</span>,<span style=\"color: #008080; text-decoration-color: #008080; font-weight: bold\">-0.2025130424392345</span>,U\n",
       "</pre>\n"
      ],
      "text/plain": [
       "\u001b[1;36m7315\u001b[0m,\u001b[1;36m343.03747650752695\u001b[0m,\u001b[1;36m-0.2025130424392345\u001b[0m,U\n"
      ]
     },
     "metadata": {},
     "output_type": "display_data"
    },
    {
     "data": {
      "text/html": [
       "<pre style=\"white-space:pre;overflow-x:auto;line-height:normal;font-family:Menlo,'DejaVu Sans Mono',consolas,'Courier New',monospace\"><span style=\"color: #008080; text-decoration-color: #008080; font-weight: bold\">41092</span>,<span style=\"color: #008080; text-decoration-color: #008080; font-weight: bold\">145.64643534106585</span>,<span style=\"color: #008080; text-decoration-color: #008080; font-weight: bold\">69.00938651675317</span>,U\n",
       "</pre>\n"
      ],
      "text/plain": [
       "\u001b[1;36m41092\u001b[0m,\u001b[1;36m145.64643534106585\u001b[0m,\u001b[1;36m69.00938651675317\u001b[0m,U\n"
      ]
     },
     "metadata": {},
     "output_type": "display_data"
    },
    {
     "data": {
      "text/html": [
       "<pre style=\"white-space:pre;overflow-x:auto;line-height:normal;font-family:Menlo,'DejaVu Sans Mono',consolas,'Courier New',monospace\"><span style=\"color: #008080; text-decoration-color: #008080; font-weight: bold\">6888</span>,<span style=\"color: #008080; text-decoration-color: #008080; font-weight: bold\">310.03884086668603</span>,<span style=\"color: #008080; text-decoration-color: #008080; font-weight: bold\">-0.8712422689762791</span>,U\n",
       "</pre>\n"
      ],
      "text/plain": [
       "\u001b[1;36m6888\u001b[0m,\u001b[1;36m310.03884086668603\u001b[0m,\u001b[1;36m-0.8712422689762791\u001b[0m,U\n"
      ]
     },
     "metadata": {},
     "output_type": "display_data"
    },
    {
     "data": {
      "text/html": [
       "<pre style=\"white-space:pre;overflow-x:auto;line-height:normal;font-family:Menlo,'DejaVu Sans Mono',consolas,'Courier New',monospace\"><span style=\"color: #008080; text-decoration-color: #008080; font-weight: bold\">33746</span>,<span style=\"color: #008080; text-decoration-color: #008080; font-weight: bold\">357.97601058451204</span>,<span style=\"color: #008080; text-decoration-color: #008080; font-weight: bold\">38.29054424038883</span>,U\n",
       "</pre>\n"
      ],
      "text/plain": [
       "\u001b[1;36m33746\u001b[0m,\u001b[1;36m357.97601058451204\u001b[0m,\u001b[1;36m38.29054424038883\u001b[0m,U\n"
      ]
     },
     "metadata": {},
     "output_type": "display_data"
    },
    {
     "data": {
      "text/html": [
       "<pre style=\"white-space:pre;overflow-x:auto;line-height:normal;font-family:Menlo,'DejaVu Sans Mono',consolas,'Courier New',monospace\"><span style=\"color: #008080; text-decoration-color: #008080; font-weight: bold\">38566</span>,<span style=\"color: #008080; text-decoration-color: #008080; font-weight: bold\">315.1812175519507</span>,<span style=\"color: #008080; text-decoration-color: #008080; font-weight: bold\">-74.2682051789634</span>,U\n",
       "</pre>\n"
      ],
      "text/plain": [
       "\u001b[1;36m38566\u001b[0m,\u001b[1;36m315.1812175519507\u001b[0m,\u001b[1;36m-74.2682051789634\u001b[0m,U\n"
      ]
     },
     "metadata": {},
     "output_type": "display_data"
    },
    {
     "data": {
      "text/html": [
       "<pre style=\"white-space:pre;overflow-x:auto;line-height:normal;font-family:Menlo,'DejaVu Sans Mono',consolas,'Courier New',monospace\"><span style=\"color: #008080; text-decoration-color: #008080; font-weight: bold\">7550</span>,<span style=\"color: #008080; text-decoration-color: #008080; font-weight: bold\">22.311278501334392</span>,<span style=\"color: #008080; text-decoration-color: #008080; font-weight: bold\">-35.42694117675955</span>,U\n",
       "</pre>\n"
      ],
      "text/plain": [
       "\u001b[1;36m7550\u001b[0m,\u001b[1;36m22.311278501334392\u001b[0m,\u001b[1;36m-35.42694117675955\u001b[0m,U\n"
      ]
     },
     "metadata": {},
     "output_type": "display_data"
    },
    {
     "data": {
      "text/html": [
       "<pre style=\"white-space:pre;overflow-x:auto;line-height:normal;font-family:Menlo,'DejaVu Sans Mono',consolas,'Courier New',monospace\"><span style=\"color: #008080; text-decoration-color: #008080; font-weight: bold\">12494</span>,<span style=\"color: #008080; text-decoration-color: #008080; font-weight: bold\">310.03890374714115</span>,<span style=\"color: #008080; text-decoration-color: #008080; font-weight: bold\">-0.870904805963835</span>,U\n",
       "</pre>\n"
      ],
      "text/plain": [
       "\u001b[1;36m12494\u001b[0m,\u001b[1;36m310.03890374714115\u001b[0m,\u001b[1;36m-0.870904805963835\u001b[0m,U\n"
      ]
     },
     "metadata": {},
     "output_type": "display_data"
    },
    {
     "data": {
      "text/html": [
       "<pre style=\"white-space:pre;overflow-x:auto;line-height:normal;font-family:Menlo,'DejaVu Sans Mono',consolas,'Courier New',monospace\"><span style=\"color: #008080; text-decoration-color: #008080; font-weight: bold\">35737</span>,<span style=\"color: #008080; text-decoration-color: #008080; font-weight: bold\">123.64994622370833</span>,<span style=\"color: #008080; text-decoration-color: #008080; font-weight: bold\">-7.602762302197124</span>,U\n",
       "</pre>\n"
      ],
      "text/plain": [
       "\u001b[1;36m35737\u001b[0m,\u001b[1;36m123.64994622370833\u001b[0m,\u001b[1;36m-7.602762302197124\u001b[0m,U\n"
      ]
     },
     "metadata": {},
     "output_type": "display_data"
    },
    {
     "data": {
      "text/html": [
       "<pre style=\"white-space:pre;overflow-x:auto;line-height:normal;font-family:Menlo,'DejaVu Sans Mono',consolas,'Courier New',monospace\"><span style=\"color: #008080; text-decoration-color: #008080; font-weight: bold\">3032</span>,<span style=\"color: #008080; text-decoration-color: #008080; font-weight: bold\">37.12290224162776</span>,<span style=\"color: #008080; text-decoration-color: #008080; font-weight: bold\">-4.2325757034354</span>,U\n",
       "</pre>\n"
      ],
      "text/plain": [
       "\u001b[1;36m3032\u001b[0m,\u001b[1;36m37.12290224162776\u001b[0m,\u001b[1;36m-4.2325757034354\u001b[0m,U\n"
      ]
     },
     "metadata": {},
     "output_type": "display_data"
    },
    {
     "data": {
      "text/html": [
       "<pre style=\"white-space:pre;overflow-x:auto;line-height:normal;font-family:Menlo,'DejaVu Sans Mono',consolas,'Courier New',monospace\"><span style=\"color: #008080; text-decoration-color: #008080; font-weight: bold\">14098</span>,<span style=\"color: #008080; text-decoration-color: #008080; font-weight: bold\">68.88910290181452</span>,<span style=\"color: #008080; text-decoration-color: #008080; font-weight: bold\">16.966052023813127</span>,U\n",
       "</pre>\n"
      ],
      "text/plain": [
       "\u001b[1;36m14098\u001b[0m,\u001b[1;36m68.88910290181452\u001b[0m,\u001b[1;36m16.966052023813127\u001b[0m,U\n"
      ]
     },
     "metadata": {},
     "output_type": "display_data"
    },
    {
     "data": {
      "text/html": [
       "<pre style=\"white-space:pre;overflow-x:auto;line-height:normal;font-family:Menlo,'DejaVu Sans Mono',consolas,'Courier New',monospace\"><span style=\"color: #008080; text-decoration-color: #008080; font-weight: bold\">7602</span>,<span style=\"color: #008080; text-decoration-color: #008080; font-weight: bold\">343.56495585857533</span>,<span style=\"color: #008080; text-decoration-color: #008080; font-weight: bold\">-0.9901818050482892</span>,U\n",
       "</pre>\n"
      ],
      "text/plain": [
       "\u001b[1;36m7602\u001b[0m,\u001b[1;36m343.56495585857533\u001b[0m,\u001b[1;36m-0.9901818050482892\u001b[0m,U\n"
      ]
     },
     "metadata": {},
     "output_type": "display_data"
    },
    {
     "data": {
      "text/html": [
       "<pre style=\"white-space:pre;overflow-x:auto;line-height:normal;font-family:Menlo,'DejaVu Sans Mono',consolas,'Courier New',monospace\"><span style=\"color: #008080; text-decoration-color: #008080; font-weight: bold\">8573</span>,<span style=\"color: #008080; text-decoration-color: #008080; font-weight: bold\">17.055146434614333</span>,<span style=\"color: #008080; text-decoration-color: #008080; font-weight: bold\">-16.59816605805258</span>,U\n",
       "</pre>\n"
      ],
      "text/plain": [
       "\u001b[1;36m8573\u001b[0m,\u001b[1;36m17.055146434614333\u001b[0m,\u001b[1;36m-16.59816605805258\u001b[0m,U\n"
      ]
     },
     "metadata": {},
     "output_type": "display_data"
    },
    {
     "data": {
      "text/html": [
       "<pre style=\"white-space:pre;overflow-x:auto;line-height:normal;font-family:Menlo,'DejaVu Sans Mono',consolas,'Courier New',monospace\"><span style=\"color: #008080; text-decoration-color: #008080; font-weight: bold\">28924</span>,<span style=\"color: #008080; text-decoration-color: #008080; font-weight: bold\">343.25469407253394</span>,<span style=\"color: #008080; text-decoration-color: #008080; font-weight: bold\">15.787669629006263</span>,U\n",
       "</pre>\n"
      ],
      "text/plain": [
       "\u001b[1;36m28924\u001b[0m,\u001b[1;36m343.25469407253394\u001b[0m,\u001b[1;36m15.787669629006263\u001b[0m,U\n"
      ]
     },
     "metadata": {},
     "output_type": "display_data"
    },
    {
     "data": {
      "text/html": [
       "<pre style=\"white-space:pre;overflow-x:auto;line-height:normal;font-family:Menlo,'DejaVu Sans Mono',consolas,'Courier New',monospace\"><span style=\"color: #008080; text-decoration-color: #008080; font-weight: bold\">46751</span>,<span style=\"color: #008080; text-decoration-color: #008080; font-weight: bold\">160.28271491626174</span>,<span style=\"color: #008080; text-decoration-color: #008080; font-weight: bold\">8.677165521567874</span>,U\n",
       "</pre>\n"
      ],
      "text/plain": [
       "\u001b[1;36m46751\u001b[0m,\u001b[1;36m160.28271491626174\u001b[0m,\u001b[1;36m8.677165521567874\u001b[0m,U\n"
      ]
     },
     "metadata": {},
     "output_type": "display_data"
    },
    {
     "data": {
      "text/html": [
       "<pre style=\"white-space:pre;overflow-x:auto;line-height:normal;font-family:Menlo,'DejaVu Sans Mono',consolas,'Courier New',monospace\"><span style=\"color: #008080; text-decoration-color: #008080; font-weight: bold\">44059</span>,<span style=\"color: #008080; text-decoration-color: #008080; font-weight: bold\">314.14725021852763</span>,<span style=\"color: #008080; text-decoration-color: #008080; font-weight: bold\">-5.702023309344681</span>,U\n",
       "</pre>\n"
      ],
      "text/plain": [
       "\u001b[1;36m44059\u001b[0m,\u001b[1;36m314.14725021852763\u001b[0m,\u001b[1;36m-5.702023309344681\u001b[0m,U\n"
      ]
     },
     "metadata": {},
     "output_type": "display_data"
    },
    {
     "data": {
      "text/html": [
       "<pre style=\"white-space:pre;overflow-x:auto;line-height:normal;font-family:Menlo,'DejaVu Sans Mono',consolas,'Courier New',monospace\"><span style=\"color: #008080; text-decoration-color: #008080; font-weight: bold\">14102</span>,<span style=\"color: #008080; text-decoration-color: #008080; font-weight: bold\">67.1613599946809</span>,<span style=\"color: #008080; text-decoration-color: #008080; font-weight: bold\">16.965062073718194</span>,U\n",
       "</pre>\n"
      ],
      "text/plain": [
       "\u001b[1;36m14102\u001b[0m,\u001b[1;36m67.1613599946809\u001b[0m,\u001b[1;36m16.965062073718194\u001b[0m,U\n"
      ]
     },
     "metadata": {},
     "output_type": "display_data"
    },
    {
     "data": {
      "text/html": [
       "<pre style=\"white-space:pre;overflow-x:auto;line-height:normal;font-family:Menlo,'DejaVu Sans Mono',consolas,'Courier New',monospace\"><span style=\"color: #008080; text-decoration-color: #008080; font-weight: bold\">19643</span>,<span style=\"color: #008080; text-decoration-color: #008080; font-weight: bold\">145.8507263745896</span>,<span style=\"color: #008080; text-decoration-color: #008080; font-weight: bold\">59.77087028941676</span>,U\n",
       "</pre>\n"
      ],
      "text/plain": [
       "\u001b[1;36m19643\u001b[0m,\u001b[1;36m145.8507263745896\u001b[0m,\u001b[1;36m59.77087028941676\u001b[0m,U\n"
      ]
     },
     "metadata": {},
     "output_type": "display_data"
    },
    {
     "data": {
      "text/html": [
       "<pre style=\"white-space:pre;overflow-x:auto;line-height:normal;font-family:Menlo,'DejaVu Sans Mono',consolas,'Courier New',monospace\"><span style=\"color: #008080; text-decoration-color: #008080; font-weight: bold\">10795</span>,<span style=\"color: #008080; text-decoration-color: #008080; font-weight: bold\">194.3330698970742</span>,<span style=\"color: #008080; text-decoration-color: #008080; font-weight: bold\">-5.813575043870454</span>,U\n",
       "</pre>\n"
      ],
      "text/plain": [
       "\u001b[1;36m10795\u001b[0m,\u001b[1;36m194.3330698970742\u001b[0m,\u001b[1;36m-5.813575043870454\u001b[0m,U\n"
      ]
     },
     "metadata": {},
     "output_type": "display_data"
    },
    {
     "data": {
      "text/html": [
       "<pre style=\"white-space:pre;overflow-x:auto;line-height:normal;font-family:Menlo,'DejaVu Sans Mono',consolas,'Courier New',monospace\"><span style=\"color: #008080; text-decoration-color: #008080; font-weight: bold\">36423</span>,<span style=\"color: #008080; text-decoration-color: #008080; font-weight: bold\">126.32090967718224</span>,<span style=\"color: #008080; text-decoration-color: #008080; font-weight: bold\">4.252887247214012</span>,U\n",
       "</pre>\n"
      ],
      "text/plain": [
       "\u001b[1;36m36423\u001b[0m,\u001b[1;36m126.32090967718224\u001b[0m,\u001b[1;36m4.252887247214012\u001b[0m,U\n"
      ]
     },
     "metadata": {},
     "output_type": "display_data"
    },
    {
     "data": {
      "text/html": [
       "<pre style=\"white-space:pre;overflow-x:auto;line-height:normal;font-family:Menlo,'DejaVu Sans Mono',consolas,'Courier New',monospace\"><span style=\"color: #008080; text-decoration-color: #008080; font-weight: bold\">16367</span>,<span style=\"color: #008080; text-decoration-color: #008080; font-weight: bold\">219.6251015231373</span>,<span style=\"color: #008080; text-decoration-color: #008080; font-weight: bold\">35.06758621308767</span>,U\n",
       "</pre>\n"
      ],
      "text/plain": [
       "\u001b[1;36m16367\u001b[0m,\u001b[1;36m219.6251015231373\u001b[0m,\u001b[1;36m35.06758621308767\u001b[0m,U\n"
      ]
     },
     "metadata": {},
     "output_type": "display_data"
    },
    {
     "data": {
      "text/html": [
       "<pre style=\"white-space:pre;overflow-x:auto;line-height:normal;font-family:Menlo,'DejaVu Sans Mono',consolas,'Courier New',monospace\"><span style=\"color: #008080; text-decoration-color: #008080; font-weight: bold\">10509</span>,<span style=\"color: #008080; text-decoration-color: #008080; font-weight: bold\">164.1860170955714</span>,<span style=\"color: #008080; text-decoration-color: #008080; font-weight: bold\">57.86909321570359</span>,U\n",
       "</pre>\n"
      ],
      "text/plain": [
       "\u001b[1;36m10509\u001b[0m,\u001b[1;36m164.1860170955714\u001b[0m,\u001b[1;36m57.86909321570359\u001b[0m,U\n"
      ]
     },
     "metadata": {},
     "output_type": "display_data"
    },
    {
     "data": {
      "text/html": [
       "<pre style=\"white-space:pre;overflow-x:auto;line-height:normal;font-family:Menlo,'DejaVu Sans Mono',consolas,'Courier New',monospace\"><span style=\"color: #008080; text-decoration-color: #008080; font-weight: bold\">12300</span>,<span style=\"color: #008080; text-decoration-color: #008080; font-weight: bold\">351.9234152759963</span>,<span style=\"color: #008080; text-decoration-color: #008080; font-weight: bold\">0.2852403108365378</span>,U\n",
       "</pre>\n"
      ],
      "text/plain": [
       "\u001b[1;36m12300\u001b[0m,\u001b[1;36m351.9234152759963\u001b[0m,\u001b[1;36m0.2852403108365378\u001b[0m,U\n"
      ]
     },
     "metadata": {},
     "output_type": "display_data"
    },
    {
     "data": {
      "text/html": [
       "<pre style=\"white-space:pre;overflow-x:auto;line-height:normal;font-family:Menlo,'DejaVu Sans Mono',consolas,'Courier New',monospace\"><span style=\"color: #008080; text-decoration-color: #008080; font-weight: bold\">37359</span>,<span style=\"color: #008080; text-decoration-color: #008080; font-weight: bold\">229.26248869267243</span>,<span style=\"color: #008080; text-decoration-color: #008080; font-weight: bold\">56.01513484525541</span>,U\n",
       "</pre>\n"
      ],
      "text/plain": [
       "\u001b[1;36m37359\u001b[0m,\u001b[1;36m229.26248869267243\u001b[0m,\u001b[1;36m56.01513484525541\u001b[0m,U\n"
      ]
     },
     "metadata": {},
     "output_type": "display_data"
    },
    {
     "data": {
      "text/html": [
       "<pre style=\"white-space:pre;overflow-x:auto;line-height:normal;font-family:Menlo,'DejaVu Sans Mono',consolas,'Courier New',monospace\"><span style=\"color: #008080; text-decoration-color: #008080; font-weight: bold\">30905</span>,<span style=\"color: #008080; text-decoration-color: #008080; font-weight: bold\">70.65733176540277</span>,<span style=\"color: #008080; text-decoration-color: #008080; font-weight: bold\">-53.49024109900948</span>,U\n",
       "</pre>\n"
      ],
      "text/plain": [
       "\u001b[1;36m30905\u001b[0m,\u001b[1;36m70.65733176540277\u001b[0m,\u001b[1;36m-53.49024109900948\u001b[0m,U\n"
      ]
     },
     "metadata": {},
     "output_type": "display_data"
    },
    {
     "data": {
      "text/html": [
       "<pre style=\"white-space:pre;overflow-x:auto;line-height:normal;font-family:Menlo,'DejaVu Sans Mono',consolas,'Courier New',monospace\"><span style=\"color: #008080; text-decoration-color: #008080; font-weight: bold\">46807</span>,<span style=\"color: #008080; text-decoration-color: #008080; font-weight: bold\">183.1763167012841</span>,<span style=\"color: #008080; text-decoration-color: #008080; font-weight: bold\">-26.926904089339533</span>,U\n",
       "</pre>\n"
      ],
      "text/plain": [
       "\u001b[1;36m46807\u001b[0m,\u001b[1;36m183.1763167012841\u001b[0m,\u001b[1;36m-26.926904089339533\u001b[0m,U\n"
      ]
     },
     "metadata": {},
     "output_type": "display_data"
    },
    {
     "data": {
      "text/html": [
       "<pre style=\"white-space:pre;overflow-x:auto;line-height:normal;font-family:Menlo,'DejaVu Sans Mono',consolas,'Courier New',monospace\"><span style=\"color: #008080; text-decoration-color: #008080; font-weight: bold\">36601</span>,<span style=\"color: #008080; text-decoration-color: #008080; font-weight: bold\">105.55763963621727</span>,<span style=\"color: #008080; text-decoration-color: #008080; font-weight: bold\">64.20431763443663</span>,U\n",
       "</pre>\n"
      ],
      "text/plain": [
       "\u001b[1;36m36601\u001b[0m,\u001b[1;36m105.55763963621727\u001b[0m,\u001b[1;36m64.20431763443663\u001b[0m,U\n"
      ]
     },
     "metadata": {},
     "output_type": "display_data"
    },
    {
     "data": {
      "text/html": [
       "<pre style=\"white-space:pre;overflow-x:auto;line-height:normal;font-family:Menlo,'DejaVu Sans Mono',consolas,'Courier New',monospace\"><span style=\"color: #008080; text-decoration-color: #008080; font-weight: bold\">43647</span>,<span style=\"color: #008080; text-decoration-color: #008080; font-weight: bold\">153.54732473979243</span>,<span style=\"color: #008080; text-decoration-color: #008080; font-weight: bold\">-76.12701701175645</span>,U\n",
       "</pre>\n"
      ],
      "text/plain": [
       "\u001b[1;36m43647\u001b[0m,\u001b[1;36m153.54732473979243\u001b[0m,\u001b[1;36m-76.12701701175645\u001b[0m,U\n"
      ]
     },
     "metadata": {},
     "output_type": "display_data"
    },
    {
     "data": {
      "text/html": [
       "<pre style=\"white-space:pre;overflow-x:auto;line-height:normal;font-family:Menlo,'DejaVu Sans Mono',consolas,'Courier New',monospace\"><span style=\"color: #008080; text-decoration-color: #008080; font-weight: bold\">9293</span>,<span style=\"color: #008080; text-decoration-color: #008080; font-weight: bold\">158.88173149822288</span>,<span style=\"color: #008080; text-decoration-color: #008080; font-weight: bold\">57.6339141972497</span>,U\n",
       "</pre>\n"
      ],
      "text/plain": [
       "\u001b[1;36m9293\u001b[0m,\u001b[1;36m158.88173149822288\u001b[0m,\u001b[1;36m57.6339141972497\u001b[0m,U\n"
      ]
     },
     "metadata": {},
     "output_type": "display_data"
    },
    {
     "data": {
      "text/html": [
       "<pre style=\"white-space:pre;overflow-x:auto;line-height:normal;font-family:Menlo,'DejaVu Sans Mono',consolas,'Courier New',monospace\"><span style=\"color: #008080; text-decoration-color: #008080; font-weight: bold\">32537</span>,<span style=\"color: #008080; text-decoration-color: #008080; font-weight: bold\">242.710855211143</span>,<span style=\"color: #008080; text-decoration-color: #008080; font-weight: bold\">37.48223168276332</span>,U\n",
       "</pre>\n"
      ],
      "text/plain": [
       "\u001b[1;36m32537\u001b[0m,\u001b[1;36m242.710855211143\u001b[0m,\u001b[1;36m37.48223168276332\u001b[0m,U\n"
      ]
     },
     "metadata": {},
     "output_type": "display_data"
    },
    {
     "data": {
      "text/html": [
       "<pre style=\"white-space:pre;overflow-x:auto;line-height:normal;font-family:Menlo,'DejaVu Sans Mono',consolas,'Courier New',monospace\"><span style=\"color: #008080; text-decoration-color: #008080; font-weight: bold\">42265</span>,<span style=\"color: #008080; text-decoration-color: #008080; font-weight: bold\">174.39599971891013</span>,<span style=\"color: #008080; text-decoration-color: #008080; font-weight: bold\">4.4469664287538695</span>,U\n",
       "</pre>\n"
      ],
      "text/plain": [
       "\u001b[1;36m42265\u001b[0m,\u001b[1;36m174.39599971891013\u001b[0m,\u001b[1;36m4.4469664287538695\u001b[0m,U\n"
      ]
     },
     "metadata": {},
     "output_type": "display_data"
    },
    {
     "data": {
      "text/html": [
       "<pre style=\"white-space:pre;overflow-x:auto;line-height:normal;font-family:Menlo,'DejaVu Sans Mono',consolas,'Courier New',monospace\"><span style=\"color: #008080; text-decoration-color: #008080; font-weight: bold\">10565</span>,<span style=\"color: #008080; text-decoration-color: #008080; font-weight: bold\">162.8797101181917</span>,<span style=\"color: #008080; text-decoration-color: #008080; font-weight: bold\">57.5772376637936</span>,U\n",
       "</pre>\n"
      ],
      "text/plain": [
       "\u001b[1;36m10565\u001b[0m,\u001b[1;36m162.8797101181917\u001b[0m,\u001b[1;36m57.5772376637936\u001b[0m,U\n"
      ]
     },
     "metadata": {},
     "output_type": "display_data"
    },
    {
     "data": {
      "text/html": [
       "<pre style=\"white-space:pre;overflow-x:auto;line-height:normal;font-family:Menlo,'DejaVu Sans Mono',consolas,'Courier New',monospace\"><span style=\"color: #008080; text-decoration-color: #008080; font-weight: bold\">8888</span>,<span style=\"color: #008080; text-decoration-color: #008080; font-weight: bold\">75.44377424661705</span>,<span style=\"color: #008080; text-decoration-color: #008080; font-weight: bold\">-3.9893136478907096</span>,U\n",
       "</pre>\n"
      ],
      "text/plain": [
       "\u001b[1;36m8888\u001b[0m,\u001b[1;36m75.44377424661705\u001b[0m,\u001b[1;36m-3.9893136478907096\u001b[0m,U\n"
      ]
     },
     "metadata": {},
     "output_type": "display_data"
    },
    {
     "data": {
      "text/html": [
       "<pre style=\"white-space:pre;overflow-x:auto;line-height:normal;font-family:Menlo,'DejaVu Sans Mono',consolas,'Courier New',monospace\"><span style=\"color: #008080; text-decoration-color: #008080; font-weight: bold\">42978</span>,<span style=\"color: #008080; text-decoration-color: #008080; font-weight: bold\">228.7551089749806</span>,<span style=\"color: #008080; text-decoration-color: #008080; font-weight: bold\">19.44291394512373</span>,U\n",
       "</pre>\n"
      ],
      "text/plain": [
       "\u001b[1;36m42978\u001b[0m,\u001b[1;36m228.7551089749806\u001b[0m,\u001b[1;36m19.44291394512373\u001b[0m,U\n"
      ]
     },
     "metadata": {},
     "output_type": "display_data"
    },
    {
     "data": {
      "text/html": [
       "<pre style=\"white-space:pre;overflow-x:auto;line-height:normal;font-family:Menlo,'DejaVu Sans Mono',consolas,'Courier New',monospace\"><span style=\"color: #008080; text-decoration-color: #008080; font-weight: bold\">40261</span>,<span style=\"color: #008080; text-decoration-color: #008080; font-weight: bold\">30.551345919244543</span>,<span style=\"color: #008080; text-decoration-color: #008080; font-weight: bold\">-4.655906810674463</span>,U\n",
       "</pre>\n"
      ],
      "text/plain": [
       "\u001b[1;36m40261\u001b[0m,\u001b[1;36m30.551345919244543\u001b[0m,\u001b[1;36m-4.655906810674463\u001b[0m,U\n"
      ]
     },
     "metadata": {},
     "output_type": "display_data"
    },
    {
     "data": {
      "text/html": [
       "<pre style=\"white-space:pre;overflow-x:auto;line-height:normal;font-family:Menlo,'DejaVu Sans Mono',consolas,'Courier New',monospace\"><span style=\"color: #008080; text-decoration-color: #008080; font-weight: bold\">38256</span>,<span style=\"color: #008080; text-decoration-color: #008080; font-weight: bold\">290.14049921694203</span>,<span style=\"color: #008080; text-decoration-color: #008080; font-weight: bold\">37.99434088942987</span>,U\n",
       "</pre>\n"
      ],
      "text/plain": [
       "\u001b[1;36m38256\u001b[0m,\u001b[1;36m290.14049921694203\u001b[0m,\u001b[1;36m37.99434088942987\u001b[0m,U\n"
      ]
     },
     "metadata": {},
     "output_type": "display_data"
    },
    {
     "data": {
      "text/html": [
       "<pre style=\"white-space:pre;overflow-x:auto;line-height:normal;font-family:Menlo,'DejaVu Sans Mono',consolas,'Courier New',monospace\"><span style=\"color: #008080; text-decoration-color: #008080; font-weight: bold\">16207</span>,<span style=\"color: #008080; text-decoration-color: #008080; font-weight: bold\">218.60224527818656</span>,<span style=\"color: #008080; text-decoration-color: #008080; font-weight: bold\">34.30503522695452</span>,U\n",
       "</pre>\n"
      ],
      "text/plain": [
       "\u001b[1;36m16207\u001b[0m,\u001b[1;36m218.60224527818656\u001b[0m,\u001b[1;36m34.30503522695452\u001b[0m,U\n"
      ]
     },
     "metadata": {},
     "output_type": "display_data"
    },
    {
     "data": {
      "text/html": [
       "<pre style=\"white-space:pre;overflow-x:auto;line-height:normal;font-family:Menlo,'DejaVu Sans Mono',consolas,'Courier New',monospace\"><span style=\"color: #008080; text-decoration-color: #008080; font-weight: bold\">12751</span>,<span style=\"color: #008080; text-decoration-color: #008080; font-weight: bold\">10.301769755567635</span>,<span style=\"color: #008080; text-decoration-color: #008080; font-weight: bold\">-45.3169011029188</span>,U\n",
       "</pre>\n"
      ],
      "text/plain": [
       "\u001b[1;36m12751\u001b[0m,\u001b[1;36m10.301769755567635\u001b[0m,\u001b[1;36m-45.3169011029188\u001b[0m,U\n"
      ]
     },
     "metadata": {},
     "output_type": "display_data"
    },
    {
     "data": {
      "text/html": [
       "<pre style=\"white-space:pre;overflow-x:auto;line-height:normal;font-family:Menlo,'DejaVu Sans Mono',consolas,'Courier New',monospace\"><span style=\"color: #008080; text-decoration-color: #008080; font-weight: bold\">32770</span>,<span style=\"color: #008080; text-decoration-color: #008080; font-weight: bold\">220.41106854069656</span>,<span style=\"color: #008080; text-decoration-color: #008080; font-weight: bold\">56.43766138717165</span>,U\n",
       "</pre>\n"
      ],
      "text/plain": [
       "\u001b[1;36m32770\u001b[0m,\u001b[1;36m220.41106854069656\u001b[0m,\u001b[1;36m56.43766138717165\u001b[0m,U\n"
      ]
     },
     "metadata": {},
     "output_type": "display_data"
    },
    {
     "data": {
      "text/html": [
       "<pre style=\"white-space:pre;overflow-x:auto;line-height:normal;font-family:Menlo,'DejaVu Sans Mono',consolas,'Courier New',monospace\"><span style=\"color: #008080; text-decoration-color: #008080; font-weight: bold\">2890</span>,<span style=\"color: #008080; text-decoration-color: #008080; font-weight: bold\">36.46361803080353</span>,<span style=\"color: #008080; text-decoration-color: #008080; font-weight: bold\">-4.892191269338675</span>,U\n",
       "</pre>\n"
      ],
      "text/plain": [
       "\u001b[1;36m2890\u001b[0m,\u001b[1;36m36.46361803080353\u001b[0m,\u001b[1;36m-4.892191269338675\u001b[0m,U\n"
      ]
     },
     "metadata": {},
     "output_type": "display_data"
    },
    {
     "data": {
      "text/html": [
       "<pre style=\"white-space:pre;overflow-x:auto;line-height:normal;font-family:Menlo,'DejaVu Sans Mono',consolas,'Courier New',monospace\"><span style=\"color: #008080; text-decoration-color: #008080; font-weight: bold\">41917</span>,<span style=\"color: #008080; text-decoration-color: #008080; font-weight: bold\">140.4245045982683</span>,<span style=\"color: #008080; text-decoration-color: #008080; font-weight: bold\">31.466854619113136</span>,U\n",
       "</pre>\n"
      ],
      "text/plain": [
       "\u001b[1;36m41917\u001b[0m,\u001b[1;36m140.4245045982683\u001b[0m,\u001b[1;36m31.466854619113136\u001b[0m,U\n"
      ]
     },
     "metadata": {},
     "output_type": "display_data"
    },
    {
     "data": {
      "text/html": [
       "<pre style=\"white-space:pre;overflow-x:auto;line-height:normal;font-family:Menlo,'DejaVu Sans Mono',consolas,'Courier New',monospace\"><span style=\"color: #008080; text-decoration-color: #008080; font-weight: bold\">46117</span>,<span style=\"color: #008080; text-decoration-color: #008080; font-weight: bold\">77.16137065877133</span>,<span style=\"color: #008080; text-decoration-color: #008080; font-weight: bold\">-24.198985630395363</span>,U\n",
       "</pre>\n"
      ],
      "text/plain": [
       "\u001b[1;36m46117\u001b[0m,\u001b[1;36m77.16137065877133\u001b[0m,\u001b[1;36m-24.198985630395363\u001b[0m,U\n"
      ]
     },
     "metadata": {},
     "output_type": "display_data"
    },
    {
     "data": {
      "text/html": [
       "<pre style=\"white-space:pre;overflow-x:auto;line-height:normal;font-family:Menlo,'DejaVu Sans Mono',consolas,'Courier New',monospace\"><span style=\"color: #008080; text-decoration-color: #008080; font-weight: bold\">23150</span>,<span style=\"color: #008080; text-decoration-color: #008080; font-weight: bold\">261.1382623325816</span>,<span style=\"color: #008080; text-decoration-color: #008080; font-weight: bold\">61.09137129394121</span>,U\n",
       "</pre>\n"
      ],
      "text/plain": [
       "\u001b[1;36m23150\u001b[0m,\u001b[1;36m261.1382623325816\u001b[0m,\u001b[1;36m61.09137129394121\u001b[0m,U\n"
      ]
     },
     "metadata": {},
     "output_type": "display_data"
    },
    {
     "data": {
      "text/html": [
       "<pre style=\"white-space:pre;overflow-x:auto;line-height:normal;font-family:Menlo,'DejaVu Sans Mono',consolas,'Courier New',monospace\"><span style=\"color: #008080; text-decoration-color: #008080; font-weight: bold\">21539</span>,<span style=\"color: #008080; text-decoration-color: #008080; font-weight: bold\">185.763399183733</span>,<span style=\"color: #008080; text-decoration-color: #008080; font-weight: bold\">18.154977393978086</span>,U\n",
       "</pre>\n"
      ],
      "text/plain": [
       "\u001b[1;36m21539\u001b[0m,\u001b[1;36m185.763399183733\u001b[0m,\u001b[1;36m18.154977393978086\u001b[0m,U\n"
      ]
     },
     "metadata": {},
     "output_type": "display_data"
    },
    {
     "data": {
      "text/html": [
       "<pre style=\"white-space:pre;overflow-x:auto;line-height:normal;font-family:Menlo,'DejaVu Sans Mono',consolas,'Courier New',monospace\"><span style=\"color: #008080; text-decoration-color: #008080; font-weight: bold\">38295</span>,<span style=\"color: #008080; text-decoration-color: #008080; font-weight: bold\">288.7529035875103</span>,<span style=\"color: #008080; text-decoration-color: #008080; font-weight: bold\">41.2316494776626</span>,U\n",
       "</pre>\n"
      ],
      "text/plain": [
       "\u001b[1;36m38295\u001b[0m,\u001b[1;36m288.7529035875103\u001b[0m,\u001b[1;36m41.2316494776626\u001b[0m,U\n"
      ]
     },
     "metadata": {},
     "output_type": "display_data"
    },
    {
     "data": {
      "text/html": [
       "<pre style=\"white-space:pre;overflow-x:auto;line-height:normal;font-family:Menlo,'DejaVu Sans Mono',consolas,'Courier New',monospace\"><span style=\"color: #008080; text-decoration-color: #008080; font-weight: bold\">38940</span>,<span style=\"color: #008080; text-decoration-color: #008080; font-weight: bold\">301.99297805294265</span>,<span style=\"color: #008080; text-decoration-color: #008080; font-weight: bold\">-6.284262448523488</span>,U\n",
       "</pre>\n"
      ],
      "text/plain": [
       "\u001b[1;36m38940\u001b[0m,\u001b[1;36m301.99297805294265\u001b[0m,\u001b[1;36m-6.284262448523488\u001b[0m,U\n"
      ]
     },
     "metadata": {},
     "output_type": "display_data"
    },
    {
     "data": {
      "text/html": [
       "<pre style=\"white-space:pre;overflow-x:auto;line-height:normal;font-family:Menlo,'DejaVu Sans Mono',consolas,'Courier New',monospace\"><span style=\"color: #008080; text-decoration-color: #008080; font-weight: bold\">28977</span>,<span style=\"color: #008080; text-decoration-color: #008080; font-weight: bold\">17.677049894456626</span>,<span style=\"color: #008080; text-decoration-color: #008080; font-weight: bold\">4.972455702851585</span>,U\n",
       "</pre>\n"
      ],
      "text/plain": [
       "\u001b[1;36m28977\u001b[0m,\u001b[1;36m17.677049894456626\u001b[0m,\u001b[1;36m4.972455702851585\u001b[0m,U\n"
      ]
     },
     "metadata": {},
     "output_type": "display_data"
    },
    {
     "data": {
      "text/html": [
       "<pre style=\"white-space:pre;overflow-x:auto;line-height:normal;font-family:Menlo,'DejaVu Sans Mono',consolas,'Courier New',monospace\"><span style=\"color: #008080; text-decoration-color: #008080; font-weight: bold\">30901</span>,<span style=\"color: #008080; text-decoration-color: #008080; font-weight: bold\">72.05588465872763</span>,<span style=\"color: #008080; text-decoration-color: #008080; font-weight: bold\">-53.80189658804922</span>,U\n",
       "</pre>\n"
      ],
      "text/plain": [
       "\u001b[1;36m30901\u001b[0m,\u001b[1;36m72.05588465872763\u001b[0m,\u001b[1;36m-53.80189658804922\u001b[0m,U\n"
      ]
     },
     "metadata": {},
     "output_type": "display_data"
    },
    {
     "data": {
      "text/html": [
       "<pre style=\"white-space:pre;overflow-x:auto;line-height:normal;font-family:Menlo,'DejaVu Sans Mono',consolas,'Courier New',monospace\"><span style=\"color: #008080; text-decoration-color: #008080; font-weight: bold\">17228</span>,<span style=\"color: #008080; text-decoration-color: #008080; font-weight: bold\">258.3287023472059</span>,<span style=\"color: #008080; text-decoration-color: #008080; font-weight: bold\">60.62081889231657</span>,U\n",
       "</pre>\n"
      ],
      "text/plain": [
       "\u001b[1;36m17228\u001b[0m,\u001b[1;36m258.3287023472059\u001b[0m,\u001b[1;36m60.62081889231657\u001b[0m,U\n"
      ]
     },
     "metadata": {},
     "output_type": "display_data"
    },
    {
     "data": {
      "text/html": [
       "<pre style=\"white-space:pre;overflow-x:auto;line-height:normal;font-family:Menlo,'DejaVu Sans Mono',consolas,'Courier New',monospace\"><span style=\"color: #008080; text-decoration-color: #008080; font-weight: bold\">8586</span>,<span style=\"color: #008080; text-decoration-color: #008080; font-weight: bold\">7.180129246061991</span>,<span style=\"color: #008080; text-decoration-color: #008080; font-weight: bold\">-44.00662854637874</span>,U\n",
       "</pre>\n"
      ],
      "text/plain": [
       "\u001b[1;36m8586\u001b[0m,\u001b[1;36m7.180129246061991\u001b[0m,\u001b[1;36m-44.00662854637874\u001b[0m,U\n"
      ]
     },
     "metadata": {},
     "output_type": "display_data"
    },
    {
     "data": {
      "text/html": [
       "<pre style=\"white-space:pre;overflow-x:auto;line-height:normal;font-family:Menlo,'DejaVu Sans Mono',consolas,'Courier New',monospace\"><span style=\"color: #008080; text-decoration-color: #008080; font-weight: bold\">41792</span>,<span style=\"color: #008080; text-decoration-color: #008080; font-weight: bold\">138.86321778347653</span>,<span style=\"color: #008080; text-decoration-color: #008080; font-weight: bold\">30.63508998449288</span>,U\n",
       "</pre>\n"
      ],
      "text/plain": [
       "\u001b[1;36m41792\u001b[0m,\u001b[1;36m138.86321778347653\u001b[0m,\u001b[1;36m30.63508998449288\u001b[0m,U\n"
      ]
     },
     "metadata": {},
     "output_type": "display_data"
    },
    {
     "data": {
      "text/html": [
       "<pre style=\"white-space:pre;overflow-x:auto;line-height:normal;font-family:Menlo,'DejaVu Sans Mono',consolas,'Courier New',monospace\"><span style=\"color: #008080; text-decoration-color: #008080; font-weight: bold\">3908</span>,<span style=\"color: #008080; text-decoration-color: #008080; font-weight: bold\">142.60100371773277</span>,<span style=\"color: #008080; text-decoration-color: #008080; font-weight: bold\">61.34232869334704</span>,U\n",
       "</pre>\n"
      ],
      "text/plain": [
       "\u001b[1;36m3908\u001b[0m,\u001b[1;36m142.60100371773277\u001b[0m,\u001b[1;36m61.34232869334704\u001b[0m,U\n"
      ]
     },
     "metadata": {},
     "output_type": "display_data"
    },
    {
     "data": {
      "text/html": [
       "<pre style=\"white-space:pre;overflow-x:auto;line-height:normal;font-family:Menlo,'DejaVu Sans Mono',consolas,'Courier New',monospace\"><span style=\"color: #008080; text-decoration-color: #008080; font-weight: bold\">6348</span>,<span style=\"color: #008080; text-decoration-color: #008080; font-weight: bold\">253.1936234053856</span>,<span style=\"color: #008080; text-decoration-color: #008080; font-weight: bold\">35.219861213844354</span>,U\n",
       "</pre>\n"
      ],
      "text/plain": [
       "\u001b[1;36m6348\u001b[0m,\u001b[1;36m253.1936234053856\u001b[0m,\u001b[1;36m35.219861213844354\u001b[0m,U\n"
      ]
     },
     "metadata": {},
     "output_type": "display_data"
    },
    {
     "data": {
      "text/html": [
       "<pre style=\"white-space:pre;overflow-x:auto;line-height:normal;font-family:Menlo,'DejaVu Sans Mono',consolas,'Courier New',monospace\"><span style=\"color: #008080; text-decoration-color: #008080; font-weight: bold\">40330</span>,<span style=\"color: #008080; text-decoration-color: #008080; font-weight: bold\">37.13590319791115</span>,<span style=\"color: #008080; text-decoration-color: #008080; font-weight: bold\">-8.358677009380436</span>,U\n",
       "</pre>\n"
      ],
      "text/plain": [
       "\u001b[1;36m40330\u001b[0m,\u001b[1;36m37.13590319791115\u001b[0m,\u001b[1;36m-8.358677009380436\u001b[0m,U\n"
      ]
     },
     "metadata": {},
     "output_type": "display_data"
    },
    {
     "data": {
      "text/html": [
       "<pre style=\"white-space:pre;overflow-x:auto;line-height:normal;font-family:Menlo,'DejaVu Sans Mono',consolas,'Courier New',monospace\"><span style=\"color: #008080; text-decoration-color: #008080; font-weight: bold\">42529</span>,<span style=\"color: #008080; text-decoration-color: #008080; font-weight: bold\">172.92953728594406</span>,<span style=\"color: #008080; text-decoration-color: #008080; font-weight: bold\">56.20321327293456</span>,U\n",
       "</pre>\n"
      ],
      "text/plain": [
       "\u001b[1;36m42529\u001b[0m,\u001b[1;36m172.92953728594406\u001b[0m,\u001b[1;36m56.20321327293456\u001b[0m,U\n"
      ]
     },
     "metadata": {},
     "output_type": "display_data"
    },
    {
     "data": {
      "text/html": [
       "<pre style=\"white-space:pre;overflow-x:auto;line-height:normal;font-family:Menlo,'DejaVu Sans Mono',consolas,'Courier New',monospace\"><span style=\"color: #008080; text-decoration-color: #008080; font-weight: bold\">11092</span>,<span style=\"color: #008080; text-decoration-color: #008080; font-weight: bold\">219.229131295241</span>,<span style=\"color: #008080; text-decoration-color: #008080; font-weight: bold\">34.06625988685769</span>,U\n",
       "</pre>\n"
      ],
      "text/plain": [
       "\u001b[1;36m11092\u001b[0m,\u001b[1;36m219.229131295241\u001b[0m,\u001b[1;36m34.06625988685769\u001b[0m,U\n"
      ]
     },
     "metadata": {},
     "output_type": "display_data"
    },
    {
     "data": {
      "text/html": [
       "<pre style=\"white-space:pre;overflow-x:auto;line-height:normal;font-family:Menlo,'DejaVu Sans Mono',consolas,'Courier New',monospace\"><span style=\"color: #008080; text-decoration-color: #008080; font-weight: bold\">5474</span>,<span style=\"color: #008080; text-decoration-color: #008080; font-weight: bold\">225.1483346608821</span>,<span style=\"color: #008080; text-decoration-color: #008080; font-weight: bold\">4.755177796333291</span>,U\n",
       "</pre>\n"
      ],
      "text/plain": [
       "\u001b[1;36m5474\u001b[0m,\u001b[1;36m225.1483346608821\u001b[0m,\u001b[1;36m4.755177796333291\u001b[0m,U\n"
      ]
     },
     "metadata": {},
     "output_type": "display_data"
    },
    {
     "data": {
      "text/html": [
       "<pre style=\"white-space:pre;overflow-x:auto;line-height:normal;font-family:Menlo,'DejaVu Sans Mono',consolas,'Courier New',monospace\"><span style=\"color: #008080; text-decoration-color: #008080; font-weight: bold\">11625</span>,<span style=\"color: #008080; text-decoration-color: #008080; font-weight: bold\">203.26493977904752</span>,<span style=\"color: #008080; text-decoration-color: #008080; font-weight: bold\">-8.599297852013024</span>,U\n",
       "</pre>\n"
      ],
      "text/plain": [
       "\u001b[1;36m11625\u001b[0m,\u001b[1;36m203.26493977904752\u001b[0m,\u001b[1;36m-8.599297852013024\u001b[0m,U\n"
      ]
     },
     "metadata": {},
     "output_type": "display_data"
    },
    {
     "data": {
      "text/html": [
       "<pre style=\"white-space:pre;overflow-x:auto;line-height:normal;font-family:Menlo,'DejaVu Sans Mono',consolas,'Courier New',monospace\"><span style=\"color: #008080; text-decoration-color: #008080; font-weight: bold\">26155</span>,<span style=\"color: #008080; text-decoration-color: #008080; font-weight: bold\">153.7894859356669</span>,<span style=\"color: #008080; text-decoration-color: #008080; font-weight: bold\">-3.142747457449501</span>,U\n",
       "</pre>\n"
      ],
      "text/plain": [
       "\u001b[1;36m26155\u001b[0m,\u001b[1;36m153.7894859356669\u001b[0m,\u001b[1;36m-3.142747457449501\u001b[0m,U\n"
      ]
     },
     "metadata": {},
     "output_type": "display_data"
    },
    {
     "data": {
      "text/html": [
       "<pre style=\"white-space:pre;overflow-x:auto;line-height:normal;font-family:Menlo,'DejaVu Sans Mono',consolas,'Courier New',monospace\"><span style=\"color: #008080; text-decoration-color: #008080; font-weight: bold\">42813</span>,<span style=\"color: #008080; text-decoration-color: #008080; font-weight: bold\">244.488782569361</span>,<span style=\"color: #008080; text-decoration-color: #008080; font-weight: bold\">54.684206516208285</span>,U\n",
       "</pre>\n"
      ],
      "text/plain": [
       "\u001b[1;36m42813\u001b[0m,\u001b[1;36m244.488782569361\u001b[0m,\u001b[1;36m54.684206516208285\u001b[0m,U\n"
      ]
     },
     "metadata": {},
     "output_type": "display_data"
    },
    {
     "data": {
      "text/html": [
       "<pre style=\"white-space:pre;overflow-x:auto;line-height:normal;font-family:Menlo,'DejaVu Sans Mono',consolas,'Courier New',monospace\"><span style=\"color: #008080; text-decoration-color: #008080; font-weight: bold\">31936</span>,<span style=\"color: #008080; text-decoration-color: #008080; font-weight: bold\">183.80860634992845</span>,<span style=\"color: #008080; text-decoration-color: #008080; font-weight: bold\">-0.7008379925878427</span>,U\n",
       "</pre>\n"
      ],
      "text/plain": [
       "\u001b[1;36m31936\u001b[0m,\u001b[1;36m183.80860634992845\u001b[0m,\u001b[1;36m-0.7008379925878427\u001b[0m,U\n"
      ]
     },
     "metadata": {},
     "output_type": "display_data"
    },
    {
     "data": {
      "text/html": [
       "<pre style=\"white-space:pre;overflow-x:auto;line-height:normal;font-family:Menlo,'DejaVu Sans Mono',consolas,'Courier New',monospace\"><span style=\"color: #008080; text-decoration-color: #008080; font-weight: bold\">27693</span>,<span style=\"color: #008080; text-decoration-color: #008080; font-weight: bold\">267.8865954364334</span>,<span style=\"color: #008080; text-decoration-color: #008080; font-weight: bold\">66.87494501484726</span>,U\n",
       "</pre>\n"
      ],
      "text/plain": [
       "\u001b[1;36m27693\u001b[0m,\u001b[1;36m267.8865954364334\u001b[0m,\u001b[1;36m66.87494501484726\u001b[0m,U\n"
      ]
     },
     "metadata": {},
     "output_type": "display_data"
    },
    {
     "data": {
      "text/html": [
       "<pre style=\"white-space:pre;overflow-x:auto;line-height:normal;font-family:Menlo,'DejaVu Sans Mono',consolas,'Courier New',monospace\"><span style=\"color: #008080; text-decoration-color: #008080; font-weight: bold\">45040</span>,<span style=\"color: #008080; text-decoration-color: #008080; font-weight: bold\">346.2574585288</span>,<span style=\"color: #008080; text-decoration-color: #008080; font-weight: bold\">17.410069967467233</span>,U\n",
       "</pre>\n"
      ],
      "text/plain": [
       "\u001b[1;36m45040\u001b[0m,\u001b[1;36m346.2574585288\u001b[0m,\u001b[1;36m17.410069967467233\u001b[0m,U\n"
      ]
     },
     "metadata": {},
     "output_type": "display_data"
    },
    {
     "data": {
      "text/html": [
       "<pre style=\"white-space:pre;overflow-x:auto;line-height:normal;font-family:Menlo,'DejaVu Sans Mono',consolas,'Courier New',monospace\"><span style=\"color: #008080; text-decoration-color: #008080; font-weight: bold\">42978</span>,<span style=\"color: #008080; text-decoration-color: #008080; font-weight: bold\">228.75390252900613</span>,<span style=\"color: #008080; text-decoration-color: #008080; font-weight: bold\">19.461202568835997</span>,U\n",
       "</pre>\n"
      ],
      "text/plain": [
       "\u001b[1;36m42978\u001b[0m,\u001b[1;36m228.75390252900613\u001b[0m,\u001b[1;36m19.461202568835997\u001b[0m,U\n"
      ]
     },
     "metadata": {},
     "output_type": "display_data"
    },
    {
     "data": {
      "text/html": [
       "<pre style=\"white-space:pre;overflow-x:auto;line-height:normal;font-family:Menlo,'DejaVu Sans Mono',consolas,'Courier New',monospace\"><span style=\"color: #008080; text-decoration-color: #008080; font-weight: bold\">42932</span>,<span style=\"color: #008080; text-decoration-color: #008080; font-weight: bold\">123.33283307678884</span>,<span style=\"color: #008080; text-decoration-color: #008080; font-weight: bold\">-78.5047044566173</span>,U\n",
       "</pre>\n"
      ],
      "text/plain": [
       "\u001b[1;36m42932\u001b[0m,\u001b[1;36m123.33283307678884\u001b[0m,\u001b[1;36m-78.5047044566173\u001b[0m,U\n"
      ]
     },
     "metadata": {},
     "output_type": "display_data"
    },
    {
     "data": {
      "text/html": [
       "<pre style=\"white-space:pre;overflow-x:auto;line-height:normal;font-family:Menlo,'DejaVu Sans Mono',consolas,'Courier New',monospace\"><span style=\"color: #008080; text-decoration-color: #008080; font-weight: bold\">17636</span>,<span style=\"color: #008080; text-decoration-color: #008080; font-weight: bold\">326.2222208859231</span>,<span style=\"color: #008080; text-decoration-color: #008080; font-weight: bold\">4.361580908033786</span>,U\n",
       "</pre>\n"
      ],
      "text/plain": [
       "\u001b[1;36m17636\u001b[0m,\u001b[1;36m326.2222208859231\u001b[0m,\u001b[1;36m4.361580908033786\u001b[0m,U\n"
      ]
     },
     "metadata": {},
     "output_type": "display_data"
    },
    {
     "data": {
      "text/html": [
       "<pre style=\"white-space:pre;overflow-x:auto;line-height:normal;font-family:Menlo,'DejaVu Sans Mono',consolas,'Courier New',monospace\"><span style=\"color: #008080; text-decoration-color: #008080; font-weight: bold\">44708</span>,<span style=\"color: #008080; text-decoration-color: #008080; font-weight: bold\">316.99252698518904</span>,<span style=\"color: #008080; text-decoration-color: #008080; font-weight: bold\">-5.295146711546521</span>,U\n",
       "</pre>\n"
      ],
      "text/plain": [
       "\u001b[1;36m44708\u001b[0m,\u001b[1;36m316.99252698518904\u001b[0m,\u001b[1;36m-5.295146711546521\u001b[0m,U\n"
      ]
     },
     "metadata": {},
     "output_type": "display_data"
    },
    {
     "data": {
      "text/html": [
       "<pre style=\"white-space:pre;overflow-x:auto;line-height:normal;font-family:Menlo,'DejaVu Sans Mono',consolas,'Courier New',monospace\"><span style=\"color: #008080; text-decoration-color: #008080; font-weight: bold\">19259</span>,<span style=\"color: #008080; text-decoration-color: #008080; font-weight: bold\">51.20378591092518</span>,<span style=\"color: #008080; text-decoration-color: #008080; font-weight: bold\">-10.970599581247342</span>,U\n",
       "</pre>\n"
      ],
      "text/plain": [
       "\u001b[1;36m19259\u001b[0m,\u001b[1;36m51.20378591092518\u001b[0m,\u001b[1;36m-10.970599581247342\u001b[0m,U\n"
      ]
     },
     "metadata": {},
     "output_type": "display_data"
    },
    {
     "data": {
      "text/html": [
       "<pre style=\"white-space:pre;overflow-x:auto;line-height:normal;font-family:Menlo,'DejaVu Sans Mono',consolas,'Courier New',monospace\"><span style=\"color: #008080; text-decoration-color: #008080; font-weight: bold\">8715</span>,<span style=\"color: #008080; text-decoration-color: #008080; font-weight: bold\">89.67277202300559</span>,<span style=\"color: #008080; text-decoration-color: #008080; font-weight: bold\">-40.07079265227743</span>,U\n",
       "</pre>\n"
      ],
      "text/plain": [
       "\u001b[1;36m8715\u001b[0m,\u001b[1;36m89.67277202300559\u001b[0m,\u001b[1;36m-40.07079265227743\u001b[0m,U\n"
      ]
     },
     "metadata": {},
     "output_type": "display_data"
    },
    {
     "data": {
      "text/html": [
       "<pre style=\"white-space:pre;overflow-x:auto;line-height:normal;font-family:Menlo,'DejaVu Sans Mono',consolas,'Courier New',monospace\"><span style=\"color: #008080; text-decoration-color: #008080; font-weight: bold\">38820</span>,<span style=\"color: #008080; text-decoration-color: #008080; font-weight: bold\">292.384615636286</span>,<span style=\"color: #008080; text-decoration-color: #008080; font-weight: bold\">-20.6578370807342</span>,U\n",
       "</pre>\n"
      ],
      "text/plain": [
       "\u001b[1;36m38820\u001b[0m,\u001b[1;36m292.384615636286\u001b[0m,\u001b[1;36m-20.6578370807342\u001b[0m,U\n"
      ]
     },
     "metadata": {},
     "output_type": "display_data"
    },
    {
     "data": {
      "text/html": [
       "<pre style=\"white-space:pre;overflow-x:auto;line-height:normal;font-family:Menlo,'DejaVu Sans Mono',consolas,'Courier New',monospace\"><span style=\"color: #008080; text-decoration-color: #008080; font-weight: bold\">2102</span>,<span style=\"color: #008080; text-decoration-color: #008080; font-weight: bold\">5.129592069622395</span>,<span style=\"color: #008080; text-decoration-color: #008080; font-weight: bold\">-9.859987365337904</span>,U\n",
       "</pre>\n"
      ],
      "text/plain": [
       "\u001b[1;36m2102\u001b[0m,\u001b[1;36m5.129592069622395\u001b[0m,\u001b[1;36m-9.859987365337904\u001b[0m,U\n"
      ]
     },
     "metadata": {},
     "output_type": "display_data"
    },
    {
     "data": {
      "text/html": [
       "<pre style=\"white-space:pre;overflow-x:auto;line-height:normal;font-family:Menlo,'DejaVu Sans Mono',consolas,'Courier New',monospace\"><span style=\"color: #008080; text-decoration-color: #008080; font-weight: bold\">43161</span>,<span style=\"color: #008080; text-decoration-color: #008080; font-weight: bold\">220.09319238918172</span>,<span style=\"color: #008080; text-decoration-color: #008080; font-weight: bold\">33.24982558414291</span>,U\n",
       "</pre>\n"
      ],
      "text/plain": [
       "\u001b[1;36m43161\u001b[0m,\u001b[1;36m220.09319238918172\u001b[0m,\u001b[1;36m33.24982558414291\u001b[0m,U\n"
      ]
     },
     "metadata": {},
     "output_type": "display_data"
    },
    {
     "data": {
      "text/html": [
       "<pre style=\"white-space:pre;overflow-x:auto;line-height:normal;font-family:Menlo,'DejaVu Sans Mono',consolas,'Courier New',monospace\"><span style=\"color: #008080; text-decoration-color: #008080; font-weight: bold\">31174</span>,<span style=\"color: #008080; text-decoration-color: #008080; font-weight: bold\">166.27173711935</span>,<span style=\"color: #008080; text-decoration-color: #008080; font-weight: bold\">5.151642533600703</span>,U\n",
       "</pre>\n"
      ],
      "text/plain": [
       "\u001b[1;36m31174\u001b[0m,\u001b[1;36m166.27173711935\u001b[0m,\u001b[1;36m5.151642533600703\u001b[0m,U\n"
      ]
     },
     "metadata": {},
     "output_type": "display_data"
    },
    {
     "data": {
      "text/html": [
       "<pre style=\"white-space:pre;overflow-x:auto;line-height:normal;font-family:Menlo,'DejaVu Sans Mono',consolas,'Courier New',monospace\"><span style=\"color: #008080; text-decoration-color: #008080; font-weight: bold\">4560</span>,<span style=\"color: #008080; text-decoration-color: #008080; font-weight: bold\">162.18496476924332</span>,<span style=\"color: #008080; text-decoration-color: #008080; font-weight: bold\">58.26034581173311</span>,U\n",
       "</pre>\n"
      ],
      "text/plain": [
       "\u001b[1;36m4560\u001b[0m,\u001b[1;36m162.18496476924332\u001b[0m,\u001b[1;36m58.26034581173311\u001b[0m,U\n"
      ]
     },
     "metadata": {},
     "output_type": "display_data"
    },
    {
     "data": {
      "text/html": [
       "<pre style=\"white-space:pre;overflow-x:auto;line-height:normal;font-family:Menlo,'DejaVu Sans Mono',consolas,'Courier New',monospace\"><span style=\"color: #008080; text-decoration-color: #008080; font-weight: bold\">27693</span>,<span style=\"color: #008080; text-decoration-color: #008080; font-weight: bold\">268.45018673284545</span>,<span style=\"color: #008080; text-decoration-color: #008080; font-weight: bold\">66.42524387575973</span>,U\n",
       "</pre>\n"
      ],
      "text/plain": [
       "\u001b[1;36m27693\u001b[0m,\u001b[1;36m268.45018673284545\u001b[0m,\u001b[1;36m66.42524387575973\u001b[0m,U\n"
      ]
     },
     "metadata": {},
     "output_type": "display_data"
    },
    {
     "data": {
      "text/html": [
       "<pre style=\"white-space:pre;overflow-x:auto;line-height:normal;font-family:Menlo,'DejaVu Sans Mono',consolas,'Courier New',monospace\"><span style=\"color: #008080; text-decoration-color: #008080; font-weight: bold\">14198</span>,<span style=\"color: #008080; text-decoration-color: #008080; font-weight: bold\">101.78817092242365</span>,<span style=\"color: #008080; text-decoration-color: #008080; font-weight: bold\">-36.38100883028059</span>,U\n",
       "</pre>\n"
      ],
      "text/plain": [
       "\u001b[1;36m14198\u001b[0m,\u001b[1;36m101.78817092242365\u001b[0m,\u001b[1;36m-36.38100883028059\u001b[0m,U\n"
      ]
     },
     "metadata": {},
     "output_type": "display_data"
    },
    {
     "data": {
      "text/html": [
       "<pre style=\"white-space:pre;overflow-x:auto;line-height:normal;font-family:Menlo,'DejaVu Sans Mono',consolas,'Courier New',monospace\"><span style=\"color: #008080; text-decoration-color: #008080; font-weight: bold\">6734</span>,<span style=\"color: #008080; text-decoration-color: #008080; font-weight: bold\">253.1937211548146</span>,<span style=\"color: #008080; text-decoration-color: #008080; font-weight: bold\">35.21973481507955</span>,U\n",
       "</pre>\n"
      ],
      "text/plain": [
       "\u001b[1;36m6734\u001b[0m,\u001b[1;36m253.1937211548146\u001b[0m,\u001b[1;36m35.21973481507955\u001b[0m,U\n"
      ]
     },
     "metadata": {},
     "output_type": "display_data"
    },
    {
     "data": {
      "text/html": [
       "<pre style=\"white-space:pre;overflow-x:auto;line-height:normal;font-family:Menlo,'DejaVu Sans Mono',consolas,'Courier New',monospace\"><span style=\"color: #008080; text-decoration-color: #008080; font-weight: bold\">11873</span>,<span style=\"color: #008080; text-decoration-color: #008080; font-weight: bold\">248.4371622623025</span>,<span style=\"color: #008080; text-decoration-color: #008080; font-weight: bold\">41.79547289357484</span>,U\n",
       "</pre>\n"
      ],
      "text/plain": [
       "\u001b[1;36m11873\u001b[0m,\u001b[1;36m248.4371622623025\u001b[0m,\u001b[1;36m41.79547289357484\u001b[0m,U\n"
      ]
     },
     "metadata": {},
     "output_type": "display_data"
    },
    {
     "data": {
      "text/html": [
       "<pre style=\"white-space:pre;overflow-x:auto;line-height:normal;font-family:Menlo,'DejaVu Sans Mono',consolas,'Courier New',monospace\"><span style=\"color: #008080; text-decoration-color: #008080; font-weight: bold\">8117</span>,<span style=\"color: #008080; text-decoration-color: #008080; font-weight: bold\">34.51025161355808</span>,<span style=\"color: #008080; text-decoration-color: #008080; font-weight: bold\">-8.890785225365493</span>,U\n",
       "</pre>\n"
      ],
      "text/plain": [
       "\u001b[1;36m8117\u001b[0m,\u001b[1;36m34.51025161355808\u001b[0m,\u001b[1;36m-8.890785225365493\u001b[0m,U\n"
      ]
     },
     "metadata": {},
     "output_type": "display_data"
    },
    {
     "data": {
      "text/html": [
       "<pre style=\"white-space:pre;overflow-x:auto;line-height:normal;font-family:Menlo,'DejaVu Sans Mono',consolas,'Courier New',monospace\"><span style=\"color: #008080; text-decoration-color: #008080; font-weight: bold\">41416</span>,<span style=\"color: #008080; text-decoration-color: #008080; font-weight: bold\">150.33298810920704</span>,<span style=\"color: #008080; text-decoration-color: #008080; font-weight: bold\">20.62931862389689</span>,U\n",
       "</pre>\n"
      ],
      "text/plain": [
       "\u001b[1;36m41416\u001b[0m,\u001b[1;36m150.33298810920704\u001b[0m,\u001b[1;36m20.62931862389689\u001b[0m,U\n"
      ]
     },
     "metadata": {},
     "output_type": "display_data"
    },
    {
     "data": {
      "text/html": [
       "<pre style=\"white-space:pre;overflow-x:auto;line-height:normal;font-family:Menlo,'DejaVu Sans Mono',consolas,'Courier New',monospace\"><span style=\"color: #008080; text-decoration-color: #008080; font-weight: bold\">43300</span>,<span style=\"color: #008080; text-decoration-color: #008080; font-weight: bold\">243.83722243014356</span>,<span style=\"color: #008080; text-decoration-color: #008080; font-weight: bold\">54.46191196404636</span>,U\n",
       "</pre>\n"
      ],
      "text/plain": [
       "\u001b[1;36m43300\u001b[0m,\u001b[1;36m243.83722243014356\u001b[0m,\u001b[1;36m54.46191196404636\u001b[0m,U\n"
      ]
     },
     "metadata": {},
     "output_type": "display_data"
    },
    {
     "data": {
      "text/html": [
       "<pre style=\"white-space:pre;overflow-x:auto;line-height:normal;font-family:Menlo,'DejaVu Sans Mono',consolas,'Courier New',monospace\"><span style=\"color: #008080; text-decoration-color: #008080; font-weight: bold\">38719</span>,<span style=\"color: #008080; text-decoration-color: #008080; font-weight: bold\">333.5253178485096</span>,<span style=\"color: #008080; text-decoration-color: #008080; font-weight: bold\">0.9936593138178348</span>,U\n",
       "</pre>\n"
      ],
      "text/plain": [
       "\u001b[1;36m38719\u001b[0m,\u001b[1;36m333.5253178485096\u001b[0m,\u001b[1;36m0.9936593138178348\u001b[0m,U\n"
      ]
     },
     "metadata": {},
     "output_type": "display_data"
    },
    {
     "data": {
      "text/html": [
       "<pre style=\"white-space:pre;overflow-x:auto;line-height:normal;font-family:Menlo,'DejaVu Sans Mono',consolas,'Courier New',monospace\"><span style=\"color: #008080; text-decoration-color: #008080; font-weight: bold\">3788</span>,<span style=\"color: #008080; text-decoration-color: #008080; font-weight: bold\">116.27677308120252</span>,<span style=\"color: #008080; text-decoration-color: #008080; font-weight: bold\">43.11131178105446</span>,U\n",
       "</pre>\n"
      ],
      "text/plain": [
       "\u001b[1;36m3788\u001b[0m,\u001b[1;36m116.27677308120252\u001b[0m,\u001b[1;36m43.11131178105446\u001b[0m,U\n"
      ]
     },
     "metadata": {},
     "output_type": "display_data"
    },
    {
     "data": {
      "text/html": [
       "<pre style=\"white-space:pre;overflow-x:auto;line-height:normal;font-family:Menlo,'DejaVu Sans Mono',consolas,'Courier New',monospace\"><span style=\"color: #008080; text-decoration-color: #008080; font-weight: bold\">8308</span>,<span style=\"color: #008080; text-decoration-color: #008080; font-weight: bold\">41.90218878840077</span>,<span style=\"color: #008080; text-decoration-color: #008080; font-weight: bold\">-2.965611202589416</span>,U\n",
       "</pre>\n"
      ],
      "text/plain": [
       "\u001b[1;36m8308\u001b[0m,\u001b[1;36m41.90218878840077\u001b[0m,\u001b[1;36m-2.965611202589416\u001b[0m,U\n"
      ]
     },
     "metadata": {},
     "output_type": "display_data"
    },
    {
     "data": {
      "text/html": [
       "<pre style=\"white-space:pre;overflow-x:auto;line-height:normal;font-family:Menlo,'DejaVu Sans Mono',consolas,'Courier New',monospace\"><span style=\"color: #008080; text-decoration-color: #008080; font-weight: bold\">30602</span>,<span style=\"color: #008080; text-decoration-color: #008080; font-weight: bold\">129.3250921277599</span>,<span style=\"color: #008080; text-decoration-color: #008080; font-weight: bold\">3.834818421482955</span>,U\n",
       "</pre>\n"
      ],
      "text/plain": [
       "\u001b[1;36m30602\u001b[0m,\u001b[1;36m129.3250921277599\u001b[0m,\u001b[1;36m3.834818421482955\u001b[0m,U\n"
      ]
     },
     "metadata": {},
     "output_type": "display_data"
    },
    {
     "data": {
      "text/html": [
       "<pre style=\"white-space:pre;overflow-x:auto;line-height:normal;font-family:Menlo,'DejaVu Sans Mono',consolas,'Courier New',monospace\"><span style=\"color: #008080; text-decoration-color: #008080; font-weight: bold\">12016</span>,<span style=\"color: #008080; text-decoration-color: #008080; font-weight: bold\">245.83303141576687</span>,<span style=\"color: #008080; text-decoration-color: #008080; font-weight: bold\">55.81620643002237</span>,U\n",
       "</pre>\n"
      ],
      "text/plain": [
       "\u001b[1;36m12016\u001b[0m,\u001b[1;36m245.83303141576687\u001b[0m,\u001b[1;36m55.81620643002237\u001b[0m,U\n"
      ]
     },
     "metadata": {},
     "output_type": "display_data"
    },
    {
     "data": {
      "text/html": [
       "<pre style=\"white-space:pre;overflow-x:auto;line-height:normal;font-family:Menlo,'DejaVu Sans Mono',consolas,'Courier New',monospace\"><span style=\"color: #008080; text-decoration-color: #008080; font-weight: bold\">9708</span>,<span style=\"color: #008080; text-decoration-color: #008080; font-weight: bold\">163.7814356296664</span>,<span style=\"color: #008080; text-decoration-color: #008080; font-weight: bold\">-3.949325443039047</span>,U\n",
       "</pre>\n"
      ],
      "text/plain": [
       "\u001b[1;36m9708\u001b[0m,\u001b[1;36m163.7814356296664\u001b[0m,\u001b[1;36m-3.949325443039047\u001b[0m,U\n"
      ]
     },
     "metadata": {},
     "output_type": "display_data"
    },
    {
     "data": {
      "text/html": [
       "<pre style=\"white-space:pre;overflow-x:auto;line-height:normal;font-family:Menlo,'DejaVu Sans Mono',consolas,'Courier New',monospace\"><span style=\"color: #008080; text-decoration-color: #008080; font-weight: bold\">31334</span>,<span style=\"color: #008080; text-decoration-color: #008080; font-weight: bold\">175.09269110912413</span>,<span style=\"color: #008080; text-decoration-color: #008080; font-weight: bold\">2.4028527058477955</span>,U\n",
       "</pre>\n"
      ],
      "text/plain": [
       "\u001b[1;36m31334\u001b[0m,\u001b[1;36m175.09269110912413\u001b[0m,\u001b[1;36m2.4028527058477955\u001b[0m,U\n"
      ]
     },
     "metadata": {},
     "output_type": "display_data"
    },
    {
     "data": {
      "text/html": [
       "<pre style=\"white-space:pre;overflow-x:auto;line-height:normal;font-family:Menlo,'DejaVu Sans Mono',consolas,'Courier New',monospace\"><span style=\"color: #008080; text-decoration-color: #008080; font-weight: bold\">14560</span>,<span style=\"color: #008080; text-decoration-color: #008080; font-weight: bold\">138.7186029207982</span>,<span style=\"color: #008080; text-decoration-color: #008080; font-weight: bold\">34.30935060396468</span>,U\n",
       "</pre>\n"
      ],
      "text/plain": [
       "\u001b[1;36m14560\u001b[0m,\u001b[1;36m138.7186029207982\u001b[0m,\u001b[1;36m34.30935060396468\u001b[0m,U\n"
      ]
     },
     "metadata": {},
     "output_type": "display_data"
    },
    {
     "data": {
      "text/html": [
       "<pre style=\"white-space:pre;overflow-x:auto;line-height:normal;font-family:Menlo,'DejaVu Sans Mono',consolas,'Courier New',monospace\"><span style=\"color: #008080; text-decoration-color: #008080; font-weight: bold\">35688</span>,<span style=\"color: #008080; text-decoration-color: #008080; font-weight: bold\">114.41773383088652</span>,<span style=\"color: #008080; text-decoration-color: #008080; font-weight: bold\">21.203221264696506</span>,U\n",
       "</pre>\n"
      ],
      "text/plain": [
       "\u001b[1;36m35688\u001b[0m,\u001b[1;36m114.41773383088652\u001b[0m,\u001b[1;36m21.203221264696506\u001b[0m,U\n"
      ]
     },
     "metadata": {},
     "output_type": "display_data"
    },
    {
     "data": {
      "text/html": [
       "<pre style=\"white-space:pre;overflow-x:auto;line-height:normal;font-family:Menlo,'DejaVu Sans Mono',consolas,'Courier New',monospace\"><span style=\"color: #008080; text-decoration-color: #008080; font-weight: bold\">27118</span>,<span style=\"color: #008080; text-decoration-color: #008080; font-weight: bold\">226.60961201025515</span>,<span style=\"color: #008080; text-decoration-color: #008080; font-weight: bold\">6.645575708756509</span>,U\n",
       "</pre>\n"
      ],
      "text/plain": [
       "\u001b[1;36m27118\u001b[0m,\u001b[1;36m226.60961201025515\u001b[0m,\u001b[1;36m6.645575708756509\u001b[0m,U\n"
      ]
     },
     "metadata": {},
     "output_type": "display_data"
    },
    {
     "data": {
      "text/html": [
       "<pre style=\"white-space:pre;overflow-x:auto;line-height:normal;font-family:Menlo,'DejaVu Sans Mono',consolas,'Courier New',monospace\"><span style=\"color: #008080; text-decoration-color: #008080; font-weight: bold\">44913</span>,<span style=\"color: #008080; text-decoration-color: #008080; font-weight: bold\">341.2364869878228</span>,<span style=\"color: #008080; text-decoration-color: #008080; font-weight: bold\">37.05643720364626</span>,U\n",
       "</pre>\n"
      ],
      "text/plain": [
       "\u001b[1;36m44913\u001b[0m,\u001b[1;36m341.2364869878228\u001b[0m,\u001b[1;36m37.05643720364626\u001b[0m,U\n"
      ]
     },
     "metadata": {},
     "output_type": "display_data"
    },
    {
     "data": {
      "text/html": [
       "<pre style=\"white-space:pre;overflow-x:auto;line-height:normal;font-family:Menlo,'DejaVu Sans Mono',consolas,'Courier New',monospace\"><span style=\"color: #008080; text-decoration-color: #008080; font-weight: bold\">38408</span>,<span style=\"color: #008080; text-decoration-color: #008080; font-weight: bold\">297.6085342049286</span>,<span style=\"color: #008080; text-decoration-color: #008080; font-weight: bold\">-1.7303320875318342</span>,U\n",
       "</pre>\n"
      ],
      "text/plain": [
       "\u001b[1;36m38408\u001b[0m,\u001b[1;36m297.6085342049286\u001b[0m,\u001b[1;36m-1.7303320875318342\u001b[0m,U\n"
      ]
     },
     "metadata": {},
     "output_type": "display_data"
    },
    {
     "data": {
      "text/html": [
       "<pre style=\"white-space:pre;overflow-x:auto;line-height:normal;font-family:Menlo,'DejaVu Sans Mono',consolas,'Courier New',monospace\"><span style=\"color: #008080; text-decoration-color: #008080; font-weight: bold\">38844</span>,<span style=\"color: #008080; text-decoration-color: #008080; font-weight: bold\">353.0728813892706</span>,<span style=\"color: #008080; text-decoration-color: #008080; font-weight: bold\">48.89043149510061</span>,U\n",
       "</pre>\n"
      ],
      "text/plain": [
       "\u001b[1;36m38844\u001b[0m,\u001b[1;36m353.0728813892706\u001b[0m,\u001b[1;36m48.89043149510061\u001b[0m,U\n"
      ]
     },
     "metadata": {},
     "output_type": "display_data"
    },
    {
     "data": {
      "text/html": [
       "<pre style=\"white-space:pre;overflow-x:auto;line-height:normal;font-family:Menlo,'DejaVu Sans Mono',consolas,'Courier New',monospace\"><span style=\"color: #008080; text-decoration-color: #008080; font-weight: bold\">42903</span>,<span style=\"color: #008080; text-decoration-color: #008080; font-weight: bold\">213.9446015381442</span>,<span style=\"color: #008080; text-decoration-color: #008080; font-weight: bold\">16.934500964560282</span>,U\n",
       "</pre>\n"
      ],
      "text/plain": [
       "\u001b[1;36m42903\u001b[0m,\u001b[1;36m213.9446015381442\u001b[0m,\u001b[1;36m16.934500964560282\u001b[0m,U\n"
      ]
     },
     "metadata": {},
     "output_type": "display_data"
    },
    {
     "data": {
      "text/html": [
       "<pre style=\"white-space:pre;overflow-x:auto;line-height:normal;font-family:Menlo,'DejaVu Sans Mono',consolas,'Courier New',monospace\"><span style=\"color: #008080; text-decoration-color: #008080; font-weight: bold\">31778</span>,<span style=\"color: #008080; text-decoration-color: #008080; font-weight: bold\">132.72753089923637</span>,<span style=\"color: #008080; text-decoration-color: #008080; font-weight: bold\">-68.3138818053978</span>,U\n",
       "</pre>\n"
      ],
      "text/plain": [
       "\u001b[1;36m31778\u001b[0m,\u001b[1;36m132.72753089923637\u001b[0m,\u001b[1;36m-68.3138818053978\u001b[0m,U\n"
      ]
     },
     "metadata": {},
     "output_type": "display_data"
    },
    {
     "data": {
      "text/html": [
       "<pre style=\"white-space:pre;overflow-x:auto;line-height:normal;font-family:Menlo,'DejaVu Sans Mono',consolas,'Courier New',monospace\"><span style=\"color: #008080; text-decoration-color: #008080; font-weight: bold\">38494</span>,<span style=\"color: #008080; text-decoration-color: #008080; font-weight: bold\">281.2027079750968</span>,<span style=\"color: #008080; text-decoration-color: #008080; font-weight: bold\">-74.30975711100456</span>,U\n",
       "</pre>\n"
      ],
      "text/plain": [
       "\u001b[1;36m38494\u001b[0m,\u001b[1;36m281.2027079750968\u001b[0m,\u001b[1;36m-74.30975711100456\u001b[0m,U\n"
      ]
     },
     "metadata": {},
     "output_type": "display_data"
    },
    {
     "data": {
      "text/html": [
       "<pre style=\"white-space:pre;overflow-x:auto;line-height:normal;font-family:Menlo,'DejaVu Sans Mono',consolas,'Courier New',monospace\"><span style=\"color: #008080; text-decoration-color: #008080; font-weight: bold\">34465</span>,<span style=\"color: #008080; text-decoration-color: #008080; font-weight: bold\">10.445946713955545</span>,<span style=\"color: #008080; text-decoration-color: #008080; font-weight: bold\">42.56675395639358</span>,U\n",
       "</pre>\n"
      ],
      "text/plain": [
       "\u001b[1;36m34465\u001b[0m,\u001b[1;36m10.445946713955545\u001b[0m,\u001b[1;36m42.56675395639358\u001b[0m,U\n"
      ]
     },
     "metadata": {},
     "output_type": "display_data"
    },
    {
     "data": {
      "text/html": [
       "<pre style=\"white-space:pre;overflow-x:auto;line-height:normal;font-family:Menlo,'DejaVu Sans Mono',consolas,'Courier New',monospace\"><span style=\"color: #008080; text-decoration-color: #008080; font-weight: bold\">9756</span>,<span style=\"color: #008080; text-decoration-color: #008080; font-weight: bold\">119.04263668442314</span>,<span style=\"color: #008080; text-decoration-color: #008080; font-weight: bold\">22.22547531774092</span>,U\n",
       "</pre>\n"
      ],
      "text/plain": [
       "\u001b[1;36m9756\u001b[0m,\u001b[1;36m119.04263668442314\u001b[0m,\u001b[1;36m22.22547531774092\u001b[0m,U\n"
      ]
     },
     "metadata": {},
     "output_type": "display_data"
    },
    {
     "data": {
      "text/html": [
       "<pre style=\"white-space:pre;overflow-x:auto;line-height:normal;font-family:Menlo,'DejaVu Sans Mono',consolas,'Courier New',monospace\"><span style=\"color: #008080; text-decoration-color: #008080; font-weight: bold\">40962</span>,<span style=\"color: #008080; text-decoration-color: #008080; font-weight: bold\">71.23350966819005</span>,<span style=\"color: #008080; text-decoration-color: #008080; font-weight: bold\">17.961030888531468</span>,U\n",
       "</pre>\n"
      ],
      "text/plain": [
       "\u001b[1;36m40962\u001b[0m,\u001b[1;36m71.23350966819005\u001b[0m,\u001b[1;36m17.961030888531468\u001b[0m,U\n"
      ]
     },
     "metadata": {},
     "output_type": "display_data"
    },
    {
     "data": {
      "text/html": [
       "<pre style=\"white-space:pre;overflow-x:auto;line-height:normal;font-family:Menlo,'DejaVu Sans Mono',consolas,'Courier New',monospace\"><span style=\"color: #008080; text-decoration-color: #008080; font-weight: bold\">21910</span>,<span style=\"color: #008080; text-decoration-color: #008080; font-weight: bold\">237.18001367404287</span>,<span style=\"color: #008080; text-decoration-color: #008080; font-weight: bold\">-13.146794927582514</span>,U\n",
       "</pre>\n"
      ],
      "text/plain": [
       "\u001b[1;36m21910\u001b[0m,\u001b[1;36m237.18001367404287\u001b[0m,\u001b[1;36m-13.146794927582514\u001b[0m,U\n"
      ]
     },
     "metadata": {},
     "output_type": "display_data"
    },
    {
     "data": {
      "text/html": [
       "<pre style=\"white-space:pre;overflow-x:auto;line-height:normal;font-family:Menlo,'DejaVu Sans Mono',consolas,'Courier New',monospace\"><span style=\"color: #008080; text-decoration-color: #008080; font-weight: bold\">31191</span>,<span style=\"color: #008080; text-decoration-color: #008080; font-weight: bold\">136.5526777773211</span>,<span style=\"color: #008080; text-decoration-color: #008080; font-weight: bold\">-5.843247644859865</span>,U\n",
       "</pre>\n"
      ],
      "text/plain": [
       "\u001b[1;36m31191\u001b[0m,\u001b[1;36m136.5526777773211\u001b[0m,\u001b[1;36m-5.843247644859865\u001b[0m,U\n"
      ]
     },
     "metadata": {},
     "output_type": "display_data"
    },
    {
     "data": {
      "text/html": [
       "<pre style=\"white-space:pre;overflow-x:auto;line-height:normal;font-family:Menlo,'DejaVu Sans Mono',consolas,'Courier New',monospace\"><span style=\"color: #008080; text-decoration-color: #008080; font-weight: bold\">10961</span>,<span style=\"color: #008080; text-decoration-color: #008080; font-weight: bold\">222.60491620902656</span>,<span style=\"color: #008080; text-decoration-color: #008080; font-weight: bold\">9.663744060404394</span>,U\n",
       "</pre>\n"
      ],
      "text/plain": [
       "\u001b[1;36m10961\u001b[0m,\u001b[1;36m222.60491620902656\u001b[0m,\u001b[1;36m9.663744060404394\u001b[0m,U\n"
      ]
     },
     "metadata": {},
     "output_type": "display_data"
    },
    {
     "data": {
      "text/html": [
       "<pre style=\"white-space:pre;overflow-x:auto;line-height:normal;font-family:Menlo,'DejaVu Sans Mono',consolas,'Courier New',monospace\"><span style=\"color: #008080; text-decoration-color: #008080; font-weight: bold\">39907</span>,<span style=\"color: #008080; text-decoration-color: #008080; font-weight: bold\">31.753741483735528</span>,<span style=\"color: #008080; text-decoration-color: #008080; font-weight: bold\">-5.24554021562009</span>,U\n",
       "</pre>\n"
      ],
      "text/plain": [
       "\u001b[1;36m39907\u001b[0m,\u001b[1;36m31.753741483735528\u001b[0m,\u001b[1;36m-5.24554021562009\u001b[0m,U\n"
      ]
     },
     "metadata": {},
     "output_type": "display_data"
    },
    {
     "data": {
      "text/html": [
       "<pre style=\"white-space:pre;overflow-x:auto;line-height:normal;font-family:Menlo,'DejaVu Sans Mono',consolas,'Courier New',monospace\"><span style=\"color: #008080; text-decoration-color: #008080; font-weight: bold\">42989</span>,<span style=\"color: #008080; text-decoration-color: #008080; font-weight: bold\">202.0734003110568</span>,<span style=\"color: #008080; text-decoration-color: #008080; font-weight: bold\">-41.70579548497791</span>,U\n",
       "</pre>\n"
      ],
      "text/plain": [
       "\u001b[1;36m42989\u001b[0m,\u001b[1;36m202.0734003110568\u001b[0m,\u001b[1;36m-41.70579548497791\u001b[0m,U\n"
      ]
     },
     "metadata": {},
     "output_type": "display_data"
    },
    {
     "data": {
      "text/html": [
       "<pre style=\"white-space:pre;overflow-x:auto;line-height:normal;font-family:Menlo,'DejaVu Sans Mono',consolas,'Courier New',monospace\"><span style=\"color: #008080; text-decoration-color: #008080; font-weight: bold\">20408</span>,<span style=\"color: #008080; text-decoration-color: #008080; font-weight: bold\">140.3737949776946</span>,<span style=\"color: #008080; text-decoration-color: #008080; font-weight: bold\">6.375496869169113</span>,U\n",
       "</pre>\n"
      ],
      "text/plain": [
       "\u001b[1;36m20408\u001b[0m,\u001b[1;36m140.3737949776946\u001b[0m,\u001b[1;36m6.375496869169113\u001b[0m,U\n"
      ]
     },
     "metadata": {},
     "output_type": "display_data"
    },
    {
     "data": {
      "text/html": [
       "<pre style=\"white-space:pre;overflow-x:auto;line-height:normal;font-family:Menlo,'DejaVu Sans Mono',consolas,'Courier New',monospace\"><span style=\"color: #008080; text-decoration-color: #008080; font-weight: bold\">42404</span>,<span style=\"color: #008080; text-decoration-color: #008080; font-weight: bold\">209.80181174865575</span>,<span style=\"color: #008080; text-decoration-color: #008080; font-weight: bold\">-10.603113954153576</span>,U\n",
       "</pre>\n"
      ],
      "text/plain": [
       "\u001b[1;36m42404\u001b[0m,\u001b[1;36m209.80181174865575\u001b[0m,\u001b[1;36m-10.603113954153576\u001b[0m,U\n"
      ]
     },
     "metadata": {},
     "output_type": "display_data"
    },
    {
     "data": {
      "text/html": [
       "<pre style=\"white-space:pre;overflow-x:auto;line-height:normal;font-family:Menlo,'DejaVu Sans Mono',consolas,'Courier New',monospace\"><span style=\"color: #008080; text-decoration-color: #008080; font-weight: bold\">18076</span>,<span style=\"color: #008080; text-decoration-color: #008080; font-weight: bold\">356.99763923336167</span>,<span style=\"color: #008080; text-decoration-color: #008080; font-weight: bold\">-8.543383812701244</span>,U\n",
       "</pre>\n"
      ],
      "text/plain": [
       "\u001b[1;36m18076\u001b[0m,\u001b[1;36m356.99763923336167\u001b[0m,\u001b[1;36m-8.543383812701244\u001b[0m,U\n"
      ]
     },
     "metadata": {},
     "output_type": "display_data"
    },
    {
     "data": {
      "text/html": [
       "<pre style=\"white-space:pre;overflow-x:auto;line-height:normal;font-family:Menlo,'DejaVu Sans Mono',consolas,'Courier New',monospace\"><span style=\"color: #008080; text-decoration-color: #008080; font-weight: bold\">30630</span>,<span style=\"color: #008080; text-decoration-color: #008080; font-weight: bold\">85.51028054437842</span>,<span style=\"color: #008080; text-decoration-color: #008080; font-weight: bold\">49.78509679421945</span>,U\n",
       "</pre>\n"
      ],
      "text/plain": [
       "\u001b[1;36m30630\u001b[0m,\u001b[1;36m85.51028054437842\u001b[0m,\u001b[1;36m49.78509679421945\u001b[0m,U\n"
      ]
     },
     "metadata": {},
     "output_type": "display_data"
    },
    {
     "data": {
      "text/html": [
       "<pre style=\"white-space:pre;overflow-x:auto;line-height:normal;font-family:Menlo,'DejaVu Sans Mono',consolas,'Courier New',monospace\"><span style=\"color: #008080; text-decoration-color: #008080; font-weight: bold\">16687</span>,<span style=\"color: #008080; text-decoration-color: #008080; font-weight: bold\">251.0423312535721</span>,<span style=\"color: #008080; text-decoration-color: #008080; font-weight: bold\">25.25009094082448</span>,U\n",
       "</pre>\n"
      ],
      "text/plain": [
       "\u001b[1;36m16687\u001b[0m,\u001b[1;36m251.0423312535721\u001b[0m,\u001b[1;36m25.25009094082448\u001b[0m,U\n"
      ]
     },
     "metadata": {},
     "output_type": "display_data"
    },
    {
     "data": {
      "text/html": [
       "<pre style=\"white-space:pre;overflow-x:auto;line-height:normal;font-family:Menlo,'DejaVu Sans Mono',consolas,'Courier New',monospace\"><span style=\"color: #008080; text-decoration-color: #008080; font-weight: bold\">42978</span>,<span style=\"color: #008080; text-decoration-color: #008080; font-weight: bold\">229.20184098058652</span>,<span style=\"color: #008080; text-decoration-color: #008080; font-weight: bold\">19.0929594470784</span>,U\n",
       "</pre>\n"
      ],
      "text/plain": [
       "\u001b[1;36m42978\u001b[0m,\u001b[1;36m229.20184098058652\u001b[0m,\u001b[1;36m19.0929594470784\u001b[0m,U\n"
      ]
     },
     "metadata": {},
     "output_type": "display_data"
    },
    {
     "data": {
      "text/html": [
       "<pre style=\"white-space:pre;overflow-x:auto;line-height:normal;font-family:Menlo,'DejaVu Sans Mono',consolas,'Courier New',monospace\"><span style=\"color: #008080; text-decoration-color: #008080; font-weight: bold\">38169</span>,<span style=\"color: #008080; text-decoration-color: #008080; font-weight: bold\">241.3975694760336</span>,<span style=\"color: #008080; text-decoration-color: #008080; font-weight: bold\">12.894036895850103</span>,U\n",
       "</pre>\n"
      ],
      "text/plain": [
       "\u001b[1;36m38169\u001b[0m,\u001b[1;36m241.3975694760336\u001b[0m,\u001b[1;36m12.894036895850103\u001b[0m,U\n"
      ]
     },
     "metadata": {},
     "output_type": "display_data"
    },
    {
     "data": {
      "text/html": [
       "<pre style=\"white-space:pre;overflow-x:auto;line-height:normal;font-family:Menlo,'DejaVu Sans Mono',consolas,'Courier New',monospace\"><span style=\"color: #008080; text-decoration-color: #008080; font-weight: bold\">12764</span>,<span style=\"color: #008080; text-decoration-color: #008080; font-weight: bold\">9.01560594820332</span>,<span style=\"color: #008080; text-decoration-color: #008080; font-weight: bold\">-41.943069479854586</span>,U\n",
       "</pre>\n"
      ],
      "text/plain": [
       "\u001b[1;36m12764\u001b[0m,\u001b[1;36m9.01560594820332\u001b[0m,\u001b[1;36m-41.943069479854586\u001b[0m,U\n"
      ]
     },
     "metadata": {},
     "output_type": "display_data"
    },
    {
     "data": {
      "text/html": [
       "<pre style=\"white-space:pre;overflow-x:auto;line-height:normal;font-family:Menlo,'DejaVu Sans Mono',consolas,'Courier New',monospace\"><span style=\"color: #008080; text-decoration-color: #008080; font-weight: bold\">46601</span>,<span style=\"color: #008080; text-decoration-color: #008080; font-weight: bold\">122.69184278960222</span>,<span style=\"color: #008080; text-decoration-color: #008080; font-weight: bold\">-58.10470939044286</span>,U\n",
       "</pre>\n"
      ],
      "text/plain": [
       "\u001b[1;36m46601\u001b[0m,\u001b[1;36m122.69184278960222\u001b[0m,\u001b[1;36m-58.10470939044286\u001b[0m,U\n"
      ]
     },
     "metadata": {},
     "output_type": "display_data"
    },
    {
     "data": {
      "text/html": [
       "<pre style=\"white-space:pre;overflow-x:auto;line-height:normal;font-family:Menlo,'DejaVu Sans Mono',consolas,'Courier New',monospace\"><span style=\"color: #008080; text-decoration-color: #008080; font-weight: bold\">31401</span>,<span style=\"color: #008080; text-decoration-color: #008080; font-weight: bold\">169.4898299065132</span>,<span style=\"color: #008080; text-decoration-color: #008080; font-weight: bold\">-12.078432551204015</span>,U\n",
       "</pre>\n"
      ],
      "text/plain": [
       "\u001b[1;36m31401\u001b[0m,\u001b[1;36m169.4898299065132\u001b[0m,\u001b[1;36m-12.078432551204015\u001b[0m,U\n"
      ]
     },
     "metadata": {},
     "output_type": "display_data"
    },
    {
     "data": {
      "text/html": [
       "<pre style=\"white-space:pre;overflow-x:auto;line-height:normal;font-family:Menlo,'DejaVu Sans Mono',consolas,'Courier New',monospace\"><span style=\"color: #008080; text-decoration-color: #008080; font-weight: bold\">38359</span>,<span style=\"color: #008080; text-decoration-color: #008080; font-weight: bold\">299.6138783634452</span>,<span style=\"color: #008080; text-decoration-color: #008080; font-weight: bold\">-11.212728414138798</span>,U\n",
       "</pre>\n"
      ],
      "text/plain": [
       "\u001b[1;36m38359\u001b[0m,\u001b[1;36m299.6138783634452\u001b[0m,\u001b[1;36m-11.212728414138798\u001b[0m,U\n"
      ]
     },
     "metadata": {},
     "output_type": "display_data"
    },
    {
     "data": {
      "text/html": [
       "<pre style=\"white-space:pre;overflow-x:auto;line-height:normal;font-family:Menlo,'DejaVu Sans Mono',consolas,'Courier New',monospace\"><span style=\"color: #008080; text-decoration-color: #008080; font-weight: bold\">13115</span>,<span style=\"color: #008080; text-decoration-color: #008080; font-weight: bold\">7.180116067024783</span>,<span style=\"color: #008080; text-decoration-color: #008080; font-weight: bold\">-44.00671577816051</span>,U\n",
       "</pre>\n"
      ],
      "text/plain": [
       "\u001b[1;36m13115\u001b[0m,\u001b[1;36m7.180116067024783\u001b[0m,\u001b[1;36m-44.00671577816051\u001b[0m,U\n"
      ]
     },
     "metadata": {},
     "output_type": "display_data"
    },
    {
     "data": {
      "text/html": [
       "<pre style=\"white-space:pre;overflow-x:auto;line-height:normal;font-family:Menlo,'DejaVu Sans Mono',consolas,'Courier New',monospace\"><span style=\"color: #008080; text-decoration-color: #008080; font-weight: bold\">27753</span>,<span style=\"color: #008080; text-decoration-color: #008080; font-weight: bold\">268.4465408684748</span>,<span style=\"color: #008080; text-decoration-color: #008080; font-weight: bold\">66.42517601851823</span>,U\n",
       "</pre>\n"
      ],
      "text/plain": [
       "\u001b[1;36m27753\u001b[0m,\u001b[1;36m268.4465408684748\u001b[0m,\u001b[1;36m66.42517601851823\u001b[0m,U\n"
      ]
     },
     "metadata": {},
     "output_type": "display_data"
    },
    {
     "data": {
      "text/html": [
       "<pre style=\"white-space:pre;overflow-x:auto;line-height:normal;font-family:Menlo,'DejaVu Sans Mono',consolas,'Courier New',monospace\"><span style=\"color: #008080; text-decoration-color: #008080; font-weight: bold\">32055</span>,<span style=\"color: #008080; text-decoration-color: #008080; font-weight: bold\">206.43634760207416</span>,<span style=\"color: #008080; text-decoration-color: #008080; font-weight: bold\">45.88117072789554</span>,U\n",
       "</pre>\n"
      ],
      "text/plain": [
       "\u001b[1;36m32055\u001b[0m,\u001b[1;36m206.43634760207416\u001b[0m,\u001b[1;36m45.88117072789554\u001b[0m,U\n"
      ]
     },
     "metadata": {},
     "output_type": "display_data"
    },
    {
     "data": {
      "text/html": [
       "<pre style=\"white-space:pre;overflow-x:auto;line-height:normal;font-family:Menlo,'DejaVu Sans Mono',consolas,'Courier New',monospace\"><span style=\"color: #008080; text-decoration-color: #008080; font-weight: bold\">14098</span>,<span style=\"color: #008080; text-decoration-color: #008080; font-weight: bold\">68.70072012183249</span>,<span style=\"color: #008080; text-decoration-color: #008080; font-weight: bold\">17.46177460616272</span>,U\n",
       "</pre>\n"
      ],
      "text/plain": [
       "\u001b[1;36m14098\u001b[0m,\u001b[1;36m68.70072012183249\u001b[0m,\u001b[1;36m17.46177460616272\u001b[0m,U\n"
      ]
     },
     "metadata": {},
     "output_type": "display_data"
    },
    {
     "data": {
      "text/html": [
       "<pre style=\"white-space:pre;overflow-x:auto;line-height:normal;font-family:Menlo,'DejaVu Sans Mono',consolas,'Courier New',monospace\"><span style=\"color: #008080; text-decoration-color: #008080; font-weight: bold\">46790</span>,<span style=\"color: #008080; text-decoration-color: #008080; font-weight: bold\">188.8682571046776</span>,<span style=\"color: #008080; text-decoration-color: #008080; font-weight: bold\">-36.870892079133306</span>,U\n",
       "</pre>\n"
      ],
      "text/plain": [
       "\u001b[1;36m46790\u001b[0m,\u001b[1;36m188.8682571046776\u001b[0m,\u001b[1;36m-36.870892079133306\u001b[0m,U\n"
      ]
     },
     "metadata": {},
     "output_type": "display_data"
    },
    {
     "data": {
      "text/html": [
       "<pre style=\"white-space:pre;overflow-x:auto;line-height:normal;font-family:Menlo,'DejaVu Sans Mono',consolas,'Courier New',monospace\"><span style=\"color: #008080; text-decoration-color: #008080; font-weight: bold\">42365</span>,<span style=\"color: #008080; text-decoration-color: #008080; font-weight: bold\">200.62128006304417</span>,<span style=\"color: #008080; text-decoration-color: #008080; font-weight: bold\">1.014262175023242</span>,U\n",
       "</pre>\n"
      ],
      "text/plain": [
       "\u001b[1;36m42365\u001b[0m,\u001b[1;36m200.62128006304417\u001b[0m,\u001b[1;36m1.014262175023242\u001b[0m,U\n"
      ]
     },
     "metadata": {},
     "output_type": "display_data"
    },
    {
     "data": {
      "text/html": [
       "<pre style=\"white-space:pre;overflow-x:auto;line-height:normal;font-family:Menlo,'DejaVu Sans Mono',consolas,'Courier New',monospace\"><span style=\"color: #008080; text-decoration-color: #008080; font-weight: bold\">12188</span>,<span style=\"color: #008080; text-decoration-color: #008080; font-weight: bold\">339.9762610361159</span>,<span style=\"color: #008080; text-decoration-color: #008080; font-weight: bold\">13.436819206395551</span>,U\n",
       "</pre>\n"
      ],
      "text/plain": [
       "\u001b[1;36m12188\u001b[0m,\u001b[1;36m339.9762610361159\u001b[0m,\u001b[1;36m13.436819206395551\u001b[0m,U\n"
      ]
     },
     "metadata": {},
     "output_type": "display_data"
    },
    {
     "data": {
      "text/html": [
       "<pre style=\"white-space:pre;overflow-x:auto;line-height:normal;font-family:Menlo,'DejaVu Sans Mono',consolas,'Courier New',monospace\"><span style=\"color: #008080; text-decoration-color: #008080; font-weight: bold\">42173</span>,<span style=\"color: #008080; text-decoration-color: #008080; font-weight: bold\">174.89016885939088</span>,<span style=\"color: #008080; text-decoration-color: #008080; font-weight: bold\">3.937026768486095</span>,U\n",
       "</pre>\n"
      ],
      "text/plain": [
       "\u001b[1;36m42173\u001b[0m,\u001b[1;36m174.89016885939088\u001b[0m,\u001b[1;36m3.937026768486095\u001b[0m,U\n"
      ]
     },
     "metadata": {},
     "output_type": "display_data"
    },
    {
     "data": {
      "text/html": [
       "<pre style=\"white-space:pre;overflow-x:auto;line-height:normal;font-family:Menlo,'DejaVu Sans Mono',consolas,'Courier New',monospace\"><span style=\"color: #008080; text-decoration-color: #008080; font-weight: bold\">45379</span>,<span style=\"color: #008080; text-decoration-color: #008080; font-weight: bold\">55.473726770493776</span>,<span style=\"color: #008080; text-decoration-color: #008080; font-weight: bold\">-6.89824249714316</span>,U\n",
       "</pre>\n"
      ],
      "text/plain": [
       "\u001b[1;36m45379\u001b[0m,\u001b[1;36m55.473726770493776\u001b[0m,\u001b[1;36m-6.89824249714316\u001b[0m,U\n"
      ]
     },
     "metadata": {},
     "output_type": "display_data"
    },
    {
     "data": {
      "text/html": [
       "<pre style=\"white-space:pre;overflow-x:auto;line-height:normal;font-family:Menlo,'DejaVu Sans Mono',consolas,'Courier New',monospace\"><span style=\"color: #008080; text-decoration-color: #008080; font-weight: bold\">16853</span>,<span style=\"color: #008080; text-decoration-color: #008080; font-weight: bold\">270.1883017772768</span>,<span style=\"color: #008080; text-decoration-color: #008080; font-weight: bold\">17.59036287325087</span>,U\n",
       "</pre>\n"
      ],
      "text/plain": [
       "\u001b[1;36m16853\u001b[0m,\u001b[1;36m270.1883017772768\u001b[0m,\u001b[1;36m17.59036287325087\u001b[0m,U\n"
      ]
     },
     "metadata": {},
     "output_type": "display_data"
    },
    {
     "data": {
      "text/html": [
       "<pre style=\"white-space:pre;overflow-x:auto;line-height:normal;font-family:Menlo,'DejaVu Sans Mono',consolas,'Courier New',monospace\"><span style=\"color: #008080; text-decoration-color: #008080; font-weight: bold\">38167</span>,<span style=\"color: #008080; text-decoration-color: #008080; font-weight: bold\">240.54318706827007</span>,<span style=\"color: #008080; text-decoration-color: #008080; font-weight: bold\">10.496480732571678</span>,U\n",
       "</pre>\n"
      ],
      "text/plain": [
       "\u001b[1;36m38167\u001b[0m,\u001b[1;36m240.54318706827007\u001b[0m,\u001b[1;36m10.496480732571678\u001b[0m,U\n"
      ]
     },
     "metadata": {},
     "output_type": "display_data"
    },
    {
     "data": {
      "text/html": [
       "<pre style=\"white-space:pre;overflow-x:auto;line-height:normal;font-family:Menlo,'DejaVu Sans Mono',consolas,'Courier New',monospace\"><span style=\"color: #008080; text-decoration-color: #008080; font-weight: bold\">27193</span>,<span style=\"color: #008080; text-decoration-color: #008080; font-weight: bold\">288.75277137622845</span>,<span style=\"color: #008080; text-decoration-color: #008080; font-weight: bold\">41.23161499208839</span>,U\n",
       "</pre>\n"
      ],
      "text/plain": [
       "\u001b[1;36m27193\u001b[0m,\u001b[1;36m288.75277137622845\u001b[0m,\u001b[1;36m41.23161499208839\u001b[0m,U\n"
      ]
     },
     "metadata": {},
     "output_type": "display_data"
    },
    {
     "data": {
      "text/html": [
       "<pre style=\"white-space:pre;overflow-x:auto;line-height:normal;font-family:Menlo,'DejaVu Sans Mono',consolas,'Courier New',monospace\"><span style=\"color: #008080; text-decoration-color: #008080; font-weight: bold\">42593</span>,<span style=\"color: #008080; text-decoration-color: #008080; font-weight: bold\">258.8173675794759</span>,<span style=\"color: #008080; text-decoration-color: #008080; font-weight: bold\">59.58428934271524</span>,U\n",
       "</pre>\n"
      ],
      "text/plain": [
       "\u001b[1;36m42593\u001b[0m,\u001b[1;36m258.8173675794759\u001b[0m,\u001b[1;36m59.58428934271524\u001b[0m,U\n"
      ]
     },
     "metadata": {},
     "output_type": "display_data"
    },
    {
     "data": {
      "text/html": [
       "<pre style=\"white-space:pre;overflow-x:auto;line-height:normal;font-family:Menlo,'DejaVu Sans Mono',consolas,'Courier New',monospace\"><span style=\"color: #008080; text-decoration-color: #008080; font-weight: bold\">26646</span>,<span style=\"color: #008080; text-decoration-color: #008080; font-weight: bold\">209.1316525832348</span>,<span style=\"color: #008080; text-decoration-color: #008080; font-weight: bold\">5.983507388487062</span>,U\n",
       "</pre>\n"
      ],
      "text/plain": [
       "\u001b[1;36m26646\u001b[0m,\u001b[1;36m209.1316525832348\u001b[0m,\u001b[1;36m5.983507388487062\u001b[0m,U\n"
      ]
     },
     "metadata": {},
     "output_type": "display_data"
    },
    {
     "data": {
      "text/html": [
       "<pre style=\"white-space:pre;overflow-x:auto;line-height:normal;font-family:Menlo,'DejaVu Sans Mono',consolas,'Courier New',monospace\"><span style=\"color: #008080; text-decoration-color: #008080; font-weight: bold\">6042</span>,<span style=\"color: #008080; text-decoration-color: #008080; font-weight: bold\">234.2221262615749</span>,<span style=\"color: #008080; text-decoration-color: #008080; font-weight: bold\">3.6671153403338463</span>,U\n",
       "</pre>\n"
      ],
      "text/plain": [
       "\u001b[1;36m6042\u001b[0m,\u001b[1;36m234.2221262615749\u001b[0m,\u001b[1;36m3.6671153403338463\u001b[0m,U\n"
      ]
     },
     "metadata": {},
     "output_type": "display_data"
    },
    {
     "data": {
      "text/html": [
       "<pre style=\"white-space:pre;overflow-x:auto;line-height:normal;font-family:Menlo,'DejaVu Sans Mono',consolas,'Courier New',monospace\"><span style=\"color: #008080; text-decoration-color: #008080; font-weight: bold\">26797</span>,<span style=\"color: #008080; text-decoration-color: #008080; font-weight: bold\">187.33654792254563</span>,<span style=\"color: #008080; text-decoration-color: #008080; font-weight: bold\">1.3147939158309312</span>,U\n",
       "</pre>\n"
      ],
      "text/plain": [
       "\u001b[1;36m26797\u001b[0m,\u001b[1;36m187.33654792254563\u001b[0m,\u001b[1;36m1.3147939158309312\u001b[0m,U\n"
      ]
     },
     "metadata": {},
     "output_type": "display_data"
    },
    {
     "data": {
      "text/html": [
       "<pre style=\"white-space:pre;overflow-x:auto;line-height:normal;font-family:Menlo,'DejaVu Sans Mono',consolas,'Courier New',monospace\"><span style=\"color: #008080; text-decoration-color: #008080; font-weight: bold\">38292</span>,<span style=\"color: #008080; text-decoration-color: #008080; font-weight: bold\">292.11346443568897</span>,<span style=\"color: #008080; text-decoration-color: #008080; font-weight: bold\">43.37055164985345</span>,U\n",
       "</pre>\n"
      ],
      "text/plain": [
       "\u001b[1;36m38292\u001b[0m,\u001b[1;36m292.11346443568897\u001b[0m,\u001b[1;36m43.37055164985345\u001b[0m,U\n"
      ]
     },
     "metadata": {},
     "output_type": "display_data"
    },
    {
     "data": {
      "text/html": [
       "<pre style=\"white-space:pre;overflow-x:auto;line-height:normal;font-family:Menlo,'DejaVu Sans Mono',consolas,'Courier New',monospace\"><span style=\"color: #008080; text-decoration-color: #008080; font-weight: bold\">7154</span>,<span style=\"color: #008080; text-decoration-color: #008080; font-weight: bold\">308.13024565265783</span>,<span style=\"color: #008080; text-decoration-color: #008080; font-weight: bold\">-33.97754254468736</span>,U\n",
       "</pre>\n"
      ],
      "text/plain": [
       "\u001b[1;36m7154\u001b[0m,\u001b[1;36m308.13024565265783\u001b[0m,\u001b[1;36m-33.97754254468736\u001b[0m,U\n"
      ]
     },
     "metadata": {},
     "output_type": "display_data"
    },
    {
     "data": {
      "text/html": [
       "<pre style=\"white-space:pre;overflow-x:auto;line-height:normal;font-family:Menlo,'DejaVu Sans Mono',consolas,'Courier New',monospace\"><span style=\"color: #008080; text-decoration-color: #008080; font-weight: bold\">39981</span>,<span style=\"color: #008080; text-decoration-color: #008080; font-weight: bold\">342.9186944777171</span>,<span style=\"color: #008080; text-decoration-color: #008080; font-weight: bold\">-27.854723981749878</span>,U\n",
       "</pre>\n"
      ],
      "text/plain": [
       "\u001b[1;36m39981\u001b[0m,\u001b[1;36m342.9186944777171\u001b[0m,\u001b[1;36m-27.854723981749878\u001b[0m,U\n"
      ]
     },
     "metadata": {},
     "output_type": "display_data"
    },
    {
     "data": {
      "text/html": [
       "<pre style=\"white-space:pre;overflow-x:auto;line-height:normal;font-family:Menlo,'DejaVu Sans Mono',consolas,'Courier New',monospace\"><span style=\"color: #008080; text-decoration-color: #008080; font-weight: bold\">15755</span>,<span style=\"color: #008080; text-decoration-color: #008080; font-weight: bold\">207.6850078224628</span>,<span style=\"color: #008080; text-decoration-color: #008080; font-weight: bold\">37.6183082713092</span>,U\n",
       "</pre>\n"
      ],
      "text/plain": [
       "\u001b[1;36m15755\u001b[0m,\u001b[1;36m207.6850078224628\u001b[0m,\u001b[1;36m37.6183082713092\u001b[0m,U\n"
      ]
     },
     "metadata": {},
     "output_type": "display_data"
    },
    {
     "data": {
      "text/html": [
       "<pre style=\"white-space:pre;overflow-x:auto;line-height:normal;font-family:Menlo,'DejaVu Sans Mono',consolas,'Courier New',monospace\"><span style=\"color: #008080; text-decoration-color: #008080; font-weight: bold\">14850</span>,<span style=\"color: #008080; text-decoration-color: #008080; font-weight: bold\">154.58093594729863</span>,<span style=\"color: #008080; text-decoration-color: #008080; font-weight: bold\">8.302414119308256</span>,U\n",
       "</pre>\n"
      ],
      "text/plain": [
       "\u001b[1;36m14850\u001b[0m,\u001b[1;36m154.58093594729863\u001b[0m,\u001b[1;36m8.302414119308256\u001b[0m,U\n"
      ]
     },
     "metadata": {},
     "output_type": "display_data"
    },
    {
     "data": {
      "text/html": [
       "<pre style=\"white-space:pre;overflow-x:auto;line-height:normal;font-family:Menlo,'DejaVu Sans Mono',consolas,'Courier New',monospace\"><span style=\"color: #008080; text-decoration-color: #008080; font-weight: bold\">40483</span>,<span style=\"color: #008080; text-decoration-color: #008080; font-weight: bold\">52.53965563343697</span>,<span style=\"color: #008080; text-decoration-color: #008080; font-weight: bold\">-28.008185708170867</span>,E\n",
       "</pre>\n"
      ],
      "text/plain": [
       "\u001b[1;36m40483\u001b[0m,\u001b[1;36m52.53965563343697\u001b[0m,\u001b[1;36m-28.008185708170867\u001b[0m,E\n"
      ]
     },
     "metadata": {},
     "output_type": "display_data"
    },
    {
     "data": {
      "text/html": [
       "<pre style=\"white-space:pre;overflow-x:auto;line-height:normal;font-family:Menlo,'DejaVu Sans Mono',consolas,'Courier New',monospace\"><span style=\"color: #008080; text-decoration-color: #008080; font-weight: bold\">7254</span>,<span style=\"color: #008080; text-decoration-color: #008080; font-weight: bold\">332.09887863150817</span>,<span style=\"color: #008080; text-decoration-color: #008080; font-weight: bold\">-1.2598712218328794</span>,E\n",
       "</pre>\n"
      ],
      "text/plain": [
       "\u001b[1;36m7254\u001b[0m,\u001b[1;36m332.09887863150817\u001b[0m,\u001b[1;36m-1.2598712218328794\u001b[0m,E\n"
      ]
     },
     "metadata": {},
     "output_type": "display_data"
    },
    {
     "data": {
      "text/html": [
       "<pre style=\"white-space:pre;overflow-x:auto;line-height:normal;font-family:Menlo,'DejaVu Sans Mono',consolas,'Courier New',monospace\"><span style=\"color: #008080; text-decoration-color: #008080; font-weight: bold\">12958</span>,<span style=\"color: #008080; text-decoration-color: #008080; font-weight: bold\">333.5783531126854</span>,<span style=\"color: #008080; text-decoration-color: #008080; font-weight: bold\">-17.95967078415024</span>,E\n",
       "</pre>\n"
      ],
      "text/plain": [
       "\u001b[1;36m12958\u001b[0m,\u001b[1;36m333.5783531126854\u001b[0m,\u001b[1;36m-17.95967078415024\u001b[0m,E\n"
      ]
     },
     "metadata": {},
     "output_type": "display_data"
    },
    {
     "data": {
      "text/html": [
       "<pre style=\"white-space:pre;overflow-x:auto;line-height:normal;font-family:Menlo,'DejaVu Sans Mono',consolas,'Courier New',monospace\"><span style=\"color: #008080; text-decoration-color: #008080; font-weight: bold\">38967</span>,<span style=\"color: #008080; text-decoration-color: #008080; font-weight: bold\">11.442096463879013</span>,<span style=\"color: #008080; text-decoration-color: #008080; font-weight: bold\">41.84129467479608</span>,E\n",
       "</pre>\n"
      ],
      "text/plain": [
       "\u001b[1;36m38967\u001b[0m,\u001b[1;36m11.442096463879013\u001b[0m,\u001b[1;36m41.84129467479608\u001b[0m,E\n"
      ]
     },
     "metadata": {},
     "output_type": "display_data"
    },
    {
     "data": {
      "text/html": [
       "<pre style=\"white-space:pre;overflow-x:auto;line-height:normal;font-family:Menlo,'DejaVu Sans Mono',consolas,'Courier New',monospace\"><span style=\"color: #008080; text-decoration-color: #008080; font-weight: bold\">44383</span>,<span style=\"color: #008080; text-decoration-color: #008080; font-weight: bold\">337.7061588858788</span>,<span style=\"color: #008080; text-decoration-color: #008080; font-weight: bold\">-33.327991832721295</span>,E\n",
       "</pre>\n"
      ],
      "text/plain": [
       "\u001b[1;36m44383\u001b[0m,\u001b[1;36m337.7061588858788\u001b[0m,\u001b[1;36m-33.327991832721295\u001b[0m,E\n"
      ]
     },
     "metadata": {},
     "output_type": "display_data"
    },
    {
     "data": {
      "text/html": [
       "<pre style=\"white-space:pre;overflow-x:auto;line-height:normal;font-family:Menlo,'DejaVu Sans Mono',consolas,'Courier New',monospace\"><span style=\"color: #008080; text-decoration-color: #008080; font-weight: bold\">44078</span>,<span style=\"color: #008080; text-decoration-color: #008080; font-weight: bold\">265.35267610762577</span>,<span style=\"color: #008080; text-decoration-color: #008080; font-weight: bold\">39.90439069983045</span>,E\n",
       "</pre>\n"
      ],
      "text/plain": [
       "\u001b[1;36m44078\u001b[0m,\u001b[1;36m265.35267610762577\u001b[0m,\u001b[1;36m39.90439069983045\u001b[0m,E\n"
      ]
     },
     "metadata": {},
     "output_type": "display_data"
    },
    {
     "data": {
      "text/html": [
       "<pre style=\"white-space:pre;overflow-x:auto;line-height:normal;font-family:Menlo,'DejaVu Sans Mono',consolas,'Courier New',monospace\"><span style=\"color: #008080; text-decoration-color: #008080; font-weight: bold\">17167</span>,<span style=\"color: #008080; text-decoration-color: #008080; font-weight: bold\">258.4008225183072</span>,<span style=\"color: #008080; text-decoration-color: #008080; font-weight: bold\">53.39330752957174</span>,E\n",
       "</pre>\n"
      ],
      "text/plain": [
       "\u001b[1;36m17167\u001b[0m,\u001b[1;36m258.4008225183072\u001b[0m,\u001b[1;36m53.39330752957174\u001b[0m,E\n"
      ]
     },
     "metadata": {},
     "output_type": "display_data"
    },
    {
     "data": {
      "text/html": [
       "<pre style=\"white-space:pre;overflow-x:auto;line-height:normal;font-family:Menlo,'DejaVu Sans Mono',consolas,'Courier New',monospace\"><span style=\"color: #008080; text-decoration-color: #008080; font-weight: bold\">41726</span>,<span style=\"color: #008080; text-decoration-color: #008080; font-weight: bold\">73.50147919746081</span>,<span style=\"color: #008080; text-decoration-color: #008080; font-weight: bold\">62.412222574698696</span>,E\n",
       "</pre>\n"
      ],
      "text/plain": [
       "\u001b[1;36m41726\u001b[0m,\u001b[1;36m73.50147919746081\u001b[0m,\u001b[1;36m62.412222574698696\u001b[0m,E\n"
      ]
     },
     "metadata": {},
     "output_type": "display_data"
    },
    {
     "data": {
      "text/html": [
       "<pre style=\"white-space:pre;overflow-x:auto;line-height:normal;font-family:Menlo,'DejaVu Sans Mono',consolas,'Courier New',monospace\"><span style=\"color: #008080; text-decoration-color: #008080; font-weight: bold\">28592</span>,<span style=\"color: #008080; text-decoration-color: #008080; font-weight: bold\">355.5096132250627</span>,<span style=\"color: #008080; text-decoration-color: #008080; font-weight: bold\">-3.4786551949925384</span>,E\n",
       "</pre>\n"
      ],
      "text/plain": [
       "\u001b[1;36m28592\u001b[0m,\u001b[1;36m355.5096132250627\u001b[0m,\u001b[1;36m-3.4786551949925384\u001b[0m,E\n"
      ]
     },
     "metadata": {},
     "output_type": "display_data"
    },
    {
     "data": {
      "text/html": [
       "<pre style=\"white-space:pre;overflow-x:auto;line-height:normal;font-family:Menlo,'DejaVu Sans Mono',consolas,'Courier New',monospace\"><span style=\"color: #008080; text-decoration-color: #008080; font-weight: bold\">2609</span>,<span style=\"color: #008080; text-decoration-color: #008080; font-weight: bold\">337.70627232756766</span>,<span style=\"color: #008080; text-decoration-color: #008080; font-weight: bold\">-33.32813766499937</span>,E\n",
       "</pre>\n"
      ],
      "text/plain": [
       "\u001b[1;36m2609\u001b[0m,\u001b[1;36m337.70627232756766\u001b[0m,\u001b[1;36m-33.32813766499937\u001b[0m,E\n"
      ]
     },
     "metadata": {},
     "output_type": "display_data"
    },
    {
     "data": {
      "text/html": [
       "<pre style=\"white-space:pre;overflow-x:auto;line-height:normal;font-family:Menlo,'DejaVu Sans Mono',consolas,'Courier New',monospace\"><span style=\"color: #008080; text-decoration-color: #008080; font-weight: bold\">32725</span>,<span style=\"color: #008080; text-decoration-color: #008080; font-weight: bold\">217.21539584959035</span>,<span style=\"color: #008080; text-decoration-color: #008080; font-weight: bold\">49.90229883777399</span>,E\n",
       "</pre>\n"
      ],
      "text/plain": [
       "\u001b[1;36m32725\u001b[0m,\u001b[1;36m217.21539584959035\u001b[0m,\u001b[1;36m49.90229883777399\u001b[0m,E\n"
      ]
     },
     "metadata": {},
     "output_type": "display_data"
    },
    {
     "data": {
      "text/html": [
       "<pre style=\"white-space:pre;overflow-x:auto;line-height:normal;font-family:Menlo,'DejaVu Sans Mono',consolas,'Courier New',monospace\"><span style=\"color: #008080; text-decoration-color: #008080; font-weight: bold\">40552</span>,<span style=\"color: #008080; text-decoration-color: #008080; font-weight: bold\">51.33290850652518</span>,<span style=\"color: #008080; text-decoration-color: #008080; font-weight: bold\">-27.626243999432564</span>,E\n",
       "</pre>\n"
      ],
      "text/plain": [
       "\u001b[1;36m40552\u001b[0m,\u001b[1;36m51.33290850652518\u001b[0m,\u001b[1;36m-27.626243999432564\u001b[0m,E\n"
      ]
     },
     "metadata": {},
     "output_type": "display_data"
    },
    {
     "data": {
      "text/html": [
       "<pre style=\"white-space:pre;overflow-x:auto;line-height:normal;font-family:Menlo,'DejaVu Sans Mono',consolas,'Courier New',monospace\"><span style=\"color: #008080; text-decoration-color: #008080; font-weight: bold\">30742</span>,<span style=\"color: #008080; text-decoration-color: #008080; font-weight: bold\">115.96085832417836</span>,<span style=\"color: #008080; text-decoration-color: #008080; font-weight: bold\">8.853282438788911</span>,F\n",
       "</pre>\n"
      ],
      "text/plain": [
       "\u001b[1;36m30742\u001b[0m,\u001b[1;36m115.96085832417836\u001b[0m,\u001b[1;36m8.853282438788911\u001b[0m,F\n"
      ]
     },
     "metadata": {},
     "output_type": "display_data"
    },
    {
     "data": {
      "text/html": [
       "<pre style=\"white-space:pre;overflow-x:auto;line-height:normal;font-family:Menlo,'DejaVu Sans Mono',consolas,'Courier New',monospace\"><span style=\"color: #008080; text-decoration-color: #008080; font-weight: bold\">42907</span>,<span style=\"color: #008080; text-decoration-color: #008080; font-weight: bold\">212.89435337577729</span>,<span style=\"color: #008080; text-decoration-color: #008080; font-weight: bold\">16.57313410399141</span>,F\n",
       "</pre>\n"
      ],
      "text/plain": [
       "\u001b[1;36m42907\u001b[0m,\u001b[1;36m212.89435337577729\u001b[0m,\u001b[1;36m16.57313410399141\u001b[0m,F\n"
      ]
     },
     "metadata": {},
     "output_type": "display_data"
    },
    {
     "data": {
      "text/html": [
       "<pre style=\"white-space:pre;overflow-x:auto;line-height:normal;font-family:Menlo,'DejaVu Sans Mono',consolas,'Courier New',monospace\"><span style=\"color: #008080; text-decoration-color: #008080; font-weight: bold\">16515</span>,<span style=\"color: #008080; text-decoration-color: #008080; font-weight: bold\">193.89791880416453</span>,<span style=\"color: #008080; text-decoration-color: #008080; font-weight: bold\">27.063437489897005</span>,F\n",
       "</pre>\n"
      ],
      "text/plain": [
       "\u001b[1;36m16515\u001b[0m,\u001b[1;36m193.89791880416453\u001b[0m,\u001b[1;36m27.063437489897005\u001b[0m,F\n"
      ]
     },
     "metadata": {},
     "output_type": "display_data"
    },
    {
     "data": {
      "text/html": [
       "<pre style=\"white-space:pre;overflow-x:auto;line-height:normal;font-family:Menlo,'DejaVu Sans Mono',consolas,'Courier New',monospace\"><span style=\"color: #008080; text-decoration-color: #008080; font-weight: bold\">9137</span>,<span style=\"color: #008080; text-decoration-color: #008080; font-weight: bold\">152.9673297859102</span>,<span style=\"color: #008080; text-decoration-color: #008080; font-weight: bold\">61.749664238883405</span>,F\n",
       "</pre>\n"
      ],
      "text/plain": [
       "\u001b[1;36m9137\u001b[0m,\u001b[1;36m152.9673297859102\u001b[0m,\u001b[1;36m61.749664238883405\u001b[0m,F\n"
      ]
     },
     "metadata": {},
     "output_type": "display_data"
    },
    {
     "data": {
      "text/html": [
       "<pre style=\"white-space:pre;overflow-x:auto;line-height:normal;font-family:Menlo,'DejaVu Sans Mono',consolas,'Courier New',monospace\"><span style=\"color: #008080; text-decoration-color: #008080; font-weight: bold\">14825</span>,<span style=\"color: #008080; text-decoration-color: #008080; font-weight: bold\">149.06204207047602</span>,<span style=\"color: #008080; text-decoration-color: #008080; font-weight: bold\">-9.627915571408368</span>,F\n",
       "</pre>\n"
      ],
      "text/plain": [
       "\u001b[1;36m14825\u001b[0m,\u001b[1;36m149.06204207047602\u001b[0m,\u001b[1;36m-9.627915571408368\u001b[0m,F\n"
      ]
     },
     "metadata": {},
     "output_type": "display_data"
    },
    {
     "data": {
      "text/html": [
       "<pre style=\"white-space:pre;overflow-x:auto;line-height:normal;font-family:Menlo,'DejaVu Sans Mono',consolas,'Courier New',monospace\"><span style=\"color: #008080; text-decoration-color: #008080; font-weight: bold\">32283</span>,<span style=\"color: #008080; text-decoration-color: #008080; font-weight: bold\">262.95825428142416</span>,<span style=\"color: #008080; text-decoration-color: #008080; font-weight: bold\">16.353637937755718</span>,F\n",
       "</pre>\n"
      ],
      "text/plain": [
       "\u001b[1;36m32283\u001b[0m,\u001b[1;36m262.95825428142416\u001b[0m,\u001b[1;36m16.353637937755718\u001b[0m,F\n"
      ]
     },
     "metadata": {},
     "output_type": "display_data"
    },
    {
     "data": {
      "text/html": [
       "<pre style=\"white-space:pre;overflow-x:auto;line-height:normal;font-family:Menlo,'DejaVu Sans Mono',consolas,'Courier New',monospace\"><span style=\"color: #008080; text-decoration-color: #008080; font-weight: bold\">19966</span>,<span style=\"color: #008080; text-decoration-color: #008080; font-weight: bold\">150.42383238092916</span>,<span style=\"color: #008080; text-decoration-color: #008080; font-weight: bold\">2.132774779272341</span>,F\n",
       "</pre>\n"
      ],
      "text/plain": [
       "\u001b[1;36m19966\u001b[0m,\u001b[1;36m150.42383238092916\u001b[0m,\u001b[1;36m2.132774779272341\u001b[0m,F\n"
      ]
     },
     "metadata": {},
     "output_type": "display_data"
    },
    {
     "data": {
      "text/html": [
       "<pre style=\"white-space:pre;overflow-x:auto;line-height:normal;font-family:Menlo,'DejaVu Sans Mono',consolas,'Courier New',monospace\"><span style=\"color: #008080; text-decoration-color: #008080; font-weight: bold\">46388</span>,<span style=\"color: #008080; text-decoration-color: #008080; font-weight: bold\">83.86276340773657</span>,<span style=\"color: #008080; text-decoration-color: #008080; font-weight: bold\">55.13232759774783</span>,F\n",
       "</pre>\n"
      ],
      "text/plain": [
       "\u001b[1;36m46388\u001b[0m,\u001b[1;36m83.86276340773657\u001b[0m,\u001b[1;36m55.13232759774783\u001b[0m,F\n"
      ]
     },
     "metadata": {},
     "output_type": "display_data"
    },
    {
     "data": {
      "text/html": [
       "<pre style=\"white-space:pre;overflow-x:auto;line-height:normal;font-family:Menlo,'DejaVu Sans Mono',consolas,'Courier New',monospace\"><span style=\"color: #008080; text-decoration-color: #008080; font-weight: bold\">7526</span>,<span style=\"color: #008080; text-decoration-color: #008080; font-weight: bold\">8.979855120365706</span>,<span style=\"color: #008080; text-decoration-color: #008080; font-weight: bold\">-43.95803875673997</span>,F\n",
       "</pre>\n"
      ],
      "text/plain": [
       "\u001b[1;36m7526\u001b[0m,\u001b[1;36m8.979855120365706\u001b[0m,\u001b[1;36m-43.95803875673997\u001b[0m,F\n"
      ]
     },
     "metadata": {},
     "output_type": "display_data"
    },
    {
     "data": {
      "text/html": [
       "<pre style=\"white-space:pre;overflow-x:auto;line-height:normal;font-family:Menlo,'DejaVu Sans Mono',consolas,'Courier New',monospace\"><span style=\"color: #008080; text-decoration-color: #008080; font-weight: bold\">36037</span>,<span style=\"color: #008080; text-decoration-color: #008080; font-weight: bold\">167.80090179002875</span>,<span style=\"color: #008080; text-decoration-color: #008080; font-weight: bold\">43.852641366371856</span>,F\n",
       "</pre>\n"
      ],
      "text/plain": [
       "\u001b[1;36m36037\u001b[0m,\u001b[1;36m167.80090179002875\u001b[0m,\u001b[1;36m43.852641366371856\u001b[0m,F\n"
      ]
     },
     "metadata": {},
     "output_type": "display_data"
    },
    {
     "data": {
      "text/html": [
       "<pre style=\"white-space:pre;overflow-x:auto;line-height:normal;font-family:Menlo,'DejaVu Sans Mono',consolas,'Courier New',monospace\"><span style=\"color: #008080; text-decoration-color: #008080; font-weight: bold\">35881</span>,<span style=\"color: #008080; text-decoration-color: #008080; font-weight: bold\">135.71813895953582</span>,<span style=\"color: #008080; text-decoration-color: #008080; font-weight: bold\">43.36861446732784</span>,F\n",
       "</pre>\n"
      ],
      "text/plain": [
       "\u001b[1;36m35881\u001b[0m,\u001b[1;36m135.71813895953582\u001b[0m,\u001b[1;36m43.36861446732784\u001b[0m,F\n"
      ]
     },
     "metadata": {},
     "output_type": "display_data"
    },
    {
     "data": {
      "text/html": [
       "<pre style=\"white-space:pre;overflow-x:auto;line-height:normal;font-family:Menlo,'DejaVu Sans Mono',consolas,'Courier New',monospace\"><span style=\"color: #008080; text-decoration-color: #008080; font-weight: bold\">40584</span>,<span style=\"color: #008080; text-decoration-color: #008080; font-weight: bold\">52.526048993608256</span>,<span style=\"color: #008080; text-decoration-color: #008080; font-weight: bold\">-29.22104437516404</span>,F\n",
       "</pre>\n"
      ],
      "text/plain": [
       "\u001b[1;36m40584\u001b[0m,\u001b[1;36m52.526048993608256\u001b[0m,\u001b[1;36m-29.22104437516404\u001b[0m,F\n"
      ]
     },
     "metadata": {},
     "output_type": "display_data"
    },
    {
     "data": {
      "text/html": [
       "<pre style=\"white-space:pre;overflow-x:auto;line-height:normal;font-family:Menlo,'DejaVu Sans Mono',consolas,'Courier New',monospace\"><span style=\"color: #008080; text-decoration-color: #008080; font-weight: bold\">26134</span>,<span style=\"color: #008080; text-decoration-color: #008080; font-weight: bold\">135.7123644847536</span>,<span style=\"color: #008080; text-decoration-color: #008080; font-weight: bold\">19.52933616444678</span>,F\n",
       "</pre>\n"
      ],
      "text/plain": [
       "\u001b[1;36m26134\u001b[0m,\u001b[1;36m135.7123644847536\u001b[0m,\u001b[1;36m19.52933616444678\u001b[0m,F\n"
      ]
     },
     "metadata": {},
     "output_type": "display_data"
    },
    {
     "data": {
      "text/html": [
       "<pre style=\"white-space:pre;overflow-x:auto;line-height:normal;font-family:Menlo,'DejaVu Sans Mono',consolas,'Courier New',monospace\"><span style=\"color: #008080; text-decoration-color: #008080; font-weight: bold\">44773</span>,<span style=\"color: #008080; text-decoration-color: #008080; font-weight: bold\">327.26668475039554</span>,<span style=\"color: #008080; text-decoration-color: #008080; font-weight: bold\">-9.173517858540857</span>,F\n",
       "</pre>\n"
      ],
      "text/plain": [
       "\u001b[1;36m44773\u001b[0m,\u001b[1;36m327.26668475039554\u001b[0m,\u001b[1;36m-9.173517858540857\u001b[0m,F\n"
      ]
     },
     "metadata": {},
     "output_type": "display_data"
    },
    {
     "data": {
      "text/html": [
       "<pre style=\"white-space:pre;overflow-x:auto;line-height:normal;font-family:Menlo,'DejaVu Sans Mono',consolas,'Courier New',monospace\"><span style=\"color: #008080; text-decoration-color: #008080; font-weight: bold\">45681</span>,<span style=\"color: #008080; text-decoration-color: #008080; font-weight: bold\">131.6524092100145</span>,<span style=\"color: #008080; text-decoration-color: #008080; font-weight: bold\">67.95181273331437</span>,F\n",
       "</pre>\n"
      ],
      "text/plain": [
       "\u001b[1;36m45681\u001b[0m,\u001b[1;36m131.6524092100145\u001b[0m,\u001b[1;36m67.95181273331437\u001b[0m,F\n"
      ]
     },
     "metadata": {},
     "output_type": "display_data"
    },
    {
     "data": {
      "text/html": [
       "<pre style=\"white-space:pre;overflow-x:auto;line-height:normal;font-family:Menlo,'DejaVu Sans Mono',consolas,'Courier New',monospace\"><span style=\"color: #008080; text-decoration-color: #008080; font-weight: bold\">6536</span>,<span style=\"color: #008080; text-decoration-color: #008080; font-weight: bold\">249.51433665213665</span>,<span style=\"color: #008080; text-decoration-color: #008080; font-weight: bold\">42.58933880387108</span>,F\n",
       "</pre>\n"
      ],
      "text/plain": [
       "\u001b[1;36m6536\u001b[0m,\u001b[1;36m249.51433665213665\u001b[0m,\u001b[1;36m42.58933880387108\u001b[0m,F\n"
      ]
     },
     "metadata": {},
     "output_type": "display_data"
    },
    {
     "data": {
      "text/html": [
       "<pre style=\"white-space:pre;overflow-x:auto;line-height:normal;font-family:Menlo,'DejaVu Sans Mono',consolas,'Courier New',monospace\"><span style=\"color: #008080; text-decoration-color: #008080; font-weight: bold\">12482</span>,<span style=\"color: #008080; text-decoration-color: #008080; font-weight: bold\">310.0392178410663</span>,<span style=\"color: #008080; text-decoration-color: #008080; font-weight: bold\">-0.8710574872342647</span>,F\n",
       "</pre>\n"
      ],
      "text/plain": [
       "\u001b[1;36m12482\u001b[0m,\u001b[1;36m310.0392178410663\u001b[0m,\u001b[1;36m-0.8710574872342647\u001b[0m,F\n"
      ]
     },
     "metadata": {},
     "output_type": "display_data"
    },
    {
     "data": {
      "text/html": [
       "<pre style=\"white-space:pre;overflow-x:auto;line-height:normal;font-family:Menlo,'DejaVu Sans Mono',consolas,'Courier New',monospace\"><span style=\"color: #008080; text-decoration-color: #008080; font-weight: bold\">46350</span>,<span style=\"color: #008080; text-decoration-color: #008080; font-weight: bold\">86.95045358878737</span>,<span style=\"color: #008080; text-decoration-color: #008080; font-weight: bold\">41.77905437333716</span>,F\n",
       "</pre>\n"
      ],
      "text/plain": [
       "\u001b[1;36m46350\u001b[0m,\u001b[1;36m86.95045358878737\u001b[0m,\u001b[1;36m41.77905437333716\u001b[0m,F\n"
      ]
     },
     "metadata": {},
     "output_type": "display_data"
    },
    {
     "data": {
      "text/html": [
       "<pre style=\"white-space:pre;overflow-x:auto;line-height:normal;font-family:Menlo,'DejaVu Sans Mono',consolas,'Courier New',monospace\"><span style=\"color: #008080; text-decoration-color: #008080; font-weight: bold\">42821</span>,<span style=\"color: #008080; text-decoration-color: #008080; font-weight: bold\">236.0042749696178</span>,<span style=\"color: #008080; text-decoration-color: #008080; font-weight: bold\">3.845760676267875</span>,F\n",
       "</pre>\n"
      ],
      "text/plain": [
       "\u001b[1;36m42821\u001b[0m,\u001b[1;36m236.0042749696178\u001b[0m,\u001b[1;36m3.845760676267875\u001b[0m,F\n"
      ]
     },
     "metadata": {},
     "output_type": "display_data"
    },
    {
     "data": {
      "text/html": [
       "<pre style=\"white-space:pre;overflow-x:auto;line-height:normal;font-family:Menlo,'DejaVu Sans Mono',consolas,'Courier New',monospace\"><span style=\"color: #008080; text-decoration-color: #008080; font-weight: bold\">43009</span>,<span style=\"color: #008080; text-decoration-color: #008080; font-weight: bold\">210.2066383160101</span>,<span style=\"color: #008080; text-decoration-color: #008080; font-weight: bold\">-11.12765453713151</span>,F\n",
       "</pre>\n"
      ],
      "text/plain": [
       "\u001b[1;36m43009\u001b[0m,\u001b[1;36m210.2066383160101\u001b[0m,\u001b[1;36m-11.12765453713151\u001b[0m,F\n"
      ]
     },
     "metadata": {},
     "output_type": "display_data"
    },
    {
     "data": {
      "text/html": [
       "<pre style=\"white-space:pre;overflow-x:auto;line-height:normal;font-family:Menlo,'DejaVu Sans Mono',consolas,'Courier New',monospace\"><span style=\"color: #008080; text-decoration-color: #008080; font-weight: bold\">18248</span>,<span style=\"color: #008080; text-decoration-color: #008080; font-weight: bold\">4.662492837891057</span>,<span style=\"color: #008080; text-decoration-color: #008080; font-weight: bold\">-10.071282781972736</span>,F\n",
       "</pre>\n"
      ],
      "text/plain": [
       "\u001b[1;36m18248\u001b[0m,\u001b[1;36m4.662492837891057\u001b[0m,\u001b[1;36m-10.071282781972736\u001b[0m,F\n"
      ]
     },
     "metadata": {},
     "output_type": "display_data"
    },
    {
     "data": {
      "text/html": [
       "<pre style=\"white-space:pre;overflow-x:auto;line-height:normal;font-family:Menlo,'DejaVu Sans Mono',consolas,'Courier New',monospace\"><span style=\"color: #008080; text-decoration-color: #008080; font-weight: bold\">38566</span>,<span style=\"color: #008080; text-decoration-color: #008080; font-weight: bold\">313.18902767868974</span>,<span style=\"color: #008080; text-decoration-color: #008080; font-weight: bold\">-74.90839753972594</span>,F\n",
       "</pre>\n"
      ],
      "text/plain": [
       "\u001b[1;36m38566\u001b[0m,\u001b[1;36m313.18902767868974\u001b[0m,\u001b[1;36m-74.90839753972594\u001b[0m,F\n"
      ]
     },
     "metadata": {},
     "output_type": "display_data"
    },
    {
     "data": {
      "text/html": [
       "<pre style=\"white-space:pre;overflow-x:auto;line-height:normal;font-family:Menlo,'DejaVu Sans Mono',consolas,'Courier New',monospace\"><span style=\"color: #008080; text-decoration-color: #008080; font-weight: bold\">10875</span>,<span style=\"color: #008080; text-decoration-color: #008080; font-weight: bold\">249.0727429413192</span>,<span style=\"color: #008080; text-decoration-color: #008080; font-weight: bold\">39.69534154757434</span>,F\n",
       "</pre>\n"
      ],
      "text/plain": [
       "\u001b[1;36m10875\u001b[0m,\u001b[1;36m249.0727429413192\u001b[0m,\u001b[1;36m39.69534154757434\u001b[0m,F\n"
      ]
     },
     "metadata": {},
     "output_type": "display_data"
    },
    {
     "data": {
      "text/html": [
       "<pre style=\"white-space:pre;overflow-x:auto;line-height:normal;font-family:Menlo,'DejaVu Sans Mono',consolas,'Courier New',monospace\"><span style=\"color: #008080; text-decoration-color: #008080; font-weight: bold\">41374</span>,<span style=\"color: #008080; text-decoration-color: #008080; font-weight: bold\">60.866121515208</span>,<span style=\"color: #008080; text-decoration-color: #008080; font-weight: bold\">-33.7718964018281</span>,F\n",
       "</pre>\n"
      ],
      "text/plain": [
       "\u001b[1;36m41374\u001b[0m,\u001b[1;36m60.866121515208\u001b[0m,\u001b[1;36m-33.7718964018281\u001b[0m,F\n"
      ]
     },
     "metadata": {},
     "output_type": "display_data"
    },
    {
     "data": {
      "text/html": [
       "<pre style=\"white-space:pre;overflow-x:auto;line-height:normal;font-family:Menlo,'DejaVu Sans Mono',consolas,'Courier New',monospace\"><span style=\"color: #008080; text-decoration-color: #008080; font-weight: bold\">46434</span>,<span style=\"color: #008080; text-decoration-color: #008080; font-weight: bold\">83.00466845558283</span>,<span style=\"color: #008080; text-decoration-color: #008080; font-weight: bold\">-26.772964638624927</span>,F\n",
       "</pre>\n"
      ],
      "text/plain": [
       "\u001b[1;36m46434\u001b[0m,\u001b[1;36m83.00466845558283\u001b[0m,\u001b[1;36m-26.772964638624927\u001b[0m,F\n"
      ]
     },
     "metadata": {},
     "output_type": "display_data"
    },
    {
     "data": {
      "text/html": [
       "<pre style=\"white-space:pre;overflow-x:auto;line-height:normal;font-family:Menlo,'DejaVu Sans Mono',consolas,'Courier New',monospace\"><span style=\"color: #008080; text-decoration-color: #008080; font-weight: bold\">36637</span>,<span style=\"color: #008080; text-decoration-color: #008080; font-weight: bold\">170.66926958613084</span>,<span style=\"color: #008080; text-decoration-color: #008080; font-weight: bold\">78.69700603057147</span>,F\n",
       "</pre>\n"
      ],
      "text/plain": [
       "\u001b[1;36m36637\u001b[0m,\u001b[1;36m170.66926958613084\u001b[0m,\u001b[1;36m78.69700603057147\u001b[0m,F\n"
      ]
     },
     "metadata": {},
     "output_type": "display_data"
    },
    {
     "data": {
      "text/html": [
       "<pre style=\"white-space:pre;overflow-x:auto;line-height:normal;font-family:Menlo,'DejaVu Sans Mono',consolas,'Courier New',monospace\"><span style=\"color: #008080; text-decoration-color: #008080; font-weight: bold\">6842</span>,<span style=\"color: #008080; text-decoration-color: #008080; font-weight: bold\">253.51827138490032</span>,<span style=\"color: #008080; text-decoration-color: #008080; font-weight: bold\">61.256213090348766</span>,F\n",
       "</pre>\n"
      ],
      "text/plain": [
       "\u001b[1;36m6842\u001b[0m,\u001b[1;36m253.51827138490032\u001b[0m,\u001b[1;36m61.256213090348766\u001b[0m,F\n"
      ]
     },
     "metadata": {},
     "output_type": "display_data"
    },
    {
     "data": {
      "text/html": [
       "<pre style=\"white-space:pre;overflow-x:auto;line-height:normal;font-family:Menlo,'DejaVu Sans Mono',consolas,'Courier New',monospace\"><span style=\"color: #008080; text-decoration-color: #008080; font-weight: bold\">7620</span>,<span style=\"color: #008080; text-decoration-color: #008080; font-weight: bold\">7.004714115116499</span>,<span style=\"color: #008080; text-decoration-color: #008080; font-weight: bold\">-42.63671382727142</span>,F\n",
       "</pre>\n"
      ],
      "text/plain": [
       "\u001b[1;36m7620\u001b[0m,\u001b[1;36m7.004714115116499\u001b[0m,\u001b[1;36m-42.63671382727142\u001b[0m,F\n"
      ]
     },
     "metadata": {},
     "output_type": "display_data"
    },
    {
     "data": {
      "text/html": [
       "<pre style=\"white-space:pre;overflow-x:auto;line-height:normal;font-family:Menlo,'DejaVu Sans Mono',consolas,'Courier New',monospace\"><span style=\"color: #008080; text-decoration-color: #008080; font-weight: bold\">41665</span>,<span style=\"color: #008080; text-decoration-color: #008080; font-weight: bold\">124.935005809486</span>,<span style=\"color: #008080; text-decoration-color: #008080; font-weight: bold\">-2.573301402462038</span>,F\n",
       "</pre>\n"
      ],
      "text/plain": [
       "\u001b[1;36m41665\u001b[0m,\u001b[1;36m124.935005809486\u001b[0m,\u001b[1;36m-2.573301402462038\u001b[0m,F\n"
      ]
     },
     "metadata": {},
     "output_type": "display_data"
    },
    {
     "data": {
      "text/html": [
       "<pre style=\"white-space:pre;overflow-x:auto;line-height:normal;font-family:Menlo,'DejaVu Sans Mono',consolas,'Courier New',monospace\"><span style=\"color: #008080; text-decoration-color: #008080; font-weight: bold\">41507</span>,<span style=\"color: #008080; text-decoration-color: #008080; font-weight: bold\">130.92023720401522</span>,<span style=\"color: #008080; text-decoration-color: #008080; font-weight: bold\">36.11107097929309</span>,F\n",
       "</pre>\n"
      ],
      "text/plain": [
       "\u001b[1;36m41507\u001b[0m,\u001b[1;36m130.92023720401522\u001b[0m,\u001b[1;36m36.11107097929309\u001b[0m,F\n"
      ]
     },
     "metadata": {},
     "output_type": "display_data"
    },
    {
     "data": {
      "text/html": [
       "<pre style=\"white-space:pre;overflow-x:auto;line-height:normal;font-family:Menlo,'DejaVu Sans Mono',consolas,'Courier New',monospace\"><span style=\"color: #008080; text-decoration-color: #008080; font-weight: bold\">21682</span>,<span style=\"color: #008080; text-decoration-color: #008080; font-weight: bold\">183.1273601228124</span>,<span style=\"color: #008080; text-decoration-color: #008080; font-weight: bold\">14.2918325606885</span>,F\n",
       "</pre>\n"
      ],
      "text/plain": [
       "\u001b[1;36m21682\u001b[0m,\u001b[1;36m183.1273601228124\u001b[0m,\u001b[1;36m14.2918325606885\u001b[0m,F\n"
      ]
     },
     "metadata": {},
     "output_type": "display_data"
    },
    {
     "data": {
      "text/html": [
       "<pre style=\"white-space:pre;overflow-x:auto;line-height:normal;font-family:Menlo,'DejaVu Sans Mono',consolas,'Courier New',monospace\"><span style=\"color: #008080; text-decoration-color: #008080; font-weight: bold\">7286</span>,<span style=\"color: #008080; text-decoration-color: #008080; font-weight: bold\">347.9911689558538</span>,<span style=\"color: #008080; text-decoration-color: #008080; font-weight: bold\">13.226288593915474</span>,F\n",
       "</pre>\n"
      ],
      "text/plain": [
       "\u001b[1;36m7286\u001b[0m,\u001b[1;36m347.9911689558538\u001b[0m,\u001b[1;36m13.226288593915474\u001b[0m,F\n"
      ]
     },
     "metadata": {},
     "output_type": "display_data"
    },
    {
     "data": {
      "text/html": [
       "<pre style=\"white-space:pre;overflow-x:auto;line-height:normal;font-family:Menlo,'DejaVu Sans Mono',consolas,'Courier New',monospace\"><span style=\"color: #008080; text-decoration-color: #008080; font-weight: bold\">26852</span>,<span style=\"color: #008080; text-decoration-color: #008080; font-weight: bold\">179.40641379407097</span>,<span style=\"color: #008080; text-decoration-color: #008080; font-weight: bold\">64.15828745055039</span>,F\n",
       "</pre>\n"
      ],
      "text/plain": [
       "\u001b[1;36m26852\u001b[0m,\u001b[1;36m179.40641379407097\u001b[0m,\u001b[1;36m64.15828745055039\u001b[0m,F\n"
      ]
     },
     "metadata": {},
     "output_type": "display_data"
    },
    {
     "data": {
      "text/html": [
       "<pre style=\"white-space:pre;overflow-x:auto;line-height:normal;font-family:Menlo,'DejaVu Sans Mono',consolas,'Courier New',monospace\"><span style=\"color: #008080; text-decoration-color: #008080; font-weight: bold\">44150</span>,<span style=\"color: #008080; text-decoration-color: #008080; font-weight: bold\">12.284176248925718</span>,<span style=\"color: #008080; text-decoration-color: #008080; font-weight: bold\">41.80224709715708</span>,F\n",
       "</pre>\n"
      ],
      "text/plain": [
       "\u001b[1;36m44150\u001b[0m,\u001b[1;36m12.284176248925718\u001b[0m,\u001b[1;36m41.80224709715708\u001b[0m,F\n"
      ]
     },
     "metadata": {},
     "output_type": "display_data"
    },
    {
     "data": {
      "text/html": [
       "<pre style=\"white-space:pre;overflow-x:auto;line-height:normal;font-family:Menlo,'DejaVu Sans Mono',consolas,'Courier New',monospace\"><span style=\"color: #008080; text-decoration-color: #008080; font-weight: bold\">46560</span>,<span style=\"color: #008080; text-decoration-color: #008080; font-weight: bold\">115.55779069487612</span>,<span style=\"color: #008080; text-decoration-color: #008080; font-weight: bold\">40.030106052741154</span>,F\n",
       "</pre>\n"
      ],
      "text/plain": [
       "\u001b[1;36m46560\u001b[0m,\u001b[1;36m115.55779069487612\u001b[0m,\u001b[1;36m40.030106052741154\u001b[0m,F\n"
      ]
     },
     "metadata": {},
     "output_type": "display_data"
    },
    {
     "data": {
      "text/html": [
       "<pre style=\"white-space:pre;overflow-x:auto;line-height:normal;font-family:Menlo,'DejaVu Sans Mono',consolas,'Courier New',monospace\"><span style=\"color: #008080; text-decoration-color: #008080; font-weight: bold\">14122</span>,<span style=\"color: #008080; text-decoration-color: #008080; font-weight: bold\">73.73293981303188</span>,<span style=\"color: #008080; text-decoration-color: #008080; font-weight: bold\">-2.475959897235469</span>,F\n",
       "</pre>\n"
      ],
      "text/plain": [
       "\u001b[1;36m14122\u001b[0m,\u001b[1;36m73.73293981303188\u001b[0m,\u001b[1;36m-2.475959897235469\u001b[0m,F\n"
      ]
     },
     "metadata": {},
     "output_type": "display_data"
    },
    {
     "data": {
      "text/html": [
       "<pre style=\"white-space:pre;overflow-x:auto;line-height:normal;font-family:Menlo,'DejaVu Sans Mono',consolas,'Courier New',monospace\"><span style=\"color: #008080; text-decoration-color: #008080; font-weight: bold\">4310</span>,<span style=\"color: #008080; text-decoration-color: #008080; font-weight: bold\">150.45245202591548</span>,<span style=\"color: #008080; text-decoration-color: #008080; font-weight: bold\">2.9798750509966005</span>,F\n",
       "</pre>\n"
      ],
      "text/plain": [
       "\u001b[1;36m4310\u001b[0m,\u001b[1;36m150.45245202591548\u001b[0m,\u001b[1;36m2.9798750509966005\u001b[0m,F\n"
      ]
     },
     "metadata": {},
     "output_type": "display_data"
    },
    {
     "data": {
      "text/html": [
       "<pre style=\"white-space:pre;overflow-x:auto;line-height:normal;font-family:Menlo,'DejaVu Sans Mono',consolas,'Courier New',monospace\"><span style=\"color: #008080; text-decoration-color: #008080; font-weight: bold\">24501</span>,<span style=\"color: #008080; text-decoration-color: #008080; font-weight: bold\">55.82981568380712</span>,<span style=\"color: #008080; text-decoration-color: #008080; font-weight: bold\">22.44885480137637</span>,F\n",
       "</pre>\n"
      ],
      "text/plain": [
       "\u001b[1;36m24501\u001b[0m,\u001b[1;36m55.82981568380712\u001b[0m,\u001b[1;36m22.44885480137637\u001b[0m,F\n"
      ]
     },
     "metadata": {},
     "output_type": "display_data"
    },
    {
     "data": {
      "text/html": [
       "<pre style=\"white-space:pre;overflow-x:auto;line-height:normal;font-family:Menlo,'DejaVu Sans Mono',consolas,'Courier New',monospace\"><span style=\"color: #008080; text-decoration-color: #008080; font-weight: bold\">1759</span>,<span style=\"color: #008080; text-decoration-color: #008080; font-weight: bold\">339.17733791773946</span>,<span style=\"color: #008080; text-decoration-color: #008080; font-weight: bold\">14.1877926997239</span>,F\n",
       "</pre>\n"
      ],
      "text/plain": [
       "\u001b[1;36m1759\u001b[0m,\u001b[1;36m339.17733791773946\u001b[0m,\u001b[1;36m14.1877926997239\u001b[0m,F\n"
      ]
     },
     "metadata": {},
     "output_type": "display_data"
    },
    {
     "data": {
      "text/html": [
       "<pre style=\"white-space:pre;overflow-x:auto;line-height:normal;font-family:Menlo,'DejaVu Sans Mono',consolas,'Courier New',monospace\"><span style=\"color: #008080; text-decoration-color: #008080; font-weight: bold\">6165</span>,<span style=\"color: #008080; text-decoration-color: #008080; font-weight: bold\">224.6889960383732</span>,<span style=\"color: #008080; text-decoration-color: #008080; font-weight: bold\">60.44118804770362</span>,F\n",
       "</pre>\n"
      ],
      "text/plain": [
       "\u001b[1;36m6165\u001b[0m,\u001b[1;36m224.6889960383732\u001b[0m,\u001b[1;36m60.44118804770362\u001b[0m,F\n"
      ]
     },
     "metadata": {},
     "output_type": "display_data"
    },
    {
     "data": {
      "text/html": [
       "<pre style=\"white-space:pre;overflow-x:auto;line-height:normal;font-family:Menlo,'DejaVu Sans Mono',consolas,'Courier New',monospace\"><span style=\"color: #008080; text-decoration-color: #008080; font-weight: bold\">26660</span>,<span style=\"color: #008080; text-decoration-color: #008080; font-weight: bold\">213.68163496387132</span>,<span style=\"color: #008080; text-decoration-color: #008080; font-weight: bold\">-0.4962340811609309</span>,F\n",
       "</pre>\n"
      ],
      "text/plain": [
       "\u001b[1;36m26660\u001b[0m,\u001b[1;36m213.68163496387132\u001b[0m,\u001b[1;36m-0.4962340811609309\u001b[0m,F\n"
      ]
     },
     "metadata": {},
     "output_type": "display_data"
    },
    {
     "data": {
      "text/html": [
       "<pre style=\"white-space:pre;overflow-x:auto;line-height:normal;font-family:Menlo,'DejaVu Sans Mono',consolas,'Courier New',monospace\"><span style=\"color: #008080; text-decoration-color: #008080; font-weight: bold\">35730</span>,<span style=\"color: #008080; text-decoration-color: #008080; font-weight: bold\">114.51257889463</span>,<span style=\"color: #008080; text-decoration-color: #008080; font-weight: bold\">46.895265134313</span>,F\n",
       "</pre>\n"
      ],
      "text/plain": [
       "\u001b[1;36m35730\u001b[0m,\u001b[1;36m114.51257889463\u001b[0m,\u001b[1;36m46.895265134313\u001b[0m,F\n"
      ]
     },
     "metadata": {},
     "output_type": "display_data"
    },
    {
     "data": {
      "text/html": [
       "<pre style=\"white-space:pre;overflow-x:auto;line-height:normal;font-family:Menlo,'DejaVu Sans Mono',consolas,'Courier New',monospace\"><span style=\"color: #008080; text-decoration-color: #008080; font-weight: bold\">36559</span>,<span style=\"color: #008080; text-decoration-color: #008080; font-weight: bold\">142.5820943331394</span>,<span style=\"color: #008080; text-decoration-color: #008080; font-weight: bold\">12.398793501791904</span>,F\n",
       "</pre>\n"
      ],
      "text/plain": [
       "\u001b[1;36m36559\u001b[0m,\u001b[1;36m142.5820943331394\u001b[0m,\u001b[1;36m12.398793501791904\u001b[0m,F\n"
      ]
     },
     "metadata": {},
     "output_type": "display_data"
    },
    {
     "data": {
      "text/html": [
       "<pre style=\"white-space:pre;overflow-x:auto;line-height:normal;font-family:Menlo,'DejaVu Sans Mono',consolas,'Courier New',monospace\"><span style=\"color: #008080; text-decoration-color: #008080; font-weight: bold\">16123</span>,<span style=\"color: #008080; text-decoration-color: #008080; font-weight: bold\">214.23222329784824</span>,<span style=\"color: #008080; text-decoration-color: #008080; font-weight: bold\">24.868001079037867</span>,F\n",
       "</pre>\n"
      ],
      "text/plain": [
       "\u001b[1;36m16123\u001b[0m,\u001b[1;36m214.23222329784824\u001b[0m,\u001b[1;36m24.868001079037867\u001b[0m,F\n"
      ]
     },
     "metadata": {},
     "output_type": "display_data"
    },
    {
     "data": {
      "text/html": [
       "<pre style=\"white-space:pre;overflow-x:auto;line-height:normal;font-family:Menlo,'DejaVu Sans Mono',consolas,'Courier New',monospace\"><span style=\"color: #008080; text-decoration-color: #008080; font-weight: bold\">30673</span>,<span style=\"color: #008080; text-decoration-color: #008080; font-weight: bold\">144.80586458710906</span>,<span style=\"color: #008080; text-decoration-color: #008080; font-weight: bold\">6.131629669002186</span>,F\n",
       "</pre>\n"
      ],
      "text/plain": [
       "\u001b[1;36m30673\u001b[0m,\u001b[1;36m144.80586458710906\u001b[0m,\u001b[1;36m6.131629669002186\u001b[0m,F\n"
      ]
     },
     "metadata": {},
     "output_type": "display_data"
    },
    {
     "data": {
      "text/html": [
       "<pre style=\"white-space:pre;overflow-x:auto;line-height:normal;font-family:Menlo,'DejaVu Sans Mono',consolas,'Courier New',monospace\"><span style=\"color: #008080; text-decoration-color: #008080; font-weight: bold\">35357</span>,<span style=\"color: #008080; text-decoration-color: #008080; font-weight: bold\">51.75924820221176</span>,<span style=\"color: #008080; text-decoration-color: #008080; font-weight: bold\">-27.29103562288016</span>,F\n",
       "</pre>\n"
      ],
      "text/plain": [
       "\u001b[1;36m35357\u001b[0m,\u001b[1;36m51.75924820221176\u001b[0m,\u001b[1;36m-27.29103562288016\u001b[0m,F\n"
      ]
     },
     "metadata": {},
     "output_type": "display_data"
    },
    {
     "data": {
      "text/html": [
       "<pre style=\"white-space:pre;overflow-x:auto;line-height:normal;font-family:Menlo,'DejaVu Sans Mono',consolas,'Courier New',monospace\"><span style=\"color: #008080; text-decoration-color: #008080; font-weight: bold\">44707</span>,<span style=\"color: #008080; text-decoration-color: #008080; font-weight: bold\">273.03133579691405</span>,<span style=\"color: #008080; text-decoration-color: #008080; font-weight: bold\">62.51759490078743</span>,F\n",
       "</pre>\n"
      ],
      "text/plain": [
       "\u001b[1;36m44707\u001b[0m,\u001b[1;36m273.03133579691405\u001b[0m,\u001b[1;36m62.51759490078743\u001b[0m,F\n"
      ]
     },
     "metadata": {},
     "output_type": "display_data"
    },
    {
     "data": {
      "text/html": [
       "<pre style=\"white-space:pre;overflow-x:auto;line-height:normal;font-family:Menlo,'DejaVu Sans Mono',consolas,'Courier New',monospace\"><span style=\"color: #008080; text-decoration-color: #008080; font-weight: bold\">16652</span>,<span style=\"color: #008080; text-decoration-color: #008080; font-weight: bold\">259.5853057709967</span>,<span style=\"color: #008080; text-decoration-color: #008080; font-weight: bold\">58.64763655562943</span>,F\n",
       "</pre>\n"
      ],
      "text/plain": [
       "\u001b[1;36m16652\u001b[0m,\u001b[1;36m259.5853057709967\u001b[0m,\u001b[1;36m58.64763655562943\u001b[0m,F\n"
      ]
     },
     "metadata": {},
     "output_type": "display_data"
    },
    {
     "data": {
      "text/html": [
       "<pre style=\"white-space:pre;overflow-x:auto;line-height:normal;font-family:Menlo,'DejaVu Sans Mono',consolas,'Courier New',monospace\"><span style=\"color: #008080; text-decoration-color: #008080; font-weight: bold\">23838</span>,<span style=\"color: #008080; text-decoration-color: #008080; font-weight: bold\">23.00489326083273</span>,<span style=\"color: #008080; text-decoration-color: #008080; font-weight: bold\">1.6026075984036443</span>,F\n",
       "</pre>\n"
      ],
      "text/plain": [
       "\u001b[1;36m23838\u001b[0m,\u001b[1;36m23.00489326083273\u001b[0m,\u001b[1;36m1.6026075984036443\u001b[0m,F\n"
      ]
     },
     "metadata": {},
     "output_type": "display_data"
    },
    {
     "data": {
      "text/html": [
       "<pre style=\"white-space:pre;overflow-x:auto;line-height:normal;font-family:Menlo,'DejaVu Sans Mono',consolas,'Courier New',monospace\"><span style=\"color: #008080; text-decoration-color: #008080; font-weight: bold\">36746</span>,<span style=\"color: #008080; text-decoration-color: #008080; font-weight: bold\">185.5323409916152</span>,<span style=\"color: #008080; text-decoration-color: #008080; font-weight: bold\">6.560989553760466</span>,F\n",
       "</pre>\n"
      ],
      "text/plain": [
       "\u001b[1;36m36746\u001b[0m,\u001b[1;36m185.5323409916152\u001b[0m,\u001b[1;36m6.560989553760466\u001b[0m,F\n"
      ]
     },
     "metadata": {},
     "output_type": "display_data"
    },
    {
     "data": {
      "text/html": [
       "<pre style=\"white-space:pre;overflow-x:auto;line-height:normal;font-family:Menlo,'DejaVu Sans Mono',consolas,'Courier New',monospace\"><span style=\"color: #008080; text-decoration-color: #008080; font-weight: bold\">43151</span>,<span style=\"color: #008080; text-decoration-color: #008080; font-weight: bold\">196.6396243592069</span>,<span style=\"color: #008080; text-decoration-color: #008080; font-weight: bold\">5.587753786983052</span>,F\n",
       "</pre>\n"
      ],
      "text/plain": [
       "\u001b[1;36m43151\u001b[0m,\u001b[1;36m196.6396243592069\u001b[0m,\u001b[1;36m5.587753786983052\u001b[0m,F\n"
      ]
     },
     "metadata": {},
     "output_type": "display_data"
    },
    {
     "data": {
      "text/html": [
       "<pre style=\"white-space:pre;overflow-x:auto;line-height:normal;font-family:Menlo,'DejaVu Sans Mono',consolas,'Courier New',monospace\"><span style=\"color: #008080; text-decoration-color: #008080; font-weight: bold\">28469</span>,<span style=\"color: #008080; text-decoration-color: #008080; font-weight: bold\">355.8301323370718</span>,<span style=\"color: #008080; text-decoration-color: #008080; font-weight: bold\">-11.727315026258674</span>,F\n",
       "</pre>\n"
      ],
      "text/plain": [
       "\u001b[1;36m28469\u001b[0m,\u001b[1;36m355.8301323370718\u001b[0m,\u001b[1;36m-11.727315026258674\u001b[0m,F\n"
      ]
     },
     "metadata": {},
     "output_type": "display_data"
    },
    {
     "data": {
      "text/html": [
       "<pre style=\"white-space:pre;overflow-x:auto;line-height:normal;font-family:Menlo,'DejaVu Sans Mono',consolas,'Courier New',monospace\"><span style=\"color: #008080; text-decoration-color: #008080; font-weight: bold\">15375</span>,<span style=\"color: #008080; text-decoration-color: #008080; font-weight: bold\">149.2178763748623</span>,<span style=\"color: #008080; text-decoration-color: #008080; font-weight: bold\">-9.739726496426096</span>,F\n",
       "</pre>\n"
      ],
      "text/plain": [
       "\u001b[1;36m15375\u001b[0m,\u001b[1;36m149.2178763748623\u001b[0m,\u001b[1;36m-9.739726496426096\u001b[0m,F\n"
      ]
     },
     "metadata": {},
     "output_type": "display_data"
    },
    {
     "data": {
      "text/html": [
       "<pre style=\"white-space:pre;overflow-x:auto;line-height:normal;font-family:Menlo,'DejaVu Sans Mono',consolas,'Courier New',monospace\"><span style=\"color: #008080; text-decoration-color: #008080; font-weight: bold\">45079</span>,<span style=\"color: #008080; text-decoration-color: #008080; font-weight: bold\">328.5676226846133</span>,<span style=\"color: #008080; text-decoration-color: #008080; font-weight: bold\">-12.060070432195788</span>,F\n",
       "</pre>\n"
      ],
      "text/plain": [
       "\u001b[1;36m45079\u001b[0m,\u001b[1;36m328.5676226846133\u001b[0m,\u001b[1;36m-12.060070432195788\u001b[0m,F\n"
      ]
     },
     "metadata": {},
     "output_type": "display_data"
    },
    {
     "data": {
      "text/html": [
       "<pre style=\"white-space:pre;overflow-x:auto;line-height:normal;font-family:Menlo,'DejaVu Sans Mono',consolas,'Courier New',monospace\"><span style=\"color: #008080; text-decoration-color: #008080; font-weight: bold\">32164</span>,<span style=\"color: #008080; text-decoration-color: #008080; font-weight: bold\">242.67946653550663</span>,<span style=\"color: #008080; text-decoration-color: #008080; font-weight: bold\">56.26303262903456</span>,F\n",
       "</pre>\n"
      ],
      "text/plain": [
       "\u001b[1;36m32164\u001b[0m,\u001b[1;36m242.67946653550663\u001b[0m,\u001b[1;36m56.26303262903456\u001b[0m,F\n"
      ]
     },
     "metadata": {},
     "output_type": "display_data"
    },
    {
     "data": {
      "text/html": [
       "<pre style=\"white-space:pre;overflow-x:auto;line-height:normal;font-family:Menlo,'DejaVu Sans Mono',consolas,'Courier New',monospace\"><span style=\"color: #008080; text-decoration-color: #008080; font-weight: bold\">7835</span>,<span style=\"color: #008080; text-decoration-color: #008080; font-weight: bold\">342.1672917850632</span>,<span style=\"color: #008080; text-decoration-color: #008080; font-weight: bold\">-6.712814771842088</span>,F\n",
       "</pre>\n"
      ],
      "text/plain": [
       "\u001b[1;36m7835\u001b[0m,\u001b[1;36m342.1672917850632\u001b[0m,\u001b[1;36m-6.712814771842088\u001b[0m,F\n"
      ]
     },
     "metadata": {},
     "output_type": "display_data"
    },
    {
     "data": {
      "text/html": [
       "<pre style=\"white-space:pre;overflow-x:auto;line-height:normal;font-family:Menlo,'DejaVu Sans Mono',consolas,'Courier New',monospace\"><span style=\"color: #008080; text-decoration-color: #008080; font-weight: bold\">38925</span>,<span style=\"color: #008080; text-decoration-color: #008080; font-weight: bold\">9.50351455884149</span>,<span style=\"color: #008080; text-decoration-color: #008080; font-weight: bold\">41.52075489671212</span>,F\n",
       "</pre>\n"
      ],
      "text/plain": [
       "\u001b[1;36m38925\u001b[0m,\u001b[1;36m9.50351455884149\u001b[0m,\u001b[1;36m41.52075489671212\u001b[0m,F\n"
      ]
     },
     "metadata": {},
     "output_type": "display_data"
    },
    {
     "data": {
      "text/html": [
       "<pre style=\"white-space:pre;overflow-x:auto;line-height:normal;font-family:Menlo,'DejaVu Sans Mono',consolas,'Courier New',monospace\"><span style=\"color: #008080; text-decoration-color: #008080; font-weight: bold\">43066</span>,<span style=\"color: #008080; text-decoration-color: #008080; font-weight: bold\">202.38102011967567</span>,<span style=\"color: #008080; text-decoration-color: #008080; font-weight: bold\">21.973170858258563</span>,F\n",
       "</pre>\n"
      ],
      "text/plain": [
       "\u001b[1;36m43066\u001b[0m,\u001b[1;36m202.38102011967567\u001b[0m,\u001b[1;36m21.973170858258563\u001b[0m,F\n"
      ]
     },
     "metadata": {},
     "output_type": "display_data"
    },
    {
     "data": {
      "text/html": [
       "<pre style=\"white-space:pre;overflow-x:auto;line-height:normal;font-family:Menlo,'DejaVu Sans Mono',consolas,'Courier New',monospace\"><span style=\"color: #008080; text-decoration-color: #008080; font-weight: bold\">40877</span>,<span style=\"color: #008080; text-decoration-color: #008080; font-weight: bold\">124.535969236158</span>,<span style=\"color: #008080; text-decoration-color: #008080; font-weight: bold\">-1.3789814550579922</span>,F\n",
       "</pre>\n"
      ],
      "text/plain": [
       "\u001b[1;36m40877\u001b[0m,\u001b[1;36m124.535969236158\u001b[0m,\u001b[1;36m-1.3789814550579922\u001b[0m,F\n"
      ]
     },
     "metadata": {},
     "output_type": "display_data"
    },
    {
     "data": {
      "text/html": [
       "<pre style=\"white-space:pre;overflow-x:auto;line-height:normal;font-family:Menlo,'DejaVu Sans Mono',consolas,'Courier New',monospace\"><span style=\"color: #008080; text-decoration-color: #008080; font-weight: bold\">2173</span>,<span style=\"color: #008080; text-decoration-color: #008080; font-weight: bold\">343.35269668783934</span>,<span style=\"color: #008080; text-decoration-color: #008080; font-weight: bold\">-39.79322560494054</span>,F\n",
       "</pre>\n"
      ],
      "text/plain": [
       "\u001b[1;36m2173\u001b[0m,\u001b[1;36m343.35269668783934\u001b[0m,\u001b[1;36m-39.79322560494054\u001b[0m,F\n"
      ]
     },
     "metadata": {},
     "output_type": "display_data"
    },
    {
     "data": {
      "text/html": [
       "<pre style=\"white-space:pre;overflow-x:auto;line-height:normal;font-family:Menlo,'DejaVu Sans Mono',consolas,'Courier New',monospace\"><span style=\"color: #008080; text-decoration-color: #008080; font-weight: bold\">46089</span>,<span style=\"color: #008080; text-decoration-color: #008080; font-weight: bold\">83.76764675327033</span>,<span style=\"color: #008080; text-decoration-color: #008080; font-weight: bold\">-35.75851638715586</span>,F\n",
       "</pre>\n"
      ],
      "text/plain": [
       "\u001b[1;36m46089\u001b[0m,\u001b[1;36m83.76764675327033\u001b[0m,\u001b[1;36m-35.75851638715586\u001b[0m,F\n"
      ]
     },
     "metadata": {},
     "output_type": "display_data"
    },
    {
     "data": {
      "text/html": [
       "<pre style=\"white-space:pre;overflow-x:auto;line-height:normal;font-family:Menlo,'DejaVu Sans Mono',consolas,'Courier New',monospace\"><span style=\"color: #008080; text-decoration-color: #008080; font-weight: bold\">45156</span>,<span style=\"color: #008080; text-decoration-color: #008080; font-weight: bold\">333.3313593611327</span>,<span style=\"color: #008080; text-decoration-color: #008080; font-weight: bold\">-20.318275221299203</span>,F\n",
       "</pre>\n"
      ],
      "text/plain": [
       "\u001b[1;36m45156\u001b[0m,\u001b[1;36m333.3313593611327\u001b[0m,\u001b[1;36m-20.318275221299203\u001b[0m,F\n"
      ]
     },
     "metadata": {},
     "output_type": "display_data"
    },
    {
     "data": {
      "text/html": [
       "<pre style=\"white-space:pre;overflow-x:auto;line-height:normal;font-family:Menlo,'DejaVu Sans Mono',consolas,'Courier New',monospace\"><span style=\"color: #008080; text-decoration-color: #008080; font-weight: bold\">35374</span>,<span style=\"color: #008080; text-decoration-color: #008080; font-weight: bold\">32.96572873857542</span>,<span style=\"color: #008080; text-decoration-color: #008080; font-weight: bold\">-3.901421189399248</span>,F\n",
       "</pre>\n"
      ],
      "text/plain": [
       "\u001b[1;36m35374\u001b[0m,\u001b[1;36m32.96572873857542\u001b[0m,\u001b[1;36m-3.901421189399248\u001b[0m,F\n"
      ]
     },
     "metadata": {},
     "output_type": "display_data"
    },
    {
     "data": {
      "text/html": [
       "<pre style=\"white-space:pre;overflow-x:auto;line-height:normal;font-family:Menlo,'DejaVu Sans Mono',consolas,'Courier New',monospace\"><span style=\"color: #008080; text-decoration-color: #008080; font-weight: bold\">35287</span>,<span style=\"color: #008080; text-decoration-color: #008080; font-weight: bold\">32.627795931913155</span>,<span style=\"color: #008080; text-decoration-color: #008080; font-weight: bold\">-5.696653727937164</span>,F\n",
       "</pre>\n"
      ],
      "text/plain": [
       "\u001b[1;36m35287\u001b[0m,\u001b[1;36m32.627795931913155\u001b[0m,\u001b[1;36m-5.696653727937164\u001b[0m,F\n"
      ]
     },
     "metadata": {},
     "output_type": "display_data"
    },
    {
     "data": {
      "text/html": [
       "<pre style=\"white-space:pre;overflow-x:auto;line-height:normal;font-family:Menlo,'DejaVu Sans Mono',consolas,'Courier New',monospace\"><span style=\"color: #008080; text-decoration-color: #008080; font-weight: bold\">34385</span>,<span style=\"color: #008080; text-decoration-color: #008080; font-weight: bold\">24.354936258595394</span>,<span style=\"color: #008080; text-decoration-color: #008080; font-weight: bold\">24.03297833837001</span>,F\n",
       "</pre>\n"
      ],
      "text/plain": [
       "\u001b[1;36m34385\u001b[0m,\u001b[1;36m24.354936258595394\u001b[0m,\u001b[1;36m24.03297833837001\u001b[0m,F\n"
      ]
     },
     "metadata": {},
     "output_type": "display_data"
    },
    {
     "data": {
      "text/html": [
       "<pre style=\"white-space:pre;overflow-x:auto;line-height:normal;font-family:Menlo,'DejaVu Sans Mono',consolas,'Courier New',monospace\"><span style=\"color: #008080; text-decoration-color: #008080; font-weight: bold\">32726</span>,<span style=\"color: #008080; text-decoration-color: #008080; font-weight: bold\">203.78241789866388</span>,<span style=\"color: #008080; text-decoration-color: #008080; font-weight: bold\">41.08290947630704</span>,F\n",
       "</pre>\n"
      ],
      "text/plain": [
       "\u001b[1;36m32726\u001b[0m,\u001b[1;36m203.78241789866388\u001b[0m,\u001b[1;36m41.08290947630704\u001b[0m,F\n"
      ]
     },
     "metadata": {},
     "output_type": "display_data"
    },
    {
     "data": {
      "text/html": [
       "<pre style=\"white-space:pre;overflow-x:auto;line-height:normal;font-family:Menlo,'DejaVu Sans Mono',consolas,'Courier New',monospace\"><span style=\"color: #008080; text-decoration-color: #008080; font-weight: bold\">44732</span>,<span style=\"color: #008080; text-decoration-color: #008080; font-weight: bold\">323.1233486974596</span>,<span style=\"color: #008080; text-decoration-color: #008080; font-weight: bold\">-11.558793394140404</span>,F\n",
       "</pre>\n"
      ],
      "text/plain": [
       "\u001b[1;36m44732\u001b[0m,\u001b[1;36m323.1233486974596\u001b[0m,\u001b[1;36m-11.558793394140404\u001b[0m,F\n"
      ]
     },
     "metadata": {},
     "output_type": "display_data"
    },
    {
     "data": {
      "text/html": [
       "<pre style=\"white-space:pre;overflow-x:auto;line-height:normal;font-family:Menlo,'DejaVu Sans Mono',consolas,'Courier New',monospace\"><span style=\"color: #008080; text-decoration-color: #008080; font-weight: bold\">7130</span>,<span style=\"color: #008080; text-decoration-color: #008080; font-weight: bold\">349.1321053306176</span>,<span style=\"color: #008080; text-decoration-color: #008080; font-weight: bold\">14.838502152048756</span>,F\n",
       "</pre>\n"
      ],
      "text/plain": [
       "\u001b[1;36m7130\u001b[0m,\u001b[1;36m349.1321053306176\u001b[0m,\u001b[1;36m14.838502152048756\u001b[0m,F\n"
      ]
     },
     "metadata": {},
     "output_type": "display_data"
    },
    {
     "data": {
      "text/html": [
       "<pre style=\"white-space:pre;overflow-x:auto;line-height:normal;font-family:Menlo,'DejaVu Sans Mono',consolas,'Courier New',monospace\"><span style=\"color: #008080; text-decoration-color: #008080; font-weight: bold\">40489</span>,<span style=\"color: #008080; text-decoration-color: #008080; font-weight: bold\">52.86590614057157</span>,<span style=\"color: #008080; text-decoration-color: #008080; font-weight: bold\">-27.554660254761373</span>,F\n",
       "</pre>\n"
      ],
      "text/plain": [
       "\u001b[1;36m40489\u001b[0m,\u001b[1;36m52.86590614057157\u001b[0m,\u001b[1;36m-27.554660254761373\u001b[0m,F\n"
      ]
     },
     "metadata": {},
     "output_type": "display_data"
    },
    {
     "data": {
      "text/html": [
       "<pre style=\"white-space:pre;overflow-x:auto;line-height:normal;font-family:Menlo,'DejaVu Sans Mono',consolas,'Courier New',monospace\"><span style=\"color: #008080; text-decoration-color: #008080; font-weight: bold\">36019</span>,<span style=\"color: #008080; text-decoration-color: #008080; font-weight: bold\">117.78118302690892</span>,<span style=\"color: #008080; text-decoration-color: #008080; font-weight: bold\">50.38836668609249</span>,F\n",
       "</pre>\n"
      ],
      "text/plain": [
       "\u001b[1;36m36019\u001b[0m,\u001b[1;36m117.78118302690892\u001b[0m,\u001b[1;36m50.38836668609249\u001b[0m,F\n"
      ]
     },
     "metadata": {},
     "output_type": "display_data"
    },
    {
     "data": {
      "text/html": [
       "<pre style=\"white-space:pre;overflow-x:auto;line-height:normal;font-family:Menlo,'DejaVu Sans Mono',consolas,'Courier New',monospace\"><span style=\"color: #008080; text-decoration-color: #008080; font-weight: bold\">40844</span>,<span style=\"color: #008080; text-decoration-color: #008080; font-weight: bold\">68.35386953862799</span>,<span style=\"color: #008080; text-decoration-color: #008080; font-weight: bold\">2.798840068391068</span>,F\n",
       "</pre>\n"
      ],
      "text/plain": [
       "\u001b[1;36m40844\u001b[0m,\u001b[1;36m68.35386953862799\u001b[0m,\u001b[1;36m2.798840068391068\u001b[0m,F\n"
      ]
     },
     "metadata": {},
     "output_type": "display_data"
    },
    {
     "data": {
      "text/html": [
       "<pre style=\"white-space:pre;overflow-x:auto;line-height:normal;font-family:Menlo,'DejaVu Sans Mono',consolas,'Courier New',monospace\"><span style=\"color: #008080; text-decoration-color: #008080; font-weight: bold\">1607</span>,<span style=\"color: #008080; text-decoration-color: #008080; font-weight: bold\">260.5527727121543</span>,<span style=\"color: #008080; text-decoration-color: #008080; font-weight: bold\">59.01467820275853</span>,F\n",
       "</pre>\n"
      ],
      "text/plain": [
       "\u001b[1;36m1607\u001b[0m,\u001b[1;36m260.5527727121543\u001b[0m,\u001b[1;36m59.01467820275853\u001b[0m,F\n"
      ]
     },
     "metadata": {},
     "output_type": "display_data"
    },
    {
     "data": {
      "text/html": [
       "<pre style=\"white-space:pre;overflow-x:auto;line-height:normal;font-family:Menlo,'DejaVu Sans Mono',consolas,'Courier New',monospace\"><span style=\"color: #008080; text-decoration-color: #008080; font-weight: bold\">26916</span>,<span style=\"color: #008080; text-decoration-color: #008080; font-weight: bold\">239.6326825478543</span>,<span style=\"color: #008080; text-decoration-color: #008080; font-weight: bold\">57.38563050598109</span>,F\n",
       "</pre>\n"
      ],
      "text/plain": [
       "\u001b[1;36m26916\u001b[0m,\u001b[1;36m239.6326825478543\u001b[0m,\u001b[1;36m57.38563050598109\u001b[0m,F\n"
      ]
     },
     "metadata": {},
     "output_type": "display_data"
    },
    {
     "data": {
      "text/html": [
       "<pre style=\"white-space:pre;overflow-x:auto;line-height:normal;font-family:Menlo,'DejaVu Sans Mono',consolas,'Courier New',monospace\"><span style=\"color: #008080; text-decoration-color: #008080; font-weight: bold\">17474</span>,<span style=\"color: #008080; text-decoration-color: #008080; font-weight: bold\">316.9760823765046</span>,<span style=\"color: #008080; text-decoration-color: #008080; font-weight: bold\">15.281665847542277</span>,F\n",
       "</pre>\n"
      ],
      "text/plain": [
       "\u001b[1;36m17474\u001b[0m,\u001b[1;36m316.9760823765046\u001b[0m,\u001b[1;36m15.281665847542277\u001b[0m,F\n"
      ]
     },
     "metadata": {},
     "output_type": "display_data"
    },
    {
     "data": {
      "text/html": [
       "<pre style=\"white-space:pre;overflow-x:auto;line-height:normal;font-family:Menlo,'DejaVu Sans Mono',consolas,'Courier New',monospace\"><span style=\"color: #008080; text-decoration-color: #008080; font-weight: bold\">41054</span>,<span style=\"color: #008080; text-decoration-color: #008080; font-weight: bold\">46.67659139587702</span>,<span style=\"color: #008080; text-decoration-color: #008080; font-weight: bold\">68.87363002410277</span>,F\n",
       "</pre>\n"
      ],
      "text/plain": [
       "\u001b[1;36m41054\u001b[0m,\u001b[1;36m46.67659139587702\u001b[0m,\u001b[1;36m68.87363002410277\u001b[0m,F\n"
      ]
     },
     "metadata": {},
     "output_type": "display_data"
    },
    {
     "data": {
      "text/html": [
       "<pre style=\"white-space:pre;overflow-x:auto;line-height:normal;font-family:Menlo,'DejaVu Sans Mono',consolas,'Courier New',monospace\"><span style=\"color: #008080; text-decoration-color: #008080; font-weight: bold\">42308</span>,<span style=\"color: #008080; text-decoration-color: #008080; font-weight: bold\">188.80616089396423</span>,<span style=\"color: #008080; text-decoration-color: #008080; font-weight: bold\">0.6921721416193922</span>,F\n",
       "</pre>\n"
      ],
      "text/plain": [
       "\u001b[1;36m42308\u001b[0m,\u001b[1;36m188.80616089396423\u001b[0m,\u001b[1;36m0.6921721416193922\u001b[0m,F\n"
      ]
     },
     "metadata": {},
     "output_type": "display_data"
    },
    {
     "data": {
      "text/html": [
       "<pre style=\"white-space:pre;overflow-x:auto;line-height:normal;font-family:Menlo,'DejaVu Sans Mono',consolas,'Courier New',monospace\"><span style=\"color: #008080; text-decoration-color: #008080; font-weight: bold\">28502</span>,<span style=\"color: #008080; text-decoration-color: #008080; font-weight: bold\">311.2263335954529</span>,<span style=\"color: #008080; text-decoration-color: #008080; font-weight: bold\">-5.379805812376426</span>,F\n",
       "</pre>\n"
      ],
      "text/plain": [
       "\u001b[1;36m28502\u001b[0m,\u001b[1;36m311.2263335954529\u001b[0m,\u001b[1;36m-5.379805812376426\u001b[0m,F\n"
      ]
     },
     "metadata": {},
     "output_type": "display_data"
    },
    {
     "data": {
      "text/html": [
       "<pre style=\"white-space:pre;overflow-x:auto;line-height:normal;font-family:Menlo,'DejaVu Sans Mono',consolas,'Courier New',monospace\"><span style=\"color: #008080; text-decoration-color: #008080; font-weight: bold\">25790</span>,<span style=\"color: #008080; text-decoration-color: #008080; font-weight: bold\">127.18161473218429</span>,<span style=\"color: #008080; text-decoration-color: #008080; font-weight: bold\">8.66010582783198</span>,F\n",
       "</pre>\n"
      ],
      "text/plain": [
       "\u001b[1;36m25790\u001b[0m,\u001b[1;36m127.18161473218429\u001b[0m,\u001b[1;36m8.66010582783198\u001b[0m,F\n"
      ]
     },
     "metadata": {},
     "output_type": "display_data"
    },
    {
     "data": {
      "text/html": [
       "<pre style=\"white-space:pre;overflow-x:auto;line-height:normal;font-family:Menlo,'DejaVu Sans Mono',consolas,'Courier New',monospace\"><span style=\"color: #008080; text-decoration-color: #008080; font-weight: bold\">41910</span>,<span style=\"color: #008080; text-decoration-color: #008080; font-weight: bold\">139.12908776493123</span>,<span style=\"color: #008080; text-decoration-color: #008080; font-weight: bold\">27.82735066373884</span>,F\n",
       "</pre>\n"
      ],
      "text/plain": [
       "\u001b[1;36m41910\u001b[0m,\u001b[1;36m139.12908776493123\u001b[0m,\u001b[1;36m27.82735066373884\u001b[0m,F\n"
      ]
     },
     "metadata": {},
     "output_type": "display_data"
    },
    {
     "data": {
      "text/html": [
       "<pre style=\"white-space:pre;overflow-x:auto;line-height:normal;font-family:Menlo,'DejaVu Sans Mono',consolas,'Courier New',monospace\"><span style=\"color: #008080; text-decoration-color: #008080; font-weight: bold\">41113</span>,<span style=\"color: #008080; text-decoration-color: #008080; font-weight: bold\">129.94430906216618</span>,<span style=\"color: #008080; text-decoration-color: #008080; font-weight: bold\">38.43814889915049</span>,F\n",
       "</pre>\n"
      ],
      "text/plain": [
       "\u001b[1;36m41113\u001b[0m,\u001b[1;36m129.94430906216618\u001b[0m,\u001b[1;36m38.43814889915049\u001b[0m,F\n"
      ]
     },
     "metadata": {},
     "output_type": "display_data"
    },
    {
     "data": {
      "text/html": [
       "<pre style=\"white-space:pre;overflow-x:auto;line-height:normal;font-family:Menlo,'DejaVu Sans Mono',consolas,'Courier New',monospace\"><span style=\"color: #008080; text-decoration-color: #008080; font-weight: bold\">26237</span>,<span style=\"color: #008080; text-decoration-color: #008080; font-weight: bold\">164.9391545079739</span>,<span style=\"color: #008080; text-decoration-color: #008080; font-weight: bold\">58.34345434154001</span>,F\n",
       "</pre>\n"
      ],
      "text/plain": [
       "\u001b[1;36m26237\u001b[0m,\u001b[1;36m164.9391545079739\u001b[0m,\u001b[1;36m58.34345434154001\u001b[0m,F\n"
      ]
     },
     "metadata": {},
     "output_type": "display_data"
    },
    {
     "data": {
      "text/html": [
       "<pre style=\"white-space:pre;overflow-x:auto;line-height:normal;font-family:Menlo,'DejaVu Sans Mono',consolas,'Courier New',monospace\"><span style=\"color: #008080; text-decoration-color: #008080; font-weight: bold\">23124</span>,<span style=\"color: #008080; text-decoration-color: #008080; font-weight: bold\">259.893018256863</span>,<span style=\"color: #008080; text-decoration-color: #008080; font-weight: bold\">61.22076360218031</span>,F\n",
       "</pre>\n"
      ],
      "text/plain": [
       "\u001b[1;36m23124\u001b[0m,\u001b[1;36m259.893018256863\u001b[0m,\u001b[1;36m61.22076360218031\u001b[0m,F\n"
      ]
     },
     "metadata": {},
     "output_type": "display_data"
    },
    {
     "data": {
      "text/html": [
       "<pre style=\"white-space:pre;overflow-x:auto;line-height:normal;font-family:Menlo,'DejaVu Sans Mono',consolas,'Courier New',monospace\"><span style=\"color: #008080; text-decoration-color: #008080; font-weight: bold\">13130</span>,<span style=\"color: #008080; text-decoration-color: #008080; font-weight: bold\">10.819691182297484</span>,<span style=\"color: #008080; text-decoration-color: #008080; font-weight: bold\">-43.61934547218231</span>,F\n",
       "</pre>\n"
      ],
      "text/plain": [
       "\u001b[1;36m13130\u001b[0m,\u001b[1;36m10.819691182297484\u001b[0m,\u001b[1;36m-43.61934547218231\u001b[0m,F\n"
      ]
     },
     "metadata": {},
     "output_type": "display_data"
    },
    {
     "data": {
      "text/html": [
       "<pre style=\"white-space:pre;overflow-x:auto;line-height:normal;font-family:Menlo,'DejaVu Sans Mono',consolas,'Courier New',monospace\"><span style=\"color: #008080; text-decoration-color: #008080; font-weight: bold\">7615</span>,<span style=\"color: #008080; text-decoration-color: #008080; font-weight: bold\">9.024227573567908</span>,<span style=\"color: #008080; text-decoration-color: #008080; font-weight: bold\">-43.578601448332414</span>,F\n",
       "</pre>\n"
      ],
      "text/plain": [
       "\u001b[1;36m7615\u001b[0m,\u001b[1;36m9.024227573567908\u001b[0m,\u001b[1;36m-43.578601448332414\u001b[0m,F\n"
      ]
     },
     "metadata": {},
     "output_type": "display_data"
    },
    {
     "data": {
      "text/html": [
       "<pre style=\"white-space:pre;overflow-x:auto;line-height:normal;font-family:Menlo,'DejaVu Sans Mono',consolas,'Courier New',monospace\"><span style=\"color: #008080; text-decoration-color: #008080; font-weight: bold\">24329</span>,<span style=\"color: #008080; text-decoration-color: #008080; font-weight: bold\">55.75437662933992</span>,<span style=\"color: #008080; text-decoration-color: #008080; font-weight: bold\">-22.165284993800476</span>,F\n",
       "</pre>\n"
      ],
      "text/plain": [
       "\u001b[1;36m24329\u001b[0m,\u001b[1;36m55.75437662933992\u001b[0m,\u001b[1;36m-22.165284993800476\u001b[0m,F\n"
      ]
     },
     "metadata": {},
     "output_type": "display_data"
    },
    {
     "data": {
      "text/html": [
       "<pre style=\"white-space:pre;overflow-x:auto;line-height:normal;font-family:Menlo,'DejaVu Sans Mono',consolas,'Courier New',monospace\"><span style=\"color: #008080; text-decoration-color: #008080; font-weight: bold\">12100</span>,<span style=\"color: #008080; text-decoration-color: #008080; font-weight: bold\">258.39176876413853</span>,<span style=\"color: #008080; text-decoration-color: #008080; font-weight: bold\">59.19834107196941</span>,F\n",
       "</pre>\n"
      ],
      "text/plain": [
       "\u001b[1;36m12100\u001b[0m,\u001b[1;36m258.39176876413853\u001b[0m,\u001b[1;36m59.19834107196941\u001b[0m,F\n"
      ]
     },
     "metadata": {},
     "output_type": "display_data"
    },
    {
     "data": {
      "text/html": [
       "<pre style=\"white-space:pre;overflow-x:auto;line-height:normal;font-family:Menlo,'DejaVu Sans Mono',consolas,'Courier New',monospace\"><span style=\"color: #008080; text-decoration-color: #008080; font-weight: bold\">41149</span>,<span style=\"color: #008080; text-decoration-color: #008080; font-weight: bold\">173.4804615882946</span>,<span style=\"color: #008080; text-decoration-color: #008080; font-weight: bold\">84.28149118192351</span>,F\n",
       "</pre>\n"
      ],
      "text/plain": [
       "\u001b[1;36m41149\u001b[0m,\u001b[1;36m173.4804615882946\u001b[0m,\u001b[1;36m84.28149118192351\u001b[0m,F\n"
      ]
     },
     "metadata": {},
     "output_type": "display_data"
    },
    {
     "data": {
      "text/html": [
       "<pre style=\"white-space:pre;overflow-x:auto;line-height:normal;font-family:Menlo,'DejaVu Sans Mono',consolas,'Courier New',monospace\"><span style=\"color: #008080; text-decoration-color: #008080; font-weight: bold\">28335</span>,<span style=\"color: #008080; text-decoration-color: #008080; font-weight: bold\">322.3437685563494</span>,<span style=\"color: #008080; text-decoration-color: #008080; font-weight: bold\">1.826444648034856</span>,F\n",
       "</pre>\n"
      ],
      "text/plain": [
       "\u001b[1;36m28335\u001b[0m,\u001b[1;36m322.3437685563494\u001b[0m,\u001b[1;36m1.826444648034856\u001b[0m,F\n"
      ]
     },
     "metadata": {},
     "output_type": "display_data"
    },
    {
     "data": {
      "text/html": [
       "<pre style=\"white-space:pre;overflow-x:auto;line-height:normal;font-family:Menlo,'DejaVu Sans Mono',consolas,'Courier New',monospace\"><span style=\"color: #008080; text-decoration-color: #008080; font-weight: bold\">16609</span>,<span style=\"color: #008080; text-decoration-color: #008080; font-weight: bold\">228.3336971828062</span>,<span style=\"color: #008080; text-decoration-color: #008080; font-weight: bold\">57.010003924988766</span>,F\n",
       "</pre>\n"
      ],
      "text/plain": [
       "\u001b[1;36m16609\u001b[0m,\u001b[1;36m228.3336971828062\u001b[0m,\u001b[1;36m57.010003924988766\u001b[0m,F\n"
      ]
     },
     "metadata": {},
     "output_type": "display_data"
    },
    {
     "data": {
      "text/html": [
       "<pre style=\"white-space:pre;overflow-x:auto;line-height:normal;font-family:Menlo,'DejaVu Sans Mono',consolas,'Courier New',monospace\"><span style=\"color: #008080; text-decoration-color: #008080; font-weight: bold\">25405</span>,<span style=\"color: #008080; text-decoration-color: #008080; font-weight: bold\">125.15425987502242</span>,<span style=\"color: #008080; text-decoration-color: #008080; font-weight: bold\">30.804006832657382</span>,F\n",
       "</pre>\n"
      ],
      "text/plain": [
       "\u001b[1;36m25405\u001b[0m,\u001b[1;36m125.15425987502242\u001b[0m,\u001b[1;36m30.804006832657382\u001b[0m,F\n"
      ]
     },
     "metadata": {},
     "output_type": "display_data"
    },
    {
     "data": {
      "text/html": [
       "<pre style=\"white-space:pre;overflow-x:auto;line-height:normal;font-family:Menlo,'DejaVu Sans Mono',consolas,'Courier New',monospace\"><span style=\"color: #008080; text-decoration-color: #008080; font-weight: bold\">13853</span>,<span style=\"color: #008080; text-decoration-color: #008080; font-weight: bold\">7.619482105014921</span>,<span style=\"color: #008080; text-decoration-color: #008080; font-weight: bold\">-44.19068155360762</span>,F\n",
       "</pre>\n"
      ],
      "text/plain": [
       "\u001b[1;36m13853\u001b[0m,\u001b[1;36m7.619482105014921\u001b[0m,\u001b[1;36m-44.19068155360762\u001b[0m,F\n"
      ]
     },
     "metadata": {},
     "output_type": "display_data"
    },
    {
     "data": {
      "text/html": [
       "<pre style=\"white-space:pre;overflow-x:auto;line-height:normal;font-family:Menlo,'DejaVu Sans Mono',consolas,'Courier New',monospace\"><span style=\"color: #008080; text-decoration-color: #008080; font-weight: bold\">44006</span>,<span style=\"color: #008080; text-decoration-color: #008080; font-weight: bold\">235.58668874371517</span>,<span style=\"color: #008080; text-decoration-color: #008080; font-weight: bold\">39.50326255249047</span>,F\n",
       "</pre>\n"
      ],
      "text/plain": [
       "\u001b[1;36m44006\u001b[0m,\u001b[1;36m235.58668874371517\u001b[0m,\u001b[1;36m39.50326255249047\u001b[0m,F\n"
      ]
     },
     "metadata": {},
     "output_type": "display_data"
    },
    {
     "data": {
      "text/html": [
       "<pre style=\"white-space:pre;overflow-x:auto;line-height:normal;font-family:Menlo,'DejaVu Sans Mono',consolas,'Courier New',monospace\"><span style=\"color: #008080; text-decoration-color: #008080; font-weight: bold\">8915</span>,<span style=\"color: #008080; text-decoration-color: #008080; font-weight: bold\">101.68589626290964</span>,<span style=\"color: #008080; text-decoration-color: #008080; font-weight: bold\">-35.71320598541373</span>,F\n",
       "</pre>\n"
      ],
      "text/plain": [
       "\u001b[1;36m8915\u001b[0m,\u001b[1;36m101.68589626290964\u001b[0m,\u001b[1;36m-35.71320598541373\u001b[0m,F\n"
      ]
     },
     "metadata": {},
     "output_type": "display_data"
    },
    {
     "data": {
      "text/html": [
       "<pre style=\"white-space:pre;overflow-x:auto;line-height:normal;font-family:Menlo,'DejaVu Sans Mono',consolas,'Courier New',monospace\"><span style=\"color: #008080; text-decoration-color: #008080; font-weight: bold\">21900</span>,<span style=\"color: #008080; text-decoration-color: #008080; font-weight: bold\">235.96314690996272</span>,<span style=\"color: #008080; text-decoration-color: #008080; font-weight: bold\">-37.704785381872505</span>,F\n",
       "</pre>\n"
      ],
      "text/plain": [
       "\u001b[1;36m21900\u001b[0m,\u001b[1;36m235.96314690996272\u001b[0m,\u001b[1;36m-37.704785381872505\u001b[0m,F\n"
      ]
     },
     "metadata": {},
     "output_type": "display_data"
    },
    {
     "data": {
      "text/html": [
       "<pre style=\"white-space:pre;overflow-x:auto;line-height:normal;font-family:Menlo,'DejaVu Sans Mono',consolas,'Courier New',monospace\"><span style=\"color: #008080; text-decoration-color: #008080; font-weight: bold\">42577</span>,<span style=\"color: #008080; text-decoration-color: #008080; font-weight: bold\">252.45344552310016</span>,<span style=\"color: #008080; text-decoration-color: #008080; font-weight: bold\">57.84177738150104</span>,F\n",
       "</pre>\n"
      ],
      "text/plain": [
       "\u001b[1;36m42577\u001b[0m,\u001b[1;36m252.45344552310016\u001b[0m,\u001b[1;36m57.84177738150104\u001b[0m,F\n"
      ]
     },
     "metadata": {},
     "output_type": "display_data"
    },
    {
     "data": {
      "text/html": [
       "<pre style=\"white-space:pre;overflow-x:auto;line-height:normal;font-family:Menlo,'DejaVu Sans Mono',consolas,'Courier New',monospace\"><span style=\"color: #008080; text-decoration-color: #008080; font-weight: bold\">7795</span>,<span style=\"color: #008080; text-decoration-color: #008080; font-weight: bold\">49.89534219391867</span>,<span style=\"color: #008080; text-decoration-color: #008080; font-weight: bold\">41.9347257429429</span>,F\n",
       "</pre>\n"
      ],
      "text/plain": [
       "\u001b[1;36m7795\u001b[0m,\u001b[1;36m49.89534219391867\u001b[0m,\u001b[1;36m41.9347257429429\u001b[0m,F\n"
      ]
     },
     "metadata": {},
     "output_type": "display_data"
    },
    {
     "data": {
      "text/html": [
       "<pre style=\"white-space:pre;overflow-x:auto;line-height:normal;font-family:Menlo,'DejaVu Sans Mono',consolas,'Courier New',monospace\"><span style=\"color: #008080; text-decoration-color: #008080; font-weight: bold\">18620</span>,<span style=\"color: #008080; text-decoration-color: #008080; font-weight: bold\">35.88509673289112</span>,<span style=\"color: #008080; text-decoration-color: #008080; font-weight: bold\">-4.173626027031535</span>,F\n",
       "</pre>\n"
      ],
      "text/plain": [
       "\u001b[1;36m18620\u001b[0m,\u001b[1;36m35.88509673289112\u001b[0m,\u001b[1;36m-4.173626027031535\u001b[0m,F\n"
      ]
     },
     "metadata": {},
     "output_type": "display_data"
    },
    {
     "data": {
      "text/html": [
       "<pre style=\"white-space:pre;overflow-x:auto;line-height:normal;font-family:Menlo,'DejaVu Sans Mono',consolas,'Courier New',monospace\"><span style=\"color: #008080; text-decoration-color: #008080; font-weight: bold\">38081</span>,<span style=\"color: #008080; text-decoration-color: #008080; font-weight: bold\">288.1504221093241</span>,<span style=\"color: #008080; text-decoration-color: #008080; font-weight: bold\">63.15063879870674</span>,F\n",
       "</pre>\n"
      ],
      "text/plain": [
       "\u001b[1;36m38081\u001b[0m,\u001b[1;36m288.1504221093241\u001b[0m,\u001b[1;36m63.15063879870674\u001b[0m,F\n"
      ]
     },
     "metadata": {},
     "output_type": "display_data"
    },
    {
     "data": {
      "text/html": [
       "<pre style=\"white-space:pre;overflow-x:auto;line-height:normal;font-family:Menlo,'DejaVu Sans Mono',consolas,'Courier New',monospace\"><span style=\"color: #008080; text-decoration-color: #008080; font-weight: bold\">44818</span>,<span style=\"color: #008080; text-decoration-color: #008080; font-weight: bold\">323.40395667905125</span>,<span style=\"color: #008080; text-decoration-color: #008080; font-weight: bold\">15.03656177948946</span>,F\n",
       "</pre>\n"
      ],
      "text/plain": [
       "\u001b[1;36m44818\u001b[0m,\u001b[1;36m323.40395667905125\u001b[0m,\u001b[1;36m15.03656177948946\u001b[0m,F\n"
      ]
     },
     "metadata": {},
     "output_type": "display_data"
    },
    {
     "data": {
      "text/html": [
       "<pre style=\"white-space:pre;overflow-x:auto;line-height:normal;font-family:Menlo,'DejaVu Sans Mono',consolas,'Courier New',monospace\"><span style=\"color: #008080; text-decoration-color: #008080; font-weight: bold\">17102</span>,<span style=\"color: #008080; text-decoration-color: #008080; font-weight: bold\">250.3617215397146</span>,<span style=\"color: #008080; text-decoration-color: #008080; font-weight: bold\">41.2371640756153</span>,F\n",
       "</pre>\n"
      ],
      "text/plain": [
       "\u001b[1;36m17102\u001b[0m,\u001b[1;36m250.3617215397146\u001b[0m,\u001b[1;36m41.2371640756153\u001b[0m,F\n"
      ]
     },
     "metadata": {},
     "output_type": "display_data"
    },
    {
     "data": {
      "text/html": [
       "<pre style=\"white-space:pre;overflow-x:auto;line-height:normal;font-family:Menlo,'DejaVu Sans Mono',consolas,'Courier New',monospace\"><span style=\"color: #008080; text-decoration-color: #008080; font-weight: bold\">16848</span>,<span style=\"color: #008080; text-decoration-color: #008080; font-weight: bold\">271.7424344581814</span>,<span style=\"color: #008080; text-decoration-color: #008080; font-weight: bold\">16.176922431599316</span>,F\n",
       "</pre>\n"
      ],
      "text/plain": [
       "\u001b[1;36m16848\u001b[0m,\u001b[1;36m271.7424344581814\u001b[0m,\u001b[1;36m16.176922431599316\u001b[0m,F\n"
      ]
     },
     "metadata": {},
     "output_type": "display_data"
    },
    {
     "data": {
      "text/html": [
       "<pre style=\"white-space:pre;overflow-x:auto;line-height:normal;font-family:Menlo,'DejaVu Sans Mono',consolas,'Courier New',monospace\"><span style=\"color: #008080; text-decoration-color: #008080; font-weight: bold\">40876</span>,<span style=\"color: #008080; text-decoration-color: #008080; font-weight: bold\">62.639967675789535</span>,<span style=\"color: #008080; text-decoration-color: #008080; font-weight: bold\">20.85970664045083</span>,F\n",
       "</pre>\n"
      ],
      "text/plain": [
       "\u001b[1;36m40876\u001b[0m,\u001b[1;36m62.639967675789535\u001b[0m,\u001b[1;36m20.85970664045083\u001b[0m,F\n"
      ]
     },
     "metadata": {},
     "output_type": "display_data"
    },
    {
     "data": {
      "text/html": [
       "<pre style=\"white-space:pre;overflow-x:auto;line-height:normal;font-family:Menlo,'DejaVu Sans Mono',consolas,'Courier New',monospace\"><span style=\"color: #008080; text-decoration-color: #008080; font-weight: bold\">18029</span>,<span style=\"color: #008080; text-decoration-color: #008080; font-weight: bold\">350.4306815283149</span>,<span style=\"color: #008080; text-decoration-color: #008080; font-weight: bold\">8.790399631510871</span>,F\n",
       "</pre>\n"
      ],
      "text/plain": [
       "\u001b[1;36m18029\u001b[0m,\u001b[1;36m350.4306815283149\u001b[0m,\u001b[1;36m8.790399631510871\u001b[0m,F\n"
      ]
     },
     "metadata": {},
     "output_type": "display_data"
    },
    {
     "data": {
      "text/html": [
       "<pre style=\"white-space:pre;overflow-x:auto;line-height:normal;font-family:Menlo,'DejaVu Sans Mono',consolas,'Courier New',monospace\"><span style=\"color: #008080; text-decoration-color: #008080; font-weight: bold\">35166</span>,<span style=\"color: #008080; text-decoration-color: #008080; font-weight: bold\">54.29252067368935</span>,<span style=\"color: #008080; text-decoration-color: #008080; font-weight: bold\">-34.96038564697507</span>,F\n",
       "</pre>\n"
      ],
      "text/plain": [
       "\u001b[1;36m35166\u001b[0m,\u001b[1;36m54.29252067368935\u001b[0m,\u001b[1;36m-34.96038564697507\u001b[0m,F\n"
      ]
     },
     "metadata": {},
     "output_type": "display_data"
    },
    {
     "data": {
      "text/html": [
       "<pre style=\"white-space:pre;overflow-x:auto;line-height:normal;font-family:Menlo,'DejaVu Sans Mono',consolas,'Courier New',monospace\"><span style=\"color: #008080; text-decoration-color: #008080; font-weight: bold\">24432</span>,<span style=\"color: #008080; text-decoration-color: #008080; font-weight: bold\">85.42944637892768</span>,<span style=\"color: #008080; text-decoration-color: #008080; font-weight: bold\">-28.544042316348573</span>,F\n",
       "</pre>\n"
      ],
      "text/plain": [
       "\u001b[1;36m24432\u001b[0m,\u001b[1;36m85.42944637892768\u001b[0m,\u001b[1;36m-28.544042316348573\u001b[0m,F\n"
      ]
     },
     "metadata": {},
     "output_type": "display_data"
    },
    {
     "data": {
      "text/html": [
       "<pre style=\"white-space:pre;overflow-x:auto;line-height:normal;font-family:Menlo,'DejaVu Sans Mono',consolas,'Courier New',monospace\"><span style=\"color: #008080; text-decoration-color: #008080; font-weight: bold\">42559</span>,<span style=\"color: #008080; text-decoration-color: #008080; font-weight: bold\">167.24081940037223</span>,<span style=\"color: #008080; text-decoration-color: #008080; font-weight: bold\">18.239406838956665</span>,F\n",
       "</pre>\n"
      ],
      "text/plain": [
       "\u001b[1;36m42559\u001b[0m,\u001b[1;36m167.24081940037223\u001b[0m,\u001b[1;36m18.239406838956665\u001b[0m,F\n"
      ]
     },
     "metadata": {},
     "output_type": "display_data"
    },
    {
     "data": {
      "text/html": [
       "<pre style=\"white-space:pre;overflow-x:auto;line-height:normal;font-family:Menlo,'DejaVu Sans Mono',consolas,'Courier New',monospace\"><span style=\"color: #008080; text-decoration-color: #008080; font-weight: bold\">14446</span>,<span style=\"color: #008080; text-decoration-color: #008080; font-weight: bold\">163.5439167129069</span>,<span style=\"color: #008080; text-decoration-color: #008080; font-weight: bold\">57.51024336109308</span>,F\n",
       "</pre>\n"
      ],
      "text/plain": [
       "\u001b[1;36m14446\u001b[0m,\u001b[1;36m163.5439167129069\u001b[0m,\u001b[1;36m57.51024336109308\u001b[0m,F\n"
      ]
     },
     "metadata": {},
     "output_type": "display_data"
    },
    {
     "data": {
      "text/html": [
       "<pre style=\"white-space:pre;overflow-x:auto;line-height:normal;font-family:Menlo,'DejaVu Sans Mono',consolas,'Courier New',monospace\"><span style=\"color: #008080; text-decoration-color: #008080; font-weight: bold\">38325</span>,<span style=\"color: #008080; text-decoration-color: #008080; font-weight: bold\">297.23767588596513</span>,<span style=\"color: #008080; text-decoration-color: #008080; font-weight: bold\">-7.650948409830293</span>,F\n",
       "</pre>\n"
      ],
      "text/plain": [
       "\u001b[1;36m38325\u001b[0m,\u001b[1;36m297.23767588596513\u001b[0m,\u001b[1;36m-7.650948409830293\u001b[0m,F\n"
      ]
     },
     "metadata": {},
     "output_type": "display_data"
    },
    {
     "data": {
      "text/html": [
       "<pre style=\"white-space:pre;overflow-x:auto;line-height:normal;font-family:Menlo,'DejaVu Sans Mono',consolas,'Courier New',monospace\"><span style=\"color: #008080; text-decoration-color: #008080; font-weight: bold\">12068</span>,<span style=\"color: #008080; text-decoration-color: #008080; font-weight: bold\">257.79365732340096</span>,<span style=\"color: #008080; text-decoration-color: #008080; font-weight: bold\">60.480400158510086</span>,F\n",
       "</pre>\n"
      ],
      "text/plain": [
       "\u001b[1;36m12068\u001b[0m,\u001b[1;36m257.79365732340096\u001b[0m,\u001b[1;36m60.480400158510086\u001b[0m,F\n"
      ]
     },
     "metadata": {},
     "output_type": "display_data"
    },
    {
     "data": {
      "text/html": [
       "<pre style=\"white-space:pre;overflow-x:auto;line-height:normal;font-family:Menlo,'DejaVu Sans Mono',consolas,'Courier New',monospace\"><span style=\"color: #008080; text-decoration-color: #008080; font-weight: bold\">43215</span>,<span style=\"color: #008080; text-decoration-color: #008080; font-weight: bold\">225.96144019324996</span>,<span style=\"color: #008080; text-decoration-color: #008080; font-weight: bold\">-39.31017782387541</span>,F\n",
       "</pre>\n"
      ],
      "text/plain": [
       "\u001b[1;36m43215\u001b[0m,\u001b[1;36m225.96144019324996\u001b[0m,\u001b[1;36m-39.31017782387541\u001b[0m,F\n"
      ]
     },
     "metadata": {},
     "output_type": "display_data"
    },
    {
     "data": {
      "text/html": [
       "<pre style=\"white-space:pre;overflow-x:auto;line-height:normal;font-family:Menlo,'DejaVu Sans Mono',consolas,'Courier New',monospace\"><span style=\"color: #008080; text-decoration-color: #008080; font-weight: bold\">43397</span>,<span style=\"color: #008080; text-decoration-color: #008080; font-weight: bold\">293.8904124128872</span>,<span style=\"color: #008080; text-decoration-color: #008080; font-weight: bold\">52.31695702160748</span>,F\n",
       "</pre>\n"
      ],
      "text/plain": [
       "\u001b[1;36m43397\u001b[0m,\u001b[1;36m293.8904124128872\u001b[0m,\u001b[1;36m52.31695702160748\u001b[0m,F\n"
      ]
     },
     "metadata": {},
     "output_type": "display_data"
    },
    {
     "data": {
      "text/html": [
       "<pre style=\"white-space:pre;overflow-x:auto;line-height:normal;font-family:Menlo,'DejaVu Sans Mono',consolas,'Courier New',monospace\"><span style=\"color: #008080; text-decoration-color: #008080; font-weight: bold\">9445</span>,<span style=\"color: #008080; text-decoration-color: #008080; font-weight: bold\">80.36351291387018</span>,<span style=\"color: #008080; text-decoration-color: #008080; font-weight: bold\">-49.11892244480997</span>,F\n",
       "</pre>\n"
      ],
      "text/plain": [
       "\u001b[1;36m9445\u001b[0m,\u001b[1;36m80.36351291387018\u001b[0m,\u001b[1;36m-49.11892244480997\u001b[0m,F\n"
      ]
     },
     "metadata": {},
     "output_type": "display_data"
    },
    {
     "data": {
      "text/html": [
       "<pre style=\"white-space:pre;overflow-x:auto;line-height:normal;font-family:Menlo,'DejaVu Sans Mono',consolas,'Courier New',monospace\"><span style=\"color: #008080; text-decoration-color: #008080; font-weight: bold\">12484</span>,<span style=\"color: #008080; text-decoration-color: #008080; font-weight: bold\">310.0363383399198</span>,<span style=\"color: #008080; text-decoration-color: #008080; font-weight: bold\">-0.8770754562321829</span>,F\n",
       "</pre>\n"
      ],
      "text/plain": [
       "\u001b[1;36m12484\u001b[0m,\u001b[1;36m310.0363383399198\u001b[0m,\u001b[1;36m-0.8770754562321829\u001b[0m,F\n"
      ]
     },
     "metadata": {},
     "output_type": "display_data"
    },
    {
     "data": {
      "text/html": [
       "<pre style=\"white-space:pre;overflow-x:auto;line-height:normal;font-family:Menlo,'DejaVu Sans Mono',consolas,'Courier New',monospace\"><span style=\"color: #008080; text-decoration-color: #008080; font-weight: bold\">25210</span>,<span style=\"color: #008080; text-decoration-color: #008080; font-weight: bold\">141.61653204895006</span>,<span style=\"color: #008080; text-decoration-color: #008080; font-weight: bold\">8.164983372676973</span>,F\n",
       "</pre>\n"
      ],
      "text/plain": [
       "\u001b[1;36m25210\u001b[0m,\u001b[1;36m141.61653204895006\u001b[0m,\u001b[1;36m8.164983372676973\u001b[0m,F\n"
      ]
     },
     "metadata": {},
     "output_type": "display_data"
    },
    {
     "data": {
      "text/html": [
       "<pre style=\"white-space:pre;overflow-x:auto;line-height:normal;font-family:Menlo,'DejaVu Sans Mono',consolas,'Courier New',monospace\"><span style=\"color: #008080; text-decoration-color: #008080; font-weight: bold\">29103</span>,<span style=\"color: #008080; text-decoration-color: #008080; font-weight: bold\">37.28651478437844</span>,<span style=\"color: #008080; text-decoration-color: #008080; font-weight: bold\">-7.799479441835983</span>,F\n",
       "</pre>\n"
      ],
      "text/plain": [
       "\u001b[1;36m29103\u001b[0m,\u001b[1;36m37.28651478437844\u001b[0m,\u001b[1;36m-7.799479441835983\u001b[0m,F\n"
      ]
     },
     "metadata": {},
     "output_type": "display_data"
    },
    {
     "data": {
      "text/html": [
       "<pre style=\"white-space:pre;overflow-x:auto;line-height:normal;font-family:Menlo,'DejaVu Sans Mono',consolas,'Courier New',monospace\"><span style=\"color: #008080; text-decoration-color: #008080; font-weight: bold\">35158</span>,<span style=\"color: #008080; text-decoration-color: #008080; font-weight: bold\">93.63246594568749</span>,<span style=\"color: #008080; text-decoration-color: #008080; font-weight: bold\">64.4842304565391</span>,F\n",
       "</pre>\n"
      ],
      "text/plain": [
       "\u001b[1;36m35158\u001b[0m,\u001b[1;36m93.63246594568749\u001b[0m,\u001b[1;36m64.4842304565391\u001b[0m,F\n"
      ]
     },
     "metadata": {},
     "output_type": "display_data"
    },
    {
     "data": {
      "text/html": [
       "<pre style=\"white-space:pre;overflow-x:auto;line-height:normal;font-family:Menlo,'DejaVu Sans Mono',consolas,'Courier New',monospace\"><span style=\"color: #008080; text-decoration-color: #008080; font-weight: bold\">32633</span>,<span style=\"color: #008080; text-decoration-color: #008080; font-weight: bold\">227.4551327750956</span>,<span style=\"color: #008080; text-decoration-color: #008080; font-weight: bold\">43.69350259384229</span>,F\n",
       "</pre>\n"
      ],
      "text/plain": [
       "\u001b[1;36m32633\u001b[0m,\u001b[1;36m227.4551327750956\u001b[0m,\u001b[1;36m43.69350259384229\u001b[0m,F\n"
      ]
     },
     "metadata": {},
     "output_type": "display_data"
    },
    {
     "data": {
      "text/html": [
       "<pre style=\"white-space:pre;overflow-x:auto;line-height:normal;font-family:Menlo,'DejaVu Sans Mono',consolas,'Courier New',monospace\"><span style=\"color: #008080; text-decoration-color: #008080; font-weight: bold\">36602</span>,<span style=\"color: #008080; text-decoration-color: #008080; font-weight: bold\">106.0078641300788</span>,<span style=\"color: #008080; text-decoration-color: #008080; font-weight: bold\">63.63994092648663</span>,F\n",
       "</pre>\n"
      ],
      "text/plain": [
       "\u001b[1;36m36602\u001b[0m,\u001b[1;36m106.0078641300788\u001b[0m,\u001b[1;36m63.63994092648663\u001b[0m,F\n"
      ]
     },
     "metadata": {},
     "output_type": "display_data"
    },
    {
     "data": {
      "text/html": [
       "<pre style=\"white-space:pre;overflow-x:auto;line-height:normal;font-family:Menlo,'DejaVu Sans Mono',consolas,'Courier New',monospace\"><span style=\"color: #008080; text-decoration-color: #008080; font-weight: bold\">27152</span>,<span style=\"color: #008080; text-decoration-color: #008080; font-weight: bold\">246.66169254590417</span>,<span style=\"color: #008080; text-decoration-color: #008080; font-weight: bold\">0.4401714154574292</span>,F\n",
       "</pre>\n"
      ],
      "text/plain": [
       "\u001b[1;36m27152\u001b[0m,\u001b[1;36m246.66169254590417\u001b[0m,\u001b[1;36m0.4401714154574292\u001b[0m,F\n"
      ]
     },
     "metadata": {},
     "output_type": "display_data"
    },
    {
     "data": {
      "text/html": [
       "<pre style=\"white-space:pre;overflow-x:auto;line-height:normal;font-family:Menlo,'DejaVu Sans Mono',consolas,'Courier New',monospace\"><span style=\"color: #008080; text-decoration-color: #008080; font-weight: bold\">15755</span>,<span style=\"color: #008080; text-decoration-color: #008080; font-weight: bold\">207.09753617540755</span>,<span style=\"color: #008080; text-decoration-color: #008080; font-weight: bold\">38.09034424518002</span>,F\n",
       "</pre>\n"
      ],
      "text/plain": [
       "\u001b[1;36m15755\u001b[0m,\u001b[1;36m207.09753617540755\u001b[0m,\u001b[1;36m38.09034424518002\u001b[0m,F\n"
      ]
     },
     "metadata": {},
     "output_type": "display_data"
    },
    {
     "data": {
      "text/html": [
       "<pre style=\"white-space:pre;overflow-x:auto;line-height:normal;font-family:Menlo,'DejaVu Sans Mono',consolas,'Courier New',monospace\"><span style=\"color: #008080; text-decoration-color: #008080; font-weight: bold\">41197</span>,<span style=\"color: #008080; text-decoration-color: #008080; font-weight: bold\">149.65854236765745</span>,<span style=\"color: #008080; text-decoration-color: #008080; font-weight: bold\">38.051642929145615</span>,F\n",
       "</pre>\n"
      ],
      "text/plain": [
       "\u001b[1;36m41197\u001b[0m,\u001b[1;36m149.65854236765745\u001b[0m,\u001b[1;36m38.051642929145615\u001b[0m,F\n"
      ]
     },
     "metadata": {},
     "output_type": "display_data"
    },
    {
     "data": {
      "text/html": [
       "<pre style=\"white-space:pre;overflow-x:auto;line-height:normal;font-family:Menlo,'DejaVu Sans Mono',consolas,'Courier New',monospace\"><span style=\"color: #008080; text-decoration-color: #008080; font-weight: bold\">11526</span>,<span style=\"color: #008080; text-decoration-color: #008080; font-weight: bold\">252.0358633786877</span>,<span style=\"color: #008080; text-decoration-color: #008080; font-weight: bold\">-1.869436519592316</span>,F\n",
       "</pre>\n"
      ],
      "text/plain": [
       "\u001b[1;36m11526\u001b[0m,\u001b[1;36m252.0358633786877\u001b[0m,\u001b[1;36m-1.869436519592316\u001b[0m,F\n"
      ]
     },
     "metadata": {},
     "output_type": "display_data"
    },
    {
     "data": {
      "text/html": [
       "<pre style=\"white-space:pre;overflow-x:auto;line-height:normal;font-family:Menlo,'DejaVu Sans Mono',consolas,'Courier New',monospace\"><span style=\"color: #008080; text-decoration-color: #008080; font-weight: bold\">26434</span>,<span style=\"color: #008080; text-decoration-color: #008080; font-weight: bold\">192.091787466002</span>,<span style=\"color: #008080; text-decoration-color: #008080; font-weight: bold\">7.741735235327252</span>,F\n",
       "</pre>\n"
      ],
      "text/plain": [
       "\u001b[1;36m26434\u001b[0m,\u001b[1;36m192.091787466002\u001b[0m,\u001b[1;36m7.741735235327252\u001b[0m,F\n"
      ]
     },
     "metadata": {},
     "output_type": "display_data"
    },
    {
     "data": {
      "text/html": [
       "<pre style=\"white-space:pre;overflow-x:auto;line-height:normal;font-family:Menlo,'DejaVu Sans Mono',consolas,'Courier New',monospace\"><span style=\"color: #008080; text-decoration-color: #008080; font-weight: bold\">28248</span>,<span style=\"color: #008080; text-decoration-color: #008080; font-weight: bold\">329.7915111400404</span>,<span style=\"color: #008080; text-decoration-color: #008080; font-weight: bold\">-30.1969808536882</span>,F\n",
       "</pre>\n"
      ],
      "text/plain": [
       "\u001b[1;36m28248\u001b[0m,\u001b[1;36m329.7915111400404\u001b[0m,\u001b[1;36m-30.1969808536882\u001b[0m,F\n"
      ]
     },
     "metadata": {},
     "output_type": "display_data"
    },
    {
     "data": {
      "text/html": [
       "<pre style=\"white-space:pre;overflow-x:auto;line-height:normal;font-family:Menlo,'DejaVu Sans Mono',consolas,'Courier New',monospace\"><span style=\"color: #008080; text-decoration-color: #008080; font-weight: bold\">13500</span>,<span style=\"color: #008080; text-decoration-color: #008080; font-weight: bold\">16.35705414144288</span>,<span style=\"color: #008080; text-decoration-color: #008080; font-weight: bold\">37.00306737852372</span>,F\n",
       "</pre>\n"
      ],
      "text/plain": [
       "\u001b[1;36m13500\u001b[0m,\u001b[1;36m16.35705414144288\u001b[0m,\u001b[1;36m37.00306737852372\u001b[0m,F\n"
      ]
     },
     "metadata": {},
     "output_type": "display_data"
    },
    {
     "data": {
      "text/html": [
       "<pre style=\"white-space:pre;overflow-x:auto;line-height:normal;font-family:Menlo,'DejaVu Sans Mono',consolas,'Courier New',monospace\"><span style=\"color: #008080; text-decoration-color: #008080; font-weight: bold\">36612</span>,<span style=\"color: #008080; text-decoration-color: #008080; font-weight: bold\">130.49358492512528</span>,<span style=\"color: #008080; text-decoration-color: #008080; font-weight: bold\">29.238977126802304</span>,F\n",
       "</pre>\n"
      ],
      "text/plain": [
       "\u001b[1;36m36612\u001b[0m,\u001b[1;36m130.49358492512528\u001b[0m,\u001b[1;36m29.238977126802304\u001b[0m,F\n"
      ]
     },
     "metadata": {},
     "output_type": "display_data"
    },
    {
     "data": {
      "text/html": [
       "<pre style=\"white-space:pre;overflow-x:auto;line-height:normal;font-family:Menlo,'DejaVu Sans Mono',consolas,'Courier New',monospace\"><span style=\"color: #008080; text-decoration-color: #008080; font-weight: bold\">14335</span>,<span style=\"color: #008080; text-decoration-color: #008080; font-weight: bold\">140.6049049235398</span>,<span style=\"color: #008080; text-decoration-color: #008080; font-weight: bold\">70.15565749894198</span>,F\n",
       "</pre>\n"
      ],
      "text/plain": [
       "\u001b[1;36m14335\u001b[0m,\u001b[1;36m140.6049049235398\u001b[0m,\u001b[1;36m70.15565749894198\u001b[0m,F\n"
      ]
     },
     "metadata": {},
     "output_type": "display_data"
    },
    {
     "data": {
      "text/html": [
       "<pre style=\"white-space:pre;overflow-x:auto;line-height:normal;font-family:Menlo,'DejaVu Sans Mono',consolas,'Courier New',monospace\"><span style=\"color: #008080; text-decoration-color: #008080; font-weight: bold\">18674</span>,<span style=\"color: #008080; text-decoration-color: #008080; font-weight: bold\">33.548961043447314</span>,<span style=\"color: #008080; text-decoration-color: #008080; font-weight: bold\">-5.843854695519616</span>,F\n",
       "</pre>\n"
      ],
      "text/plain": [
       "\u001b[1;36m18674\u001b[0m,\u001b[1;36m33.548961043447314\u001b[0m,\u001b[1;36m-5.843854695519616\u001b[0m,F\n"
      ]
     },
     "metadata": {},
     "output_type": "display_data"
    },
    {
     "data": {
      "text/html": [
       "<pre style=\"white-space:pre;overflow-x:auto;line-height:normal;font-family:Menlo,'DejaVu Sans Mono',consolas,'Courier New',monospace\"><span style=\"color: #008080; text-decoration-color: #008080; font-weight: bold\">31174</span>,<span style=\"color: #008080; text-decoration-color: #008080; font-weight: bold\">166.78268204021606</span>,<span style=\"color: #008080; text-decoration-color: #008080; font-weight: bold\">5.140440040926921</span>,F\n",
       "</pre>\n"
      ],
      "text/plain": [
       "\u001b[1;36m31174\u001b[0m,\u001b[1;36m166.78268204021606\u001b[0m,\u001b[1;36m5.140440040926921\u001b[0m,F\n"
      ]
     },
     "metadata": {},
     "output_type": "display_data"
    },
    {
     "data": {
      "text/html": [
       "<pre style=\"white-space:pre;overflow-x:auto;line-height:normal;font-family:Menlo,'DejaVu Sans Mono',consolas,'Courier New',monospace\"><span style=\"color: #008080; text-decoration-color: #008080; font-weight: bold\">25603</span>,<span style=\"color: #008080; text-decoration-color: #008080; font-weight: bold\">158.7518480295183</span>,<span style=\"color: #008080; text-decoration-color: #008080; font-weight: bold\">57.508615457253725</span>,F\n",
       "</pre>\n"
      ],
      "text/plain": [
       "\u001b[1;36m25603\u001b[0m,\u001b[1;36m158.7518480295183\u001b[0m,\u001b[1;36m57.508615457253725\u001b[0m,F\n"
      ]
     },
     "metadata": {},
     "output_type": "display_data"
    },
    {
     "data": {
      "text/html": [
       "<pre style=\"white-space:pre;overflow-x:auto;line-height:normal;font-family:Menlo,'DejaVu Sans Mono',consolas,'Courier New',monospace\"><span style=\"color: #008080; text-decoration-color: #008080; font-weight: bold\">44769</span>,<span style=\"color: #008080; text-decoration-color: #008080; font-weight: bold\">285.6884735969347</span>,<span style=\"color: #008080; text-decoration-color: #008080; font-weight: bold\">57.16189223357832</span>,F\n",
       "</pre>\n"
      ],
      "text/plain": [
       "\u001b[1;36m44769\u001b[0m,\u001b[1;36m285.6884735969347\u001b[0m,\u001b[1;36m57.16189223357832\u001b[0m,F\n"
      ]
     },
     "metadata": {},
     "output_type": "display_data"
    },
    {
     "data": {
      "text/html": [
       "<pre style=\"white-space:pre;overflow-x:auto;line-height:normal;font-family:Menlo,'DejaVu Sans Mono',consolas,'Courier New',monospace\"><span style=\"color: #008080; text-decoration-color: #008080; font-weight: bold\">35707</span>,<span style=\"color: #008080; text-decoration-color: #008080; font-weight: bold\">111.81473913553332</span>,<span style=\"color: #008080; text-decoration-color: #008080; font-weight: bold\">43.86802715157699</span>,F\n",
       "</pre>\n"
      ],
      "text/plain": [
       "\u001b[1;36m35707\u001b[0m,\u001b[1;36m111.81473913553332\u001b[0m,\u001b[1;36m43.86802715157699\u001b[0m,F\n"
      ]
     },
     "metadata": {},
     "output_type": "display_data"
    },
    {
     "data": {
      "text/html": [
       "<pre style=\"white-space:pre;overflow-x:auto;line-height:normal;font-family:Menlo,'DejaVu Sans Mono',consolas,'Courier New',monospace\"><span style=\"color: #008080; text-decoration-color: #008080; font-weight: bold\">28425</span>,<span style=\"color: #008080; text-decoration-color: #008080; font-weight: bold\">349.6554556369001</span>,<span style=\"color: #008080; text-decoration-color: #008080; font-weight: bold\">-2.586108776207653</span>,F\n",
       "</pre>\n"
      ],
      "text/plain": [
       "\u001b[1;36m28425\u001b[0m,\u001b[1;36m349.6554556369001\u001b[0m,\u001b[1;36m-2.586108776207653\u001b[0m,F\n"
      ]
     },
     "metadata": {},
     "output_type": "display_data"
    },
    {
     "data": {
      "text/html": [
       "<pre style=\"white-space:pre;overflow-x:auto;line-height:normal;font-family:Menlo,'DejaVu Sans Mono',consolas,'Courier New',monospace\"><span style=\"color: #008080; text-decoration-color: #008080; font-weight: bold\">38715</span>,<span style=\"color: #008080; text-decoration-color: #008080; font-weight: bold\">292.27911971973214</span>,<span style=\"color: #008080; text-decoration-color: #008080; font-weight: bold\">-19.56213326298301</span>,F\n",
       "</pre>\n"
      ],
      "text/plain": [
       "\u001b[1;36m38715\u001b[0m,\u001b[1;36m292.27911971973214\u001b[0m,\u001b[1;36m-19.56213326298301\u001b[0m,F\n"
      ]
     },
     "metadata": {},
     "output_type": "display_data"
    },
    {
     "data": {
      "text/html": [
       "<pre style=\"white-space:pre;overflow-x:auto;line-height:normal;font-family:Menlo,'DejaVu Sans Mono',consolas,'Courier New',monospace\"><span style=\"color: #008080; text-decoration-color: #008080; font-weight: bold\">45376</span>,<span style=\"color: #008080; text-decoration-color: #008080; font-weight: bold\">41.39889531303026</span>,<span style=\"color: #008080; text-decoration-color: #008080; font-weight: bold\">-0.1052857136833338</span>,F\n",
       "</pre>\n"
      ],
      "text/plain": [
       "\u001b[1;36m45376\u001b[0m,\u001b[1;36m41.39889531303026\u001b[0m,\u001b[1;36m-0.1052857136833338\u001b[0m,F\n"
      ]
     },
     "metadata": {},
     "output_type": "display_data"
    },
    {
     "data": {
      "text/html": [
       "<pre style=\"white-space:pre;overflow-x:auto;line-height:normal;font-family:Menlo,'DejaVu Sans Mono',consolas,'Courier New',monospace\"><span style=\"color: #008080; text-decoration-color: #008080; font-weight: bold\">13691</span>,<span style=\"color: #008080; text-decoration-color: #008080; font-weight: bold\">142.01334338862813</span>,<span style=\"color: #008080; text-decoration-color: #008080; font-weight: bold\">69.86853018649592</span>,F\n",
       "</pre>\n"
      ],
      "text/plain": [
       "\u001b[1;36m13691\u001b[0m,\u001b[1;36m142.01334338862813\u001b[0m,\u001b[1;36m69.86853018649592\u001b[0m,F\n"
      ]
     },
     "metadata": {},
     "output_type": "display_data"
    },
    {
     "data": {
      "text/html": [
       "<pre style=\"white-space:pre;overflow-x:auto;line-height:normal;font-family:Menlo,'DejaVu Sans Mono',consolas,'Courier New',monospace\"><span style=\"color: #008080; text-decoration-color: #008080; font-weight: bold\">41588</span>,<span style=\"color: #008080; text-decoration-color: #008080; font-weight: bold\">140.66250810364244</span>,<span style=\"color: #008080; text-decoration-color: #008080; font-weight: bold\">19.72820757674869</span>,F\n",
       "</pre>\n"
      ],
      "text/plain": [
       "\u001b[1;36m41588\u001b[0m,\u001b[1;36m140.66250810364244\u001b[0m,\u001b[1;36m19.72820757674869\u001b[0m,F\n"
      ]
     },
     "metadata": {},
     "output_type": "display_data"
    },
    {
     "data": {
      "text/html": [
       "<pre style=\"white-space:pre;overflow-x:auto;line-height:normal;font-family:Menlo,'DejaVu Sans Mono',consolas,'Courier New',monospace\"><span style=\"color: #008080; text-decoration-color: #008080; font-weight: bold\">16686</span>,<span style=\"color: #008080; text-decoration-color: #008080; font-weight: bold\">273.6179832804144</span>,<span style=\"color: #008080; text-decoration-color: #008080; font-weight: bold\">49.95061419485501</span>,F\n",
       "</pre>\n"
      ],
      "text/plain": [
       "\u001b[1;36m16686\u001b[0m,\u001b[1;36m273.6179832804144\u001b[0m,\u001b[1;36m49.95061419485501\u001b[0m,F\n"
      ]
     },
     "metadata": {},
     "output_type": "display_data"
    },
    {
     "data": {
      "text/html": [
       "<pre style=\"white-space:pre;overflow-x:auto;line-height:normal;font-family:Menlo,'DejaVu Sans Mono',consolas,'Courier New',monospace\"><span style=\"color: #008080; text-decoration-color: #008080; font-weight: bold\">44240</span>,<span style=\"color: #008080; text-decoration-color: #008080; font-weight: bold\">299.54141035917496</span>,<span style=\"color: #008080; text-decoration-color: #008080; font-weight: bold\">5.323296520229074</span>,F\n",
       "</pre>\n"
      ],
      "text/plain": [
       "\u001b[1;36m44240\u001b[0m,\u001b[1;36m299.54141035917496\u001b[0m,\u001b[1;36m5.323296520229074\u001b[0m,F\n"
      ]
     },
     "metadata": {},
     "output_type": "display_data"
    },
    {
     "data": {
      "text/html": [
       "<pre style=\"white-space:pre;overflow-x:auto;line-height:normal;font-family:Menlo,'DejaVu Sans Mono',consolas,'Courier New',monospace\"><span style=\"color: #008080; text-decoration-color: #008080; font-weight: bold\">11451</span>,<span style=\"color: #008080; text-decoration-color: #008080; font-weight: bold\">251.54824062732797</span>,<span style=\"color: #008080; text-decoration-color: #008080; font-weight: bold\">24.95571608999886</span>,F\n",
       "</pre>\n"
      ],
      "text/plain": [
       "\u001b[1;36m11451\u001b[0m,\u001b[1;36m251.54824062732797\u001b[0m,\u001b[1;36m24.95571608999886\u001b[0m,F\n"
      ]
     },
     "metadata": {},
     "output_type": "display_data"
    },
    {
     "data": {
      "text/html": [
       "<pre style=\"white-space:pre;overflow-x:auto;line-height:normal;font-family:Menlo,'DejaVu Sans Mono',consolas,'Courier New',monospace\"><span style=\"color: #008080; text-decoration-color: #008080; font-weight: bold\">16955</span>,<span style=\"color: #008080; text-decoration-color: #008080; font-weight: bold\">257.4789754584794</span>,<span style=\"color: #008080; text-decoration-color: #008080; font-weight: bold\">16.01804869198263</span>,F\n",
       "</pre>\n"
      ],
      "text/plain": [
       "\u001b[1;36m16955\u001b[0m,\u001b[1;36m257.4789754584794\u001b[0m,\u001b[1;36m16.01804869198263\u001b[0m,F\n"
      ]
     },
     "metadata": {},
     "output_type": "display_data"
    },
    {
     "data": {
      "text/html": [
       "<pre style=\"white-space:pre;overflow-x:auto;line-height:normal;font-family:Menlo,'DejaVu Sans Mono',consolas,'Courier New',monospace\"><span style=\"color: #008080; text-decoration-color: #008080; font-weight: bold\">12300</span>,<span style=\"color: #008080; text-decoration-color: #008080; font-weight: bold\">351.24767534796723</span>,<span style=\"color: #008080; text-decoration-color: #008080; font-weight: bold\">0.3694221091245179</span>,F\n",
       "</pre>\n"
      ],
      "text/plain": [
       "\u001b[1;36m12300\u001b[0m,\u001b[1;36m351.24767534796723\u001b[0m,\u001b[1;36m0.3694221091245179\u001b[0m,F\n"
      ]
     },
     "metadata": {},
     "output_type": "display_data"
    },
    {
     "data": {
      "text/html": [
       "<pre style=\"white-space:pre;overflow-x:auto;line-height:normal;font-family:Menlo,'DejaVu Sans Mono',consolas,'Courier New',monospace\"><span style=\"color: #008080; text-decoration-color: #008080; font-weight: bold\">16654</span>,<span style=\"color: #008080; text-decoration-color: #008080; font-weight: bold\">260.3934491091732</span>,<span style=\"color: #008080; text-decoration-color: #008080; font-weight: bold\">58.21751962226596</span>,F\n",
       "</pre>\n"
      ],
      "text/plain": [
       "\u001b[1;36m16654\u001b[0m,\u001b[1;36m260.3934491091732\u001b[0m,\u001b[1;36m58.21751962226596\u001b[0m,F\n"
      ]
     },
     "metadata": {},
     "output_type": "display_data"
    },
    {
     "data": {
      "text/html": [
       "<pre style=\"white-space:pre;overflow-x:auto;line-height:normal;font-family:Menlo,'DejaVu Sans Mono',consolas,'Courier New',monospace\"><span style=\"color: #008080; text-decoration-color: #008080; font-weight: bold\">9001</span>,<span style=\"color: #008080; text-decoration-color: #008080; font-weight: bold\">123.52231897906672</span>,<span style=\"color: #008080; text-decoration-color: #008080; font-weight: bold\">3.9391689735437314</span>,F\n",
       "</pre>\n"
      ],
      "text/plain": [
       "\u001b[1;36m9001\u001b[0m,\u001b[1;36m123.52231897906672\u001b[0m,\u001b[1;36m3.9391689735437314\u001b[0m,F\n"
      ]
     },
     "metadata": {},
     "output_type": "display_data"
    },
    {
     "data": {
      "text/html": [
       "<pre style=\"white-space:pre;overflow-x:auto;line-height:normal;font-family:Menlo,'DejaVu Sans Mono',consolas,'Courier New',monospace\"><span style=\"color: #008080; text-decoration-color: #008080; font-weight: bold\">10725</span>,<span style=\"color: #008080; text-decoration-color: #008080; font-weight: bold\">200.9584615023744</span>,<span style=\"color: #008080; text-decoration-color: #008080; font-weight: bold\">27.724088632583648</span>,F\n",
       "</pre>\n"
      ],
      "text/plain": [
       "\u001b[1;36m10725\u001b[0m,\u001b[1;36m200.9584615023744\u001b[0m,\u001b[1;36m27.724088632583648\u001b[0m,F\n"
      ]
     },
     "metadata": {},
     "output_type": "display_data"
    },
    {
     "data": {
      "text/html": [
       "<pre style=\"white-space:pre;overflow-x:auto;line-height:normal;font-family:Menlo,'DejaVu Sans Mono',consolas,'Courier New',monospace\"><span style=\"color: #008080; text-decoration-color: #008080; font-weight: bold\">34426</span>,<span style=\"color: #008080; text-decoration-color: #008080; font-weight: bold\">16.542133796323135</span>,<span style=\"color: #008080; text-decoration-color: #008080; font-weight: bold\">46.00489411418741</span>,F\n",
       "</pre>\n"
      ],
      "text/plain": [
       "\u001b[1;36m34426\u001b[0m,\u001b[1;36m16.542133796323135\u001b[0m,\u001b[1;36m46.00489411418741\u001b[0m,F\n"
      ]
     },
     "metadata": {},
     "output_type": "display_data"
    },
    {
     "data": {
      "text/html": [
       "<pre style=\"white-space:pre;overflow-x:auto;line-height:normal;font-family:Menlo,'DejaVu Sans Mono',consolas,'Courier New',monospace\"><span style=\"color: #008080; text-decoration-color: #008080; font-weight: bold\">43449</span>,<span style=\"color: #008080; text-decoration-color: #008080; font-weight: bold\">287.1403511631046</span>,<span style=\"color: #008080; text-decoration-color: #008080; font-weight: bold\">47.36471581949804</span>,F\n",
       "</pre>\n"
      ],
      "text/plain": [
       "\u001b[1;36m43449\u001b[0m,\u001b[1;36m287.1403511631046\u001b[0m,\u001b[1;36m47.36471581949804\u001b[0m,F\n"
      ]
     },
     "metadata": {},
     "output_type": "display_data"
    },
    {
     "data": {
      "text/html": [
       "<pre style=\"white-space:pre;overflow-x:auto;line-height:normal;font-family:Menlo,'DejaVu Sans Mono',consolas,'Courier New',monospace\"><span style=\"color: #008080; text-decoration-color: #008080; font-weight: bold\">24999</span>,<span style=\"color: #008080; text-decoration-color: #008080; font-weight: bold\">48.52282107211132</span>,<span style=\"color: #008080; text-decoration-color: #008080; font-weight: bold\">0.6930342976923675</span>,F\n",
       "</pre>\n"
      ],
      "text/plain": [
       "\u001b[1;36m24999\u001b[0m,\u001b[1;36m48.52282107211132\u001b[0m,\u001b[1;36m0.6930342976923675\u001b[0m,F\n"
      ]
     },
     "metadata": {},
     "output_type": "display_data"
    },
    {
     "data": {
      "text/html": [
       "<pre style=\"white-space:pre;overflow-x:auto;line-height:normal;font-family:Menlo,'DejaVu Sans Mono',consolas,'Courier New',monospace\"><span style=\"color: #008080; text-decoration-color: #008080; font-weight: bold\">46767</span>,<span style=\"color: #008080; text-decoration-color: #008080; font-weight: bold\">188.17870641469895</span>,<span style=\"color: #008080; text-decoration-color: #008080; font-weight: bold\">-34.410847064053094</span>,F\n",
       "</pre>\n"
      ],
      "text/plain": [
       "\u001b[1;36m46767\u001b[0m,\u001b[1;36m188.17870641469895\u001b[0m,\u001b[1;36m-34.410847064053094\u001b[0m,F\n"
      ]
     },
     "metadata": {},
     "output_type": "display_data"
    },
    {
     "data": {
      "text/html": [
       "<pre style=\"white-space:pre;overflow-x:auto;line-height:normal;font-family:Menlo,'DejaVu Sans Mono',consolas,'Courier New',monospace\"><span style=\"color: #008080; text-decoration-color: #008080; font-weight: bold\">44006</span>,<span style=\"color: #008080; text-decoration-color: #008080; font-weight: bold\">235.57323601266864</span>,<span style=\"color: #008080; text-decoration-color: #008080; font-weight: bold\">39.48794242407392</span>,F\n",
       "</pre>\n"
      ],
      "text/plain": [
       "\u001b[1;36m44006\u001b[0m,\u001b[1;36m235.57323601266864\u001b[0m,\u001b[1;36m39.48794242407392\u001b[0m,F\n"
      ]
     },
     "metadata": {},
     "output_type": "display_data"
    },
    {
     "data": {
      "text/html": [
       "<pre style=\"white-space:pre;overflow-x:auto;line-height:normal;font-family:Menlo,'DejaVu Sans Mono',consolas,'Courier New',monospace\"><span style=\"color: #008080; text-decoration-color: #008080; font-weight: bold\">30558</span>,<span style=\"color: #008080; text-decoration-color: #008080; font-weight: bold\">124.4922082016514</span>,<span style=\"color: #008080; text-decoration-color: #008080; font-weight: bold\">14.860149795588944</span>,F\n",
       "</pre>\n"
      ],
      "text/plain": [
       "\u001b[1;36m30558\u001b[0m,\u001b[1;36m124.4922082016514\u001b[0m,\u001b[1;36m14.860149795588944\u001b[0m,F\n"
      ]
     },
     "metadata": {},
     "output_type": "display_data"
    },
    {
     "data": {
      "text/html": [
       "<pre style=\"white-space:pre;overflow-x:auto;line-height:normal;font-family:Menlo,'DejaVu Sans Mono',consolas,'Courier New',monospace\"><span style=\"color: #008080; text-decoration-color: #008080; font-weight: bold\">22372</span>,<span style=\"color: #008080; text-decoration-color: #008080; font-weight: bold\">252.08559850824577</span>,<span style=\"color: #008080; text-decoration-color: #008080; font-weight: bold\">55.0353624545325</span>,F\n",
       "</pre>\n"
      ],
      "text/plain": [
       "\u001b[1;36m22372\u001b[0m,\u001b[1;36m252.08559850824577\u001b[0m,\u001b[1;36m55.0353624545325\u001b[0m,F\n"
      ]
     },
     "metadata": {},
     "output_type": "display_data"
    },
    {
     "data": {
      "text/html": [
       "<pre style=\"white-space:pre;overflow-x:auto;line-height:normal;font-family:Menlo,'DejaVu Sans Mono',consolas,'Courier New',monospace\"><span style=\"color: #008080; text-decoration-color: #008080; font-weight: bold\">13124</span>,<span style=\"color: #008080; text-decoration-color: #008080; font-weight: bold\">11.237139410773114</span>,<span style=\"color: #008080; text-decoration-color: #008080; font-weight: bold\">-43.39717340944486</span>,F\n",
       "</pre>\n"
      ],
      "text/plain": [
       "\u001b[1;36m13124\u001b[0m,\u001b[1;36m11.237139410773114\u001b[0m,\u001b[1;36m-43.39717340944486\u001b[0m,F\n"
      ]
     },
     "metadata": {},
     "output_type": "display_data"
    },
    {
     "data": {
      "text/html": [
       "<pre style=\"white-space:pre;overflow-x:auto;line-height:normal;font-family:Menlo,'DejaVu Sans Mono',consolas,'Courier New',monospace\"><span style=\"color: #008080; text-decoration-color: #008080; font-weight: bold\">30730</span>,<span style=\"color: #008080; text-decoration-color: #008080; font-weight: bold\">134.24596521552775</span>,<span style=\"color: #008080; text-decoration-color: #008080; font-weight: bold\">21.026407953212296</span>,F\n",
       "</pre>\n"
      ],
      "text/plain": [
       "\u001b[1;36m30730\u001b[0m,\u001b[1;36m134.24596521552775\u001b[0m,\u001b[1;36m21.026407953212296\u001b[0m,F\n"
      ]
     },
     "metadata": {},
     "output_type": "display_data"
    },
    {
     "data": {
      "text/html": [
       "<pre style=\"white-space:pre;overflow-x:auto;line-height:normal;font-family:Menlo,'DejaVu Sans Mono',consolas,'Courier New',monospace\"><span style=\"color: #008080; text-decoration-color: #008080; font-weight: bold\">1937</span>,<span style=\"color: #008080; text-decoration-color: #008080; font-weight: bold\">5.677162362200873</span>,<span style=\"color: #008080; text-decoration-color: #008080; font-weight: bold\">0.8804269395486747</span>,F\n",
       "</pre>\n"
      ],
      "text/plain": [
       "\u001b[1;36m1937\u001b[0m,\u001b[1;36m5.677162362200873\u001b[0m,\u001b[1;36m0.8804269395486747\u001b[0m,F\n"
      ]
     },
     "metadata": {},
     "output_type": "display_data"
    },
    {
     "data": {
      "text/html": [
       "<pre style=\"white-space:pre;overflow-x:auto;line-height:normal;font-family:Menlo,'DejaVu Sans Mono',consolas,'Courier New',monospace\"><span style=\"color: #008080; text-decoration-color: #008080; font-weight: bold\">8833</span>,<span style=\"color: #008080; text-decoration-color: #008080; font-weight: bold\">79.49167568078585</span>,<span style=\"color: #008080; text-decoration-color: #008080; font-weight: bold\">-37.03541365269729</span>,F\n",
       "</pre>\n"
      ],
      "text/plain": [
       "\u001b[1;36m8833\u001b[0m,\u001b[1;36m79.49167568078585\u001b[0m,\u001b[1;36m-37.03541365269729\u001b[0m,F\n"
      ]
     },
     "metadata": {},
     "output_type": "display_data"
    },
    {
     "data": {
      "text/html": [
       "<pre style=\"white-space:pre;overflow-x:auto;line-height:normal;font-family:Menlo,'DejaVu Sans Mono',consolas,'Courier New',monospace\"><span style=\"color: #008080; text-decoration-color: #008080; font-weight: bold\">25287</span>,<span style=\"color: #008080; text-decoration-color: #008080; font-weight: bold\">120.14857678449292</span>,<span style=\"color: #008080; text-decoration-color: #008080; font-weight: bold\">30.004493334361108</span>,F\n",
       "</pre>\n"
      ],
      "text/plain": [
       "\u001b[1;36m25287\u001b[0m,\u001b[1;36m120.14857678449292\u001b[0m,\u001b[1;36m30.004493334361108\u001b[0m,F\n"
      ]
     },
     "metadata": {},
     "output_type": "display_data"
    },
    {
     "data": {
      "text/html": [
       "<pre style=\"white-space:pre;overflow-x:auto;line-height:normal;font-family:Menlo,'DejaVu Sans Mono',consolas,'Courier New',monospace\"><span style=\"color: #008080; text-decoration-color: #008080; font-weight: bold\">35213</span>,<span style=\"color: #008080; text-decoration-color: #008080; font-weight: bold\">38.03584806631731</span>,<span style=\"color: #008080; text-decoration-color: #008080; font-weight: bold\">-5.25995992681577</span>,F\n",
       "</pre>\n"
      ],
      "text/plain": [
       "\u001b[1;36m35213\u001b[0m,\u001b[1;36m38.03584806631731\u001b[0m,\u001b[1;36m-5.25995992681577\u001b[0m,F\n"
      ]
     },
     "metadata": {},
     "output_type": "display_data"
    },
    {
     "data": {
      "text/html": [
       "<pre style=\"white-space:pre;overflow-x:auto;line-height:normal;font-family:Menlo,'DejaVu Sans Mono',consolas,'Courier New',monospace\"><span style=\"color: #008080; text-decoration-color: #008080; font-weight: bold\">36834</span>,<span style=\"color: #008080; text-decoration-color: #008080; font-weight: bold\">184.4834688887654</span>,<span style=\"color: #008080; text-decoration-color: #008080; font-weight: bold\">14.65280251280542</span>,F\n",
       "</pre>\n"
      ],
      "text/plain": [
       "\u001b[1;36m36834\u001b[0m,\u001b[1;36m184.4834688887654\u001b[0m,\u001b[1;36m14.65280251280542\u001b[0m,F\n"
      ]
     },
     "metadata": {},
     "output_type": "display_data"
    },
    {
     "data": {
      "text/html": [
       "<pre style=\"white-space:pre;overflow-x:auto;line-height:normal;font-family:Menlo,'DejaVu Sans Mono',consolas,'Courier New',monospace\"><span style=\"color: #008080; text-decoration-color: #008080; font-weight: bold\">44226</span>,<span style=\"color: #008080; text-decoration-color: #008080; font-weight: bold\">283.0164817842036</span>,<span style=\"color: #008080; text-decoration-color: #008080; font-weight: bold\">-38.79285965149892</span>,F\n",
       "</pre>\n"
      ],
      "text/plain": [
       "\u001b[1;36m44226\u001b[0m,\u001b[1;36m283.0164817842036\u001b[0m,\u001b[1;36m-38.79285965149892\u001b[0m,F\n"
      ]
     },
     "metadata": {},
     "output_type": "display_data"
    },
    {
     "data": {
      "text/html": [
       "<pre style=\"white-space:pre;overflow-x:auto;line-height:normal;font-family:Menlo,'DejaVu Sans Mono',consolas,'Courier New',monospace\"><span style=\"color: #008080; text-decoration-color: #008080; font-weight: bold\">8830</span>,<span style=\"color: #008080; text-decoration-color: #008080; font-weight: bold\">151.04761512119012</span>,<span style=\"color: #008080; text-decoration-color: #008080; font-weight: bold\">-34.53343233791878</span>,F\n",
       "</pre>\n"
      ],
      "text/plain": [
       "\u001b[1;36m8830\u001b[0m,\u001b[1;36m151.04761512119012\u001b[0m,\u001b[1;36m-34.53343233791878\u001b[0m,F\n"
      ]
     },
     "metadata": {},
     "output_type": "display_data"
    },
    {
     "data": {
      "text/html": [
       "<pre style=\"white-space:pre;overflow-x:auto;line-height:normal;font-family:Menlo,'DejaVu Sans Mono',consolas,'Courier New',monospace\"><span style=\"color: #008080; text-decoration-color: #008080; font-weight: bold\">37332</span>,<span style=\"color: #008080; text-decoration-color: #008080; font-weight: bold\">151.67908474552337</span>,<span style=\"color: #008080; text-decoration-color: #008080; font-weight: bold\">36.94696849784306</span>,F\n",
       "</pre>\n"
      ],
      "text/plain": [
       "\u001b[1;36m37332\u001b[0m,\u001b[1;36m151.67908474552337\u001b[0m,\u001b[1;36m36.94696849784306\u001b[0m,F\n"
      ]
     },
     "metadata": {},
     "output_type": "display_data"
    },
    {
     "data": {
      "text/html": [
       "<pre style=\"white-space:pre;overflow-x:auto;line-height:normal;font-family:Menlo,'DejaVu Sans Mono',consolas,'Courier New',monospace\"><span style=\"color: #008080; text-decoration-color: #008080; font-weight: bold\">44226</span>,<span style=\"color: #008080; text-decoration-color: #008080; font-weight: bold\">282.8162499769506</span>,<span style=\"color: #008080; text-decoration-color: #008080; font-weight: bold\">-38.75410038158896</span>,F\n",
       "</pre>\n"
      ],
      "text/plain": [
       "\u001b[1;36m44226\u001b[0m,\u001b[1;36m282.8162499769506\u001b[0m,\u001b[1;36m-38.75410038158896\u001b[0m,F\n"
      ]
     },
     "metadata": {},
     "output_type": "display_data"
    },
    {
     "data": {
      "text/html": [
       "<pre style=\"white-space:pre;overflow-x:auto;line-height:normal;font-family:Menlo,'DejaVu Sans Mono',consolas,'Courier New',monospace\"><span style=\"color: #008080; text-decoration-color: #008080; font-weight: bold\">44021</span>,<span style=\"color: #008080; text-decoration-color: #008080; font-weight: bold\">245.4740293678416</span>,<span style=\"color: #008080; text-decoration-color: #008080; font-weight: bold\">59.00307780707881</span>,F\n",
       "</pre>\n"
      ],
      "text/plain": [
       "\u001b[1;36m44021\u001b[0m,\u001b[1;36m245.4740293678416\u001b[0m,\u001b[1;36m59.00307780707881\u001b[0m,F\n"
      ]
     },
     "metadata": {},
     "output_type": "display_data"
    },
    {
     "data": {
      "text/html": [
       "<pre style=\"white-space:pre;overflow-x:auto;line-height:normal;font-family:Menlo,'DejaVu Sans Mono',consolas,'Courier New',monospace\"><span style=\"color: #008080; text-decoration-color: #008080; font-weight: bold\">40996</span>,<span style=\"color: #008080; text-decoration-color: #008080; font-weight: bold\">75.255423287282</span>,<span style=\"color: #008080; text-decoration-color: #008080; font-weight: bold\">16.79433033158568</span>,F\n",
       "</pre>\n"
      ],
      "text/plain": [
       "\u001b[1;36m40996\u001b[0m,\u001b[1;36m75.255423287282\u001b[0m,\u001b[1;36m16.79433033158568\u001b[0m,F\n"
      ]
     },
     "metadata": {},
     "output_type": "display_data"
    },
    {
     "data": {
      "text/html": [
       "<pre style=\"white-space:pre;overflow-x:auto;line-height:normal;font-family:Menlo,'DejaVu Sans Mono',consolas,'Courier New',monospace\"><span style=\"color: #008080; text-decoration-color: #008080; font-weight: bold\">11946</span>,<span style=\"color: #008080; text-decoration-color: #008080; font-weight: bold\">241.6304326069012</span>,<span style=\"color: #008080; text-decoration-color: #008080; font-weight: bold\">56.59785360632969</span>,F\n",
       "</pre>\n"
      ],
      "text/plain": [
       "\u001b[1;36m11946\u001b[0m,\u001b[1;36m241.6304326069012\u001b[0m,\u001b[1;36m56.59785360632969\u001b[0m,F\n"
      ]
     },
     "metadata": {},
     "output_type": "display_data"
    },
    {
     "data": {
      "text/html": [
       "<pre style=\"white-space:pre;overflow-x:auto;line-height:normal;font-family:Menlo,'DejaVu Sans Mono',consolas,'Courier New',monospace\"><span style=\"color: #008080; text-decoration-color: #008080; font-weight: bold\">27176</span>,<span style=\"color: #008080; text-decoration-color: #008080; font-weight: bold\">290.9103168479064</span>,<span style=\"color: #008080; text-decoration-color: #008080; font-weight: bold\">43.74061660518985</span>,F\n",
       "</pre>\n"
      ],
      "text/plain": [
       "\u001b[1;36m27176\u001b[0m,\u001b[1;36m290.9103168479064\u001b[0m,\u001b[1;36m43.74061660518985\u001b[0m,F\n"
      ]
     },
     "metadata": {},
     "output_type": "display_data"
    },
    {
     "data": {
      "text/html": [
       "<pre style=\"white-space:pre;overflow-x:auto;line-height:normal;font-family:Menlo,'DejaVu Sans Mono',consolas,'Courier New',monospace\"><span style=\"color: #008080; text-decoration-color: #008080; font-weight: bold\">40372</span>,<span style=\"color: #008080; text-decoration-color: #008080; font-weight: bold\">37.63718112094996</span>,<span style=\"color: #008080; text-decoration-color: #008080; font-weight: bold\">-4.036317264827212</span>,F\n",
       "</pre>\n"
      ],
      "text/plain": [
       "\u001b[1;36m40372\u001b[0m,\u001b[1;36m37.63718112094996\u001b[0m,\u001b[1;36m-4.036317264827212\u001b[0m,F\n"
      ]
     },
     "metadata": {},
     "output_type": "display_data"
    },
    {
     "data": {
      "text/html": [
       "<pre style=\"white-space:pre;overflow-x:auto;line-height:normal;font-family:Menlo,'DejaVu Sans Mono',consolas,'Courier New',monospace\"><span style=\"color: #008080; text-decoration-color: #008080; font-weight: bold\">3859</span>,<span style=\"color: #008080; text-decoration-color: #008080; font-weight: bold\">134.91578031268318</span>,<span style=\"color: #008080; text-decoration-color: #008080; font-weight: bold\">56.91618153163965</span>,F\n",
       "</pre>\n"
      ],
      "text/plain": [
       "\u001b[1;36m3859\u001b[0m,\u001b[1;36m134.91578031268318\u001b[0m,\u001b[1;36m56.91618153163965\u001b[0m,F\n"
      ]
     },
     "metadata": {},
     "output_type": "display_data"
    },
    {
     "data": {
      "text/html": [
       "<pre style=\"white-space:pre;overflow-x:auto;line-height:normal;font-family:Menlo,'DejaVu Sans Mono',consolas,'Courier New',monospace\"><span style=\"color: #008080; text-decoration-color: #008080; font-weight: bold\">23944</span>,<span style=\"color: #008080; text-decoration-color: #008080; font-weight: bold\">42.89800166549803</span>,<span style=\"color: #008080; text-decoration-color: #008080; font-weight: bold\">3.956442427945632</span>,F\n",
       "</pre>\n"
      ],
      "text/plain": [
       "\u001b[1;36m23944\u001b[0m,\u001b[1;36m42.89800166549803\u001b[0m,\u001b[1;36m3.956442427945632\u001b[0m,F\n"
      ]
     },
     "metadata": {},
     "output_type": "display_data"
    },
    {
     "data": {
      "text/html": [
       "<pre style=\"white-space:pre;overflow-x:auto;line-height:normal;font-family:Menlo,'DejaVu Sans Mono',consolas,'Courier New',monospace\"><span style=\"color: #008080; text-decoration-color: #008080; font-weight: bold\">46423</span>,<span style=\"color: #008080; text-decoration-color: #008080; font-weight: bold\">72.78097310623718</span>,<span style=\"color: #008080; text-decoration-color: #008080; font-weight: bold\">16.37987013205903</span>,F\n",
       "</pre>\n"
      ],
      "text/plain": [
       "\u001b[1;36m46423\u001b[0m,\u001b[1;36m72.78097310623718\u001b[0m,\u001b[1;36m16.37987013205903\u001b[0m,F\n"
      ]
     },
     "metadata": {},
     "output_type": "display_data"
    },
    {
     "data": {
      "text/html": [
       "<pre style=\"white-space:pre;overflow-x:auto;line-height:normal;font-family:Menlo,'DejaVu Sans Mono',consolas,'Courier New',monospace\"><span style=\"color: #008080; text-decoration-color: #008080; font-weight: bold\">38896</span>,<span style=\"color: #008080; text-decoration-color: #008080; font-weight: bold\">9.711763197236293</span>,<span style=\"color: #008080; text-decoration-color: #008080; font-weight: bold\">41.32901475917809</span>,F\n",
       "</pre>\n"
      ],
      "text/plain": [
       "\u001b[1;36m38896\u001b[0m,\u001b[1;36m9.711763197236293\u001b[0m,\u001b[1;36m41.32901475917809\u001b[0m,F\n"
      ]
     },
     "metadata": {},
     "output_type": "display_data"
    },
    {
     "data": {
      "text/html": [
       "<pre style=\"white-space:pre;overflow-x:auto;line-height:normal;font-family:Menlo,'DejaVu Sans Mono',consolas,'Courier New',monospace\"><span style=\"color: #008080; text-decoration-color: #008080; font-weight: bold\">40324</span>,<span style=\"color: #008080; text-decoration-color: #008080; font-weight: bold\">37.43444094760518</span>,<span style=\"color: #008080; text-decoration-color: #008080; font-weight: bold\">-8.087622967768446</span>,F\n",
       "</pre>\n"
      ],
      "text/plain": [
       "\u001b[1;36m40324\u001b[0m,\u001b[1;36m37.43444094760518\u001b[0m,\u001b[1;36m-8.087622967768446\u001b[0m,F\n"
      ]
     },
     "metadata": {},
     "output_type": "display_data"
    },
    {
     "data": {
      "text/html": [
       "<pre style=\"white-space:pre;overflow-x:auto;line-height:normal;font-family:Menlo,'DejaVu Sans Mono',consolas,'Courier New',monospace\"><span style=\"color: #008080; text-decoration-color: #008080; font-weight: bold\">44722</span>,<span style=\"color: #008080; text-decoration-color: #008080; font-weight: bold\">280.05995992511413</span>,<span style=\"color: #008080; text-decoration-color: #008080; font-weight: bold\">54.047054525142826</span>,F\n",
       "</pre>\n"
      ],
      "text/plain": [
       "\u001b[1;36m44722\u001b[0m,\u001b[1;36m280.05995992511413\u001b[0m,\u001b[1;36m54.047054525142826\u001b[0m,F\n"
      ]
     },
     "metadata": {},
     "output_type": "display_data"
    },
    {
     "data": {
      "text/html": [
       "<pre style=\"white-space:pre;overflow-x:auto;line-height:normal;font-family:Menlo,'DejaVu Sans Mono',consolas,'Courier New',monospace\"><span style=\"color: #008080; text-decoration-color: #008080; font-weight: bold\">9722</span>,<span style=\"color: #008080; text-decoration-color: #008080; font-weight: bold\">166.24111477935136</span>,<span style=\"color: #008080; text-decoration-color: #008080; font-weight: bold\">-17.452352775480975</span>,F\n",
       "</pre>\n"
      ],
      "text/plain": [
       "\u001b[1;36m9722\u001b[0m,\u001b[1;36m166.24111477935136\u001b[0m,\u001b[1;36m-17.452352775480975\u001b[0m,F\n"
      ]
     },
     "metadata": {},
     "output_type": "display_data"
    },
    {
     "data": {
      "text/html": [
       "<pre style=\"white-space:pre;overflow-x:auto;line-height:normal;font-family:Menlo,'DejaVu Sans Mono',consolas,'Courier New',monospace\"><span style=\"color: #008080; text-decoration-color: #008080; font-weight: bold\">37284</span>,<span style=\"color: #008080; text-decoration-color: #008080; font-weight: bold\">177.7640245659528</span>,<span style=\"color: #008080; text-decoration-color: #008080; font-weight: bold\">55.88407971866645</span>,F\n",
       "</pre>\n"
      ],
      "text/plain": [
       "\u001b[1;36m37284\u001b[0m,\u001b[1;36m177.7640245659528\u001b[0m,\u001b[1;36m55.88407971866645\u001b[0m,F\n"
      ]
     },
     "metadata": {},
     "output_type": "display_data"
    },
    {
     "data": {
      "text/html": [
       "<pre style=\"white-space:pre;overflow-x:auto;line-height:normal;font-family:Menlo,'DejaVu Sans Mono',consolas,'Courier New',monospace\"><span style=\"color: #008080; text-decoration-color: #008080; font-weight: bold\">10545</span>,<span style=\"color: #008080; text-decoration-color: #008080; font-weight: bold\">162.8796756846254</span>,<span style=\"color: #008080; text-decoration-color: #008080; font-weight: bold\">57.57728306222747</span>,F\n",
       "</pre>\n"
      ],
      "text/plain": [
       "\u001b[1;36m10545\u001b[0m,\u001b[1;36m162.8796756846254\u001b[0m,\u001b[1;36m57.57728306222747\u001b[0m,F\n"
      ]
     },
     "metadata": {},
     "output_type": "display_data"
    },
    {
     "data": {
      "text/html": [
       "<pre style=\"white-space:pre;overflow-x:auto;line-height:normal;font-family:Menlo,'DejaVu Sans Mono',consolas,'Courier New',monospace\"><span style=\"color: #008080; text-decoration-color: #008080; font-weight: bold\">9023</span>,<span style=\"color: #008080; text-decoration-color: #008080; font-weight: bold\">123.02702624059046</span>,<span style=\"color: #008080; text-decoration-color: #008080; font-weight: bold\">3.390201580709379</span>,F\n",
       "</pre>\n"
      ],
      "text/plain": [
       "\u001b[1;36m9023\u001b[0m,\u001b[1;36m123.02702624059046\u001b[0m,\u001b[1;36m3.390201580709379\u001b[0m,F\n"
      ]
     },
     "metadata": {},
     "output_type": "display_data"
    },
    {
     "data": {
      "text/html": [
       "<pre style=\"white-space:pre;overflow-x:auto;line-height:normal;font-family:Menlo,'DejaVu Sans Mono',consolas,'Courier New',monospace\"><span style=\"color: #008080; text-decoration-color: #008080; font-weight: bold\">33950</span>,<span style=\"color: #008080; text-decoration-color: #008080; font-weight: bold\">332.3688959230114</span>,<span style=\"color: #008080; text-decoration-color: #008080; font-weight: bold\">0.3169901293289534</span>,F\n",
       "</pre>\n"
      ],
      "text/plain": [
       "\u001b[1;36m33950\u001b[0m,\u001b[1;36m332.3688959230114\u001b[0m,\u001b[1;36m0.3169901293289534\u001b[0m,F\n"
      ]
     },
     "metadata": {},
     "output_type": "display_data"
    },
    {
     "data": {
      "text/html": [
       "<pre style=\"white-space:pre;overflow-x:auto;line-height:normal;font-family:Menlo,'DejaVu Sans Mono',consolas,'Courier New',monospace\"><span style=\"color: #008080; text-decoration-color: #008080; font-weight: bold\">44414</span>,<span style=\"color: #008080; text-decoration-color: #008080; font-weight: bold\">340.1281952941136</span>,<span style=\"color: #008080; text-decoration-color: #008080; font-weight: bold\">-34.09171637989393</span>,F\n",
       "</pre>\n"
      ],
      "text/plain": [
       "\u001b[1;36m44414\u001b[0m,\u001b[1;36m340.1281952941136\u001b[0m,\u001b[1;36m-34.09171637989393\u001b[0m,F\n"
      ]
     },
     "metadata": {},
     "output_type": "display_data"
    },
    {
     "data": {
      "text/html": [
       "<pre style=\"white-space:pre;overflow-x:auto;line-height:normal;font-family:Menlo,'DejaVu Sans Mono',consolas,'Courier New',monospace\"><span style=\"color: #008080; text-decoration-color: #008080; font-weight: bold\">45814</span>,<span style=\"color: #008080; text-decoration-color: #008080; font-weight: bold\">31.25683213581511</span>,<span style=\"color: #008080; text-decoration-color: #008080; font-weight: bold\">32.5952910532004</span>,F\n",
       "</pre>\n"
      ],
      "text/plain": [
       "\u001b[1;36m45814\u001b[0m,\u001b[1;36m31.25683213581511\u001b[0m,\u001b[1;36m32.5952910532004\u001b[0m,F\n"
      ]
     },
     "metadata": {},
     "output_type": "display_data"
    },
    {
     "data": {
      "text/html": [
       "<pre style=\"white-space:pre;overflow-x:auto;line-height:normal;font-family:Menlo,'DejaVu Sans Mono',consolas,'Courier New',monospace\"><span style=\"color: #008080; text-decoration-color: #008080; font-weight: bold\">42141</span>,<span style=\"color: #008080; text-decoration-color: #008080; font-weight: bold\">196.48404244609904</span>,<span style=\"color: #008080; text-decoration-color: #008080; font-weight: bold\">3.726355129414272</span>,F\n",
       "</pre>\n"
      ],
      "text/plain": [
       "\u001b[1;36m42141\u001b[0m,\u001b[1;36m196.48404244609904\u001b[0m,\u001b[1;36m3.726355129414272\u001b[0m,F\n"
      ]
     },
     "metadata": {},
     "output_type": "display_data"
    },
    {
     "data": {
      "text/html": [
       "<pre style=\"white-space:pre;overflow-x:auto;line-height:normal;font-family:Menlo,'DejaVu Sans Mono',consolas,'Courier New',monospace\"><span style=\"color: #008080; text-decoration-color: #008080; font-weight: bold\">28503</span>,<span style=\"color: #008080; text-decoration-color: #008080; font-weight: bold\">350.9966062685189</span>,<span style=\"color: #008080; text-decoration-color: #008080; font-weight: bold\">2.5259039872210205</span>,F\n",
       "</pre>\n"
      ],
      "text/plain": [
       "\u001b[1;36m28503\u001b[0m,\u001b[1;36m350.9966062685189\u001b[0m,\u001b[1;36m2.5259039872210205\u001b[0m,F\n"
      ]
     },
     "metadata": {},
     "output_type": "display_data"
    },
    {
     "data": {
      "text/html": [
       "<pre style=\"white-space:pre;overflow-x:auto;line-height:normal;font-family:Menlo,'DejaVu Sans Mono',consolas,'Courier New',monospace\"><span style=\"color: #008080; text-decoration-color: #008080; font-weight: bold\">18589</span>,<span style=\"color: #008080; text-decoration-color: #008080; font-weight: bold\">53.3150890595636</span>,<span style=\"color: #008080; text-decoration-color: #008080; font-weight: bold\">-26.91888309388457</span>,F\n",
       "</pre>\n"
      ],
      "text/plain": [
       "\u001b[1;36m18589\u001b[0m,\u001b[1;36m53.3150890595636\u001b[0m,\u001b[1;36m-26.91888309388457\u001b[0m,F\n"
      ]
     },
     "metadata": {},
     "output_type": "display_data"
    },
    {
     "data": {
      "text/html": [
       "<pre style=\"white-space:pre;overflow-x:auto;line-height:normal;font-family:Menlo,'DejaVu Sans Mono',consolas,'Courier New',monospace\"><span style=\"color: #008080; text-decoration-color: #008080; font-weight: bold\">6513</span>,<span style=\"color: #008080; text-decoration-color: #008080; font-weight: bold\">289.2964438241392</span>,<span style=\"color: #008080; text-decoration-color: #008080; font-weight: bold\">-60.80920641176608</span>,F\n",
       "</pre>\n"
      ],
      "text/plain": [
       "\u001b[1;36m6513\u001b[0m,\u001b[1;36m289.2964438241392\u001b[0m,\u001b[1;36m-60.80920641176608\u001b[0m,F\n"
      ]
     },
     "metadata": {},
     "output_type": "display_data"
    },
    {
     "data": {
      "text/html": [
       "<pre style=\"white-space:pre;overflow-x:auto;line-height:normal;font-family:Menlo,'DejaVu Sans Mono',consolas,'Courier New',monospace\"><span style=\"color: #008080; text-decoration-color: #008080; font-weight: bold\">29538</span>,<span style=\"color: #008080; text-decoration-color: #008080; font-weight: bold\">72.1770780291375</span>,<span style=\"color: #008080; text-decoration-color: #008080; font-weight: bold\">-57.32089400720381</span>,F\n",
       "</pre>\n"
      ],
      "text/plain": [
       "\u001b[1;36m29538\u001b[0m,\u001b[1;36m72.1770780291375\u001b[0m,\u001b[1;36m-57.32089400720381\u001b[0m,F\n"
      ]
     },
     "metadata": {},
     "output_type": "display_data"
    },
    {
     "data": {
      "text/html": [
       "<pre style=\"white-space:pre;overflow-x:auto;line-height:normal;font-family:Menlo,'DejaVu Sans Mono',consolas,'Courier New',monospace\"><span style=\"color: #008080; text-decoration-color: #008080; font-weight: bold\">42924</span>,<span style=\"color: #008080; text-decoration-color: #008080; font-weight: bold\">224.3447489048294</span>,<span style=\"color: #008080; text-decoration-color: #008080; font-weight: bold\">15.979987151426233</span>,F\n",
       "</pre>\n"
      ],
      "text/plain": [
       "\u001b[1;36m42924\u001b[0m,\u001b[1;36m224.3447489048294\u001b[0m,\u001b[1;36m15.979987151426233\u001b[0m,F\n"
      ]
     },
     "metadata": {},
     "output_type": "display_data"
    },
    {
     "data": {
      "text/html": [
       "<pre style=\"white-space:pre;overflow-x:auto;line-height:normal;font-family:Menlo,'DejaVu Sans Mono',consolas,'Courier New',monospace\"><span style=\"color: #008080; text-decoration-color: #008080; font-weight: bold\">35994</span>,<span style=\"color: #008080; text-decoration-color: #008080; font-weight: bold\">123.92918495097416</span>,<span style=\"color: #008080; text-decoration-color: #008080; font-weight: bold\">-1.352788991476517</span>,F\n",
       "</pre>\n"
      ],
      "text/plain": [
       "\u001b[1;36m35994\u001b[0m,\u001b[1;36m123.92918495097416\u001b[0m,\u001b[1;36m-1.352788991476517\u001b[0m,F\n"
      ]
     },
     "metadata": {},
     "output_type": "display_data"
    },
    {
     "data": {
      "text/html": [
       "<pre style=\"white-space:pre;overflow-x:auto;line-height:normal;font-family:Menlo,'DejaVu Sans Mono',consolas,'Courier New',monospace\"><span style=\"color: #008080; text-decoration-color: #008080; font-weight: bold\">23330</span>,<span style=\"color: #008080; text-decoration-color: #008080; font-weight: bold\">354.8410852010175</span>,<span style=\"color: #008080; text-decoration-color: #008080; font-weight: bold\">-13.44579911431193</span>,F\n",
       "</pre>\n"
      ],
      "text/plain": [
       "\u001b[1;36m23330\u001b[0m,\u001b[1;36m354.8410852010175\u001b[0m,\u001b[1;36m-13.44579911431193\u001b[0m,F\n"
      ]
     },
     "metadata": {},
     "output_type": "display_data"
    },
    {
     "data": {
      "text/html": [
       "<pre style=\"white-space:pre;overflow-x:auto;line-height:normal;font-family:Menlo,'DejaVu Sans Mono',consolas,'Courier New',monospace\"><span style=\"color: #008080; text-decoration-color: #008080; font-weight: bold\">11095</span>,<span style=\"color: #008080; text-decoration-color: #008080; font-weight: bold\">217.6524309812322</span>,<span style=\"color: #008080; text-decoration-color: #008080; font-weight: bold\">33.51204347244625</span>,F\n",
       "</pre>\n"
      ],
      "text/plain": [
       "\u001b[1;36m11095\u001b[0m,\u001b[1;36m217.6524309812322\u001b[0m,\u001b[1;36m33.51204347244625\u001b[0m,F\n"
      ]
     },
     "metadata": {},
     "output_type": "display_data"
    },
    {
     "data": {
      "text/html": [
       "<pre style=\"white-space:pre;overflow-x:auto;line-height:normal;font-family:Menlo,'DejaVu Sans Mono',consolas,'Courier New',monospace\"><span style=\"color: #008080; text-decoration-color: #008080; font-weight: bold\">46029</span>,<span style=\"color: #008080; text-decoration-color: #008080; font-weight: bold\">64.31901152606584</span>,<span style=\"color: #008080; text-decoration-color: #008080; font-weight: bold\">12.231862083433644</span>,F\n",
       "</pre>\n"
      ],
      "text/plain": [
       "\u001b[1;36m46029\u001b[0m,\u001b[1;36m64.31901152606584\u001b[0m,\u001b[1;36m12.231862083433644\u001b[0m,F\n"
      ]
     },
     "metadata": {},
     "output_type": "display_data"
    },
    {
     "data": {
      "text/html": [
       "<pre style=\"white-space:pre;overflow-x:auto;line-height:normal;font-family:Menlo,'DejaVu Sans Mono',consolas,'Courier New',monospace\"><span style=\"color: #008080; text-decoration-color: #008080; font-weight: bold\">20600</span>,<span style=\"color: #008080; text-decoration-color: #008080; font-weight: bold\">142.23242384331695</span>,<span style=\"color: #008080; text-decoration-color: #008080; font-weight: bold\">3.736894114040069</span>,F\n",
       "</pre>\n"
      ],
      "text/plain": [
       "\u001b[1;36m20600\u001b[0m,\u001b[1;36m142.23242384331695\u001b[0m,\u001b[1;36m3.736894114040069\u001b[0m,F\n"
      ]
     },
     "metadata": {},
     "output_type": "display_data"
    },
    {
     "data": {
      "text/html": [
       "<pre style=\"white-space:pre;overflow-x:auto;line-height:normal;font-family:Menlo,'DejaVu Sans Mono',consolas,'Courier New',monospace\"><span style=\"color: #008080; text-decoration-color: #008080; font-weight: bold\">35632</span>,<span style=\"color: #008080; text-decoration-color: #008080; font-weight: bold\">131.7134435321832</span>,<span style=\"color: #008080; text-decoration-color: #008080; font-weight: bold\">-2.872316347814037</span>,F\n",
       "</pre>\n"
      ],
      "text/plain": [
       "\u001b[1;36m35632\u001b[0m,\u001b[1;36m131.7134435321832\u001b[0m,\u001b[1;36m-2.872316347814037\u001b[0m,F\n"
      ]
     },
     "metadata": {},
     "output_type": "display_data"
    },
    {
     "data": {
      "text/html": [
       "<pre style=\"white-space:pre;overflow-x:auto;line-height:normal;font-family:Menlo,'DejaVu Sans Mono',consolas,'Courier New',monospace\"><span style=\"color: #008080; text-decoration-color: #008080; font-weight: bold\">39416</span>,<span style=\"color: #008080; text-decoration-color: #008080; font-weight: bold\">326.6977848778814</span>,<span style=\"color: #008080; text-decoration-color: #008080; font-weight: bold\">-13.486097521417916</span>,F\n",
       "</pre>\n"
      ],
      "text/plain": [
       "\u001b[1;36m39416\u001b[0m,\u001b[1;36m326.6977848778814\u001b[0m,\u001b[1;36m-13.486097521417916\u001b[0m,F\n"
      ]
     },
     "metadata": {},
     "output_type": "display_data"
    },
    {
     "data": {
      "text/html": [
       "<pre style=\"white-space:pre;overflow-x:auto;line-height:normal;font-family:Menlo,'DejaVu Sans Mono',consolas,'Courier New',monospace\"><span style=\"color: #008080; text-decoration-color: #008080; font-weight: bold\">24156</span>,<span style=\"color: #008080; text-decoration-color: #008080; font-weight: bold\">27.329337297522923</span>,<span style=\"color: #008080; text-decoration-color: #008080; font-weight: bold\">-13.475757320708006</span>,F\n",
       "</pre>\n"
      ],
      "text/plain": [
       "\u001b[1;36m24156\u001b[0m,\u001b[1;36m27.329337297522923\u001b[0m,\u001b[1;36m-13.475757320708006\u001b[0m,F\n"
      ]
     },
     "metadata": {},
     "output_type": "display_data"
    },
    {
     "data": {
      "text/html": [
       "<pre style=\"white-space:pre;overflow-x:auto;line-height:normal;font-family:Menlo,'DejaVu Sans Mono',consolas,'Courier New',monospace\"><span style=\"color: #008080; text-decoration-color: #008080; font-weight: bold\">34413</span>,<span style=\"color: #008080; text-decoration-color: #008080; font-weight: bold\">130.83485271853212</span>,<span style=\"color: #008080; text-decoration-color: #008080; font-weight: bold\">83.02994030986885</span>,F\n",
       "</pre>\n"
      ],
      "text/plain": [
       "\u001b[1;36m34413\u001b[0m,\u001b[1;36m130.83485271853212\u001b[0m,\u001b[1;36m83.02994030986885\u001b[0m,F\n"
      ]
     },
     "metadata": {},
     "output_type": "display_data"
    },
    {
     "data": {
      "text/html": [
       "<pre style=\"white-space:pre;overflow-x:auto;line-height:normal;font-family:Menlo,'DejaVu Sans Mono',consolas,'Courier New',monospace\"><span style=\"color: #008080; text-decoration-color: #008080; font-weight: bold\">46035</span>,<span style=\"color: #008080; text-decoration-color: #008080; font-weight: bold\">75.53718436960958</span>,<span style=\"color: #008080; text-decoration-color: #008080; font-weight: bold\">-0.6200693828123703</span>,F\n",
       "</pre>\n"
      ],
      "text/plain": [
       "\u001b[1;36m46035\u001b[0m,\u001b[1;36m75.53718436960958\u001b[0m,\u001b[1;36m-0.6200693828123703\u001b[0m,F\n"
      ]
     },
     "metadata": {},
     "output_type": "display_data"
    },
    {
     "data": {
      "text/html": [
       "<pre style=\"white-space:pre;overflow-x:auto;line-height:normal;font-family:Menlo,'DejaVu Sans Mono',consolas,'Courier New',monospace\"><span style=\"color: #008080; text-decoration-color: #008080; font-weight: bold\">18915</span>,<span style=\"color: #008080; text-decoration-color: #008080; font-weight: bold\">35.2584636096904</span>,<span style=\"color: #008080; text-decoration-color: #008080; font-weight: bold\">-6.468177623047276</span>,F\n",
       "</pre>\n"
      ],
      "text/plain": [
       "\u001b[1;36m18915\u001b[0m,\u001b[1;36m35.2584636096904\u001b[0m,\u001b[1;36m-6.468177623047276\u001b[0m,F\n"
      ]
     },
     "metadata": {},
     "output_type": "display_data"
    },
    {
     "data": {
      "text/html": [
       "<pre style=\"white-space:pre;overflow-x:auto;line-height:normal;font-family:Menlo,'DejaVu Sans Mono',consolas,'Courier New',monospace\"><span style=\"color: #008080; text-decoration-color: #008080; font-weight: bold\">45705</span>,<span style=\"color: #008080; text-decoration-color: #008080; font-weight: bold\">12.736534614014383</span>,<span style=\"color: #008080; text-decoration-color: #008080; font-weight: bold\">-40.25187402407421</span>,F\n",
       "</pre>\n"
      ],
      "text/plain": [
       "\u001b[1;36m45705\u001b[0m,\u001b[1;36m12.736534614014383\u001b[0m,\u001b[1;36m-40.25187402407421\u001b[0m,F\n"
      ]
     },
     "metadata": {},
     "output_type": "display_data"
    },
    {
     "data": {
      "text/html": [
       "<pre style=\"white-space:pre;overflow-x:auto;line-height:normal;font-family:Menlo,'DejaVu Sans Mono',consolas,'Courier New',monospace\"><span style=\"color: #008080; text-decoration-color: #008080; font-weight: bold\">34272</span>,<span style=\"color: #008080; text-decoration-color: #008080; font-weight: bold\">28.172315844145167</span>,<span style=\"color: #008080; text-decoration-color: #008080; font-weight: bold\">-14.035368094456718</span>,F\n",
       "</pre>\n"
      ],
      "text/plain": [
       "\u001b[1;36m34272\u001b[0m,\u001b[1;36m28.172315844145167\u001b[0m,\u001b[1;36m-14.035368094456718\u001b[0m,F\n"
      ]
     },
     "metadata": {},
     "output_type": "display_data"
    },
    {
     "data": {
      "text/html": [
       "<pre style=\"white-space:pre;overflow-x:auto;line-height:normal;font-family:Menlo,'DejaVu Sans Mono',consolas,'Courier New',monospace\"><span style=\"color: #008080; text-decoration-color: #008080; font-weight: bold\">16603</span>,<span style=\"color: #008080; text-decoration-color: #008080; font-weight: bold\">220.8376403837184</span>,<span style=\"color: #008080; text-decoration-color: #008080; font-weight: bold\">64.0377593212701</span>,F\n",
       "</pre>\n"
      ],
      "text/plain": [
       "\u001b[1;36m16603\u001b[0m,\u001b[1;36m220.8376403837184\u001b[0m,\u001b[1;36m64.0377593212701\u001b[0m,F\n"
      ]
     },
     "metadata": {},
     "output_type": "display_data"
    },
    {
     "data": {
      "text/html": [
       "<pre style=\"white-space:pre;overflow-x:auto;line-height:normal;font-family:Menlo,'DejaVu Sans Mono',consolas,'Courier New',monospace\"><span style=\"color: #008080; text-decoration-color: #008080; font-weight: bold\">41957</span>,<span style=\"color: #008080; text-decoration-color: #008080; font-weight: bold\">158.24205527529026</span>,<span style=\"color: #008080; text-decoration-color: #008080; font-weight: bold\">30.695498911433585</span>,F\n",
       "</pre>\n"
      ],
      "text/plain": [
       "\u001b[1;36m41957\u001b[0m,\u001b[1;36m158.24205527529026\u001b[0m,\u001b[1;36m30.695498911433585\u001b[0m,F\n"
      ]
     },
     "metadata": {},
     "output_type": "display_data"
    },
    {
     "data": {
      "text/html": [
       "<pre style=\"white-space:pre;overflow-x:auto;line-height:normal;font-family:Menlo,'DejaVu Sans Mono',consolas,'Courier New',monospace\"><span style=\"color: #008080; text-decoration-color: #008080; font-weight: bold\">7521</span>,<span style=\"color: #008080; text-decoration-color: #008080; font-weight: bold\">5.43544757355078</span>,<span style=\"color: #008080; text-decoration-color: #008080; font-weight: bold\">15.727405129148048</span>,F\n",
       "</pre>\n"
      ],
      "text/plain": [
       "\u001b[1;36m7521\u001b[0m,\u001b[1;36m5.43544757355078\u001b[0m,\u001b[1;36m15.727405129148048\u001b[0m,F\n"
      ]
     },
     "metadata": {},
     "output_type": "display_data"
    },
    {
     "data": {
      "text/html": [
       "<pre style=\"white-space:pre;overflow-x:auto;line-height:normal;font-family:Menlo,'DejaVu Sans Mono',consolas,'Courier New',monospace\"><span style=\"color: #008080; text-decoration-color: #008080; font-weight: bold\">10822</span>,<span style=\"color: #008080; text-decoration-color: #008080; font-weight: bold\">247.48602926731851</span>,<span style=\"color: #008080; text-decoration-color: #008080; font-weight: bold\">41.6286660475463</span>,F\n",
       "</pre>\n"
      ],
      "text/plain": [
       "\u001b[1;36m10822\u001b[0m,\u001b[1;36m247.48602926731851\u001b[0m,\u001b[1;36m41.6286660475463\u001b[0m,F\n"
      ]
     },
     "metadata": {},
     "output_type": "display_data"
    },
    {
     "data": {
      "text/html": [
       "<pre style=\"white-space:pre;overflow-x:auto;line-height:normal;font-family:Menlo,'DejaVu Sans Mono',consolas,'Courier New',monospace\"><span style=\"color: #008080; text-decoration-color: #008080; font-weight: bold\">9893</span>,<span style=\"color: #008080; text-decoration-color: #008080; font-weight: bold\">132.60356155657857</span>,<span style=\"color: #008080; text-decoration-color: #008080; font-weight: bold\">46.32063507523042</span>,F\n",
       "</pre>\n"
      ],
      "text/plain": [
       "\u001b[1;36m9893\u001b[0m,\u001b[1;36m132.60356155657857\u001b[0m,\u001b[1;36m46.32063507523042\u001b[0m,F\n"
      ]
     },
     "metadata": {},
     "output_type": "display_data"
    },
    {
     "data": {
      "text/html": [
       "<pre style=\"white-space:pre;overflow-x:auto;line-height:normal;font-family:Menlo,'DejaVu Sans Mono',consolas,'Courier New',monospace\"><span style=\"color: #008080; text-decoration-color: #008080; font-weight: bold\">12661</span>,<span style=\"color: #008080; text-decoration-color: #008080; font-weight: bold\">9.015684123750114</span>,<span style=\"color: #008080; text-decoration-color: #008080; font-weight: bold\">-41.94301705820661</span>,F\n",
       "</pre>\n"
      ],
      "text/plain": [
       "\u001b[1;36m12661\u001b[0m,\u001b[1;36m9.015684123750114\u001b[0m,\u001b[1;36m-41.94301705820661\u001b[0m,F\n"
      ]
     },
     "metadata": {},
     "output_type": "display_data"
    },
    {
     "data": {
      "text/html": [
       "<pre style=\"white-space:pre;overflow-x:auto;line-height:normal;font-family:Menlo,'DejaVu Sans Mono',consolas,'Courier New',monospace\"><span style=\"color: #008080; text-decoration-color: #008080; font-weight: bold\">11482</span>,<span style=\"color: #008080; text-decoration-color: #008080; font-weight: bold\">317.6635755651435</span>,<span style=\"color: #008080; text-decoration-color: #008080; font-weight: bold\">15.493650353871052</span>,F\n",
       "</pre>\n"
      ],
      "text/plain": [
       "\u001b[1;36m11482\u001b[0m,\u001b[1;36m317.6635755651435\u001b[0m,\u001b[1;36m15.493650353871052\u001b[0m,F\n"
      ]
     },
     "metadata": {},
     "output_type": "display_data"
    },
    {
     "data": {
      "text/html": [
       "<pre style=\"white-space:pre;overflow-x:auto;line-height:normal;font-family:Menlo,'DejaVu Sans Mono',consolas,'Courier New',monospace\"><span style=\"color: #008080; text-decoration-color: #008080; font-weight: bold\">33208</span>,<span style=\"color: #008080; text-decoration-color: #008080; font-weight: bold\">301.6351387858785</span>,<span style=\"color: #008080; text-decoration-color: #008080; font-weight: bold\">-55.53548072542501</span>,F\n",
       "</pre>\n"
      ],
      "text/plain": [
       "\u001b[1;36m33208\u001b[0m,\u001b[1;36m301.6351387858785\u001b[0m,\u001b[1;36m-55.53548072542501\u001b[0m,F\n"
      ]
     },
     "metadata": {},
     "output_type": "display_data"
    },
    {
     "data": {
      "text/html": [
       "<pre style=\"white-space:pre;overflow-x:auto;line-height:normal;font-family:Menlo,'DejaVu Sans Mono',consolas,'Courier New',monospace\"><span style=\"color: #008080; text-decoration-color: #008080; font-weight: bold\">43093</span>,<span style=\"color: #008080; text-decoration-color: #008080; font-weight: bold\">201.6424449382771</span>,<span style=\"color: #008080; text-decoration-color: #008080; font-weight: bold\">7.815191844805189</span>,F\n",
       "</pre>\n"
      ],
      "text/plain": [
       "\u001b[1;36m43093\u001b[0m,\u001b[1;36m201.6424449382771\u001b[0m,\u001b[1;36m7.815191844805189\u001b[0m,F\n"
      ]
     },
     "metadata": {},
     "output_type": "display_data"
    },
    {
     "data": {
      "text/html": [
       "<pre style=\"white-space:pre;overflow-x:auto;line-height:normal;font-family:Menlo,'DejaVu Sans Mono',consolas,'Courier New',monospace\"><span style=\"color: #008080; text-decoration-color: #008080; font-weight: bold\">41895</span>,<span style=\"color: #008080; text-decoration-color: #008080; font-weight: bold\">151.6673010019524</span>,<span style=\"color: #008080; text-decoration-color: #008080; font-weight: bold\">67.8015595612923</span>,F\n",
       "</pre>\n"
      ],
      "text/plain": [
       "\u001b[1;36m41895\u001b[0m,\u001b[1;36m151.6673010019524\u001b[0m,\u001b[1;36m67.8015595612923\u001b[0m,F\n"
      ]
     },
     "metadata": {},
     "output_type": "display_data"
    },
    {
     "data": {
      "text/html": [
       "<pre style=\"white-space:pre;overflow-x:auto;line-height:normal;font-family:Menlo,'DejaVu Sans Mono',consolas,'Courier New',monospace\"><span style=\"color: #008080; text-decoration-color: #008080; font-weight: bold\">1414</span>,<span style=\"color: #008080; text-decoration-color: #008080; font-weight: bold\">312.37466379790374</span>,<span style=\"color: #008080; text-decoration-color: #008080; font-weight: bold\">-5.677969388911934</span>,F\n",
       "</pre>\n"
      ],
      "text/plain": [
       "\u001b[1;36m1414\u001b[0m,\u001b[1;36m312.37466379790374\u001b[0m,\u001b[1;36m-5.677969388911934\u001b[0m,F\n"
      ]
     },
     "metadata": {},
     "output_type": "display_data"
    },
    {
     "data": {
      "text/html": [
       "<pre style=\"white-space:pre;overflow-x:auto;line-height:normal;font-family:Menlo,'DejaVu Sans Mono',consolas,'Courier New',monospace\"><span style=\"color: #008080; text-decoration-color: #008080; font-weight: bold\">13020</span>,<span style=\"color: #008080; text-decoration-color: #008080; font-weight: bold\">352.6953404028643</span>,<span style=\"color: #008080; text-decoration-color: #008080; font-weight: bold\">0.0333941412765504</span>,F\n",
       "</pre>\n"
      ],
      "text/plain": [
       "\u001b[1;36m13020\u001b[0m,\u001b[1;36m352.6953404028643\u001b[0m,\u001b[1;36m0.0333941412765504\u001b[0m,F\n"
      ]
     },
     "metadata": {},
     "output_type": "display_data"
    },
    {
     "data": {
      "text/html": [
       "<pre style=\"white-space:pre;overflow-x:auto;line-height:normal;font-family:Menlo,'DejaVu Sans Mono',consolas,'Courier New',monospace\"><span style=\"color: #008080; text-decoration-color: #008080; font-weight: bold\">46434</span>,<span style=\"color: #008080; text-decoration-color: #008080; font-weight: bold\">83.02527802325021</span>,<span style=\"color: #008080; text-decoration-color: #008080; font-weight: bold\">-26.76614539295857</span>,F\n",
       "</pre>\n"
      ],
      "text/plain": [
       "\u001b[1;36m46434\u001b[0m,\u001b[1;36m83.02527802325021\u001b[0m,\u001b[1;36m-26.76614539295857\u001b[0m,F\n"
      ]
     },
     "metadata": {},
     "output_type": "display_data"
    },
    {
     "data": {
      "text/html": [
       "<pre style=\"white-space:pre;overflow-x:auto;line-height:normal;font-family:Menlo,'DejaVu Sans Mono',consolas,'Courier New',monospace\"><span style=\"color: #008080; text-decoration-color: #008080; font-weight: bold\">12030</span>,<span style=\"color: #008080; text-decoration-color: #008080; font-weight: bold\">241.51016249185764</span>,<span style=\"color: #008080; text-decoration-color: #008080; font-weight: bold\">53.028251443676425</span>,F\n",
       "</pre>\n"
      ],
      "text/plain": [
       "\u001b[1;36m12030\u001b[0m,\u001b[1;36m241.51016249185764\u001b[0m,\u001b[1;36m53.028251443676425\u001b[0m,F\n"
      ]
     },
     "metadata": {},
     "output_type": "display_data"
    },
    {
     "data": {
      "text/html": [
       "<pre style=\"white-space:pre;overflow-x:auto;line-height:normal;font-family:Menlo,'DejaVu Sans Mono',consolas,'Courier New',monospace\"><span style=\"color: #008080; text-decoration-color: #008080; font-weight: bold\">15884</span>,<span style=\"color: #008080; text-decoration-color: #008080; font-weight: bold\">259.19374641479646</span>,<span style=\"color: #008080; text-decoration-color: #008080; font-weight: bold\">58.41975666280635</span>,F\n",
       "</pre>\n"
      ],
      "text/plain": [
       "\u001b[1;36m15884\u001b[0m,\u001b[1;36m259.19374641479646\u001b[0m,\u001b[1;36m58.41975666280635\u001b[0m,F\n"
      ]
     },
     "metadata": {},
     "output_type": "display_data"
    },
    {
     "data": {
      "text/html": [
       "<pre style=\"white-space:pre;overflow-x:auto;line-height:normal;font-family:Menlo,'DejaVu Sans Mono',consolas,'Courier New',monospace\"><span style=\"color: #008080; text-decoration-color: #008080; font-weight: bold\">38419</span>,<span style=\"color: #008080; text-decoration-color: #008080; font-weight: bold\">269.7501516502396</span>,<span style=\"color: #008080; text-decoration-color: #008080; font-weight: bold\">-55.00308473661994</span>,F\n",
       "</pre>\n"
      ],
      "text/plain": [
       "\u001b[1;36m38419\u001b[0m,\u001b[1;36m269.7501516502396\u001b[0m,\u001b[1;36m-55.00308473661994\u001b[0m,F\n"
      ]
     },
     "metadata": {},
     "output_type": "display_data"
    },
    {
     "data": {
      "text/html": [
       "<pre style=\"white-space:pre;overflow-x:auto;line-height:normal;font-family:Menlo,'DejaVu Sans Mono',consolas,'Courier New',monospace\"><span style=\"color: #008080; text-decoration-color: #008080; font-weight: bold\">42635</span>,<span style=\"color: #008080; text-decoration-color: #008080; font-weight: bold\">210.2066564141868</span>,<span style=\"color: #008080; text-decoration-color: #008080; font-weight: bold\">-11.127625711011849</span>,F\n",
       "</pre>\n"
      ],
      "text/plain": [
       "\u001b[1;36m42635\u001b[0m,\u001b[1;36m210.2066564141868\u001b[0m,\u001b[1;36m-11.127625711011849\u001b[0m,F\n"
      ]
     },
     "metadata": {},
     "output_type": "display_data"
    },
    {
     "data": {
      "text/html": [
       "<pre style=\"white-space:pre;overflow-x:auto;line-height:normal;font-family:Menlo,'DejaVu Sans Mono',consolas,'Courier New',monospace\"><span style=\"color: #008080; text-decoration-color: #008080; font-weight: bold\">11526</span>,<span style=\"color: #008080; text-decoration-color: #008080; font-weight: bold\">252.347573555368</span>,<span style=\"color: #008080; text-decoration-color: #008080; font-weight: bold\">-2.036259465819813</span>,F\n",
       "</pre>\n"
      ],
      "text/plain": [
       "\u001b[1;36m11526\u001b[0m,\u001b[1;36m252.347573555368\u001b[0m,\u001b[1;36m-2.036259465819813\u001b[0m,F\n"
      ]
     },
     "metadata": {},
     "output_type": "display_data"
    },
    {
     "data": {
      "text/html": [
       "<pre style=\"white-space:pre;overflow-x:auto;line-height:normal;font-family:Menlo,'DejaVu Sans Mono',consolas,'Courier New',monospace\"><span style=\"color: #008080; text-decoration-color: #008080; font-weight: bold\">26121</span>,<span style=\"color: #008080; text-decoration-color: #008080; font-weight: bold\">134.3784835058266</span>,<span style=\"color: #008080; text-decoration-color: #008080; font-weight: bold\">20.10644652022616</span>,F\n",
       "</pre>\n"
      ],
      "text/plain": [
       "\u001b[1;36m26121\u001b[0m,\u001b[1;36m134.3784835058266\u001b[0m,\u001b[1;36m20.10644652022616\u001b[0m,F\n"
      ]
     },
     "metadata": {},
     "output_type": "display_data"
    },
    {
     "data": {
      "text/html": [
       "<pre style=\"white-space:pre;overflow-x:auto;line-height:normal;font-family:Menlo,'DejaVu Sans Mono',consolas,'Courier New',monospace\"><span style=\"color: #008080; text-decoration-color: #008080; font-weight: bold\">36095</span>,<span style=\"color: #008080; text-decoration-color: #008080; font-weight: bold\">146.6082054908879</span>,<span style=\"color: #008080; text-decoration-color: #008080; font-weight: bold\">3.5513077160485507</span>,F\n",
       "</pre>\n"
      ],
      "text/plain": [
       "\u001b[1;36m36095\u001b[0m,\u001b[1;36m146.6082054908879\u001b[0m,\u001b[1;36m3.5513077160485507\u001b[0m,F\n"
      ]
     },
     "metadata": {},
     "output_type": "display_data"
    },
    {
     "data": {
      "text/html": [
       "<pre style=\"white-space:pre;overflow-x:auto;line-height:normal;font-family:Menlo,'DejaVu Sans Mono',consolas,'Courier New',monospace\"><span style=\"color: #008080; text-decoration-color: #008080; font-weight: bold\">38092</span>,<span style=\"color: #008080; text-decoration-color: #008080; font-weight: bold\">196.7683824060616</span>,<span style=\"color: #008080; text-decoration-color: #008080; font-weight: bold\">37.810822425939065</span>,F\n",
       "</pre>\n"
      ],
      "text/plain": [
       "\u001b[1;36m38092\u001b[0m,\u001b[1;36m196.7683824060616\u001b[0m,\u001b[1;36m37.810822425939065\u001b[0m,F\n"
      ]
     },
     "metadata": {},
     "output_type": "display_data"
    },
    {
     "data": {
      "text/html": [
       "<pre style=\"white-space:pre;overflow-x:auto;line-height:normal;font-family:Menlo,'DejaVu Sans Mono',consolas,'Courier New',monospace\"><span style=\"color: #008080; text-decoration-color: #008080; font-weight: bold\">38627</span>,<span style=\"color: #008080; text-decoration-color: #008080; font-weight: bold\">343.7885704317759</span>,<span style=\"color: #008080; text-decoration-color: #008080; font-weight: bold\">-65.77364988165296</span>,F\n",
       "</pre>\n"
      ],
      "text/plain": [
       "\u001b[1;36m38627\u001b[0m,\u001b[1;36m343.7885704317759\u001b[0m,\u001b[1;36m-65.77364988165296\u001b[0m,F\n"
      ]
     },
     "metadata": {},
     "output_type": "display_data"
    },
    {
     "data": {
      "text/html": [
       "<pre style=\"white-space:pre;overflow-x:auto;line-height:normal;font-family:Menlo,'DejaVu Sans Mono',consolas,'Courier New',monospace\"><span style=\"color: #008080; text-decoration-color: #008080; font-weight: bold\">8831</span>,<span style=\"color: #008080; text-decoration-color: #008080; font-weight: bold\">151.91992964819022</span>,<span style=\"color: #008080; text-decoration-color: #008080; font-weight: bold\">-34.04675972585311</span>,F\n",
       "</pre>\n"
      ],
      "text/plain": [
       "\u001b[1;36m8831\u001b[0m,\u001b[1;36m151.91992964819022\u001b[0m,\u001b[1;36m-34.04675972585311\u001b[0m,F\n"
      ]
     },
     "metadata": {},
     "output_type": "display_data"
    },
    {
     "data": {
      "text/html": [
       "<pre style=\"white-space:pre;overflow-x:auto;line-height:normal;font-family:Menlo,'DejaVu Sans Mono',consolas,'Courier New',monospace\"><span style=\"color: #008080; text-decoration-color: #008080; font-weight: bold\">26189</span>,<span style=\"color: #008080; text-decoration-color: #008080; font-weight: bold\">185.9494463531522</span>,<span style=\"color: #008080; text-decoration-color: #008080; font-weight: bold\">47.09739503463041</span>,F\n",
       "</pre>\n"
      ],
      "text/plain": [
       "\u001b[1;36m26189\u001b[0m,\u001b[1;36m185.9494463531522\u001b[0m,\u001b[1;36m47.09739503463041\u001b[0m,F\n"
      ]
     },
     "metadata": {},
     "output_type": "display_data"
    },
    {
     "data": {
      "text/html": [
       "<pre style=\"white-space:pre;overflow-x:auto;line-height:normal;font-family:Menlo,'DejaVu Sans Mono',consolas,'Courier New',monospace\"><span style=\"color: #008080; text-decoration-color: #008080; font-weight: bold\">31278</span>,<span style=\"color: #008080; text-decoration-color: #008080; font-weight: bold\">187.234523748748</span>,<span style=\"color: #008080; text-decoration-color: #008080; font-weight: bold\">1.0611680911990025</span>,F\n",
       "</pre>\n"
      ],
      "text/plain": [
       "\u001b[1;36m31278\u001b[0m,\u001b[1;36m187.234523748748\u001b[0m,\u001b[1;36m1.0611680911990025\u001b[0m,F\n"
      ]
     },
     "metadata": {},
     "output_type": "display_data"
    },
    {
     "data": {
      "text/html": [
       "<pre style=\"white-space:pre;overflow-x:auto;line-height:normal;font-family:Menlo,'DejaVu Sans Mono',consolas,'Courier New',monospace\"><span style=\"color: #008080; text-decoration-color: #008080; font-weight: bold\">3999</span>,<span style=\"color: #008080; text-decoration-color: #008080; font-weight: bold\">139.61569804671873</span>,<span style=\"color: #008080; text-decoration-color: #008080; font-weight: bold\">60.62620308646349</span>,F\n",
       "</pre>\n"
      ],
      "text/plain": [
       "\u001b[1;36m3999\u001b[0m,\u001b[1;36m139.61569804671873\u001b[0m,\u001b[1;36m60.62620308646349\u001b[0m,F\n"
      ]
     },
     "metadata": {},
     "output_type": "display_data"
    },
    {
     "data": {
      "text/html": [
       "<pre style=\"white-space:pre;overflow-x:auto;line-height:normal;font-family:Menlo,'DejaVu Sans Mono',consolas,'Courier New',monospace\"><span style=\"color: #008080; text-decoration-color: #008080; font-weight: bold\">41903</span>,<span style=\"color: #008080; text-decoration-color: #008080; font-weight: bold\">137.5157726854495</span>,<span style=\"color: #008080; text-decoration-color: #008080; font-weight: bold\">35.55889502382353</span>,F\n",
       "</pre>\n"
      ],
      "text/plain": [
       "\u001b[1;36m41903\u001b[0m,\u001b[1;36m137.5157726854495\u001b[0m,\u001b[1;36m35.55889502382353\u001b[0m,F\n"
      ]
     },
     "metadata": {},
     "output_type": "display_data"
    },
    {
     "data": {
      "text/html": [
       "<pre style=\"white-space:pre;overflow-x:auto;line-height:normal;font-family:Menlo,'DejaVu Sans Mono',consolas,'Courier New',monospace\"><span style=\"color: #008080; text-decoration-color: #008080; font-weight: bold\">23745</span>,<span style=\"color: #008080; text-decoration-color: #008080; font-weight: bold\">46.702042044077295</span>,<span style=\"color: #008080; text-decoration-color: #008080; font-weight: bold\">-17.392763019931163</span>,F\n",
       "</pre>\n"
      ],
      "text/plain": [
       "\u001b[1;36m23745\u001b[0m,\u001b[1;36m46.702042044077295\u001b[0m,\u001b[1;36m-17.392763019931163\u001b[0m,F\n"
      ]
     },
     "metadata": {},
     "output_type": "display_data"
    },
    {
     "data": {
      "text/html": [
       "<pre style=\"white-space:pre;overflow-x:auto;line-height:normal;font-family:Menlo,'DejaVu Sans Mono',consolas,'Courier New',monospace\"><span style=\"color: #008080; text-decoration-color: #008080; font-weight: bold\">45496</span>,<span style=\"color: #008080; text-decoration-color: #008080; font-weight: bold\">357.37796509024537</span>,<span style=\"color: #008080; text-decoration-color: #008080; font-weight: bold\">34.148136231901105</span>,F\n",
       "</pre>\n"
      ],
      "text/plain": [
       "\u001b[1;36m45496\u001b[0m,\u001b[1;36m357.37796509024537\u001b[0m,\u001b[1;36m34.148136231901105\u001b[0m,F\n"
      ]
     },
     "metadata": {},
     "output_type": "display_data"
    },
    {
     "data": {
      "text/html": [
       "<pre style=\"white-space:pre;overflow-x:auto;line-height:normal;font-family:Menlo,'DejaVu Sans Mono',consolas,'Courier New',monospace\"><span style=\"color: #008080; text-decoration-color: #008080; font-weight: bold\">36404</span>,<span style=\"color: #008080; text-decoration-color: #008080; font-weight: bold\">164.11013224292725</span>,<span style=\"color: #008080; text-decoration-color: #008080; font-weight: bold\">7.006871409586263</span>,F\n",
       "</pre>\n"
      ],
      "text/plain": [
       "\u001b[1;36m36404\u001b[0m,\u001b[1;36m164.11013224292725\u001b[0m,\u001b[1;36m7.006871409586263\u001b[0m,F\n"
      ]
     },
     "metadata": {},
     "output_type": "display_data"
    },
    {
     "data": {
      "text/html": [
       "<pre style=\"white-space:pre;overflow-x:auto;line-height:normal;font-family:Menlo,'DejaVu Sans Mono',consolas,'Courier New',monospace\"><span style=\"color: #008080; text-decoration-color: #008080; font-weight: bold\">17206</span>,<span style=\"color: #008080; text-decoration-color: #008080; font-weight: bold\">239.32507183707136</span>,<span style=\"color: #008080; text-decoration-color: #008080; font-weight: bold\">11.017408009467218</span>,F\n",
       "</pre>\n"
      ],
      "text/plain": [
       "\u001b[1;36m17206\u001b[0m,\u001b[1;36m239.32507183707136\u001b[0m,\u001b[1;36m11.017408009467218\u001b[0m,F\n"
      ]
     },
     "metadata": {},
     "output_type": "display_data"
    },
    {
     "data": {
      "text/html": [
       "<pre style=\"white-space:pre;overflow-x:auto;line-height:normal;font-family:Menlo,'DejaVu Sans Mono',consolas,'Courier New',monospace\"><span style=\"color: #008080; text-decoration-color: #008080; font-weight: bold\">36056</span>,<span style=\"color: #008080; text-decoration-color: #008080; font-weight: bold\">155.17905816346996</span>,<span style=\"color: #008080; text-decoration-color: #008080; font-weight: bold\">39.31875501629604</span>,F\n",
       "</pre>\n"
      ],
      "text/plain": [
       "\u001b[1;36m36056\u001b[0m,\u001b[1;36m155.17905816346996\u001b[0m,\u001b[1;36m39.31875501629604\u001b[0m,F\n"
      ]
     },
     "metadata": {},
     "output_type": "display_data"
    },
    {
     "data": {
      "text/html": [
       "<pre style=\"white-space:pre;overflow-x:auto;line-height:normal;font-family:Menlo,'DejaVu Sans Mono',consolas,'Courier New',monospace\"><span style=\"color: #008080; text-decoration-color: #008080; font-weight: bold\">12799</span>,<span style=\"color: #008080; text-decoration-color: #008080; font-weight: bold\">2.9218853925688477</span>,<span style=\"color: #008080; text-decoration-color: #008080; font-weight: bold\">-28.352708541471817</span>,F\n",
       "</pre>\n"
      ],
      "text/plain": [
       "\u001b[1;36m12799\u001b[0m,\u001b[1;36m2.9218853925688477\u001b[0m,\u001b[1;36m-28.352708541471817\u001b[0m,F\n"
      ]
     },
     "metadata": {},
     "output_type": "display_data"
    },
    {
     "data": {
      "text/html": [
       "<pre style=\"white-space:pre;overflow-x:auto;line-height:normal;font-family:Menlo,'DejaVu Sans Mono',consolas,'Courier New',monospace\"><span style=\"color: #008080; text-decoration-color: #008080; font-weight: bold\">28650</span>,<span style=\"color: #008080; text-decoration-color: #008080; font-weight: bold\">317.6480919903902</span>,<span style=\"color: #008080; text-decoration-color: #008080; font-weight: bold\">0.689991405779644</span>,F\n",
       "</pre>\n"
      ],
      "text/plain": [
       "\u001b[1;36m28650\u001b[0m,\u001b[1;36m317.6480919903902\u001b[0m,\u001b[1;36m0.689991405779644\u001b[0m,F\n"
      ]
     },
     "metadata": {},
     "output_type": "display_data"
    },
    {
     "data": {
      "text/html": [
       "<pre style=\"white-space:pre;overflow-x:auto;line-height:normal;font-family:Menlo,'DejaVu Sans Mono',consolas,'Courier New',monospace\"><span style=\"color: #008080; text-decoration-color: #008080; font-weight: bold\">16862</span>,<span style=\"color: #008080; text-decoration-color: #008080; font-weight: bold\">273.83376885926896</span>,<span style=\"color: #008080; text-decoration-color: #008080; font-weight: bold\">16.88167217359102</span>,F\n",
       "</pre>\n"
      ],
      "text/plain": [
       "\u001b[1;36m16862\u001b[0m,\u001b[1;36m273.83376885926896\u001b[0m,\u001b[1;36m16.88167217359102\u001b[0m,F\n"
      ]
     },
     "metadata": {},
     "output_type": "display_data"
    },
    {
     "data": {
      "text/html": [
       "<pre style=\"white-space:pre;overflow-x:auto;line-height:normal;font-family:Menlo,'DejaVu Sans Mono',consolas,'Courier New',monospace\"><span style=\"color: #008080; text-decoration-color: #008080; font-weight: bold\">35632</span>,<span style=\"color: #008080; text-decoration-color: #008080; font-weight: bold\">131.66953075945565</span>,<span style=\"color: #008080; text-decoration-color: #008080; font-weight: bold\">-2.5930172520750863</span>,F\n",
       "</pre>\n"
      ],
      "text/plain": [
       "\u001b[1;36m35632\u001b[0m,\u001b[1;36m131.66953075945565\u001b[0m,\u001b[1;36m-2.5930172520750863\u001b[0m,F\n"
      ]
     },
     "metadata": {},
     "output_type": "display_data"
    },
    {
     "data": {
      "text/html": [
       "<pre style=\"white-space:pre;overflow-x:auto;line-height:normal;font-family:Menlo,'DejaVu Sans Mono',consolas,'Courier New',monospace\"><span style=\"color: #008080; text-decoration-color: #008080; font-weight: bold\">16849</span>,<span style=\"color: #008080; text-decoration-color: #008080; font-weight: bold\">217.8437104228991</span>,<span style=\"color: #008080; text-decoration-color: #008080; font-weight: bold\">-78.33942371063307</span>,F\n",
       "</pre>\n"
      ],
      "text/plain": [
       "\u001b[1;36m16849\u001b[0m,\u001b[1;36m217.8437104228991\u001b[0m,\u001b[1;36m-78.33942371063307\u001b[0m,F\n"
      ]
     },
     "metadata": {},
     "output_type": "display_data"
    },
    {
     "data": {
      "text/html": [
       "<pre style=\"white-space:pre;overflow-x:auto;line-height:normal;font-family:Menlo,'DejaVu Sans Mono',consolas,'Courier New',monospace\"><span style=\"color: #008080; text-decoration-color: #008080; font-weight: bold\">46828</span>,<span style=\"color: #008080; text-decoration-color: #008080; font-weight: bold\">183.70637632095492</span>,<span style=\"color: #008080; text-decoration-color: #008080; font-weight: bold\">-32.4317457737791</span>,F\n",
       "</pre>\n"
      ],
      "text/plain": [
       "\u001b[1;36m46828\u001b[0m,\u001b[1;36m183.70637632095492\u001b[0m,\u001b[1;36m-32.4317457737791\u001b[0m,F\n"
      ]
     },
     "metadata": {},
     "output_type": "display_data"
    },
    {
     "data": {
      "text/html": [
       "<pre style=\"white-space:pre;overflow-x:auto;line-height:normal;font-family:Menlo,'DejaVu Sans Mono',consolas,'Courier New',monospace\"><span style=\"color: #008080; text-decoration-color: #008080; font-weight: bold\">9768</span>,<span style=\"color: #008080; text-decoration-color: #008080; font-weight: bold\">158.36974263579805</span>,<span style=\"color: #008080; text-decoration-color: #008080; font-weight: bold\">58.42393141105399</span>,F\n",
       "</pre>\n"
      ],
      "text/plain": [
       "\u001b[1;36m9768\u001b[0m,\u001b[1;36m158.36974263579805\u001b[0m,\u001b[1;36m58.42393141105399\u001b[0m,F\n"
      ]
     },
     "metadata": {},
     "output_type": "display_data"
    },
    {
     "data": {
      "text/html": [
       "<pre style=\"white-space:pre;overflow-x:auto;line-height:normal;font-family:Menlo,'DejaVu Sans Mono',consolas,'Courier New',monospace\"><span style=\"color: #008080; text-decoration-color: #008080; font-weight: bold\">34934</span>,<span style=\"color: #008080; text-decoration-color: #008080; font-weight: bold\">37.81852512304353</span>,<span style=\"color: #008080; text-decoration-color: #008080; font-weight: bold\">-3.781639548017629</span>,F\n",
       "</pre>\n"
      ],
      "text/plain": [
       "\u001b[1;36m34934\u001b[0m,\u001b[1;36m37.81852512304353\u001b[0m,\u001b[1;36m-3.781639548017629\u001b[0m,F\n"
      ]
     },
     "metadata": {},
     "output_type": "display_data"
    },
    {
     "data": {
      "text/html": [
       "<pre style=\"white-space:pre;overflow-x:auto;line-height:normal;font-family:Menlo,'DejaVu Sans Mono',consolas,'Courier New',monospace\"><span style=\"color: #008080; text-decoration-color: #008080; font-weight: bold\">40800</span>,<span style=\"color: #008080; text-decoration-color: #008080; font-weight: bold\">61.3037397324809</span>,<span style=\"color: #008080; text-decoration-color: #008080; font-weight: bold\">20.129830629326477</span>,F\n",
       "</pre>\n"
      ],
      "text/plain": [
       "\u001b[1;36m40800\u001b[0m,\u001b[1;36m61.3037397324809\u001b[0m,\u001b[1;36m20.129830629326477\u001b[0m,F\n"
      ]
     },
     "metadata": {},
     "output_type": "display_data"
    },
    {
     "data": {
      "text/html": [
       "<pre style=\"white-space:pre;overflow-x:auto;line-height:normal;font-family:Menlo,'DejaVu Sans Mono',consolas,'Courier New',monospace\"><span style=\"color: #008080; text-decoration-color: #008080; font-weight: bold\">12069</span>,<span style=\"color: #008080; text-decoration-color: #008080; font-weight: bold\">260.56693544861383</span>,<span style=\"color: #008080; text-decoration-color: #008080; font-weight: bold\">58.85476139287466</span>,F\n",
       "</pre>\n"
      ],
      "text/plain": [
       "\u001b[1;36m12069\u001b[0m,\u001b[1;36m260.56693544861383\u001b[0m,\u001b[1;36m58.85476139287466\u001b[0m,F\n"
      ]
     },
     "metadata": {},
     "output_type": "display_data"
    },
    {
     "data": {
      "text/html": [
       "<pre style=\"white-space:pre;overflow-x:auto;line-height:normal;font-family:Menlo,'DejaVu Sans Mono',consolas,'Courier New',monospace\"><span style=\"color: #008080; text-decoration-color: #008080; font-weight: bold\">46017</span>,<span style=\"color: #008080; text-decoration-color: #008080; font-weight: bold\">107.95428530418994</span>,<span style=\"color: #008080; text-decoration-color: #008080; font-weight: bold\">-52.1578223278508</span>,F\n",
       "</pre>\n"
      ],
      "text/plain": [
       "\u001b[1;36m46017\u001b[0m,\u001b[1;36m107.95428530418994\u001b[0m,\u001b[1;36m-52.1578223278508\u001b[0m,F\n"
      ]
     },
     "metadata": {},
     "output_type": "display_data"
    },
    {
     "data": {
      "text/html": [
       "<pre style=\"white-space:pre;overflow-x:auto;line-height:normal;font-family:Menlo,'DejaVu Sans Mono',consolas,'Courier New',monospace\"><span style=\"color: #008080; text-decoration-color: #008080; font-weight: bold\">4022</span>,<span style=\"color: #008080; text-decoration-color: #008080; font-weight: bold\">188.65951421706163</span>,<span style=\"color: #008080; text-decoration-color: #008080; font-weight: bold\">62.45408375950552</span>,F\n",
       "</pre>\n"
      ],
      "text/plain": [
       "\u001b[1;36m4022\u001b[0m,\u001b[1;36m188.65951421706163\u001b[0m,\u001b[1;36m62.45408375950552\u001b[0m,F\n"
      ]
     },
     "metadata": {},
     "output_type": "display_data"
    },
    {
     "data": {
      "text/html": [
       "<pre style=\"white-space:pre;overflow-x:auto;line-height:normal;font-family:Menlo,'DejaVu Sans Mono',consolas,'Courier New',monospace\"><span style=\"color: #008080; text-decoration-color: #008080; font-weight: bold\">46438</span>,<span style=\"color: #008080; text-decoration-color: #008080; font-weight: bold\">91.02553920523177</span>,<span style=\"color: #008080; text-decoration-color: #008080; font-weight: bold\">39.641682529286825</span>,F\n",
       "</pre>\n"
      ],
      "text/plain": [
       "\u001b[1;36m46438\u001b[0m,\u001b[1;36m91.02553920523177\u001b[0m,\u001b[1;36m39.641682529286825\u001b[0m,F\n"
      ]
     },
     "metadata": {},
     "output_type": "display_data"
    },
    {
     "data": {
      "text/html": [
       "<pre style=\"white-space:pre;overflow-x:auto;line-height:normal;font-family:Menlo,'DejaVu Sans Mono',consolas,'Courier New',monospace\"><span style=\"color: #008080; text-decoration-color: #008080; font-weight: bold\">32545</span>,<span style=\"color: #008080; text-decoration-color: #008080; font-weight: bold\">244.12219068960724</span>,<span style=\"color: #008080; text-decoration-color: #008080; font-weight: bold\">39.2458680512966</span>,F\n",
       "</pre>\n"
      ],
      "text/plain": [
       "\u001b[1;36m32545\u001b[0m,\u001b[1;36m244.12219068960724\u001b[0m,\u001b[1;36m39.2458680512966\u001b[0m,F\n"
      ]
     },
     "metadata": {},
     "output_type": "display_data"
    }
   ],
   "source": [
    "new_old_sources = []\n",
    "for e,o,m in missing_sample:\n",
    "    sql_query = f\"\"\"SELECT * FROM 'gfcat' WHERE eclipse={e};\"\"\"\n",
    "    c.execute(sql_query)\n",
    "    foo = c.fetchall()\n",
    "    for bar in foo:\n",
    "        if int(bar[0])==o:\n",
    "            print(f\"{bar[1]},{bar[3]},{bar[4]},{m}\")\n",
    "            new_old_sources += [(bar[1],bar[3],bar[4],m)]"
   ]
  },
  {
   "cell_type": "code",
   "execution_count": 20,
   "id": "b2dab003",
   "metadata": {},
   "outputs": [
    {
     "data": {
      "text/plain": [
       "1043"
      ]
     },
     "execution_count": 20,
     "metadata": {},
     "output_type": "execute_result"
    }
   ],
   "source": [
    "len(new_old_sources)"
   ]
  },
  {
   "cell_type": "code",
   "execution_count": 21,
   "id": "224de631",
   "metadata": {},
   "outputs": [
    {
     "data": {
      "text/html": [
       "<div>\n",
       "<style scoped>\n",
       "    .dataframe tbody tr th:only-of-type {\n",
       "        vertical-align: middle;\n",
       "    }\n",
       "\n",
       "    .dataframe tbody tr th {\n",
       "        vertical-align: top;\n",
       "    }\n",
       "\n",
       "    .dataframe thead th {\n",
       "        text-align: right;\n",
       "    }\n",
       "</style>\n",
       "<table border=\"1\" class=\"dataframe\">\n",
       "  <thead>\n",
       "    <tr style=\"text-align: right;\">\n",
       "      <th></th>\n",
       "      <th>index</th>\n",
       "      <th>eclipse</th>\n",
       "      <th>ra</th>\n",
       "      <th>dec</th>\n",
       "      <th>morphology</th>\n",
       "    </tr>\n",
       "  </thead>\n",
       "  <tbody>\n",
       "    <tr>\n",
       "      <th>52</th>\n",
       "      <td>594</td>\n",
       "      <td>1414</td>\n",
       "      <td>312.37466379790374</td>\n",
       "      <td>-5.677969388911934</td>\n",
       "      <td>F</td>\n",
       "    </tr>\n",
       "    <tr>\n",
       "      <th>70</th>\n",
       "      <td>412</td>\n",
       "      <td>1586</td>\n",
       "      <td>260.9525728372522</td>\n",
       "      <td>58.94664670564848</td>\n",
       "      <td>U</td>\n",
       "    </tr>\n",
       "    <tr>\n",
       "      <th>75</th>\n",
       "      <td>868</td>\n",
       "      <td>1607</td>\n",
       "      <td>260.5527727121543</td>\n",
       "      <td>59.01467820275853</td>\n",
       "      <td>F</td>\n",
       "    </tr>\n",
       "    <tr>\n",
       "      <th>76</th>\n",
       "      <td>261</td>\n",
       "      <td>1607</td>\n",
       "      <td>261.4211518367144</td>\n",
       "      <td>59.25799353495475</td>\n",
       "      <td>U</td>\n",
       "    </tr>\n",
       "    <tr>\n",
       "      <th>154</th>\n",
       "      <td>306</td>\n",
       "      <td>1754</td>\n",
       "      <td>339.9450020657669</td>\n",
       "      <td>11.979215925981158</td>\n",
       "      <td>U</td>\n",
       "    </tr>\n",
       "    <tr>\n",
       "      <th>...</th>\n",
       "      <td>...</td>\n",
       "      <td>...</td>\n",
       "      <td>...</td>\n",
       "      <td>...</td>\n",
       "      <td>...</td>\n",
       "    </tr>\n",
       "    <tr>\n",
       "      <th>926</th>\n",
       "      <td>673</td>\n",
       "      <td>46807</td>\n",
       "      <td>183.1763167012841</td>\n",
       "      <td>-26.926904089339533</td>\n",
       "      <td>U</td>\n",
       "    </tr>\n",
       "    <tr>\n",
       "      <th>929</th>\n",
       "      <td>76</td>\n",
       "      <td>46818</td>\n",
       "      <td>184.06917504442663</td>\n",
       "      <td>-30.36438025874726</td>\n",
       "      <td>U</td>\n",
       "    </tr>\n",
       "    <tr>\n",
       "      <th>930</th>\n",
       "      <td>612</td>\n",
       "      <td>46828</td>\n",
       "      <td>183.7106809506194</td>\n",
       "      <td>-32.43177631249064</td>\n",
       "      <td>F</td>\n",
       "    </tr>\n",
       "    <tr>\n",
       "      <th>931</th>\n",
       "      <td>1034</td>\n",
       "      <td>46828</td>\n",
       "      <td>183.70637632095492</td>\n",
       "      <td>-32.4317457737791</td>\n",
       "      <td>F</td>\n",
       "    </tr>\n",
       "    <tr>\n",
       "      <th>932</th>\n",
       "      <td>372</td>\n",
       "      <td>46832</td>\n",
       "      <td>184.1339593993587</td>\n",
       "      <td>-33.85610713921053</td>\n",
       "      <td>U</td>\n",
       "    </tr>\n",
       "  </tbody>\n",
       "</table>\n",
       "<p>823 rows × 5 columns</p>\n",
       "</div>"
      ],
      "text/plain": [
       "     index  eclipse                  ra                  dec morphology\n",
       "52     594     1414  312.37466379790374   -5.677969388911934          F\n",
       "70     412     1586   260.9525728372522    58.94664670564848          U\n",
       "75     868     1607   260.5527727121543    59.01467820275853          F\n",
       "76     261     1607   261.4211518367144    59.25799353495475          U\n",
       "154    306     1754   339.9450020657669   11.979215925981158          U\n",
       "..     ...      ...                 ...                  ...        ...\n",
       "926    673    46807   183.1763167012841  -26.926904089339533          U\n",
       "929     76    46818  184.06917504442663   -30.36438025874726          U\n",
       "930    612    46828   183.7106809506194   -32.43177631249064          F\n",
       "931   1034    46828  183.70637632095492    -32.4317457737791          F\n",
       "932    372    46832   184.1339593993587   -33.85610713921053          U\n",
       "\n",
       "[823 rows x 5 columns]"
      ]
     },
     "execution_count": 21,
     "metadata": {},
     "output_type": "execute_result"
    }
   ],
   "source": [
    "m = pd.DataFrame(\n",
    "    {'eclipse':np.array(new_old_sources)[:,0],\n",
    "     'ra':np.array(new_old_sources)[:,1],\n",
    "     'dec':np.array(new_old_sources)[:,2],\n",
    "     'morphology':np.array(new_old_sources)[:,3]}\n",
    "    ).sort_values('eclipse').astype({'eclipse':int}).reset_index()\n",
    "ra,ix = np.unique(m['ra'],return_index=True)\n",
    "n = m.iloc[ix].sort_values('eclipse')\n",
    "n"
   ]
  },
  {
   "cell_type": "code",
   "execution_count": 25,
   "id": "977a2e98",
   "metadata": {},
   "outputs": [
    {
     "name": "stderr",
     "output_type": "stream",
     "text": [
      "/var/folders/pm/szdr5c1j3vz19xvrxpps_wfc0000gn/T/ipykernel_5159/3295520481.py:2: FutureWarning: The frame.append method is deprecated and will be removed from pandas in a future version. Use pandas.concat instead.\n",
      "  n = n.append({'eclipse':15133,'ra':204.17073,'dec': 51.91460, 'morphology':'E','obj_id':99999915133},ignore_index=True)\n",
      "/var/folders/pm/szdr5c1j3vz19xvrxpps_wfc0000gn/T/ipykernel_5159/3295520481.py:3: FutureWarning: The frame.append method is deprecated and will be removed from pandas in a future version. Use pandas.concat instead.\n",
      "  n = n.append({'eclipse': 4276,'ra':149.84515,'dec':  2.96435, 'morphology':'F','obj_id':99999904276},ignore_index=True) # ???\n",
      "/var/folders/pm/szdr5c1j3vz19xvrxpps_wfc0000gn/T/ipykernel_5159/3295520481.py:4: FutureWarning: The frame.append method is deprecated and will be removed from pandas in a future version. Use pandas.concat instead.\n",
      "  n = n.append({'eclipse':24237,'ra':358.90042,'dec':  0.69566, 'morphology':'F','obj_id':99999924237},ignore_index=True)\n",
      "/var/folders/pm/szdr5c1j3vz19xvrxpps_wfc0000gn/T/ipykernel_5159/3295520481.py:5: FutureWarning: The frame.append method is deprecated and will be removed from pandas in a future version. Use pandas.concat instead.\n",
      "  n = n.append({'eclipse':21750,'ra':202.73628,'dec': 65.71721, 'morphology':'U','obj_id':99999921750},ignore_index=True)\n",
      "/var/folders/pm/szdr5c1j3vz19xvrxpps_wfc0000gn/T/ipykernel_5159/3295520481.py:6: FutureWarning: The frame.append method is deprecated and will be removed from pandas in a future version. Use pandas.concat instead.\n",
      "  n = n.append({'eclipse': 9939,'ra':215.08597,'dec': 52.26377, 'morphology':'E','obj_id':99999909939},ignore_index=True) # ???\n",
      "/var/folders/pm/szdr5c1j3vz19xvrxpps_wfc0000gn/T/ipykernel_5159/3295520481.py:7: FutureWarning: The frame.append method is deprecated and will be removed from pandas in a future version. Use pandas.concat instead.\n",
      "  n = n.append({'eclipse': 7471,'ra':346.70626,'dec': -0.61413, 'morphology':'T','obj_id':99999907471},ignore_index=True)\n",
      "/var/folders/pm/szdr5c1j3vz19xvrxpps_wfc0000gn/T/ipykernel_5159/3295520481.py:8: FutureWarning: The frame.append method is deprecated and will be removed from pandas in a future version. Use pandas.concat instead.\n",
      "  n = n.append({'eclipse': 7545,'ra': 21.95165,'dec':-28.89494, 'morphology':'F','obj_id':99999907545},ignore_index=True)\n",
      "/var/folders/pm/szdr5c1j3vz19xvrxpps_wfc0000gn/T/ipykernel_5159/3295520481.py:9: FutureWarning: The frame.append method is deprecated and will be removed from pandas in a future version. Use pandas.concat instead.\n",
      "  n = n.append({'eclipse':30574,'ra':127.88794,'dec': 32.46371, 'morphology':'U','obj_id':99999930574},ignore_index=True)\n",
      "/var/folders/pm/szdr5c1j3vz19xvrxpps_wfc0000gn/T/ipykernel_5159/3295520481.py:10: FutureWarning: The frame.append method is deprecated and will be removed from pandas in a future version. Use pandas.concat instead.\n",
      "  n = n.append({'eclipse':28449,'ra':351.76689,'dec':  7.36030, 'morphology':'T','obj_id':99999928449},ignore_index=True)\n",
      "/var/folders/pm/szdr5c1j3vz19xvrxpps_wfc0000gn/T/ipykernel_5159/3295520481.py:11: FutureWarning: The frame.append method is deprecated and will be removed from pandas in a future version. Use pandas.concat instead.\n",
      "  n = n.append({'eclipse':15251,'ra':194.85851,'dec': 27.35632, 'morphology':'U','obj_id':99999915251},ignore_index=True)\n",
      "/var/folders/pm/szdr5c1j3vz19xvrxpps_wfc0000gn/T/ipykernel_5159/3295520481.py:12: FutureWarning: The frame.append method is deprecated and will be removed from pandas in a future version. Use pandas.concat instead.\n",
      "  n = n.append({'eclipse':23279,'ra':  4.65498,'dec': 16.34135, 'morphology':'F','obj_id':99999923279},ignore_index=True)\n",
      "/var/folders/pm/szdr5c1j3vz19xvrxpps_wfc0000gn/T/ipykernel_5159/3295520481.py:13: FutureWarning: The frame.append method is deprecated and will be removed from pandas in a future version. Use pandas.concat instead.\n",
      "  n = n.append({'eclipse':38424,'ra':269.38236,'dec':-68.54370, 'morphology':'U','obj_id':99999938424},ignore_index=True)\n"
     ]
    },
    {
     "data": {
      "text/html": [
       "<div>\n",
       "<style scoped>\n",
       "    .dataframe tbody tr th:only-of-type {\n",
       "        vertical-align: middle;\n",
       "    }\n",
       "\n",
       "    .dataframe tbody tr th {\n",
       "        vertical-align: top;\n",
       "    }\n",
       "\n",
       "    .dataframe thead th {\n",
       "        text-align: right;\n",
       "    }\n",
       "</style>\n",
       "<table border=\"1\" class=\"dataframe\">\n",
       "  <thead>\n",
       "    <tr style=\"text-align: right;\">\n",
       "      <th></th>\n",
       "      <th>index</th>\n",
       "      <th>eclipse</th>\n",
       "      <th>ra</th>\n",
       "      <th>dec</th>\n",
       "      <th>morphology</th>\n",
       "      <th>obj_id</th>\n",
       "    </tr>\n",
       "  </thead>\n",
       "  <tbody>\n",
       "    <tr>\n",
       "      <th>0</th>\n",
       "      <td>594.0</td>\n",
       "      <td>1414</td>\n",
       "      <td>312.37466379790374</td>\n",
       "      <td>-5.677969388911934</td>\n",
       "      <td>F</td>\n",
       "      <td>NaN</td>\n",
       "    </tr>\n",
       "    <tr>\n",
       "      <th>1</th>\n",
       "      <td>412.0</td>\n",
       "      <td>1586</td>\n",
       "      <td>260.9525728372522</td>\n",
       "      <td>58.94664670564848</td>\n",
       "      <td>U</td>\n",
       "      <td>NaN</td>\n",
       "    </tr>\n",
       "    <tr>\n",
       "      <th>2</th>\n",
       "      <td>868.0</td>\n",
       "      <td>1607</td>\n",
       "      <td>260.5527727121543</td>\n",
       "      <td>59.01467820275853</td>\n",
       "      <td>F</td>\n",
       "      <td>NaN</td>\n",
       "    </tr>\n",
       "    <tr>\n",
       "      <th>3</th>\n",
       "      <td>261.0</td>\n",
       "      <td>1607</td>\n",
       "      <td>261.4211518367144</td>\n",
       "      <td>59.25799353495475</td>\n",
       "      <td>U</td>\n",
       "      <td>NaN</td>\n",
       "    </tr>\n",
       "    <tr>\n",
       "      <th>4</th>\n",
       "      <td>306.0</td>\n",
       "      <td>1754</td>\n",
       "      <td>339.9450020657669</td>\n",
       "      <td>11.979215925981158</td>\n",
       "      <td>U</td>\n",
       "      <td>NaN</td>\n",
       "    </tr>\n",
       "    <tr>\n",
       "      <th>...</th>\n",
       "      <td>...</td>\n",
       "      <td>...</td>\n",
       "      <td>...</td>\n",
       "      <td>...</td>\n",
       "      <td>...</td>\n",
       "      <td>...</td>\n",
       "    </tr>\n",
       "    <tr>\n",
       "      <th>830</th>\n",
       "      <td>NaN</td>\n",
       "      <td>30574</td>\n",
       "      <td>127.88794</td>\n",
       "      <td>32.46371</td>\n",
       "      <td>U</td>\n",
       "      <td>9.999993e+10</td>\n",
       "    </tr>\n",
       "    <tr>\n",
       "      <th>831</th>\n",
       "      <td>NaN</td>\n",
       "      <td>28449</td>\n",
       "      <td>351.76689</td>\n",
       "      <td>7.3603</td>\n",
       "      <td>T</td>\n",
       "      <td>9.999993e+10</td>\n",
       "    </tr>\n",
       "    <tr>\n",
       "      <th>832</th>\n",
       "      <td>NaN</td>\n",
       "      <td>15251</td>\n",
       "      <td>194.85851</td>\n",
       "      <td>27.35632</td>\n",
       "      <td>U</td>\n",
       "      <td>9.999992e+10</td>\n",
       "    </tr>\n",
       "    <tr>\n",
       "      <th>833</th>\n",
       "      <td>NaN</td>\n",
       "      <td>23279</td>\n",
       "      <td>4.65498</td>\n",
       "      <td>16.34135</td>\n",
       "      <td>F</td>\n",
       "      <td>9.999992e+10</td>\n",
       "    </tr>\n",
       "    <tr>\n",
       "      <th>834</th>\n",
       "      <td>NaN</td>\n",
       "      <td>38424</td>\n",
       "      <td>269.38236</td>\n",
       "      <td>-68.5437</td>\n",
       "      <td>U</td>\n",
       "      <td>9.999994e+10</td>\n",
       "    </tr>\n",
       "  </tbody>\n",
       "</table>\n",
       "<p>835 rows × 6 columns</p>\n",
       "</div>"
      ],
      "text/plain": [
       "     index  eclipse                  ra                 dec morphology  \\\n",
       "0    594.0     1414  312.37466379790374  -5.677969388911934          F   \n",
       "1    412.0     1586   260.9525728372522   58.94664670564848          U   \n",
       "2    868.0     1607   260.5527727121543   59.01467820275853          F   \n",
       "3    261.0     1607   261.4211518367144   59.25799353495475          U   \n",
       "4    306.0     1754   339.9450020657669  11.979215925981158          U   \n",
       "..     ...      ...                 ...                 ...        ...   \n",
       "830    NaN    30574           127.88794            32.46371          U   \n",
       "831    NaN    28449           351.76689              7.3603          T   \n",
       "832    NaN    15251           194.85851            27.35632          U   \n",
       "833    NaN    23279             4.65498            16.34135          F   \n",
       "834    NaN    38424           269.38236            -68.5437          U   \n",
       "\n",
       "           obj_id  \n",
       "0             NaN  \n",
       "1             NaN  \n",
       "2             NaN  \n",
       "3             NaN  \n",
       "4             NaN  \n",
       "..            ...  \n",
       "830  9.999993e+10  \n",
       "831  9.999993e+10  \n",
       "832  9.999992e+10  \n",
       "833  9.999992e+10  \n",
       "834  9.999994e+10  \n",
       "\n",
       "[835 rows x 6 columns]"
      ]
     },
     "execution_count": 25,
     "metadata": {},
     "output_type": "execute_result"
    }
   ],
   "source": [
    "n = m.iloc[ix].sort_values('eclipse')\n",
    "n = n.append({'eclipse':15133,'ra':204.17073,'dec': 51.91460, 'morphology':'E','obj_id':99999915133},ignore_index=True)\n",
    "n = n.append({'eclipse': 4276,'ra':149.84515,'dec':  2.96435, 'morphology':'F','obj_id':99999904276},ignore_index=True) # ???\n",
    "n = n.append({'eclipse':24237,'ra':358.90042,'dec':  0.69566, 'morphology':'F','obj_id':99999924237},ignore_index=True)\n",
    "n = n.append({'eclipse':21750,'ra':202.73628,'dec': 65.71721, 'morphology':'U','obj_id':99999921750},ignore_index=True)\n",
    "n = n.append({'eclipse': 9939,'ra':215.08597,'dec': 52.26377, 'morphology':'E','obj_id':99999909939},ignore_index=True) # ???\n",
    "n = n.append({'eclipse': 7471,'ra':346.70626,'dec': -0.61413, 'morphology':'T','obj_id':99999907471},ignore_index=True)\n",
    "n = n.append({'eclipse': 7545,'ra': 21.95165,'dec':-28.89494, 'morphology':'F','obj_id':99999907545},ignore_index=True)\n",
    "n = n.append({'eclipse':30574,'ra':127.88794,'dec': 32.46371, 'morphology':'U','obj_id':99999930574},ignore_index=True)\n",
    "n = n.append({'eclipse':28449,'ra':351.76689,'dec':  7.36030, 'morphology':'T','obj_id':99999928449},ignore_index=True)\n",
    "n = n.append({'eclipse':15251,'ra':194.85851,'dec': 27.35632, 'morphology':'U','obj_id':99999915251},ignore_index=True)\n",
    "n = n.append({'eclipse':23279,'ra':  4.65498,'dec': 16.34135, 'morphology':'F','obj_id':99999923279},ignore_index=True)\n",
    "n = n.append({'eclipse':38424,'ra':269.38236,'dec':-68.54370, 'morphology':'U','obj_id':99999938424},ignore_index=True)\n",
    "n"
   ]
  },
  {
   "cell_type": "code",
   "execution_count": 27,
   "id": "34d05892",
   "metadata": {},
   "outputs": [],
   "source": [
    "n.astype({'eclipse':int})[['eclipse','obj_id','ra','dec','morphology']].to_csv('missing_gfcat_visits_221217.csv',index=None)\n"
   ]
  },
  {
   "cell_type": "code",
   "execution_count": null,
   "id": "c7f1f24c",
   "metadata": {},
   "outputs": [],
   "source": []
  },
  {
   "cell_type": "code",
   "execution_count": null,
   "id": "c6e0b005",
   "metadata": {},
   "outputs": [],
   "source": []
  }
 ],
 "metadata": {
  "kernelspec": {
   "display_name": "Python 3 (ipykernel)",
   "language": "python",
   "name": "python3"
  },
  "language_info": {
   "codemirror_mode": {
    "name": "ipython",
    "version": 3
   },
   "file_extension": ".py",
   "mimetype": "text/x-python",
   "name": "python",
   "nbconvert_exporter": "python",
   "pygments_lexer": "ipython3",
   "version": "3.9.15"
  }
 },
 "nbformat": 4,
 "nbformat_minor": 5
}
