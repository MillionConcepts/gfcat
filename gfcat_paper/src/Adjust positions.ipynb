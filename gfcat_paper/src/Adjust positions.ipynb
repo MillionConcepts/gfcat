{
 "cells": [
  {
   "cell_type": "markdown",
   "id": "e0ee9e31",
   "metadata": {},
   "source": [
    "A number of positions of objects that appear to be plausibly variable also appear to be offset from the stars that are probably actually variable. This tends to happen a lot in the neighborhood between two bright-ish stars. It is probably because the initial screening algorithm tries to grab the position with the maximum variation, rather than the brightest, in order to capture dim stars in the limbs of bright stars. It may also be because the star that is actually varying is too bright for our initial upper limit cut on source brightness (to avoid large numbers of artifacts in bright stars).\n",
    "\n",
    "A few of the obvious-looking flare stars are also slightly offset from center of the aperture. Let's try to automatically fix those, too."
   ]
  },
  {
   "cell_type": "code",
   "execution_count": 13,
   "id": "5d49855f",
   "metadata": {},
   "outputs": [],
   "source": [
    "%matplotlib inline\n",
    "import matplotlib.pyplot as plt\n",
    "import numpy as np\n",
    "import pyarrow.parquet as pq\n",
    "import pandas as pd\n",
    "from rich import print\n",
    "import warnings\n",
    "import os"
   ]
  },
  {
   "cell_type": "code",
   "execution_count": 2,
   "id": "72eae968",
   "metadata": {},
   "outputs": [],
   "source": [
    "def angularSeparation(ra1, dec1, ra2, dec2):\n",
    "\n",
    "    d2r = np.pi/180.\n",
    "    ra2deg = 1./d2r\n",
    "\n",
    "    d1 = dec1*d2r\n",
    "    d2 = dec2*d2r\n",
    "\n",
    "    r1 = ra1*d2r\n",
    "    r2 = ra2*d2r\n",
    "\n",
    "    a = np.sin((d2-d1)/2.)**2.+np.cos(d1)*np.cos(d2)*np.sin((r2-r1)/2.)**2.\n",
    "    r = 2*np.arcsin(np.sqrt(a))\n",
    "\n",
    "    return r*ra2deg"
   ]
  },
  {
   "cell_type": "code",
   "execution_count": 3,
   "id": "4b64d5de",
   "metadata": {},
   "outputs": [],
   "source": [
    "header_data = pd.read_csv('../ref/mislike_image_header_table.csv')\n",
    "catalog_filename = '../ref/catalog_nd_daostarfinder.parquet'\n",
    "catalog_file = pq.ParquetFile(catalog_filename)"
   ]
  },
  {
   "cell_type": "code",
   "execution_count": 4,
   "id": "07ef0f67",
   "metadata": {},
   "outputs": [
    {
     "data": {
      "text/html": [
       "<pre style=\"white-space:pre;overflow-x:auto;line-height:normal;font-family:Menlo,'DejaVu Sans Mono',consolas,'Courier New',monospace\"><span style=\"color: #008080; text-decoration-color: #008080; font-weight: bold\">24</span> source positions to be adjusted to the nearest brighter source.\n",
       "</pre>\n"
      ],
      "text/plain": [
       "\u001b[1;36m24\u001b[0m source positions to be adjusted to the nearest brighter source.\n"
      ]
     },
     "metadata": {},
     "output_type": "display_data"
    }
   ],
   "source": [
    "#adjust_gifs = !ls /Users/cm/GFCAT/gfcat/test_gifs/sorted/adjust/*\n",
    "adjust_gifs = !ls /Users/cm/GFCAT/gfcat/test_gifs/sorted/flares_adjust/*\n",
    "print(f\"{len(adjust_gifs)} source positions to be adjusted to the nearest brighter source.\")"
   ]
  },
  {
   "cell_type": "code",
   "execution_count": 5,
   "id": "59017cb7",
   "metadata": {},
   "outputs": [],
   "source": [
    "#expt = header_data.loc[header_data['ECLIPSE']==eclipse].loc[header_data['BAND']=='NUV']['EXPT_0'].values[0]"
   ]
  },
  {
   "cell_type": "code",
   "execution_count": 16,
   "id": "ceeecbd1",
   "metadata": {
    "scrolled": false
   },
   "outputs": [
    {
     "data": {
      "text/html": [
       "<pre style=\"white-space:pre;overflow-x:auto;line-height:normal;font-family:Menlo,'DejaVu Sans Mono',consolas,'Courier New',monospace\">python make_gfcat.py <span style=\"color: #008080; text-decoration-color: #008080; font-weight: bold\">3858</span> <span style=\"color: #008080; text-decoration-color: #008080; font-weight: bold\">613803858</span> # <span style=\"color: #008080; text-decoration-color: #008080; font-weight: bold\">614703858</span>\n",
       "</pre>\n"
      ],
      "text/plain": [
       "python make_gfcat.py \u001b[1;36m3858\u001b[0m \u001b[1;36m613803858\u001b[0m # \u001b[1;36m614703858\u001b[0m\n"
      ]
     },
     "metadata": {},
     "output_type": "display_data"
    },
    {
     "data": {
      "text/html": [
       "<pre style=\"white-space:pre;overflow-x:auto;line-height:normal;font-family:Menlo,'DejaVu Sans Mono',consolas,'Courier New',monospace\">python make_gfcat.py <span style=\"color: #008080; text-decoration-color: #008080; font-weight: bold\">4028</span> <span style=\"color: #008080; text-decoration-color: #008080; font-weight: bold\">404804028</span> # <span style=\"color: #008080; text-decoration-color: #008080; font-weight: bold\">404904028</span>\n",
       "</pre>\n"
      ],
      "text/plain": [
       "python make_gfcat.py \u001b[1;36m4028\u001b[0m \u001b[1;36m404804028\u001b[0m # \u001b[1;36m404904028\u001b[0m\n"
      ]
     },
     "metadata": {},
     "output_type": "display_data"
    },
    {
     "data": {
      "text/html": [
       "<pre style=\"white-space:pre;overflow-x:auto;line-height:normal;font-family:Menlo,'DejaVu Sans Mono',consolas,'Courier New',monospace\">No alternative nearby source for e7940-<span style=\"color: #008080; text-decoration-color: #008080; font-weight: bold\">555607940</span>\n",
       "</pre>\n"
      ],
      "text/plain": [
       "No alternative nearby source for e7940-\u001b[1;36m555607940\u001b[0m\n"
      ]
     },
     "metadata": {},
     "output_type": "display_data"
    },
    {
     "data": {
      "text/html": [
       "<pre style=\"white-space:pre;overflow-x:auto;line-height:normal;font-family:Menlo,'DejaVu Sans Mono',consolas,'Courier New',monospace\">No alternative nearby source for e9709-<span style=\"color: #008080; text-decoration-color: #008080; font-weight: bold\">1055909709</span>\n",
       "</pre>\n"
      ],
      "text/plain": [
       "No alternative nearby source for e9709-\u001b[1;36m1055909709\u001b[0m\n"
      ]
     },
     "metadata": {},
     "output_type": "display_data"
    },
    {
     "data": {
      "text/html": [
       "<pre style=\"white-space:pre;overflow-x:auto;line-height:normal;font-family:Menlo,'DejaVu Sans Mono',consolas,'Courier New',monospace\">python make_gfcat.py <span style=\"color: #008080; text-decoration-color: #008080; font-weight: bold\">13533</span> <span style=\"color: #008080; text-decoration-color: #008080; font-weight: bold\">3364113533</span> # <span style=\"color: #008080; text-decoration-color: #008080; font-weight: bold\">3357413533</span>\n",
       "</pre>\n"
      ],
      "text/plain": [
       "python make_gfcat.py \u001b[1;36m13533\u001b[0m \u001b[1;36m3364113533\u001b[0m # \u001b[1;36m3357413533\u001b[0m\n"
      ]
     },
     "metadata": {},
     "output_type": "display_data"
    },
    {
     "data": {
      "text/html": [
       "<pre style=\"white-space:pre;overflow-x:auto;line-height:normal;font-family:Menlo,'DejaVu Sans Mono',consolas,'Courier New',monospace\">python make_gfcat.py <span style=\"color: #008080; text-decoration-color: #008080; font-weight: bold\">13656</span> <span style=\"color: #008080; text-decoration-color: #008080; font-weight: bold\">620713656</span> # <span style=\"color: #008080; text-decoration-color: #008080; font-weight: bold\">613113656</span>\n",
       "</pre>\n"
      ],
      "text/plain": [
       "python make_gfcat.py \u001b[1;36m13656\u001b[0m \u001b[1;36m620713656\u001b[0m # \u001b[1;36m613113656\u001b[0m\n"
      ]
     },
     "metadata": {},
     "output_type": "display_data"
    },
    {
     "data": {
      "text/html": [
       "<pre style=\"white-space:pre;overflow-x:auto;line-height:normal;font-family:Menlo,'DejaVu Sans Mono',consolas,'Courier New',monospace\">No alternative nearby source for e16497-<span style=\"color: #008080; text-decoration-color: #008080; font-weight: bold\">1520916497</span>\n",
       "</pre>\n"
      ],
      "text/plain": [
       "No alternative nearby source for e16497-\u001b[1;36m1520916497\u001b[0m\n"
      ]
     },
     "metadata": {},
     "output_type": "display_data"
    },
    {
     "data": {
      "text/html": [
       "<pre style=\"white-space:pre;overflow-x:auto;line-height:normal;font-family:Menlo,'DejaVu Sans Mono',consolas,'Courier New',monospace\">python make_gfcat.py <span style=\"color: #008080; text-decoration-color: #008080; font-weight: bold\">18081</span> <span style=\"color: #008080; text-decoration-color: #008080; font-weight: bold\">77718081</span> # <span style=\"color: #008080; text-decoration-color: #008080; font-weight: bold\">80418081</span>\n",
       "</pre>\n"
      ],
      "text/plain": [
       "python make_gfcat.py \u001b[1;36m18081\u001b[0m \u001b[1;36m77718081\u001b[0m # \u001b[1;36m80418081\u001b[0m\n"
      ]
     },
     "metadata": {},
     "output_type": "display_data"
    },
    {
     "data": {
      "text/html": [
       "<pre style=\"white-space:pre;overflow-x:auto;line-height:normal;font-family:Menlo,'DejaVu Sans Mono',consolas,'Courier New',monospace\">python make_gfcat.py <span style=\"color: #008080; text-decoration-color: #008080; font-weight: bold\">18380</span> <span style=\"color: #008080; text-decoration-color: #008080; font-weight: bold\">3961118380</span> # <span style=\"color: #008080; text-decoration-color: #008080; font-weight: bold\">3958418380</span>\n",
       "</pre>\n"
      ],
      "text/plain": [
       "python make_gfcat.py \u001b[1;36m18380\u001b[0m \u001b[1;36m3961118380\u001b[0m # \u001b[1;36m3958418380\u001b[0m\n"
      ]
     },
     "metadata": {},
     "output_type": "display_data"
    },
    {
     "data": {
      "text/html": [
       "<pre style=\"white-space:pre;overflow-x:auto;line-height:normal;font-family:Menlo,'DejaVu Sans Mono',consolas,'Courier New',monospace\">python make_gfcat.py <span style=\"color: #008080; text-decoration-color: #008080; font-weight: bold\">18753</span> <span style=\"color: #008080; text-decoration-color: #008080; font-weight: bold\">961118753</span> # <span style=\"color: #008080; text-decoration-color: #008080; font-weight: bold\">958718753</span>\n",
       "</pre>\n"
      ],
      "text/plain": [
       "python make_gfcat.py \u001b[1;36m18753\u001b[0m \u001b[1;36m961118753\u001b[0m # \u001b[1;36m958718753\u001b[0m\n"
      ]
     },
     "metadata": {},
     "output_type": "display_data"
    },
    {
     "data": {
      "text/html": [
       "<pre style=\"white-space:pre;overflow-x:auto;line-height:normal;font-family:Menlo,'DejaVu Sans Mono',consolas,'Courier New',monospace\">python make_gfcat.py <span style=\"color: #008080; text-decoration-color: #008080; font-weight: bold\">23505</span> <span style=\"color: #008080; text-decoration-color: #008080; font-weight: bold\">1606823505</span> # <span style=\"color: #008080; text-decoration-color: #008080; font-weight: bold\">1597023505</span>\n",
       "</pre>\n"
      ],
      "text/plain": [
       "python make_gfcat.py \u001b[1;36m23505\u001b[0m \u001b[1;36m1606823505\u001b[0m # \u001b[1;36m1597023505\u001b[0m\n"
      ]
     },
     "metadata": {},
     "output_type": "display_data"
    },
    {
     "data": {
      "text/html": [
       "<pre style=\"white-space:pre;overflow-x:auto;line-height:normal;font-family:Menlo,'DejaVu Sans Mono',consolas,'Courier New',monospace\">python make_gfcat.py <span style=\"color: #008080; text-decoration-color: #008080; font-weight: bold\">26488</span> <span style=\"color: #008080; text-decoration-color: #008080; font-weight: bold\">1217826488</span> # <span style=\"color: #008080; text-decoration-color: #008080; font-weight: bold\">1218326488</span>\n",
       "</pre>\n"
      ],
      "text/plain": [
       "python make_gfcat.py \u001b[1;36m26488\u001b[0m \u001b[1;36m1217826488\u001b[0m # \u001b[1;36m1218326488\u001b[0m\n"
      ]
     },
     "metadata": {},
     "output_type": "display_data"
    },
    {
     "data": {
      "text/html": [
       "<pre style=\"white-space:pre;overflow-x:auto;line-height:normal;font-family:Menlo,'DejaVu Sans Mono',consolas,'Courier New',monospace\">python make_gfcat.py <span style=\"color: #008080; text-decoration-color: #008080; font-weight: bold\">28619</span> <span style=\"color: #008080; text-decoration-color: #008080; font-weight: bold\">1340528619</span> # <span style=\"color: #008080; text-decoration-color: #008080; font-weight: bold\">1333228619</span>\n",
       "</pre>\n"
      ],
      "text/plain": [
       "python make_gfcat.py \u001b[1;36m28619\u001b[0m \u001b[1;36m1340528619\u001b[0m # \u001b[1;36m1333228619\u001b[0m\n"
      ]
     },
     "metadata": {},
     "output_type": "display_data"
    },
    {
     "data": {
      "text/html": [
       "<pre style=\"white-space:pre;overflow-x:auto;line-height:normal;font-family:Menlo,'DejaVu Sans Mono',consolas,'Courier New',monospace\">python make_gfcat.py <span style=\"color: #008080; text-decoration-color: #008080; font-weight: bold\">30122</span> <span style=\"color: #008080; text-decoration-color: #008080; font-weight: bold\">552130122</span> # <span style=\"color: #008080; text-decoration-color: #008080; font-weight: bold\">549930122</span>\n",
       "</pre>\n"
      ],
      "text/plain": [
       "python make_gfcat.py \u001b[1;36m30122\u001b[0m \u001b[1;36m552130122\u001b[0m # \u001b[1;36m549930122\u001b[0m\n"
      ]
     },
     "metadata": {},
     "output_type": "display_data"
    },
    {
     "data": {
      "text/html": [
       "<pre style=\"white-space:pre;overflow-x:auto;line-height:normal;font-family:Menlo,'DejaVu Sans Mono',consolas,'Courier New',monospace\">python make_gfcat.py <span style=\"color: #008080; text-decoration-color: #008080; font-weight: bold\">30668</span> <span style=\"color: #008080; text-decoration-color: #008080; font-weight: bold\">1428030668</span> # <span style=\"color: #008080; text-decoration-color: #008080; font-weight: bold\">1439130668</span>\n",
       "</pre>\n"
      ],
      "text/plain": [
       "python make_gfcat.py \u001b[1;36m30668\u001b[0m \u001b[1;36m1428030668\u001b[0m # \u001b[1;36m1439130668\u001b[0m\n"
      ]
     },
     "metadata": {},
     "output_type": "display_data"
    },
    {
     "data": {
      "text/html": [
       "<pre style=\"white-space:pre;overflow-x:auto;line-height:normal;font-family:Menlo,'DejaVu Sans Mono',consolas,'Courier New',monospace\">python make_gfcat.py <span style=\"color: #008080; text-decoration-color: #008080; font-weight: bold\">31274</span> <span style=\"color: #008080; text-decoration-color: #008080; font-weight: bold\">1705931274</span> # <span style=\"color: #008080; text-decoration-color: #008080; font-weight: bold\">1708031274</span>\n",
       "</pre>\n"
      ],
      "text/plain": [
       "python make_gfcat.py \u001b[1;36m31274\u001b[0m \u001b[1;36m1705931274\u001b[0m # \u001b[1;36m1708031274\u001b[0m\n"
      ]
     },
     "metadata": {},
     "output_type": "display_data"
    },
    {
     "data": {
      "text/html": [
       "<pre style=\"white-space:pre;overflow-x:auto;line-height:normal;font-family:Menlo,'DejaVu Sans Mono',consolas,'Courier New',monospace\">python make_gfcat.py <span style=\"color: #008080; text-decoration-color: #008080; font-weight: bold\">36705</span> <span style=\"color: #008080; text-decoration-color: #008080; font-weight: bold\">1281136705</span> # <span style=\"color: #008080; text-decoration-color: #008080; font-weight: bold\">1284736705</span>\n",
       "</pre>\n"
      ],
      "text/plain": [
       "python make_gfcat.py \u001b[1;36m36705\u001b[0m \u001b[1;36m1281136705\u001b[0m # \u001b[1;36m1284736705\u001b[0m\n"
      ]
     },
     "metadata": {},
     "output_type": "display_data"
    },
    {
     "data": {
      "text/html": [
       "<pre style=\"white-space:pre;overflow-x:auto;line-height:normal;font-family:Menlo,'DejaVu Sans Mono',consolas,'Courier New',monospace\">python make_gfcat.py <span style=\"color: #008080; text-decoration-color: #008080; font-weight: bold\">40521</span> <span style=\"color: #008080; text-decoration-color: #008080; font-weight: bold\">1342340521</span> # <span style=\"color: #008080; text-decoration-color: #008080; font-weight: bold\">1328540521</span>\n",
       "</pre>\n"
      ],
      "text/plain": [
       "python make_gfcat.py \u001b[1;36m40521\u001b[0m \u001b[1;36m1342340521\u001b[0m # \u001b[1;36m1328540521\u001b[0m\n"
      ]
     },
     "metadata": {},
     "output_type": "display_data"
    },
    {
     "data": {
      "text/html": [
       "<pre style=\"white-space:pre;overflow-x:auto;line-height:normal;font-family:Menlo,'DejaVu Sans Mono',consolas,'Courier New',monospace\">python make_gfcat.py <span style=\"color: #008080; text-decoration-color: #008080; font-weight: bold\">40930</span> <span style=\"color: #008080; text-decoration-color: #008080; font-weight: bold\">3657940930</span> # <span style=\"color: #008080; text-decoration-color: #008080; font-weight: bold\">3656640930</span>\n",
       "</pre>\n"
      ],
      "text/plain": [
       "python make_gfcat.py \u001b[1;36m40930\u001b[0m \u001b[1;36m3657940930\u001b[0m # \u001b[1;36m3656640930\u001b[0m\n"
      ]
     },
     "metadata": {},
     "output_type": "display_data"
    },
    {
     "data": {
      "text/html": [
       "<pre style=\"white-space:pre;overflow-x:auto;line-height:normal;font-family:Menlo,'DejaVu Sans Mono',consolas,'Courier New',monospace\">No alternative nearby source for e42499-<span style=\"color: #008080; text-decoration-color: #008080; font-weight: bold\">766342499</span>\n",
       "</pre>\n"
      ],
      "text/plain": [
       "No alternative nearby source for e42499-\u001b[1;36m766342499\u001b[0m\n"
      ]
     },
     "metadata": {},
     "output_type": "display_data"
    },
    {
     "data": {
      "text/html": [
       "<pre style=\"white-space:pre;overflow-x:auto;line-height:normal;font-family:Menlo,'DejaVu Sans Mono',consolas,'Courier New',monospace\">python make_gfcat.py <span style=\"color: #008080; text-decoration-color: #008080; font-weight: bold\">43238</span> <span style=\"color: #008080; text-decoration-color: #008080; font-weight: bold\">1534643238</span> # <span style=\"color: #008080; text-decoration-color: #008080; font-weight: bold\">1530943238</span>\n",
       "</pre>\n"
      ],
      "text/plain": [
       "python make_gfcat.py \u001b[1;36m43238\u001b[0m \u001b[1;36m1534643238\u001b[0m # \u001b[1;36m1530943238\u001b[0m\n"
      ]
     },
     "metadata": {},
     "output_type": "display_data"
    },
    {
     "data": {
      "text/html": [
       "<pre style=\"white-space:pre;overflow-x:auto;line-height:normal;font-family:Menlo,'DejaVu Sans Mono',consolas,'Courier New',monospace\">No alternative nearby source for e43828-<span style=\"color: #008080; text-decoration-color: #008080; font-weight: bold\">1063943828</span>\n",
       "</pre>\n"
      ],
      "text/plain": [
       "No alternative nearby source for e43828-\u001b[1;36m1063943828\u001b[0m\n"
      ]
     },
     "metadata": {},
     "output_type": "display_data"
    },
    {
     "data": {
      "text/html": [
       "<pre style=\"white-space:pre;overflow-x:auto;line-height:normal;font-family:Menlo,'DejaVu Sans Mono',consolas,'Courier New',monospace\">python make_gfcat.py <span style=\"color: #008080; text-decoration-color: #008080; font-weight: bold\">44684</span> <span style=\"color: #008080; text-decoration-color: #008080; font-weight: bold\">3066544684</span> # <span style=\"color: #008080; text-decoration-color: #008080; font-weight: bold\">3062344684</span>\n",
       "</pre>\n"
      ],
      "text/plain": [
       "python make_gfcat.py \u001b[1;36m44684\u001b[0m \u001b[1;36m3066544684\u001b[0m # \u001b[1;36m3062344684\u001b[0m\n"
      ]
     },
     "metadata": {},
     "output_type": "display_data"
    },
    {
     "data": {
      "text/html": [
       "<pre style=\"white-space:pre;overflow-x:auto;line-height:normal;font-family:Menlo,'DejaVu Sans Mono',consolas,'Courier New',monospace\">No alternative nearby source for e45629-<span style=\"color: #008080; text-decoration-color: #008080; font-weight: bold\">1000545629</span>\n",
       "</pre>\n"
      ],
      "text/plain": [
       "No alternative nearby source for e45629-\u001b[1;36m1000545629\u001b[0m\n"
      ]
     },
     "metadata": {},
     "output_type": "display_data"
    }
   ],
   "source": [
    "for adjust_gif in adjust_gifs:\n",
    "    eclipse = int(adjust_gif.split('/')[-1].split('-')[0][1:])\n",
    "    obj_id = int(adjust_gif.split('/')[-1].split('-')[1])\n",
    "    #print(eclipse)\n",
    "    this_star = pq.read_table(catalog_filename,filters =\n",
    "                              [('eclipse','=',eclipse),\n",
    "                               ('obj_id','=',obj_id)]).to_pandas()\n",
    "    #print(this_star[['obj_id','ra','dec']].values[0])\n",
    "    ra,dec, = this_star[['ra','dec']].values[0]\n",
    "    this_area = pq.read_table(catalog_filename,filters =\n",
    "                                [('eclipse','=',eclipse),\n",
    "                                 #('obj_id','=',obj_id),\n",
    "                                 ('ra','>=',ra-0.02),\n",
    "                                 ('ra','<=',ra+0.02),\n",
    "                                 ('dec','>=',dec-0.02),\n",
    "                                 ('dec','<=',dec+0.02),\n",
    "                                 ('aperture_sum_n_12_8','>',this_star['aperture_sum_n_12_8'].values[0])]\n",
    "                             ).to_pandas()\n",
    "    try:\n",
    "        ix = np.argmin(angularSeparation(ra,dec,\n",
    "                      this_area['ra'].values,\n",
    "                      this_area['dec'].values))\n",
    "    except ValueError:\n",
    "        print(f'No alternative nearby source for e{eclipse}-{obj_id}')\n",
    "        continue\n",
    "    print('python make_gfcat.py',int(eclipse),\n",
    "          int(this_area.iloc[ix]['obj_id']),f'# {int(obj_id)}')#,\n",
    "          #float(this_area.iloc[ix]['ra']),\n",
    "          #float(this_area.iloc[ix]['dec']))"
   ]
  },
  {
   "cell_type": "code",
   "execution_count": 7,
   "id": "a28f4d82",
   "metadata": {},
   "outputs": [
    {
     "data": {
      "text/html": [
       "<div>\n",
       "<style scoped>\n",
       "    .dataframe tbody tr th:only-of-type {\n",
       "        vertical-align: middle;\n",
       "    }\n",
       "\n",
       "    .dataframe tbody tr th {\n",
       "        vertical-align: top;\n",
       "    }\n",
       "\n",
       "    .dataframe thead th {\n",
       "        text-align: right;\n",
       "    }\n",
       "</style>\n",
       "<table border=\"1\" class=\"dataframe\">\n",
       "  <thead>\n",
       "    <tr style=\"text-align: right;\">\n",
       "      <th></th>\n",
       "      <th>obj_id</th>\n",
       "      <th>ra</th>\n",
       "      <th>dec</th>\n",
       "      <th>xcenter</th>\n",
       "      <th>ycenter</th>\n",
       "      <th>eclipse</th>\n",
       "      <th>sharpness</th>\n",
       "      <th>roundness1</th>\n",
       "      <th>roundness2</th>\n",
       "      <th>npix</th>\n",
       "      <th>...</th>\n",
       "      <th>aperture_sum_edge_n_51_2</th>\n",
       "      <th>aperture_sum_f_12_8</th>\n",
       "      <th>aperture_sum_mask_f_12_8</th>\n",
       "      <th>aperture_sum_edge_f_12_8</th>\n",
       "      <th>aperture_sum_f_25_6</th>\n",
       "      <th>aperture_sum_mask_f_25_6</th>\n",
       "      <th>aperture_sum_edge_f_25_6</th>\n",
       "      <th>aperture_sum_f_51_2</th>\n",
       "      <th>aperture_sum_mask_f_51_2</th>\n",
       "      <th>aperture_sum_edge_f_51_2</th>\n",
       "    </tr>\n",
       "  </thead>\n",
       "  <tbody>\n",
       "  </tbody>\n",
       "</table>\n",
       "<p>0 rows × 28 columns</p>\n",
       "</div>"
      ],
      "text/plain": [
       "Empty DataFrame\n",
       "Columns: [obj_id, ra, dec, xcenter, ycenter, eclipse, sharpness, roundness1, roundness2, npix, aperture_sum_n_12_8, aperture_sum_mask_n_12_8, aperture_sum_edge_n_12_8, aperture_sum_n_25_6, aperture_sum_mask_n_25_6, aperture_sum_edge_n_25_6, aperture_sum_n_51_2, aperture_sum_mask_n_51_2, aperture_sum_edge_n_51_2, aperture_sum_f_12_8, aperture_sum_mask_f_12_8, aperture_sum_edge_f_12_8, aperture_sum_f_25_6, aperture_sum_mask_f_25_6, aperture_sum_edge_f_25_6, aperture_sum_f_51_2, aperture_sum_mask_f_51_2, aperture_sum_edge_f_51_2]\n",
       "Index: []\n",
       "\n",
       "[0 rows x 28 columns]"
      ]
     },
     "execution_count": 7,
     "metadata": {},
     "output_type": "execute_result"
    }
   ],
   "source": [
    "this_area"
   ]
  },
  {
   "cell_type": "markdown",
   "id": "be0e74b7",
   "metadata": {},
   "source": [
    "### Even after automated readjustment, a number of sources are still off and will be manually adjusted by figuring out their positions in ds9"
   ]
  },
  {
   "cell_type": "code",
   "execution_count": 22,
   "id": "74575bfc",
   "metadata": {},
   "outputs": [
    {
     "data": {
      "text/plain": [
       "['marginal',\n",
       " '.DS_Store',\n",
       " 'eclipse',\n",
       " 'trend',\n",
       " 'moving',\n",
       " 'artifact',\n",
       " 'unk variable',\n",
       " 'flare']"
      ]
     },
     "execution_count": 22,
     "metadata": {},
     "output_type": "execute_result"
    }
   ],
   "source": [
    "os.listdir(\"/Users/cm/GFCAT/gfcat/test_known_jpg/sorted/\")"
   ]
  },
  {
   "cell_type": "code",
   "execution_count": 36,
   "id": "46860616",
   "metadata": {},
   "outputs": [],
   "source": [
    "for fn in (os.listdir(\"/Users/cm/GFCAT/gfcat/test_gifs/sorted/adjust2/\") +\n",
    "           os.listdir(\"/Users/cm/GFCAT/gfcat/test_gifs/sorted/flares_adjust/\")):\n",
    "    #print(f\"aws s3 cp s3://dream-pool/{fn.split('-')[0]}/{fn.split('-')[0]}-nd-full.fits.gz .\")\n",
    "    #print(fn.split('-')[0],fn.split('-')[1])\n",
    "    continue"
   ]
  },
  {
   "cell_type": "markdown",
   "id": "6a529625",
   "metadata": {},
   "source": [
    "### manually revised positions for a small number of objects\n",
    "#### //eclipse  objid     ra      dec\n",
    "e06882 2182706882 310.03898  -0.86965\n",
    "\n",
    "e15112 583415112  173.68275  45.53918\n",
    "\n",
    "e29166 1128729166 355.72871   1.65753\n",
    "\n",
    "e29390 1588929390  10.92245 -42.34763\n",
    "\n",
    "e29643 965529643   53.06506 -29.51007\n",
    "\n",
    "e43201 738043201  217.15856  57.75332\n",
    "\n",
    "e03858 614703858  135.96049  52.35710\n",
    "\n",
    "e04028 404904028  189.00277  62.49956\n",
    "\n",
    "e07940 555607940    6.43415  17.08139\n",
    "\n",
    "e09709 1055909709 164.46273  -3.76613\n",
    "\n",
    "e13533 3357413533  16.65372  45.38989\n",
    "\n",
    "e13656 613113656   24.76303 -17.94913\n",
    "\n",
    "e16497 1520916497 219.53099  33.10083\n",
    "\n",
    "e18081 80418081   358.46939 -10.54433\n",
    "\n",
    "e18380 3958418380   7.70821 -71.84528\n",
    "\n",
    "e18753 958718753   51.26207 -17.21407\n",
    "\n",
    "e23505 1597023505  13.11492   0.09855\n",
    "\n",
    "e26488 1218326488 212.80185   6.83090\n",
    "\n",
    "e28619 1333228619 326.15289   0.70565\n",
    "\n",
    "e30122 549930122   53.00912 -27.04739\n",
    "\n",
    "e30668 1439130668 133.73297   2.57409\n",
    "\n",
    "e31274 1708031274 120.70829  36.45803\n",
    "\n",
    "e36705 1284736705 146.54298  15.54300\n",
    "\n",
    "e40521 1328540521  29.19705  -0.35408\n",
    "\n",
    "e40930 3656640930  70.63517  18.43965\n",
    "\n",
    "e42499 766342499  165.10157  12.73207\n",
    "\n",
    "e43238 1530943238 243.41123  54.66503\n",
    "\n",
    "e43828 1063943828 338.34099 -60.93026\n",
    "\n",
    "e44684 3062344684 308.13204   7.97132\n",
    "\n",
    "e45629 1000545629 160.64052  76.02885"
   ]
  },
  {
   "cell_type": "markdown",
   "id": "2acdd311",
   "metadata": {},
   "source": []
  }
 ],
 "metadata": {
  "kernelspec": {
   "display_name": "Python 3 (ipykernel)",
   "language": "python",
   "name": "python3"
  },
  "language_info": {
   "codemirror_mode": {
    "name": "ipython",
    "version": 3
   },
   "file_extension": ".py",
   "mimetype": "text/x-python",
   "name": "python",
   "nbconvert_exporter": "python",
   "pygments_lexer": "ipython3",
   "version": "3.9.13"
  }
 },
 "nbformat": 4,
 "nbformat_minor": 5
}
