{
 "cells": [
  {
   "cell_type": "code",
   "execution_count": 1,
   "id": "4105e239",
   "metadata": {},
   "outputs": [],
   "source": [
    "%matplotlib inline\n",
    "import matplotlib.pyplot as plt\n",
    "import numpy as np\n",
    "import pyarrow.parquet as pq\n",
    "import pandas as pd\n",
    "from rich import print\n",
    "import warnings\n",
    "import datetime\n",
    "from astropy.time import Time\n",
    "import os"
   ]
  },
  {
   "cell_type": "code",
   "execution_count": 2,
   "id": "15ff3ac6",
   "metadata": {},
   "outputs": [],
   "source": [
    "header_data = pd.read_csv('../ref/mislike_image_header_table.csv')\n",
    "catalog_filename = '../ref/catalog_nd_daostarfinder.parquet'\n",
    "catalog_file = pq.ParquetFile(catalog_filename)"
   ]
  },
  {
   "cell_type": "code",
   "execution_count": 30,
   "id": "f597c8d3",
   "metadata": {},
   "outputs": [],
   "source": [
    "#os.listdir('/Users/cm/GFCAT/gfcat/test_known_jpg/sorted/moving/' <= these are fast satellites, ignore\n",
    "tbl = pd.DataFrame({'eclipse':[],'datetime_iso':[], 'datetime_decimal':[],\n",
    "                    'ra':[],'dec':[]})\n",
    "for fn in os.listdir('/Users/cm/GFCAT/gfcat/test_gifs/sorted/moving/'):\n",
    "    eclipse = int(fn.split('-')[0][1:])\n",
    "    obj_id = int(fn.split('-')[1])\n",
    "    aspect = pq.read_table('/Users/cm/github/gphoton_working/gPhoton/aspect/aspect.parquet',\n",
    "                           filters=[('eclipse','=',eclipse)]).to_pandas()\n",
    "    obstart = aspect.loc[aspect['flags']%2==0]['time'].min()\n",
    "    #obsend = aspect.loc[aspect['flags']%2==0]['time'].max()\n",
    "    #obsdur = obsend-obstart\n",
    "    this_star = pq.read_table(catalog_filename,filters =\n",
    "                          [('eclipse','=',eclipse),\n",
    "                           ('obj_id','=',obj_id)]).to_pandas()\n",
    "\n",
    "    GPSSECS = 315532800 + 432000\n",
    "    t = obstart + GPSSECS\n",
    "    dt = datetime.datetime.fromtimestamp(t)\n",
    "    tbl = pd.concat([tbl,pd.DataFrame(\n",
    "        {'eclipse':[eclipse],'datetime_iso':[str(dt)[:-7]],\n",
    "         'datetime_decimal':[Time(dt,format='datetime').decimalyear],\n",
    "         'ra':[this_star['ra'].values[0]],'dec':[this_star['dec'].values[0]]})])\n",
    "\n",
    "tbl = tbl.sort_values('eclipse')\n",
    "tbl[['eclipse','datetime_iso','datetime_decimal','ra','dec']].to_csv('gfcat_moving_objects.csv',index=None)"
   ]
  },
  {
   "cell_type": "code",
   "execution_count": null,
   "id": "d3d237ba",
   "metadata": {},
   "outputs": [],
   "source": []
  }
 ],
 "metadata": {
  "kernelspec": {
   "display_name": "Python 3 (ipykernel)",
   "language": "python",
   "name": "python3"
  },
  "language_info": {
   "codemirror_mode": {
    "name": "ipython",
    "version": 3
   },
   "file_extension": ".py",
   "mimetype": "text/x-python",
   "name": "python",
   "nbconvert_exporter": "python",
   "pygments_lexer": "ipython3",
   "version": "3.9.15"
  }
 },
 "nbformat": 4,
 "nbformat_minor": 5
}
