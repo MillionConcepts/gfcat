{
 "cells": [
  {
   "cell_type": "code",
   "execution_count": 1,
   "id": "ef4c3c34",
   "metadata": {},
   "outputs": [],
   "source": [
    "%matplotlib inline\n",
    "import matplotlib.pyplot as plt\n",
    "import numpy as np\n",
    "import pyarrow.parquet as pq\n",
    "import pandas as pd"
   ]
  },
  {
   "cell_type": "code",
   "execution_count": 2,
   "id": "d0eb4c87",
   "metadata": {},
   "outputs": [],
   "source": [
    "header_data = pd.read_csv('../ref/mislike_image_header_table.csv')"
   ]
  },
  {
   "cell_type": "code",
   "execution_count": 3,
   "id": "8a41c6e0",
   "metadata": {},
   "outputs": [],
   "source": [
    "catalog_filename = '../ref/catalog_nd_daostarfinder.parquet'\n",
    "catalog_file = pq.ParquetFile(catalog_filename)"
   ]
  },
  {
   "cell_type": "code",
   "execution_count": 4,
   "id": "5ecdc06e",
   "metadata": {},
   "outputs": [],
   "source": [
    "eclipse = 23105\n",
    "obj_id = 1525123105"
   ]
  },
  {
   "cell_type": "code",
   "execution_count": 5,
   "id": "14b8c001",
   "metadata": {},
   "outputs": [],
   "source": [
    "this_star = pq.read_table(catalog_filename,filters =\n",
    "                          [('eclipse','=',eclipse),\n",
    "                           ('obj_id','=',obj_id)]).to_pandas()\n"
   ]
  },
  {
   "cell_type": "code",
   "execution_count": null,
   "id": "d8a4939c",
   "metadata": {},
   "outputs": [],
   "source": []
  },
  {
   "cell_type": "code",
   "execution_count": 6,
   "id": "bce745ac",
   "metadata": {},
   "outputs": [
    {
     "data": {
      "text/html": [
       "<div>\n",
       "<style scoped>\n",
       "    .dataframe tbody tr th:only-of-type {\n",
       "        vertical-align: middle;\n",
       "    }\n",
       "\n",
       "    .dataframe tbody tr th {\n",
       "        vertical-align: top;\n",
       "    }\n",
       "\n",
       "    .dataframe thead th {\n",
       "        text-align: right;\n",
       "    }\n",
       "</style>\n",
       "<table border=\"1\" class=\"dataframe\">\n",
       "  <thead>\n",
       "    <tr style=\"text-align: right;\">\n",
       "      <th></th>\n",
       "      <th>ra</th>\n",
       "      <th>dec</th>\n",
       "    </tr>\n",
       "  </thead>\n",
       "  <tbody>\n",
       "    <tr>\n",
       "      <th>0</th>\n",
       "      <td>258.737704</td>\n",
       "      <td>58.857616</td>\n",
       "    </tr>\n",
       "  </tbody>\n",
       "</table>\n",
       "</div>"
      ],
      "text/plain": [
       "           ra        dec\n",
       "0  258.737704  58.857616"
      ]
     },
     "execution_count": 6,
     "metadata": {},
     "output_type": "execute_result"
    }
   ],
   "source": [
    "this_star[['ra','dec']]"
   ]
  },
  {
   "cell_type": "code",
   "execution_count": null,
   "id": "abda6aa7",
   "metadata": {},
   "outputs": [],
   "source": []
  }
 ],
 "metadata": {
  "kernelspec": {
   "display_name": "Python 3 (ipykernel)",
   "language": "python",
   "name": "python3"
  },
  "language_info": {
   "codemirror_mode": {
    "name": "ipython",
    "version": 3
   },
   "file_extension": ".py",
   "mimetype": "text/x-python",
   "name": "python",
   "nbconvert_exporter": "python",
   "pygments_lexer": "ipython3",
   "version": "3.9.13"
  }
 },
 "nbformat": 4,
 "nbformat_minor": 5
}
