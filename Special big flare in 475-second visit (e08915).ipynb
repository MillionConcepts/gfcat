{
 "cells": [
  {
   "cell_type": "code",
   "execution_count": 1,
   "id": "df1ec777",
   "metadata": {},
   "outputs": [],
   "source": [
    "%matplotlib inline"
   ]
  },
  {
   "cell_type": "code",
   "execution_count": 2,
   "id": "a579694e",
   "metadata": {},
   "outputs": [],
   "source": [
    "from gfcat_utils import *"
   ]
  },
  {
   "cell_type": "code",
   "execution_count": 3,
   "id": "786308f1",
   "metadata": {},
   "outputs": [],
   "source": [
    "import numpy as np\n",
    "from astropy.io import fits as pyfits\n",
    "from astropy import wcs as pywcs\n",
    "from astropy.visualization import simple_norm, ZScaleInterval\n",
    "import imageio\n",
    "from matplotlib.patches import Circle, Rectangle"
   ]
  },
  {
   "cell_type": "code",
   "execution_count": 4,
   "id": "0e142c42",
   "metadata": {},
   "outputs": [],
   "source": [
    "if not sys.warnoptions:\n",
    "    import warnings\n",
    "    warnings.simplefilter(\"ignore\")"
   ]
  },
  {
   "cell_type": "code",
   "execution_count": 10,
   "id": "3240f73d",
   "metadata": {
    "scrolled": false
   },
   "outputs": [
    {
     "data": {
      "text/html": [
       "<pre style=\"white-space:pre;overflow-x:auto;line-height:normal;font-family:Menlo,'DejaVu Sans Mono',consolas,'Courier New',monospace\">Processing e08915<span style=\"color: #808000; text-decoration-color: #808000\">...</span>\n",
       "</pre>\n"
      ],
      "text/plain": [
       "Processing e08915\u001b[33m...\u001b[0m\n"
      ]
     },
     "metadata": {},
     "output_type": "display_data"
    },
    {
     "name": "stderr",
     "output_type": "stream",
     "text": [
      "\r",
      "  0%|                                                     | 0/1 [00:00<?, ?it/s]"
     ]
    },
    {
     "data": {
      "text/html": [
       "<pre style=\"white-space:pre;overflow-x:auto;line-height:normal;font-family:Menlo,'DejaVu Sans Mono',consolas,'Courier New',monospace\"><span style=\"font-weight: bold\">{</span><span style=\"color: #008000; text-decoration-color: #008000\">'id'</span>: <span style=\"font-weight: bold\">[]}</span>\n",
       "</pre>\n"
      ],
      "text/plain": [
       "\u001b[1m{\u001b[0m\u001b[32m'id'\u001b[0m: \u001b[1m[\u001b[0m\u001b[1m]\u001b[0m\u001b[1m}\u001b[0m\n"
      ]
     },
     "metadata": {},
     "output_type": "display_data"
    },
    {
     "name": "stderr",
     "output_type": "stream",
     "text": [
      "100%|█████████████████████████████████████████████| 1/1 [00:03<00:00,  3.54s/it]\n"
     ]
    },
    {
     "data": {
      "text/html": [
       "<pre style=\"white-space:pre;overflow-x:auto;line-height:normal;font-family:Menlo,'DejaVu Sans Mono',consolas,'Courier New',monospace\"><span style=\"font-weight: bold\">{}</span>\n",
       "</pre>\n"
      ],
      "text/plain": [
       "\u001b[1m{\u001b[0m\u001b[1m}\u001b[0m\n"
      ]
     },
     "metadata": {},
     "output_type": "display_data"
    },
    {
     "data": {
      "text/html": [
       "<pre style=\"white-space:pre;overflow-x:auto;line-height:normal;font-family:Menlo,'DejaVu Sans Mono',consolas,'Courier New',monospace\">writing <span style=\"color: #800080; text-decoration-color: #800080\">/Users/cm/GFCAT/gfcat/tmp//e08915/</span><span style=\"color: #ff00ff; text-decoration-color: #ff00ff\">e08915-nd-30s-37655.gif</span>\n",
       "</pre>\n"
      ],
      "text/plain": [
       "writing \u001b[35m/Users/cm/GFCAT/gfcat/tmp/\u001b[0m\u001b[35m/e08915/\u001b[0m\u001b[95me08915-nd-30s-37655.gif\u001b[0m\n"
      ]
     },
     "metadata": {},
     "output_type": "display_data"
    }
   ],
   "source": [
    "band = 'NUV'\n",
    "b = band[0].lower()+'d'\n",
    "for eclipse in [8915,]:#7068,3090,9204,13461,14256,21066,32394,41726,\n",
    "                #5024,12958,13642,15133,27702,38424,\n",
    "                #42161]:\n",
    "    e = str(eclipse).zfill(5)\n",
    "    print(f\"Processing e{e}...\")\n",
    "    tmpdir = \"/Users/cm/GFCAT/gfcat/tmp/\"\n",
    "    lc_filename = f\"/Users/cm/github/gphoton_working/test_data/e{e}/e{e}-{b}-30s-photom-12_8.csv\"\n",
    "    fn = f\"/Users/cm/github/gphoton_working/test_data/e{e}/e{e}-{b}-full-rice.fits\"\n",
    "    fn_mov = f\"/Users/cm/github/gphoton_working/test_data/e{e}/e{e}-{b}-30s-rice.fits\"\n",
    "    lc = parse_lightcurves(lc_filename)\n",
    "\n",
    "    x = np.array([source['xcenter'] for source in lc])\n",
    "    y = np.array([source['ycenter'] for source in lc])\n",
    "    cps = np.array([np.nanmean(source['cps']) for source in lc])\n",
    "\n",
    "    variables = screen_gfcat([eclipse],band=band,aper_radius=12.8,photdir=\"/Users/cm/github/gphoton_working/test_data\")\n",
    "    print(variables)\n",
    "\n",
    "    #if not len(variables):\n",
    "    #    continue\n",
    "    movmap,flagmap,edgemap,wcs,tranges,exptimes=read_image(fn_mov,hdunum=1)\n",
    "    movmap[np.where(np.isinf(movmap))]=0 # because it pops out with inf values... IDK\n",
    "    movmap[np.where(movmap<0)]=0\n",
    "    \n",
    "    for source_ix in [37655]:#variables[eclipse]:        \n",
    "        assert len(lc[source_ix]['cps'])==np.shape(movmap)[0]\n",
    "        imgx,imgy = lc[source_ix]['xcenter'],lc[source_ix]['ycenter']\n",
    "        \n",
    "        if not os.path.exists(f'{tmpdir}/e{e}/'):\n",
    "            os.makedirs(f'{tmpdir}/e{e}/')\n",
    "\n",
    "        imsz = np.shape(movmap[0])\n",
    "\n",
    "        # crop on the subframe\n",
    "        boxsz = 200\n",
    "        x1, x2, y1, y2 = (max(int(imgy - boxsz),0),\n",
    "                          min(int(imgy + boxsz),imsz[0]),\n",
    "                          max(int(imgx - boxsz),0),\n",
    "                          min(int(imgx + boxsz),imsz[1]))\n",
    "\n",
    "        # crop on the full frame\n",
    "        x1_,x2_,y1_,y2_ = (max(int(imsz[0]/2-imsz[0]/2),0),\n",
    "                           min(int(imsz[0]/2+imsz[0]/2),imsz[0]),\n",
    "                           max(int(imsz[1]/2-imsz[0]/2),0),\n",
    "                           min(int(imsz[1]/2+imsz[0]/2),imsz[1]))\n",
    "\n",
    "        gs = gridspec.GridSpec(nrows=4, ncols=6)#, height_ratios=[1, 1, 2])\n",
    "\n",
    "        # write individual frames of the animated gif\n",
    "        for i,frame in enumerate(movmap): # probably eliminate the first / last frame, which always has lower exposure\n",
    "            fig = plt.figure(figsize=(12,9));\n",
    "            fig.tight_layout()\n",
    "            ax = fig.add_subplot(gs[:3,:3])\n",
    "            opacity = (edgemap[i]+flagmap[i])/2\n",
    "            # M, N, 3 or M, N, 4\n",
    "            ax.imshow(edgemap[i][x1_:x2_,y1_:y2_],origin=\"lower\",cmap=\"Reds\",alpha=opacity[x1_:x2_,y1_:y2_])\n",
    "            ax.imshow(flagmap[i][x1_:x2_,y1_:y2_],origin=\"lower\",cmap=\"Blues\",alpha=opacity[x1_:x2_,y1_:y2_])\n",
    "            ax.imshow(np.stack([ZScaleInterval()(frame[x1_:x2_,y1_:y2_]),\n",
    "                                 ZScaleInterval()(frame[x1_:x2_,y1_:y2_]),\n",
    "                                 ZScaleInterval()(frame[x1_:x2_,y1_:y2_]),\n",
    "                                 1-opacity[x1_:x2_,y1_:y2_]],axis=2),origin=\"lower\")\n",
    "            ax.set_xticks([])\n",
    "            ax.set_yticks([])\n",
    "            rect = Rectangle((y1-y1_, x1-x1_), 2*boxsz, 2*boxsz, linewidth=1, edgecolor='y', facecolor='none',ls='solid')\n",
    "            ax.add_patch(rect)\n",
    "\n",
    "            ax = fig.add_subplot(gs[:3,3:])\n",
    "            ax.imshow(edgemap[i][x1:x2,y1:y2],origin=\"lower\",cmap=\"Reds\",alpha=opacity[x1:x2,y1:y2])\n",
    "            ax.imshow(flagmap[i][x1:x2,y1:y2],origin=\"lower\",cmap=\"Blues\",alpha=opacity[x1:x2,y1:y2])\n",
    "            ax.imshow(np.stack([ZScaleInterval()(frame[x1:x2,y1:y2]),\n",
    "                                 ZScaleInterval()(frame[x1:x2,y1:y2]),\n",
    "                                 ZScaleInterval()(frame[x1:x2,y1:y2]),\n",
    "                                 1-opacity[x1:x2,y1:y2]],axis=2),origin=\"lower\")\n",
    "            ax.set_xticks([])\n",
    "            ax.set_xticks([])\n",
    "            ax.set_yticks([])\n",
    "            circ = Circle((boxsz,boxsz),20,linewidth=1,edgecolor='y',facecolor='none',ls='solid')\n",
    "            ax.add_patch(circ)\n",
    "\n",
    "            ax = fig.add_subplot(gs[3:,:])\n",
    "            ax.set_xticks([])\n",
    "            t = np.arange(len(lc[source_ix]['cps']))\n",
    "            cps = lc[source_ix]['cps']\n",
    "            cps_err = lc[source_ix]['cps_err']\n",
    "            min_i,max_i=np.argmin(cps),np.argmax(cps)\n",
    "            ax.vlines(t[i],cps[min_i]-3*cps_err[min_i],\n",
    "                           cps[max_i]+3*cps_err[max_i],ls='dotted')\n",
    "            ax.scatter(t[i],cps[i],c='y',s=100,marker='o')\n",
    "            ax.errorbar(t,cps,yerr=cps_err*3,fmt='k.-')\n",
    "            \n",
    "            plt.savefig(f'{tmpdir}/e{e}/e{e}-{b}-30s-{str(i).zfill(2)}-{str(source_ix).zfill(5)}.png',dpi=100)\n",
    "            plt.close()\n",
    "        \n",
    "        cleanup=True\n",
    "        n_frames = np.shape(movmap)[0]\n",
    "        # write the animated gif\n",
    "        gif_fn = f'{tmpdir}/e{e}/e{e}-{b}-30s-{str(source_ix).zfill(5)}.gif'\n",
    "        print(f\"writing {gif_fn}\")\n",
    "        with imageio.get_writer(gif_fn, mode='I', fps=6) as writer:\n",
    "            for i in np.arange(n_frames):\n",
    "                frame_fn = f'{tmpdir}/e{e}/e{e}-{b}-30s-{str(i).zfill(2)}-{str(source_ix).zfill(5)}.png'\n",
    "                image = imageio.imread(frame_fn)\n",
    "                writer.append_data(image)\n",
    "                if cleanup:\n",
    "                    os.remove(frame_fn)\n",
    "                    "
   ]
  },
  {
   "cell_type": "code",
   "execution_count": 6,
   "id": "ab6690c2",
   "metadata": {},
   "outputs": [
    {
     "data": {
      "text/plain": [
       "(0.0, 350.0)"
      ]
     },
     "execution_count": 6,
     "metadata": {},
     "output_type": "execute_result"
    },
    {
     "data": {
      "image/png": "[encoded data removed]",
      "text/plain": [
       "<Figure size 1200x300 with 1 Axes>"
      ]
     },
     "metadata": {},
     "output_type": "display_data"
    }
   ],
   "source": [
    "i = 37655\n",
    "plt.figure(figsize=(12,3))\n",
    "plt.title(i)\n",
    "plt.plot(lc[i]['cps'])\n",
    "plt.ylim([0,350])"
   ]
  },
  {
   "cell_type": "code",
   "execution_count": 7,
   "id": "467963be",
   "metadata": {},
   "outputs": [],
   "source": [
    "i = 37655\n",
    "lc = parse_lightcurves(lc_filename)[i]\n",
    "expt_fn = lc_filename.split('photom')[0]+'exptime.csv'\n",
    "expt = parse_exposure_time(expt_fn)\n",
    "\n",
    "if not any(lc['cps']>0.5):\n",
    "    print(\"too dim to be meaningful\")\n",
    "if any(lc['edge_flags']):\n",
    "    print(\"skip if there is any data near the detector edge\")\n",
    "if any(lc['mask_flags']): #if all(lc['mask_flags'][ix]):\n",
    "    print(\"skip if there is any data covered by the hotspot mask\")\n",
    "ix = np.where((lc['cps']!=0) & (np.isfinite(lc['cps'])))[0]\n",
    "if expt['t1'][ix[-1]] - expt['t0'][ix[0]]<500:\n",
    "    print(\"skip if there are not at least 8 min of exposure on target\")\n",
    "    # This duration was chosen to eliminate a relatively high number of false positives\n",
    "    # in shorter visits. It is approx. 1/3rd duration of a full MIS-depth visit.\n",
    "if len(ix)/(ix[-1]+1-ix[0])<0.75:\n",
    "    print(\"skip if more than a quarter of the bins are unobserved\")\n",
    "sort_ix = np.argsort(lc[\"cps\"][ix])\n",
    "sigma=3\n",
    "second_min = np.sort((lc['cps']+lc['cps_err']*sigma)[ix])[1]\n",
    "outlier_ix = np.where((lc['cps'] - lc['cps_err'] * sigma)[ix] > second_min)[0]\n",
    "if len(outlier_ix) < 3:\n",
    "    print(\"skip if there are not 3 significant outliers using the dumbest heuristic\")\n",
    "if is_spiky(lc):\n",
    "    print(\"skip: multiple spiky peaks, most likely contaminated by an artifact\")\n",
    "peak_ix, _ = signal.find_peaks(lc['cps'], prominence=3 * lc['cps_err'], distance=4)\n",
    "if len(peak_ix):\n",
    "    if len(peak_ix) > 3:\n",
    "        print(\"skip multiple spiky peaks, most likely contaminated by an artifact\")\n",
    "ad = stats.anderson(lc['cps'][ix])  # standard test of variability\n",
    "if ad.statistic <= ad.critical_values[2]:\n",
    "    print(\"failed the anderson-darling test at 5%\")\n"
   ]
  },
  {
   "cell_type": "code",
   "execution_count": 8,
   "id": "5b190bb7",
   "metadata": {},
   "outputs": [
    {
     "data": {
      "text/plain": [
       "476.5609077447141"
      ]
     },
     "execution_count": 8,
     "metadata": {},
     "output_type": "execute_result"
    }
   ],
   "source": [
    "np.sum(expt['expt_eff'])"
   ]
  },
  {
   "cell_type": "code",
   "execution_count": 12,
   "id": "7807b648",
   "metadata": {},
   "outputs": [
    {
     "data": {
      "text/plain": [
       "(101.99901982813411, -36.5516445434312)"
      ]
     },
     "execution_count": 12,
     "metadata": {},
     "output_type": "execute_result"
    }
   ],
   "source": [
    "lc[i]['ra'],lc[i]['dec']"
   ]
  },
  {
   "cell_type": "code",
   "execution_count": null,
   "id": "a2f148c7",
   "metadata": {},
   "outputs": [],
   "source": []
  }
 ],
 "metadata": {
  "kernelspec": {
   "display_name": "Python 3 (ipykernel)",
   "language": "python",
   "name": "python3"
  },
  "language_info": {
   "codemirror_mode": {
    "name": "ipython",
    "version": 3
   },
   "file_extension": ".py",
   "mimetype": "text/x-python",
   "name": "python",
   "nbconvert_exporter": "python",
   "pygments_lexer": "ipython3",
   "version": "3.9.13"
  }
 },
 "nbformat": 4,
 "nbformat_minor": 5
}
